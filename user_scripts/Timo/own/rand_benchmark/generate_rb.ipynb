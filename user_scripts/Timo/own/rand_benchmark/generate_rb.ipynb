{
 "cells": [
  {
   "cell_type": "code",
   "execution_count": 757,
   "id": "e1c0172b",
   "metadata": {},
   "outputs": [
    {
     "data": {
      "text/plain": [
       "'0.19.1'"
      ]
     },
     "execution_count": 757,
     "metadata": {},
     "output_type": "execute_result"
    }
   ],
   "source": [
    "from math import gcd \n",
    "import math\n",
    "import numpy as np\n",
    "import matplotlib.pyplot as plt\n",
    "import os\n",
    "import random\n",
    "from datetime import datetime\n",
    "\n",
    "import qiskit\n",
    "from qiskit import assemble, transpile\n",
    "from qiskit.providers.aer.noise import NoiseModel\n",
    "from qiskit.providers.aer.noise.errors.standard_errors import depolarizing_error, thermal_relaxation_error\n",
    "import qiskit.ignis.verification.randomized_benchmarking as rb\n",
    "\n",
    "qiskit.__version__"
   ]
  },
  {
   "cell_type": "markdown",
   "id": "085ec5ca",
   "metadata": {
    "heading_collapsed": true
   },
   "source": [
    "# Library"
   ]
  },
  {
   "cell_type": "code",
   "execution_count": 1183,
   "id": "2cdd41eb",
   "metadata": {
    "hidden": true
   },
   "outputs": [
    {
     "data": {
      "text/plain": [
       "0"
      ]
     },
     "execution_count": 1183,
     "metadata": {},
     "output_type": "execute_result"
    }
   ],
   "source": [
    "def circuit_step_2_qubit_idx(cstep, swap_qubits=False):\n",
    "    qregister = cstep[1]\n",
    "    if len(qregister) == 2:\n",
    "        return [0,1]\n",
    "    elif len(qregister) == 1:\n",
    "        reg_str = str(qregister[0])\n",
    "        if \", 1\" in reg_str:\n",
    "            return [1] if not swap_qubits else [0]\n",
    "        elif \", 0\" in reg_str:\n",
    "            return [0] if not swap_qubits else [1]\n",
    "    elif len(qregister) > 2:\n",
    "        raise NotImplementedError\n",
    "\n",
    "def circuit_step_2_gatestr(cstep):\n",
    "    return cstep[0].name, [float(p) for p in cstep[0].params]\n",
    "\n",
    "def circuit_2_step_list(circ, qubit_idx=0, swap_qubits=False):\n",
    "    gate_strs, on_nv = [],[]\n",
    "    for step in circ.data:\n",
    "         gate_strs.append(circuit_step_2_gatestr(step))\n",
    "         on_nv.append(circuit_step_2_qubit_idx(step, swap_qubits=swap_qubits))\n",
    "    \n",
    "    step_list = list(zip(gate_strs, on_nv))\n",
    "    #return step_list\n",
    "    return [step for step in step_list if qubit_idx in step[1]]\n",
    "\n",
    "def serialize_step_list(steps_q0, steps_q1):\n",
    "    # todo: seems over-complicated, but works\n",
    "    ser_list = []\n",
    "    \n",
    "    idx_0, idx_1 = 0, 0\n",
    "    while not (idx_0==len(steps_q0) and idx_1==len(steps_q1)):   \n",
    "        is_end_0, is_end_1 = False, False\n",
    "        is_2q_0, is_2q_1 = False, False\n",
    "        try:\n",
    "            is_2q_0 = len(steps_q0[idx_0][1]) == 2\n",
    "        except IndexError:\n",
    "            is_end_0 = True\n",
    "        try:\n",
    "            is_2q_1 = len(steps_q1[idx_1][1]) == 2\n",
    "        except IndexError:\n",
    "            is_end_1 = True\n",
    "        \n",
    "        #print(f\"Now list: {ser_list}. \\nEnd: {is_end_0}, {is_end_1}, 2q: {is_2q_0}, {is_2q_1}\")\n",
    "        try:\n",
    "            if (not is_2q_0) and (not is_2q_1) and (not is_end_0) and (not is_end_1):\n",
    "                ser_list.append(steps_q0[idx_0])\n",
    "                ser_list.append(steps_q1[idx_1])\n",
    "                idx_0 += 1\n",
    "                idx_1 += 1\n",
    "\n",
    "            elif (is_2q_0) and (not is_2q_1) and (not is_end_1):\n",
    "                ser_list.append(steps_q1[idx_1])\n",
    "                idx_1 += 1\n",
    "\n",
    "            elif (not is_2q_0) and (is_2q_1) and (not is_end_0):\n",
    "                ser_list.append(steps_q0[idx_0])\n",
    "                idx_0 += 1\n",
    "\n",
    "            elif (is_2q_0) and (is_2q_1):\n",
    "                ser_list.append(steps_q0[idx_0])\n",
    "                idx_0 += 1\n",
    "                idx_1 += 1\n",
    "            elif is_end_0:\n",
    "                ser_list.append(steps_q1[idx_1])\n",
    "                idx_1 += 1\n",
    "            elif is_end_1:\n",
    "                ser_list.append(steps_q0[idx_0])\n",
    "                idx_0 += 1\n",
    "            else:\n",
    "                raise RuntimeError(f\"Failed at idxs {idx_0}, {idx_1}\")\n",
    "                \n",
    "        except IndexError:\n",
    "            raise IndexError(f\"Failed at idxs {idx_0}, {idx_1}\")\n",
    "        \n",
    "            \n",
    "    return ser_list\n",
    "\n",
    "def get_n_cx(circ):\n",
    "    return np.sum([el[0].name=='cx' for el in circ.data])\n",
    "\n",
    "0"
   ]
  },
  {
   "cell_type": "markdown",
   "id": "e417d770",
   "metadata": {},
   "source": [
    "# Create random benchmarking list\n"
   ]
  },
  {
   "cell_type": "code",
   "execution_count": 1236,
   "id": "b32274a5",
   "metadata": {},
   "outputs": [
    {
     "data": {
      "text/plain": [
       "{'n_qubits': 2,\n",
       " 'timestamp': '20230130-0931-35',\n",
       " 'qiskit_version': '0.19.1',\n",
       " 'rb_options': {'length_vector': [1, 2, 3, 4, 5, 6, 7, 8, 9],\n",
       "  'nseeds': 10,\n",
       "  'rb_pattern': [[0, 1]]}}"
      ]
     },
     "execution_count": 1236,
     "metadata": {},
     "output_type": "execute_result"
    }
   ],
   "source": [
    "params = {}\n",
    "\n",
    "# number of qubits\n",
    "params['n_qubits'] = 2\n",
    "\n",
    "\n",
    "rb_opts = {}\n",
    "#Number of Cliffords in the sequence\n",
    "rb_opts['length_vector'] = [i for i in range(1,10)]\n",
    "#rb_opts['length_vector'] = [2,4,8,16,32,48,64,96,128,144,192, 256]\n",
    "# Number of seeds (random sequences)\n",
    "rb_opts['nseeds'] = 10\n",
    "# Default pattern\n",
    "rb_opts['rb_pattern'] = [[0,1]] if params['n_qubits']==2 else [[0]]\n",
    "\n",
    "rb_circs, xdata = rb.randomized_benchmarking_seq(**rb_opts)\n",
    "# transpose rb_circ st 2nd index is random index\n",
    "rb_circs = list(map(list, zip(*rb_circs)))\n",
    "\n",
    "now = datetime.now() # current date and time\n",
    "params['timestamp'] = now.strftime(\"%Y%m%d-%H%M-%S\")\n",
    "params['qiskit_version'] = qiskit.__version__\n",
    "params['rb_options'] = rb_opts\n",
    "\n",
    "params"
   ]
  },
  {
   "cell_type": "code",
   "execution_count": 1237,
   "id": "69af744c",
   "metadata": {},
   "outputs": [
    {
     "data": {
      "text/plain": [
       "(10, array([[1, 2, 3, 4, 5, 6, 7, 8, 9]]))"
      ]
     },
     "execution_count": 1237,
     "metadata": {},
     "output_type": "execute_result"
    }
   ],
   "source": [
    "len(rb_circs[0]), xdata"
   ]
  },
  {
   "cell_type": "code",
   "execution_count": 1238,
   "id": "eec037e2",
   "metadata": {},
   "outputs": [
    {
     "data": {
      "text/plain": [
       "array([ 2.6,  4.1,  5.3,  7. ,  8.1,  9.5, 11.3, 13.1, 14.5])"
      ]
     },
     "execution_count": 1238,
     "metadata": {},
     "output_type": "execute_result"
    }
   ],
   "source": [
    "# calculate number of cnots per xdata step\n",
    "arr = np.zeros((len(rb_circs),len(rb_circs[0])))\n",
    "for i in range(0, len(rb_circs)):\n",
    "    for j in range(0, len(rb_circs[0])):\n",
    "        arr[i,j] = get_n_cx(rb_circs[i][j])\n",
    "        \n",
    "np.mean(arr, axis=1)"
   ]
  },
  {
   "cell_type": "code",
   "execution_count": 1239,
   "id": "6118411c",
   "metadata": {},
   "outputs": [
    {
     "data": {
      "text/html": [
       "<pre style=\"word-wrap: normal;white-space: pre;background: #fff0;line-height: 1.1;font-family: &quot;Courier New&quot;,Courier,monospace\">      ┌───┐┌───┐               ┌─────┐┌───┐      ░       ┌───┐ ┌───┐     »\n",
       "qr_0: ┤ Y ├┤ S ├────────────■──┤ Sdg ├┤ H ├──■───░───■───┤ H ├─┤ S ├──■──»\n",
       "      ├───┤├───┤┌───┐┌───┐┌─┴─┐└┬───┬┘├───┤┌─┴─┐ ░ ┌─┴─┐┌┴───┴┐├───┤┌─┴─┐»\n",
       "qr_1: ┤ Z ├┤ S ├┤ H ├┤ S ├┤ X ├─┤ H ├─┤ S ├┤ X ├─░─┤ X ├┤ Sdg ├┤ H ├┤ X ├»\n",
       "      └───┘└───┘└───┘└───┘└───┘ └───┘ └───┘└───┘ ░ └───┘└─────┘└───┘└───┘»\n",
       "cr: 2/═══════════════════════════════════════════════════════════════════»\n",
       "                                                                         »\n",
       "«      ┌─────┐┌───┐       ┌─┐        \n",
       "«qr_0: ┤ Sdg ├┤ Y ├───────┤M├────────\n",
       "«      ├─────┤├───┤┌─────┐└╥┘┌───┐┌─┐\n",
       "«qr_1: ┤ Sdg ├┤ H ├┤ Sdg ├─╫─┤ Z ├┤M├\n",
       "«      └─────┘└───┘└─────┘ ║ └───┘└╥┘\n",
       "«cr: 2/════════════════════╩═══════╩═\n",
       "«                          0       1 </pre>"
      ],
      "text/plain": [
       "      ┌───┐┌───┐               ┌─────┐┌───┐      ░       ┌───┐ ┌───┐     »\n",
       "qr_0: ┤ Y ├┤ S ├────────────■──┤ Sdg ├┤ H ├──■───░───■───┤ H ├─┤ S ├──■──»\n",
       "      ├───┤├───┤┌───┐┌───┐┌─┴─┐└┬───┬┘├───┤┌─┴─┐ ░ ┌─┴─┐┌┴───┴┐├───┤┌─┴─┐»\n",
       "qr_1: ┤ Z ├┤ S ├┤ H ├┤ S ├┤ X ├─┤ H ├─┤ S ├┤ X ├─░─┤ X ├┤ Sdg ├┤ H ├┤ X ├»\n",
       "      └───┘└───┘└───┘└───┘└───┘ └───┘ └───┘└───┘ ░ └───┘└─────┘└───┘└───┘»\n",
       "cr: 2/═══════════════════════════════════════════════════════════════════»\n",
       "                                                                         »\n",
       "«      ┌─────┐┌───┐       ┌─┐        \n",
       "«qr_0: ┤ Sdg ├┤ Y ├───────┤M├────────\n",
       "«      ├─────┤├───┤┌─────┐└╥┘┌───┐┌─┐\n",
       "«qr_1: ┤ Sdg ├┤ H ├┤ Sdg ├─╫─┤ Z ├┤M├\n",
       "«      └─────┘└───┘└─────┘ ║ └───┘└╥┘\n",
       "«cr: 2/════════════════════╩═══════╩═\n",
       "«                          0       1 "
      ]
     },
     "execution_count": 1239,
     "metadata": {},
     "output_type": "execute_result"
    }
   ],
   "source": [
    "circ = rb_circs[0][9]  # indices: n_order, m_random\n",
    "circ.draw()\n"
   ]
  },
  {
   "cell_type": "markdown",
   "id": "fd86d810",
   "metadata": {},
   "source": [
    "The defualt gate set used is by qiskit convention (X,Y,Sdg,H,CX). We transpile to a somewhat more useful gate set for NV experiment (1, pi2_x, pi2_y, CNOT)."
   ]
  },
  {
   "cell_type": "code",
   "execution_count": 1240,
   "id": "8ba44657",
   "metadata": {},
   "outputs": [],
   "source": [
    "import copy as cp\n",
    "\n",
    "rb_circs_native = []\n",
    "for circ_list in rb_circs:\n",
    "    rb_i = []\n",
    "    for circ_in in circ_list:\n",
    "        rb_i.append(transpile(circ_in, basis_gates=['id', 'ry', 'rx', 'cx']) )\n",
    "    rb_circs_native.append(cp.deepcopy(rb_i))"
   ]
  },
  {
   "cell_type": "code",
   "execution_count": 1241,
   "id": "7c97b1f6",
   "metadata": {},
   "outputs": [
    {
     "data": {
      "text/html": [
       "<pre style=\"word-wrap: normal;white-space: pre;background: #fff0;line-height: 1.1;font-family: &quot;Courier New&quot;,Courier,monospace\">global phase: π\n",
       "      ┌─────────┐┌──────────┐┌──────────┐     ┌─────────┐┌─────────┐ ░ »\n",
       "qr_0: ┤ Rx(π/2) ├┤ Ry(-π/2) ├┤ Rx(-π/2) ├──■──┤ Ry(π/2) ├┤ Rx(π/2) ├─░─»\n",
       "      └┬───────┬┘└──────────┘└──────────┘┌─┴─┐├─────────┤├─────────┤ ░ »\n",
       "qr_1: ─┤ Rx(π) ├─────────────────────────┤ X ├┤ Ry(π/2) ├┤ Rx(π/2) ├─░─»\n",
       "       └───────┘                         └───┘└─────────┘└─────────┘ ░ »\n",
       "cr: 2/═════════════════════════════════════════════════════════════════»\n",
       "                                                                       »\n",
       "«      ┌──────────┐┌──────────┐     ┌─────────┐┌─────────┐┌──────────┐┌─┐\n",
       "«qr_0: ┤ Rx(-π/2) ├┤ Ry(-π/2) ├──■──┤ Rx(π/2) ├┤ Ry(π/2) ├┤ Rx(-π/2) ├┤M├\n",
       "«      ├──────────┤├──────────┤┌─┴─┐└┬───────┬┘└───┬─┬───┘└──────────┘└╥┘\n",
       "«qr_1: ┤ Rx(-π/2) ├┤ Ry(-π/2) ├┤ X ├─┤ Rx(π) ├─────┤M├─────────────────╫─\n",
       "«      └──────────┘└──────────┘└───┘ └───────┘     └╥┘                 ║ \n",
       "«cr: 2/═════════════════════════════════════════════╩══════════════════╩═\n",
       "«                                                   1                  0 </pre>"
      ],
      "text/plain": [
       "global phase: π\n",
       "      ┌─────────┐┌──────────┐┌──────────┐     ┌─────────┐┌─────────┐ ░ »\n",
       "qr_0: ┤ Rx(π/2) ├┤ Ry(-π/2) ├┤ Rx(-π/2) ├──■──┤ Ry(π/2) ├┤ Rx(π/2) ├─░─»\n",
       "      └┬───────┬┘└──────────┘└──────────┘┌─┴─┐├─────────┤├─────────┤ ░ »\n",
       "qr_1: ─┤ Rx(π) ├─────────────────────────┤ X ├┤ Ry(π/2) ├┤ Rx(π/2) ├─░─»\n",
       "       └───────┘                         └───┘└─────────┘└─────────┘ ░ »\n",
       "cr: 2/═════════════════════════════════════════════════════════════════»\n",
       "                                                                       »\n",
       "«      ┌──────────┐┌──────────┐     ┌─────────┐┌─────────┐┌──────────┐┌─┐\n",
       "«qr_0: ┤ Rx(-π/2) ├┤ Ry(-π/2) ├──■──┤ Rx(π/2) ├┤ Ry(π/2) ├┤ Rx(-π/2) ├┤M├\n",
       "«      ├──────────┤├──────────┤┌─┴─┐└┬───────┬┘└───┬─┬───┘└──────────┘└╥┘\n",
       "«qr_1: ┤ Rx(-π/2) ├┤ Ry(-π/2) ├┤ X ├─┤ Rx(π) ├─────┤M├─────────────────╫─\n",
       "«      └──────────┘└──────────┘└───┘ └───────┘     └╥┘                 ║ \n",
       "«cr: 2/═════════════════════════════════════════════╩══════════════════╩═\n",
       "«                                                   1                  0 "
      ]
     },
     "execution_count": 1241,
     "metadata": {},
     "output_type": "execute_result"
    }
   ],
   "source": [
    "\n",
    "circ = rb_circs_native[0][0]\n",
    "circ.draw()\n"
   ]
  },
  {
   "cell_type": "code",
   "execution_count": 1055,
   "id": "25856e0b",
   "metadata": {},
   "outputs": [
    {
     "data": {
      "text/plain": [
       "[-1.5707963267948966]"
      ]
     },
     "execution_count": 1055,
     "metadata": {},
     "output_type": "execute_result"
    }
   ],
   "source": [
    "circ.data[0][0].params"
   ]
  },
  {
   "cell_type": "markdown",
   "id": "b25c9927",
   "metadata": {},
   "source": [
    "## Serialize to non-parallel qubit operations"
   ]
  },
  {
   "cell_type": "markdown",
   "id": "0f9b5e97",
   "metadata": {},
   "source": [
    "Don't do 1q operations in parallel, but step by step."
   ]
  },
  {
   "cell_type": "code",
   "execution_count": 703,
   "id": "1e5d3ffb",
   "metadata": {},
   "outputs": [
    {
     "data": {
      "text/plain": [
       "(0, 8)"
      ]
     },
     "execution_count": 703,
     "metadata": {},
     "output_type": "execute_result"
    }
   ],
   "source": [
    "len(steps_q0), len(steps_q1)"
   ]
  },
  {
   "cell_type": "code",
   "execution_count": 1188,
   "id": "6c3cc830",
   "metadata": {},
   "outputs": [
    {
     "data": {
      "text/plain": [
       "[(('rx', [1.5707963267948966]), [0]),\n",
       " (('rx', [1.5707963267948966]), [1]),\n",
       " (('ry', [-1.5707963267948968]), [1]),\n",
       " (('cx', []), [0, 1]),\n",
       " (('ry', [1.5707963267948966]), [0]),\n",
       " (('ry', [1.5707963267948966]), [1]),\n",
       " (('rx', [1.5707963267948966]), [0]),\n",
       " (('rx', [1.5707963267948966]), [1]),\n",
       " (('cx', []), [0, 1]),\n",
       " (('barrier', []), [0, 1]),\n",
       " (('rx', [1.5707963267948966]), [0]),\n",
       " (('ry', [-1.5707963267948968]), [1]),\n",
       " (('ry', [-1.5707963267948966]), [0]),\n",
       " (('rx', [-1.5707963267948966]), [0]),\n",
       " (('cx', []), [0, 1]),\n",
       " (('ry', [1.5707963267948966]), [0]),\n",
       " (('rx', [1.5707963267948966]), [0]),\n",
       " (('barrier', []), [0, 1]),\n",
       " (('cx', []), [0, 1]),\n",
       " (('ry', [1.5707963267948966]), [0]),\n",
       " (('ry', [1.5707963267948966]), [1]),\n",
       " (('rx', [1.5707963267948966]), [0]),\n",
       " (('rx', [1.5707963267948966]), [1]),\n",
       " (('cx', []), [0, 1]),\n",
       " (('rx', [-1.5707963267948966]), [0]),\n",
       " (('rx', [-1.5707963267948966]), [1]),\n",
       " (('ry', [-1.5707963267948966]), [0]),\n",
       " (('ry', [-1.5707963267948966]), [1]),\n",
       " (('cx', []), [0, 1]),\n",
       " (('rx', [-1.5707963267948966]), [0]),\n",
       " (('ry', [1.5707963267948966]), [1]),\n",
       " (('ry', [1.5707963267948966]), [0]),\n",
       " (('measure', []), [1]),\n",
       " (('measure', []), [0])]"
      ]
     },
     "execution_count": 1188,
     "metadata": {},
     "output_type": "execute_result"
    }
   ],
   "source": [
    "# chose a circ\n",
    "idx_order, idx_circ = 1, 1\n",
    "circ = rb_circs_native[idx_order][idx_circ]\n",
    "\n",
    "# swap qubit, as qiskit traspiles to c1not2. We want c2not1.\n",
    "steps_q0, steps_q1 = circuit_2_step_list(circ, qubit_idx=0, swap_qubits=True), circuit_2_step_list(circ, qubit_idx=1, swap_qubits=True)\n",
    "serialize_step_list(steps_q0, steps_q1)"
   ]
  },
  {
   "cell_type": "markdown",
   "id": "a00e7594",
   "metadata": {},
   "source": [
    "## Save to file"
   ]
  },
  {
   "cell_type": "markdown",
   "id": "ded8cf68",
   "metadata": {},
   "source": [
    "Iterate over (converted to native gates) gate sequence and create a qudi compatible sequence as a json file."
   ]
  },
  {
   "cell_type": "code",
   "execution_count": 1231,
   "id": "8808cd4c",
   "metadata": {},
   "outputs": [],
   "source": [
    "qudi_gates = []\n",
    "idx = 0\n",
    "\n",
    "\n",
    "n_seqs = len(rb_circs_native[0])*len(rb_circs_native)\n",
    "for idx_cl, circ_list in enumerate(rb_circs_native):\n",
    "    circs_i = []\n",
    "    for idx_r, circ in enumerate(circ_list):\n",
    "        #circs_i.append()\n",
    "        # swap qubit, as qiskit traspiles to c1not2. We want c2not1.\n",
    "        steps_q0 = circuit_2_step_list(circ, qubit_idx=0, swap_qubits=True)\n",
    "        steps_q1 = circuit_2_step_list(circ, qubit_idx=1, swap_qubits=True)\n",
    "        \n",
    "        idx_dict = {\"idx_info\":{\"n_cliff\": rb_opts['length_vector'][idx_cl],\n",
    "                    \"idx_cliff\": idx_cl,\n",
    "                    \"idx_random\": idx_r}}\n",
    "        params_dict = {\"script params\": params}\n",
    "        \n",
    "        header = f\"### Benchmark Sequence {idx+1}/{n_seqs} ###\\n\"\n",
    "        header += f\"# {json.dumps(idx_dict)}\"\n",
    "        header += f\"# {json.dumps(params)}\"\n",
    "        header += f\"# Columns: operation | params | idx_qubit\\n\"\n",
    "\n",
    "        \n",
    "        \n",
    "        steps = [header]\n",
    "        steps.append(serialize_step_list(steps_q0, steps_q1))\n",
    "        \n",
    "        circs_i.append(steps)\n",
    "        idx += 1\n",
    "        \n",
    "    qudi_gates.append(circs_i)\n",
    "    "
   ]
  },
  {
   "cell_type": "code",
   "execution_count": 1232,
   "id": "2d50ad2b",
   "metadata": {},
   "outputs": [
    {
     "data": {
      "text/plain": [
       "['### Benchmark Sequence 7/120 ###\\n# {\"idx_info\": {\"n_cliff\": 2, \"idx_cliff\": 0, \"idx_random\": 6}}# {\"n_qubits\": 1, \"timestamp\": \"20230130-0930-16\", \"qiskit_version\": \"0.19.1\", \"rb_options\": {\"length_vector\": [2, 4, 8, 16, 32, 48, 64, 96, 128, 144, 192, 256], \"nseeds\": 10, \"rb_pattern\": [[0]]}}# Columns: operation | params | idx_qubit\\n',\n",
       " [(('ry', [1.5707963267948966]), [1]),\n",
       "  (('rx', [-1.5707963267948966]), [1]),\n",
       "  (('barrier', []), [1]),\n",
       "  (('ry', [-1.5707963267948966]), [1]),\n",
       "  (('rx', [-3.141592653589793]), [1]),\n",
       "  (('barrier', []), [1]),\n",
       "  (('rx', [1.5707963267948966]), [1]),\n",
       "  (('ry', [1.5707963267948966]), [1]),\n",
       "  (('rx', [1.5707963267948966]), [1]),\n",
       "  (('measure', []), [1])]]"
      ]
     },
     "execution_count": 1232,
     "metadata": {},
     "output_type": "execute_result"
    }
   ],
   "source": [
    "qudi_gates[0][6]"
   ]
  },
  {
   "cell_type": "markdown",
   "id": "4ac8f744",
   "metadata": {},
   "source": [
    "Perform the saving"
   ]
  },
  {
   "cell_type": "code",
   "execution_count": 1233,
   "id": "a80f48f8",
   "metadata": {},
   "outputs": [
    {
     "data": {
      "text/plain": [
       "'20230130-0930-16_rb_seq_1q.json'"
      ]
     },
     "execution_count": 1233,
     "metadata": {},
     "output_type": "execute_result"
    }
   ],
   "source": [
    "import json\n",
    "\n",
    "fname = f\"{params['timestamp']}_rb_seq_{params['n_qubits']}q.json\"\n",
    "with open(fname, 'w') as f:\n",
    "    json.dump(qudi_gates, f, indent=None)\n",
    "fname"
   ]
  },
  {
   "cell_type": "markdown",
   "id": "b129fe0f",
   "metadata": {},
   "source": [
    "Load saved file to check."
   ]
  },
  {
   "cell_type": "code",
   "execution_count": 1234,
   "id": "d0b69161",
   "metadata": {
    "scrolled": true
   },
   "outputs": [
    {
     "data": {
      "text/plain": [
       "['### Benchmark Sequence 1/120 ###\\n# {\"idx_info\": {\"n_cliff\": 2, \"idx_cliff\": 0, \"idx_random\": 0}}# {\"n_qubits\": 1, \"timestamp\": \"20230130-0930-16\", \"qiskit_version\": \"0.19.1\", \"rb_options\": {\"length_vector\": [2, 4, 8, 16, 32, 48, 64, 96, 128, 144, 192, 256], \"nseeds\": 10, \"rb_pattern\": [[0]]}}# Columns: operation | params | idx_qubit\\n',\n",
       " [[['ry', [-1.5707963267948966]], [1]],\n",
       "  [['rx', [1.5707963267948966]], [1]],\n",
       "  [['barrier', []], [1]],\n",
       "  [['ry', [-1.5707963267948966]], [1]],\n",
       "  [['rx', [1.5707963267948966]], [1]],\n",
       "  [['barrier', []], [1]],\n",
       "  [['ry', [-1.5707963267948966]], [1]],\n",
       "  [['rx', [1.5707963267948966]], [1]],\n",
       "  [['measure', []], [1]]]]"
      ]
     },
     "execution_count": 1234,
     "metadata": {},
     "output_type": "execute_result"
    }
   ],
   "source": [
    "with open(fname) as f:\n",
    "    qudi_gates = json.load(f)\n",
    "    \n",
    "qudi_gates[0][0]"
   ]
  },
  {
   "cell_type": "code",
   "execution_count": null,
   "id": "115def69",
   "metadata": {},
   "outputs": [],
   "source": []
  }
 ],
 "metadata": {
  "kernelspec": {
   "display_name": "Python 3 (ipykernel)",
   "language": "python",
   "name": "python3"
  },
  "language_info": {
   "codemirror_mode": {
    "name": "ipython",
    "version": 3
   },
   "file_extension": ".py",
   "mimetype": "text/x-python",
   "name": "python",
   "nbconvert_exporter": "python",
   "pygments_lexer": "ipython3",
   "version": "3.8.12"
  },
  "toc": {
   "base_numbering": 1,
   "nav_menu": {},
   "number_sections": true,
   "sideBar": true,
   "skip_h1_title": false,
   "title_cell": "Table of Contents",
   "title_sidebar": "Contents",
   "toc_cell": false,
   "toc_position": {},
   "toc_section_display": true,
   "toc_window_display": true
  },
  "varInspector": {
   "cols": {
    "lenName": 16,
    "lenType": 16,
    "lenVar": 40
   },
   "kernels_config": {
    "python": {
     "delete_cmd_postfix": "",
     "delete_cmd_prefix": "del ",
     "library": "var_list.py",
     "varRefreshCmd": "print(var_dic_list())"
    },
    "r": {
     "delete_cmd_postfix": ") ",
     "delete_cmd_prefix": "rm(",
     "library": "var_list.r",
     "varRefreshCmd": "cat(var_dic_list()) "
    }
   },
   "types_to_exclude": [
    "module",
    "function",
    "builtin_function_or_method",
    "instance",
    "_Feature"
   ],
   "window_display": false
  }
 },
 "nbformat": 4,
 "nbformat_minor": 5
}
