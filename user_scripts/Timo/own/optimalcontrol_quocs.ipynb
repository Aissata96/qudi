{
 "cells": [
  {
   "cell_type": "markdown",
   "metadata": {},
   "source": [
    "# Packages"
   ]
  },
  {
   "cell_type": "code",
   "execution_count": 3,
   "metadata": {},
   "outputs": [
    {
     "data": {
      "text/plain": [
       "0"
      ]
     },
     "execution_count": 3,
     "metadata": {},
     "output_type": "execute_result"
    }
   ],
   "source": [
    "from quocslib.optimalcontrolproblems.OneQubitProblem_2fields import OneQubit2Fields\n",
    "import time, datetime\n",
    "\n",
    "\n",
    "import numpy as np\n",
    "\n",
    "import os\n",
    "import sys\n",
    "import matplotlib.pyplot as plt\n",
    "import scipy\n",
    "import time\n",
    "import copy as cp\n",
    "import inspect\n",
    "import types\n",
    "from scipy.optimize import curve_fit\n",
    "from scipy.optimize import minimize\n",
    "from scipy import signal\n",
    "from scipy import linalg, interpolate\n",
    "from scipy.ndimage import gaussian_filter1d\n",
    "\n",
    "\n",
    "# import necessary stuff from quidi\n",
    "from logic.pulsed.pulse_objects import PulseBlock, PulseBlockEnsemble, PulseSequence\n",
    "from logic.pulsed.sampling_functions import DDMethods\n",
    "from logic.pulsed.sampling_function_defs.sampling_functions_nvision import EnvelopeMethods as Evm\n",
    "from user_scripts.Timo.own.optimalcontrol.oc_simlib import TimeDependentSimulation, SimParameters, ArbPulse, PredefinedArbPulses\n",
    "\n",
    "import logging\n",
    "logging.basicConfig(filename='logfile.log', filemode='w', level=logging.DEBUG)\n",
    "logger = logging.getLogger(__name__)\n",
    "\n",
    "\n",
    "from PyQt5.QtGui import QGuiApplication\n",
    "from datetime import datetime as datetime_, timedelta\n",
    "\n",
    "        \n",
    "0"
   ]
  },
  {
   "cell_type": "markdown",
   "metadata": {},
   "source": [
    "Setup mathematica if needed"
   ]
  },
  {
   "cell_type": "code",
   "execution_count": null,
   "metadata": {},
   "outputs": [],
   "source": []
  },
  {
   "cell_type": "code",
   "execution_count": 66,
   "metadata": {},
   "outputs": [],
   "source": [
    "\n",
    "import os\n",
    "import copy as cp\n",
    "import matplotlib.pyplot as plt\n",
    "\n",
    "from wolframclient.evaluation import WolframLanguageSession\n",
    "from wolframclient.language import wl, wlexpr\n",
    "\n",
    "\n",
    "path_lib = os.getcwd() \n",
    "path_lib = os.path.abspath(path_lib + r\"\\\\user_scripts\\Timo\\own\\optimalcontrol\\mathematica\")\n",
    "fname_lib = 'CNOTTwoQubitsV6'  # lib name without .m extension\n",
    "try:\n",
    "    wolf.terminate()\n",
    "except: pass\n",
    "wolf = WolframLanguageSession()\n",
    "wsim = wl.CNOTTwoQubitsV6\n",
    "\n",
    "\n",
    "#print(wolf.evaluate(wl.StringReverse('dedaol lenrek marfloW')))"
   ]
  },
  {
   "cell_type": "code",
   "execution_count": 68,
   "metadata": {},
   "outputs": [
    {
     "data": {
      "text/plain": [
       "'C:\\\\Users\\\\Setup3-PC\\\\Desktop\\\\qudi\\\\user_scripts\\\\Timo\\\\own\\\\optimalcontrol\\\\mathematica'"
      ]
     },
     "execution_count": 68,
     "metadata": {},
     "output_type": "execute_result"
    }
   ],
   "source": [
    "path_lib"
   ]
  },
  {
   "cell_type": "code",
   "execution_count": 82,
   "metadata": {},
   "outputs": [],
   "source": [
    "wolf.evaluate(wl.SetDirectory(path_lib))\n",
    "wolf.evaluate(wl.Needs(fname_lib+'`'))\n",
    "wolf.evaluate(wl.Get(fname_lib+'.m'))  # For proper reloading"
   ]
  },
  {
   "cell_type": "markdown",
   "metadata": {},
   "source": [
    "# Library functions"
   ]
  },
  {
   "cell_type": "markdown",
   "metadata": {},
   "source": [
    "## Mathematica "
   ]
  },
  {
   "cell_type": "markdown",
   "metadata": {},
   "source": [
    "(shaddowed from simulate_from_mathematica)\n",
    "-  transformed unicode chars manually!\n",
    " Omega = \\u03a9\n",
    " delta = \\u03b4 \n",
    "\n",
    "- stripped sweeps that are not necesarry"
   ]
  },
  {
   "cell_type": "code",
   "execution_count": 11,
   "metadata": {},
   "outputs": [
    {
     "data": {
      "text/plain": [
       "0"
      ]
     },
     "execution_count": 11,
     "metadata": {},
     "output_type": "execute_result"
    }
   ],
   "source": [
    "\n",
    "import copy as cp\n",
    "from collections import MutableMapping\n",
    "from logic.pulsed.predefined_generate_methods.multi_nv_methods import TomoRotations, TomoInit\n",
    "\n",
    "def swap_basis_def(rho):\n",
    "    # Genkos state definition is different!\n",
    "    return np.rot90(rho,2).T\n",
    "\n",
    "def setup_sim_params(dd_params=None, pi_pulse_params=None, init=None, gate=None, sim_params=None):\n",
    "\n",
    "    if not init:\n",
    "        init = TomoInit.none # 00\n",
    "    if not gate:\n",
    "        gate = TomoRotations.c2not1\n",
    "    if not dd_params:\n",
    "        dd_params = wolf.evaluate(wsim.loadSequenceCPMG(1))\n",
    "    if not pi_pulse_params:\n",
    "        pi_pulse_params = setup_pi_pulse_params()\n",
    "\n",
    "    rho_init = get_opt_rho({'exp_params':{'init_state': init}})\n",
    "\n",
    "    sim  ={'sim_backend': fname_lib,\n",
    "           'sim_finished': False,\n",
    "           'shift_ratio': None,\n",
    "           'dd_params': dd_params,\n",
    "           'pi_pulse_params': pi_pulse_params,\n",
    "           'rho_init': rho_init,\n",
    "           'params_input': sim_params,\n",
    "          # like in experimental data, allow to run same analysis code\n",
    "           'exp_params':{'init_state': init, 'rotation': gate}\n",
    "          }\n",
    "\n",
    "    return sim\n",
    "\n",
    "def run_wsim(sim_params):\n",
    "\n",
    "    shift_ratio = sim_params['shift_ratio']\n",
    "    input_sim_params = sim_params['params_input']\n",
    "    dd_params = sim_params['dd_params']\n",
    "    pulse_params_nv1, pulse_params_nv2 = sim_params['pi_pulse_params']\n",
    "    sim_params['result'] = {'rho': None}\n",
    "\n",
    "\n",
    "    rho_total = sim_params['rho_init']\n",
    "\n",
    "    if np.iscomplex(rho_total).any():\n",
    "        raise ValueError(\"Not tested complex input. Casting complex arrays to Mathematica could be buggy.\")\n",
    "\n",
    "    rho_in_1 = partial_trace(swap_basis_def(rho_total), 0)  # Mathematica can't handle numpy\n",
    "    rho_in_2 = partial_trace(swap_basis_def(rho_total), 1)    \n",
    "    rho_in_1 = np.asarray(np.real(rho_in_1), dtype=float).tolist()\n",
    "    rho_in_2 = np.asarray(np.real(rho_in_2), dtype=float).tolist()\n",
    "\n",
    "\n",
    "    #print(f\"rho to wolfram 1/2: {rho_in_1}, {rho_in_2}\")\n",
    "    #print(f\"rho to wolfram: {swap_basis_def(rho_total)}\")\n",
    "\n",
    "    if not shift_ratio:\n",
    "        shift_ratio = -1  # sequential pi pulses without gap NV1, NV2\n",
    "\n",
    "    #print(f\"dd to wolfram: {dd_params}, shift ratio= {shift_ratio}\")\n",
    "\n",
    "    # CALL Mathematica\n",
    "    wolf.evaluate(\n",
    "            wsim.setupSim(rho_in_1, rho_in_2, dd_params, pulse_params_nv1, pulse_params_nv2, shift_ratio))\n",
    "    if input_sim_params:\n",
    "        _set_sim_params(input_sim_params)\n",
    "    res = wolf.evaluate(\n",
    "            wsim.runSim(rho_in_1, rho_in_2))\n",
    "\n",
    "    res = np.asarray(res[0]) + 1j*np.asarray(res[1])\n",
    "\n",
    "    #print(f\"raw res from wolfram: {res}\")\n",
    "    res = swap_basis_def(res)\n",
    "\n",
    "    # alter sim_dict after run\n",
    "    sim_params['sim_finished'] = True\n",
    "    sim_params['wolfram_sim_params'] = fetch_sim_params()\n",
    "    sim_params['result'] = {'rho': res}\n",
    "\n",
    "    return res\n",
    "\n",
    "def run_sim_all_basis(sim_params, inits=None):\n",
    "\n",
    "    if inits is None:\n",
    "        inits = [TomoInit.none, TomoInit.ux180_on_1, TomoInit.ux180_on_2, TomoInit.ux180_on_both]\n",
    "\n",
    "    res = []\n",
    "    for init in inits:\n",
    "        qsim_i = cp.deepcopy(sim_params)\n",
    "        qsim_i = change_init(qsim_i, init)\n",
    "        run_wsim(qsim_i)\n",
    "\n",
    "        res.append(qsim_i)\n",
    "\n",
    "    return res\n",
    "\n",
    "def change_init(sim_params, init=None):\n",
    "\n",
    "    sim_params_init = setup_sim_params(init=init)\n",
    "    sim_params['rho_init'] = sim_params_init['rho_init']\n",
    "    sim_params['exp_params']['init_state'] = sim_params_init['exp_params']['init_state']\n",
    "\n",
    "    return sim_params\n",
    "\n",
    "\n",
    "\n",
    "def _set_sim_params(params):\n",
    "    \"\"\"\n",
    "    Directly set parameters of the Wolfram simulation. This will overwrite parameters defauled \n",
    "    in wolf::loadSimulationParameters.\n",
    "    \"\"\"\n",
    "    allowed_keys = ['gRun', '\\u03B41Run', '\\u03B42Run', '\\u03a91max', '\\u03a92max','TpiP1Correction',\n",
    "                    'TpiP2Correction', '\\u03a91RelCorrection', '\\u03a92RelCorrection', 'crossTalkRun',\n",
    "                   '\\u03c91Run', '\\u03c92Run']\n",
    "    done_keys = []\n",
    "\n",
    "    for key, val in params.items():\n",
    "        if key in allowed_keys:\n",
    "            wolf.evaluate(f'{key} = {val};')\n",
    "            res = wolf.evaluate(wlexpr(f'{key}'))\n",
    "\n",
    "            if res != val:\n",
    "                raise ValueError(f\"Couldn't set the value {key}. Try different (number) format.\")\n",
    "            done_keys.append(key)\n",
    "\n",
    "    non_handled_keys = set(params.keys()) - set(done_keys)\n",
    "    if len(non_handled_keys) > 0:\n",
    "        raise ValueError(f\"Unhandled sim params: {non_handled_keys}\")\n",
    "\n",
    "\n",
    "def fetch_sim_params():\n",
    "    sim_dict = wolf.evaluate(wsim.getSimulationParameters())\n",
    "    sim_dict = sanatize_wolf_dict(sim_dict)\n",
    "\n",
    "    return sim_dict\n",
    "\n",
    "def calc_sph_error(sim_res, qsim):\n",
    "    rho_opt = get_opt_rho(qsim, apply_rot=True)\n",
    "\n",
    "    res_1 = partial_trace(sim_res, 0)\n",
    "    rho_opt_1 = partial_trace(rho_opt, 0)\n",
    "\n",
    "    on_nv = 1\n",
    "    on_eq = True\n",
    "    err_sph = err_spherical(res_1, rho_opt_1, on_equator=on_eq)\n",
    "\n",
    "    return err_sph\n",
    "\n",
    "def sanatize_wolf_dict(wdict):\n",
    "\n",
    "    new_dict = {}\n",
    "    for key, val in dict(wdict).items():\n",
    "        new_key = str(key).replace(fname_lib, \"\")\n",
    "        new_key = new_key.replace(\"`\",\"\")\n",
    "        new_dict[new_key] = val\n",
    "\n",
    "    return new_dict\n",
    "\n",
    "def calc_n_pi(dd_param):\n",
    "    return dd_param[1]*dd_param[-1]\n",
    "\n",
    "def run_shift_ratio_sweep(qsim, ratios):\n",
    "\n",
    "    qsim_i = cp.deepcopy(qsim)\n",
    "    res = []\n",
    "    for sr in ratios:\n",
    "        qsim_i['shift_ratio'] = sr\n",
    "        res_i = run_sim_all_basis(qsim_i)\n",
    "        res.extend(res_i)\n",
    "\n",
    "    return res\n",
    "\n",
    "\n",
    "\n",
    "def calc_t_coupling(qsim):\n",
    "\n",
    "    ratio_tau = qsim['wolfram_sim_params']['\\u03c4ShiftRatioRunP2']\n",
    "    n_pi = calc_n_pi(qsim['dd_params'])\n",
    "    tau_free_1 = qsim['wolfram_sim_params']['\\u03c4freeP1']*1e-6 # us -> s\n",
    "    tau_free_2 = qsim['wolfram_sim_params']['\\u03c4freeP2']*1e-6 # us -> s\n",
    "\n",
    "    if tau_free_1 != tau_free_2:\n",
    "        raise ValueError(\"Didn't check that correct for unequal taus on NV1/2\")\n",
    "\n",
    "    # todo: is this equal to the time I find automatically from gRun in sim for non given shift?\n",
    "    tau_eff = abs(n_pi*(tau_free_1 - ratio_tau*2*tau_free_2))\n",
    "\n",
    "    return tau_eff\n",
    "\n",
    "def t_coupling_2_shift_ratio(t_evol, qsim):\n",
    "    n_pi = calc_n_pi(qsim['dd_params'])\n",
    "    g = qsim['wolfram_sim_params']['g']*1e6\n",
    "    t_pi = qsim['wolfram_sim_params']['TpiP1Run']*1e-6\n",
    "    tau_free_1 = qsim['wolfram_sim_params']['\\u03c4freeP1']*1e-6\n",
    "    tau_free_2 = qsim['wolfram_sim_params']['\\u03c4freeP2']*1e-6 # us -> s\n",
    "\n",
    "    if tau_free_1 != tau_free_2:\n",
    "        raise ValueError(\"Didn't check that correct for unequal taus on NV1/2\")\n",
    "\n",
    "    tau_evol = t_evol / n_pi\n",
    "\n",
    "    shift_ratio = (tau_free_1-tau_evol)/(2*tau_free_2)\n",
    "    \"\"\"\n",
    "    tau_full_g = 0.25/(g/(2*np.pi))/n_pi + 2* t_pi\n",
    "    tau_exp = t_evol/n_pi\n",
    "    shift_full_g = t_pi/tau_full_g\n",
    "    if tau_exp > tau_full_g:\n",
    "        raise ValueError(\"Desired coupling not possible\")\n",
    "\n",
    "    shift_ratio = 0.5 - tau_exp*(0.5-shift_full_g)/(0.5*tau1)\n",
    "    \"\"\"\n",
    "    if shift_ratio > 0.5 or shift_ratio < 0:\n",
    "        print(f\"tau_free_1: {tau_free_1}, tau_free_2 {tau_free_2}, tau_evol: {tau_evol} \")\n",
    "        raise ValueError(f\"Invalid shift ration result {shift_ratio}\")\n",
    "\n",
    "    return shift_ratio\n",
    "\n",
    "def _is_00(qsim):\n",
    "    if qsim['exp_params']['init_state'] == TomoInit.none:\n",
    "        return True\n",
    "    return False\n",
    "\n",
    "def _is_01(qsim):\n",
    "    if qsim['exp_params']['init_state'] == TomoInit.ux180_on_2:\n",
    "        return True\n",
    "    return False\n",
    "\n",
    "def _is_10(qsim):\n",
    "    if qsim['exp_params']['init_state'] == TomoInit.ux180_on_1:\n",
    "        return True\n",
    "    return False\n",
    "\n",
    "def _is_11(qsim):\n",
    "    if qsim['exp_params']['init_state'] == TomoInit.ux180_on_both:\n",
    "        return True\n",
    "    return False\n",
    "\n",
    "\n",
    "def _idx_2_state_filter(idx):\n",
    "    if idx == 0:\n",
    "        return _is_00, \"0,0\"\n",
    "    elif idx == 1:\n",
    "        return _is_01, \"0,1\"\n",
    "    elif idx == 2:\n",
    "        return _is_10, \"1,0\"\n",
    "    elif idx == 3:\n",
    "        return _is_11 , \"1,1\"\n",
    "    else:\n",
    "        raise ValueError\n",
    "\n",
    "def filter_res_list(res_list, idx_init=0):\n",
    "\n",
    "    res_tuple_i = list(filter(_idx_2_state_filter(idx_init)[0], res_list))\n",
    "\n",
    "    return res_tuple_i\n",
    "\n",
    "\n",
    "def _colors_per_init(idx_init=0, on_nv=1):\n",
    "    i = idx_init\n",
    "    len_inits = 4\n",
    "    #color = plt.cm.Blues(0.5+0.5*i/len_inits) if on_nv==1 else plt.cm.Oranges(0.5+0.5*i/len_inits)\n",
    "\n",
    "\n",
    "    color = plt.cm.winter(0.5+0.5*i/len_inits) if on_nv==1 else plt.cm.Oranges(0.5+0.5*i/len_inits)\n",
    "\n",
    "    return color\n",
    "\n",
    "def dd_2_str(dd_params):\n",
    "    return f\"{dd_params[4]}-{dd_params[5]}\"\n",
    "\n",
    "\n",
    "def delete_keys_from_dict(dictionary, keys):\n",
    "    keys_set = set(keys)  # Just an optimization for the \"if key in keys\" lookup.\n",
    "\n",
    "    modified_dict = {}\n",
    "    for key, value in dictionary.items():\n",
    "        if key not in keys_set:\n",
    "            if isinstance(value, MutableMapping):\n",
    "                modified_dict[key] = delete_keys_from_dict(value, keys_set)\n",
    "            else:\n",
    "                modified_dict[key] = cp.deepcopy(value) \n",
    "    return modified_dict\n",
    "\n",
    "\n",
    "\n",
    "\n",
    "\n",
    "def check_nv_params_equal(qsim, param='\\u03c41Run'):\n",
    "\n",
    "    key1 = param\n",
    "    key2 = param.replace('2','1')\n",
    "\n",
    "    val1 = qsim['params_input'][key1]\n",
    "    val2 = qsim['params_input'][key2]\n",
    "\n",
    "    if val1 != val2:\n",
    "        raise ValueError(f\"unequal params: {key1}: {val1} / {key2}: {val2}\")\n",
    "\n",
    "def setup_pi_pulse_params(shape='rect'):\n",
    "    if shape == 'rect':\n",
    "        params_nv1 = 'rect'\n",
    "        params_nv2 = 'rect'\n",
    "    elif shape == 'optimal_both':\n",
    "        params_nv1 = 'optimal'\n",
    "        params_nv2 = 'optimal'\n",
    "    elif shape == 'optimal_nv2':\n",
    "        params_nv1 = 'rect'\n",
    "        params_nv2 = 'optimal'\n",
    "    else:\n",
    "        raise ValueError\n",
    "    return params_nv1, params_nv2\n",
    "\n",
    "\n",
    "0"
   ]
  },
  {
   "cell_type": "code",
   "execution_count": null,
   "metadata": {},
   "outputs": [],
   "source": [
    "0 #u'δ1Run'"
   ]
  },
  {
   "cell_type": "code",
   "execution_count": null,
   "metadata": {},
   "outputs": [],
   "source": []
  },
  {
   "cell_type": "markdown",
   "metadata": {},
   "source": [
    "## this nb"
   ]
  },
  {
   "cell_type": "code",
   "execution_count": 5,
   "metadata": {},
   "outputs": [],
   "source": [
    "\n",
    "def qWait(t_ms):\n",
    "    end = datetime_.now() + timedelta(milliseconds=t_ms)\n",
    "    while datetime_.now() < end:\n",
    "        QGuiApplication.processEvents()\n",
    "def list_2_csv(in_list):\n",
    "    str_list = \"\"\n",
    "    \n",
    "    if type(in_list) != list:\n",
    "        in_list = [in_list]\n",
    "        \n",
    "    for el in in_list:\n",
    "        str_list += f\"{el}, \"\n",
    "    \n",
    "    if len(str_list) > 0:\n",
    "        str_list = str_list[:-2]\n",
    "        \n",
    "    return str_list\n",
    "\n",
    "def dict_2_header_str(in_dict):\n",
    "    out_str = \"\"\n",
    "    for key, val in in_dict.items():\n",
    "        out_str += f\"{key}: {val}\\n\"\n",
    "        \n",
    "    return out_str\n",
    "\n",
    "def get_pulse_filename(path, name=\"\", name_ampl=\"amplitude.txt\", name_phase=\"phase.txt\"):\n",
    "    return os.path.abspath(path + \"/\" + name + name_ampl), os.path.abspath(path + \"/\" + name + name_phase)\n",
    "\n",
    "\n",
    "def lambda_2_str(func):\n",
    "    if type(func) is types.FunctionType:\n",
    "        try:\n",
    "            funcString = inspect.getsourcelines(func)[0][0]\n",
    "            funcString.strip(\"['\\n']\").split(\"=\")[1]\n",
    "            return funcString\n",
    "        except IndexError:\n",
    "            return str(func) + '_LAMBDA_CONV_FAIL'\n",
    "    else:\n",
    "        raise ValueError(\"\")\n",
    "\n",
    "def save_pulse(path, data_ampl, data_phase, name=\"\", name_ampl=\"amplitude.txt\", name_phase=\"phase.txt\"):\n",
    "    header_dict = {}\n",
    "    \n",
    "    def _lambda_2_str(dict_in):\n",
    "        dict_out = cp.deepcopy(dict_in)\n",
    "        for key, val in dict_in.items():\n",
    "            if type(val) is types.FunctionType:\n",
    "                funcString = lambda_2_str(val)\n",
    "                dict_out[key] = funcString\n",
    "        \n",
    "        return dict_out\n",
    "    \n",
    "    try:\n",
    "        now = datetime.datetime.now() # current date and time\n",
    "        header_dict['timestamp'] = now.strftime(\"%Y/%m/%d-%H:%M:%S\")\n",
    "        header_dict['script_parameters'] = _lambda_2_str(script_params)\n",
    "        header_dict.update(opti_comm_dict['optimization_dictionary'])\n",
    "        \n",
    "        fname_ampl, fname_phase = get_pulse_filename(path, name=name, name_ampl=name_ampl, name_phase=name_phase)\n",
    "        \n",
    "        if data_ampl is not None:\n",
    "            try:\n",
    "                os.remove(fname_ampl)\n",
    "            except IOError:\n",
    "                pass\n",
    "            np.savetxt(fname_ampl,  data_ampl,  header=dict_2_header_str(header_dict))\n",
    "        if data_phase is not None:\n",
    "            try:\n",
    "                os.remove(fname_phase)\n",
    "            except IOError:\n",
    "                pass\n",
    "            np.savetxt(fname_phase, data_phase, header=dict_2_header_str(header_dict))\n",
    "    except:\n",
    "        logger.exception(\"\")\n",
    "\n",
    "def pulse_save(path, pulse, name=\"opt_res_\", name_ampl=\"amplitude.txt\", name_phase=\"phase.txt\"):\n",
    "\n",
    "    t_amplitude = pulse.get_timegrid(unit='s')\n",
    "    t_phase = pulse.get_timegrid(unit='s')\n",
    "    amplitude = pulse.get_data_ampl(unit='V')\n",
    "    phase = pulse.get_data_phase(unit='V')\n",
    "\n",
    "    data_ampl = np.column_stack((t_amplitude, amplitude))\n",
    "    data_phase = np.column_stack((t_phase, phase))\n",
    "\n",
    "    save_pulse(path, data_ampl, data_phase, name=name, name_ampl=name_ampl, name_phase=name_phase)\n",
    "\n",
    "        \n",
    "def save_optimization_result(path, name=\"opt_res_\", name_ampl=\"amplitude.txt\", name_phase=\"phase.txt\"):\n",
    "    try:\n",
    "        # save fom by same function as pulse\n",
    "        save_pulse(path, fom_all, None, name=name, name_ampl='fom.txt', name_phase='')\n",
    "        \n",
    "        # save best pulse\n",
    "        pulse = get_pulse_from_logic(get_best=True)\n",
    "        t_amplitude = pulse.get_timegrid(unit='s')\n",
    "        t_phase = pulse.get_timegrid(unit='s')\n",
    "        amplitude = pulse.get_data_ampl(unit='V')\n",
    "        phase = pulse.get_data_phase(unit='V')\n",
    "        \n",
    "        data_ampl = np.column_stack((t_amplitude, amplitude))\n",
    "        data_phase = np.column_stack((t_phase, phase))\n",
    "\n",
    "        save_pulse(path, data_ampl, data_phase, name=name, name_ampl=name_ampl, name_phase=name_phase)\n",
    "\n",
    "    except:\n",
    "        logger.exception(\"\")\n",
    "        \n",
    "def interpolate_2_timegrid(pulse, timegrid_new, timegrid_unit='s'):\n",
    "    \"\"\"\n",
    "    Put pulse on new timegrid. \n",
    "    If pulse shorter than new timegrid, zero pad. Else raise.\n",
    "    \"\"\"\n",
    "    amplitude_func = scipy.interpolate.interp1d(pulse.timegrid, pulse.get_data_ampl(unit=pulse.data_unit),\n",
    "                                                fill_value=0, bounds_error=False)\n",
    "    phase_func = scipy.interpolate.interp1d(pulse.timegrid, pulse.get_data_phase(unit=pulse.data_unit),\n",
    "                                            fill_value=0, bounds_error=False)\n",
    "    \n",
    "    pulse_new = copy_pulse(pulse)\n",
    "    if timegrid_unit != pulse.timegrid_unit:\n",
    "        raise NotImplemented # may rescale the old pulse first\n",
    "    if timegrid_new[-1] < pulse.timegrid[-1]:\n",
    "        # this would work, but probably not intended\n",
    "        raise ValueError(\"Too short new timegrid would cut pulse.\")\n",
    "    \n",
    "    pulse_new._data_ampl = amplitude_func(timegrid_new - timegrid_new[0])\n",
    "    pulse_new._data_phase = phase_func(timegrid_new - timegrid_new[0])\n",
    "    pulse_new._timegrid_ampl = timegrid_new\n",
    "    pulse_new._timegrid_phase = timegrid_new\n",
    "        \n",
    "    return pulse_new\n",
    "\n",
    "def scale_power(pulse, factor=1):    \n",
    "    pulse_new = cp.deepcopy(pulse)\n",
    "    \n",
    "    pulse_new._data_ampl = factor*pulse_new._data_ampl\n",
    "    pulse_new._data_phase = factor*pulse_new._data_phase\n",
    "    pulse_new._timegrid_ampl = 1/factor*pulse_new._timegrid_ampl\n",
    "    pulse_new._timegrid_phase = 1/factor*pulse_new._timegrid_phase\n",
    "    \n",
    "    # invalidate old data fields\n",
    "    pulse_new._folder = None\n",
    "    pulse_new._file = None\n",
    "    pulse_new._file_ampl = None\n",
    "    pulse_new._file_phase = None\n",
    "    \n",
    "    return pulse_new\n",
    "    \n",
    "        \n",
    "\n",
    "def _get_sine_func(time_array, amplitude_func, frequency, phase_rad, phase_func):\n",
    "    samples_arr = amplitude_func(time_array - time_array[0]) * np.sin(2*np.pi * frequency * time_array + phase_rad) \\\n",
    "                  + phase_func(time_array - time_array[0]) * np.cos(2*np.pi * frequency * time_array + phase_rad)\n",
    "\n",
    "    return samples_arr\n",
    "\n",
    "def sample_pulse(pulse, f_carrier, phase_carrier_rad=0):\n",
    "    \n",
    "    timegrid_pulse = pulse.get_timegrid(unit='s')\n",
    "    t_pulse = timegrid_pulse[-1]\n",
    "    \n",
    "    dt_sample = 1/pulsedmeasurementlogic.pulsegenerator().get_sample_rate()\n",
    "    timegrid_sampling = np.arange(0, t_pulse, dt_sample)\n",
    "    amplitude = pulse.get_data_ampl(unit='V')\n",
    "    phase = pulse.get_data_phase(unit='V')\n",
    "\n",
    "    \n",
    "    amplitude_func = interpolate.interp1d(timegrid_pulse, amplitude)\n",
    "    phase_func = interpolate.interp1d(timegrid_pulse, phase)\n",
    "    samples_arr = _get_sine_func(timegrid_sampling, amplitude_func, f_carrier, phase_carrier_rad, phase_func)\n",
    "    \n",
    "    return samples_arr\n",
    "\n",
    "def get_rescale_factor_ampl(pulse, f_carrier, max_ampl_v=0.25):\n",
    "    # shaddows qudi::sampling_func\n",
    "    \n",
    "    # sampling for the awg has an unknown pulse position and hence phase\n",
    "    # make sure that the pulse works for all phases by calculating rescale factor for worst case\n",
    "    phases_rad = np.linspace(0, 2*np.pi, 100)\n",
    "    samples_arr = sample_pulse(pulse, f_carrier)\n",
    "    for ph in phases_rad:\n",
    "        samples_curr = sample_pulse(pulse, f_carrier, phase_carrier_rad=ph)\n",
    "        if np.max(samples_curr) > np.max(samples_arr):\n",
    "            samples_arr = samples_curr\n",
    "            #logger.debug(f\"New max pulse ampl {np.max(samples_curr)} for phase {ph/np.pi} pi\")\n",
    "            \n",
    "    max_sample_before = np.max(samples_arr)\n",
    "    \n",
    "    # avoid re-scaling by the pg, todo: think of better way\n",
    "    import scipy\n",
    "    if max(abs(samples_arr)) > 0.25:\n",
    "        biggest_val = max([abs(np.min(samples_arr)), np.max(samples_arr)])\n",
    "        mapper = scipy.interpolate.interp1d([-biggest_val, biggest_val], [-max_ampl_v, max_ampl_v])\n",
    "        samples_arr = mapper(samples_arr)\n",
    "        \n",
    "    max_samples_after = np.max(samples_arr)\n",
    "    \n",
    "    return max_samples_after/max_sample_before\n",
    "    \n",
    "        \n",
    "def get_pulse_from_logic(get_best=False):\n",
    "    \n",
    "    if get_best:\n",
    "        optimizer_obj = optimizationlogic.optimization_obj\n",
    "        best_dict = optimizer_obj.opt_alg_obj.get_best_controls()\n",
    "\n",
    "        pulses, timegrids, parameters = best_dict['pulses'], best_dict['timegrids'], best_dict['parameters']\n",
    "    else:\n",
    "        pulses, parameters, timegrids = controlslogic.pulses, controlslogic.parameters, controlslogic.timegrids\n",
    "    \n",
    "    # save pulse as raw from logic\n",
    "    fname_tmp = '.tmp_pulse_'\n",
    "    fname_tmp_ampl, fname_tmp_ph = get_pulse_filename(folder_path, name=fname_tmp)\n",
    "    \n",
    "    data_ampl = np.column_stack((timegrids[0], pulses[0]))\n",
    "    data_phase = np.column_stack((timegrids[0], pulses[1]))\n",
    "    save_pulse(folder_path, data_ampl, data_phase, name=fname_tmp)\n",
    "    \n",
    "    # reload as a pulse object\n",
    "    pulse = ArbPulse.load_pulse(folder_path, fname_tmp, unit_t='s', unit_data='V')\n",
    "    os.remove(fname_tmp_ampl)\n",
    "    os.remove(fname_tmp_ph)\n",
    "    \n",
    "    fac = get_rescale_factor_ampl(pulse, f_res, max_ampl_v=ampl_max)\n",
    "    if fac != 1:\n",
    "        logger.warning(f\"Rescaling pulses with fac={fac} prior to saving and sampling.\")\n",
    "    \n",
    "    pulse._data_ampl  = fac*pulse._data_ampl\n",
    "    pulse._data_phase = fac*pulse._data_phase\n",
    "    \n",
    "    return pulse\n",
    "\n",
    "# todo: to lib\n",
    "def copy_pulse(pulse):\n",
    "    \"\"\"\n",
    "    (deep) copy pulse. Keep data.\n",
    "    \"\"\"\n",
    "    pulse_new = cp.deepcopy(pulse)\n",
    "\n",
    "    # invalidate old data fields\n",
    "    pulse_new._folder = None\n",
    "    pulse_new._file = None\n",
    "    pulse_new._file_ampl = None\n",
    "    pulse_new._file_phase = None\n",
    "\n",
    "    return pulse_new\n",
    "\n",
    "# todo: to lib\n",
    "def shift_phase(pulse, phi_rad):\n",
    "      \n",
    "    pulse_new = copy_pulse(pulse)\n",
    "    if phi_rad%(2*np.pi)==0:\n",
    "        pass\n",
    "    elif phi_rad%(2*np.pi)==np.pi/2:\n",
    "        pulse_new._data_ampl = pulse._data_phase\n",
    "        pulse_new._data_phase = pulse._data_ampl\n",
    "    elif phi_rad%(2*np.pi)==np.pi:\n",
    "        pulse_new._data_ampl = -pulse._data_ampl\n",
    "        pulse_new._data_phase = -pulse._data_phase\n",
    "    elif phi_rad%(2*np.pi)==3*np.pi/2:\n",
    "        pulse_new._data_ampl = -pulse._data_phase\n",
    "        pulse_new._data_phase = -pulse._data_ampl\n",
    "    else:\n",
    "        raise ValueError\n",
    "    \n",
    "    return pulse_new\n",
    "\n",
    "\n",
    "# todo: to lib\n",
    "def generate_idle(t_idle=10e-9, n_timebins=10):\n",
    "    idle_pulse = PredefinedArbPulses.generate_rect_pi(1e6, n_t=n_timebins, t_pulse=t_idle)\n",
    "    idle_pulse.name = 'idle'\n",
    "    \n",
    "    idle_pulse._data_ampl[:] = 0\n",
    "    idle_pulse._data_phase[:] = 0\n",
    "    idle_pulse._func_ampl_v_2_omega_mhz = lambda x:0*x\n",
    "    idle_pulse._func_omega_mhz_2_ampl_v = lambda x:0*x\n",
    "    \n",
    "    return idle_pulse\n",
    "\n",
    "def exp_oc_nrep_from_pulse(pulse, t_gap=0e-9, n_rep=1, pi_x_initread=0, omega_rabi_initread=None,\n",
    "                           dd_type=DDMethods.SE, symmetrize=False):\n",
    "    if pi_x_initread >0:\n",
    "        if omega_rabi_initread is None:\n",
    "            # maximum available Rabi drive in arb pulse\n",
    "            omega_rabi_initread = np.max([pulse.get_data_ampl(unit=\"Hz\"), pulse.get_data_phase(unit=\"Hz\")])\n",
    "        init_pulse = PredefinedArbPulses.generate_rect_pi_x(omega_rabi_initread, n_t=len(pulse.timegrid),\n",
    "                                                           pix=pi_x_initread)\n",
    "        # assume that calibration of loaded pulse is valid also for new pi2 pulses\n",
    "        init_pulse._func_ampl_v_2_omega_mhz = pulse._func_ampl_v_2_omega_mhz\n",
    "        init_pulse._func_omega_mhz_2_ampl_v = pulse._func_omega_mhz_2_ampl_v\n",
    "    \n",
    "    if symmetrize:\n",
    "        idle_pulse = generate_idle(t_gap/2, n_timebins=10)\n",
    "    else:\n",
    "        idle_pulse = generate_idle(t_gap, n_timebins=10)\n",
    "        \n",
    "    if n_rep == 0:\n",
    "        return idle_pulse\n",
    "    \n",
    "\n",
    "    res_exp = None\n",
    "    \n",
    "    for idx in range(n_rep):\n",
    "        phase_rad = dd_type.phases[idx%dd_type.suborder]/360*(2*np.pi)\n",
    "        base_block = shift_phase(pulse, phase_rad)\n",
    "        if t_gap > 0.:\n",
    "            if symmetrize:\n",
    "                base_block = ArbPulse.concatenate(idle_pulse, base_block)\n",
    "                base_block = ArbPulse.concatenate(base_block, idle_pulse)\n",
    "            else:\n",
    "                base_block = ArbPulse.concatenate(base_block, idle_pulse)    \n",
    "\n",
    "            res_exp = ArbPulse.concatenate(res_exp, base_block)\n",
    "    \n",
    "    if pi_x_initread>0:\n",
    "        res_exp = ArbPulse.concatenate(init_pulse, res_exp)\n",
    "        res_exp = ArbPulse.concatenate(res_exp, init_pulse)\n",
    "    \n",
    "    return res_exp\n",
    "    \n",
    "def handle_global_gen_params(qmeas):\n",
    "    \"\"\"\n",
    "    If qmeas contains global generation parameters, set them in the sequence generator and delete them from dict.\n",
    "    Keeping them would provoke an error in the generation method due to unknown kwarg.\n",
    "    \"\"\"\n",
    "    subdict = dict([(key, qmeas.get(key)) for key in pulsedmasterlogic.generation_parameters if key in qmeas])\n",
    "    pulsedmasterlogic.set_generation_parameters(subdict)\n",
    "    \n",
    "    for (key, val) in subdict.items():\n",
    "        qmeas.pop(key, None)\n",
    "    \n",
    "    return subdict\n",
    "\n"
   ]
  },
  {
   "cell_type": "code",
   "execution_count": 19,
   "metadata": {},
   "outputs": [
    {
     "data": {
      "text/plain": [
       "0"
      ]
     },
     "execution_count": 19,
     "metadata": {},
     "output_type": "execute_result"
    }
   ],
   "source": [
    "# qmeas and fom functions\n",
    "def setup_sts_oc_pi(folder_path, filename, length_oc):\n",
    "    dictparamsall = pulsedmasterlogic.generate_method_params\n",
    "    \n",
    "    dict_qst = dictparamsall[\"sts_oc\"]\n",
    "    dict_qst[\"experiment\"] = 'sts_oc'\n",
    "    dict_qst[\"name\"] = 'stsoc'\n",
    "    dict_qst[\"length\"] = length_oc\n",
    "    dict_qst[\"filename_amplitude\"] = os.path.basename(get_pulse_filename(folder_path, name=filename)[0])\n",
    "    dict_qst[\"filename_phase\"] = os.path.basename(get_pulse_filename(folder_path, name=filename)[1])\n",
    "    dict_qst[\"folder_path\"] = folder_path\n",
    "    \n",
    "\n",
    "    \n",
    "    return dict_qst\n",
    "\n",
    "def setup_oc_npi(folder_path, filename, length_oc, n_start=1, n_step=1, n_n=4, t_gap=0e-9, phases_oc=[0],\n",
    "                init_end_pix=0, init_end_phases_deg=[0], symmetrize=True, dd_type=DDMethods.SE,\n",
    "                alternating_end_phase=False):\n",
    "    dictparamsall = pulsedmasterlogic.generate_method_params\n",
    "    \n",
    "    dict_qst = dictparamsall[\"oc_nrep\"]\n",
    "    dict_qst[\"experiment\"] = 'oc_nrep'\n",
    "    dict_qst[\"name\"] = 'oc_nrep'\n",
    "    dict_qst[\"filename_amplitude\"] = os.path.basename(get_pulse_filename(folder_path, name=filename)[0])\n",
    "    dict_qst[\"filename_phase\"] = os.path.basename(get_pulse_filename(folder_path, name=filename)[1])\n",
    "    dict_qst[\"folder_path\"] = folder_path\n",
    "    \n",
    "    dict_qst['n_start'] = n_start\n",
    "    dict_qst['n_step'] = n_step\n",
    "    dict_qst['t_gap'] = t_gap\n",
    "    dict_qst['phases'] = list_2_csv(phases_oc)\n",
    "    dict_qst['init_end_pix'] = init_end_pix\n",
    "    dict_qst['init_end_phases_deg'] = list_2_csv(init_end_phases_deg)\n",
    "    dict_qst['num_of_points'] = n_n\n",
    "    dict_qst[\"dd_type\"] = dd_type\n",
    "    \n",
    "    dict_qst[\"alternating\"] = True\n",
    "    if alternating_end_phase:\n",
    "        dict_qst[\"alternating\"] = False\n",
    "        dict_qst[\"alternating_end_phase\"] = True\n",
    "        \n",
    "    dict_qst[\"symmetric_tgap\"] = symmetrize\n",
    "    dict_qst[\"vs_rect_pulse\"] = False\n",
    "    \n",
    "    \n",
    "    return dict_qst\n",
    "\n",
    "def setup_oc_proctomo(folder_path, filename, length_oc):\n",
    "    dictparamsall = pulsedmasterlogic.generate_method_params\n",
    "    \n",
    "    dict_qst = dictparamsall[\"qst_state_oc\"]\n",
    "    dict_qst[\"experiment\"] = 'qst_state_oc'\n",
    "    dict_qst[\"name\"] = 'qststateoc'\n",
    "    dict_qst[\"length\"] = length_oc\n",
    "    dict_qst[\"filename_amplitude\"] = os.path.basename(get_pulse_filename(folder_path, name=filename)[0])\n",
    "    dict_qst[\"filename_phase\"] = os.path.basename(get_pulse_filename(folder_path, name=filename)[1])\n",
    "    dict_qst[\"folder_path\"] = folder_path\n",
    "    \n",
    "    return dict_qst\n",
    "\n",
    "def setup_sts_oc_cnot(folder_path, filename, length_oc, tau_dd_fix, tau_cnot,\n",
    "                      dd_type_cnot=DDMethods.SE, dd_order=1,\n",
    "                      f_mw_2=[], rabi_period_mw_2=[], ampl_mw_2=[]):\n",
    "    \n",
    "    # get from common object defined in other notebook\n",
    "    if f_mw_2 == []:\n",
    "        f_mw_2 = [common.mw_freq_2[0]]\n",
    "    if ampl_mw_2 == []:\n",
    "        ampl_mw_2 = [common.mw_amps_2[0]]\n",
    "    if rabi_period_mw_2 == []:\n",
    "        rabi_period_mw_2 = [common.rabi_period_2[0]]\n",
    "    \n",
    "    dictparamsall = pulsedmasterlogic.generate_method_params\n",
    "    \n",
    "    dict_qst = dictparamsall[\"tomography_single\"]\n",
    "      \n",
    "    dict_qst['experiment'] = 'tomography_single'\n",
    "    dict_qst['name'] = f'sts_cnot'  \n",
    "    dict_qst['microwave_amplitude'] = common.mw_amp\n",
    "    dict_qst['microwave_frequency'] = common.mw_freq\n",
    "    dict_qst['rabi_period'] = common.rabi_period\n",
    "    \n",
    "    \n",
    "    rots = [TomoRotations.c2not1, TomoRotations.c2not1, TomoRotations.c2not1, TomoRotations.c2not1]\n",
    "    inits = [TomoInit.none, TomoInit.ux180_on_1, TomoInit.ux180_on_2, TomoInit.ux180_on_both]\n",
    "\n",
    "    dict_qst['rotations'] = str(rots)\n",
    "    dict_qst['init_states'] = str(inits)\n",
    "    \n",
    "    dict_qst['cnot_kwargs'] = {'tau_dd_fix': tau_dd_fix} \n",
    "    dict_qst['cnot_kwargs']['env_type'] = Evm.optimal\n",
    "    dict_qst['tau_cnot'] = tau_cnot\n",
    "    dict_qst['dd_type_cnot'] = dd_type_cnot\n",
    "    dict_qst['dd_order'] = dd_order\n",
    "    dict_qst['alternating'] = True\n",
    "    \n",
    "\n",
    "    dict_qst['f_mw_2'] = list_2_csv(f_mw_2)\n",
    "    dict_qst['rabi_period_mw_2'] = list_2_csv(rabi_period_mw_2)\n",
    "    dict_qst['ampl_mw_2'] = list_2_csv(ampl_mw_2)            \n",
    "    \n",
    "    return dict_qst\n",
    "    \n",
    "def setup_oc_crosstalk(folder_path, filename, length_oc,\n",
    "                      f_mw_2=[], rabi_period_mw_2=[], ampl_mw_2=[],\n",
    "                      on_nv=\"1\"):\n",
    "    # do pi on nv1 (f_res set in sequencegenerator)\n",
    "    # check crosstalk by: oc_pi_on_nv1, (1/ pi)_on_nv2 => should be unaffected => bright/dark\n",
    "    # 1st datapoint for reference: (1/ pi)_on_nv2 => gives small crosstalk by rect pi only\n",
    "    \n",
    "    # get from common object defined in other notebook\n",
    "    if f_mw_2 == []:\n",
    "        f_mw_2 = [common.mw_freq_2[0]]\n",
    "    if ampl_mw_2 == []:\n",
    "        ampl_mw_2 = [common.mw_amps_2[0]]\n",
    "    if rabi_period_mw_2 == []:\n",
    "        rabi_period_mw_2 = [common.rabi_period_2[0]]\n",
    "    \n",
    "    dictparamsall = pulsedmasterlogic.generate_method_params\n",
    "    \n",
    "    dict_qst = dictparamsall[\"tomography_single\"]\n",
    "      \n",
    "    dict_qst['experiment'] = 'tomography_single'\n",
    "    dict_qst['name'] = f'oc_crosstalk'  \n",
    "    dict_qst['microwave_amplitude'] = common.mw_amp\n",
    "    dict_qst['microwave_frequency'] = common.mw_freq\n",
    "    dict_qst['rabi_period'] = common.rabi_period\n",
    "    \n",
    "    \n",
    "  \n",
    "    if on_nv==\"1\":\n",
    "        rots = [TomoRotations.none, TomoRotations.none]\n",
    "        inits = [TomoInit.none, TomoInit.ux180_on_1]\n",
    "    elif on_nv == \"1,2\":\n",
    "        rots = [TomoRotations.none, TomoRotations.none, TomoRotations.none]\n",
    "        inits = [TomoInit.none, TomoInit.ux180_on_1, TomoInit.ux180_on_2]\n",
    "    else:\n",
    "        raise ValueError\n",
    "\n",
    "    dict_qst['rotations'] = str(rots)\n",
    "    dict_qst['init_states'] = str(inits)\n",
    "   \n",
    "    dict_qst['init_state_kwargs'] = {'env_type': Evm.optimal}\n",
    "    dict_qst['alternating'] = True\n",
    "    dict_qst['pi_on_nv'] = on_nv\n",
    "    \n",
    "\n",
    "    dict_qst['f_mw_2'] = list_2_csv(f_mw_2)\n",
    "    dict_qst['rabi_period_mw_2'] = list_2_csv(rabi_period_mw_2)\n",
    "    dict_qst['ampl_mw_2'] = list_2_csv(ampl_mw_2)            \n",
    "    \n",
    "    return dict_qst\n",
    "\n",
    "def setup_fom_func_sts_oc_pi():\n",
    "    script_params['fom_func_params'] = locals()\n",
    "    def calc_fom():\n",
    "        signal_data = pulsedmeasurementlogic.signal_data\n",
    "        up_norm = signal_data[1,0] / signal_data[1,0]\n",
    "        down_norm = signal_data[1,1] / signal_data[1,0]\n",
    "\n",
    "        return np.real(1 - (up_norm - down_norm))\n",
    "    \n",
    "    return calc_fom\n",
    "\n",
    "\n",
    "def setup_fom_func_oc_npi(dd_type=DDMethods.SE):\n",
    "    script_params['fom_func_params'] = locals()\n",
    "\n",
    "        \n",
    "    def calc_fom():\n",
    "        # signal_data[0,:] = xaxis\n",
    "        # signal_data[1,:] = yaxis (alternating flattened)\n",
    "        try:\n",
    "            signal_data = pulsedmeasurementlogic.signal_data\n",
    "            #logger.debug(f\"Signal: {signal_data}\")\n",
    "            n_pi = len(signal_data[0,:])\n",
    "            if dd_type is DDMethods.SE:\n",
    "                fom_perfect = np.tile(np.asarray([0,1]), int(n_pi/2))\n",
    "            elif dd_type is DDMethods.XY8:\n",
    "                fom_perfect = np.tile(np.asarray([0,0,1,1,1,0,0,1]), int(n_pi/8))\n",
    "        \n",
    "            n_pi_even = np.where(n_pi%2==0)\n",
    "\n",
    "            data_mw = signal_data[1,:]\n",
    "            data_alt = signal_data[2,:]\n",
    "            data_norm = data_mw/data_alt\n",
    "            data_mw_0 = (data_norm)[fom_perfect==1]  # normed in state |0>\n",
    "            data_mw_1 = (data_norm)[fom_perfect==0]  # normed in state |1>\n",
    "            \n",
    "            err = abs(data_norm - fom_perfect)\n",
    "            \n",
    "            logger.debug(f\"n_pi={n_pi}, fom_perfect= {fom_perfect}, data= {data_norm}, err= {err}\")\n",
    "            return np.mean(1 - (data_mw_0 - data_mw_1))\n",
    "        \n",
    "            #data_mw_0 = (data_norm)[n_pi%2==0]  # normed in state |0>\n",
    "            #data_mw_1 = (data_norm)[n_pi%2==1]  # normed in state |1>\n",
    "\n",
    "            #return np.mean(1 - (data_mw_0 - data_mw_1))\n",
    "        except:\n",
    "            logger.exception(\"\")\n",
    "            return np.nan\n",
    "    \n",
    "    return calc_fom\n",
    "\n",
    "\n",
    "def setup_fom_func_sts_cnot():\n",
    "    script_params['fom_func_params'] = locals()\n",
    "    # todo: this doesn't norm the data onto some reference contrast (eg. NV1, NV2 -> slow pi on each)\n",
    "    # do we need norming?\n",
    "    def calc_fom():\n",
    "        try:\n",
    "            signal_data = pulsedmeasurementlogic.signal_data\n",
    "            #logger.debug(f\"Signal: {signal_data}\")\n",
    "            n_pi = len(signal_data[0,:])\n",
    "            # init= 00, 10, 01, 11\n",
    "            fom_perfect = np.tile(np.asarray([1,1,-1,1,-1,-1,1,-1]), int(n_pi/8))\n",
    "\n",
    "            data_mw = signal_data[1,:]\n",
    "            data_alt = signal_data[2,:]\n",
    "            data_delta = (data_mw-data_alt)\n",
    "            data_mw_0 = (data_delta)[fom_perfect==1]  # normed in state |0>\n",
    "            data_mw_1 = (data_delta)[fom_perfect==-1]  # normed in state |1>\n",
    "            data_mw_0 = np.pad(data_mw_0, (0,len(data_mw_1) -len(data_mw_0)), mode='constant', constant_values=1)\n",
    "\n",
    "\n",
    "            err = abs(data_delta - fom_perfect)\n",
    "\n",
    "            logger.debug(f\"n_pi={n_pi}, fom_perfect= {fom_perfect}, data= {data_delta}, err= {err}\")\n",
    "            return np.mean(err)\n",
    "\n",
    "        except:\n",
    "            logger.exception(\"\")\n",
    "            return np.nan\n",
    "        \n",
    "    return calc_fom\n",
    "\n",
    "\n",
    "def setup_fom_func_oc_crosstalk():\n",
    "    script_params['fom_func_params'] = locals()\n",
    "    # todo: this doesn't norm the data onto some reference contrast (eg. NV1, NV2 -> slow pi on each)\n",
    "    # do we need norming?\n",
    "    def calc_fom():\n",
    "        try:\n",
    "            signal_data = pulsedmeasurementlogic.signal_data\n",
    "            #logger.debug(f\"Signal: {signal_data}\")\n",
    "            # init= 0, oc_pi_on1\n",
    "            n_pi = len(signal_data[0,:])\n",
    "            data_mw = signal_data[1,:]\n",
    "            data_alt = signal_data[2,:]\n",
    "            data_delta = (data_mw-data_alt)\n",
    "\n",
    "            # ref mes nv1 without oc_pi: -1\n",
    "            # ref mes nv2 wihout  oc_pi: -2\n",
    "            # fom should be 1 on nv1: 1\n",
    "            # fom should be 1 on nv2: 1\n",
    "            # discard value: np.nan\n",
    "            if n_pi == 2:\n",
    "                # single nv\n",
    "                fom_perfect = np.asarray([-1, 1])\n",
    "                # oc_pi_on1 can not have less crosstalk than ref mes, because both use rect pi pulse\n",
    "                # => perfect mw_1/data_ref=1     \n",
    "            elif n_pi == 6:\n",
    "                # on both nvs\n",
    "                fom_perfect = np.asarray([-1,-2, np.nan, 1, 2, np.nan])\n",
    "            else:\n",
    "                raise ValueError\n",
    "            \n",
    "            data_ref_nv1 = (data_delta)[fom_perfect==-1]  \n",
    "            data_ref_nv2 = (data_delta)[fom_perfect==-2]  \n",
    "            data_mw_nv1 = (data_delta)[fom_perfect==1]  \n",
    "            data_mw_nv2 = (data_delta)[fom_perfect==2]  \n",
    "            \n",
    "            if n_pi == 2:\n",
    "                err = 1 - (abs(data_mw_nv1/data_ref_nv1))\n",
    "            elif n_pi == 6:\n",
    "                err = [abs(1 - abs(data_mw_nv1/data_ref_nv1))]\n",
    "                err.append(abs(1 - abs(data_mw_nv2/data_ref_nv2)))\n",
    "             \n",
    "            logger.debug(f\"fom_perfect= {fom_perfect}, data= {data_delta}, err= {err}\")\n",
    "            return np.mean(err)\n",
    "\n",
    "        except:\n",
    "            logger.exception(\"\")\n",
    "            return np.nan\n",
    "        \n",
    "    return calc_fom\n",
    "\n",
    "def _debug_pulse_2_seq(pulse, func_pulse_2_seq=None, **func_kwargs):\n",
    "    seq = func_pulse_2_seq(pulse, **func_kwargs)\n",
    "    \n",
    "    return seq\n",
    "\n",
    "def setup_fom_simulation_sigz(f_res, func_pulse_2_seq=None, scan_kwarg_key=None, scan_list=[], scan_fom_target=[],\n",
    "                              **func_kwargs):\n",
    "    \n",
    "    script_params['fom_func_params'] = locals()\n",
    "    \n",
    "    def fom_func(pulse, func_volt_2_rabi=None):\n",
    "        # sim units are MHz!\n",
    "        simp = SimParameters()\n",
    "\n",
    "        B_gauss = (simp.D - f_res*1e-6)/ simp.gamma_nv\n",
    "\n",
    "        # copy for safety, data units may change\n",
    "        pulse_sim = copy_pulse(pulse)\n",
    "        pulse_sim._func_ampl_v_2_omega_mhz = func_volt_2_rabi\n",
    "        logger.debug(f\"func V->MHz: {func_volt_2_rabi}\")\n",
    "        \n",
    "        if func_pulse_2_seq is None:\n",
    "            seqs = [pulse_sim]\n",
    "        else:\n",
    "            if scan_kwarg_key is None:\n",
    "                logger.debug(f\"Pulse to seq with params: {func_kwargs}\")\n",
    "                seqs = [func_pulse_2_seq(pulse_sim, **func_kwargs)]\n",
    "            else:\n",
    "                seqs = []\n",
    "                for param_val in scan_list:\n",
    "                    func_kwargs[scan_kwarg_key] = param_val\n",
    "                    logger.debug(f\"Pulse to seq with params: {func_kwargs}\")\n",
    "                    seqs.append(func_pulse_2_seq(pulse_sim, **func_kwargs))\n",
    "\n",
    "        try:\n",
    "            sim = TimeDependentSimulation()\n",
    "\n",
    "            freq_array = np.asarray([f_res])/1e6  # MHz\n",
    "            logger.debug(f\"Sim at f= {freq_array}\")\n",
    "            pops, foms = [], []\n",
    "            for idx, seq in enumerate(seqs):\n",
    "                spin_pop_vs_delta = sim.run_sim_fsweep(freq_array, seq, B_gauss, simp)\n",
    "                spin_pop = np.mean(spin_pop_vs_delta)\n",
    "                try:\n",
    "                    fom = abs(scan_fom_target[idx] - spin_pop)\n",
    "                    logger.debug(f\"Fom= {fom}, diff to target {spin_pop} - {scan_fom_target[idx]}\")\n",
    "                except IndexError:\n",
    "                    fom = spin_pop\n",
    "                pops.append(spin_pop)\n",
    "                foms.append(fom)\n",
    "                logger.debug(f\"=> spin pop {spin_pop}/ fom: {fom}\")\n",
    "                \n",
    "            fom_res = np.mean(foms)\n",
    "            logger.debug(f\"Foms= {foms}, Total mean fom {fom_res}\")\n",
    "            return fom_res\n",
    "\n",
    "        except Exception as e:\n",
    "            logger.exception(f\"Couldn't simulate pulse response: \")\n",
    "            raise\n",
    "            return np.nan\n",
    "            \n",
    "        \n",
    "    \n",
    "    return fom_func\n",
    "    \n",
    "\n",
    "def get_f_block_sim_array(f_res, f_centers_block, df, n_f, symm_block=False):\n",
    "    f_centers_block_mhz = 1e-6 * np.asarray(f_centers_block).flatten()\n",
    "    f_res_mhz = f_res*1e-6\n",
    "    df_mhz = df*1e-6\n",
    "    if symm_block:\n",
    "        deltas = []\n",
    "        for f_mhz in f_centers_block_mhz:\n",
    "            deltas.append(abs(f_mhz - f_res_mhz))\n",
    "\n",
    "        f_centers = []\n",
    "        for d_mhz in deltas:\n",
    "            f_center_2_mhz_min = f_res_mhz - d_mhz\n",
    "            f_center_2_mhz_plus = f_res_mhz + d_mhz\n",
    "            f_centers.append(f_center_2_mhz_min)\n",
    "            f_centers.append(f_center_2_mhz_plus)\n",
    "    else:\n",
    "        f_centers = f_centers_block_mhz\n",
    "\n",
    "    freqs = []\n",
    "    for f in f_centers:\n",
    "        len_range = int(np.ceil(n_f/len(f_centers)))\n",
    "        f_range = np.linspace(f-df_mhz, f+df_mhz, len_range)\n",
    "        logger.debug(f\"for f_center= {f}: f_range-f_center= {abs(f_range - f)}\")\n",
    "        if np.min(abs(f_range - f)) > 0.1:\n",
    "            f_range = np.insert(f_range, 0, f)\n",
    "        logger.debug(f\"adding {f_range}\")\n",
    "        freqs.extend(list(f_range))\n",
    "    freq_array = 1e6*np.asarray(freqs)\n",
    "\n",
    "    return freq_array # Hz\n",
    "\n",
    "def add_penalty_freq_bandstop(fom_func, f_res, f_center_block, df=10e6, n_f_sim=50, fac_penalty=1,\n",
    "                              symm_block=True, first_fom_req_pulse=False):\n",
    "    \n",
    "    script_params['fom_func_params'].update(locals())\n",
    "    \n",
    "    def extend_fom(pulse, func_volt_2_rabi=None):\n",
    "        if first_fom_req_pulse:\n",
    "            exp_fom = fom_func(pulse, func_volt_2_rabi=func_volt_2_rabi)\n",
    "        else:\n",
    "            exp_fom = fom_func()\n",
    "\n",
    "        # sim units are MHz!\n",
    "        simp = SimParameters()\n",
    "\n",
    "\n",
    "        B_gauss = (simp.D - f_res*1e-6)/ simp.gamma_nv\n",
    "\n",
    "        # copy for safety, data units might change in simulation\n",
    "        pulse_sim = copy_pulse(pulse)\n",
    "        pulse_sim._func_ampl_v_2_omega_mhz = func_volt_2_rabi\n",
    "\n",
    "        try:\n",
    "            sim = TimeDependentSimulation()\n",
    "            \n",
    "            freq_array_mhz = 1e-6*get_f_block_sim_array(f_res, f_center_block, df, n_f_sim, symm_block=symm_block)\n",
    "            data_freq_detuning = sim.run_sim_fsweep(freq_array_mhz, pulse_sim, B_gauss, simp)\n",
    "            spin_pop = np.mean(data_freq_detuning)\n",
    "\n",
    "\n",
    "        except Exception as e:\n",
    "            logger.exception(f\"Couldn't simulate pulse response: \")\n",
    "            return np.nan\n",
    "\n",
    "        # in the blockband, spin_pop should be uneffected (=1)\n",
    "        fom_sim = (1 + fac_penalty*(abs(1-spin_pop)))\n",
    "        fom_hybrid = exp_fom * fom_sim\n",
    "        logger.debug(f\"FOM: {fom_hybrid} <= Exp: {exp_fom}, Sim: {fom_sim},  factor= {fac_penalty}\")\n",
    "        logger.debug(f\"Block bands: {sorted(freq_array)}, nf= {len(freq_array_mhz)}\")\n",
    "        return fom_hybrid\n",
    "\n",
    "\n",
    "    return extend_fom\n",
    "\n",
    "def add_penalty_exp_crosstalk(fom_func, fac_penalty=1, first_fom_req_pulse=False):\n",
    "    script_params['fom_func_params'].update(locals())\n",
    "\n",
    "    def extend_fom(pulse, func_volt_2_rabi=None):\n",
    "        if first_fom_req_pulse:\n",
    "            fom = fom_func(pulse, func_volt_2_rabi=func_volt_2_rabi)\n",
    "        else:\n",
    "            fom = fom_func()\n",
    "\n",
    "        try:\n",
    "            # penalty in in [0,inf]\n",
    "            pen_fom_func = setup_fom_func_oc_crosstalk()\n",
    "            pen_fom = pen_fom_func()\n",
    "            \n",
    "        except Exception as e:\n",
    "            logger.exception(f\"Couldn't obtain pentalty: \")\n",
    "            return np.nan\n",
    "\n",
    "        pen_fom = 1+fac_penalty*abs(pen_fom)\n",
    "\n",
    "        fom_hybrid = pen_fom * fom\n",
    "        \n",
    "        logger.debug(f\"FOM: {fom_hybrid} <= 1st: {fom}, Pen: {pen_fom},  factor= {fac_penalty}\")\n",
    "        return fom_hybrid\n",
    "\n",
    "\n",
    "    return extend_fom\n",
    "    \n",
    "\n",
    "def add_penalty_tomo_freq_bandstop(fom_func, f_res, f_center_block, df=10e6, n_f_sim=50, fac_penalty=1,\n",
    "                              symm_block=True, first_fom_req_pulse=False):\n",
    "    \n",
    "    script_params['fom_func_params'].update(locals())\n",
    "    \n",
    "\n",
    "    def extend_fom(pulse, func_volt_2_rabi=None):\n",
    "        if first_fom_req_pulse:\n",
    "            exp_fom = fom_func(pulse, func_volt_2_rabi=func_volt_2_rabi)\n",
    "        else:\n",
    "            exp_fom = fom_func()\n",
    "\n",
    "        # sim units are MHz!\n",
    "        simp = SimParameters()\n",
    "\n",
    "\n",
    "        B_gauss = (simp.D - f_res*1e-6)/ simp.gamma_nv\n",
    "\n",
    "        # copy for safety, data units might change in simulation\n",
    "        pulse_sim = copy_pulse(pulse)\n",
    "        pulse_sim._func_ampl_v_2_omega_mhz = func_volt_2_rabi\n",
    "\n",
    "        try:\n",
    "            freq_array = get_f_block_sim_array(f_res, f_center_block, df, n_f_sim, symm_block=symm_block)\n",
    "            logger.debug(f\"Tomo at delta= {freq_array-f_res}\")\n",
    "            chi_avg =  sim_process_tomo_avg(pulse_sim,  B_gauss, deltas=freq_array-f_res)\n",
    "            fom = np.real(1 - fidelity_chi_pi_x(chi_avg, u_target='1'))\n",
    "\n",
    "        except Exception as e:\n",
    "            logger.exception(f\"Couldn't simulate pulse response: \")\n",
    "            return np.nan\n",
    "\n",
    "        # in the blockband, spin_pop should be uneffected (=1)\n",
    "        fom_sim = fac_penalty*fom\n",
    "        fom_hybrid = exp_fom * fom_sim\n",
    "        logger.debug(f\"FOM: {fom_hybrid} <= Exp: {exp_fom}, Sim: {fom_sim},  factor= {fac_penalty}\")\n",
    "        logger.debug(f\"Block bands: {sorted(freq_array)}, nf= {len(freq_array)}\")\n",
    "        return fom_hybrid\n",
    "\n",
    "\n",
    "    return extend_fom\n",
    "\n",
    "\n",
    "def setup_fom_func_oc_proctomo(rho_mode='v1'):\n",
    "    script_params['fom_func_params'] = locals()\n",
    "    def calc_fom():\n",
    "        signal_data = pulsedmeasurementlogic.signal_data\n",
    "\n",
    "        E1 = signal_data[1,2:6]\n",
    "        E0 = signal_data[1,6:10]\n",
    "        E2 = signal_data[1,10:14]\n",
    "        E3 = signal_data[1,14:18]\n",
    "\n",
    "        # normalize the rabi measurments with m_s=0 and m_s=-1 state measurement\n",
    "        norm_max = signal_data[1,0]\n",
    "        norm_min = signal_data[1,1]\n",
    "\n",
    "        E0 = (E0 - norm_min) / (norm_max-norm_min)\n",
    "        E1 = (E1 - norm_min) / (norm_max-norm_min)\n",
    "        E2 = (E2 - norm_min) / (norm_max-norm_min)\n",
    "        E3 = (E3 - norm_min) / (norm_max-norm_min)\n",
    "\n",
    "        # calculate the density matrices\n",
    "        rho0 = calculate_rho(E0)\n",
    "        rho1 = calculate_rho(E1)\n",
    "        rho2 = calculate_rho(E2)\n",
    "        rho3 = calculate_rho(E3)\n",
    "        \n",
    "        logger.debug(f\"Measured rho {rho0},{rho1},{rho2},{rho3}\")\n",
    "        \n",
    "        # quadratic maximum likelihood estimation of the density matrices\n",
    "        rho0_est = rho_phy_corr(rho0)\n",
    "        rho1_est = rho_phy_corr(rho1)\n",
    "        rho2_est = rho_phy_corr(rho2)\n",
    "        rho3_est = rho_phy_corr(rho3)\n",
    "        \n",
    "        logger.debug(f\"Reconstruted rho {rho0_est},{rho1_est},{rho2_est},{rho3_est}\")\n",
    "        \n",
    "        if rho_mode == 'v2':\n",
    "            rho0_est = construct_physical_state(scipy.optimize.minimize(\n",
    "                RMS_discrepancy_state,x0 = [0,0,1,1,0,0],\n",
    "                bounds=((-1,1),(-1,1),(-1,1),(0,1),(0,1),(0,1)),\n",
    "                args=rho0).x)\n",
    "            rho1_est = construct_physical_state(scipy.optimize.minimize(\n",
    "                RMS_discrepancy_state,x0 = [0,0,1,1,0,0],\n",
    "                bounds=((-1,1),(-1,1),(-1,1),(0,1),(0,1),(0,1)),\n",
    "                args=rho1).x)\n",
    "            rho2_est = construct_physical_state(scipy.optimize.minimize(\n",
    "                RMS_discrepancy_state,x0 = [0,0,1,1,0,0],\n",
    "                bounds=((-1,1),(-1,1),(-1,1),(0,1),(0,1),(0,1)),\n",
    "                args=rho2).x)\n",
    "            rho3_est = construct_physical_state(scipy.optimize.minimize(\n",
    "                RMS_discrepancy_state,x0 = [0,0,1,1,0,0],\n",
    "                bounds=((-1,1),(-1,1),(-1,1),(0,1),(0,1),(0,1)),\n",
    "                args=rho3).x)\n",
    "        \n",
    "        logger.debug(f\"Reconstruted rho_phys {rho0_est},{rho1_est},{rho2_est},{rho3_est}\")\n",
    "        \n",
    "        # calculate chi matrix (Qunatum Process Tomography)\n",
    "        chi = calc_chi(rho0_est,rho1_est,rho2_est,rho3_est)\n",
    "        \n",
    "        logger.debug(f\"Reconstructed process matrix: {chi}\")\n",
    "\n",
    "        # calculate the fom\n",
    "        fom = np.real(1 - fidelity_chi_pi_x(chi))\n",
    "        \n",
    "        return fom\n",
    "        \n",
    "    return calc_fom\n",
    "\n",
    "def setup_fom_simulation_proctomo(f_res, delta_hfs=2.1e6):\n",
    "    script_params['fom_func_params'] = locals()\n",
    "    \n",
    "    def fom_func(pulse, func_volt_2_rabi=None):\n",
    "        try:\n",
    "            # sim units are MHz!\n",
    "            B_gauss = (simp.D - f_res*1e-6)/ simp.gamma_nv\n",
    "            pulse_sim = copy_pulse(pulse)\n",
    "            pulse_sim._func_ampl_v_2_omega_mhz = func_volt_2_rabi\n",
    "            \n",
    "            chi_avg = sim_process_tomo_avg_hfs(pulse_sim,  B_gauss, delta_hfs=delta_hfs)\n",
    "            fom = np.real(1 - fidelity_chi_pi_x(chi_avg))\n",
    "\n",
    "            return fom\n",
    "        \n",
    "        except Exception as e:\n",
    "            logger.exception(f\"Couldn't simulate pulse process tomo: \")\n",
    "            raise\n",
    "            return np.nan\n",
    "                \n",
    "    return fom_func\n",
    "\n",
    "def setup_fom_simulation_mathematica(f_res1, f_res2, g_dip=15e3, deltas=None, dd_type=DDMethods.XY8, \n",
    "                                     dd_order=1, omega_rabi_rect=20e6):\n",
    "    script_params['fom_func_params'] = locals()\n",
    "    \n",
    "    if deltas is None:\n",
    "        deltas = [0]\n",
    "\n",
    "    def fom_func(pulse, func_volt_2_rabi=None):\n",
    "        try:\n",
    "            \n",
    "            if dd_type == DDMethods.CPMG:\n",
    "                dd_params = wolf.evaluate(wsim.loadSequenceCPMG(dd_order))\n",
    "            elif dd_type == DDMethods.XY8:\n",
    "                dd_params = wolf.evaluate(wsim.loadSequenceXY8(dd_order))\n",
    "            else:\n",
    "                raise NotImplemented(\"\")\n",
    "            pulse_params = setup_pi_pulse_params('optimal_both')\n",
    "            \n",
    "            f_res1_mhz = f_res1/1e6\n",
    "            f_res2_mhz = f_res2/1e6\n",
    "            delta_f_mhz = 0#2*np.pi*0.2  # MHz rad\n",
    "            omega_rabi_mhz = omega_rabi_rect/1e6 # MHz rad\n",
    "            crosstalk = 1\n",
    "            \n",
    "            rhos = []\n",
    "            \n",
    "            for delta in deltas:\n",
    "                delta_f_mhz = delta/1e6\n",
    "                wsim_params = {'gRun':2*np.pi*g_dip/1e6, 'crossTalkRun':crosstalk,\n",
    "                               '\\u03b41Run':2*np.pi*delta_f_mhz, '\\u03b42Run':2*np.pi*delta_f_mhz,\n",
    "                               '\\u03a91max':2*np.pi*omega_rabi_mhz, '\\u03a92max':2*np.pi*omega_rabi_mhz,#\n",
    "                               '\\u03c91Run':2*np.pi*f_res1_mhz, '\\u03c92Run':2*np.pi*f_res2_mhz,\n",
    "                              }\n",
    "                # todo: think of other init states\n",
    "                qsim = setup_sim_params(dd_params, pi_pulse_params=pulse_params,\n",
    "                                        init=TomoInit.ux180_on_2, sim_params=wsim_params)\n",
    "                                \n",
    "                rho = run_wsim(qsim)\n",
    "\n",
    "                rhos.append(rho)\n",
    "                                \n",
    "                script_params['wolf_sim_params_last'] = qsim\n",
    "                logger.debug(f\"Sim params: {wsim_params.values()}\")  # cant display unicode in keys()\n",
    "                logger.debug(f\"For delta= {delta_f_mhz} MHz, rho= {rho}\")\n",
    "                \n",
    "            rho_avg = sum(rhos)/len(deltas)\n",
    "            logger.debug(f\"Mathematica loaded pulse timestamp: {qsim['wolfram_sim_params']['pulseParamsP1']['fileTimestamp']}\")\n",
    "            logger.debug(f\"rho_avg= {rho_avg}\")\n",
    "            \n",
    "            func_ampl_v_2_2pimhz = qsim['wolfram_sim_params']['pulseParamsP1']['func_ampl_v_2_rabi_2piMHz']\n",
    "            if func_volt_2_rabi(1)*2*np.pi != func_ampl_v_2_2pimhz:\n",
    "                raise ValueError(f\"ampl_2_rabi calibration does not fit wolfram simulation: {func_ampl_v_2_2pimhz} 2pi MHz\")\n",
    "            file_ampl, file_phase = get_pulse_filename(folder_path, filename)\n",
    "            file_wolf_ampl, file_wolf_phase = qsim['wolfram_sim_params']['pulseParamsP1']['fileAmpl'], qsim['wolfram_sim_params']['pulseParamsP1']['filePhase']\n",
    "            if file_wolf_ampl != file_ampl or file_wolf_phase != file_phase:\n",
    "                raise ValueError(f\"File set as file destination {file_ampl} does not fit to the Mathematica loaded: {file_wolf_ampl}\")\n",
    "            \n",
    "            rho_opt = get_opt_rho(qsim, True)\n",
    "            # todo: sph_err on NV1 only \n",
    "            fidelity, sph_err = state_fidelity(rho_avg, rho_opt), calc_sph_error(rho_avg, qsim)\n",
    "            fom = abs(1-fidelity)\n",
    "            return fom\n",
    "        \n",
    "        except Exception as e:\n",
    "            logger.exception(f\"Couldn't simulate pulse process tomo: \")\n",
    "            raise\n",
    "            return np.nan\n",
    "                \n",
    "    return fom_func\n",
    "\n",
    "\n",
    "0"
   ]
  },
  {
   "cell_type": "code",
   "execution_count": 722,
   "metadata": {},
   "outputs": [
    {
     "data": {
      "text/plain": [
       "(array([ 0.11898635,  0.19402007, -0.00846538,  0.1333846 , -0.0469252 ,\n",
       "       -0.12343491,  0.04236462, -0.05301406]), array([0.88101365, 0.80597993, 0.99153462, 0.8666154 , 0.9530748 ,\n",
       "       0.87656509, 0.95763538, 0.94698594]))"
      ]
     },
     "execution_count": 722,
     "metadata": {},
     "output_type": "execute_result"
    }
   ],
   "source": [
    "\n",
    "\n",
    "calc_fom()"
   ]
  },
  {
   "cell_type": "markdown",
   "metadata": {},
   "source": [
    "## Others"
   ]
  },
  {
   "cell_type": "code",
   "execution_count": 21,
   "metadata": {},
   "outputs": [
    {
     "data": {
      "text/plain": [
       "0"
      ]
     },
     "execution_count": 21,
     "metadata": {},
     "output_type": "execute_result"
    }
   ],
   "source": [
    "# shaddows philipp_optimization.ipynb\n",
    "\n",
    "def calculate_rho(rho_data):\n",
    "    rho_data[2] = (rho_data[2] - 0.5) * 2\n",
    "    rho_data[3] = (rho_data[3] - 0.5) * 2\n",
    "    \n",
    "    rho_return = np.zeros([2,2], dtype = complex)\n",
    "    rho_return[0,0] = 1/2 + 1/2 * (rho_data[0] - rho_data[1])\n",
    "    rho_return[0,1] = 1/2 * (rho_data[3] + 1j * rho_data[2])\n",
    "    rho_return[1,0] = 1/2 * (rho_data[3] - 1j * rho_data[2])\n",
    "    rho_return[1,1] = 1/2 - 1/2 * (rho_data[0] - rho_data[1])\n",
    "    \n",
    "    return rho_return\n",
    "\n",
    "def rho_min(rho):\n",
    "    #find a physically correct density matrix\n",
    "    \n",
    "    sigma = np.zeros((2,2))\n",
    "    # substitute constant values; rho[0,0]) and rho[1,1] are always real!\n",
    "    a = np.real(1 + (-1 + rho[0,0]) * rho[0,0] + (-1 + rho[1,1]) * rho[1,1] + 2 * np.abs(rho[0,1]))**2\n",
    "    b = np.real(-rho[0,0] + rho[1,1])\n",
    "    c = -2 * np.real(rho[0,1])\n",
    "    d = - 2 * np.imag(rho[0,1])\n",
    "\n",
    "    n1 = np.arctan2([-c] , [-b])\n",
    "    n1 = n1[0]\n",
    "    n2 = np.arctan2([c], [b])\n",
    "    n2 = n2[0]\n",
    "    x1 = -np.arccos(- np.sqrt((b**2 + c**2)/(b**2 + c**2 + d**2)))\n",
    "    x2 = np.arccos(- np.sqrt((b**2 + c**2)/(b**2 + c**2 + d**2)))\n",
    "\n",
    "    sigma[0,0] = a + b * np.cos(n1) * np.cos(x1) + c * np.cos(x1) * np.sin(n1) + d * np.sin(x1)\n",
    "    sigma[0,1] = a + b * np.cos(n1) * np.cos(x2) + c * np.cos(x2) * np.sin(n1) + d * np.sin(x2)\n",
    "    sigma[1,0] = a + b * np.cos(n2) * np.cos(x1) + c * np.cos(x1) * np.sin(n2) + d * np.sin(x1)\n",
    "    sigma[1,1] = a + b * np.cos(n2) * np.cos(x2) + c * np.cos(x2) * np.sin(n2) + d * np.sin(x2)\n",
    "\n",
    "    pos_min = np.unravel_index(np.argmin(sigma), np.shape(sigma))\n",
    "    n_min = int(pos_min[0])\n",
    "    x_min = int(pos_min[1])\n",
    "\n",
    "    if n_min == 0 and x_min == 0:\n",
    "        rho_return = rho_parameterized(n1,x1)\n",
    "    elif n_min == 0 and x_min == 1:\n",
    "        rho_return = rho_parameterized(n1,x2)\n",
    "    elif n_min == 1 and x_min == 0:\n",
    "        rho_return = rho_parameterized(n2,x1)\n",
    "    elif n_min == 1 and x_min == 1:\n",
    "        rho_return = rho_parameterized(n2,x2)\n",
    "        \n",
    "    return rho_return\n",
    "\n",
    "def rho_phy_corr(rho):\n",
    "    # enforces trace=1\n",
    "    rho_corr = (rho + np.matrix.getH(rho))/2\n",
    "    rho_corr = rho_corr/np.trace(rho_corr)\n",
    "    return rho_corr    \n",
    "\n",
    "def calc_chi(rho0_chi,rho1_chi,rho2_chi,rho3_chi):\n",
    "    #\"Quantum State Tomography: calculate matrix Chi from given density matrices rho1,..,rho4\"\n",
    "    sigx = np.array([[0,1],[1,0]])\n",
    "\n",
    "    #Defintion of Matrix M\n",
    "\n",
    "    M=np.zeros([8,8],dtype=complex)\n",
    "    M[0,0]=0\n",
    "    M[0,1]=0\n",
    "    M[0,2]=0\n",
    "    M[0,3]=0\n",
    "    M[0,4]=0\n",
    "    M[0,5]=0\n",
    "    M[0,6]=1\n",
    "    M[0,7]=0\n",
    "\n",
    "    M[1,0]=0\n",
    "    M[1,1]=0\n",
    "    M[1,2]=0\n",
    "    M[1,3]=0\n",
    "    M[1,4]=0\n",
    "    M[1,5]=0\n",
    "    M[1,6]=0\n",
    "    M[1,7]=1\n",
    "\n",
    "    M[2,0]=1\n",
    "    M[2,1]=0\n",
    "    M[2,2]=0\n",
    "    M[2,3]=0\n",
    "    M[2,4]=0\n",
    "    M[2,5]=0\n",
    "    M[2,6]=0\n",
    "    M[2,7]=0\n",
    "\n",
    "    M[3,0]=0\n",
    "    M[3,1]=1\n",
    "    M[3,2]=0\n",
    "    M[3,3]=0\n",
    "    M[3,4]=0\n",
    "    M[3,5]=0\n",
    "    M[3,6]=0\n",
    "    M[3,7]=0\n",
    "\n",
    "    M[4,0]=0.5\n",
    "    M[4,1]=0\n",
    "    M[4,2]=-0.5j\n",
    "    M[4,3]=0\n",
    "    M[4,4]=0.5j\n",
    "    M[4,5]=0\n",
    "    M[4,6]=0.5\n",
    "    M[4,7]=0\n",
    "\n",
    "    M[5,0]=0\n",
    "    M[5,1]=0.5\n",
    "    M[5,2]=0\n",
    "    M[5,3]=-0.5j\n",
    "    M[5,4]=0\n",
    "    M[5,5]=0.5j\n",
    "    M[5,6]=0\n",
    "    M[5,7]=0.5\n",
    "\n",
    "    M[6,0]=0.5\n",
    "    M[6,1]=0\n",
    "    M[6,2]=-0.5\n",
    "    M[6,3]=0\n",
    "    M[6,4]=-0.5\n",
    "    M[6,5]=0\n",
    "    M[6,6]=0.5\n",
    "    M[6,7]=0\n",
    "\n",
    "    M[7,0]=0\n",
    "    M[7,1]=0.5\n",
    "    M[7,2]=0\n",
    "    M[7,3]=-0.5\n",
    "    M[7,4]=0\n",
    "    M[7,5]=-0.5\n",
    "    M[7,6]=0\n",
    "    M[7,7]=0.5\n",
    "\n",
    "    #calculate inverse of matrix M\n",
    "    Minv = np.linalg.inv(M)\n",
    "    \n",
    "    #convert matrices rho1,...,rho4 to one 8x2 matrix\n",
    "    rho_chi=np.zeros([8,2],dtype=complex)\n",
    "    rho_chi[0,0]=rho0_chi[0,0]\n",
    "    rho_chi[0,1]=rho0_chi[0,1]\n",
    "    rho_chi[1,0]=rho0_chi[1,0]\n",
    "    rho_chi[1,1]=rho0_chi[1,1]\n",
    "\n",
    "    rho_chi[2,0]=rho1_chi[0,0]\n",
    "    rho_chi[2,1]=rho1_chi[0,1]\n",
    "    rho_chi[3,0]=rho1_chi[1,0]\n",
    "    rho_chi[3,1]=rho1_chi[1,1]\n",
    "\n",
    "    rho_chi[4,0]=rho2_chi[0,0]\n",
    "    rho_chi[4,1]=rho2_chi[0,1]\n",
    "    rho_chi[5,0]=rho2_chi[1,0]\n",
    "    rho_chi[5,1]=rho2_chi[1,1]\n",
    "\n",
    "    rho_chi[6,0]=rho3_chi[0,0]\n",
    "    rho_chi[6,1]=rho3_chi[0,1]\n",
    "    rho_chi[7,0]=rho3_chi[1,0]\n",
    "    rho_chi[7,1]=rho3_chi[1,1]\n",
    "    \n",
    "    #Minv times rho\n",
    "    rhoprime = np.matmul(Minv,rho_chi)\n",
    "    #convert rhoprime (8x2) into a 4x4 matrix\n",
    "    rhoM=np.zeros([4,4],dtype=complex)\n",
    "    rhoM[0:2,0:2]=rhoprime[0:2,0:2]\n",
    "    rhoM[0:2,2:4]=rhoprime[2:4,0:2]\n",
    "    rhoM[2:4,0:2]=rhoprime[4:6,0:2]\n",
    "    rhoM[2:4,2:4]=rhoprime[6:9,0:2]\n",
    "    \n",
    "    #Definition of Lambda\n",
    "    Lambda=np.zeros([4,4],dtype=complex)\n",
    "    Lambda[0:2,0:2]=np.identity(2)\n",
    "    Lambda[2:4,0:2]=sigx\n",
    "    Lambda[0:2,2:4]=sigx\n",
    "    Lambda[2:4,2:4]=-np.identity(2)\n",
    "    Lambda = Lambda * 0.5\n",
    "    \n",
    "    #calculate Chi\n",
    "    chi = np.matmul(Lambda,np.matmul(rhoM,Lambda))                    \n",
    "    \n",
    "    return chi\n",
    "\n",
    "\n",
    "def fidelity_chi_pi_x(chi, u_target='x'):\n",
    "    #\"calculate fidelity of Sx pi-pulse\"\n",
    "    #Definition of pauli and spin matrices\n",
    "    sigx = np.array([[0,1],[1,0]])\n",
    "    sigy = np.array([[0,-1j],[1j,0]])\n",
    "    sigz = np.array([[1,0],[0,-1]])\n",
    "\n",
    "    Sx = 0.5 * sigx\n",
    "    Sy = 0.5 * sigy\n",
    "    Sz= 0.5 * sigz\n",
    "\n",
    "    #initial state\n",
    "    init1 = np.array([[0,0],[0,1]])\n",
    "    init2 = np.array([[1,0],[0,0]])\n",
    "    init3 = np.matmul(np.matmul(linalg.expm(-1j*np.pi/2*Sx),init1),linalg.expm(1j*np.pi/2*Sx))\n",
    "    init4 = np.matmul(np.matmul(linalg.expm(-1j*np.pi/2*Sy),init1),linalg.expm(1j*np.pi/2*Sy))\n",
    "\n",
    "    #time evolution operator\n",
    "    U = linalg.expm(-1j * np.pi * Sx)\n",
    "\n",
    "    #final state\n",
    "    final1 = np.matmul(np.matmul(U,init1),U.conj().transpose())\n",
    "    final2 = np.matmul(np.matmul(U,init2),U.conj().transpose())\n",
    "    final3 = np.matmul(np.matmul(U,init3),U.conj().transpose())\n",
    "    final4 = np.matmul(np.matmul(U,init4),U.conj().transpose())\n",
    "    \n",
    "    #calculate theoretical chi of Sx pi-pulse\n",
    "    if u_target == 'x':\n",
    "        chi_theo = calc_chi(final1,final2,final3,final4)\n",
    "    elif u_target == '1':\n",
    "        chi_theo = calc_chi(init1,init2,init3,init4)\n",
    "    else:\n",
    "        raise NotImplemented\n",
    "    \n",
    "    # calculate figure of merit = gate fidelity\n",
    "    #fom = np.real(np.trace(np.matmul(chi_theo.conj().transpose(),chi)))\n",
    "    fom = 1 - 1/4 * np.trace(np.sqrt(np.matmul((chi-chi_theo).conj().transpose(),(chi - chi_theo))))\n",
    "    \n",
    "    return fom\n",
    "\n",
    "\n",
    "\n",
    "# construct a physical state \n",
    "def construct_physical_state(params):\n",
    "    \n",
    "    # Pauli matrices\n",
    "    sigma_I = np.array([[1,0],[0, 1]], dtype='complex')\n",
    "    sigma_x = np.array([[0, 1],[1, 0]], dtype='complex')\n",
    "    sigma_y = np.array([[0,-1],[1, 0]], dtype='complex') * 1.j\n",
    "    sigma_z = np.array([[1, 0],[0,-1]], dtype='complex')\n",
    "    pauli = [sigma_I, sigma_x, sigma_y, sigma_z]\n",
    "\n",
    "\n",
    "    \n",
    "    # extract the parameters\n",
    "    alpha, beta, gamma, a, p_depha, p_depol = params\n",
    "    \n",
    "    # starting state (diagonalized)\n",
    "    rho_phys_0 = np.array([[a,0],[0,1-a]])\n",
    "    \n",
    "    # calculate the rotation matrices\n",
    "    Rot_x = np.array([[np.cos(alpha/2), -1.j*np.sin(alpha/2)],\n",
    "                      [-1.j*np.sin(alpha/2), np.cos(alpha/2)]])\n",
    "    Rot_y = np.array([[np.cos(beta/2), -np.sin(beta/2)],\n",
    "                      [np.sin(beta/2), np.cos(beta/2)]])\n",
    "    Rot_z = np.array([[np.exp(-1.j*gamma/2), 0],\n",
    "                      [0, np.exp(1.j*gamma/2)]])\n",
    "    \n",
    "    # construct a unitary matrix\n",
    "    U = np.dot(Rot_z,np.dot(Rot_y,Rot_x))\n",
    "    \n",
    "    # unitary transformation\n",
    "    rho_phys = np.dot(U,np.dot(rho_phys_0,np.matrix.getH(U)))\n",
    "    \n",
    "    # consider dephasing\n",
    "    Kraus_op_depha = []\n",
    "    Kraus_op_depha.append(np.sqrt(1-p_depha/2) * pauli[0])\n",
    "    Kraus_op_depha.append(np.sqrt(p_depha/2) * pauli[3])\n",
    "\n",
    "    rho_tmp = np.zeros((2,2))\n",
    "    for kk in range(len(Kraus_op_depha)):\n",
    "\n",
    "        rho_tmp = rho_tmp + np.dot(Kraus_op_depha[kk],\n",
    "                                   np.dot(rho_phys,np.matrix.getH(Kraus_op_depha[kk])))\n",
    "\n",
    "    rho_phys = rho_tmp\n",
    "        \n",
    "    # consider depolarization\n",
    "    Kraus_op_depol = []\n",
    "    Kraus_op_depol.append(np.sqrt(1-3*p_depol/4) * pauli[0])\n",
    "    Kraus_op_depol.append(np.sqrt(p_depol)/2 * pauli[1])\n",
    "    Kraus_op_depol.append(np.sqrt(p_depol)/2 * pauli[2])\n",
    "    Kraus_op_depol.append(np.sqrt(p_depol)/2 * pauli[3])\n",
    "    \n",
    "    rho_tmp = np.zeros((2,2))\n",
    "    for kk in range(len(Kraus_op_depol)):\n",
    "        rho_tmp = rho_tmp + np.dot(Kraus_op_depol[kk],\n",
    "                                   np.dot(rho_phys,np.matrix.getH(Kraus_op_depol[kk])))\n",
    "\n",
    "    rho_phys = rho_tmp\n",
    "        \n",
    "    return rho_phys\n",
    "\n",
    "\n",
    "\n",
    "# minimize the RMS discrepancy and calculate the physical guess for the state\n",
    "def RMS_discrepancy_state(params, LGST_estimate):\n",
    "    \n",
    "    rms_dis_state_arg = LGST_estimate - construct_physical_state(params)\n",
    "    \n",
    "    rms_dis_state_val = np.trace(np.dot(np.matrix.getH(rms_dis_state_arg),\n",
    "                                        rms_dis_state_arg))\n",
    "        \n",
    "    return np.real(rms_dis_state_val)\n",
    "\n",
    "\n",
    "# calculate the physical guess for rho\n",
    "#construct_physical_state(optimize.minimize(\n",
    "#    RMS_discrepancy_state,x0 = [0,0,1,1,0,0],\n",
    "#    bounds=((-1,1),(-1,1),(-1,1),(0,1),(0,1),(0,1)),\n",
    "#    args=rho_0).x)\n",
    "\n",
    "0"
   ]
  },
  {
   "cell_type": "code",
   "execution_count": 23,
   "metadata": {},
   "outputs": [
    {
     "data": {
      "text/plain": [
       "-179"
      ]
     },
     "execution_count": 23,
     "metadata": {},
     "output_type": "execute_result"
    }
   ],
   "source": [
    "# shaddows postprocess_qdplot.iypnb\n",
    "\n",
    "#import lmfit\n",
    "import qutip\n",
    "\n",
    "def tomography_1q_from_2rabi(fit_dict, pmes_rabi_ref):\n",
    "    if len(fit_dict) != 2:\n",
    "        raise ValueError\n",
    "    \n",
    "  \n",
    "    fit_x = [val['fit_res'] for (key, val) in fit_dict.items() if val['exp_params']['rabi_phase_deg'] == 0][0]\n",
    "    fit_y = [val['fit_res'] for (key, val) in fit_dict.items() if val['exp_params']['rabi_phase_deg'] == 90][0]\n",
    "    \n",
    "    \n",
    "    ampl0, ampl1, y0s =  fits_2_tomo_params(fit_x, fit_y, pmes_rabi_ref)\n",
    "    \n",
    "    #return (ampl0, ampl1, y0s)\n",
    "    return _tomo_1q_rabi(ampl0, ampl1, y0s)\n",
    "\n",
    "    \n",
    "    \n",
    "def tomography_2q_from_2rabi(fit_dict, pmes_rabi_ref_0, pmes_rabi_ref_1):\n",
    "    pass\n",
    "\n",
    "\n",
    "def _tomo_1q_rabi(ampls_0=[0, 0], ampls_1=[0, 0], y0=[0,0]):\n",
    "    # input the fit results to Rabi oscillations driven around the X and Y axis\n",
    "    # result is a density matrix reconstructed from a linear square solution to\n",
    "    # the overdetermined system given by Neumann PhD (3.24)\n",
    "    # a*x=b where x=[a,b,c,d] with variable names like in (3.21)\n",
    "    \n",
    "    y0x = y0[0]\n",
    "    y0y = y0[1]\n",
    "    A0x = ampls_0[0]\n",
    "    A0y = ampls_0[1]\n",
    "    A1x = ampls_1[0]\n",
    "    A1y = ampls_1[1]\n",
    "    \n",
    "    a = np.zeros((6, 4))\n",
    "    a[0,0] = 1/2\n",
    "    a[0,3] = 1/2\n",
    "    a[1,0] = 1/2\n",
    "    a[1,3] = 1/2\n",
    "    a[2,0] = -1/2\n",
    "    a[2,3] = 1/2\n",
    "    a[3,0] = -1/2\n",
    "    a[3,3] = 1/2\n",
    "    a[4,2] = 1     # TODO: Attention: -1 if like in PhD Neumann\n",
    "    a[5,1] = 1\n",
    "    \n",
    "    b = [y0x, y0y, A0x, A0y, A1x, A1y]\n",
    "    \n",
    "    x, _, _, _= np.linalg.lstsq(a, b)\n",
    "    \n",
    "    rho = np.zeros((2,2), dtype=complex)\n",
    "    a,b,c,d = x[0], x[1], x[2], x[3]\n",
    "    rho[0,0] = a\n",
    "    rho[0,1] = complex(b, c)\n",
    "    rho[1,0] = complex(b, -c)\n",
    "    rho[1,1] = d\n",
    "    \n",
    "    return rho\n",
    "   \n",
    "\n",
    "def norm_cts_2_pop(i_cts, cts_max=1, cts_min=0.7, is_ampl=False, to_0_state=False):\n",
    "    from scipy.interpolate import interp1d\n",
    "    \n",
    "    # norm to_0_state -> rabi starts in 1 (like fluorescence)\n",
    "    # otherwise -> rabi starts in 0 (like usual state def)\n",
    "   \n",
    "    if is_ampl:\n",
    "        normed_range = [1,0] if to_0_state else [-1, 0]\n",
    "        mapper = interp1d([cts_max-cts_min,0], normed_range, fill_value='extrapolate')\n",
    "    else:\n",
    "        normed_range = [1,0] if to_0_state else [0, 1]\n",
    "        mapper = interp1d([cts_max,cts_min],normed_range, fill_value='extrapolate')\n",
    "    return mapper(i_cts)\n",
    "\n",
    "def fits_2_tomo_params(fit_rabi_x, fit_rabi_y, pmes_rabi_ref):\n",
    "    \n",
    "    f_x = fit_rabi_x\n",
    "    f_y = fit_rabi_y\n",
    "    \n",
    "    cts_max = np.max(pmes_rabi_ref['fit_values']['y'])\n",
    "    cts_min = np.min(pmes_rabi_ref['fit_values']['y'])\n",
    "\n",
    "    ampls_0 = norm_cts_2_pop([f_x[0], f_y[0]], cts_min=cts_min, cts_max=cts_max, is_ampl=True)\n",
    "    ampls_1 = norm_cts_2_pop([f_x[1], f_y[1]], cts_min=cts_min, cts_max=cts_max, is_ampl=True)\n",
    "    y0s = norm_cts_2_pop([f_x[2], f_y[2]], cts_min=cts_min, cts_max=cts_max)\n",
    "    \n",
    "    \n",
    "    logger.debug(f\"Norming fit params to least-squared a0,a1,y0= {[f_x[0], f_y[0]]}, \\\n",
    "                 {[f_x[1], f_y[1]]},{[f_x[2], f_y[2]]} -> {ampls_0},{ampls_1},{y0s}\")\n",
    "    #if ampls_0 < 0 or ampls_1 > 1 or ampls_1 < 0 or ampls_1 > 1:\n",
    "    #    logger.warning(\"Found unreasonable Rabi amplitudes. Norm error?\")\n",
    "    \n",
    "    return ampls_0, ampls_1, y0s\n",
    "\n",
    "\n",
    "def fit_rabis(pmes_list, zdata='delta'):\n",
    "    \n",
    "    p_raw = pmes_list\n",
    "    \n",
    "    \"\"\"\n",
    "    Using a fit 'expression' to fix the frequencies of the two sines seem broken.\n",
    "    So instead: 1. find the frequency in a 'sine' fit and 2. fix this in a 'sine_2x' fit\n",
    "    \"\"\"\n",
    "\n",
    "    y_val_idx = None\n",
    "    fit_on = zdata #'delta'\n",
    "    fit_meth = 'sine'\n",
    "    fit_vals = ['frequency', 'None', 'None']\n",
    "\n",
    "    for i, p in enumerate(p_raw):\n",
    "        z_i = get_z(p, mode=zdata)\n",
    "        tau_i = p['data']['tau']\n",
    "        ampl_guess = (np.max(z_i) - np.min(z_i))/2\n",
    "        offset_guess = np.mean(z_i)\n",
    "        f_min = 1/np.max(tau_i)\n",
    "        \n",
    "        # for some reason, giving min, max boundaries for fit confuses the initial guess\n",
    "        # so manually get value form fft\n",
    "        fft_x, fft_delta = compute_ft(x_val=tau_i,\n",
    "                          y_val=z_i)\n",
    "        f_guess = fft_x[np.argmax(fft_delta)]\n",
    "\n",
    "        p_raw[i]['fit_edit_params'] = [lmfit.Parameter('frequency', vary=True, value=f_guess, min=f_min, max=10*f_min),\n",
    "                                    #lmfit.Parameter('phase', value=0, vary=True, min=-np.pi, max=np.pi),\n",
    "                                    lmfit.Parameter('beta', value=1, vary=False),\n",
    "                                    #lmfit.Parameter('lifetime', value=np.inf, vary=False)\n",
    "                                    #lmfit.Parameter('lifetime', value=10e-6, vary=True, min=10e-9),\n",
    "                                    #lmfit.Parameter('amplitude', value=ampl_guess, vary=True, min=0),\n",
    "                                    #lmfit.Parameter('offset', value=offset_guess, vary=True)\n",
    "                                   ]\n",
    "\n",
    "    _, f, _, _, _ = pulsed_series_2_1d_fit_array(p_raw, fit_meth=fit_meth, fit_on=fit_on, fit_vals=fit_vals,\n",
    "                                                    idx_var_x=y_val_idx, ordered_x=False)\n",
    "   \n",
    "    for i, fres in enumerate(f):\n",
    "        # Debug\n",
    "        #x = np.asarray(p_raw[i]['data']['tau'])\n",
    "        #y = np.asarray(get_z(p_raw[i], mode=zdata))\n",
    "        #logger.debug(f\"X: {x}, Y: {y}\")\n",
    "        \n",
    "        #qdplotlogic.set_data(x, y, plot_index=i%3)\n",
    "        #logger.debug(f\"[{i}]: Fitted f= {fres}, sine_1x init: {p_raw[i]['fit_edit_params']}, full: {p_raw[i]['fit_res']}\")\n",
    "        \n",
    "        #\"\"\"\n",
    "        p_raw[i]['fit_edit_params'] = [lmfit.Parameter('s1_frequency', value=fres, vary=False),\n",
    "                                       lmfit.Parameter('s2_frequency', value=fres, vary=False),\n",
    "                                       lmfit.Parameter('s1_phase', value=np.pi/2, vary=False),\n",
    "                                       lmfit.Parameter('s2_phase', value=0, vary=False),\n",
    "                                       lmfit.Parameter('lifetime', value=np.inf, vary=False)]\n",
    "\n",
    "    \n",
    "    y_val_idx = None\n",
    "\n",
    "    fit_on = zdata #'delta'\n",
    "    fit_meth = 'sine_2x'\n",
    "    fit_vals = ['Amplitude 1', 'Amplitude 2', 'Offset']\n",
    "    #\"\"\"\n",
    "\n",
    "    _, a1s, a2s, y0s, _ = pulsed_series_2_1d_fit_array(p_raw, fit_meth=fit_meth, fit_on=fit_on, fit_vals=fit_vals,\n",
    "                                                    idx_var_x=y_val_idx, ordered_x=False)\n",
    "    \n",
    "\n",
    "    fit_rabi = {}\n",
    "    rabi_ref = {}\n",
    "\n",
    "    logger.debug(f\"Fit rabi on {len(a1s)} loaded tomographic rabis.\")\n",
    "    \n",
    "    # find whether all mes are a tomography of |00>\n",
    "    is_tomo_00 = False\n",
    "    inits = []\n",
    "    for idx, a1 in enumerate(a1s):\n",
    "        try:\n",
    "            params = p_raw[idx]['exp_params']\n",
    "            inits.append(params['init_state'])\n",
    "        except:\n",
    "            logger.exception(f\"Error while loading mes params from file: {p_raw[idx]['file']}\")\n",
    "    is_tomo_00 =  all([i==TomoInit.none for i in inits])\n",
    "    if is_tomo_00:\n",
    "        logger.warning(f\"Set is a tomography of |00>. Taking reference measurements as tomographic data as well.\\\n",
    "                       Make sure to have 0, 90 deg phases for \")\n",
    "    \n",
    "    # sort reference (init=0, rot=0) and tomographic measurements\n",
    "    for idx, a1 in enumerate(a1s):\n",
    "        try:\n",
    "            params = p_raw[idx]['exp_params']\n",
    "        \n",
    "            on_nv = params['rabi_on_nv']\n",
    "            init = params['init_state']\n",
    "            rotation = params['rotation']\n",
    "            phase = params['rabi_phase_deg']\n",
    "        \n",
    "        except:\n",
    "            logger.exception(f\"Error while loading mes params from file: {p_raw[idx]['file']}\")\n",
    "        fit_res = [a1, a2s[idx], y0s[idx]]\n",
    "        \n",
    "        mes_key = '/fail'\n",
    "        \n",
    "        if not isinstance(rotation, Enum) or not isinstance(init, Enum):\n",
    "            logger.warning(f\"Found non enum type init_state/rotation in file, did parsing fail? {p_raw[idx]['file']}\")\n",
    "        \n",
    "        if is_tomo_00:\n",
    "            is_tomo_mes = True\n",
    "        else:\n",
    "            is_tomo_mes = (init != TomoInit.none)\n",
    "        \n",
    "        if is_tomo_mes:\n",
    "            if  params['rabi_phase_deg'] == 0:\n",
    "                mes_key = f'rabi{on_nv}_{init.name}_{rotation.name}_x'\n",
    "                fit_rabi[mes_key] = {'fit_res': fit_res, 'exp_params': params}\n",
    "            elif params['rabi_phase_deg'] == 90:\n",
    "                mes_key = f'rabi{on_nv}_{init.name}_{rotation.name}_y'\n",
    "                fit_rabi[mes_key] = {'fit_res': fit_res, 'exp_params': params}\n",
    "        \n",
    "        if init == TomoInit.none and rotation == TomoRotations.none and phase == 0:\n",
    "            mes_key = f\"rabi_ref_on_{on_nv}\"\n",
    "            rabi_ref[mes_key] = p_raw[idx]\n",
    "\n",
    "        \n",
    "        logger.debug(f\"Sorted= {mes_key!='/fail'} for params init={init}, rot={rotation}, on_nv={on_nv} => {mes_key} on file: {p_raw[idx]['file']}\")\n",
    "            \n",
    "    return fit_rabi, rabi_ref\n",
    "\n",
    "\n",
    "def plot_rabis_for_tomo(pmes_list, ref_rabis, idx_plot=0, zdata='delta'):\n",
    "    \n",
    "    \n",
    "    pmes = pmes_list[idx_plot]\n",
    "    try:\n",
    "        on_nv = pmes['exp_params']['rabi_on_nv']\n",
    "        for pmes_rabi_ref in ref_rabis:\n",
    "            if pmes_rabi_ref['exp_params']['rabi_on_nv'] == on_nv:\n",
    "                break\n",
    "        logger.debug(f\"For mes from {pmes['file']} on nv {on_nv} take ref rabi: {pmes_rabi_ref['file']}\")\n",
    "    except Exception as e:\n",
    "        logger.warning(f\"Couldn't auto find ref rabi: {str(e)}\")\n",
    "        pmes_rabi_ref = ref_rabis[0]\n",
    "        on_nv = '/na'\n",
    "    \n",
    "    p_tau = pmes['data']['tau']\n",
    "    p_y = get_z(pmes, mode=zdata)\n",
    "    p_tau_fit = pmes['fit_values']['x']\n",
    "    p_y_fit = pmes['fit_values']['y']\n",
    "    \n",
    "    p_tau_full_osci =  pmes_rabi_ref['data']['tau']\n",
    "    p_y_full_osci = get_z(pmes_rabi_ref, mode=zdata)\n",
    "    p_tau_full_osci_fit =  pmes_rabi_ref['fit_values']['x']\n",
    "    p_y_full_osci_fit =  pmes_rabi_ref['fit_values']['y']\n",
    "\n",
    "    # for a perfect pi2 init, (cts_max-cts_min)/2 = ampls_1[0 or 1] and ampls_0(0 and 1) == 0\n",
    "    cts_max = np.max(pmes_rabi_ref['fit_values']['y'])\n",
    "    cts_min = np.min(pmes_rabi_ref['fit_values']['y'])\n",
    "    cts_ampl = (cts_max-cts_min)/2\n",
    "    p_cts_max = np.max(p_y_fit)\n",
    "    p_cts_min = np.min(p_y_fit)\n",
    "    p_cts_ampl = (p_cts_max-p_cts_min)/2\n",
    "    \n",
    "    logger.debug(f\"Fit on ref rabi, min/max= {cts_min}/{cts_max}. Data min/max= {np.min(p_y_full_osci)}/{np.max(p_y_full_osci)}\")\n",
    "    \n",
    "    plt.figure(figsize=(12,4))\n",
    "    plt.subplot(121)\n",
    "    \n",
    "    plt.title(\"Normed\")\n",
    "    plt.plot(1e9*p_tau_fit, norm_cts_2_pop(p_y_fit, cts_min=cts_min, cts_max=cts_max),\n",
    "             color='blue', marker='')#, label=f\"fit idx={idx_plot} Rabi\")\n",
    "    plt.plot(1e9*p_tau, norm_cts_2_pop(p_y, cts_min=cts_min, cts_max=cts_max),\n",
    "             color='blue', marker='o', linestyle='None', label=f\"tomo idx={idx_plot}, ampl= {p_cts_ampl:.3f}\")\n",
    "    \n",
    "    plt.plot(1e9*p_tau_full_osci_fit, norm_cts_2_pop(p_y_full_osci_fit, cts_min=cts_min, cts_max=cts_max),\n",
    "             color='orange', marker='', alpha=0.5)#, label=f\"fit ref Rabi {on_nv}\")\n",
    "    plt.plot(1e9*p_tau_full_osci, norm_cts_2_pop(p_y_full_osci, cts_min=cts_min, cts_max=cts_max),\n",
    "             color='orange', marker='o', linestyle='None', label=f\"ref Rabi, ampl= {cts_ampl:.3f}\", alpha=0.5)\n",
    "    plt.ylabel(\"$<\\Psi|1>$\")\n",
    "    plt.xlabel(\"tau (ns)\")\n",
    "    plt.legend()\n",
    "    \n",
    "    plt.subplot(122)\n",
    "    plt.title(\"Raw data\")\n",
    "    plt.plot(1e9*p_tau, p_y,  color='blue',label=f\"idx={idx_plot} Rabi, raw\")\n",
    "    plt.plot(1e9*p_tau_fit,  p_y_fit, color='blue', marker='') # label=f\"fit idx={idx_plot} Rabi raw\",, )\n",
    "    plt.plot(1e9*p_tau_full_osci, p_y_full_osci, color='orange', label=\"ref Rabi, raw\", alpha=0.5)\n",
    "    plt.legend()\n",
    "\n",
    "    plt.show()\n",
    "\n",
    "\n",
    "def _get_fit_rabi_pairs(rabi_entry, fit_dict):\n",
    "    search_params = rabi_entry['exp_params']\n",
    "    \n",
    "    found = {}\n",
    "    for (key, val) in fit_dict.items():\n",
    "        i_params = val['exp_params']\n",
    "        if i_params['rotation'] == search_params['rotation'] \\\n",
    "            and i_params['init_state'] == search_params['init_state'] \\\n",
    "            and i_params['rabi_on_nv'] == search_params['rabi_on_nv']:\n",
    "            found[key] = val\n",
    "    \n",
    "    if len(found) != 2:\n",
    "        raise ValueError(f\"Couldn't find x,y rabi. So far: {found.keys()}\")\n",
    "    \n",
    "    return found\n",
    "    \n",
    "def state_fidelity(rho, rho_opt):\n",
    "    \"\"\"\n",
    "    Using Jozsa (1994) definition cited by wikipedia. Different from Nielsen, Chuang by **2!\n",
    "    \"\"\"\n",
    "    for r in [rho, rho_opt]:\n",
    "        f_self = qutip.fidelity(qutip.Qobj(r),qutip.Qobj(r)) \n",
    "    \n",
    "        if f_self < 0.90:\n",
    "            raise ValueError(f\"Input rho is not well normalized. F(rho, rho)= {f_self}. tr(rho)= {np.trace(r)}\")\n",
    "        \n",
    "    return qutip.fidelity(qutip.Qobj(rho),qutip.Qobj(rho_opt))**2\n",
    "\n",
    "def get_u_gate(p_mes):\n",
    "    \n",
    "    from qutip.qip.operations import cnot\n",
    "    \n",
    "    rotation= p_mes['exp_params']['rotation']\n",
    "    \n",
    "    u = None\n",
    "    if rotation == TomoRotations.c2not1:\n",
    "        u = np.asarray(cnot(control=1, target=0))\n",
    "    elif rotation == TomoRotations.c1not2:\n",
    "        u = np.asarray(cnot(control=0, target=1))\n",
    "    else:\n",
    "        raise NotImplemented(f\"Unknown rot: {rotation}\")\n",
    "        \n",
    "    return u\n",
    "\n",
    "def get_opt_rho(p_mes, apply_rot=False):\n",
    "    init= p_mes['exp_params']['init_state']\n",
    "    \n",
    "    rho_1, rho_2 = None, None\n",
    "    if init == TomoInit.ux180_on_1:\n",
    "        rho_1 = np.asarray([[0 , 0],\n",
    "                            [0, 1]])\n",
    "        rho_2 = np.asarray([[1 , 0],\n",
    "                            [0, 0]])\n",
    "    elif init == TomoInit.ux180_on_2:\n",
    "        rho_2 = np.asarray([[0 , 0],\n",
    "                            [0, 1]])\n",
    "        rho_1 = np.asarray([[1 , 0],\n",
    "                            [0, 0]])\n",
    "    elif init == TomoInit.none:\n",
    "        rho_2 = np.asarray([[1 , 0],\n",
    "                            [0, 0]])\n",
    "        rho_1 = np.asarray([[1 , 0],\n",
    "                            [0, 0]])\n",
    "    elif init == TomoInit.ux180_on_both:\n",
    "        rho_2 = np.asarray([[0 , 0],\n",
    "                            [0, 1]])\n",
    "        rho_1 = np.asarray([[0 , 0],\n",
    "                            [0, 1]])\n",
    "    else:\n",
    "        raise NotImplemented\n",
    "    rho = np.kron(rho_1, rho_2)\n",
    "    \n",
    "    if apply_rot:\n",
    "        u = get_u_gate(p_mes)\n",
    "        rho = np.matmul(np.matmul(u,rho),u.conj().T)\n",
    "    \n",
    "    return rho\n",
    "\n",
    "def partial_trace(rho, sub=0):\n",
    "    return np.asarray(qutip.Qobj(rho, dims=[[2,2],[2,2]]).ptrace(sub))    \n",
    "\n",
    "def to_cartesian(rho):\n",
    "    sigx = np.asarray(qutip.sigmax())\n",
    "    sigy = np.asarray(qutip.sigmay())\n",
    "    sigz = np.asarray(qutip.sigmaz())\n",
    "    x = np.real(np.trace(np.matmul(np.asarray(rho), sigx)))\n",
    "    y = np.real(np.trace(np.matmul(np.asarray(rho), sigy)))\n",
    "    z = np.real(np.trace(np.matmul(np.asarray(rho), sigz)))\n",
    "    \n",
    "    return x,y,z\n",
    "\n",
    "def to_spherical(rho, rad_by_pi=False, no_decoherence=False):\n",
    "    rthetaphi = np.asarray(cart_2_spherical(to_cartesian(rho), rad_by_pi=rad_by_pi))\n",
    "    if no_decoherence:\n",
    "        rthetaphi[0] = 1\n",
    "    return rthetaphi\n",
    "\n",
    "def sanatize_angle_range(angle, in_deg=True):\n",
    "    \"\"\"\n",
    "    Ensure angle is between -180 and 180\n",
    "    \"\"\"\n",
    "    max_angle = 360 if in_deg else 2*np.pi\n",
    "    \n",
    "    angle =  angle % max_angle \n",
    "\n",
    "    if (angle > max_angle/2):\n",
    "        angle -= max_angle\n",
    "        \n",
    "    return angle\n",
    "\n",
    "\n",
    "def cart_2_spherical(xyz, rad_by_pi=False):\n",
    "    \"\"\"\n",
    "    From cartesian to spherical coordinated, in rad or rad/pi\n",
    "    \"\"\"\n",
    "    xy = xyz[0]**2 + xyz[1]**2\n",
    "    r = np.sqrt(xy + xyz[2]**2)\n",
    "    theta = np.arctan2(np.sqrt(xy), xyz[2]) # for elevation angle defined from Z-axis down\n",
    "    #theta = np.arctan2(xyz[:,2], np.sqrt(xy)) # for elevation angle defined from XY-plane up\n",
    "    phi = np.arctan2(xyz[1], xyz[0])\n",
    "    \n",
    "    theta = sanatize_angle_range(theta, in_deg=False)\n",
    "    phi = sanatize_angle_range(phi, in_deg=False)\n",
    "    \n",
    "    if rad_by_pi:\n",
    "        theta = theta / np.pi\n",
    "        phi = phi / np.pi\n",
    "    return r, theta, phi \n",
    "\n",
    "def spherical_2_cart(rthetaphi, in_deg=False):\n",
    "    r = rthetaphi[0]\n",
    "    theta = rthetaphi[1]\n",
    "    phi = rthetaphi[2]\n",
    "    \n",
    "    if in_deg:\n",
    "        theta = 2*np.pi*theta/360\n",
    "        phi =  2*np.pi*phi/360\n",
    "    return [\n",
    "         r * np.sin(theta) * np.cos(phi),\n",
    "         r * np.sin(theta) * np.sin(phi),\n",
    "         r * np.cos(theta)\n",
    "    ]\n",
    "\n",
    "\n",
    "def err_spherical(rho, rho_opt,  on_equator=True, to_deg=True):\n",
    "    if on_equator:\n",
    "        u =  np.conjugate(np.sqrt(1/2)*np.asarray([[1,1],[-1,1]]))\n",
    "    else:\n",
    "        u = np.eye((2))\n",
    "    rho_equator = qutip.Qobj(np.matmul(np.matmul(u, rho), u.conj().T))\n",
    "    vec = np.asarray(to_spherical(rho_equator, rad_by_pi=False))\n",
    "    \n",
    "    rho_eq_opt = qutip.Qobj(np.matmul(np.matmul(u, rho_opt), u.conj().T))\n",
    "    vec_opt = np.asarray(to_spherical(rho_eq_opt, rad_by_pi=False))\n",
    "    \n",
    "    vec_err =  vec-vec_opt\n",
    "    \n",
    "    vec_err[1] = sanatize_angle_range(vec_err[1], in_deg=False)\n",
    "    vec_err[2] = sanatize_angle_range(vec_err[2], in_deg=False)\n",
    "    \n",
    "    if to_deg:\n",
    "        vec_err[1] = rad_2_deg(vec_err[1])\n",
    "        vec_err[2] = rad_2_deg(vec_err[2])\n",
    "        \n",
    "    return vec_err\n",
    "        \n",
    "\n",
    "def rad_2_deg(phi):\n",
    "    return 180*phi/np.pi\n",
    "\n",
    "rad_2_deg(np.pi/2)\n",
    "sanatize_angle_range(181)"
   ]
  },
  {
   "cell_type": "markdown",
   "metadata": {},
   "source": [
    "# QuOCS and Qudi with Noise"
   ]
  },
  {
   "cell_type": "markdown",
   "metadata": {},
   "source": [
    "## Creation of the optimization dictionary"
   ]
  },
  {
   "cell_type": "markdown",
   "metadata": {},
   "source": [
    "The optimization dictionary contains all the settings compulsory for the optimization algorithm in order to run a proper optimization."
   ]
  },
  {
   "cell_type": "code",
   "execution_count": 131,
   "metadata": {},
   "outputs": [],
   "source": [
    "optimization_client_name = \"test_dCRAB_Noisy_2_control_fields\"\n",
    "\n",
    "optimization_dictionary = {\"optimization_client_name\": optimization_client_name,\n",
    "                           'opti_algorithm_module': 'quocslib.optimalalgorithms.dCRABNoisyAlgorithm', \n",
    "                           'opti_algorithm_class': 'DCrabNoisyAlgorithm', \n",
    "                          }"
   ]
  },
  {
   "cell_type": "markdown",
   "metadata": {},
   "source": [
    "Number of iteration and super-iterations"
   ]
  },
  {
   "cell_type": "code",
   "execution_count": 111,
   "metadata": {},
   "outputs": [],
   "source": [
    "# Total number of dCRAB superiteration\n",
    "super_iteration_number = 10000000\n",
    "# Maximum number of iteration per super-iteration (in max_eval_total: maximale anzahl von evaluation steps gesamt)\n",
    "maximum_function_evaluations_number = 500"
   ]
  },
  {
   "cell_type": "markdown",
   "metadata": {},
   "source": [
    "To activate the drift compensation and the re-evaluation steps add"
   ]
  },
  {
   "cell_type": "code",
   "execution_count": 113,
   "metadata": {},
   "outputs": [
    {
     "data": {
      "text/plain": [
       "{'algorithm_name': 'dCRAB', 'super_iteration_number': 10000000, 'FoM_goal': 1e-05, 'total_time_lim': 99999, 'compensate_drift': {'compensate_after_SI': True, 'compensate_after_minutes': 25}, 'random_number_generator': {'seed_number': 420}}"
      ]
     },
     "execution_count": 113,
     "metadata": {},
     "output_type": "execute_result"
    }
   ],
   "source": [
    "optimization_dictionary['algorithm_settings'] = {\"algorithm_name\": \"dCRAB\",\n",
    "                                                 \"super_iteration_number\": super_iteration_number,\n",
    "                                                 #\"max_eval_total\": super_iteration_number * maximum_function_evaluations_number,\n",
    "                                                 \"FoM_goal\": 0.00001,\n",
    "                                                 \"total_time_lim\": 99999,  # minutes\n",
    "                                                 \"compensate_drift\": {\n",
    "                                                     \"compensate_after_SI\": True,\n",
    "                                                     \"compensate_after_minutes\": 25\n",
    "                                                 },\n",
    "                                                 \"random_number_generator\":{\n",
    "                                                     \"seed_number\":420   # todo: really fix a seed here?\n",
    "                                                 },\n",
    "                                                 #\"re_evaluation\": {\n",
    "                                                     #\"re_evaluation_steps\": [0.3, 0.5, 0.51]\n",
    "                                                 #}\n",
    "}\n",
    "optimization_dictionary['algorithm_settings'] "
   ]
  },
  {
   "cell_type": "markdown",
   "metadata": {},
   "source": [
    "Settings for the inner algorithm used by dCRAB"
   ]
  },
  {
   "cell_type": "code",
   "execution_count": 115,
   "metadata": {},
   "outputs": [
    {
     "data": {
      "text/plain": [
       "100.0"
      ]
     },
     "execution_count": 115,
     "metadata": {},
     "output_type": "execute_result"
    }
   ],
   "source": [
    "300/(script_params['runtime_per_epoch'] / 60)"
   ]
  },
  {
   "cell_type": "code",
   "execution_count": 117,
   "metadata": {},
   "outputs": [
    {
     "data": {
      "text/plain": [
       "{'algorithm_name': 'dCRAB', 'super_iteration_number': 10000000, 'FoM_goal': 1e-05, 'total_time_lim': 99999, 'compensate_drift': {'compensate_after_SI': True, 'compensate_after_minutes': 25}, 'random_number_generator': {'seed_number': 420}, 'dsm_settings': {'general_settings': {'dsm_algorithm_name': 'NelderMead', 'is_adaptive': False}, 'stopping_criteria': {'time_lim': 300, 'change_based_stop': {'cbs_funct_evals': 500, 'cbs_change': 0.01}}}}"
      ]
     },
     "execution_count": 117,
     "metadata": {},
     "output_type": "execute_result"
    }
   ],
   "source": [
    "optimization_dictionary['algorithm_settings'][\"dsm_settings\"] = {'general_settings': {\n",
    "                                                \"dsm_algorithm_name\": \"NelderMead\", \n",
    "                                                'is_adaptive': False\n",
    "                                            }, \n",
    "                                            'stopping_criteria': {\n",
    "                                                #\"max_eval\": 100,\n",
    "                                                \"time_lim\": 5*60,  #min, experimental\n",
    "                                                #\"time_lim\": 30*3, # (min), simulation\n",
    "                                                #\"xatol\": 1e-10, \n",
    "                                                #\"frtol\": 1e-10,\n",
    "                                                \"change_based_stop\": {\n",
    "                                                    \"cbs_funct_evals\": 500, \n",
    "                                                    \"cbs_change\": 0.01    # stop if slope below\n",
    "                                                }\n",
    "                                            }\n",
    "}\n",
    "optimization_dictionary['algorithm_settings']"
   ]
  },
  {
   "cell_type": "markdown",
   "metadata": {},
   "source": [
    "### Times"
   ]
  },
  {
   "cell_type": "code",
   "execution_count": 147,
   "metadata": {},
   "outputs": [
    {
     "data": {
      "text/plain": [
       "(0.03125, 32.0, 1)"
      ]
     },
     "execution_count": 147,
     "metadata": {},
     "output_type": "execute_result"
    }
   ],
   "source": [
    "t_rabi_rect = 1/80e6 #61.4e-9 #48.03e-09\n",
    "pix_pulse = 1\n",
    "t_oc_pulse = 200e-9 # 150e-9 #1.0000000000000001e-07\n",
    "n_timebins = 1000\n",
    "#t_oc_pulse = timegrid_ampl[-1]\n",
    "fac_oc_guess = 1.0 # make initial guess not too good, otherwise hard for optimizer\n",
    "\n",
    "ampl_max = 0.23  # V\n",
    "ampl_rect = 1#0.98*0.7648*0.25  # V \n",
    "\n",
    "\n",
    "fac_oc_rect = t_oc_pulse/(0.5*t_rabi_rect/pix_pulse)\n",
    "if fac_oc_rect  < 3:\n",
    "    logger.warning(f\"OC pulse should be >3x as long as rect, now: {t_oc_pulse/(0.5*t_rabi_rect/pix_pulse)}\")\n",
    "\n",
    "time_p = {'time_name': 'time_p', 'initial_value': t_oc_pulse} # pulse length\n",
    "optimization_dictionary['times'] = [time_p]\n",
    "optimization_dictionary['oc_pulse_params'] = {'t_rabi_rect': t_rabi_rect, 't_oc_pulse': t_oc_pulse,\n",
    "                                              'ampl_max': ampl_max, 'ampl_rect': ampl_rect}\n",
    "ampl_oc_guess = fac_oc_guess*1/fac_oc_rect*ampl_rect\n",
    "\n",
    "\n",
    "ampl_oc_guess, fac_oc_rect, ampl_rect\n"
   ]
  },
  {
   "cell_type": "markdown",
   "metadata": {},
   "source": [
    "### Parameters"
   ]
  },
  {
   "cell_type": "code",
   "execution_count": 790,
   "metadata": {},
   "outputs": [],
   "source": [
    "optimization_dictionary['parameters'] = []"
   ]
  },
  {
   "cell_type": "code",
   "execution_count": 792,
   "metadata": {},
   "outputs": [
    {
     "data": {
      "text/plain": [
       "[{'time_name': 'time_p', 'initial_value': 1.01e-07}]"
      ]
     },
     "execution_count": 792,
     "metadata": {},
     "output_type": "execute_result"
    }
   ],
   "source": [
    "optimization_dictionary['times']"
   ]
  },
  {
   "cell_type": "markdown",
   "metadata": {},
   "source": [
    "### Pulses"
   ]
  },
  {
   "cell_type": "markdown",
   "metadata": {},
   "source": [
    "#### Generate from predefined function"
   ]
  },
  {
   "cell_type": "markdown",
   "metadata": {},
   "source": [
    "Levitt composite pulse"
   ]
  },
  {
   "cell_type": "code",
   "execution_count": 74,
   "metadata": {},
   "outputs": [
    {
     "name": "stdout",
     "output_type": "stream",
     "text": [
      "[{\"varName\": \"awg8190\", \"varType\": \"AWGM8190A\", \"varSize\": \"144\", \"varShape\": \"\", \"varContent\": \"<hardware.awg.keysight_m819x.AWGM8190A object at 0x000000A14714E948>\"}, {\"varName\": \"config\", \"varType\": \"OrderedDict\", \"varSize\": \"464\", \"varShape\": \"\", \"varContent\": \"OrderedDict([('hardware', OrderedDict([('dummysmiq', OrderedDict([('module.Class', 'microwave.mw_source_dummy.MicrowaveDummy'), ('gpib_address', 'dummy'), ('gpib_timeout', 20), ('mock', True)])), ('sm\"}, {\"varName\": \"confocalgui\", \"varType\": \"ConfocalGui\", \"varSize\": \"144\", \"varShape\": \"\", \"varContent\": \"<gui.confocal.confocalgui.ConfocalGui object at 0x000000A151309EE8>\"}, {\"varName\": \"countergui\", \"varType\": \"CounterGui\", \"varSize\": \"144\", \"varShape\": \"\", \"varContent\": \"<gui.counter.countergui.CounterGui object at 0x000000A14B0A64C8>\"}, {\"varName\": \"counterlogic\", \"varType\": \"CounterLogic\", \"varSize\": \"144\", \"varShape\": \"\", \"varContent\": \"<logic.counter_logic.CounterLogic object at 0x000000A14B09E4C8>\"}, {\"varName\": \"dummysmiq\", \"varType\": \"MicrowaveDummy\", \"varSize\": \"144\", \"varShape\": \"\", \"varContent\": \"<hardware.microwave.mw_source_dummy.MicrowaveDummy object at 0x000000A148D5FF78>\"}, {\"varName\": \"fitlogic\", \"varType\": \"FitLogic\", \"varSize\": \"144\", \"varShape\": \"\", \"varContent\": \"<logic.fit_logic.FitLogic object at 0x000000A150D60948>\"}, {\"varName\": \"kernellogic\", \"varType\": \"QudiKernelLogic\", \"varSize\": \"144\", \"varShape\": \"\", \"varContent\": \"<logic.jupyterkernel.kernellogic.QudiKernelLogic object at 0x000000A14B0A63A8>\"}, {\"varName\": \"manager\", \"varType\": \"Manager\", \"varSize\": \"144\", \"varShape\": \"\", \"varContent\": \"<core.manager.Manager object at 0x000000A1409CAA68>\"}, {\"varName\": \"mangui\", \"varType\": \"ManagerGui\", \"varSize\": \"144\", \"varShape\": \"\", \"varContent\": \"<gui.manager.managergui.ManagerGui object at 0x000000A1427E2EE8>\"}, {\"varName\": \"myfastcounter\", \"varType\": \"FastComtec\", \"varSize\": \"144\", \"varShape\": \"\", \"varContent\": \"<hardware.fastcomtec.fastcomtecmcs6.FastComtec object at 0x000000A1470D8E58>\"}, {\"varName\": \"nicard\", \"varType\": \"NationalInstrumentsXSeries\", \"varSize\": \"144\", \"varShape\": \"\", \"varContent\": \"<hardware.national_instruments_x_series.NationalInstrumentsXSeries object at 0x000000A143325828>\"}, {\"varName\": \"optimizerlogic\", \"varType\": \"OptimizerLogic\", \"varSize\": \"144\", \"varShape\": \"\", \"varContent\": \"<logic.optimizer_logic.OptimizerLogic object at 0x000000A14D930318>\"}, {\"varName\": \"pulsedmasterlogic\", \"varType\": \"PulsedMasterLogic\", \"varSize\": \"144\", \"varShape\": \"\", \"varContent\": \"<logic.pulsed.pulsed_master_logic.PulsedMasterLogic object at 0x000000A16A9BEE58>\"}, {\"varName\": \"pulsedmeasurementgui\", \"varType\": \"PulsedMeasurementGui\", \"varSize\": \"144\", \"varShape\": \"\", \"varContent\": \"<gui.pulsed.pulsed_maingui.PulsedMeasurementGui object at 0x000000A16F6CBF78>\"}, {\"varName\": \"pulsedmeasurementlogic\", \"varType\": \"PulsedMeasurementLogic\", \"varSize\": \"144\", \"varShape\": \"\", \"varContent\": \"<logic.pulsed.pulsed_measurement_logic.PulsedMeasurementLogic object at 0x000000A15933CD38>\"}, {\"varName\": \"savelogic\", \"varType\": \"SaveLogic\", \"varSize\": \"144\", \"varShape\": \"\", \"varContent\": \"<logic.save_logic.SaveLogic object at 0x000000A14B05F948>\"}, {\"varName\": \"scanner_tilt_interfuse\", \"varType\": \"ScannerTiltInterfuse\", \"varSize\": \"144\", \"varShape\": \"\", \"varContent\": \"<logic.interfuse.scanner_tilt_interfuse.ScannerTiltInterfuse object at 0x000000A14EE05948>\"}, {\"varName\": \"scannerlogic\", \"varType\": \"ConfocalLogic\", \"varSize\": \"144\", \"varShape\": \"\", \"varContent\": \"<logic.confocal_logic.ConfocalLogic object at 0x000000A14D9300D8>\"}, {\"varName\": \"sequencegeneratorlogic\", \"varType\": \"SequenceGeneratorLogic\", \"varSize\": \"144\", \"varShape\": \"\", \"varContent\": \"<logic.pulsed.sequence_generator_logic.SequenceGeneratorLogic object at 0x000000A15937E558>\"}, {\"varName\": \"tasklogic\", \"varType\": \"TaskRunner\", \"varSize\": \"144\", \"varShape\": \"\", \"varContent\": \"<logic.taskrunner.TaskRunner object at 0x000000A1490599D8>\"}, {\"varName\": \"traygui\", \"varType\": \"TrayIcon\", \"varSize\": \"144\", \"varShape\": \"\", \"varContent\": \"<gui.trayicon.TrayIcon object at 0x000000A14906CAF8>\"}]\n",
      "[{\"varName\": \"awg8190\", \"varType\": \"AWGM8190A\", \"varSize\": \"144\", \"varShape\": \"\", \"varContent\": \"<hardware.awg.keysight_m819x.AWGM8190A object at 0x000000A14714E948>\"}, {\"varName\": \"config\", \"varType\": \"OrderedDict\", \"varSize\": \"464\", \"varShape\": \"\", \"varContent\": \"OrderedDict([('hardware', OrderedDict([('dummysmiq', OrderedDict([('module.Class', 'microwave.mw_source_dummy.MicrowaveDummy'), ('gpib_address', 'dummy'), ('gpib_timeout', 20), ('mock', True)])), ('sm\"}, {\"varName\": \"confocalgui\", \"varType\": \"ConfocalGui\", \"varSize\": \"144\", \"varShape\": \"\", \"varContent\": \"<gui.confocal.confocalgui.ConfocalGui object at 0x000000A151309EE8>\"}, {\"varName\": \"countergui\", \"varType\": \"CounterGui\", \"varSize\": \"144\", \"varShape\": \"\", \"varContent\": \"<gui.counter.countergui.CounterGui object at 0x000000A14B0A64C8>\"}, {\"varName\": \"counterlogic\", \"varType\": \"CounterLogic\", \"varSize\": \"144\", \"varShape\": \"\", \"varContent\": \"<logic.counter_logic.CounterLogic object at 0x000000A14B09E4C8>\"}, {\"varName\": \"dummysmiq\", \"varType\": \"MicrowaveDummy\", \"varSize\": \"144\", \"varShape\": \"\", \"varContent\": \"<hardware.microwave.mw_source_dummy.MicrowaveDummy object at 0x000000A148D5FF78>\"}, {\"varName\": \"fitlogic\", \"varType\": \"FitLogic\", \"varSize\": \"144\", \"varShape\": \"\", \"varContent\": \"<logic.fit_logic.FitLogic object at 0x000000A150D60948>\"}, {\"varName\": \"kernellogic\", \"varType\": \"QudiKernelLogic\", \"varSize\": \"144\", \"varShape\": \"\", \"varContent\": \"<logic.jupyterkernel.kernellogic.QudiKernelLogic object at 0x000000A14B0A63A8>\"}, {\"varName\": \"manager\", \"varType\": \"Manager\", \"varSize\": \"144\", \"varShape\": \"\", \"varContent\": \"<core.manager.Manager object at 0x000000A1409CAA68>\"}, {\"varName\": \"mangui\", \"varType\": \"ManagerGui\", \"varSize\": \"144\", \"varShape\": \"\", \"varContent\": \"<gui.manager.managergui.ManagerGui object at 0x000000A1427E2EE8>\"}, {\"varName\": \"myfastcounter\", \"varType\": \"FastComtec\", \"varSize\": \"144\", \"varShape\": \"\", \"varContent\": \"<hardware.fastcomtec.fastcomtecmcs6.FastComtec object at 0x000000A1470D8E58>\"}, {\"varName\": \"nicard\", \"varType\": \"NationalInstrumentsXSeries\", \"varSize\": \"144\", \"varShape\": \"\", \"varContent\": \"<hardware.national_instruments_x_series.NationalInstrumentsXSeries object at 0x000000A143325828>\"}, {\"varName\": \"optimizerlogic\", \"varType\": \"OptimizerLogic\", \"varSize\": \"144\", \"varShape\": \"\", \"varContent\": \"<logic.optimizer_logic.OptimizerLogic object at 0x000000A14D930318>\"}, {\"varName\": \"pulsedmasterlogic\", \"varType\": \"PulsedMasterLogic\", \"varSize\": \"144\", \"varShape\": \"\", \"varContent\": \"<logic.pulsed.pulsed_master_logic.PulsedMasterLogic object at 0x000000A16A9BEE58>\"}, {\"varName\": \"pulsedmeasurementgui\", \"varType\": \"PulsedMeasurementGui\", \"varSize\": \"144\", \"varShape\": \"\", \"varContent\": \"<gui.pulsed.pulsed_maingui.PulsedMeasurementGui object at 0x000000A16F6CBF78>\"}, {\"varName\": \"pulsedmeasurementlogic\", \"varType\": \"PulsedMeasurementLogic\", \"varSize\": \"144\", \"varShape\": \"\", \"varContent\": \"<logic.pulsed.pulsed_measurement_logic.PulsedMeasurementLogic object at 0x000000A15933CD38>\"}, {\"varName\": \"savelogic\", \"varType\": \"SaveLogic\", \"varSize\": \"144\", \"varShape\": \"\", \"varContent\": \"<logic.save_logic.SaveLogic object at 0x000000A14B05F948>\"}, {\"varName\": \"scanner_tilt_interfuse\", \"varType\": \"ScannerTiltInterfuse\", \"varSize\": \"144\", \"varShape\": \"\", \"varContent\": \"<logic.interfuse.scanner_tilt_interfuse.ScannerTiltInterfuse object at 0x000000A14EE05948>\"}, {\"varName\": \"scannerlogic\", \"varType\": \"ConfocalLogic\", \"varSize\": \"144\", \"varShape\": \"\", \"varContent\": \"<logic.confocal_logic.ConfocalLogic object at 0x000000A14D9300D8>\"}, {\"varName\": \"sequencegeneratorlogic\", \"varType\": \"SequenceGeneratorLogic\", \"varSize\": \"144\", \"varShape\": \"\", \"varContent\": \"<logic.pulsed.sequence_generator_logic.SequenceGeneratorLogic object at 0x000000A15937E558>\"}, {\"varName\": \"tasklogic\", \"varType\": \"TaskRunner\", \"varSize\": \"144\", \"varShape\": \"\", \"varContent\": \"<logic.taskrunner.TaskRunner object at 0x000000A1490599D8>\"}, {\"varName\": \"traygui\", \"varType\": \"TrayIcon\", \"varSize\": \"144\", \"varShape\": \"\", \"varContent\": \"<gui.trayicon.TrayIcon object at 0x000000A14906CAF8>\"}]\n",
      "[{\"varName\": \"awg8190\", \"varType\": \"AWGM8190A\", \"varSize\": \"144\", \"varShape\": \"\", \"varContent\": \"<hardware.awg.keysight_m819x.AWGM8190A object at 0x000000A14714E948>\"}, {\"varName\": \"config\", \"varType\": \"OrderedDict\", \"varSize\": \"464\", \"varShape\": \"\", \"varContent\": \"OrderedDict([('hardware', OrderedDict([('dummysmiq', OrderedDict([('module.Class', 'microwave.mw_source_dummy.MicrowaveDummy'), ('gpib_address', 'dummy'), ('gpib_timeout', 20), ('mock', True)])), ('sm\"}, {\"varName\": \"confocalgui\", \"varType\": \"ConfocalGui\", \"varSize\": \"144\", \"varShape\": \"\", \"varContent\": \"<gui.confocal.confocalgui.ConfocalGui object at 0x000000A151309EE8>\"}, {\"varName\": \"countergui\", \"varType\": \"CounterGui\", \"varSize\": \"144\", \"varShape\": \"\", \"varContent\": \"<gui.counter.countergui.CounterGui object at 0x000000A14B0A64C8>\"}, {\"varName\": \"counterlogic\", \"varType\": \"CounterLogic\", \"varSize\": \"144\", \"varShape\": \"\", \"varContent\": \"<logic.counter_logic.CounterLogic object at 0x000000A14B09E4C8>\"}, {\"varName\": \"dummysmiq\", \"varType\": \"MicrowaveDummy\", \"varSize\": \"144\", \"varShape\": \"\", \"varContent\": \"<hardware.microwave.mw_source_dummy.MicrowaveDummy object at 0x000000A148D5FF78>\"}, {\"varName\": \"fitlogic\", \"varType\": \"FitLogic\", \"varSize\": \"144\", \"varShape\": \"\", \"varContent\": \"<logic.fit_logic.FitLogic object at 0x000000A150D60948>\"}, {\"varName\": \"kernellogic\", \"varType\": \"QudiKernelLogic\", \"varSize\": \"144\", \"varShape\": \"\", \"varContent\": \"<logic.jupyterkernel.kernellogic.QudiKernelLogic object at 0x000000A14B0A63A8>\"}, {\"varName\": \"manager\", \"varType\": \"Manager\", \"varSize\": \"144\", \"varShape\": \"\", \"varContent\": \"<core.manager.Manager object at 0x000000A1409CAA68>\"}, {\"varName\": \"mangui\", \"varType\": \"ManagerGui\", \"varSize\": \"144\", \"varShape\": \"\", \"varContent\": \"<gui.manager.managergui.ManagerGui object at 0x000000A1427E2EE8>\"}, {\"varName\": \"myfastcounter\", \"varType\": \"FastComtec\", \"varSize\": \"144\", \"varShape\": \"\", \"varContent\": \"<hardware.fastcomtec.fastcomtecmcs6.FastComtec object at 0x000000A1470D8E58>\"}, {\"varName\": \"nicard\", \"varType\": \"NationalInstrumentsXSeries\", \"varSize\": \"144\", \"varShape\": \"\", \"varContent\": \"<hardware.national_instruments_x_series.NationalInstrumentsXSeries object at 0x000000A143325828>\"}, {\"varName\": \"optimizerlogic\", \"varType\": \"OptimizerLogic\", \"varSize\": \"144\", \"varShape\": \"\", \"varContent\": \"<logic.optimizer_logic.OptimizerLogic object at 0x000000A14D930318>\"}, {\"varName\": \"pulsedmasterlogic\", \"varType\": \"PulsedMasterLogic\", \"varSize\": \"144\", \"varShape\": \"\", \"varContent\": \"<logic.pulsed.pulsed_master_logic.PulsedMasterLogic object at 0x000000A16A9BEE58>\"}, {\"varName\": \"pulsedmeasurementgui\", \"varType\": \"PulsedMeasurementGui\", \"varSize\": \"144\", \"varShape\": \"\", \"varContent\": \"<gui.pulsed.pulsed_maingui.PulsedMeasurementGui object at 0x000000A16F6CBF78>\"}, {\"varName\": \"pulsedmeasurementlogic\", \"varType\": \"PulsedMeasurementLogic\", \"varSize\": \"144\", \"varShape\": \"\", \"varContent\": \"<logic.pulsed.pulsed_measurement_logic.PulsedMeasurementLogic object at 0x000000A15933CD38>\"}, {\"varName\": \"savelogic\", \"varType\": \"SaveLogic\", \"varSize\": \"144\", \"varShape\": \"\", \"varContent\": \"<logic.save_logic.SaveLogic object at 0x000000A14B05F948>\"}, {\"varName\": \"scanner_tilt_interfuse\", \"varType\": \"ScannerTiltInterfuse\", \"varSize\": \"144\", \"varShape\": \"\", \"varContent\": \"<logic.interfuse.scanner_tilt_interfuse.ScannerTiltInterfuse object at 0x000000A14EE05948>\"}, {\"varName\": \"scannerlogic\", \"varType\": \"ConfocalLogic\", \"varSize\": \"144\", \"varShape\": \"\", \"varContent\": \"<logic.confocal_logic.ConfocalLogic object at 0x000000A14D9300D8>\"}, {\"varName\": \"sequencegeneratorlogic\", \"varType\": \"SequenceGeneratorLogic\", \"varSize\": \"144\", \"varShape\": \"\", \"varContent\": \"<logic.pulsed.sequence_generator_logic.SequenceGeneratorLogic object at 0x000000A15937E558>\"}, {\"varName\": \"tasklogic\", \"varType\": \"TaskRunner\", \"varSize\": \"144\", \"varShape\": \"\", \"varContent\": \"<logic.taskrunner.TaskRunner object at 0x000000A1490599D8>\"}, {\"varName\": \"traygui\", \"varType\": \"TrayIcon\", \"varSize\": \"144\", \"varShape\": \"\", \"varContent\": \"<gui.trayicon.TrayIcon object at 0x000000A14906CAF8>\"}]\n",
      "[{\"varName\": \"awg8190\", \"varType\": \"AWGM8190A\", \"varSize\": \"144\", \"varShape\": \"\", \"varContent\": \"<hardware.awg.keysight_m819x.AWGM8190A object at 0x000000A14714E948>\"}, {\"varName\": \"config\", \"varType\": \"OrderedDict\", \"varSize\": \"464\", \"varShape\": \"\", \"varContent\": \"OrderedDict([('hardware', OrderedDict([('dummysmiq', OrderedDict([('module.Class', 'microwave.mw_source_dummy.MicrowaveDummy'), ('gpib_address', 'dummy'), ('gpib_timeout', 20), ('mock', True)])), ('sm\"}, {\"varName\": \"confocalgui\", \"varType\": \"ConfocalGui\", \"varSize\": \"144\", \"varShape\": \"\", \"varContent\": \"<gui.confocal.confocalgui.ConfocalGui object at 0x000000A151309EE8>\"}, {\"varName\": \"countergui\", \"varType\": \"CounterGui\", \"varSize\": \"144\", \"varShape\": \"\", \"varContent\": \"<gui.counter.countergui.CounterGui object at 0x000000A14B0A64C8>\"}, {\"varName\": \"counterlogic\", \"varType\": \"CounterLogic\", \"varSize\": \"144\", \"varShape\": \"\", \"varContent\": \"<logic.counter_logic.CounterLogic object at 0x000000A14B09E4C8>\"}, {\"varName\": \"dummysmiq\", \"varType\": \"MicrowaveDummy\", \"varSize\": \"144\", \"varShape\": \"\", \"varContent\": \"<hardware.microwave.mw_source_dummy.MicrowaveDummy object at 0x000000A148D5FF78>\"}, {\"varName\": \"fitlogic\", \"varType\": \"FitLogic\", \"varSize\": \"144\", \"varShape\": \"\", \"varContent\": \"<logic.fit_logic.FitLogic object at 0x000000A150D60948>\"}, {\"varName\": \"kernellogic\", \"varType\": \"QudiKernelLogic\", \"varSize\": \"144\", \"varShape\": \"\", \"varContent\": \"<logic.jupyterkernel.kernellogic.QudiKernelLogic object at 0x000000A14B0A63A8>\"}, {\"varName\": \"manager\", \"varType\": \"Manager\", \"varSize\": \"144\", \"varShape\": \"\", \"varContent\": \"<core.manager.Manager object at 0x000000A1409CAA68>\"}, {\"varName\": \"mangui\", \"varType\": \"ManagerGui\", \"varSize\": \"144\", \"varShape\": \"\", \"varContent\": \"<gui.manager.managergui.ManagerGui object at 0x000000A1427E2EE8>\"}, {\"varName\": \"myfastcounter\", \"varType\": \"FastComtec\", \"varSize\": \"144\", \"varShape\": \"\", \"varContent\": \"<hardware.fastcomtec.fastcomtecmcs6.FastComtec object at 0x000000A1470D8E58>\"}, {\"varName\": \"nicard\", \"varType\": \"NationalInstrumentsXSeries\", \"varSize\": \"144\", \"varShape\": \"\", \"varContent\": \"<hardware.national_instruments_x_series.NationalInstrumentsXSeries object at 0x000000A143325828>\"}, {\"varName\": \"optimizerlogic\", \"varType\": \"OptimizerLogic\", \"varSize\": \"144\", \"varShape\": \"\", \"varContent\": \"<logic.optimizer_logic.OptimizerLogic object at 0x000000A14D930318>\"}, {\"varName\": \"pulsedmasterlogic\", \"varType\": \"PulsedMasterLogic\", \"varSize\": \"144\", \"varShape\": \"\", \"varContent\": \"<logic.pulsed.pulsed_master_logic.PulsedMasterLogic object at 0x000000A16A9BEE58>\"}, {\"varName\": \"pulsedmeasurementgui\", \"varType\": \"PulsedMeasurementGui\", \"varSize\": \"144\", \"varShape\": \"\", \"varContent\": \"<gui.pulsed.pulsed_maingui.PulsedMeasurementGui object at 0x000000A16F6CBF78>\"}, {\"varName\": \"pulsedmeasurementlogic\", \"varType\": \"PulsedMeasurementLogic\", \"varSize\": \"144\", \"varShape\": \"\", \"varContent\": \"<logic.pulsed.pulsed_measurement_logic.PulsedMeasurementLogic object at 0x000000A15933CD38>\"}, {\"varName\": \"savelogic\", \"varType\": \"SaveLogic\", \"varSize\": \"144\", \"varShape\": \"\", \"varContent\": \"<logic.save_logic.SaveLogic object at 0x000000A14B05F948>\"}, {\"varName\": \"scanner_tilt_interfuse\", \"varType\": \"ScannerTiltInterfuse\", \"varSize\": \"144\", \"varShape\": \"\", \"varContent\": \"<logic.interfuse.scanner_tilt_interfuse.ScannerTiltInterfuse object at 0x000000A14EE05948>\"}, {\"varName\": \"scannerlogic\", \"varType\": \"ConfocalLogic\", \"varSize\": \"144\", \"varShape\": \"\", \"varContent\": \"<logic.confocal_logic.ConfocalLogic object at 0x000000A14D9300D8>\"}, {\"varName\": \"sequencegeneratorlogic\", \"varType\": \"SequenceGeneratorLogic\", \"varSize\": \"144\", \"varShape\": \"\", \"varContent\": \"<logic.pulsed.sequence_generator_logic.SequenceGeneratorLogic object at 0x000000A15937E558>\"}, {\"varName\": \"tasklogic\", \"varType\": \"TaskRunner\", \"varSize\": \"144\", \"varShape\": \"\", \"varContent\": \"<logic.taskrunner.TaskRunner object at 0x000000A1490599D8>\"}, {\"varName\": \"traygui\", \"varType\": \"TrayIcon\", \"varSize\": \"144\", \"varShape\": \"\", \"varContent\": \"<gui.trayicon.TrayIcon object at 0x000000A14906CAF8>\"}]\n",
      "[{\"varName\": \"awg8190\", \"varType\": \"AWGM8190A\", \"varSize\": \"144\", \"varShape\": \"\", \"varContent\": \"<hardware.awg.keysight_m819x.AWGM8190A object at 0x000000A14714E948>\"}, {\"varName\": \"config\", \"varType\": \"OrderedDict\", \"varSize\": \"464\", \"varShape\": \"\", \"varContent\": \"OrderedDict([('hardware', OrderedDict([('dummysmiq', OrderedDict([('module.Class', 'microwave.mw_source_dummy.MicrowaveDummy'), ('gpib_address', 'dummy'), ('gpib_timeout', 20), ('mock', True)])), ('sm\"}, {\"varName\": \"confocalgui\", \"varType\": \"ConfocalGui\", \"varSize\": \"144\", \"varShape\": \"\", \"varContent\": \"<gui.confocal.confocalgui.ConfocalGui object at 0x000000A151309EE8>\"}, {\"varName\": \"countergui\", \"varType\": \"CounterGui\", \"varSize\": \"144\", \"varShape\": \"\", \"varContent\": \"<gui.counter.countergui.CounterGui object at 0x000000A14B0A64C8>\"}, {\"varName\": \"counterlogic\", \"varType\": \"CounterLogic\", \"varSize\": \"144\", \"varShape\": \"\", \"varContent\": \"<logic.counter_logic.CounterLogic object at 0x000000A14B09E4C8>\"}, {\"varName\": \"dummysmiq\", \"varType\": \"MicrowaveDummy\", \"varSize\": \"144\", \"varShape\": \"\", \"varContent\": \"<hardware.microwave.mw_source_dummy.MicrowaveDummy object at 0x000000A148D5FF78>\"}, {\"varName\": \"fitlogic\", \"varType\": \"FitLogic\", \"varSize\": \"144\", \"varShape\": \"\", \"varContent\": \"<logic.fit_logic.FitLogic object at 0x000000A150D60948>\"}, {\"varName\": \"kernellogic\", \"varType\": \"QudiKernelLogic\", \"varSize\": \"144\", \"varShape\": \"\", \"varContent\": \"<logic.jupyterkernel.kernellogic.QudiKernelLogic object at 0x000000A14B0A63A8>\"}, {\"varName\": \"manager\", \"varType\": \"Manager\", \"varSize\": \"144\", \"varShape\": \"\", \"varContent\": \"<core.manager.Manager object at 0x000000A1409CAA68>\"}, {\"varName\": \"mangui\", \"varType\": \"ManagerGui\", \"varSize\": \"144\", \"varShape\": \"\", \"varContent\": \"<gui.manager.managergui.ManagerGui object at 0x000000A1427E2EE8>\"}, {\"varName\": \"myfastcounter\", \"varType\": \"FastComtec\", \"varSize\": \"144\", \"varShape\": \"\", \"varContent\": \"<hardware.fastcomtec.fastcomtecmcs6.FastComtec object at 0x000000A1470D8E58>\"}, {\"varName\": \"nicard\", \"varType\": \"NationalInstrumentsXSeries\", \"varSize\": \"144\", \"varShape\": \"\", \"varContent\": \"<hardware.national_instruments_x_series.NationalInstrumentsXSeries object at 0x000000A143325828>\"}, {\"varName\": \"optimizerlogic\", \"varType\": \"OptimizerLogic\", \"varSize\": \"144\", \"varShape\": \"\", \"varContent\": \"<logic.optimizer_logic.OptimizerLogic object at 0x000000A14D930318>\"}, {\"varName\": \"pulsedmasterlogic\", \"varType\": \"PulsedMasterLogic\", \"varSize\": \"144\", \"varShape\": \"\", \"varContent\": \"<logic.pulsed.pulsed_master_logic.PulsedMasterLogic object at 0x000000A16A9BEE58>\"}, {\"varName\": \"pulsedmeasurementgui\", \"varType\": \"PulsedMeasurementGui\", \"varSize\": \"144\", \"varShape\": \"\", \"varContent\": \"<gui.pulsed.pulsed_maingui.PulsedMeasurementGui object at 0x000000A16F6CBF78>\"}, {\"varName\": \"pulsedmeasurementlogic\", \"varType\": \"PulsedMeasurementLogic\", \"varSize\": \"144\", \"varShape\": \"\", \"varContent\": \"<logic.pulsed.pulsed_measurement_logic.PulsedMeasurementLogic object at 0x000000A15933CD38>\"}, {\"varName\": \"savelogic\", \"varType\": \"SaveLogic\", \"varSize\": \"144\", \"varShape\": \"\", \"varContent\": \"<logic.save_logic.SaveLogic object at 0x000000A14B05F948>\"}, {\"varName\": \"scanner_tilt_interfuse\", \"varType\": \"ScannerTiltInterfuse\", \"varSize\": \"144\", \"varShape\": \"\", \"varContent\": \"<logic.interfuse.scanner_tilt_interfuse.ScannerTiltInterfuse object at 0x000000A14EE05948>\"}, {\"varName\": \"scannerlogic\", \"varType\": \"ConfocalLogic\", \"varSize\": \"144\", \"varShape\": \"\", \"varContent\": \"<logic.confocal_logic.ConfocalLogic object at 0x000000A14D9300D8>\"}, {\"varName\": \"sequencegeneratorlogic\", \"varType\": \"SequenceGeneratorLogic\", \"varSize\": \"144\", \"varShape\": \"\", \"varContent\": \"<logic.pulsed.sequence_generator_logic.SequenceGeneratorLogic object at 0x000000A15937E558>\"}, {\"varName\": \"tasklogic\", \"varType\": \"TaskRunner\", \"varSize\": \"144\", \"varShape\": \"\", \"varContent\": \"<logic.taskrunner.TaskRunner object at 0x000000A1490599D8>\"}, {\"varName\": \"traygui\", \"varType\": \"TrayIcon\", \"varSize\": \"144\", \"varShape\": \"\", \"varContent\": \"<gui.trayicon.TrayIcon object at 0x000000A14906CAF8>\"}]\n",
      "[{\"varName\": \"awg8190\", \"varType\": \"AWGM8190A\", \"varSize\": \"144\", \"varShape\": \"\", \"varContent\": \"<hardware.awg.keysight_m819x.AWGM8190A object at 0x000000A14714E948>\"}, {\"varName\": \"config\", \"varType\": \"OrderedDict\", \"varSize\": \"464\", \"varShape\": \"\", \"varContent\": \"OrderedDict([('hardware', OrderedDict([('dummysmiq', OrderedDict([('module.Class', 'microwave.mw_source_dummy.MicrowaveDummy'), ('gpib_address', 'dummy'), ('gpib_timeout', 20), ('mock', True)])), ('sm\"}, {\"varName\": \"confocalgui\", \"varType\": \"ConfocalGui\", \"varSize\": \"144\", \"varShape\": \"\", \"varContent\": \"<gui.confocal.confocalgui.ConfocalGui object at 0x000000A151309EE8>\"}, {\"varName\": \"countergui\", \"varType\": \"CounterGui\", \"varSize\": \"144\", \"varShape\": \"\", \"varContent\": \"<gui.counter.countergui.CounterGui object at 0x000000A14B0A64C8>\"}, {\"varName\": \"counterlogic\", \"varType\": \"CounterLogic\", \"varSize\": \"144\", \"varShape\": \"\", \"varContent\": \"<logic.counter_logic.CounterLogic object at 0x000000A14B09E4C8>\"}, {\"varName\": \"dummysmiq\", \"varType\": \"MicrowaveDummy\", \"varSize\": \"144\", \"varShape\": \"\", \"varContent\": \"<hardware.microwave.mw_source_dummy.MicrowaveDummy object at 0x000000A148D5FF78>\"}, {\"varName\": \"fitlogic\", \"varType\": \"FitLogic\", \"varSize\": \"144\", \"varShape\": \"\", \"varContent\": \"<logic.fit_logic.FitLogic object at 0x000000A150D60948>\"}, {\"varName\": \"kernellogic\", \"varType\": \"QudiKernelLogic\", \"varSize\": \"144\", \"varShape\": \"\", \"varContent\": \"<logic.jupyterkernel.kernellogic.QudiKernelLogic object at 0x000000A14B0A63A8>\"}, {\"varName\": \"manager\", \"varType\": \"Manager\", \"varSize\": \"144\", \"varShape\": \"\", \"varContent\": \"<core.manager.Manager object at 0x000000A1409CAA68>\"}, {\"varName\": \"mangui\", \"varType\": \"ManagerGui\", \"varSize\": \"144\", \"varShape\": \"\", \"varContent\": \"<gui.manager.managergui.ManagerGui object at 0x000000A1427E2EE8>\"}, {\"varName\": \"myfastcounter\", \"varType\": \"FastComtec\", \"varSize\": \"144\", \"varShape\": \"\", \"varContent\": \"<hardware.fastcomtec.fastcomtecmcs6.FastComtec object at 0x000000A1470D8E58>\"}, {\"varName\": \"nicard\", \"varType\": \"NationalInstrumentsXSeries\", \"varSize\": \"144\", \"varShape\": \"\", \"varContent\": \"<hardware.national_instruments_x_series.NationalInstrumentsXSeries object at 0x000000A143325828>\"}, {\"varName\": \"optimizerlogic\", \"varType\": \"OptimizerLogic\", \"varSize\": \"144\", \"varShape\": \"\", \"varContent\": \"<logic.optimizer_logic.OptimizerLogic object at 0x000000A14D930318>\"}, {\"varName\": \"pulsedmasterlogic\", \"varType\": \"PulsedMasterLogic\", \"varSize\": \"144\", \"varShape\": \"\", \"varContent\": \"<logic.pulsed.pulsed_master_logic.PulsedMasterLogic object at 0x000000A16A9BEE58>\"}, {\"varName\": \"pulsedmeasurementgui\", \"varType\": \"PulsedMeasurementGui\", \"varSize\": \"144\", \"varShape\": \"\", \"varContent\": \"<gui.pulsed.pulsed_maingui.PulsedMeasurementGui object at 0x000000A16F6CBF78>\"}, {\"varName\": \"pulsedmeasurementlogic\", \"varType\": \"PulsedMeasurementLogic\", \"varSize\": \"144\", \"varShape\": \"\", \"varContent\": \"<logic.pulsed.pulsed_measurement_logic.PulsedMeasurementLogic object at 0x000000A15933CD38>\"}, {\"varName\": \"savelogic\", \"varType\": \"SaveLogic\", \"varSize\": \"144\", \"varShape\": \"\", \"varContent\": \"<logic.save_logic.SaveLogic object at 0x000000A14B05F948>\"}, {\"varName\": \"scanner_tilt_interfuse\", \"varType\": \"ScannerTiltInterfuse\", \"varSize\": \"144\", \"varShape\": \"\", \"varContent\": \"<logic.interfuse.scanner_tilt_interfuse.ScannerTiltInterfuse object at 0x000000A14EE05948>\"}, {\"varName\": \"scannerlogic\", \"varType\": \"ConfocalLogic\", \"varSize\": \"144\", \"varShape\": \"\", \"varContent\": \"<logic.confocal_logic.ConfocalLogic object at 0x000000A14D9300D8>\"}, {\"varName\": \"sequencegeneratorlogic\", \"varType\": \"SequenceGeneratorLogic\", \"varSize\": \"144\", \"varShape\": \"\", \"varContent\": \"<logic.pulsed.sequence_generator_logic.SequenceGeneratorLogic object at 0x000000A15937E558>\"}, {\"varName\": \"tasklogic\", \"varType\": \"TaskRunner\", \"varSize\": \"144\", \"varShape\": \"\", \"varContent\": \"<logic.taskrunner.TaskRunner object at 0x000000A1490599D8>\"}, {\"varName\": \"traygui\", \"varType\": \"TrayIcon\", \"varSize\": \"144\", \"varShape\": \"\", \"varContent\": \"<gui.trayicon.TrayIcon object at 0x000000A14906CAF8>\"}]\n",
      "[{\"varName\": \"awg8190\", \"varType\": \"AWGM8190A\", \"varSize\": \"144\", \"varShape\": \"\", \"varContent\": \"<hardware.awg.keysight_m819x.AWGM8190A object at 0x000000A14714E948>\"}, {\"varName\": \"config\", \"varType\": \"OrderedDict\", \"varSize\": \"464\", \"varShape\": \"\", \"varContent\": \"OrderedDict([('hardware', OrderedDict([('dummysmiq', OrderedDict([('module.Class', 'microwave.mw_source_dummy.MicrowaveDummy'), ('gpib_address', 'dummy'), ('gpib_timeout', 20), ('mock', True)])), ('sm\"}, {\"varName\": \"confocalgui\", \"varType\": \"ConfocalGui\", \"varSize\": \"144\", \"varShape\": \"\", \"varContent\": \"<gui.confocal.confocalgui.ConfocalGui object at 0x000000A151309EE8>\"}, {\"varName\": \"countergui\", \"varType\": \"CounterGui\", \"varSize\": \"144\", \"varShape\": \"\", \"varContent\": \"<gui.counter.countergui.CounterGui object at 0x000000A14B0A64C8>\"}, {\"varName\": \"counterlogic\", \"varType\": \"CounterLogic\", \"varSize\": \"144\", \"varShape\": \"\", \"varContent\": \"<logic.counter_logic.CounterLogic object at 0x000000A14B09E4C8>\"}, {\"varName\": \"dummysmiq\", \"varType\": \"MicrowaveDummy\", \"varSize\": \"144\", \"varShape\": \"\", \"varContent\": \"<hardware.microwave.mw_source_dummy.MicrowaveDummy object at 0x000000A148D5FF78>\"}, {\"varName\": \"fitlogic\", \"varType\": \"FitLogic\", \"varSize\": \"144\", \"varShape\": \"\", \"varContent\": \"<logic.fit_logic.FitLogic object at 0x000000A150D60948>\"}, {\"varName\": \"kernellogic\", \"varType\": \"QudiKernelLogic\", \"varSize\": \"144\", \"varShape\": \"\", \"varContent\": \"<logic.jupyterkernel.kernellogic.QudiKernelLogic object at 0x000000A14B0A63A8>\"}, {\"varName\": \"manager\", \"varType\": \"Manager\", \"varSize\": \"144\", \"varShape\": \"\", \"varContent\": \"<core.manager.Manager object at 0x000000A1409CAA68>\"}, {\"varName\": \"mangui\", \"varType\": \"ManagerGui\", \"varSize\": \"144\", \"varShape\": \"\", \"varContent\": \"<gui.manager.managergui.ManagerGui object at 0x000000A1427E2EE8>\"}, {\"varName\": \"myfastcounter\", \"varType\": \"FastComtec\", \"varSize\": \"144\", \"varShape\": \"\", \"varContent\": \"<hardware.fastcomtec.fastcomtecmcs6.FastComtec object at 0x000000A1470D8E58>\"}, {\"varName\": \"nicard\", \"varType\": \"NationalInstrumentsXSeries\", \"varSize\": \"144\", \"varShape\": \"\", \"varContent\": \"<hardware.national_instruments_x_series.NationalInstrumentsXSeries object at 0x000000A143325828>\"}, {\"varName\": \"optimizerlogic\", \"varType\": \"OptimizerLogic\", \"varSize\": \"144\", \"varShape\": \"\", \"varContent\": \"<logic.optimizer_logic.OptimizerLogic object at 0x000000A14D930318>\"}, {\"varName\": \"pulsedmasterlogic\", \"varType\": \"PulsedMasterLogic\", \"varSize\": \"144\", \"varShape\": \"\", \"varContent\": \"<logic.pulsed.pulsed_master_logic.PulsedMasterLogic object at 0x000000A16A9BEE58>\"}, {\"varName\": \"pulsedmeasurementgui\", \"varType\": \"PulsedMeasurementGui\", \"varSize\": \"144\", \"varShape\": \"\", \"varContent\": \"<gui.pulsed.pulsed_maingui.PulsedMeasurementGui object at 0x000000A16F6CBF78>\"}, {\"varName\": \"pulsedmeasurementlogic\", \"varType\": \"PulsedMeasurementLogic\", \"varSize\": \"144\", \"varShape\": \"\", \"varContent\": \"<logic.pulsed.pulsed_measurement_logic.PulsedMeasurementLogic object at 0x000000A15933CD38>\"}, {\"varName\": \"savelogic\", \"varType\": \"SaveLogic\", \"varSize\": \"144\", \"varShape\": \"\", \"varContent\": \"<logic.save_logic.SaveLogic object at 0x000000A14B05F948>\"}, {\"varName\": \"scanner_tilt_interfuse\", \"varType\": \"ScannerTiltInterfuse\", \"varSize\": \"144\", \"varShape\": \"\", \"varContent\": \"<logic.interfuse.scanner_tilt_interfuse.ScannerTiltInterfuse object at 0x000000A14EE05948>\"}, {\"varName\": \"scannerlogic\", \"varType\": \"ConfocalLogic\", \"varSize\": \"144\", \"varShape\": \"\", \"varContent\": \"<logic.confocal_logic.ConfocalLogic object at 0x000000A14D9300D8>\"}, {\"varName\": \"sequencegeneratorlogic\", \"varType\": \"SequenceGeneratorLogic\", \"varSize\": \"144\", \"varShape\": \"\", \"varContent\": \"<logic.pulsed.sequence_generator_logic.SequenceGeneratorLogic object at 0x000000A15937E558>\"}, {\"varName\": \"tasklogic\", \"varType\": \"TaskRunner\", \"varSize\": \"144\", \"varShape\": \"\", \"varContent\": \"<logic.taskrunner.TaskRunner object at 0x000000A1490599D8>\"}, {\"varName\": \"traygui\", \"varType\": \"TrayIcon\", \"varSize\": \"144\", \"varShape\": \"\", \"varContent\": \"<gui.trayicon.TrayIcon object at 0x000000A14906CAF8>\"}]\n",
      "[{\"varName\": \"awg8190\", \"varType\": \"AWGM8190A\", \"varSize\": \"144\", \"varShape\": \"\", \"varContent\": \"<hardware.awg.keysight_m819x.AWGM8190A object at 0x000000A14714E948>\"}, {\"varName\": \"config\", \"varType\": \"OrderedDict\", \"varSize\": \"464\", \"varShape\": \"\", \"varContent\": \"OrderedDict([('hardware', OrderedDict([('dummysmiq', OrderedDict([('module.Class', 'microwave.mw_source_dummy.MicrowaveDummy'), ('gpib_address', 'dummy'), ('gpib_timeout', 20), ('mock', True)])), ('sm\"}, {\"varName\": \"confocalgui\", \"varType\": \"ConfocalGui\", \"varSize\": \"144\", \"varShape\": \"\", \"varContent\": \"<gui.confocal.confocalgui.ConfocalGui object at 0x000000A151309EE8>\"}, {\"varName\": \"countergui\", \"varType\": \"CounterGui\", \"varSize\": \"144\", \"varShape\": \"\", \"varContent\": \"<gui.counter.countergui.CounterGui object at 0x000000A14B0A64C8>\"}, {\"varName\": \"counterlogic\", \"varType\": \"CounterLogic\", \"varSize\": \"144\", \"varShape\": \"\", \"varContent\": \"<logic.counter_logic.CounterLogic object at 0x000000A14B09E4C8>\"}, {\"varName\": \"dummysmiq\", \"varType\": \"MicrowaveDummy\", \"varSize\": \"144\", \"varShape\": \"\", \"varContent\": \"<hardware.microwave.mw_source_dummy.MicrowaveDummy object at 0x000000A148D5FF78>\"}, {\"varName\": \"fitlogic\", \"varType\": \"FitLogic\", \"varSize\": \"144\", \"varShape\": \"\", \"varContent\": \"<logic.fit_logic.FitLogic object at 0x000000A150D60948>\"}, {\"varName\": \"kernellogic\", \"varType\": \"QudiKernelLogic\", \"varSize\": \"144\", \"varShape\": \"\", \"varContent\": \"<logic.jupyterkernel.kernellogic.QudiKernelLogic object at 0x000000A14B0A63A8>\"}, {\"varName\": \"manager\", \"varType\": \"Manager\", \"varSize\": \"144\", \"varShape\": \"\", \"varContent\": \"<core.manager.Manager object at 0x000000A1409CAA68>\"}, {\"varName\": \"mangui\", \"varType\": \"ManagerGui\", \"varSize\": \"144\", \"varShape\": \"\", \"varContent\": \"<gui.manager.managergui.ManagerGui object at 0x000000A1427E2EE8>\"}, {\"varName\": \"myfastcounter\", \"varType\": \"FastComtec\", \"varSize\": \"144\", \"varShape\": \"\", \"varContent\": \"<hardware.fastcomtec.fastcomtecmcs6.FastComtec object at 0x000000A1470D8E58>\"}, {\"varName\": \"nicard\", \"varType\": \"NationalInstrumentsXSeries\", \"varSize\": \"144\", \"varShape\": \"\", \"varContent\": \"<hardware.national_instruments_x_series.NationalInstrumentsXSeries object at 0x000000A143325828>\"}, {\"varName\": \"optimizerlogic\", \"varType\": \"OptimizerLogic\", \"varSize\": \"144\", \"varShape\": \"\", \"varContent\": \"<logic.optimizer_logic.OptimizerLogic object at 0x000000A14D930318>\"}, {\"varName\": \"pulsedmasterlogic\", \"varType\": \"PulsedMasterLogic\", \"varSize\": \"144\", \"varShape\": \"\", \"varContent\": \"<logic.pulsed.pulsed_master_logic.PulsedMasterLogic object at 0x000000A16A9BEE58>\"}, {\"varName\": \"pulsedmeasurementgui\", \"varType\": \"PulsedMeasurementGui\", \"varSize\": \"144\", \"varShape\": \"\", \"varContent\": \"<gui.pulsed.pulsed_maingui.PulsedMeasurementGui object at 0x000000A16F6CBF78>\"}, {\"varName\": \"pulsedmeasurementlogic\", \"varType\": \"PulsedMeasurementLogic\", \"varSize\": \"144\", \"varShape\": \"\", \"varContent\": \"<logic.pulsed.pulsed_measurement_logic.PulsedMeasurementLogic object at 0x000000A15933CD38>\"}, {\"varName\": \"savelogic\", \"varType\": \"SaveLogic\", \"varSize\": \"144\", \"varShape\": \"\", \"varContent\": \"<logic.save_logic.SaveLogic object at 0x000000A14B05F948>\"}, {\"varName\": \"scanner_tilt_interfuse\", \"varType\": \"ScannerTiltInterfuse\", \"varSize\": \"144\", \"varShape\": \"\", \"varContent\": \"<logic.interfuse.scanner_tilt_interfuse.ScannerTiltInterfuse object at 0x000000A14EE05948>\"}, {\"varName\": \"scannerlogic\", \"varType\": \"ConfocalLogic\", \"varSize\": \"144\", \"varShape\": \"\", \"varContent\": \"<logic.confocal_logic.ConfocalLogic object at 0x000000A14D9300D8>\"}, {\"varName\": \"sequencegeneratorlogic\", \"varType\": \"SequenceGeneratorLogic\", \"varSize\": \"144\", \"varShape\": \"\", \"varContent\": \"<logic.pulsed.sequence_generator_logic.SequenceGeneratorLogic object at 0x000000A15937E558>\"}, {\"varName\": \"tasklogic\", \"varType\": \"TaskRunner\", \"varSize\": \"144\", \"varShape\": \"\", \"varContent\": \"<logic.taskrunner.TaskRunner object at 0x000000A1490599D8>\"}, {\"varName\": \"traygui\", \"varType\": \"TrayIcon\", \"varSize\": \"144\", \"varShape\": \"\", \"varContent\": \"<gui.trayicon.TrayIcon object at 0x000000A14906CAF8>\"}]\n",
      "[{\"varName\": \"awg8190\", \"varType\": \"AWGM8190A\", \"varSize\": \"144\", \"varShape\": \"\", \"varContent\": \"<hardware.awg.keysight_m819x.AWGM8190A object at 0x000000A14714E948>\"}, {\"varName\": \"config\", \"varType\": \"OrderedDict\", \"varSize\": \"464\", \"varShape\": \"\", \"varContent\": \"OrderedDict([('hardware', OrderedDict([('dummysmiq', OrderedDict([('module.Class', 'microwave.mw_source_dummy.MicrowaveDummy'), ('gpib_address', 'dummy'), ('gpib_timeout', 20), ('mock', True)])), ('sm\"}, {\"varName\": \"confocalgui\", \"varType\": \"ConfocalGui\", \"varSize\": \"144\", \"varShape\": \"\", \"varContent\": \"<gui.confocal.confocalgui.ConfocalGui object at 0x000000A151309EE8>\"}, {\"varName\": \"countergui\", \"varType\": \"CounterGui\", \"varSize\": \"144\", \"varShape\": \"\", \"varContent\": \"<gui.counter.countergui.CounterGui object at 0x000000A14B0A64C8>\"}, {\"varName\": \"counterlogic\", \"varType\": \"CounterLogic\", \"varSize\": \"144\", \"varShape\": \"\", \"varContent\": \"<logic.counter_logic.CounterLogic object at 0x000000A14B09E4C8>\"}, {\"varName\": \"dummysmiq\", \"varType\": \"MicrowaveDummy\", \"varSize\": \"144\", \"varShape\": \"\", \"varContent\": \"<hardware.microwave.mw_source_dummy.MicrowaveDummy object at 0x000000A148D5FF78>\"}, {\"varName\": \"fitlogic\", \"varType\": \"FitLogic\", \"varSize\": \"144\", \"varShape\": \"\", \"varContent\": \"<logic.fit_logic.FitLogic object at 0x000000A150D60948>\"}, {\"varName\": \"kernellogic\", \"varType\": \"QudiKernelLogic\", \"varSize\": \"144\", \"varShape\": \"\", \"varContent\": \"<logic.jupyterkernel.kernellogic.QudiKernelLogic object at 0x000000A14B0A63A8>\"}, {\"varName\": \"manager\", \"varType\": \"Manager\", \"varSize\": \"144\", \"varShape\": \"\", \"varContent\": \"<core.manager.Manager object at 0x000000A1409CAA68>\"}, {\"varName\": \"mangui\", \"varType\": \"ManagerGui\", \"varSize\": \"144\", \"varShape\": \"\", \"varContent\": \"<gui.manager.managergui.ManagerGui object at 0x000000A1427E2EE8>\"}, {\"varName\": \"myfastcounter\", \"varType\": \"FastComtec\", \"varSize\": \"144\", \"varShape\": \"\", \"varContent\": \"<hardware.fastcomtec.fastcomtecmcs6.FastComtec object at 0x000000A1470D8E58>\"}, {\"varName\": \"nicard\", \"varType\": \"NationalInstrumentsXSeries\", \"varSize\": \"144\", \"varShape\": \"\", \"varContent\": \"<hardware.national_instruments_x_series.NationalInstrumentsXSeries object at 0x000000A143325828>\"}, {\"varName\": \"optimizerlogic\", \"varType\": \"OptimizerLogic\", \"varSize\": \"144\", \"varShape\": \"\", \"varContent\": \"<logic.optimizer_logic.OptimizerLogic object at 0x000000A14D930318>\"}, {\"varName\": \"pulsedmasterlogic\", \"varType\": \"PulsedMasterLogic\", \"varSize\": \"144\", \"varShape\": \"\", \"varContent\": \"<logic.pulsed.pulsed_master_logic.PulsedMasterLogic object at 0x000000A16A9BEE58>\"}, {\"varName\": \"pulsedmeasurementgui\", \"varType\": \"PulsedMeasurementGui\", \"varSize\": \"144\", \"varShape\": \"\", \"varContent\": \"<gui.pulsed.pulsed_maingui.PulsedMeasurementGui object at 0x000000A16F6CBF78>\"}, {\"varName\": \"pulsedmeasurementlogic\", \"varType\": \"PulsedMeasurementLogic\", \"varSize\": \"144\", \"varShape\": \"\", \"varContent\": \"<logic.pulsed.pulsed_measurement_logic.PulsedMeasurementLogic object at 0x000000A15933CD38>\"}, {\"varName\": \"savelogic\", \"varType\": \"SaveLogic\", \"varSize\": \"144\", \"varShape\": \"\", \"varContent\": \"<logic.save_logic.SaveLogic object at 0x000000A14B05F948>\"}, {\"varName\": \"scanner_tilt_interfuse\", \"varType\": \"ScannerTiltInterfuse\", \"varSize\": \"144\", \"varShape\": \"\", \"varContent\": \"<logic.interfuse.scanner_tilt_interfuse.ScannerTiltInterfuse object at 0x000000A14EE05948>\"}, {\"varName\": \"scannerlogic\", \"varType\": \"ConfocalLogic\", \"varSize\": \"144\", \"varShape\": \"\", \"varContent\": \"<logic.confocal_logic.ConfocalLogic object at 0x000000A14D9300D8>\"}, {\"varName\": \"sequencegeneratorlogic\", \"varType\": \"SequenceGeneratorLogic\", \"varSize\": \"144\", \"varShape\": \"\", \"varContent\": \"<logic.pulsed.sequence_generator_logic.SequenceGeneratorLogic object at 0x000000A15937E558>\"}, {\"varName\": \"tasklogic\", \"varType\": \"TaskRunner\", \"varSize\": \"144\", \"varShape\": \"\", \"varContent\": \"<logic.taskrunner.TaskRunner object at 0x000000A1490599D8>\"}, {\"varName\": \"traygui\", \"varType\": \"TrayIcon\", \"varSize\": \"144\", \"varShape\": \"\", \"varContent\": \"<gui.trayicon.TrayIcon object at 0x000000A14906CAF8>\"}]\n",
      "[{\"varName\": \"awg8190\", \"varType\": \"AWGM8190A\", \"varSize\": \"144\", \"varShape\": \"\", \"varContent\": \"<hardware.awg.keysight_m819x.AWGM8190A object at 0x000000A14714E948>\"}, {\"varName\": \"config\", \"varType\": \"OrderedDict\", \"varSize\": \"464\", \"varShape\": \"\", \"varContent\": \"OrderedDict([('hardware', OrderedDict([('dummysmiq', OrderedDict([('module.Class', 'microwave.mw_source_dummy.MicrowaveDummy'), ('gpib_address', 'dummy'), ('gpib_timeout', 20), ('mock', True)])), ('sm\"}, {\"varName\": \"confocalgui\", \"varType\": \"ConfocalGui\", \"varSize\": \"144\", \"varShape\": \"\", \"varContent\": \"<gui.confocal.confocalgui.ConfocalGui object at 0x000000A151309EE8>\"}, {\"varName\": \"countergui\", \"varType\": \"CounterGui\", \"varSize\": \"144\", \"varShape\": \"\", \"varContent\": \"<gui.counter.countergui.CounterGui object at 0x000000A14B0A64C8>\"}, {\"varName\": \"counterlogic\", \"varType\": \"CounterLogic\", \"varSize\": \"144\", \"varShape\": \"\", \"varContent\": \"<logic.counter_logic.CounterLogic object at 0x000000A14B09E4C8>\"}, {\"varName\": \"dummysmiq\", \"varType\": \"MicrowaveDummy\", \"varSize\": \"144\", \"varShape\": \"\", \"varContent\": \"<hardware.microwave.mw_source_dummy.MicrowaveDummy object at 0x000000A148D5FF78>\"}, {\"varName\": \"fitlogic\", \"varType\": \"FitLogic\", \"varSize\": \"144\", \"varShape\": \"\", \"varContent\": \"<logic.fit_logic.FitLogic object at 0x000000A150D60948>\"}, {\"varName\": \"kernellogic\", \"varType\": \"QudiKernelLogic\", \"varSize\": \"144\", \"varShape\": \"\", \"varContent\": \"<logic.jupyterkernel.kernellogic.QudiKernelLogic object at 0x000000A14B0A63A8>\"}, {\"varName\": \"manager\", \"varType\": \"Manager\", \"varSize\": \"144\", \"varShape\": \"\", \"varContent\": \"<core.manager.Manager object at 0x000000A1409CAA68>\"}, {\"varName\": \"mangui\", \"varType\": \"ManagerGui\", \"varSize\": \"144\", \"varShape\": \"\", \"varContent\": \"<gui.manager.managergui.ManagerGui object at 0x000000A1427E2EE8>\"}, {\"varName\": \"myfastcounter\", \"varType\": \"FastComtec\", \"varSize\": \"144\", \"varShape\": \"\", \"varContent\": \"<hardware.fastcomtec.fastcomtecmcs6.FastComtec object at 0x000000A1470D8E58>\"}, {\"varName\": \"nicard\", \"varType\": \"NationalInstrumentsXSeries\", \"varSize\": \"144\", \"varShape\": \"\", \"varContent\": \"<hardware.national_instruments_x_series.NationalInstrumentsXSeries object at 0x000000A143325828>\"}, {\"varName\": \"optimizerlogic\", \"varType\": \"OptimizerLogic\", \"varSize\": \"144\", \"varShape\": \"\", \"varContent\": \"<logic.optimizer_logic.OptimizerLogic object at 0x000000A14D930318>\"}, {\"varName\": \"pulsedmasterlogic\", \"varType\": \"PulsedMasterLogic\", \"varSize\": \"144\", \"varShape\": \"\", \"varContent\": \"<logic.pulsed.pulsed_master_logic.PulsedMasterLogic object at 0x000000A16A9BEE58>\"}, {\"varName\": \"pulsedmeasurementgui\", \"varType\": \"PulsedMeasurementGui\", \"varSize\": \"144\", \"varShape\": \"\", \"varContent\": \"<gui.pulsed.pulsed_maingui.PulsedMeasurementGui object at 0x000000A16F6CBF78>\"}, {\"varName\": \"pulsedmeasurementlogic\", \"varType\": \"PulsedMeasurementLogic\", \"varSize\": \"144\", \"varShape\": \"\", \"varContent\": \"<logic.pulsed.pulsed_measurement_logic.PulsedMeasurementLogic object at 0x000000A15933CD38>\"}, {\"varName\": \"savelogic\", \"varType\": \"SaveLogic\", \"varSize\": \"144\", \"varShape\": \"\", \"varContent\": \"<logic.save_logic.SaveLogic object at 0x000000A14B05F948>\"}, {\"varName\": \"scanner_tilt_interfuse\", \"varType\": \"ScannerTiltInterfuse\", \"varSize\": \"144\", \"varShape\": \"\", \"varContent\": \"<logic.interfuse.scanner_tilt_interfuse.ScannerTiltInterfuse object at 0x000000A14EE05948>\"}, {\"varName\": \"scannerlogic\", \"varType\": \"ConfocalLogic\", \"varSize\": \"144\", \"varShape\": \"\", \"varContent\": \"<logic.confocal_logic.ConfocalLogic object at 0x000000A14D9300D8>\"}, {\"varName\": \"sequencegeneratorlogic\", \"varType\": \"SequenceGeneratorLogic\", \"varSize\": \"144\", \"varShape\": \"\", \"varContent\": \"<logic.pulsed.sequence_generator_logic.SequenceGeneratorLogic object at 0x000000A15937E558>\"}, {\"varName\": \"tasklogic\", \"varType\": \"TaskRunner\", \"varSize\": \"144\", \"varShape\": \"\", \"varContent\": \"<logic.taskrunner.TaskRunner object at 0x000000A1490599D8>\"}, {\"varName\": \"traygui\", \"varType\": \"TrayIcon\", \"varSize\": \"144\", \"varShape\": \"\", \"varContent\": \"<gui.trayicon.TrayIcon object at 0x000000A14906CAF8>\"}]\n",
      "[{\"varName\": \"awg8190\", \"varType\": \"AWGM8190A\", \"varSize\": \"144\", \"varShape\": \"\", \"varContent\": \"<hardware.awg.keysight_m819x.AWGM8190A object at 0x000000A14714E948>\"}, {\"varName\": \"config\", \"varType\": \"OrderedDict\", \"varSize\": \"464\", \"varShape\": \"\", \"varContent\": \"OrderedDict([('hardware', OrderedDict([('dummysmiq', OrderedDict([('module.Class', 'microwave.mw_source_dummy.MicrowaveDummy'), ('gpib_address', 'dummy'), ('gpib_timeout', 20), ('mock', True)])), ('sm\"}, {\"varName\": \"confocalgui\", \"varType\": \"ConfocalGui\", \"varSize\": \"144\", \"varShape\": \"\", \"varContent\": \"<gui.confocal.confocalgui.ConfocalGui object at 0x000000A151309EE8>\"}, {\"varName\": \"countergui\", \"varType\": \"CounterGui\", \"varSize\": \"144\", \"varShape\": \"\", \"varContent\": \"<gui.counter.countergui.CounterGui object at 0x000000A14B0A64C8>\"}, {\"varName\": \"counterlogic\", \"varType\": \"CounterLogic\", \"varSize\": \"144\", \"varShape\": \"\", \"varContent\": \"<logic.counter_logic.CounterLogic object at 0x000000A14B09E4C8>\"}, {\"varName\": \"dummysmiq\", \"varType\": \"MicrowaveDummy\", \"varSize\": \"144\", \"varShape\": \"\", \"varContent\": \"<hardware.microwave.mw_source_dummy.MicrowaveDummy object at 0x000000A148D5FF78>\"}, {\"varName\": \"fitlogic\", \"varType\": \"FitLogic\", \"varSize\": \"144\", \"varShape\": \"\", \"varContent\": \"<logic.fit_logic.FitLogic object at 0x000000A150D60948>\"}, {\"varName\": \"kernellogic\", \"varType\": \"QudiKernelLogic\", \"varSize\": \"144\", \"varShape\": \"\", \"varContent\": \"<logic.jupyterkernel.kernellogic.QudiKernelLogic object at 0x000000A14B0A63A8>\"}, {\"varName\": \"manager\", \"varType\": \"Manager\", \"varSize\": \"144\", \"varShape\": \"\", \"varContent\": \"<core.manager.Manager object at 0x000000A1409CAA68>\"}, {\"varName\": \"mangui\", \"varType\": \"ManagerGui\", \"varSize\": \"144\", \"varShape\": \"\", \"varContent\": \"<gui.manager.managergui.ManagerGui object at 0x000000A1427E2EE8>\"}, {\"varName\": \"myfastcounter\", \"varType\": \"FastComtec\", \"varSize\": \"144\", \"varShape\": \"\", \"varContent\": \"<hardware.fastcomtec.fastcomtecmcs6.FastComtec object at 0x000000A1470D8E58>\"}, {\"varName\": \"nicard\", \"varType\": \"NationalInstrumentsXSeries\", \"varSize\": \"144\", \"varShape\": \"\", \"varContent\": \"<hardware.national_instruments_x_series.NationalInstrumentsXSeries object at 0x000000A143325828>\"}, {\"varName\": \"optimizerlogic\", \"varType\": \"OptimizerLogic\", \"varSize\": \"144\", \"varShape\": \"\", \"varContent\": \"<logic.optimizer_logic.OptimizerLogic object at 0x000000A14D930318>\"}, {\"varName\": \"pulsedmasterlogic\", \"varType\": \"PulsedMasterLogic\", \"varSize\": \"144\", \"varShape\": \"\", \"varContent\": \"<logic.pulsed.pulsed_master_logic.PulsedMasterLogic object at 0x000000A16A9BEE58>\"}, {\"varName\": \"pulsedmeasurementgui\", \"varType\": \"PulsedMeasurementGui\", \"varSize\": \"144\", \"varShape\": \"\", \"varContent\": \"<gui.pulsed.pulsed_maingui.PulsedMeasurementGui object at 0x000000A16F6CBF78>\"}, {\"varName\": \"pulsedmeasurementlogic\", \"varType\": \"PulsedMeasurementLogic\", \"varSize\": \"144\", \"varShape\": \"\", \"varContent\": \"<logic.pulsed.pulsed_measurement_logic.PulsedMeasurementLogic object at 0x000000A15933CD38>\"}, {\"varName\": \"savelogic\", \"varType\": \"SaveLogic\", \"varSize\": \"144\", \"varShape\": \"\", \"varContent\": \"<logic.save_logic.SaveLogic object at 0x000000A14B05F948>\"}, {\"varName\": \"scanner_tilt_interfuse\", \"varType\": \"ScannerTiltInterfuse\", \"varSize\": \"144\", \"varShape\": \"\", \"varContent\": \"<logic.interfuse.scanner_tilt_interfuse.ScannerTiltInterfuse object at 0x000000A14EE05948>\"}, {\"varName\": \"scannerlogic\", \"varType\": \"ConfocalLogic\", \"varSize\": \"144\", \"varShape\": \"\", \"varContent\": \"<logic.confocal_logic.ConfocalLogic object at 0x000000A14D9300D8>\"}, {\"varName\": \"sequencegeneratorlogic\", \"varType\": \"SequenceGeneratorLogic\", \"varSize\": \"144\", \"varShape\": \"\", \"varContent\": \"<logic.pulsed.sequence_generator_logic.SequenceGeneratorLogic object at 0x000000A15937E558>\"}, {\"varName\": \"tasklogic\", \"varType\": \"TaskRunner\", \"varSize\": \"144\", \"varShape\": \"\", \"varContent\": \"<logic.taskrunner.TaskRunner object at 0x000000A1490599D8>\"}, {\"varName\": \"traygui\", \"varType\": \"TrayIcon\", \"varSize\": \"144\", \"varShape\": \"\", \"varContent\": \"<gui.trayicon.TrayIcon object at 0x000000A14906CAF8>\"}]\n",
      "[{\"varName\": \"awg8190\", \"varType\": \"AWGM8190A\", \"varSize\": \"144\", \"varShape\": \"\", \"varContent\": \"<hardware.awg.keysight_m819x.AWGM8190A object at 0x000000A14714E948>\"}, {\"varName\": \"config\", \"varType\": \"OrderedDict\", \"varSize\": \"464\", \"varShape\": \"\", \"varContent\": \"OrderedDict([('hardware', OrderedDict([('dummysmiq', OrderedDict([('module.Class', 'microwave.mw_source_dummy.MicrowaveDummy'), ('gpib_address', 'dummy'), ('gpib_timeout', 20), ('mock', True)])), ('sm\"}, {\"varName\": \"confocalgui\", \"varType\": \"ConfocalGui\", \"varSize\": \"144\", \"varShape\": \"\", \"varContent\": \"<gui.confocal.confocalgui.ConfocalGui object at 0x000000A151309EE8>\"}, {\"varName\": \"countergui\", \"varType\": \"CounterGui\", \"varSize\": \"144\", \"varShape\": \"\", \"varContent\": \"<gui.counter.countergui.CounterGui object at 0x000000A14B0A64C8>\"}, {\"varName\": \"counterlogic\", \"varType\": \"CounterLogic\", \"varSize\": \"144\", \"varShape\": \"\", \"varContent\": \"<logic.counter_logic.CounterLogic object at 0x000000A14B09E4C8>\"}, {\"varName\": \"dummysmiq\", \"varType\": \"MicrowaveDummy\", \"varSize\": \"144\", \"varShape\": \"\", \"varContent\": \"<hardware.microwave.mw_source_dummy.MicrowaveDummy object at 0x000000A148D5FF78>\"}, {\"varName\": \"fitlogic\", \"varType\": \"FitLogic\", \"varSize\": \"144\", \"varShape\": \"\", \"varContent\": \"<logic.fit_logic.FitLogic object at 0x000000A150D60948>\"}, {\"varName\": \"kernellogic\", \"varType\": \"QudiKernelLogic\", \"varSize\": \"144\", \"varShape\": \"\", \"varContent\": \"<logic.jupyterkernel.kernellogic.QudiKernelLogic object at 0x000000A14B0A63A8>\"}, {\"varName\": \"manager\", \"varType\": \"Manager\", \"varSize\": \"144\", \"varShape\": \"\", \"varContent\": \"<core.manager.Manager object at 0x000000A1409CAA68>\"}, {\"varName\": \"mangui\", \"varType\": \"ManagerGui\", \"varSize\": \"144\", \"varShape\": \"\", \"varContent\": \"<gui.manager.managergui.ManagerGui object at 0x000000A1427E2EE8>\"}, {\"varName\": \"myfastcounter\", \"varType\": \"FastComtec\", \"varSize\": \"144\", \"varShape\": \"\", \"varContent\": \"<hardware.fastcomtec.fastcomtecmcs6.FastComtec object at 0x000000A1470D8E58>\"}, {\"varName\": \"nicard\", \"varType\": \"NationalInstrumentsXSeries\", \"varSize\": \"144\", \"varShape\": \"\", \"varContent\": \"<hardware.national_instruments_x_series.NationalInstrumentsXSeries object at 0x000000A143325828>\"}, {\"varName\": \"optimizerlogic\", \"varType\": \"OptimizerLogic\", \"varSize\": \"144\", \"varShape\": \"\", \"varContent\": \"<logic.optimizer_logic.OptimizerLogic object at 0x000000A14D930318>\"}, {\"varName\": \"pulsedmasterlogic\", \"varType\": \"PulsedMasterLogic\", \"varSize\": \"144\", \"varShape\": \"\", \"varContent\": \"<logic.pulsed.pulsed_master_logic.PulsedMasterLogic object at 0x000000A16A9BEE58>\"}, {\"varName\": \"pulsedmeasurementgui\", \"varType\": \"PulsedMeasurementGui\", \"varSize\": \"144\", \"varShape\": \"\", \"varContent\": \"<gui.pulsed.pulsed_maingui.PulsedMeasurementGui object at 0x000000A16F6CBF78>\"}, {\"varName\": \"pulsedmeasurementlogic\", \"varType\": \"PulsedMeasurementLogic\", \"varSize\": \"144\", \"varShape\": \"\", \"varContent\": \"<logic.pulsed.pulsed_measurement_logic.PulsedMeasurementLogic object at 0x000000A15933CD38>\"}, {\"varName\": \"savelogic\", \"varType\": \"SaveLogic\", \"varSize\": \"144\", \"varShape\": \"\", \"varContent\": \"<logic.save_logic.SaveLogic object at 0x000000A14B05F948>\"}, {\"varName\": \"scanner_tilt_interfuse\", \"varType\": \"ScannerTiltInterfuse\", \"varSize\": \"144\", \"varShape\": \"\", \"varContent\": \"<logic.interfuse.scanner_tilt_interfuse.ScannerTiltInterfuse object at 0x000000A14EE05948>\"}, {\"varName\": \"scannerlogic\", \"varType\": \"ConfocalLogic\", \"varSize\": \"144\", \"varShape\": \"\", \"varContent\": \"<logic.confocal_logic.ConfocalLogic object at 0x000000A14D9300D8>\"}, {\"varName\": \"sequencegeneratorlogic\", \"varType\": \"SequenceGeneratorLogic\", \"varSize\": \"144\", \"varShape\": \"\", \"varContent\": \"<logic.pulsed.sequence_generator_logic.SequenceGeneratorLogic object at 0x000000A15937E558>\"}, {\"varName\": \"tasklogic\", \"varType\": \"TaskRunner\", \"varSize\": \"144\", \"varShape\": \"\", \"varContent\": \"<logic.taskrunner.TaskRunner object at 0x000000A1490599D8>\"}, {\"varName\": \"traygui\", \"varType\": \"TrayIcon\", \"varSize\": \"144\", \"varShape\": \"\", \"varContent\": \"<gui.trayicon.TrayIcon object at 0x000000A14906CAF8>\"}]\n",
      "[{\"varName\": \"awg8190\", \"varType\": \"AWGM8190A\", \"varSize\": \"144\", \"varShape\": \"\", \"varContent\": \"<hardware.awg.keysight_m819x.AWGM8190A object at 0x000000A14714E948>\"}, {\"varName\": \"config\", \"varType\": \"OrderedDict\", \"varSize\": \"464\", \"varShape\": \"\", \"varContent\": \"OrderedDict([('hardware', OrderedDict([('dummysmiq', OrderedDict([('module.Class', 'microwave.mw_source_dummy.MicrowaveDummy'), ('gpib_address', 'dummy'), ('gpib_timeout', 20), ('mock', True)])), ('sm\"}, {\"varName\": \"confocalgui\", \"varType\": \"ConfocalGui\", \"varSize\": \"144\", \"varShape\": \"\", \"varContent\": \"<gui.confocal.confocalgui.ConfocalGui object at 0x000000A151309EE8>\"}, {\"varName\": \"countergui\", \"varType\": \"CounterGui\", \"varSize\": \"144\", \"varShape\": \"\", \"varContent\": \"<gui.counter.countergui.CounterGui object at 0x000000A14B0A64C8>\"}, {\"varName\": \"counterlogic\", \"varType\": \"CounterLogic\", \"varSize\": \"144\", \"varShape\": \"\", \"varContent\": \"<logic.counter_logic.CounterLogic object at 0x000000A14B09E4C8>\"}, {\"varName\": \"dummysmiq\", \"varType\": \"MicrowaveDummy\", \"varSize\": \"144\", \"varShape\": \"\", \"varContent\": \"<hardware.microwave.mw_source_dummy.MicrowaveDummy object at 0x000000A148D5FF78>\"}, {\"varName\": \"fitlogic\", \"varType\": \"FitLogic\", \"varSize\": \"144\", \"varShape\": \"\", \"varContent\": \"<logic.fit_logic.FitLogic object at 0x000000A150D60948>\"}, {\"varName\": \"kernellogic\", \"varType\": \"QudiKernelLogic\", \"varSize\": \"144\", \"varShape\": \"\", \"varContent\": \"<logic.jupyterkernel.kernellogic.QudiKernelLogic object at 0x000000A14B0A63A8>\"}, {\"varName\": \"manager\", \"varType\": \"Manager\", \"varSize\": \"144\", \"varShape\": \"\", \"varContent\": \"<core.manager.Manager object at 0x000000A1409CAA68>\"}, {\"varName\": \"mangui\", \"varType\": \"ManagerGui\", \"varSize\": \"144\", \"varShape\": \"\", \"varContent\": \"<gui.manager.managergui.ManagerGui object at 0x000000A1427E2EE8>\"}, {\"varName\": \"myfastcounter\", \"varType\": \"FastComtec\", \"varSize\": \"144\", \"varShape\": \"\", \"varContent\": \"<hardware.fastcomtec.fastcomtecmcs6.FastComtec object at 0x000000A1470D8E58>\"}, {\"varName\": \"nicard\", \"varType\": \"NationalInstrumentsXSeries\", \"varSize\": \"144\", \"varShape\": \"\", \"varContent\": \"<hardware.national_instruments_x_series.NationalInstrumentsXSeries object at 0x000000A143325828>\"}, {\"varName\": \"optimizerlogic\", \"varType\": \"OptimizerLogic\", \"varSize\": \"144\", \"varShape\": \"\", \"varContent\": \"<logic.optimizer_logic.OptimizerLogic object at 0x000000A14D930318>\"}, {\"varName\": \"pulsedmasterlogic\", \"varType\": \"PulsedMasterLogic\", \"varSize\": \"144\", \"varShape\": \"\", \"varContent\": \"<logic.pulsed.pulsed_master_logic.PulsedMasterLogic object at 0x000000A16A9BEE58>\"}, {\"varName\": \"pulsedmeasurementgui\", \"varType\": \"PulsedMeasurementGui\", \"varSize\": \"144\", \"varShape\": \"\", \"varContent\": \"<gui.pulsed.pulsed_maingui.PulsedMeasurementGui object at 0x000000A16F6CBF78>\"}, {\"varName\": \"pulsedmeasurementlogic\", \"varType\": \"PulsedMeasurementLogic\", \"varSize\": \"144\", \"varShape\": \"\", \"varContent\": \"<logic.pulsed.pulsed_measurement_logic.PulsedMeasurementLogic object at 0x000000A15933CD38>\"}, {\"varName\": \"savelogic\", \"varType\": \"SaveLogic\", \"varSize\": \"144\", \"varShape\": \"\", \"varContent\": \"<logic.save_logic.SaveLogic object at 0x000000A14B05F948>\"}, {\"varName\": \"scanner_tilt_interfuse\", \"varType\": \"ScannerTiltInterfuse\", \"varSize\": \"144\", \"varShape\": \"\", \"varContent\": \"<logic.interfuse.scanner_tilt_interfuse.ScannerTiltInterfuse object at 0x000000A14EE05948>\"}, {\"varName\": \"scannerlogic\", \"varType\": \"ConfocalLogic\", \"varSize\": \"144\", \"varShape\": \"\", \"varContent\": \"<logic.confocal_logic.ConfocalLogic object at 0x000000A14D9300D8>\"}, {\"varName\": \"sequencegeneratorlogic\", \"varType\": \"SequenceGeneratorLogic\", \"varSize\": \"144\", \"varShape\": \"\", \"varContent\": \"<logic.pulsed.sequence_generator_logic.SequenceGeneratorLogic object at 0x000000A15937E558>\"}, {\"varName\": \"tasklogic\", \"varType\": \"TaskRunner\", \"varSize\": \"144\", \"varShape\": \"\", \"varContent\": \"<logic.taskrunner.TaskRunner object at 0x000000A1490599D8>\"}, {\"varName\": \"traygui\", \"varType\": \"TrayIcon\", \"varSize\": \"144\", \"varShape\": \"\", \"varContent\": \"<gui.trayicon.TrayIcon object at 0x000000A14906CAF8>\"}]\n",
      "[{\"varName\": \"awg8190\", \"varType\": \"AWGM8190A\", \"varSize\": \"144\", \"varShape\": \"\", \"varContent\": \"<hardware.awg.keysight_m819x.AWGM8190A object at 0x000000A14714E948>\"}, {\"varName\": \"config\", \"varType\": \"OrderedDict\", \"varSize\": \"464\", \"varShape\": \"\", \"varContent\": \"OrderedDict([('hardware', OrderedDict([('dummysmiq', OrderedDict([('module.Class', 'microwave.mw_source_dummy.MicrowaveDummy'), ('gpib_address', 'dummy'), ('gpib_timeout', 20), ('mock', True)])), ('sm\"}, {\"varName\": \"confocalgui\", \"varType\": \"ConfocalGui\", \"varSize\": \"144\", \"varShape\": \"\", \"varContent\": \"<gui.confocal.confocalgui.ConfocalGui object at 0x000000A151309EE8>\"}, {\"varName\": \"countergui\", \"varType\": \"CounterGui\", \"varSize\": \"144\", \"varShape\": \"\", \"varContent\": \"<gui.counter.countergui.CounterGui object at 0x000000A14B0A64C8>\"}, {\"varName\": \"counterlogic\", \"varType\": \"CounterLogic\", \"varSize\": \"144\", \"varShape\": \"\", \"varContent\": \"<logic.counter_logic.CounterLogic object at 0x000000A14B09E4C8>\"}, {\"varName\": \"dummysmiq\", \"varType\": \"MicrowaveDummy\", \"varSize\": \"144\", \"varShape\": \"\", \"varContent\": \"<hardware.microwave.mw_source_dummy.MicrowaveDummy object at 0x000000A148D5FF78>\"}, {\"varName\": \"fitlogic\", \"varType\": \"FitLogic\", \"varSize\": \"144\", \"varShape\": \"\", \"varContent\": \"<logic.fit_logic.FitLogic object at 0x000000A150D60948>\"}, {\"varName\": \"kernellogic\", \"varType\": \"QudiKernelLogic\", \"varSize\": \"144\", \"varShape\": \"\", \"varContent\": \"<logic.jupyterkernel.kernellogic.QudiKernelLogic object at 0x000000A14B0A63A8>\"}, {\"varName\": \"manager\", \"varType\": \"Manager\", \"varSize\": \"144\", \"varShape\": \"\", \"varContent\": \"<core.manager.Manager object at 0x000000A1409CAA68>\"}, {\"varName\": \"mangui\", \"varType\": \"ManagerGui\", \"varSize\": \"144\", \"varShape\": \"\", \"varContent\": \"<gui.manager.managergui.ManagerGui object at 0x000000A1427E2EE8>\"}, {\"varName\": \"myfastcounter\", \"varType\": \"FastComtec\", \"varSize\": \"144\", \"varShape\": \"\", \"varContent\": \"<hardware.fastcomtec.fastcomtecmcs6.FastComtec object at 0x000000A1470D8E58>\"}, {\"varName\": \"nicard\", \"varType\": \"NationalInstrumentsXSeries\", \"varSize\": \"144\", \"varShape\": \"\", \"varContent\": \"<hardware.national_instruments_x_series.NationalInstrumentsXSeries object at 0x000000A143325828>\"}, {\"varName\": \"optimizerlogic\", \"varType\": \"OptimizerLogic\", \"varSize\": \"144\", \"varShape\": \"\", \"varContent\": \"<logic.optimizer_logic.OptimizerLogic object at 0x000000A14D930318>\"}, {\"varName\": \"pulsedmasterlogic\", \"varType\": \"PulsedMasterLogic\", \"varSize\": \"144\", \"varShape\": \"\", \"varContent\": \"<logic.pulsed.pulsed_master_logic.PulsedMasterLogic object at 0x000000A16A9BEE58>\"}, {\"varName\": \"pulsedmeasurementgui\", \"varType\": \"PulsedMeasurementGui\", \"varSize\": \"144\", \"varShape\": \"\", \"varContent\": \"<gui.pulsed.pulsed_maingui.PulsedMeasurementGui object at 0x000000A16F6CBF78>\"}, {\"varName\": \"pulsedmeasurementlogic\", \"varType\": \"PulsedMeasurementLogic\", \"varSize\": \"144\", \"varShape\": \"\", \"varContent\": \"<logic.pulsed.pulsed_measurement_logic.PulsedMeasurementLogic object at 0x000000A15933CD38>\"}, {\"varName\": \"savelogic\", \"varType\": \"SaveLogic\", \"varSize\": \"144\", \"varShape\": \"\", \"varContent\": \"<logic.save_logic.SaveLogic object at 0x000000A14B05F948>\"}, {\"varName\": \"scanner_tilt_interfuse\", \"varType\": \"ScannerTiltInterfuse\", \"varSize\": \"144\", \"varShape\": \"\", \"varContent\": \"<logic.interfuse.scanner_tilt_interfuse.ScannerTiltInterfuse object at 0x000000A14EE05948>\"}, {\"varName\": \"scannerlogic\", \"varType\": \"ConfocalLogic\", \"varSize\": \"144\", \"varShape\": \"\", \"varContent\": \"<logic.confocal_logic.ConfocalLogic object at 0x000000A14D9300D8>\"}, {\"varName\": \"sequencegeneratorlogic\", \"varType\": \"SequenceGeneratorLogic\", \"varSize\": \"144\", \"varShape\": \"\", \"varContent\": \"<logic.pulsed.sequence_generator_logic.SequenceGeneratorLogic object at 0x000000A15937E558>\"}, {\"varName\": \"tasklogic\", \"varType\": \"TaskRunner\", \"varSize\": \"144\", \"varShape\": \"\", \"varContent\": \"<logic.taskrunner.TaskRunner object at 0x000000A1490599D8>\"}, {\"varName\": \"traygui\", \"varType\": \"TrayIcon\", \"varSize\": \"144\", \"varShape\": \"\", \"varContent\": \"<gui.trayicon.TrayIcon object at 0x000000A14906CAF8>\"}]\n",
      "[{\"varName\": \"awg8190\", \"varType\": \"AWGM8190A\", \"varSize\": \"144\", \"varShape\": \"\", \"varContent\": \"<hardware.awg.keysight_m819x.AWGM8190A object at 0x000000A14714E948>\"}, {\"varName\": \"config\", \"varType\": \"OrderedDict\", \"varSize\": \"464\", \"varShape\": \"\", \"varContent\": \"OrderedDict([('hardware', OrderedDict([('dummysmiq', OrderedDict([('module.Class', 'microwave.mw_source_dummy.MicrowaveDummy'), ('gpib_address', 'dummy'), ('gpib_timeout', 20), ('mock', True)])), ('sm\"}, {\"varName\": \"confocalgui\", \"varType\": \"ConfocalGui\", \"varSize\": \"144\", \"varShape\": \"\", \"varContent\": \"<gui.confocal.confocalgui.ConfocalGui object at 0x000000A151309EE8>\"}, {\"varName\": \"countergui\", \"varType\": \"CounterGui\", \"varSize\": \"144\", \"varShape\": \"\", \"varContent\": \"<gui.counter.countergui.CounterGui object at 0x000000A14B0A64C8>\"}, {\"varName\": \"counterlogic\", \"varType\": \"CounterLogic\", \"varSize\": \"144\", \"varShape\": \"\", \"varContent\": \"<logic.counter_logic.CounterLogic object at 0x000000A14B09E4C8>\"}, {\"varName\": \"dummysmiq\", \"varType\": \"MicrowaveDummy\", \"varSize\": \"144\", \"varShape\": \"\", \"varContent\": \"<hardware.microwave.mw_source_dummy.MicrowaveDummy object at 0x000000A148D5FF78>\"}, {\"varName\": \"fitlogic\", \"varType\": \"FitLogic\", \"varSize\": \"144\", \"varShape\": \"\", \"varContent\": \"<logic.fit_logic.FitLogic object at 0x000000A150D60948>\"}, {\"varName\": \"kernellogic\", \"varType\": \"QudiKernelLogic\", \"varSize\": \"144\", \"varShape\": \"\", \"varContent\": \"<logic.jupyterkernel.kernellogic.QudiKernelLogic object at 0x000000A14B0A63A8>\"}, {\"varName\": \"manager\", \"varType\": \"Manager\", \"varSize\": \"144\", \"varShape\": \"\", \"varContent\": \"<core.manager.Manager object at 0x000000A1409CAA68>\"}, {\"varName\": \"mangui\", \"varType\": \"ManagerGui\", \"varSize\": \"144\", \"varShape\": \"\", \"varContent\": \"<gui.manager.managergui.ManagerGui object at 0x000000A1427E2EE8>\"}, {\"varName\": \"myfastcounter\", \"varType\": \"FastComtec\", \"varSize\": \"144\", \"varShape\": \"\", \"varContent\": \"<hardware.fastcomtec.fastcomtecmcs6.FastComtec object at 0x000000A1470D8E58>\"}, {\"varName\": \"nicard\", \"varType\": \"NationalInstrumentsXSeries\", \"varSize\": \"144\", \"varShape\": \"\", \"varContent\": \"<hardware.national_instruments_x_series.NationalInstrumentsXSeries object at 0x000000A143325828>\"}, {\"varName\": \"optimizerlogic\", \"varType\": \"OptimizerLogic\", \"varSize\": \"144\", \"varShape\": \"\", \"varContent\": \"<logic.optimizer_logic.OptimizerLogic object at 0x000000A14D930318>\"}, {\"varName\": \"pulsedmasterlogic\", \"varType\": \"PulsedMasterLogic\", \"varSize\": \"144\", \"varShape\": \"\", \"varContent\": \"<logic.pulsed.pulsed_master_logic.PulsedMasterLogic object at 0x000000A16A9BEE58>\"}, {\"varName\": \"pulsedmeasurementgui\", \"varType\": \"PulsedMeasurementGui\", \"varSize\": \"144\", \"varShape\": \"\", \"varContent\": \"<gui.pulsed.pulsed_maingui.PulsedMeasurementGui object at 0x000000A16F6CBF78>\"}, {\"varName\": \"pulsedmeasurementlogic\", \"varType\": \"PulsedMeasurementLogic\", \"varSize\": \"144\", \"varShape\": \"\", \"varContent\": \"<logic.pulsed.pulsed_measurement_logic.PulsedMeasurementLogic object at 0x000000A15933CD38>\"}, {\"varName\": \"savelogic\", \"varType\": \"SaveLogic\", \"varSize\": \"144\", \"varShape\": \"\", \"varContent\": \"<logic.save_logic.SaveLogic object at 0x000000A14B05F948>\"}, {\"varName\": \"scanner_tilt_interfuse\", \"varType\": \"ScannerTiltInterfuse\", \"varSize\": \"144\", \"varShape\": \"\", \"varContent\": \"<logic.interfuse.scanner_tilt_interfuse.ScannerTiltInterfuse object at 0x000000A14EE05948>\"}, {\"varName\": \"scannerlogic\", \"varType\": \"ConfocalLogic\", \"varSize\": \"144\", \"varShape\": \"\", \"varContent\": \"<logic.confocal_logic.ConfocalLogic object at 0x000000A14D9300D8>\"}, {\"varName\": \"sequencegeneratorlogic\", \"varType\": \"SequenceGeneratorLogic\", \"varSize\": \"144\", \"varShape\": \"\", \"varContent\": \"<logic.pulsed.sequence_generator_logic.SequenceGeneratorLogic object at 0x000000A15937E558>\"}, {\"varName\": \"tasklogic\", \"varType\": \"TaskRunner\", \"varSize\": \"144\", \"varShape\": \"\", \"varContent\": \"<logic.taskrunner.TaskRunner object at 0x000000A1490599D8>\"}, {\"varName\": \"traygui\", \"varType\": \"TrayIcon\", \"varSize\": \"144\", \"varShape\": \"\", \"varContent\": \"<gui.trayicon.TrayIcon object at 0x000000A14906CAF8>\"}]\n",
      "[{\"varName\": \"awg8190\", \"varType\": \"AWGM8190A\", \"varSize\": \"144\", \"varShape\": \"\", \"varContent\": \"<hardware.awg.keysight_m819x.AWGM8190A object at 0x000000A14714E948>\"}, {\"varName\": \"config\", \"varType\": \"OrderedDict\", \"varSize\": \"464\", \"varShape\": \"\", \"varContent\": \"OrderedDict([('hardware', OrderedDict([('dummysmiq', OrderedDict([('module.Class', 'microwave.mw_source_dummy.MicrowaveDummy'), ('gpib_address', 'dummy'), ('gpib_timeout', 20), ('mock', True)])), ('sm\"}, {\"varName\": \"confocalgui\", \"varType\": \"ConfocalGui\", \"varSize\": \"144\", \"varShape\": \"\", \"varContent\": \"<gui.confocal.confocalgui.ConfocalGui object at 0x000000A151309EE8>\"}, {\"varName\": \"countergui\", \"varType\": \"CounterGui\", \"varSize\": \"144\", \"varShape\": \"\", \"varContent\": \"<gui.counter.countergui.CounterGui object at 0x000000A14B0A64C8>\"}, {\"varName\": \"counterlogic\", \"varType\": \"CounterLogic\", \"varSize\": \"144\", \"varShape\": \"\", \"varContent\": \"<logic.counter_logic.CounterLogic object at 0x000000A14B09E4C8>\"}, {\"varName\": \"dummysmiq\", \"varType\": \"MicrowaveDummy\", \"varSize\": \"144\", \"varShape\": \"\", \"varContent\": \"<hardware.microwave.mw_source_dummy.MicrowaveDummy object at 0x000000A148D5FF78>\"}, {\"varName\": \"fitlogic\", \"varType\": \"FitLogic\", \"varSize\": \"144\", \"varShape\": \"\", \"varContent\": \"<logic.fit_logic.FitLogic object at 0x000000A150D60948>\"}, {\"varName\": \"kernellogic\", \"varType\": \"QudiKernelLogic\", \"varSize\": \"144\", \"varShape\": \"\", \"varContent\": \"<logic.jupyterkernel.kernellogic.QudiKernelLogic object at 0x000000A14B0A63A8>\"}, {\"varName\": \"manager\", \"varType\": \"Manager\", \"varSize\": \"144\", \"varShape\": \"\", \"varContent\": \"<core.manager.Manager object at 0x000000A1409CAA68>\"}, {\"varName\": \"mangui\", \"varType\": \"ManagerGui\", \"varSize\": \"144\", \"varShape\": \"\", \"varContent\": \"<gui.manager.managergui.ManagerGui object at 0x000000A1427E2EE8>\"}, {\"varName\": \"myfastcounter\", \"varType\": \"FastComtec\", \"varSize\": \"144\", \"varShape\": \"\", \"varContent\": \"<hardware.fastcomtec.fastcomtecmcs6.FastComtec object at 0x000000A1470D8E58>\"}, {\"varName\": \"nicard\", \"varType\": \"NationalInstrumentsXSeries\", \"varSize\": \"144\", \"varShape\": \"\", \"varContent\": \"<hardware.national_instruments_x_series.NationalInstrumentsXSeries object at 0x000000A143325828>\"}, {\"varName\": \"optimizerlogic\", \"varType\": \"OptimizerLogic\", \"varSize\": \"144\", \"varShape\": \"\", \"varContent\": \"<logic.optimizer_logic.OptimizerLogic object at 0x000000A14D930318>\"}, {\"varName\": \"pulsedmasterlogic\", \"varType\": \"PulsedMasterLogic\", \"varSize\": \"144\", \"varShape\": \"\", \"varContent\": \"<logic.pulsed.pulsed_master_logic.PulsedMasterLogic object at 0x000000A16A9BEE58>\"}, {\"varName\": \"pulsedmeasurementgui\", \"varType\": \"PulsedMeasurementGui\", \"varSize\": \"144\", \"varShape\": \"\", \"varContent\": \"<gui.pulsed.pulsed_maingui.PulsedMeasurementGui object at 0x000000A16F6CBF78>\"}, {\"varName\": \"pulsedmeasurementlogic\", \"varType\": \"PulsedMeasurementLogic\", \"varSize\": \"144\", \"varShape\": \"\", \"varContent\": \"<logic.pulsed.pulsed_measurement_logic.PulsedMeasurementLogic object at 0x000000A15933CD38>\"}, {\"varName\": \"savelogic\", \"varType\": \"SaveLogic\", \"varSize\": \"144\", \"varShape\": \"\", \"varContent\": \"<logic.save_logic.SaveLogic object at 0x000000A14B05F948>\"}, {\"varName\": \"scanner_tilt_interfuse\", \"varType\": \"ScannerTiltInterfuse\", \"varSize\": \"144\", \"varShape\": \"\", \"varContent\": \"<logic.interfuse.scanner_tilt_interfuse.ScannerTiltInterfuse object at 0x000000A14EE05948>\"}, {\"varName\": \"scannerlogic\", \"varType\": \"ConfocalLogic\", \"varSize\": \"144\", \"varShape\": \"\", \"varContent\": \"<logic.confocal_logic.ConfocalLogic object at 0x000000A14D9300D8>\"}, {\"varName\": \"sequencegeneratorlogic\", \"varType\": \"SequenceGeneratorLogic\", \"varSize\": \"144\", \"varShape\": \"\", \"varContent\": \"<logic.pulsed.sequence_generator_logic.SequenceGeneratorLogic object at 0x000000A15937E558>\"}, {\"varName\": \"tasklogic\", \"varType\": \"TaskRunner\", \"varSize\": \"144\", \"varShape\": \"\", \"varContent\": \"<logic.taskrunner.TaskRunner object at 0x000000A1490599D8>\"}, {\"varName\": \"traygui\", \"varType\": \"TrayIcon\", \"varSize\": \"144\", \"varShape\": \"\", \"varContent\": \"<gui.trayicon.TrayIcon object at 0x000000A14906CAF8>\"}]\n",
      "[{\"varName\": \"awg8190\", \"varType\": \"AWGM8190A\", \"varSize\": \"144\", \"varShape\": \"\", \"varContent\": \"<hardware.awg.keysight_m819x.AWGM8190A object at 0x000000A14714E948>\"}, {\"varName\": \"config\", \"varType\": \"OrderedDict\", \"varSize\": \"464\", \"varShape\": \"\", \"varContent\": \"OrderedDict([('hardware', OrderedDict([('dummysmiq', OrderedDict([('module.Class', 'microwave.mw_source_dummy.MicrowaveDummy'), ('gpib_address', 'dummy'), ('gpib_timeout', 20), ('mock', True)])), ('sm\"}, {\"varName\": \"confocalgui\", \"varType\": \"ConfocalGui\", \"varSize\": \"144\", \"varShape\": \"\", \"varContent\": \"<gui.confocal.confocalgui.ConfocalGui object at 0x000000A151309EE8>\"}, {\"varName\": \"countergui\", \"varType\": \"CounterGui\", \"varSize\": \"144\", \"varShape\": \"\", \"varContent\": \"<gui.counter.countergui.CounterGui object at 0x000000A14B0A64C8>\"}, {\"varName\": \"counterlogic\", \"varType\": \"CounterLogic\", \"varSize\": \"144\", \"varShape\": \"\", \"varContent\": \"<logic.counter_logic.CounterLogic object at 0x000000A14B09E4C8>\"}, {\"varName\": \"dummysmiq\", \"varType\": \"MicrowaveDummy\", \"varSize\": \"144\", \"varShape\": \"\", \"varContent\": \"<hardware.microwave.mw_source_dummy.MicrowaveDummy object at 0x000000A148D5FF78>\"}, {\"varName\": \"fitlogic\", \"varType\": \"FitLogic\", \"varSize\": \"144\", \"varShape\": \"\", \"varContent\": \"<logic.fit_logic.FitLogic object at 0x000000A150D60948>\"}, {\"varName\": \"kernellogic\", \"varType\": \"QudiKernelLogic\", \"varSize\": \"144\", \"varShape\": \"\", \"varContent\": \"<logic.jupyterkernel.kernellogic.QudiKernelLogic object at 0x000000A14B0A63A8>\"}, {\"varName\": \"manager\", \"varType\": \"Manager\", \"varSize\": \"144\", \"varShape\": \"\", \"varContent\": \"<core.manager.Manager object at 0x000000A1409CAA68>\"}, {\"varName\": \"mangui\", \"varType\": \"ManagerGui\", \"varSize\": \"144\", \"varShape\": \"\", \"varContent\": \"<gui.manager.managergui.ManagerGui object at 0x000000A1427E2EE8>\"}, {\"varName\": \"myfastcounter\", \"varType\": \"FastComtec\", \"varSize\": \"144\", \"varShape\": \"\", \"varContent\": \"<hardware.fastcomtec.fastcomtecmcs6.FastComtec object at 0x000000A1470D8E58>\"}, {\"varName\": \"nicard\", \"varType\": \"NationalInstrumentsXSeries\", \"varSize\": \"144\", \"varShape\": \"\", \"varContent\": \"<hardware.national_instruments_x_series.NationalInstrumentsXSeries object at 0x000000A143325828>\"}, {\"varName\": \"optimizerlogic\", \"varType\": \"OptimizerLogic\", \"varSize\": \"144\", \"varShape\": \"\", \"varContent\": \"<logic.optimizer_logic.OptimizerLogic object at 0x000000A14D930318>\"}, {\"varName\": \"pulsedmasterlogic\", \"varType\": \"PulsedMasterLogic\", \"varSize\": \"144\", \"varShape\": \"\", \"varContent\": \"<logic.pulsed.pulsed_master_logic.PulsedMasterLogic object at 0x000000A16A9BEE58>\"}, {\"varName\": \"pulsedmeasurementgui\", \"varType\": \"PulsedMeasurementGui\", \"varSize\": \"144\", \"varShape\": \"\", \"varContent\": \"<gui.pulsed.pulsed_maingui.PulsedMeasurementGui object at 0x000000A16F6CBF78>\"}, {\"varName\": \"pulsedmeasurementlogic\", \"varType\": \"PulsedMeasurementLogic\", \"varSize\": \"144\", \"varShape\": \"\", \"varContent\": \"<logic.pulsed.pulsed_measurement_logic.PulsedMeasurementLogic object at 0x000000A15933CD38>\"}, {\"varName\": \"savelogic\", \"varType\": \"SaveLogic\", \"varSize\": \"144\", \"varShape\": \"\", \"varContent\": \"<logic.save_logic.SaveLogic object at 0x000000A14B05F948>\"}, {\"varName\": \"scanner_tilt_interfuse\", \"varType\": \"ScannerTiltInterfuse\", \"varSize\": \"144\", \"varShape\": \"\", \"varContent\": \"<logic.interfuse.scanner_tilt_interfuse.ScannerTiltInterfuse object at 0x000000A14EE05948>\"}, {\"varName\": \"scannerlogic\", \"varType\": \"ConfocalLogic\", \"varSize\": \"144\", \"varShape\": \"\", \"varContent\": \"<logic.confocal_logic.ConfocalLogic object at 0x000000A14D9300D8>\"}, {\"varName\": \"sequencegeneratorlogic\", \"varType\": \"SequenceGeneratorLogic\", \"varSize\": \"144\", \"varShape\": \"\", \"varContent\": \"<logic.pulsed.sequence_generator_logic.SequenceGeneratorLogic object at 0x000000A15937E558>\"}, {\"varName\": \"tasklogic\", \"varType\": \"TaskRunner\", \"varSize\": \"144\", \"varShape\": \"\", \"varContent\": \"<logic.taskrunner.TaskRunner object at 0x000000A1490599D8>\"}, {\"varName\": \"traygui\", \"varType\": \"TrayIcon\", \"varSize\": \"144\", \"varShape\": \"\", \"varContent\": \"<gui.trayicon.TrayIcon object at 0x000000A14906CAF8>\"}]\n",
      "[{\"varName\": \"awg8190\", \"varType\": \"AWGM8190A\", \"varSize\": \"144\", \"varShape\": \"\", \"varContent\": \"<hardware.awg.keysight_m819x.AWGM8190A object at 0x000000A14714E948>\"}, {\"varName\": \"config\", \"varType\": \"OrderedDict\", \"varSize\": \"464\", \"varShape\": \"\", \"varContent\": \"OrderedDict([('hardware', OrderedDict([('dummysmiq', OrderedDict([('module.Class', 'microwave.mw_source_dummy.MicrowaveDummy'), ('gpib_address', 'dummy'), ('gpib_timeout', 20), ('mock', True)])), ('sm\"}, {\"varName\": \"confocalgui\", \"varType\": \"ConfocalGui\", \"varSize\": \"144\", \"varShape\": \"\", \"varContent\": \"<gui.confocal.confocalgui.ConfocalGui object at 0x000000A151309EE8>\"}, {\"varName\": \"countergui\", \"varType\": \"CounterGui\", \"varSize\": \"144\", \"varShape\": \"\", \"varContent\": \"<gui.counter.countergui.CounterGui object at 0x000000A14B0A64C8>\"}, {\"varName\": \"counterlogic\", \"varType\": \"CounterLogic\", \"varSize\": \"144\", \"varShape\": \"\", \"varContent\": \"<logic.counter_logic.CounterLogic object at 0x000000A14B09E4C8>\"}, {\"varName\": \"dummysmiq\", \"varType\": \"MicrowaveDummy\", \"varSize\": \"144\", \"varShape\": \"\", \"varContent\": \"<hardware.microwave.mw_source_dummy.MicrowaveDummy object at 0x000000A148D5FF78>\"}, {\"varName\": \"fitlogic\", \"varType\": \"FitLogic\", \"varSize\": \"144\", \"varShape\": \"\", \"varContent\": \"<logic.fit_logic.FitLogic object at 0x000000A150D60948>\"}, {\"varName\": \"kernellogic\", \"varType\": \"QudiKernelLogic\", \"varSize\": \"144\", \"varShape\": \"\", \"varContent\": \"<logic.jupyterkernel.kernellogic.QudiKernelLogic object at 0x000000A14B0A63A8>\"}, {\"varName\": \"manager\", \"varType\": \"Manager\", \"varSize\": \"144\", \"varShape\": \"\", \"varContent\": \"<core.manager.Manager object at 0x000000A1409CAA68>\"}, {\"varName\": \"mangui\", \"varType\": \"ManagerGui\", \"varSize\": \"144\", \"varShape\": \"\", \"varContent\": \"<gui.manager.managergui.ManagerGui object at 0x000000A1427E2EE8>\"}, {\"varName\": \"myfastcounter\", \"varType\": \"FastComtec\", \"varSize\": \"144\", \"varShape\": \"\", \"varContent\": \"<hardware.fastcomtec.fastcomtecmcs6.FastComtec object at 0x000000A1470D8E58>\"}, {\"varName\": \"nicard\", \"varType\": \"NationalInstrumentsXSeries\", \"varSize\": \"144\", \"varShape\": \"\", \"varContent\": \"<hardware.national_instruments_x_series.NationalInstrumentsXSeries object at 0x000000A143325828>\"}, {\"varName\": \"optimizerlogic\", \"varType\": \"OptimizerLogic\", \"varSize\": \"144\", \"varShape\": \"\", \"varContent\": \"<logic.optimizer_logic.OptimizerLogic object at 0x000000A14D930318>\"}, {\"varName\": \"pulsedmasterlogic\", \"varType\": \"PulsedMasterLogic\", \"varSize\": \"144\", \"varShape\": \"\", \"varContent\": \"<logic.pulsed.pulsed_master_logic.PulsedMasterLogic object at 0x000000A16A9BEE58>\"}, {\"varName\": \"pulsedmeasurementgui\", \"varType\": \"PulsedMeasurementGui\", \"varSize\": \"144\", \"varShape\": \"\", \"varContent\": \"<gui.pulsed.pulsed_maingui.PulsedMeasurementGui object at 0x000000A16F6CBF78>\"}, {\"varName\": \"pulsedmeasurementlogic\", \"varType\": \"PulsedMeasurementLogic\", \"varSize\": \"144\", \"varShape\": \"\", \"varContent\": \"<logic.pulsed.pulsed_measurement_logic.PulsedMeasurementLogic object at 0x000000A15933CD38>\"}, {\"varName\": \"savelogic\", \"varType\": \"SaveLogic\", \"varSize\": \"144\", \"varShape\": \"\", \"varContent\": \"<logic.save_logic.SaveLogic object at 0x000000A14B05F948>\"}, {\"varName\": \"scanner_tilt_interfuse\", \"varType\": \"ScannerTiltInterfuse\", \"varSize\": \"144\", \"varShape\": \"\", \"varContent\": \"<logic.interfuse.scanner_tilt_interfuse.ScannerTiltInterfuse object at 0x000000A14EE05948>\"}, {\"varName\": \"scannerlogic\", \"varType\": \"ConfocalLogic\", \"varSize\": \"144\", \"varShape\": \"\", \"varContent\": \"<logic.confocal_logic.ConfocalLogic object at 0x000000A14D9300D8>\"}, {\"varName\": \"sequencegeneratorlogic\", \"varType\": \"SequenceGeneratorLogic\", \"varSize\": \"144\", \"varShape\": \"\", \"varContent\": \"<logic.pulsed.sequence_generator_logic.SequenceGeneratorLogic object at 0x000000A15937E558>\"}, {\"varName\": \"tasklogic\", \"varType\": \"TaskRunner\", \"varSize\": \"144\", \"varShape\": \"\", \"varContent\": \"<logic.taskrunner.TaskRunner object at 0x000000A1490599D8>\"}, {\"varName\": \"traygui\", \"varType\": \"TrayIcon\", \"varSize\": \"144\", \"varShape\": \"\", \"varContent\": \"<gui.trayicon.TrayIcon object at 0x000000A14906CAF8>\"}]\n",
      "[{\"varName\": \"awg8190\", \"varType\": \"AWGM8190A\", \"varSize\": \"144\", \"varShape\": \"\", \"varContent\": \"<hardware.awg.keysight_m819x.AWGM8190A object at 0x000000A14714E948>\"}, {\"varName\": \"config\", \"varType\": \"OrderedDict\", \"varSize\": \"464\", \"varShape\": \"\", \"varContent\": \"OrderedDict([('hardware', OrderedDict([('dummysmiq', OrderedDict([('module.Class', 'microwave.mw_source_dummy.MicrowaveDummy'), ('gpib_address', 'dummy'), ('gpib_timeout', 20), ('mock', True)])), ('sm\"}, {\"varName\": \"confocalgui\", \"varType\": \"ConfocalGui\", \"varSize\": \"144\", \"varShape\": \"\", \"varContent\": \"<gui.confocal.confocalgui.ConfocalGui object at 0x000000A151309EE8>\"}, {\"varName\": \"countergui\", \"varType\": \"CounterGui\", \"varSize\": \"144\", \"varShape\": \"\", \"varContent\": \"<gui.counter.countergui.CounterGui object at 0x000000A14B0A64C8>\"}, {\"varName\": \"counterlogic\", \"varType\": \"CounterLogic\", \"varSize\": \"144\", \"varShape\": \"\", \"varContent\": \"<logic.counter_logic.CounterLogic object at 0x000000A14B09E4C8>\"}, {\"varName\": \"dummysmiq\", \"varType\": \"MicrowaveDummy\", \"varSize\": \"144\", \"varShape\": \"\", \"varContent\": \"<hardware.microwave.mw_source_dummy.MicrowaveDummy object at 0x000000A148D5FF78>\"}, {\"varName\": \"fitlogic\", \"varType\": \"FitLogic\", \"varSize\": \"144\", \"varShape\": \"\", \"varContent\": \"<logic.fit_logic.FitLogic object at 0x000000A150D60948>\"}, {\"varName\": \"kernellogic\", \"varType\": \"QudiKernelLogic\", \"varSize\": \"144\", \"varShape\": \"\", \"varContent\": \"<logic.jupyterkernel.kernellogic.QudiKernelLogic object at 0x000000A14B0A63A8>\"}, {\"varName\": \"manager\", \"varType\": \"Manager\", \"varSize\": \"144\", \"varShape\": \"\", \"varContent\": \"<core.manager.Manager object at 0x000000A1409CAA68>\"}, {\"varName\": \"mangui\", \"varType\": \"ManagerGui\", \"varSize\": \"144\", \"varShape\": \"\", \"varContent\": \"<gui.manager.managergui.ManagerGui object at 0x000000A1427E2EE8>\"}, {\"varName\": \"myfastcounter\", \"varType\": \"FastComtec\", \"varSize\": \"144\", \"varShape\": \"\", \"varContent\": \"<hardware.fastcomtec.fastcomtecmcs6.FastComtec object at 0x000000A1470D8E58>\"}, {\"varName\": \"nicard\", \"varType\": \"NationalInstrumentsXSeries\", \"varSize\": \"144\", \"varShape\": \"\", \"varContent\": \"<hardware.national_instruments_x_series.NationalInstrumentsXSeries object at 0x000000A143325828>\"}, {\"varName\": \"optimizerlogic\", \"varType\": \"OptimizerLogic\", \"varSize\": \"144\", \"varShape\": \"\", \"varContent\": \"<logic.optimizer_logic.OptimizerLogic object at 0x000000A14D930318>\"}, {\"varName\": \"pulsedmasterlogic\", \"varType\": \"PulsedMasterLogic\", \"varSize\": \"144\", \"varShape\": \"\", \"varContent\": \"<logic.pulsed.pulsed_master_logic.PulsedMasterLogic object at 0x000000A16A9BEE58>\"}, {\"varName\": \"pulsedmeasurementgui\", \"varType\": \"PulsedMeasurementGui\", \"varSize\": \"144\", \"varShape\": \"\", \"varContent\": \"<gui.pulsed.pulsed_maingui.PulsedMeasurementGui object at 0x000000A16F6CBF78>\"}, {\"varName\": \"pulsedmeasurementlogic\", \"varType\": \"PulsedMeasurementLogic\", \"varSize\": \"144\", \"varShape\": \"\", \"varContent\": \"<logic.pulsed.pulsed_measurement_logic.PulsedMeasurementLogic object at 0x000000A15933CD38>\"}, {\"varName\": \"savelogic\", \"varType\": \"SaveLogic\", \"varSize\": \"144\", \"varShape\": \"\", \"varContent\": \"<logic.save_logic.SaveLogic object at 0x000000A14B05F948>\"}, {\"varName\": \"scanner_tilt_interfuse\", \"varType\": \"ScannerTiltInterfuse\", \"varSize\": \"144\", \"varShape\": \"\", \"varContent\": \"<logic.interfuse.scanner_tilt_interfuse.ScannerTiltInterfuse object at 0x000000A14EE05948>\"}, {\"varName\": \"scannerlogic\", \"varType\": \"ConfocalLogic\", \"varSize\": \"144\", \"varShape\": \"\", \"varContent\": \"<logic.confocal_logic.ConfocalLogic object at 0x000000A14D9300D8>\"}, {\"varName\": \"sequencegeneratorlogic\", \"varType\": \"SequenceGeneratorLogic\", \"varSize\": \"144\", \"varShape\": \"\", \"varContent\": \"<logic.pulsed.sequence_generator_logic.SequenceGeneratorLogic object at 0x000000A15937E558>\"}, {\"varName\": \"tasklogic\", \"varType\": \"TaskRunner\", \"varSize\": \"144\", \"varShape\": \"\", \"varContent\": \"<logic.taskrunner.TaskRunner object at 0x000000A1490599D8>\"}, {\"varName\": \"traygui\", \"varType\": \"TrayIcon\", \"varSize\": \"144\", \"varShape\": \"\", \"varContent\": \"<gui.trayicon.TrayIcon object at 0x000000A14906CAF8>\"}]\n",
      "[{\"varName\": \"awg8190\", \"varType\": \"AWGM8190A\", \"varSize\": \"144\", \"varShape\": \"\", \"varContent\": \"<hardware.awg.keysight_m819x.AWGM8190A object at 0x000000A14714E948>\"}, {\"varName\": \"config\", \"varType\": \"OrderedDict\", \"varSize\": \"464\", \"varShape\": \"\", \"varContent\": \"OrderedDict([('hardware', OrderedDict([('dummysmiq', OrderedDict([('module.Class', 'microwave.mw_source_dummy.MicrowaveDummy'), ('gpib_address', 'dummy'), ('gpib_timeout', 20), ('mock', True)])), ('sm\"}, {\"varName\": \"confocalgui\", \"varType\": \"ConfocalGui\", \"varSize\": \"144\", \"varShape\": \"\", \"varContent\": \"<gui.confocal.confocalgui.ConfocalGui object at 0x000000A151309EE8>\"}, {\"varName\": \"countergui\", \"varType\": \"CounterGui\", \"varSize\": \"144\", \"varShape\": \"\", \"varContent\": \"<gui.counter.countergui.CounterGui object at 0x000000A14B0A64C8>\"}, {\"varName\": \"counterlogic\", \"varType\": \"CounterLogic\", \"varSize\": \"144\", \"varShape\": \"\", \"varContent\": \"<logic.counter_logic.CounterLogic object at 0x000000A14B09E4C8>\"}, {\"varName\": \"dummysmiq\", \"varType\": \"MicrowaveDummy\", \"varSize\": \"144\", \"varShape\": \"\", \"varContent\": \"<hardware.microwave.mw_source_dummy.MicrowaveDummy object at 0x000000A148D5FF78>\"}, {\"varName\": \"fitlogic\", \"varType\": \"FitLogic\", \"varSize\": \"144\", \"varShape\": \"\", \"varContent\": \"<logic.fit_logic.FitLogic object at 0x000000A150D60948>\"}, {\"varName\": \"kernellogic\", \"varType\": \"QudiKernelLogic\", \"varSize\": \"144\", \"varShape\": \"\", \"varContent\": \"<logic.jupyterkernel.kernellogic.QudiKernelLogic object at 0x000000A14B0A63A8>\"}, {\"varName\": \"manager\", \"varType\": \"Manager\", \"varSize\": \"144\", \"varShape\": \"\", \"varContent\": \"<core.manager.Manager object at 0x000000A1409CAA68>\"}, {\"varName\": \"mangui\", \"varType\": \"ManagerGui\", \"varSize\": \"144\", \"varShape\": \"\", \"varContent\": \"<gui.manager.managergui.ManagerGui object at 0x000000A1427E2EE8>\"}, {\"varName\": \"myfastcounter\", \"varType\": \"FastComtec\", \"varSize\": \"144\", \"varShape\": \"\", \"varContent\": \"<hardware.fastcomtec.fastcomtecmcs6.FastComtec object at 0x000000A1470D8E58>\"}, {\"varName\": \"nicard\", \"varType\": \"NationalInstrumentsXSeries\", \"varSize\": \"144\", \"varShape\": \"\", \"varContent\": \"<hardware.national_instruments_x_series.NationalInstrumentsXSeries object at 0x000000A143325828>\"}, {\"varName\": \"optimizerlogic\", \"varType\": \"OptimizerLogic\", \"varSize\": \"144\", \"varShape\": \"\", \"varContent\": \"<logic.optimizer_logic.OptimizerLogic object at 0x000000A14D930318>\"}, {\"varName\": \"pulsedmasterlogic\", \"varType\": \"PulsedMasterLogic\", \"varSize\": \"144\", \"varShape\": \"\", \"varContent\": \"<logic.pulsed.pulsed_master_logic.PulsedMasterLogic object at 0x000000A16A9BEE58>\"}, {\"varName\": \"pulsedmeasurementgui\", \"varType\": \"PulsedMeasurementGui\", \"varSize\": \"144\", \"varShape\": \"\", \"varContent\": \"<gui.pulsed.pulsed_maingui.PulsedMeasurementGui object at 0x000000A16F6CBF78>\"}, {\"varName\": \"pulsedmeasurementlogic\", \"varType\": \"PulsedMeasurementLogic\", \"varSize\": \"144\", \"varShape\": \"\", \"varContent\": \"<logic.pulsed.pulsed_measurement_logic.PulsedMeasurementLogic object at 0x000000A15933CD38>\"}, {\"varName\": \"savelogic\", \"varType\": \"SaveLogic\", \"varSize\": \"144\", \"varShape\": \"\", \"varContent\": \"<logic.save_logic.SaveLogic object at 0x000000A14B05F948>\"}, {\"varName\": \"scanner_tilt_interfuse\", \"varType\": \"ScannerTiltInterfuse\", \"varSize\": \"144\", \"varShape\": \"\", \"varContent\": \"<logic.interfuse.scanner_tilt_interfuse.ScannerTiltInterfuse object at 0x000000A14EE05948>\"}, {\"varName\": \"scannerlogic\", \"varType\": \"ConfocalLogic\", \"varSize\": \"144\", \"varShape\": \"\", \"varContent\": \"<logic.confocal_logic.ConfocalLogic object at 0x000000A14D9300D8>\"}, {\"varName\": \"sequencegeneratorlogic\", \"varType\": \"SequenceGeneratorLogic\", \"varSize\": \"144\", \"varShape\": \"\", \"varContent\": \"<logic.pulsed.sequence_generator_logic.SequenceGeneratorLogic object at 0x000000A15937E558>\"}, {\"varName\": \"tasklogic\", \"varType\": \"TaskRunner\", \"varSize\": \"144\", \"varShape\": \"\", \"varContent\": \"<logic.taskrunner.TaskRunner object at 0x000000A1490599D8>\"}, {\"varName\": \"traygui\", \"varType\": \"TrayIcon\", \"varSize\": \"144\", \"varShape\": \"\", \"varContent\": \"<gui.trayicon.TrayIcon object at 0x000000A14906CAF8>\"}]\n"
     ]
    },
    {
     "data": {
      "text/plain": [
       "'levitt_phi=0.0pi'"
      ]
     },
     "execution_count": 74,
     "metadata": {},
     "output_type": "execute_result"
    }
   ],
   "source": [
    "\n",
    "\n",
    "pulse = PredefinedArbPulses.generate_levitt(20e6, n_t=1000)\n",
    "pulse._func_omega_mhz_2_ampl_v = lambda x: x/20*0.25\n",
    "\n",
    "from scipy.ndimage import gaussian_filter1d\n",
    "pulse._data_ampl = gaussian_filter1d(pulse._data_ampl, 5)\n",
    "pulse._data_phase = gaussian_filter1d(pulse._data_phase, 5)\n",
    "\n",
    "pulse.name\n",
    "\n"
   ]
  },
  {
   "cell_type": "markdown",
   "metadata": {},
   "source": [
    "Rect pulse"
   ]
  },
  {
   "cell_type": "code",
   "execution_count": 80,
   "metadata": {},
   "outputs": [
    {
     "data": {
      "text/plain": [
       "'rect_phi=0.0pi'"
      ]
     },
     "execution_count": 80,
     "metadata": {},
     "output_type": "execute_result"
    }
   ],
   "source": [
    "# pi pulse with fixed lentgh\n",
    "pulse = PredefinedArbPulses.generate_rect_pi(20e6, n_t=n_timebins, t_pulse=t_oc_pulse)\n",
    "# hard pi pulse with auto lentgh\n",
    "pulse = PredefinedArbPulses.generate_rect_pi(20e6, n_t=1000)\n",
    "pulse._func_omega_mhz_2_ampl_v = lambda x: x/20*0.25\n",
    "\n",
    "fname = 'dummy' # to make loadable below\n",
    "\n",
    "pulse.name"
   ]
  },
  {
   "cell_type": "code",
   "execution_count": null,
   "metadata": {},
   "outputs": [],
   "source": []
  },
  {
   "cell_type": "code",
   "execution_count": 80,
   "metadata": {},
   "outputs": [],
   "source": [
    "pulse = PredefinedArbPulses.generate_rect_pi_x(10e6, n_t=len(pulse.timegrid),\n",
    "                                                       pix=1)\n",
    "pulse._func_ampl_v_2_omega_mhz = lambda x: x/0.25*(1e-6/78.2e-9)\n",
    "pulse._func_omega_mhz_2_ampl_v=lambda y: y/(1e-6/78.2e-9)*0.25\n",
    "\n",
    "pulse.name"
   ]
  },
  {
   "cell_type": "code",
   "execution_count": 87,
   "metadata": {},
   "outputs": [
    {
     "name": "stderr",
     "output_type": "stream",
     "text": [
      "Traceback (most recent call last):\n",
      "  File \"C:\\Users\\Setup3-PC\\Desktop\\qudi\\logic\\jupyterkernel\\qzmqkernel.py\", line 679, in run_code\n",
      "    exec(code_obj, self.user_global_ns, self.user_ns)\n",
      "  File \"<ipython-input-87-42cd5d756585>\", line 1, in <module>\n",
      "    pulse._folder\n",
      "NameError: name 'pulse' is not defined\n"
     ]
    }
   ],
   "source": [
    "pulse._folder"
   ]
  },
  {
   "cell_type": "markdown",
   "metadata": {},
   "source": [
    "#### Load initial guess from extern\n",
    "... or with fname=None assume slow rect pulse."
   ]
  },
  {
   "cell_type": "code",
   "execution_count": 149,
   "metadata": {},
   "outputs": [
    {
     "data": {
      "text/plain": [
       "'20220928_1_X1X2_pulse_simultaneous/jul_res_on_nv=2_'"
      ]
     },
     "execution_count": 149,
     "metadata": {},
     "output_type": "execute_result"
    }
   ],
   "source": [
    "#folder = r\"C:\\Software\\qudi_data\\optimal_control_assets\"\n",
    "folder = r\"C:\\Software\\qudi_data\\optimal_control_assets\\20220725_2_lessClipping\"\n",
    "folder = r\"C:\\Software\\qudi_data\\optimal_control_assets\\20220726_1_NV1_penalty_fac=1\"\n",
    "\n",
    "#fname =  r\"on_nv=2_\"\n",
    "fname = r\"opt_res_\"\n",
    "\n",
    "folder = r\"C:\\Software\\qudi_data\\optimal_control_assets\\Reisser_MSc_pulse_1\"\n",
    "fname = r\"Opt_Pulse_01_\"\n",
    "\n",
    "# ONLY for loading Reisser pulse\n",
    "#pulse = ArbPulse.load_pulse(folder, fname, unit_t='ns', unit_data='MHz',\n",
    "#                                func_omega_mhz_2_ampl_v=lambda y: y/13.849* 0.25 * 13.849/20)\n",
    "\n",
    "    \n",
    "folder = r\"C:\\Software\\qudi_data\\optimal_control_assets\\20220726_1_NV1_penalty_fac=1\"\n",
    "folder = r\"C:\\Software\\qudi_data\\optimal_control_assets\\Reisser_MSc_pulse_1\"\n",
    "folder =  r\"C:\\Software\\qudi_data\\optimal_control_assets\\20220727_1_guessFromReisserMsc\"\n",
    "folder = r\"C:\\Software\\qudi_data\\optimal_control_assets\\_from_setup9\\20220831_3_nv2_rabiMax=15MHz_guessFromReisser_110ns_pen=10\"\n",
    "folder = r\"C:\\Software\\qudi_data\\optimal_control_assets\\_from_setup9\\20220729_1_guessFromReisserMsc_penalty_fac=100\"\n",
    "folder = r\"C:\\Software\\qudi_data\\optimal_control_assets\\20220922_1_wolf_simOnly_100ns_from20220729_1\"\n",
    "\n",
    "#folder = r\"C:\\Software\\qudi_data\\optimal_control_assets\\20220914_1_onEq_pen=100\"\n",
    "#folder = r\"C:\\Software\\qudi_data\\optimal_control_assets\\20220912_1_procTomo_100ns_pen=100\"\n",
    "#folder = r\"C:\\Software\\qudi_data\\optimal_control_assets\\_from_setup9\\20220729_1_guessFromReisserMsc_penalty_fac=100\\rescale_nv2\"\n",
    "folder = r\"C:\\Software\\qudi_data\\optimal_control_assets\\_fromJuelich\\20220928_1_X1X2_pulse_simultaneous\"\n",
    "#folder = r\"C:\\Software\\qudi_data\\optimal_control_assets\\_fromJuelich\\20220928_1_X1X2_pulse_simultaneous\\rescaled\"\n",
    "\n",
    "fname =  r\"on_nv=1_\"\n",
    "#fname = r\"opt_res_\"\n",
    "fname = r\"jul_res_on_nv=2_\"\n",
    "\n",
    "pulse = ArbPulse.load_pulse(folder, fname, unit_t='s', unit_data='V',\n",
    "                            func_ampl_v_2_omega_mhz=lambda x: x/ampl_rect*(1e-6/t_rabi_rect),\n",
    "                            func_omega_mhz_2_ampl_v=lambda y: y/(1e-6/t_rabi_rect)*ampl_rect\n",
    ")\n",
    "\n",
    "#pulse = ArbPulse.load_pulse(folder, fname, unit_t='s', unit_data='V',\n",
    "#                            func_ampl_v_2_omega_mhz=lambda x: x/0.24*(1e-6/49.3e-9),\n",
    "#                            func_omega_mhz_2_ampl_v=lambda y: y/(1e-6/49.3e-9)*0.24\n",
    "#                            )\n",
    "#pulse = scale_power(pulse, factor=0.9)\n",
    "\n",
    "#pulse = ArbPulse.load_pulse(folder, fname, unit_t='s', unit_data='V',\n",
    "#                            func_ampl_v_2_omega_mhz=lambda x: x/0.25*(1e-6/50e-9),\n",
    "#                            func_omega_mhz_2_ampl_v=lambda y: y/(1e-6/50e-9)*0.25\n",
    "#                            )\n",
    "#pulse = scale_power(pulse, factor=13/18.37)\n",
    "\n",
    "#folder = r\"C:\\Software\\qudi_data\\optimal_control_assets\\20220818_procTomo_fromWeak_1\"\n",
    "#fname = r\"opt_res_\"\n",
    "#\n",
    "#pulse = ArbPulse.load_pulse(folder, fname, unit_t='s', unit_data='V',\n",
    "#                            func_ampl_v_2_omega_mhz=lambda x: x/0.25*25,\n",
    "#                            func_omega_mhz_2_ampl_v=lambda x: 1/(x/0.25*25))\n",
    "\n",
    "\n",
    "#pulse = ArbPulse.load_pulse(folder, fname, unit_t='s', unit_data='V')\n",
    "\n",
    "\n",
    "\n",
    "# rescale amplitude if needed, BETTER DO BELOW IN RESPECTIVE SECTION\n",
    "# previous t_rabi/ current t_rabi\n",
    "#pulse._data_ampl  = 22.4/50*pulse._data_ampl\n",
    "#pulse._data_phase = 22.4/50*pulse._data_phase\n",
    "\n",
    "\n",
    "pulse.name"
   ]
  },
  {
   "cell_type": "code",
   "execution_count": 127,
   "metadata": {},
   "outputs": [
    {
     "data": {
      "text/plain": [
       "'C:\\\\Software\\\\qudi_data\\\\optimal_control_assets\\\\_fromJuelich\\\\20220928_1_X1X2_pulse_simultaneous\\\\rescaled'"
      ]
     },
     "execution_count": 127,
     "metadata": {},
     "output_type": "execute_result"
    }
   ],
   "source": [
    "folder"
   ]
  },
  {
   "cell_type": "markdown",
   "metadata": {},
   "source": [
    "### Set initial guess"
   ]
  },
  {
   "cell_type": "code",
   "execution_count": 151,
   "metadata": {},
   "outputs": [
    {
     "data": {
      "text/plain": [
       "('list_function', '20220928_1_X1X2_pulse_simultaneous/jul_res_on_nv=2_')"
      ]
     },
     "execution_count": 151,
     "metadata": {},
     "output_type": "execute_result"
    }
   ],
   "source": [
    "def prep_init_guess_pulse(pulse, fname=None, gauss_filter_n=0):\n",
    "\n",
    "    len_oc_pulse = optimization_dictionary['times'][0]['initial_value']\n",
    "    timegrid = np.linspace(0, len_oc_pulse, n_timebins)\n",
    "\n",
    "    if fname:\n",
    "        try:        \n",
    "            pulse = pulse\n",
    "            logger.info(f\"pulse timegrid[-1] {pulse.timegrid[-1]}, timegrid[-1] {timegrid[-1]}\")\n",
    "            pulse = interpolate_2_timegrid(pulse, timegrid)\n",
    "\n",
    "            \n",
    "            if gauss_filter_n != 0:\n",
    "                optimization_dictionary['oc_pulse_params']['init_pulse_gauss_filter_n'] = gauss_filter_n\n",
    "                pulse._data_ampl = gaussian_filter1d(pulse._data_ampl, gauss_filter_n)\n",
    "                pulse._data_phase = gaussian_filter1d(pulse._data_phase, gauss_filter_n)\n",
    "\n",
    "            timegrid_ampl = pulse.get_timegrid(unit='s')\n",
    "\n",
    "            if n_timebins != len(timegrid_ampl) or not np.isclose(len_oc_pulse,timegrid_ampl[-1]):\n",
    "                raise RuntimeError(f\"Timegrid of loaded init pulse ({timegrid_ampl[-1]}@{len(timegrid_ampl)})\"\n",
    "                                    f\"doesn't match settings ({len_oc_pulse}@{n_timebins}) after interpolation\" \n",
    "                                    f\"Unexpected!\")\n",
    "        except:\n",
    "            logger.exception(\"\")\n",
    "            fname = None\n",
    "    if fname:\n",
    "        try:\n",
    "            initial_guess_ampl = {'function_type': 'list_function', 'list_function': pulse.get_data_ampl(unit='V')}\n",
    "            initial_guess_phase = {'function_type': 'list_function', 'list_function': pulse.get_data_phase(unit='V')}\n",
    "            logger.info(f\"Setting {pulse.name}\")\n",
    "        except:\n",
    "            logger.exception(\"\")\n",
    "        # ATTENTION: ONLY FOR DEBUG\n",
    "        #initial_guess_ampl = {'function_type': 'list_function', 'list_function': 1/1.4*pulse['data_ampl']}\n",
    "        #initial_guess_phase = {'function_type': 'list_function', 'list_function': 1/1.4*pulse['data_phase']}\n",
    "    else:\n",
    "        logger.info(\"No fname\")\n",
    "        pulse = ArbPulse()\n",
    "        pulse._timegrid_ampl = timegrid\n",
    "        pulse._timegrid_phase = timegrid\n",
    "        pulse._data_ampl = np.ones(timegrid.size)*ampl_oc_guess\n",
    "        pulse._data_phase = np.ones(timegrid.size)*0\n",
    "        pulse.timegrid_unit = 's'\n",
    "        pulse.data_unit = 'V'\n",
    "        pulse.name = 'weak_rect'\n",
    "\n",
    "        initial_guess_ampl = {'function_type': 'lambda_function', 'lambda_function': f'lambda t: {ampl_oc_guess} + 0.0*t'}\n",
    "        initial_guess_phase = {'function_type': 'lambda_function', 'lambda_function': f'lambda t: {0} + 0.0*t'}\n",
    "    \n",
    "    return pulse, initial_guess_ampl, initial_guess_phase\n",
    "try:\n",
    "    pulse, initial_guess_ampl, initial_guess_phase =  prep_init_guess_pulse(pulse, fname=fname, gauss_filter_n=0)\n",
    "except:\n",
    "    logger.exception(\"\")\n",
    "optimization_dictionary['oc_pulse_params']['init_guess_name'] = pulse.name\n",
    "\n",
    "initial_guess_ampl['function_type'], optimization_dictionary['oc_pulse_params']['init_guess_name']"
   ]
  },
  {
   "cell_type": "code",
   "execution_count": 143,
   "metadata": {},
   "outputs": [
    {
     "data": {
      "text/plain": [
       "0.03125"
      ]
     },
     "execution_count": 143,
     "metadata": {},
     "output_type": "execute_result"
    }
   ],
   "source": [
    "vec_number = 3   #2-3\n",
    "upper_freq_lim = 12  #8\n",
    "\n",
    "\n",
    "    \n",
    "pulse_amplitude = {'pulse_name': 'Amplitude', \n",
    "                           'upper_limit':ampl_max, \n",
    "                           'lower_limit': -ampl_max, \n",
    "                           'bins_number': n_timebins, \n",
    "                           'time_name': 'time_p', \n",
    "                           'amplitude_variation': 0.5*ampl_oc_guess, # added to guess amp, to create 3 points for start simplex\n",
    "                           'basis': {'basis_name': 'Fourier', \n",
    "                                     'basis_class': 'Fourier', \n",
    "                                     'basis_module': 'quocslib.pulses.basis.Fourier', \n",
    "                                     'basis_vector_number': vec_number, # number of frequencies within the below defined range\n",
    "                                     'random_super_parameter_distribution': \n",
    "                                     {'distribution_name': 'Uniform', 'distribution_class': 'Uniform', \n",
    "                                           'distribution_module': 'quocslib.pulses.superparameter.Uniform', \n",
    "                                           'lower_limit': 0.0, 'upper_limit': upper_freq_lim} # number of oscillations within pulse\n",
    "                                    }, \n",
    "                           'scaling_function': {'function_type': 'lambda_function', 'lambda_function': 'lambda t: 1.0 + 0.0*t'}, \n",
    "                           'initial_guess': initial_guess_ampl,\n",
    "                           'shrink_ampl_lim': True\n",
    "                          }\n",
    "\n",
    "pulse_phase = {'pulse_name': 'Phase', \n",
    "               'upper_limit': ampl_max, \n",
    "               'lower_limit': -ampl_max, \n",
    "               'bins_number': n_timebins, \n",
    "               'time_name': 'time_p', \n",
    "               'amplitude_variation': 0.5*ampl_oc_guess, # added to guess amp, to create 3 points for start simplex\n",
    "               'basis': {'basis_name': 'Fourier', \n",
    "                         'basis_class': 'Fourier', \n",
    "                         'basis_module': 'quocslib.pulses.basis.Fourier', \n",
    "                         'basis_vector_number': vec_number, # number of frequencies within the below defined range\n",
    "                         'random_super_parameter_distribution': \n",
    "                         {'distribution_name': 'Uniform', 'distribution_class': 'Uniform', \n",
    "                               'distribution_module': 'quocslib.pulses.superparameter.Uniform', \n",
    "                               'lower_limit': 0.0, 'upper_limit': upper_freq_lim} # number of oscillations within pulse\n",
    "                        }, \n",
    "               'scaling_function': {'function_type': 'lambda_function', 'lambda_function': 'lambda t: 1.0 + 0.0*t'}, \n",
    "               'initial_guess': initial_guess_phase,\n",
    "               'shrink_ampl_lim': True\n",
    "              }\n",
    "\n",
    "optimization_dictionary['pulses'] = [pulse_amplitude, pulse_phase]\n",
    "\n",
    "ampl_oc_guess"
   ]
  },
  {
   "cell_type": "markdown",
   "metadata": {},
   "source": [
    "### Plot init guess"
   ]
  },
  {
   "cell_type": "code",
   "execution_count": 153,
   "metadata": {},
   "outputs": [
    {
     "data": {
      "text/plain": [
       "(0.14103823868909013, 11.283059095127209)"
      ]
     },
     "execution_count": 153,
     "metadata": {},
     "output_type": "execute_result"
    },
    {
     "data": {
      "image/png": "[encoded data removed]"
     },
     "metadata": {
      "image/png": {
       "height": 375,
       "width": 613
      }
     },
     "output_type": "display_data"
    }
   ],
   "source": [
    "import matplotlib.pyplot as plt\n",
    "    \n",
    "t_amplitude = pulse.get_timegrid(unit='us')\n",
    "t_phase = pulse.get_timegrid(unit='us')\n",
    "try:\n",
    "    amplitude = pulse.get_data_ampl(unit='V')\n",
    "    phase = pulse.get_data_phase(unit='V')\n",
    "    max_ampl = np.max([np.max(phase), np.max(amplitude)])\n",
    "except ValueError:\n",
    "    amplitude, phase, max_ampl = None, None, None\n",
    "    \n",
    "try:\n",
    "    amplitude_rabi = pulse.get_data_ampl(unit='MHz')\n",
    "    phase_rabi = pulse.get_data_phase(unit='MHz')\n",
    "    max_rabi = np.max([np.max(amplitude_rabi), np.max(phase_rabi)])\n",
    "except ValueError:\n",
    "    amplitude_rabi, phase_rabi, max_rabi = None, None, None\n",
    "\n",
    "\n",
    "\n",
    "try:\n",
    "    #plt.figure(figsize=(10,6))\n",
    "    fig, ax1 = plt.subplots()\n",
    "    if amplitude is not None:\n",
    "        ax1.plot(t_amplitude, amplitude, label=\"Ampl (I)\")\n",
    "        ax1.plot(t_phase, phase, label=\"Phase (Q)\")\n",
    "        ax1.set_ylabel(\"Rabi freq (V)\")\n",
    "        ax1.set_xlabel(\"time (us)\")\n",
    "    else:\n",
    "        ax1.get_yaxis().set_visible(False)\n",
    "        \n",
    "    ax2 = ax1.twinx()\n",
    "    if amplitude_rabi is not None:\n",
    "        ax2.plot(t_amplitude, amplitude_rabi, label=\"Ampl (I)\")\n",
    "        ax2.plot(t_phase, phase_rabi, label=\"Phase (Q)\")\n",
    "        ax2.set_ylabel(\"Rabi freq (MHz)\")\n",
    "    else:\n",
    "        ax2.get_yaxis().set_visible(False)\n",
    "    \n",
    "    # plt.plot(t_phase, phase+amplitude, label=\"I+Q\")\n",
    "    plt.legend(loc='best', prop={'size': 20})\n",
    "    plt.show()\n",
    "except:\n",
    "    logger.exception(\"\")\n",
    "    \n",
    "    \n",
    "max_ampl, max_rabi"
   ]
  },
  {
   "cell_type": "markdown",
   "metadata": {},
   "source": [
    "Plot samples pulse and check whether amplitude rescaling is needed."
   ]
  },
  {
   "cell_type": "code",
   "execution_count": 361,
   "metadata": {},
   "outputs": [
    {
     "data": {
      "text/plain": [
       "(0.219403428228063, 1.0)"
      ]
     },
     "execution_count": 361,
     "metadata": {},
     "output_type": "execute_result"
    },
    {
     "data": {
      "image/png": "[encoded data removed]"
     },
     "metadata": {
      "image/png": {
       "height": 906,
       "width": 1816
      }
     },
     "output_type": "display_data"
    }
   ],
   "source": [
    "f_res = 2500e6\n",
    "\n",
    "max_old = np.max(sample_pulse(pulse, f_res))\n",
    "\n",
    "fac = get_rescale_factor_ampl(pulse, f_res, max_ampl_v=ampl_max)\n",
    "samples = sample_pulse(pulse, f_res)\n",
    "\n",
    "pulse_new = cp.deepcopy(pulse)\n",
    "pulse_new._data_ampl  = fac*pulse_new._data_ampl\n",
    "pulse_new._data_phase = fac*pulse_new._data_phase\n",
    "samples_new = sample_pulse(pulse_new, f_res)\n",
    "\n",
    "\n",
    "max_new = np.max(sample_pulse(pulse_new, f_res))\n",
    "\n",
    "\n",
    "plt.plot(samples, label=\"old\")\n",
    "plt.plot(samples_new, label=f\"rescaled= {fac:.3f}\", alpha=0.9)\n",
    "plt.axhline(ampl_max, color='red', label=f'AWG limit= {ampl_max}')\n",
    "plt.axhline(-ampl_max, color='red')\n",
    "\n",
    "plt.legend()\n",
    "plt.show()\n",
    "\n",
    "np.max(samples), fac"
   ]
  },
  {
   "cell_type": "markdown",
   "metadata": {},
   "source": [
    "### Init & Transfer to Qudi-QuOCS"
   ]
  },
  {
   "cell_type": "code",
   "execution_count": 121,
   "metadata": {},
   "outputs": [],
   "source": [
    "opti_comm_dict = {\"optimization_dictionary\": optimization_dictionary}\n",
    "optimizationlogic.load_opti_comm_dict(opti_comm_dict)"
   ]
  },
  {
   "cell_type": "markdown",
   "metadata": {},
   "source": [
    "Press \"Start\" in the gui and see whether errors are logged."
   ]
  },
  {
   "cell_type": "markdown",
   "metadata": {},
   "source": [
    "Print the optimization dictionary also here. If the GUI is not showing the optimization dictionary, restart the Kernel."
   ]
  },
  {
   "cell_type": "code",
   "execution_count": 830,
   "metadata": {},
   "outputs": [
    {
     "data": {
      "text/plain": [
       "{'optimization_client_name': 'test_dCRAB_Noisy_2_control_fields', 'opti_algorithm_module': 'quocslib.optimalalgorithms.dCRABNoisyAlgorithm', 'opti_algorithm_class': 'DCrabNoisyAlgorithm', 'algorithm_settings': {'algorithm_name': 'dCRAB', 'super_iteration_number': 10000000, 'FoM_goal': 1e-05, 'total_time_lim': 99999, 'compensate_drift': {'compensate_after_SI': True, 'compensate_after_minutes': 25}, 'random_number_generator': {'seed_number': 420}, 'dsm_settings': {'general_settings': {'dsm_algorithm_name': 'NelderMead', 'is_adaptive': False, 'dsm_algorithm_module': None, 'dsm_algorithm_class': None, 'parallelization': False}, 'stopping_criteria': {'time_lim': 300, 'change_based_stop': {'cbs_funct_evals': 500, 'cbs_change': 0.01}, 'total_time_lim': 99999, 'k3': 3, 'max_eval': 10000000000, 'xatol': 1e-14, 'frtol': 1e-13}}, 'algorithm_attribute': None, 'algorithm_module': None, 'algorithm_class': None, 'max_eval_total': 10000000000, 'optimization_direction': 'minimization'}, 'times': [{'time_name': 'time_p', 'initial_value': 1.01e-07}], 'oc_pulse_params': {'t_rabi_rect': 6.14e-08, 't_oc_pulse': 1.01e-07, 'ampl_max': 0.23, 'ampl_rect': 0.18737600000000001, 'init_guess_name': 'rescale_nv2/opt_res_'}, 'parameters': [], 'pulses': [{'pulse_name': 'Amplitude', 'upper_limit': 0.23, 'lower_limit': -0.23, 'bins_number': 1000, 'time_name': 'time_p', 'amplitude_variation': 0.028477441584158412, 'basis': {'basis_name': 'Fourier', 'basis_class': 'Fourier', 'basis_module': 'quocslib.pulses.basis.Fourier', 'basis_vector_number': 3, 'random_super_parameter_distribution': {'distribution_name': 'Uniform', 'distribution_class': 'Uniform', 'distribution_module': 'quocslib.pulses.superparameter.Uniform', 'lower_limit': 0.0, 'upper_limit': 12, 'distribution_attribute': None}, 'basis_attribute': None}, 'scaling_function': {'function_type': 'lambda_function', 'lambda_function': 'lambda t: 1.0 + 0.0*t'}, 'initial_guess': {'function_type': 'list_function', 'list_function': array([ 0.05984728,  0.05957461,  0.05933957,  0.0591406 ,  0.05897608,\n",
       "        0.05884433,  0.05874363,  0.05867221,  0.05862826,  0.05860993,\n",
       "        0.05861532,  0.05864251,  0.05868954,  0.05875444,  0.05883519,\n",
       "        0.05892976,  0.05903612,  0.0591522 ,  0.05927593,  0.05940523,\n",
       "        0.05953803,  0.05967223,  0.05980577,  0.05993657,  0.06006255,\n",
       "        0.06018168,  0.0602919 ,  0.0603912 ,  0.06047759,  0.06054908,\n",
       "        0.06060374,  0.06063964,  0.06065491,  0.06064769,  0.06061619,\n",
       "        0.06055862,  0.06047328,  0.06035848,  0.0602126 ,  0.06003406,\n",
       "        0.05982135,  0.05957299,  0.05928758,  0.05896377,  0.05860027,\n",
       "        0.05819588,  0.05774942,  0.05725981,  0.056726  ,  0.05614701,\n",
       "        0.05552203,  0.05485024,  0.05413093,  0.05336344,  0.0525472 ,\n",
       "        0.05168171,  0.05076656,  0.04980141,  0.04878601,  0.04772017,\n",
       "        0.04660379,  0.04543688,  0.04421948,  0.04295176,  0.04163393,\n",
       "        0.04026632,  0.03884931,  0.03738338,  0.03586907,  0.03430704,\n",
       "        0.03269797,  0.03104268,  0.02934201,  0.02759693,  0.02580844,\n",
       "        0.02397765,  0.02210571,  0.02019387,  0.01824343,  0.01625577,\n",
       "        0.01423233,  0.01217461,  0.01008418,  0.00796267,  0.00581177,\n",
       "        0.00363322,  0.00142881, -0.0007996 , -0.00305012, -0.00532081,\n",
       "       -0.00760969, -0.00991472, -0.01223384, -0.01456496, -0.01690594,\n",
       "       -0.01925463, -0.02160889, -0.02396646, -0.0263251 , -0.02868256,\n",
       "       -0.0310366 , -0.03338495, -0.03572534, -0.03805548, -0.04037312,\n",
       "       -0.04267598, -0.04496181, -0.04722836, -0.04947339, -0.05169469,\n",
       "       -0.05389007, -0.05605737, -0.05819445, -0.06029921, -0.06236957,\n",
       "       -0.06440352, -0.06639907, -0.06835427, -0.07026725, -0.07213617,\n",
       "       -0.07395924, -0.07573475, -0.07746105, -0.07913653, -0.08075968,\n",
       "       -0.08232904, -0.08384324, -0.08530096, -0.08670098, -0.08804216,\n",
       "       -0.08932344, -0.09054383, -0.09170246, -0.09279851, -0.09383128,\n",
       "       -0.09480015, -0.0957046 , -0.0965442 , -0.0973186 , -0.09802758,\n",
       "       -0.09867099, -0.0992488 , -0.09976105, -0.10020786, -0.10058935,\n",
       "       -0.10090605, -0.1011584 , -0.10134697, -0.10147239, -0.10153541,\n",
       "       -0.10153687, -0.1014777 , -0.10135892, -0.10118166, -0.10094713,\n",
       "       -0.10065661, -0.10031149, -0.09991324, -0.09946341, -0.09896361,\n",
       "       -0.09841556, -0.09782103, -0.09718187, -0.09649999, -0.09577737,\n",
       "       -0.09501605, -0.09421813, -0.09338577, -0.09252116, -0.09162655,\n",
       "       -0.09070424, -0.08975655, -0.08878586, -0.08779455, -0.08678505,\n",
       "       -0.0857598 , -0.08472126, -0.08367192, -0.08261425, -0.08155074,\n",
       "       -0.08048388, -0.07941616, -0.07835005, -0.07728801, -0.0762325 ,\n",
       "       -0.07518592, -0.07415069, -0.07312917, -0.07212369, -0.07113654,\n",
       "       -0.07016997, -0.06922622, -0.06830743, -0.06741569, -0.06655304,\n",
       "       -0.06572145, -0.06492284, -0.06415904, -0.06343183, -0.0627429 ,\n",
       "       -0.06209387, -0.06148626, -0.06092153, -0.06040105, -0.05992609,\n",
       "       -0.05949784, -0.05911738, -0.05878572, -0.05850376, -0.05827229,\n",
       "       -0.05809204, -0.0579636 , -0.05788748, -0.05786409, -0.05789373,\n",
       "       -0.05797659, -0.05811278, -0.0583023 , -0.05854503, -0.05884079,\n",
       "       -0.05918925, -0.05959002, -0.0600426 , -0.06054638, -0.06110067,\n",
       "       -0.06170467, -0.06235752, -0.06305824, -0.06380576, -0.06459895,\n",
       "       -0.06543657, -0.06631732, -0.06723981, -0.06820258, -0.0692041 ,\n",
       "       -0.07024276, -0.07131689, -0.07242477, -0.0735646 , -0.07473459,\n",
       "       -0.07593278, -0.07715722, -0.07840592, -0.07967685, -0.08096793,\n",
       "       -0.08227708, -0.08360214, -0.08494098, -0.08629141, -0.08765123,\n",
       "       -0.08901824, -0.09039021, -0.09176492, -0.09314015, -0.09451367,\n",
       "       -0.09588326, -0.09724671, -0.09860183, -0.09994643, -0.10127836,\n",
       "       -0.10259548, -0.10389568, -0.10517688, -0.10643704, -0.10767416,\n",
       "       -0.10888626, -0.11007142, -0.11122776, -0.11235344, -0.1134467 ,\n",
       "       -0.11450579, -0.11552905, -0.11651487, -0.11746168, -0.11836799,\n",
       "       -0.11923237, -0.12005346, -0.12082995, -0.12156061, -0.12224428,\n",
       "       -0.12287986, -0.12346633, -0.12400273, -0.12448818, -0.12492188,\n",
       "       -0.12530308, -0.12563106, -0.1259052 , -0.12612507, -0.12629024,\n",
       "       -0.12640033, -0.12645503, -0.12645412, -0.12639745, -0.12628491,\n",
       "       -0.1261165 , -0.12589226, -0.12561231, -0.12527682, -0.12488605,\n",
       "       -0.1244403 , -0.12393994, -0.12338541, -0.1227772 , -0.12211585,\n",
       "       -0.12140196, -0.12063619, -0.11981925, -0.1189519 , -0.11803495,\n",
       "       -0.11706925, -0.11605569, -0.11499522, -0.11388882, -0.11273751,\n",
       "       -0.11154234, -0.11030441, -0.10902485, -0.10770481, -0.10634547,\n",
       "       -0.10494804, -0.10351377, -0.10204391, -0.10053974, -0.09900257,\n",
       "       -0.09743371, -0.09583449, -0.09420626, -0.09255039, -0.09086824,\n",
       "       -0.08916119, -0.08743062, -0.08567794, -0.08390452, -0.08211174,\n",
       "       -0.08030103, -0.07847378, -0.07663141, -0.07477529, -0.07290681,\n",
       "       -0.07102736, -0.06913832, -0.06724103, -0.06533687, -0.06342718,\n",
       "       -0.06151328, -0.05959651, -0.05767815, -0.05575951, -0.05384187,\n",
       "       -0.05192646, -0.05001455, -0.04810734, -0.04620605, -0.04431184,\n",
       "       -0.04242588, -0.04054931, -0.03868325, -0.03682878, -0.03498696,\n",
       "       -0.03315885, -0.03134546, -0.02954778, -0.02776676, -0.02600335,\n",
       "       -0.02425845, -0.02253293, -0.02082765, -0.01914342, -0.01748103,\n",
       "       -0.01584122, -0.01422472, -0.01263222, -0.01106437, -0.0095218 ,\n",
       "       -0.00800508, -0.00651477, -0.00505138, -0.00361539, -0.00220724,\n",
       "       -0.00082733,  0.00052397,  0.00184632,  0.00313946,  0.00440313,\n",
       "        0.00563714,  0.00684131,  0.00801552,  0.00915968,  0.01027377,\n",
       "        0.01135777,  0.01241174,  0.01343577,  0.01442997,  0.01539453,\n",
       "        0.01632966,  0.01723563,  0.01811274,  0.01896134,  0.01978182,\n",
       "        0.02057462,  0.02134021,  0.02207912,  0.02279192,  0.02347921,\n",
       "        0.02414164,  0.02477991,  0.02539475,  0.02598694,  0.02655727,\n",
       "        0.02710663,  0.02763588,  0.02814596,  0.02863784,  0.02911251,\n",
       "        0.02957101,  0.03001441,  0.03044381,  0.03086033,  0.03126513,\n",
       "        0.0316594 ,  0.03204434,  0.03242119,  0.03279121,  0.03315566,\n",
       "        0.03351584,  0.03387306,  0.03422864,  0.03458392,  0.03494025,\n",
       "        0.03529897,  0.03566145,  0.03602903,  0.03640307,  0.03678494,\n",
       "        0.03717597,  0.03757752,  0.03799091,  0.03841747,  0.0388585 ,\n",
       "        0.03931528,  0.03978908,  0.04028114,  0.04079268,  0.04132489,\n",
       "        0.04187892,  0.0424559 ,  0.04305691,  0.043683  ,  0.04433517,\n",
       "        0.04501439,  0.04572158,  0.04645759,  0.04722326,  0.04801934,\n",
       "        0.04884654,  0.04970552,  0.05059687,  0.05152112,  0.05247874,\n",
       "        0.05347014,  0.05449566,  0.05555558,  0.05665011,  0.05777937,\n",
       "        0.05894344,  0.06014231,  0.06137592,  0.06264411,  0.06394666,\n",
       "        0.06528328,  0.0666536 ,  0.0680572 ,  0.06949355,  0.07096208,\n",
       "        0.07246212,  0.07399296,  0.07555382,  0.0771438 ,  0.07876197,\n",
       "        0.08040734,  0.08207883,  0.08377533,  0.08549564,  0.0872385 ,\n",
       "        0.08900263,  0.09078664,  0.09258913,  0.09440862,  0.09624361,\n",
       "        0.09809254,  0.09995379,  0.10182574,  0.10370671,  0.10559497,\n",
       "        0.1074888 ,  0.10938642,  0.11128605,  0.11318587,  0.11508407,\n",
       "        0.11697879,  0.1188682 ,  0.12075045,  0.12262368,  0.12448604,\n",
       "        0.12633568,  0.12817078,  0.12998952,  0.13179008,  0.1335707 ,\n",
       "        0.13532961,  0.13706508,  0.13877543,  0.14045899,  0.14211415,\n",
       "        0.14373932,  0.14533298,  0.14689364,  0.14841987,  0.1499103 ,\n",
       "        0.15136362,  0.15277857,  0.15415395,  0.15548865,  0.15678153,\n",
       "        0.15803158,  0.15923799,  0.16039992,  0.16151662,  0.16258741,\n",
       "        0.16361167,  0.16458889,  0.16551863,  0.16640053,  0.16723432,\n",
       "        0.1680198 ,  0.16875687,  0.16944551,  0.17008578,  0.17067782,\n",
       "        0.17122187,  0.17171823,  0.17216731,  0.17256956,  0.17292556,\n",
       "        0.17323593,  0.17350137,  0.17372268,  0.17390072,  0.1740364 ,\n",
       "        0.17413073,  0.17418478,  0.17419966,  0.17417658,  0.17411677,\n",
       "        0.17402155,  0.17389227,  0.17373033,  0.1735372 ,  0.17331436,\n",
       "        0.17306336,  0.17278577,  0.17248319,  0.17215725,  0.17180962,\n",
       "        0.17144199,  0.17105604,  0.17065349,  0.17023608,  0.16980552,\n",
       "        0.16936356,  0.16891193,  0.16845244,  0.16798676,  0.16751657,\n",
       "        0.16704358,  0.16656947,  0.16609588,  0.16562443,  0.16515673,\n",
       "        0.16469434,  0.16423879,  0.16379156,  0.16335411,  0.16292784,\n",
       "        0.16251409,  0.16211419,  0.16172938,  0.16136085,  0.16100976,\n",
       "        0.16067719,  0.16036415,  0.1600716 ,  0.15980045,  0.15955152,\n",
       "        0.15932558,  0.15912332,  0.15894537,  0.15879229,  0.15866456,\n",
       "        0.1585626 ,  0.15848676,  0.15843732,  0.15841447,  0.15841836,\n",
       "        0.15844905,  0.15850653,  0.15859073,  0.15870151,  0.15883866,\n",
       "        0.1590019 ,  0.1591909 ,  0.15940525,  0.15964448,  0.15990809,\n",
       "        0.16019547,  0.160506  ,  0.16083897,  0.16119366,  0.16156925,\n",
       "        0.16196491,  0.16237974,  0.16281278,  0.16326308,  0.16372963,\n",
       "        0.16421136,  0.16470722,  0.16521608,  0.16573681,  0.16626825,\n",
       "        0.16680921,  0.1673585 ,  0.16791488,  0.16847714,  0.16904402,\n",
       "        0.16961428,  0.17018665,  0.17075987,  0.17133269,  0.17190384,\n",
       "        0.17247207,  0.17303613,  0.17359479,  0.17414681,  0.174691  ,\n",
       "        0.17522615,  0.17575109,  0.17626466,  0.17676573,  0.17725319,\n",
       "        0.17772597,  0.178183  ,  0.17862327,  0.17904577,  0.17944956,\n",
       "        0.1798337 ,  0.1801973 ,  0.18053951,  0.18085952,  0.18115653,\n",
       "        0.18142981,  0.18167867,  0.18190243,  0.18210049,  0.18227226,\n",
       "        0.1824172 ,  0.18253483,  0.18262452,  0.18268596,  0.18271885,\n",
       "        0.18272288,  0.18269775,  0.18264323,  0.18255911,  0.18244523,\n",
       "        0.18230149,  0.18212779,  0.18192409,  0.1816904 ,  0.18142676,\n",
       "        0.18113323,  0.18080993,  0.18045701,  0.18007464,  0.17966304,\n",
       "        0.17922246,  0.17875319,  0.17825553,  0.17772983,  0.17717646,\n",
       "        0.17659582,  0.17598835,  0.17535449,  0.17469474,  0.17400959,\n",
       "        0.17329958,  0.17256526,  0.17180721,  0.17102603,  0.17022233,\n",
       "        0.16939675,  0.16854995,  0.1676826 ,  0.1667954 ,  0.16588904,\n",
       "        0.16496427,  0.1640218 ,  0.16306241,  0.16208686,  0.16109592,\n",
       "        0.1600904 ,  0.15907109,  0.15803882,  0.15699442,  0.15593873,\n",
       "        0.15487266,  0.15379701,  0.15271267,  0.15162052,  0.15052143,\n",
       "        0.1494163 ,  0.14830605,  0.14719158,  0.14607382,  0.14495369,\n",
       "        0.14383214,  0.14271009,  0.1415885 ,  0.14046833,  0.13935054,\n",
       "        0.1382361 ,  0.13712598,  0.13602115,  0.1349226 ,  0.13383132,\n",
       "        0.1327483 ,  0.13167453,  0.13061102,  0.12955877,  0.12851877,\n",
       "        0.12749203,  0.12647957,  0.12548239,  0.1245015 ,  0.1235379 ,\n",
       "        0.1225926 ,  0.12166661,  0.12076092,  0.11987654,  0.11901445,\n",
       "        0.11817565,  0.11736111,  0.11657181,  0.11580871,  0.11507277,\n",
       "        0.11436493,  0.11368613,  0.11303728,  0.1124193 ,  0.11183306,\n",
       "        0.11127944,  0.11075929,  0.11027357,  0.10982308,  0.10940851,\n",
       "        0.1090306 ,  0.1086901 ,  0.10838773,  0.10812416,  0.10790005,\n",
       "        0.10771601,  0.10757264,  0.10747049,  0.10741006,  0.10739185,\n",
       "        0.10741628,  0.10748376,  0.10759463,  0.10774922,  0.10794778,\n",
       "        0.10819053,  0.10847764,  0.10880924,  0.1091854 ,  0.10960613,\n",
       "        0.1100714 ,  0.11058112,  0.11113516,  0.11173331,  0.11237532,\n",
       "        0.11306088,  0.11378962,  0.11456112,  0.11537488,  0.11623036,\n",
       "        0.11712696,  0.11806401,  0.11904079,  0.12005651,  0.12111033,\n",
       "        0.12220134,  0.12332859,  0.12449105,  0.12568765,  0.12691724,\n",
       "        0.12817864,  0.1294706 ,  0.13079181,  0.13214092,  0.13351653,\n",
       "        0.13491715,  0.13634129,  0.13778737,  0.1392538 ,  0.14073893,\n",
       "        0.14224108,  0.14375851,  0.14528946,  0.14683212,  0.14838467,\n",
       "        0.14994522,  0.15151188,  0.15308273,  0.15465583,  0.15622919,\n",
       "        0.15780084,  0.15936877,  0.16093096,  0.16248539,  0.16403002,\n",
       "        0.16556282,  0.16708174,  0.16858475,  0.17006981,  0.1715349 ,\n",
       "        0.172978  ,  0.1743971 ,  0.17579023,  0.17715542,  0.17849072,\n",
       "        0.17979421,  0.18106401,  0.18229825,  0.18349512,  0.18465282,\n",
       "        0.1857696 ,  0.18684376,  0.18787363,  0.18885761,  0.18979411,\n",
       "        0.19068164,  0.19151873,  0.19230397,  0.19303603,  0.19371361,\n",
       "        0.1943355 ,  0.19490053,  0.19540751,  0.1958553 ,  0.19624315,\n",
       "        0.19657018,  0.19683557,  0.19703858,  0.19717853,  0.19725482,\n",
       "        0.19726693,  0.19721441,  0.19709688,  0.19691403,  0.19666566,\n",
       "        0.19635159,  0.19597177,  0.19552618,  0.19501491,  0.1944381 ,\n",
       "        0.19379598,  0.19308883,  0.19231703,  0.191481  ,  0.19058127,\n",
       "        0.18961839,  0.18859301,  0.18750585,  0.18635766,  0.18514929,\n",
       "        0.18388163,  0.18255563,  0.1811723 ,  0.17973271,  0.17823797,\n",
       "        0.17668926,  0.1750878 ,  0.17343485,  0.17173172,  0.16997976,\n",
       "        0.16818036,  0.16633496,  0.16444502,  0.16251202,  0.16053751,\n",
       "        0.15852303,  0.15647017,  0.15438051,  0.1522557 ,  0.15009735,\n",
       "        0.14790713,  0.1456867 ,  0.14343777,  0.14116201,  0.13886111,\n",
       "        0.13653676,  0.13419066,  0.13182449,  0.12943995,  0.12703872,\n",
       "        0.12462246,  0.12219284,  0.11975151,  0.1173001 ,  0.11484023,\n",
       "        0.1123735 ,  0.10990149,  0.10742575,  0.10494783,  0.10246923,\n",
       "        0.09999144,  0.0975159 ,  0.09504404,  0.09257726,  0.09011692,\n",
       "        0.08766434,  0.08522083,  0.08278765,  0.08036601,  0.0779571 ,\n",
       "        0.07556208,  0.07318205,  0.07081809,  0.06847123,  0.06614246,\n",
       "        0.06383274,  0.06154298,  0.05927405,  0.05702677,  0.05480195,\n",
       "        0.05260033,  0.05042262,  0.04826948,  0.04614154,  0.04403939,\n",
       "        0.04196357,  0.03991458,  0.03789291,  0.03589906,  0.03393332,\n",
       "        0.03199604,  0.03008753,  0.02820806,  0.02635787,  0.02453716,\n",
       "        0.0227461 ,  0.02098483,  0.01925343,  0.01755198,  0.01588051,\n",
       "        0.01423902,  0.01262748,  0.01104584,  0.00949401,  0.00797188,\n",
       "        0.0064793 ,  0.00501611,  0.00358212,  0.00217711,  0.00080084,\n",
       "       -0.00054695, -0.00186653, -0.00315821, -0.00442231, -0.00565917,\n",
       "       -0.00686914, -0.0080526 , -0.00920993, -0.01034153, -0.01144782,\n",
       "       -0.01252922, -0.01358617, -0.01461912, -0.01562851, -0.01661483,\n",
       "       -0.01742524, -0.01737675, -0.01730189, -0.01720078, -0.01707356,\n",
       "       -0.0169204 , -0.01674155, -0.01653723, -0.01630774, -0.01605341])}, 'shrink_ampl_lim': True}, {'pulse_name': 'Phase', 'upper_limit': 0.23, 'lower_limit': -0.23, 'bins_number': 1000, 'time_name': 'time_p', 'amplitude_variation': 0.028477441584158412, 'basis': {'basis_name': 'Fourier', 'basis_class': 'Fourier', 'basis_module': 'quocslib.pulses.basis.Fourier', 'basis_vector_number': 3, 'random_super_parameter_distribution': {'distribution_name': 'Uniform', 'distribution_class': 'Uniform', 'distribution_module': 'quocslib.pulses.superparameter.Uniform', 'lower_limit': 0.0, 'upper_limit': 12, 'distribution_attribute': None}, 'basis_attribute': None}, 'scaling_function': {'function_type': 'lambda_function', 'lambda_function': 'lambda t: 1.0 + 0.0*t'}, 'initial_guess': {'function_type': 'list_function', 'list_function': array([ 1.46466712e-02,  1.54267519e-02,  1.61867572e-02,  1.69259538e-02,\n",
       "        1.76436275e-02,  1.83390832e-02,  1.90116457e-02,  1.96606600e-02,\n",
       "        2.02854922e-02,  2.08855294e-02,  2.14601804e-02,  2.20088763e-02,\n",
       "        2.25310701e-02,  2.30262376e-02,  2.34938777e-02,  2.39335120e-02,\n",
       "        2.43446859e-02,  2.47269679e-02,  2.50799502e-02,  2.54032487e-02,\n",
       "        2.56965033e-02,  2.59593775e-02,  2.61915586e-02,  2.63927580e-02,\n",
       "        2.65627108e-02,  2.67011758e-02,  2.68079356e-02,  2.68827964e-02,\n",
       "        2.69255879e-02,  2.69361633e-02,  2.69143987e-02,  2.68601937e-02,\n",
       "        2.67734707e-02,  2.66541745e-02,  2.65022731e-02,  2.63177562e-02,\n",
       "        2.61006361e-02,  2.58509469e-02,  2.55687443e-02,  2.52541058e-02,\n",
       "        2.49071300e-02,  2.45279366e-02,  2.41166662e-02,  2.36734800e-02,\n",
       "        2.31985596e-02,  2.26921069e-02,  2.21543439e-02,  2.15855122e-02,\n",
       "        2.09858094e-02,  2.03554889e-02,  1.96949451e-02,  1.90044976e-02,\n",
       "        1.82844846e-02,  1.75352633e-02,  1.67572096e-02,  1.59507177e-02,\n",
       "        1.51162005e-02,  1.42540888e-02,  1.33648321e-02,  1.24488976e-02,\n",
       "        1.15067709e-02,  1.05389552e-02,  9.54597195e-03,  8.52836037e-03,\n",
       "        7.48667753e-03,  6.42149834e-03,  5.33341553e-03,  4.22303961e-03,\n",
       "        3.09099888e-03,  1.93793947e-03,  7.64525276e-04, -4.28561983e-04,\n",
       "       -1.64062277e-03, -2.87093971e-03, -4.11877759e-03, -5.38338334e-03,\n",
       "       -6.66398603e-03, -7.95979686e-03, -9.27000916e-03, -1.05937984e-02,\n",
       "       -1.19303223e-02, -1.32787207e-02, -1.46381155e-02, -1.60076113e-02,\n",
       "       -1.73862946e-02, -1.87732347e-02, -2.01674832e-02, -2.15680746e-02,\n",
       "       -2.29740259e-02, -2.43843374e-02, -2.57979924e-02, -2.72139576e-02,\n",
       "       -2.86311834e-02, -3.00486041e-02, -3.14651382e-02, -3.28796888e-02,\n",
       "       -3.42911262e-02, -3.56983270e-02, -3.71001530e-02, -3.84954495e-02,\n",
       "       -3.98830486e-02, -4.12617697e-02, -4.26304202e-02, -4.39877962e-02,\n",
       "       -4.53326829e-02, -4.66638558e-02, -4.79800809e-02, -4.92801160e-02,\n",
       "       -5.05627115e-02, -5.18266108e-02, -5.30705520e-02, -5.42932683e-02,\n",
       "       -5.54934893e-02, -5.66699420e-02, -5.78213521e-02, -5.89464447e-02,\n",
       "       -6.00439462e-02, -6.11125849e-02, -6.21510928e-02, -6.31582064e-02,\n",
       "       -6.41326686e-02, -6.50732298e-02, -6.59786493e-02, -6.68476971e-02,\n",
       "       -6.76791550e-02, -6.84718185e-02, -6.92244980e-02, -6.99360207e-02,\n",
       "       -7.06052322e-02, -7.12309979e-02, -7.18122048e-02, -7.23477633e-02,\n",
       "       -7.28366088e-02, -7.32777033e-02, -7.36700371e-02, -7.40126310e-02,\n",
       "       -7.43045371e-02, -7.45448416e-02, -7.47326657e-02, -7.48671676e-02,\n",
       "       -7.49475444e-02, -7.49730334e-02, -7.49429141e-02, -7.48564460e-02,\n",
       "       -7.47128287e-02, -7.45117053e-02, -7.42525406e-02, -7.39348497e-02,\n",
       "       -7.35581995e-02, -7.31222099e-02, -7.26265554e-02, -7.20709663e-02,\n",
       "       -7.14552306e-02, -7.07791944e-02, -7.00427638e-02, -6.92459058e-02,\n",
       "       -6.83886494e-02, -6.74710869e-02, -6.64933742e-02, -6.54557325e-02,\n",
       "       -6.43584484e-02, -6.32018753e-02, -6.19864335e-02, -6.07126109e-02,\n",
       "       -5.93809638e-02, -5.79921168e-02, -5.65467636e-02, -5.50456667e-02,\n",
       "       -5.34896581e-02, -5.18796386e-02, -5.02165785e-02, -4.85015168e-02,\n",
       "       -4.67355612e-02, -4.49198878e-02, -4.30557403e-02, -4.11444298e-02,\n",
       "       -3.91873336e-02, -3.71858950e-02, -3.51416220e-02, -3.30560864e-02,\n",
       "       -3.09309225e-02, -2.87678263e-02, -2.65685538e-02, -2.43349197e-02,\n",
       "       -2.20687959e-02, -1.97721098e-02, -1.74468426e-02, -1.50950276e-02,\n",
       "       -1.27187479e-02, -1.03201349e-02, -7.90136569e-03, -5.46461088e-03,\n",
       "       -3.01217171e-03, -5.46384741e-04,  1.93041163e-03,  4.41584507e-03,\n",
       "        6.90751185e-03,  9.40297961e-03,  1.18997901e-02,  1.43954620e-02,\n",
       "        1.68874938e-02,  1.93733667e-02,  2.18505479e-02,  2.43164931e-02,\n",
       "        2.67686502e-02,  2.92044621e-02,  3.16213698e-02,  3.40168158e-02,\n",
       "        3.63882475e-02,  3.87331199e-02,  4.10488995e-02,  4.33330670e-02,\n",
       "        4.55831212e-02,  4.77965818e-02,  4.99709929e-02,  5.21039262e-02,\n",
       "        5.41929845e-02,  5.62358046e-02,  5.82300608e-02,  6.01734680e-02,\n",
       "        6.20637849e-02,  6.38988170e-02,  6.56764200e-02,  6.73945023e-02,\n",
       "        6.90510285e-02,  7.06440221e-02,  7.21715684e-02,  7.36318172e-02,\n",
       "        7.50229855e-02,  7.63433604e-02,  7.75913014e-02,  7.87652427e-02,\n",
       "        7.98636962e-02,  8.08852532e-02,  8.18285866e-02,  8.26924534e-02,\n",
       "        8.34756963e-02,  8.41772459e-02,  8.47961092e-02,  8.53309885e-02,\n",
       "        8.57815016e-02,  8.61469475e-02,  8.64267204e-02,  8.66203112e-02,\n",
       "        8.67273078e-02,  8.67473967e-02,  8.66803635e-02,  8.65260933e-02,\n",
       "        8.62845715e-02,  8.59558840e-02,  8.55402174e-02,  8.50378590e-02,\n",
       "        8.44491970e-02,  8.37747200e-02,  8.30150168e-02,  8.21707759e-02,\n",
       "        8.12427849e-02,  8.02319297e-02,  7.91391935e-02,  7.79656562e-02,\n",
       "        7.67124927e-02,  7.53809720e-02,  7.39724556e-02,  7.24883960e-02,\n",
       "        7.09303351e-02,  6.92999023e-02,  6.75988127e-02,  6.58288648e-02,\n",
       "        6.39919389e-02,  6.20899942e-02,  6.01250670e-02,  5.80992679e-02,\n",
       "        5.60147793e-02,  5.38738528e-02,  5.16788063e-02,  4.94320216e-02,\n",
       "        4.71359408e-02,  4.47930639e-02,  4.24059453e-02,  3.99771910e-02,\n",
       "        3.75094550e-02,  3.50054365e-02,  3.24678761e-02,  2.98995528e-02,\n",
       "        2.73032802e-02,  2.46819034e-02,  2.20382521e-02,  1.93752318e-02,\n",
       "        1.66958254e-02,  1.40029682e-02,  1.12996089e-02,  8.58870640e-03,\n",
       "        5.87322572e-03,  3.15613462e-03,  4.40399969e-04, -2.27101584e-03,\n",
       "       -4.97515845e-03, -7.66908513e-03, -1.03498682e-02, -1.30145987e-02,\n",
       "       -1.56603896e-02, -1.82843793e-02, -2.08837352e-02, -2.34556567e-02,\n",
       "       -2.59973787e-02, -2.85061745e-02, -3.09793595e-02, -3.34142934e-02,\n",
       "       -3.58083842e-02, -3.81590904e-02, -4.04639239e-02, -4.27204531e-02,\n",
       "       -4.49263055e-02, -4.70791699e-02, -4.91767995e-02, -5.12170136e-02,\n",
       "       -5.31977006e-02, -5.51168197e-02, -5.69724031e-02, -5.87625583e-02,\n",
       "       -6.04854693e-02, -6.21393994e-02, -6.37226917e-02, -6.52337716e-02,\n",
       "       -6.66711478e-02, -6.80334135e-02, -6.93192481e-02, -7.05274178e-02,\n",
       "       -7.16567767e-02, -7.27062680e-02, -7.36749243e-02, -7.45618684e-02,\n",
       "       -7.53663140e-02, -7.60875656e-02, -7.67246545e-02, -7.72773604e-02,\n",
       "       -7.77453325e-02, -7.81282427e-02, -7.84258548e-02, -7.86380233e-02,\n",
       "       -7.87646935e-02, -7.88059009e-02, -7.87617704e-02, -7.86325161e-02,\n",
       "       -7.84184397e-02, -7.81199304e-02, -7.77374632e-02, -7.72715983e-02,\n",
       "       -7.67229797e-02, -7.60923338e-02, -7.53804682e-02, -7.45882703e-02,\n",
       "       -7.37167054e-02, -7.27668154e-02, -7.17397173e-02, -7.06366008e-02,\n",
       "       -6.94587271e-02, -6.82074265e-02, -6.68840970e-02, -6.54902017e-02,\n",
       "       -6.40272671e-02, -6.24968808e-02, -6.09006894e-02, -5.92403964e-02,\n",
       "       -5.75177596e-02, -5.57345892e-02, -5.38927452e-02, -5.19941350e-02,\n",
       "       -5.00407113e-02, -4.80344694e-02, -4.59774449e-02, -4.38717112e-02,\n",
       "       -4.17193771e-02, -3.95225840e-02, -3.72835039e-02, -3.50043368e-02,\n",
       "       -3.26873076e-02, -3.03346646e-02, -2.79486762e-02, -2.55316287e-02,\n",
       "       -2.30858240e-02, -2.06135461e-02, -1.81170726e-02, -1.55988392e-02,\n",
       "       -1.30611850e-02, -1.05064527e-02, -7.93698550e-03, -5.35512551e-03,\n",
       "       -2.76321104e-03, -1.63574456e-04,  2.44146002e-03,  5.04957854e-03,\n",
       "        7.65847975e-03,  1.02658769e-02,  1.28694999e-02,  1.54670975e-02,\n",
       "        1.80564389e-02,  2.06353161e-02,  2.32015453e-02,  2.57529695e-02,\n",
       "        2.82874593e-02,  3.08029154e-02,  3.32972698e-02,  3.57684880e-02,\n",
       "        3.82145697e-02,  4.06335511e-02,  4.30235060e-02,  4.53825473e-02,\n",
       "        4.77088282e-02,  5.00005436e-02,  5.22559314e-02,  5.44732735e-02,\n",
       "        5.66508972e-02,  5.87871757e-02,  6.08805298e-02,  6.29294284e-02,\n",
       "        6.49323894e-02,  6.68879806e-02,  6.87948208e-02,  7.06515798e-02,\n",
       "        7.24569796e-02,  7.42097948e-02,  7.59088534e-02,  7.75530369e-02,\n",
       "        7.91412808e-02,  8.06725754e-02,  8.21459657e-02,  8.35605516e-02,\n",
       "        8.49154886e-02,  8.62097820e-02,  8.74427891e-02,  8.86139406e-02,\n",
       "        8.97226153e-02,  9.07682477e-02,  9.17503277e-02,  9.26684008e-02,\n",
       "        9.35220678e-02,  9.43109846e-02,  9.50348619e-02,  9.56934651e-02,\n",
       "        9.62866135e-02,  9.68141806e-02,  9.72760931e-02,  9.76723305e-02,\n",
       "        9.80029250e-02,  9.82679606e-02,  9.84675726e-02,  9.86019471e-02,\n",
       "        9.86713202e-02,  9.86759775e-02,  9.86162531e-02,  9.84925294e-02,\n",
       "        9.83052357e-02,  9.80548477e-02,  9.77418869e-02,  9.73669191e-02,\n",
       "        9.69305544e-02,  9.64334454e-02,  9.58762869e-02,  9.52598147e-02,\n",
       "        9.45848045e-02,  9.38520712e-02,  9.30624676e-02,  9.22168834e-02,\n",
       "        9.13162445e-02,  9.03615113e-02,  8.93536780e-02,  8.82937715e-02,\n",
       "        8.71828500e-02,  8.60220023e-02,  8.48123460e-02,  8.35550268e-02,\n",
       "        8.22512175e-02,  8.09021161e-02,  7.95089452e-02,  7.80729506e-02,\n",
       "        7.65953876e-02,  7.50773692e-02,  7.35204045e-02,  7.19258199e-02,\n",
       "        7.02949589e-02,  6.86291805e-02,  6.69298583e-02,  6.51983790e-02,\n",
       "        6.34361413e-02,  6.16445547e-02,  5.98250380e-02,  5.79790183e-02,\n",
       "        5.61079295e-02,  5.42132113e-02,  5.22963079e-02,  5.03586667e-02,\n",
       "        4.84017370e-02,  4.64269691e-02,  4.44358127e-02,  4.24297160e-02,\n",
       "        4.04101243e-02,  3.83784790e-02,  3.63362165e-02,  3.42847667e-02,\n",
       "        3.22255522e-02,  3.01599872e-02,  2.80894762e-02,  2.60154130e-02,\n",
       "        2.39391797e-02,  2.18621458e-02,  1.97856667e-02,  1.77110834e-02,\n",
       "        1.56397209e-02,  1.35728876e-02,  1.15118743e-02,  9.45795354e-03,\n",
       "        7.41237819e-03,  5.37638111e-03,  3.35117416e-03,  1.33794742e-03,\n",
       "       -6.62131541e-04, -2.64791837e-03, -4.61829264e-03, -6.57215849e-03,\n",
       "       -8.50844523e-03, -1.04261079e-02, -1.23241281e-02, -1.42015138e-02,\n",
       "       -1.60572469e-02, -1.78903758e-02, -1.97000519e-02, -2.14853957e-02,\n",
       "       -2.32455568e-02, -2.49797136e-02, -2.66870744e-02, -2.83668770e-02,\n",
       "       -3.00183890e-02, -3.16409081e-02, -3.32337623e-02, -3.47963098e-02,\n",
       "       -3.63279388e-02, -3.78280680e-02, -3.92961466e-02, -4.07316535e-02,\n",
       "       -4.21340980e-02, -4.35030193e-02, -4.48379863e-02, -4.61385977e-02,\n",
       "       -4.74044812e-02, -4.86352938e-02, -4.98307212e-02, -5.09904776e-02,\n",
       "       -5.21143051e-02, -5.32019736e-02, -5.42532801e-02, -5.52680487e-02,\n",
       "       -5.62461294e-02, -5.71873983e-02, -5.80917567e-02, -5.89591307e-02,\n",
       "       -5.97894704e-02, -6.05827496e-02, -6.13389650e-02, -6.20581356e-02,\n",
       "       -6.27403022e-02, -6.33855264e-02, -6.39938904e-02, -6.45654959e-02,\n",
       "       -6.51004635e-02, -6.55989321e-02, -6.60610582e-02, -6.64870150e-02,\n",
       "       -6.68769918e-02, -6.72311932e-02, -6.75498386e-02, -6.78331610e-02,\n",
       "       -6.80812508e-02, -6.82945021e-02, -6.84732088e-02, -6.86176524e-02,\n",
       "       -6.87281248e-02, -6.88049273e-02, -6.88483701e-02, -6.88587717e-02,\n",
       "       -6.88364581e-02, -6.87817620e-02, -6.86950226e-02, -6.85765847e-02,\n",
       "       -6.84267979e-02, -6.82460166e-02, -6.80345988e-02, -6.77929062e-02,\n",
       "       -6.75213031e-02, -6.72201563e-02, -6.68898345e-02, -6.65307080e-02,\n",
       "       -6.61431480e-02, -6.57275267e-02, -6.52842163e-02, -6.48135894e-02,\n",
       "       -6.43160181e-02, -6.37918741e-02, -6.32415284e-02, -6.26653509e-02,\n",
       "       -6.20637108e-02, -6.14369755e-02, -6.07855115e-02, -6.01096837e-02,\n",
       "       -5.94098555e-02, -5.86863891e-02, -5.79396448e-02, -5.71699819e-02,\n",
       "       -5.63777581e-02, -5.55633301e-02, -5.47270533e-02, -5.38692824e-02,\n",
       "       -5.29903712e-02, -5.20906730e-02, -5.11705410e-02, -5.02303282e-02,\n",
       "       -4.92703880e-02, -4.82910744e-02, -4.72927423e-02, -4.62757219e-02,\n",
       "       -4.52403314e-02, -4.41870003e-02, -4.31160911e-02, -4.20279690e-02,\n",
       "       -4.09230030e-02, -3.98015655e-02, -3.86640333e-02, -3.75107878e-02,\n",
       "       -3.63422158e-02, -3.51587096e-02, -3.39606675e-02, -3.27484947e-02,\n",
       "       -3.15226033e-02, -3.02834131e-02, -2.90313517e-02, -2.77668555e-02,\n",
       "       -2.64903698e-02, -2.52023491e-02, -2.39032579e-02, -2.25935711e-02,\n",
       "       -2.12737742e-02, -1.99443635e-02, -1.86058472e-02, -1.72587451e-02,\n",
       "       -1.59035890e-02, -1.45409234e-02, -1.31713053e-02, -1.17953049e-02,\n",
       "       -1.04135055e-02, -9.02650377e-03, -7.63491006e-03, -6.23934839e-03,\n",
       "       -4.84045661e-03, -3.43888646e-03, -2.03530362e-03, -6.30387692e-04,\n",
       "        7.75167855e-04,  2.18065573e-03,  3.58535496e-03,  4.98853104e-03,\n",
       "        6.38943614e-03,  7.78730931e-03,  9.18137681e-03,  1.05708524e-02,\n",
       "        1.19549376e-02,  1.33328225e-02,  1.47036855e-02,  1.60666639e-02,\n",
       "        1.74209243e-02,  1.87656271e-02,  2.00999111e-02,  2.14229062e-02,\n",
       "        2.27337349e-02,  2.40315126e-02,  2.53153485e-02,  2.65843460e-02,\n",
       "        2.78376044e-02,  2.90742189e-02,  3.02932819e-02,  3.14938841e-02,\n",
       "        3.26751149e-02,  3.38360642e-02,  3.49758225e-02,  3.60934829e-02,\n",
       "        3.71881413e-02,  3.82588982e-02,  3.93048593e-02,  4.03251371e-02,\n",
       "        4.13188514e-02,  4.22851314e-02,  4.32231158e-02,  4.41319550e-02,\n",
       "        4.50108115e-02,  4.58588615e-02,  4.66752962e-02,  4.74593226e-02,\n",
       "        4.82101652e-02,  4.89270666e-02,  4.96092894e-02,  5.02561168e-02,\n",
       "        5.08668539e-02,  5.14408292e-02,  5.19773954e-02,  5.24759305e-02,\n",
       "        5.29358392e-02,  5.33565536e-02,  5.37375348e-02,  5.40782732e-02,\n",
       "        5.43782902e-02,  5.46371386e-02,  5.48544039e-02,  5.50297053e-02,\n",
       "        5.51626959e-02,  5.52530643e-02,  5.53005152e-02,  5.53046260e-02,\n",
       "        5.52653968e-02,  5.51826647e-02,  5.50563051e-02,  5.48862328e-02,\n",
       "        5.46724020e-02,  5.44148068e-02,  5.41134821e-02,  5.37685031e-02,\n",
       "        5.33799862e-02,  5.29480888e-02,  5.24730097e-02,  5.19549890e-02,\n",
       "        5.13943083e-02,  5.07912906e-02,  5.01463000e-02,  4.94597418e-02,\n",
       "        4.87320622e-02,  4.79637480e-02,  4.71553261e-02,  4.63073634e-02,\n",
       "        4.54204661e-02,  4.44952793e-02,  4.35324864e-02,  4.25328082e-02,\n",
       "        4.14970025e-02,  4.04258634e-02,  3.93202201e-02,  3.81809363e-02,\n",
       "        3.70089094e-02,  3.58050692e-02,  3.45703769e-02,  3.33058244e-02,\n",
       "        3.20124327e-02,  3.06912511e-02,  2.93433556e-02,  2.79698482e-02,\n",
       "        2.65718550e-02,  2.51505253e-02,  2.37070301e-02,  2.22425604e-02,\n",
       "        2.07583264e-02,  1.92555555e-02,  1.77354910e-02,  1.61993908e-02,\n",
       "        1.46485253e-02,  1.30841765e-02,  1.15076084e-02,  9.92013027e-03,\n",
       "        8.32308025e-03,  6.71776992e-03,  5.10551423e-03,  3.48762990e-03,\n",
       "        1.86543387e-03,  2.40241667e-04, -1.38663414e-03, -3.01388553e-03,\n",
       "       -4.64021063e-03, -6.26431518e-03, -7.88491416e-03, -9.50073321e-03,\n",
       "       -1.11105102e-02, -1.27129966e-02, -1.43069591e-02, -1.58911807e-02,\n",
       "       -1.74644625e-02, -1.90256245e-02, -2.05735076e-02, -2.21069741e-02,\n",
       "       -2.36249097e-02, -2.51262239e-02, -2.66098518e-02, -2.80747548e-02,\n",
       "       -2.95199219e-02, -3.09443703e-02, -3.23471470e-02, -3.37273288e-02,\n",
       "       -3.50840242e-02, -3.64163731e-02, -3.77235485e-02, -3.90047565e-02,\n",
       "       -4.02592372e-02, -4.14862651e-02, -4.26851500e-02, -4.38552370e-02,\n",
       "       -4.49959069e-02, -4.61065770e-02, -4.71867009e-02, -4.82357688e-02,\n",
       "       -4.92533077e-02, -5.02388817e-02, -5.11920916e-02, -5.21125754e-02,\n",
       "       -5.30000077e-02, -5.38540999e-02, -5.46744433e-02, -5.54609597e-02,\n",
       "       -5.62134870e-02, -5.69318816e-02, -5.76160351e-02, -5.82658739e-02,\n",
       "       -5.88813586e-02, -5.94624837e-02, -6.00092769e-02, -6.05217981e-02,\n",
       "       -6.10001394e-02, -6.14444240e-02, -6.18548054e-02, -6.22314667e-02,\n",
       "       -6.25746201e-02, -6.28845054e-02, -6.31613898e-02, -6.34055665e-02,\n",
       "       -6.36173540e-02, -6.37970951e-02, -6.39451561e-02, -6.40619254e-02,\n",
       "       -6.41478131e-02, -6.42032493e-02, -6.42286836e-02, -6.42245838e-02,\n",
       "       -6.41914350e-02, -6.41297383e-02, -6.40400102e-02, -6.39227812e-02,\n",
       "       -6.37785946e-02, -6.36080059e-02, -6.34115816e-02, -6.31898979e-02,\n",
       "       -6.29435402e-02, -6.26731014e-02, -6.23791817e-02, -6.20623870e-02,\n",
       "       -6.17233282e-02, -6.13626203e-02, -6.09808813e-02, -6.05787315e-02,\n",
       "       -6.01567925e-02, -5.97156865e-02, -5.92560354e-02, -5.87784599e-02,\n",
       "       -5.82835789e-02, -5.77719833e-02, -5.72442584e-02, -5.67010726e-02,\n",
       "       -5.61430305e-02, -5.55707314e-02, -5.49847689e-02, -5.43857303e-02,\n",
       "       -5.37741964e-02, -5.31507405e-02, -5.25159286e-02, -5.18703184e-02,\n",
       "       -5.12144597e-02, -5.05488933e-02, -4.98741514e-02, -4.91907568e-02,\n",
       "       -4.84992232e-02, -4.78000548e-02, -4.70937462e-02, -4.63807822e-02,\n",
       "       -4.56616380e-02, -4.49367788e-02, -4.42066603e-02, -4.34717283e-02,\n",
       "       -4.27324190e-02, -4.19891589e-02, -4.12423652e-02, -4.04924458e-02,\n",
       "       -3.97397993e-02, -3.89848157e-02, -3.82278760e-02, -3.74693529e-02,\n",
       "       -3.67096108e-02, -3.59490063e-02, -3.51878883e-02, -3.44265986e-02,\n",
       "       -3.36654717e-02, -3.29048358e-02, -3.21450126e-02, -3.13863181e-02,\n",
       "       -3.06290625e-02, -2.98735511e-02, -2.91200842e-02, -2.83689577e-02,\n",
       "       -2.76204636e-02, -2.68748902e-02, -2.61325225e-02, -2.53936426e-02,\n",
       "       -2.46585301e-02, -2.39274782e-02, -2.32007557e-02, -2.24786305e-02,\n",
       "       -2.17613758e-02, -2.10492638e-02, -2.03425662e-02, -1.96415546e-02,\n",
       "       -1.89465007e-02, -1.82576765e-02, -1.75753545e-02, -1.68998082e-02,\n",
       "       -1.62313120e-02, -1.55701415e-02, -1.49165737e-02, -1.42708871e-02,\n",
       "       -1.36333619e-02, -1.30042798e-02, -1.23839246e-02, -1.17725817e-02,\n",
       "       -1.11705384e-02, -1.05780838e-02, -9.99550900e-03, -9.42310665e-03,\n",
       "       -8.86117121e-03, -8.30999867e-03, -7.76988650e-03, -7.24113344e-03,\n",
       "       -6.72403935e-03, -6.21890501e-03, -5.72603187e-03, -5.24572183e-03,\n",
       "       -4.77827694e-03, -4.32399911e-03, -3.88318982e-03, -3.45614974e-03,\n",
       "       -3.04317840e-03, -2.64457384e-03, -2.26063215e-03, -1.89164711e-03,\n",
       "       -1.53790976e-03, -1.19970794e-03, -8.77325861e-04, -5.71043609e-04,\n",
       "       -2.81136693e-04, -7.87554384e-06,  2.48474978e-04,  4.87656086e-04,\n",
       "        7.09404840e-04,  9.13405368e-04,  1.09949936e-03,  1.26745760e-03,\n",
       "        1.41705954e-03,  1.54809381e-03,  1.66035874e-03,  1.75366290e-03,\n",
       "        1.82782557e-03,  1.88267725e-03,  1.91806017e-03,  1.93382878e-03,\n",
       "        1.92985019e-03,  1.90600467e-03,  1.86218608e-03,  1.79830232e-03,\n",
       "        1.71427575e-03,  1.61004356e-03,  1.48555823e-03,  1.34078781e-03,\n",
       "        1.17571634e-03,  9.90344147e-04,  7.84688157e-04,  5.58782174e-04,\n",
       "        3.12677148e-04,  4.64414083e-05, -2.39839122e-04, -5.46060741e-04,\n",
       "       -8.72101807e-04, -1.21782260e-03, -1.58306522e-03, -1.96765351e-03,\n",
       "       -2.37139298e-03, -2.79407081e-03, -3.23545585e-03, -3.69529863e-03,\n",
       "       -4.17333144e-03, -4.66926841e-03,  2.43919681e-18,  2.71603223e-18,\n",
       "        2.98855414e-18,  3.25568191e-18,  3.51634539e-18,  3.76948943e-18,\n",
       "        4.01407830e-18,  4.24910008e-18,  4.47357096e-18,  4.68653952e-18])}, 'shrink_ampl_lim': True}]}"
      ]
     },
     "execution_count": 830,
     "metadata": {},
     "output_type": "execute_result"
    }
   ],
   "source": [
    "optimalcontrol.opti_comm_dict['optimization_dictionary']"
   ]
  },
  {
   "cell_type": "markdown",
   "metadata": {},
   "source": [
    "## Save (rescaled) pulse to disk"
   ]
  },
  {
   "cell_type": "markdown",
   "metadata": {},
   "source": [
    "1. When loading, keep ampl_rect, t_rabi_rect like in calibration of old pulse\n",
    "2. Do rescaling here with new calibration => keeps the Rabi frequency constant, but scales ampl (V)\n",
    "3. Save again with new calibration"
   ]
  },
  {
   "cell_type": "code",
   "execution_count": 155,
   "metadata": {},
   "outputs": [
    {
     "data": {
      "text/plain": [
       "1"
      ]
     },
     "execution_count": 155,
     "metadata": {},
     "output_type": "execute_result"
    }
   ],
   "source": [
    "ampl_rect"
   ]
  },
  {
   "cell_type": "code",
   "execution_count": 157,
   "metadata": {},
   "outputs": [
    {
     "data": {
      "text/plain": [
       "1.0864948653469537"
      ]
     },
     "execution_count": 157,
     "metadata": {},
     "output_type": "execute_result"
    }
   ],
   "source": [
    "t_rabi_rect_new = 61.4e-9 #22.4e-9\n",
    "ampl_rect_new = 0.98*0.7648*0.25 # 0.25\n",
    "\n",
    "cal = (1e-6/t_rabi_rect)/ampl_rect  # MHz/V\n",
    "cal_new = (1e-6/t_rabi_rect_new)/ampl_rect_new\n",
    "\n",
    "cal_new/cal "
   ]
  },
  {
   "cell_type": "code",
   "execution_count": 159,
   "metadata": {},
   "outputs": [
    {
     "data": {
      "text/plain": [
       "1.0864948653469537"
      ]
     },
     "execution_count": 159,
     "metadata": {},
     "output_type": "execute_result"
    }
   ],
   "source": [
    "\n",
    "#t_rabi_rect_new = 61.4e-9 #22.4e-9\n",
    "#ampl_rect_new = 0.98*0.7648*0.25 # 0.25\n",
    "\n",
    "\n",
    "cal = (1e-6/t_rabi_rect)/ampl_rect  # MHz/V\n",
    "cal_new = (1e-6/t_rabi_rect_new)/ampl_rect_new\n",
    "\n",
    "# rescale amplitude if needed\n",
    "# previous t_rabi/ current t_rabi\n",
    "pulse._data_ampl  = cal/cal_new*pulse._data_ampl\n",
    "pulse._data_phase = cal/cal_new*pulse._data_phase\n",
    "\n",
    "pulse._func_ampl_v_2_omega_mhz = lambda x: x/ampl_rect_new*(1e-6/t_rabi_rect_new)\n",
    "pulse._func_omega_mhz_2_ampl_v = lambda y: y/(1e-6/t_rabi_rect_new)*ampl_rect_new\n",
    "\n",
    "t_rabi_rect = t_rabi_rect_new\n",
    "ampl_rect = ampl_rect_new\n",
    "\n",
    "optimization_dictionary['oc_pulse_params'] = {'t_rabi_rect': t_rabi_rect, 't_oc_pulse': t_oc_pulse,\n",
    "                                              'ampl_max': ampl_max, 'ampl_rect': ampl_rect}\n",
    "\n",
    "cal_new/cal "
   ]
  },
  {
   "cell_type": "code",
   "execution_count": 161,
   "metadata": {},
   "outputs": [],
   "source": [
    "folder_path = r'C:\\Software\\qudi_data\\optimal_control_assets'\n",
    "try:\n",
    "    pulse_save(folder_path, pulse, name=\"new_\", name_ampl=\"amplitude.txt\", name_phase=\"phase.txt\")\n",
    "except:\n",
    "    logger.exception(\"\")"
   ]
  },
  {
   "cell_type": "markdown",
   "metadata": {},
   "source": [
    "# Measurement"
   ]
  },
  {
   "cell_type": "markdown",
   "metadata": {},
   "source": [
    "Run a normal rect Rabi with all analysis and MW generation parameters before. Then run with commented out the dicts below in order to keep all the respective pulsed settings."
   ]
  },
  {
   "cell_type": "code",
   "execution_count": 105,
   "metadata": {},
   "outputs": [
    {
     "data": {
      "text/plain": [
       "OrderedDict([('laser_channel', 'd_ch2'), ('sync_channel', 'd_ch1'), ('gate_channel', ''), ('microwave_channel', 'a_ch1'), ('microwave_frequency', 2825300000.0), ('microwave_amplitude', 0.09368800000000001), ('rabi_period', 1.228e-07), ('laser_length', 3e-06), ('laser_delay', 2e-07), ('wait_time', 1e-06), ('analog_trigger_voltage', 0.0), ('optimal_control_assets_path', 'C:\\\\Software\\\\qudi_data\\\\optimal_control_assets')])"
      ]
     },
     "execution_count": 105,
     "metadata": {},
     "output_type": "execute_result"
    }
   ],
   "source": [
    "simp = SimParameters() \n",
    "\n",
    "script_params = {}\n",
    "script_params['runtime_per_epoch'] = 3*60  # 5*60 s\n",
    "script_params['readout_noise'] = 1*0.023  # std_dev of fom, controls convergence in iteration\n",
    "# for 40s of procTomo\n",
    "#script_params['readout_noise'] = 0.023 # for 4*40s, procTomo\n",
    "\n",
    "# needs to be smaller than the actual pulse length time_p due to the interpolation\n",
    "script_params['length_oc'] = t_oc_pulse - 1e-9\n",
    "script_params['is_noisy'] = True\n",
    "\n",
    "# file paths \n",
    "folder_path = r'C:\\Software\\qudi_data\\optimal_control_assets'\n",
    "filename= \"on_nv=2_\"\n",
    "\n",
    "# pg generation settings\n",
    "p_generation_dict = pulsedmasterlogic.generation_parameters\n",
    "#p_generation_dict[\"laser_channel\"] = \"d_ch2\" \n",
    "#p_generation_dict[\"sync_channel\"] = \"d_ch1\" \n",
    "#p_generation_dict[\"gate_channel\"] = None#\"d_ch1\" \n",
    "#p_generation_dict[\"microwave_channel\"] = \"a_ch1\"\n",
    "#p_generation_dict[\"microwave_amplitude\"] = 0.25\n",
    "#p_generation_dict[\"microwave_frequency\"] = 2822.3e6\n",
    "#p_generation_dict[\"rabi_period\"] = 82.7e-9\n",
    "#p_generation_dict[\"laser_length\"] = 3e-06\n",
    "#p_generation_dict[\"laser_delay\"] = 0.2e-6\n",
    "#p_generation_dict[\"wait_time\"] = 1e-06\n",
    "#p_generation_dict[\"analog_trigger_voltage\"] = 0.0\n",
    "\n",
    "# load the general measurement parameters for the predefined measurements\n",
    "pulsedmasterlogic.set_generation_parameters(p_generation_dict)\n",
    "script_params['pulsed_generation_params'] = pulsedmasterlogic.generation_parameters\n",
    "\n",
    "script_params['pulsed_generation_params']"
   ]
  },
  {
   "cell_type": "markdown",
   "metadata": {},
   "source": [
    "## Set measurement sequence and fom"
   ]
  },
  {
   "cell_type": "code",
   "execution_count": 838,
   "metadata": {
    "scrolled": true
   },
   "outputs": [
    {
     "data": {
      "text/plain": [
       "{'name': 'oc_nrep', 'n_start': 1, 'n_step': 1, 'num_of_points': 8, 'filename_amplitude': 'on_nv=2_amplitude.txt', 'filename_phase': 'on_nv=2_phase.txt', 'folder_path': 'C:\\\\Software\\\\qudi_data\\\\optimal_control_assets', 't_gap': 7.5e-07, 'phases': '0', 'init_end_pix': 0.5, 'init_end_phases_deg': '0', 'dd_type': <DDMethods.XY8: [0.0, 90.0, 0.0, 90.0, 90.0, 0.0, 90.0, 0.0]>, 'vs_rect_pulse': False, 'symmetric_tgap': True, 'alternating': False, 'alternating_end_phase': True, 'experiment': 'oc_nrep', 'optimize_time': 1800}"
      ]
     },
     "execution_count": 838,
     "metadata": {},
     "output_type": "execute_result"
    }
   ],
   "source": [
    "\n",
    "    \n",
    "script_params['pulse_prepare_function'] = None\n",
    "script_params['fom_func_volt_2_rabi'] = None\n",
    "\n",
    "#qmeas = setup_sts_oc_pi(folder_path, filename, script_params['length_oc'])\n",
    "#qmeas = setup_oc_proctomo(folder_path, filename, script_params['length_oc'])\n",
    "\n",
    "#qmeas = setup_oc_npi(folder_path, filename, script_params['length_oc'])\n",
    "# for OC pulse on NV2 (control): from states 0, 1\n",
    "#qmeas = setup_oc_npi(folder_path, filename, script_params['length_oc'], t_gap=0.25/2.1e6, n_n=4)\n",
    "#qmeas = setup_oc_npi(folder_path, filename, script_params['length_oc'], t_gap=1/2.1e6, n_n=8)\n",
    "#qmeas = setup_oc_npi(folder_path, filename, script_params['length_oc'], t_gap=0, n_n=4)\n",
    "qmeas = setup_oc_npi(folder_path, filename, script_params['length_oc'],\n",
    "                     t_gap=750e-9, n_n=8,init_end_pix=0.5,\n",
    "                     symmetrize=True, dd_type=DDMethods.XY8, alternating_end_phase=True)\n",
    "\n",
    "\n",
    "# for OC pulse on NV1 (target): from states X,Y\n",
    "# todo: IS IT ENOUGH to do pi2X-MWX-pi2X and pi2Y-MWY-pi2Y or do we need pi2X-MWY-pi2X (spin lock)\n",
    "#qmeas = setup_oc_npi(folder_path, filename, script_params['length_oc'], t_gap=1/2.1e6, n_n=8,\n",
    "#                     phases_oc=[0], init_end_pix=0.5, init_end_phases_deg=[0])\n",
    "#                   # phases_oc=[0, 90], init_end_pix=0.5, init_end_phases_deg=[0, 90])\n",
    "# From simulated ProcTomo: OC pi from ResserMsc is roughly Y pulse\n",
    "# => need to adapt phases\n",
    "#qmeas = setup_oc_npi(folder_path, filename, script_params['length_oc'], n_n=4, t_gap=2/2*1/2.1e6, \n",
    "#                    #phases_oc=[0,90], init_end_pix=0.5, init_end_phases_deg=[0, 90])\n",
    "#                     phases_oc=[0], init_end_pix=0.5, init_end_phases_deg=[0])\n",
    "\n",
    "qmeas['optimize_time'] = 30*60\n",
    "\n",
    "f_res = 2825.3e6                 # ms=-1 NV1\n",
    "f_block = [f_res + 96e6, 2935.6e6]  # ms=-1 NV2, ms=+1 NV2\n",
    "#f_block = [f_res+ 96e6] \n",
    "fom_func = setup_fom_func_oc_npi(dd_type=DDMethods.XY8)\n",
    "#fom_func = setup_fom_func_oc_proctomo(rho_mode='v1')\n",
    "\n",
    "# add penalty to fom and register parameters\n",
    "script_params['fom_func_volt_2_rabi'] = lambda y: y/ampl_rect*(1e-6/t_rabi_rect)\n",
    "\n",
    "\n",
    "fom_func = add_penalty_freq_bandstop(fom_func, f_res, f_block, fac_penalty=100, symm_block=True, n_f_sim=75)\n",
    "\n",
    "\n",
    "script_params['generate_parameters'] = qmeas\n",
    "script_params['fom_function'] = fom_func\n",
    "\n",
    "qmeas\n",
    "\n"
   ]
  },
  {
   "cell_type": "markdown",
   "metadata": {},
   "source": [
    "### oc pi in cnot gate"
   ]
  },
  {
   "cell_type": "code",
   "execution_count": 852,
   "metadata": {},
   "outputs": [
    {
     "data": {
      "text/plain": [
       "0"
      ]
     },
     "execution_count": 852,
     "metadata": {},
     "output_type": "execute_result"
    }
   ],
   "source": [
    "def get_fname_pulsed_oc(on_nv=1, pix=1):\n",
    "    database = sequencegeneratorlogic._optimal_pulses\n",
    "    for pulse in database:\n",
    "        if pulse._pi_x == pix and pulse._on_nv == on_nv:\n",
    "            return os.path.abspath(pulse.file)\n",
    "    return None\n",
    "\n",
    "\n",
    "def prep_pulse_sts_oc_cnot(inpulse_name, scale_ampls=[1,1]):\n",
    "    \"\"\"\n",
    "    Prepare pulses for use in generate_methods that use auto-loading of optimal control pulses\n",
    "    from an optimal_control_assets folder.\n",
    "    Loads current optimized pulse as saved in run loop.\n",
    "    Scales to respective powers for nv1/nv2 and saves it with filenames as expected from sequencegenerator.\n",
    "    \"\"\"\n",
    "    \n",
    "    def prep_func():\n",
    "        pulse = ArbPulse.load_pulse(folder_path, inpulse_name, unit_t='s', unit_data='V')\n",
    "\n",
    "        out_pulsename_nv1 = os.path.basename(get_fname_pulsed_oc(on_nv=1, pix=1))\n",
    "        out_pulsename_nv2 =  os.path.basename(get_fname_pulsed_oc(on_nv=2, pix=1))\n",
    "        out_pulsenames = [out_pulsename_nv1, out_pulsename_nv2]\n",
    "        if out_pulsename_nv1 is None or out_pulsename_nv2 is None:\n",
    "            raise ValueError(\"Sequencegenerator hasn't loaded pi pulses on nv1 and nv2\")\n",
    "\n",
    "\n",
    "        # alter the calibration curve\n",
    "        save_pulse_params = cp.deepcopy(optimization_dictionary['oc_pulse_params'])\n",
    "\n",
    "        for idx in [0,1]:\n",
    "\n",
    "            # rescale pulse amplitudes\n",
    "            scale_fac = scale_ampls[idx]\n",
    "            if scale_fac > 1:\n",
    "                raise ValueError(\"Please load a base pulse (on_nv=1/2) such that only scaling < 1 can occur for the other NV!\")\n",
    "                \n",
    "            optimization_dictionary['oc_pulse_params'] = cp.deepcopy(save_pulse_params)\n",
    "            ampl_calib = optimization_dictionary['oc_pulse_params']['ampl_rect']\n",
    "            optimization_dictionary['oc_pulse_params']['ampl_rect'] = scale_fac*ampl_calib\n",
    "\n",
    "            t_amplitude = pulse.get_timegrid(unit='s')\n",
    "            t_phase = pulse.get_timegrid(unit='s')\n",
    "            amplitude = scale_fac*pulse.get_data_ampl(unit='V')\n",
    "            phase = scale_fac*pulse.get_data_phase(unit='V')\n",
    "\n",
    "            data_ampl = np.column_stack((t_amplitude, amplitude))\n",
    "            data_phase = np.column_stack((t_phase, phase))\n",
    "\n",
    "            save_pulse(folder_path, data_ampl, data_phase, name=out_pulsenames[idx])\n",
    "            logger.debug(f\"Resaved scaled pulse (fac={scale_fac}) {inpulse_name} -> {out_pulsenames[idx]}\")\n",
    "\n",
    "        optimization_dictionary['oc_pulse_params'] = save_pulse_params\n",
    "    \n",
    "    return prep_func\n",
    "    \n",
    "\n",
    "0\n",
    "\n"
   ]
  },
  {
   "cell_type": "markdown",
   "metadata": {},
   "source": [
    "Need to rescale same oc pulse to both NVs with different power calibration. ATTENTION: prep function doesn't take currently loaded pulse, but a fixed filename."
   ]
  },
  {
   "cell_type": "code",
   "execution_count": 944,
   "metadata": {},
   "outputs": [
    {
     "data": {
      "text/plain": [
       "2.24206376309061"
      ]
     },
     "execution_count": 944,
     "metadata": {},
     "output_type": "execute_result"
    }
   ],
   "source": [
    "fac_scale_nv1_2 = 1/((common.mw_amp/common.rabi_period)/(common.mw_amps_2[0]/common.t_rabi_2_rect[0]))\n",
    "fac_scale_nv1_2"
   ]
  },
  {
   "cell_type": "code",
   "execution_count": 858,
   "metadata": {},
   "outputs": [
    {
     "data": {
      "text/plain": [
       "<function setup_fom_func_sts_cnot.<locals>.calc_fom at 0x0000004C2E69C158>"
      ]
     },
     "execution_count": 858,
     "metadata": {},
     "output_type": "execute_result"
    }
   ],
   "source": [
    "script_params['fom_func_volt_2_rabi'] = None\n",
    "\n",
    "dd_type = DDMethods.XY8\n",
    "dd_order = 2\n",
    "dd_cnot_tau = -225e-9\n",
    "tau_dd_fix = 1.0e-6\n",
    "\n",
    "qmeas = None\n",
    "qmeas = setup_sts_oc_cnot(folder_path, filename, length_oc, tau_dd_fix, dd_cnot_tau,\n",
    "                      dd_type_cnot=dd_type, dd_order=dd_order)\n",
    "                  \n",
    "qmeas['optimize_time'] = 45*60   \n",
    "\n",
    "\n",
    "fom_func = setup_fom_func_sts_cnot()\n",
    "pulse_prep_func = prep_pulse_sts_oc_cnot(filename, scale_ampls=[1/fac_scale_nv1_2, 1])\n",
    "          \n",
    "    \n",
    "script_params['generate_parameters'] = qmeas\n",
    "script_params['fom_function'] = fom_func\n",
    "script_params['pulse_prepare_function'] = pulse_prep_func\n",
    "\n",
    "\n",
    "\n",
    "fom_func"
   ]
  },
  {
   "cell_type": "markdown",
   "metadata": {},
   "source": [
    "Call prep function to save power rescaled files of same pi pulse to asset folder. ATTENTION: prep function doesn't take currently loaded pulse, but a fixed filename."
   ]
  },
  {
   "cell_type": "code",
   "execution_count": 1168,
   "metadata": {},
   "outputs": [
    {
     "data": {
      "text/plain": [
       "('C:\\\\Software\\\\qudi_data\\\\optimal_control_assets\\\\on_nv=2_amplitude.txt', 'C:\\\\Software\\\\qudi_data\\\\optimal_control_assets\\\\on_nv=2_phase.txt')"
      ]
     },
     "execution_count": 1168,
     "metadata": {},
     "output_type": "execute_result"
    }
   ],
   "source": [
    "try:\n",
    "    pulse_prep_func()\n",
    "except:\n",
    "    logger.exception(\"\")\n",
    "\n",
    "get_pulse_filename(folder_path, filename)"
   ]
  },
  {
   "cell_type": "code",
   "execution_count": 814,
   "metadata": {},
   "outputs": [
    {
     "data": {
      "text/plain": [
       "0.9369641701061575"
      ]
     },
     "execution_count": 814,
     "metadata": {},
     "output_type": "execute_result"
    }
   ],
   "source": [
    "try:\n",
    "    a = fom_func()\n",
    "except:\n",
    "    logger.exception(\"\")\n",
    "    \n",
    "a"
   ]
  },
  {
   "cell_type": "code",
   "execution_count": 918,
   "metadata": {},
   "outputs": [
    {
     "data": {
      "text/plain": [
       "{'name': 'sts_cnot', 'rotations': '[<TomoRotations.c2not1: 6>, <TomoRotations.c2not1: 6>, <TomoRotations.c2not1: 6>, <TomoRotations.c2not1: 6>]', 'init_states': '[<TomoInit.none: 0>, <TomoInit.ux180_on_1: 7>, <TomoInit.ux180_on_2: 8>, <TomoInit.ux180_on_both: 9>]', 'tau_cnot': -2.25e-07, 'dd_type_cnot': <DDMethods.XY8: [0.0, 90.0, 0.0, 90.0, 90.0, 0.0, 90.0, 0.0]>, 'dd_order': 2, 'f_mw_2': '2825300000.0', 'ampl_mw_2': '0.18737600000000001', 'rabi_period_mw_2': '6.14e-08', 'alternating': True, 'init_state_kwargs': '', 'cnot_kwargs': {'tau_dd_fix': 1e-06, 'env_type': <EnvelopeMethods.optimal: 'OptimalControl'>}}"
      ]
     },
     "execution_count": 918,
     "metadata": {},
     "output_type": "execute_result"
    }
   ],
   "source": [
    "qmeas"
   ]
  },
  {
   "cell_type": "code",
   "execution_count": null,
   "metadata": {},
   "outputs": [],
   "source": []
  },
  {
   "cell_type": "markdown",
   "metadata": {},
   "source": [
    "### oc crosstalk (exp) + procTomo (sim)"
   ]
  },
  {
   "cell_type": "markdown",
   "metadata": {},
   "source": [
    "Measure crosstalk on nv1, which SHOULD BE the one closer to 2.87 GHz to take into account crosstalk to ms=0/+1 transition. Otherwise assume that crosstalk is symmetrical and we don't need to measure explicitly on nv2."
   ]
  },
  {
   "cell_type": "code",
   "execution_count": 1156,
   "metadata": {},
   "outputs": [
    {
     "data": {
      "text/plain": [
       "<function add_penalty_exp_crosstalk.<locals>.extend_fom at 0x0000004CBF279B70>"
      ]
     },
     "execution_count": 1156,
     "metadata": {},
     "output_type": "execute_result"
    }
   ],
   "source": [
    "script_params['fom_func_volt_2_rabi'] = lambda y: y/ampl_rect*(1e-6/t_rabi_rect)\n",
    "\n",
    "try:\n",
    "    qmeas = setup_oc_crosstalk(folder_path, filename, length_oc, on_nv=\"1,2\")\n",
    "\n",
    "    qmeas['optimize_time'] = 45*60   \n",
    "\n",
    "\n",
    "    f_res = common.mw_freq\n",
    "    fom_func = setup_fom_simulation_proctomo(f_res, delta_hfs=2.1e6)\n",
    "    fom_func = add_penalty_exp_crosstalk(fom_func, fac_penalty=10, first_fom_req_pulse=True)\n",
    "\n",
    "    # oc pulse on nv1, non-oc pi pulse on nv2\n",
    "    # scaling only needed as oc pulse is generated in terms of nv2 amplitude\n",
    "    pulse_prep_func = prep_pulse_sts_oc_cnot(filename, scale_ampls=[1/fac_scale_nv1_2, 1])\n",
    "\n",
    "\n",
    "    script_params['generate_parameters'] = qmeas\n",
    "    script_params['fom_function'] = fom_func\n",
    "    script_params['pulse_prepare_function'] = pulse_prep_func\n",
    "except:\n",
    "    logger.exception(\"\")\n",
    "\n",
    "\n",
    "fom_func"
   ]
  },
  {
   "cell_type": "markdown",
   "metadata": {},
   "source": [
    "DEBUG section"
   ]
  },
  {
   "cell_type": "code",
   "execution_count": 1148,
   "metadata": {},
   "outputs": [
    {
     "data": {
      "text/plain": [
       "{'name': 'oc_crosstalk', 'rotations': '[<TomoRotations.none: 0>, <TomoRotations.none: 0>, <TomoRotations.none: 0>]', 'init_states': '[<TomoInit.none: 0>, <TomoInit.ux180_on_1: 7>, <TomoInit.ux180_on_2: 8>]', 'tau_cnot': 0.0, 'dd_type_cnot': <DDMethods.SE: [0.0]>, 'dd_order': 1, 'f_mw_2': '2825300000.0', 'ampl_mw_2': '0.18737600000000001', 'rabi_period_mw_2': '6.14e-08', 'alternating': True, 'pi_on_nv': '1,2', 'init_state_kwargs': {'env_type': <EnvelopeMethods.optimal: 'OptimalControl'>}, 'cnot_kwargs': '', 'experiment': 'tomography_single', 'microwave_amplitude': 0.083328, 'microwave_frequency': 2729700000.0, 'rabi_period': 6.122e-08, 'optimize_time': 2700, 'savetag': 'oc_crosstalk', 'gated': False, 'sequence_mode': False, 'ctr_single_sweeps': False, 'ctr_n_sweeps': 0, 'ctr_n_cycles': 0, 'measurement_time': None, 'freq_optimize_time': None, 'analysis_interval': None, 'sampling_freq': 12000000000.0, 'bin_width': 4e-09, 'wait_time': 1e-06, 'laser_delay': 2e-07, 'laser_safety': 2e-07, 'sync_channel': 'd_ch1', 'gate_channel': '', 'laser_channel': 'd_ch2', 'laser_length': 3e-06, 'wait_length': 1e-06, 'trigger_length': 2e-08, 'delay_length': 1.7e-07, 'channel_amp': 1.0, 'microwave_channel': 'a_ch1', 'optimize_channel': '/Dev1/PFI0', 'readout_end': 3e-07, 'max_tau': 0.001, 'max_tau_start': 0.001, 'max_rabi_period': 0.001, 'min_microwave_frequency': 1, 'max_microwave_amplitude': 0.25}"
      ]
     },
     "execution_count": 1148,
     "metadata": {},
     "output_type": "execute_result"
    }
   ],
   "source": [
    "qmeas"
   ]
  },
  {
   "cell_type": "code",
   "execution_count": 1176,
   "metadata": {},
   "outputs": [
    {
     "data": {
      "text/plain": [
       "0.0520355778898036"
      ]
     },
     "execution_count": 1176,
     "metadata": {},
     "output_type": "execute_result"
    }
   ],
   "source": [
    "try:\n",
    "    data = fom_func(pulse, script_params['fom_func_volt_2_rabi'])\n",
    "except:\n",
    "    logger.exception()\n",
    "    \n",
    "data"
   ]
  },
  {
   "cell_type": "code",
   "execution_count": 537,
   "metadata": {},
   "outputs": [
    {
     "data": {
      "text/plain": [
       "nan"
      ]
     },
     "execution_count": 537,
     "metadata": {},
     "output_type": "execute_result"
    }
   ],
   "source": [
    "# debug fom\n",
    "try:\n",
    "    data = add_penalty_freq_bandstop(fom_func, 2615e6, 2710e6)(pulse, func_volt_2_rabi=lambda y: y/0.25*20)\n",
    "except:\n",
    "    logger.exception(\"\")\n",
    "    \n",
    "data"
   ]
  },
  {
   "cell_type": "code",
   "execution_count": 55,
   "metadata": {},
   "outputs": [],
   "source": [
    "#pulse = #folder = r\"C:\\Software\\qudi_data\\optimal_control_assets\"\n",
    "folder = r\"C:\\Software\\qudi_data\\optimal_control_assets\\20220724_1\"\n",
    "fname = r\"on_nv=2_\"\n",
    "fname = r\"opt_pulse_\"\n",
    "n_bins_init_guess = 1001\n",
    "\n",
    "pulse = TimeDependentSimulation.load_pulse(folder, fname, extension='txt',\n",
    "                                           #func_volt_2_rabi=func_volt_2_rabi,\n",
    "                                           func_t_2_us=lambda x: x*1e6)\n",
    "pulse['timegrid_ampl'][-1]"
   ]
  },
  {
   "cell_type": "code",
   "execution_count": 160,
   "metadata": {},
   "outputs": [
    {
     "data": {
      "text/plain": [
       "array([0.843, 0.882, 0.896, 0.799])"
      ]
     },
     "execution_count": 160,
     "metadata": {},
     "output_type": "execute_result"
    }
   ],
   "source": [
    "signal_data = pulsedmeasurementlogic.signal_data\n",
    "n_pi = signal_data[0,:]\n",
    "data_mw = signal_data[1,:]\n",
    "data_alt = signal_data[2,:]\n",
    "data_norm = data_mw/data_alt\n",
    "data_mw_0 = (data_norm)[n_pi%2==0]\n",
    "data_mw_1 = (data_norm)[n_pi%2==1]\n",
    "\n",
    "data_mw_1"
   ]
  },
  {
   "cell_type": "code",
   "execution_count": 563,
   "metadata": {},
   "outputs": [
    {
     "data": {
      "text/plain": [
       "(0.881537621773608, <function setup_fom_func_oc_npi.<locals>.calc_fom at 0x0000004092738AE8>)"
      ]
     },
     "execution_count": 563,
     "metadata": {},
     "output_type": "execute_result"
    }
   ],
   "source": [
    "try:\n",
    "    #a = fom_func(pulse, func_volt_2_rabi=script_params['fom_func_volt_2_rabi'])\n",
    "    a = fom_func()\n",
    "except:\n",
    "    logger.exception(\"\")\n",
    "    \n",
    "a, fom_func"
   ]
  },
  {
   "cell_type": "code",
   "execution_count": 1154,
   "metadata": {},
   "outputs": [
    {
     "data": {
      "text/plain": [
       "{'name': 'tomography_single_point', 'rotations': '<TomoRotations.none: 0>', 'init_states': '<TomoInit.none: 0>', 'tau_cnot': 0.0, 'dd_type_cnot': <DDMethods.SE: [0.0]>, 'dd_order': 1, 'f_mw_2': '1e9,1e9,1e9', 'ampl_mw_2': '0.125, 0, 0', 'rabi_period_mw_2': '100e-9, 100e-9, 100e-9', 'alternating': False, 'pi_on_nv': '1,2', 'init_state_kwargs': '', 'cnot_kwargs': ''}"
      ]
     },
     "execution_count": 1154,
     "metadata": {},
     "output_type": "execute_result"
    }
   ],
   "source": [
    "dictparamsall = pulsedmasterlogic.generate_method_params\n",
    "\n",
    "dict_qst = dictparamsall[\"tomography_single\"]\n",
    "dict_qst"
   ]
  },
  {
   "cell_type": "code",
   "execution_count": 1170,
   "metadata": {},
   "outputs": [],
   "source": [
    "qmeas = cp.deepcopy(script_params['generate_parameters'])\n",
    "experiment = qmeas['experiment']\n",
    "exp_name = qmeas['name']\n",
    "try:\n",
    "    optimize_time = qmeas['optimize_time'] \n",
    "except KeyError:\n",
    "    optimize_time = None\n",
    "qmeas.pop('optimize_time', None)\n",
    "qmeas.pop('experiment', None)\n",
    "logger.debug(f\"Generating exp: {qmeas}\")\n",
    "handle_global_gen_params(qmeas)\n",
    "# generate the sequence\n",
    "pulsedmasterlogic.generate_predefined_sequence(experiment,kwarg_dict=qmeas)  \n",
    "time.sleep(1)\n",
    "pulsedmasterlogic.sample_ensemble(exp_name,True)"
   ]
  },
  {
   "cell_type": "markdown",
   "metadata": {},
   "source": [
    "## Run experiment"
   ]
  },
  {
   "cell_type": "code",
   "execution_count": 1097,
   "metadata": {},
   "outputs": [],
   "source": [
    "laser_off()\n",
    "######################################################################################################\n",
    "# Parameters and Settings\n",
    "######################################################################################################\n",
    "\n",
    "# runtime of each experiment\n",
    "runtime = script_params['runtime_per_epoch']\n",
    "length_oc = script_params['length_oc'] \n",
    "\n",
    "# parameter to stop the experiment if its set to False in the console\n",
    "pulsedmasterlogic.globalrun = True\n",
    "uglobals.abort.clear()\n",
    "logger.info(f\"Starting new closed-loop quocs optimization on f_res= {f_res*1e-6} MHz, t_rabi= {1e9*script_params['pulsed_generation_params']['rabi_period']:.1f} ns\")\n",
    "\n",
    "\n",
    "# tell the measurement gui how the sequence looks\n",
    "pulsed_settings = dict()\n",
    "pulsed_settings['invoke_settings'] = True\n",
    "pulsedmasterlogic.set_measurement_settings(pulsed_settings)\n",
    "script_params['pulsed_settings'] = pulsed_settings\n",
    "\n",
    "\n",
    "# make sure everything is finished\n",
    "time.sleep(5)\n",
    "\n",
    "# how the laser response is analyzed    \n",
    "#pulsedmasterlogic.set_analysis_settings(method = 'mean')\n",
    "#pulsedmasterlogic.set_analysis_settings(signal_start = 150e-9)\n",
    "#pulsedmasterlogic.set_analysis_settings(signal_end = 1e-6)\n",
    "#pulsedmasterlogic.set_extraction_settings(method = 'conv_deriv')\n",
    "\n",
    "p_analysis_settings = pulsedmasterlogic.analysis_settings\n",
    "p_extraction_settings = pulsedmasterlogic.extraction_settings\n",
    "script_params['pulsed_analysis_settings'] = p_analysis_settings\n",
    "script_params['pulsed_extraction_settings_settings'] = p_extraction_settings\n",
    "\n",
    "# array to save the fom evolution\n",
    "fom_all = []\n",
    "\n",
    "# This section is devoted to the initialization in the pulsed logic and optimization logic of the main\n",
    "# settings and parameters to be usde in the creation ofthe pulse sequence and the optimization\n",
    "# Iteration, controls and figure of merit to compare with QuOCS\n",
    "# Just an example for debug\n",
    "args_dict = {\"is_noisy\": script_params['is_noisy']}\n",
    "qubit = OneQubit2Fields(args_dict)\n",
    "\n",
    "######################################################################################################\n",
    "# Measurement\n",
    "######################################################################################################\n",
    "optimalcontrol.start_optimization()\n",
    "\n",
    "# crucial, maybe it can be much shorter\n",
    "time.sleep(1)\n",
    "\n",
    "# Just a time to check for latent time\n",
    "last_time_fom = time.time()\n",
    "# repeat the whole process until its manually stopped or QuOCS finsihed the optimization\n",
    "# Wait few seconds before starting to get and return data\n",
    "while not optimizationlogic.handle_exit_obj.is_user_running:\n",
    "    time.sleep(0.1)\n",
    "    if (time.time() - last_time_fom) > 30 or uglobals.abort.is_set():\n",
    "        logger.warning(\"Timeout or abort while initializing quocs.\")\n",
    "        uglobals.abort.set()\n",
    "        break\n",
    "\n",
    "# iteration number\n",
    "it_val = 0\n",
    "opt_start_time = time.time()\n",
    "t_last_optimize = 0\n",
    "t_last_opt = 0\n",
    "try:\n",
    "    # print(\"Check before the loop starts: {0}\".format(optimizationlogic.handle_exit_obj.is_user_running))\n",
    "    while optimizationlogic.handle_exit_obj.is_user_running == True and not uglobals.abort.is_set():\n",
    "        time_stamp=time.time()\n",
    "        # wait until QuOCS optimizes the controls\n",
    "        # print(\"Wait until the controls logic gives the controls\")\n",
    "        while not controlslogic.are_pulses_calculated:\n",
    "            time.sleep(0.1)\n",
    "            # If the waiting time exceed 10 seconds left stop the optimization\n",
    "            if time.time() - last_time_fom > 30:\n",
    "                logger.error(\"Too much time... Exit!\")\n",
    "                optimizationlogic.handle_exit_obj.is_user_running = False\n",
    "                break\n",
    "\n",
    " \n",
    "        #######################################################################################################\n",
    "        # Get the Controls\n",
    "        #######################################################################################################\n",
    "        # Change the status of control calculations to avoid to evaluate the fom twice with the same controls\n",
    "        controlslogic.are_pulses_calculated = False\n",
    "        pulse = get_pulse_from_logic(get_best=False)\n",
    "        t_amplitude = pulse.get_timegrid(unit='s')\n",
    "        t_phase = pulse.get_timegrid(unit='s')\n",
    "        amplitude = pulse.get_data_ampl(unit='V')\n",
    "        phase = pulse.get_data_phase(unit='V')\n",
    "\n",
    "        #######################################################################################################\n",
    "        # Perform the measurement\n",
    "        #######################################################################################################\n",
    "\n",
    "        # save the pulses as .txt files (predefined methods doesn't allow us to upload a numpy array as \n",
    "        # parameter)\n",
    "        data_ampl = np.column_stack((t_amplitude, amplitude))\n",
    "        data_phase = np.column_stack((t_phase, phase))\n",
    "        save_pulse(folder_path + '/tmp_pulses', data_ampl, data_phase, name=filename + f\"idx={it_val}_\")\n",
    "        save_pulse(folder_path, data_ampl, data_phase, name=filename)\n",
    "        if script_params['pulse_prepare_function']:\n",
    "            script_params['pulse_prepare_function']()\n",
    "        \n",
    "        \n",
    "        time.sleep(0.2)\n",
    "        \n",
    "        qmeas = cp.deepcopy(script_params['generate_parameters'])\n",
    "        experiment = qmeas['experiment']\n",
    "        exp_name = qmeas['name']\n",
    "        try:\n",
    "            optimize_time = qmeas['optimize_time'] \n",
    "        except KeyError:\n",
    "            optimize_time = None\n",
    "        qmeas.pop('optimize_time', None)\n",
    "        qmeas.pop('experiment', None)\n",
    "        logger.debug(f\"Generating exp: {qmeas}\")\n",
    "        handle_global_gen_params(qmeas)\n",
    "        # generate the sequence\n",
    "        pulsedmasterlogic.generate_predefined_sequence(experiment,kwarg_dict=qmeas)  \n",
    "        logger.debug(\"Trigged seq generation, sleeping...\")\n",
    "        time.sleep(3)\n",
    "\n",
    "        # upload the sequence\n",
    "        pulsedmasterlogic.sample_ensemble(exp_name,True)\n",
    "        logger.debug(\"Starting seq sampling\")\n",
    "        while pulsedmasterlogic.status_dict['sampload_busy'] or pulsedmasterlogic.status_dict['sampling_ensemble_busy'] or pulsedmasterlogic.status_dict['loading_busy']:     \n",
    "            time.sleep(1)\n",
    "\n",
    "        #print('Finished uploading', dictparams_oc[\"name\"], '!')\n",
    "\n",
    "        # make sure everything is finished (crucial)\n",
    "        #time.sleep(1)#time.sleep(5)  \n",
    "        \n",
    "        # optimize/track nv before mes\n",
    "        if optimize_time:\n",
    "            if time.time() - t_last_opt > optimize_time:\n",
    "                laser_on()\n",
    "                optimize_position()\n",
    "                laser_off()\n",
    "                t_last_opt = time.time()\n",
    "        \n",
    "         # start the measurement\n",
    "        #print('Starting the measurement!')\n",
    "        pulsedmasterlogic.toggle_pulsed_measurement(True)\n",
    "        time.sleep(1)\n",
    "\n",
    "        # make sure the measurement started\n",
    "        while not pulsedmasterlogic.status_dict['measurement_running']:\n",
    "            time.sleep(0.1)\n",
    "\n",
    "        measurement_start_time = time.time()\n",
    "\n",
    "        while time.time() <= measurement_start_time + runtime:\n",
    "            time.sleep(0.2)\n",
    "\n",
    "            # option to stop the measurement\n",
    "            if pulsedmasterlogic.globalrun == False or uglobals.abort.is_set():\n",
    "                print('Stopping the measurement!')\n",
    "                break\n",
    "\n",
    "        # option to stop the measurement\n",
    "        if pulsedmasterlogic.globalrun == False or uglobals.abort.is_set():\n",
    "            print('Stopping the measurement!')\n",
    "            pulsedmasterlogic.toggle_pulsed_measurement(False)\n",
    "            break\n",
    "\n",
    "        #time.sleep(1)\n",
    "\n",
    "        # Stop the measurement\n",
    "        pulsedmasterlogic.toggle_pulsed_measurement(False)\n",
    "        time_stamp_mes =time.time()\n",
    "\n",
    "        # Make sure it stopped (Wait until the Picoscope card sends the data)\n",
    "        while pulsedmasterlogic.status_dict['measurement_running']:\n",
    "            qWait(200)\n",
    "\n",
    "        #######################################################################################################\n",
    "        # Analysis\n",
    "        ######################################################################################################\n",
    "\n",
    "        fom_func = script_params['fom_function']\n",
    "        if script_params['fom_func_volt_2_rabi'] is None:\n",
    "            fom = fom_func()\n",
    "        else:\n",
    "            # fom that includes a simulated penalty\n",
    "            pulse = ArbPulse.load_pulse(folder_path, filename, unit_t='s', unit_data='V')\n",
    "            fom = fom_func(pulse, func_volt_2_rabi=script_params['fom_func_volt_2_rabi'])\n",
    "        \n",
    "        # save the fom to plot its evolution later\n",
    "        fom_all.append([time_stamp_mes, fom])\n",
    "        it_val += 1\n",
    "\n",
    "        # Update the figure of merit and the standard deviation to the fom logic\n",
    "        fomlogic.update_fom(fom, script_params['readout_noise'], status_code=0)   # todo: define above\n",
    "        #fomlogic.update_fom(fom, std, status_code=0)\n",
    "\n",
    "        # update the last time the fom is calculated\n",
    "        last_time_fom = time.time()\n",
    "\n",
    "    # when did the optimization stop?\n",
    "    opt_end_time = time.time()\n",
    "\n",
    "    print('It took QuOCS ' + str(opt_end_time-opt_start_time) + ' s to optimize the pulse!')\n",
    "except:\n",
    "    logger.exception(\"\")\n",
    "finally:\n",
    "    # give a very high fom to the optimization algorithm\n",
    "    # and status code -1, to interrupt the optimization smoothly\n",
    "    uglobals.abort.set()\n",
    "    optimizationlogic.handle_exit_obj.is_user_running = False\n",
    "    logger.info('Stopping the optimization!')\n",
    "    fomlogic.update_fom(10**10, status_code=-1)\n",
    "\n",
    "print(\"Optimization finished\")"
   ]
  },
  {
   "cell_type": "code",
   "execution_count": 153,
   "metadata": {
    "scrolled": false
   },
   "outputs": [
    {
     "data": {
      "text/plain": [
       "{'name': 'oc_nrep', 'n_start': 1, 'n_step': 1, 'num_of_points': 8, 'filename_amplitude': 'on_nv=1_amplitude.txt', 'filename_phase': 'on_nv=1_phase.txt', 'folder_path': 'C:\\\\Software\\\\qudi_data\\\\optimal_control_assets', 't_gap': 7.5e-07, 'phases': '0', 'init_end_pix': 0.5, 'init_end_phases_deg': '0', 'dd_type': <DDMethods.XY8: [0.0, 90.0, 0.0, 90.0, 90.0, 0.0, 90.0, 0.0]>, 'vs_rect_pulse': False, 'symmetric_tgap': True, 'alternating': True, 'alternating_end_phase': False}"
      ]
     },
     "execution_count": 153,
     "metadata": {},
     "output_type": "execute_result"
    }
   ],
   "source": [
    "qmeas"
   ]
  },
  {
   "cell_type": "markdown",
   "metadata": {},
   "source": [
    "## Test FOM noise"
   ]
  },
  {
   "cell_type": "markdown",
   "metadata": {},
   "source": [
    "Repeat the same pulse for n_mc times to allow estimation of the FOM noise."
   ]
  },
  {
   "cell_type": "code",
   "execution_count": 527,
   "metadata": {},
   "outputs": [
    {
     "data": {
      "text/plain": [
       "{'name': 'oc_nrep', 'n_start': 1, 'n_step': 1, 'num_of_points': 8, 'filename_amplitude': 'on_nv=1_amplitude.txt', 'filename_phase': 'on_nv=1_phase.txt', 'folder_path': 'C:\\\\Software\\\\qudi_data\\\\optimal_control_assets', 't_gap': 7.5e-07, 'phases': '0', 'init_end_pix': 0, 'init_end_phases_deg': '0', 'dd_type': <DDMethods.XY8: [0.0, 90.0, 0.0, 90.0, 90.0, 0.0, 90.0, 0.0]>, 'vs_rect_pulse': False, 'symmetric_tgap': True, 'alternating': True, 'experiment': 'oc_nrep', 'optimize_time': 1800}"
      ]
     },
     "execution_count": 527,
     "metadata": {},
     "output_type": "execute_result"
    }
   ],
   "source": [
    "qmeas"
   ]
  },
  {
   "cell_type": "code",
   "execution_count": 1533,
   "metadata": {},
   "outputs": [
    {
     "data": {
      "text/plain": [
       "160"
      ]
     },
     "execution_count": 1533,
     "metadata": {},
     "output_type": "execute_result"
    }
   ],
   "source": [
    "script_params['runtime_per_epoch']"
   ]
  },
  {
   "cell_type": "code",
   "execution_count": 532,
   "metadata": {},
   "outputs": [],
   "source": [
    "uglobals.abort.clear()\n",
    "\n",
    "# ATTENTION: need to make sure that the right files are here. QuOCS won't generator for you!\n",
    "assets_folder = r\"C:\\Software\\qudi_data\\optimal_control_assets\"\n",
    "\n",
    "runtime = script_params['runtime_per_epoch']\n",
    "length_oc = script_params['length_oc'] \n",
    "\n",
    "p_generation_dict = pulsedmasterlogic.generation_parameters\n",
    "# load the general measurement parameters for the predefined measurements\n",
    "pulsedmasterlogic.set_generation_parameters(p_generation_dict)\n",
    "script_params['pulsed_generation_params'] = pulsedmasterlogic.generation_parameters\n",
    "\n",
    "\n",
    "pulsed_settings = dict()\n",
    "pulsed_settings['invoke_settings'] = True\n",
    "pulsedmasterlogic.set_measurement_settings(pulsed_settings)\n",
    "script_params['pulsed_settings'] = pulsed_settings\n",
    "\n",
    "\n",
    "fom_all =  []\n",
    "n_mc = 1000\n",
    "idx= 0\n",
    "\n",
    "logger.info(\"Starting new FOM noise test\")\n",
    "\n",
    "try:\n",
    "    while idx<n_mc and not uglobals.abort.is_set():\n",
    "        time_stamp=time.time()\n",
    "\n",
    "        # load pulse\n",
    "        pulse = pulse\n",
    "        t_amplitude = pulse.get_timegrid(unit='s')\n",
    "        t_phase = pulse.get_timegrid(unit='s')\n",
    "        amplitude = pulse.get_data_ampl(unit='V')\n",
    "        phase = pulse.get_data_phase(unit='V')\n",
    "\n",
    "        # save the pulses as .txt files (predefined methods doesn't allow us to upload a numpy array as \n",
    "        # parameter)\n",
    "        data_ampl = np.column_stack((t_amplitude, amplitude))\n",
    "        data_phase = np.column_stack((t_phase, phase))\n",
    "        save_pulse(folder_path, data_ampl, data_phase, name=filename)\n",
    "        \n",
    "        \n",
    "        qmeas = cp.deepcopy(script_params['generate_parameters'])\n",
    "        experiment = qmeas['experiment']\n",
    "        exp_name = qmeas['name']\n",
    "        try:\n",
    "            optimize_time = qmeas['optimize_time'] \n",
    "        except KeyError:\n",
    "            optimize_time = None\n",
    "        qmeas.pop('optimize_time', None)\n",
    "        qmeas.pop('experiment', None)\n",
    "        # generate the sequence\n",
    "        pulsedmasterlogic.generate_predefined_sequence(experiment,kwarg_dict=qmeas)  \n",
    "\n",
    "        time.sleep(1)\n",
    "\n",
    "        # upload the sequence\n",
    "        pulsedmasterlogic.sample_ensemble(exp_name,True)\n",
    "        while pulsedmasterlogic.status_dict['sampload_busy'] or pulsedmasterlogic.status_dict['sampling_ensemble_busy'] or pulsedmasterlogic.status_dict['loading_busy']:     \n",
    "            time.sleep(1)\n",
    "        \n",
    "        # optimize/track nv before mes\n",
    "        if optimize_time:\n",
    "            if time.time() - t_last_opt > optimize_time:\n",
    "                laser_on()\n",
    "                optimize_position()\n",
    "                laser_off()\n",
    "                t_last_opt = time.time()\n",
    "        \n",
    "        # start the measurement\n",
    "        #print('Starting the measurement!')\n",
    "        pulsedmasterlogic.toggle_pulsed_measurement(True)\n",
    "        time.sleep(1)\n",
    "\n",
    "        # make sure the measurement started\n",
    "        while not pulsedmasterlogic.status_dict['measurement_running']:\n",
    "            time.sleep(0.1)\n",
    "\n",
    "        measurement_start_time = time.time()\n",
    "\n",
    "        while time.time() <= measurement_start_time + runtime:\n",
    "            qWait(200)\n",
    "\n",
    "            # option to stop the measurement\n",
    "            if uglobals.abort.is_set():\n",
    "                print('Stopping the measurement!')\n",
    "                break\n",
    "\n",
    "        # option to stop the measurement\n",
    "        if uglobals.abort.is_set():\n",
    "            print('Stopping the measurement!')\n",
    "            pulsedmasterlogic.toggle_pulsed_measurement(False)\n",
    "            break\n",
    "\n",
    "        #time.sleep(1)\n",
    "\n",
    "        # Stop the measurement\n",
    "        pulsedmasterlogic.toggle_pulsed_measurement(False)\n",
    "        time_stamp_mes = time.time()\n",
    "        \n",
    "        # Make sure it stopped (Wait until the Picoscope card sends the data)\n",
    "        while pulsedmasterlogic.status_dict['measurement_running']:\n",
    "            time.sleep(0.1)\n",
    "\n",
    "        #######################################################################################################\n",
    "        # Analysis\n",
    "        ######################################################################################################\n",
    "\n",
    "        fom_func = script_params['fom_function']\n",
    "        if script_params['fom_func_volt_2_rabi'] is None:\n",
    "            fom = fom_func()\n",
    "        else:\n",
    "            # fom that includes a simulated penalty\n",
    "            pulse = ArbPulse.load_pulse(folder_path, filename, unit_t='s', unit_data='V')\n",
    "            fom = fom_func(pulse, func_volt_2_rabi=script_params['fom_func_volt_2_rabi'])\n",
    "            \n",
    "        fom_all.append([time_stamp_mes, fom])\n",
    "\n",
    "        idx += 1\n",
    "except:\n",
    "    logger.exception(\"\")"
   ]
  },
  {
   "cell_type": "code",
   "execution_count": 401,
   "metadata": {},
   "outputs": [],
   "source": [
    "foms = np.asarray(fom_all)"
   ]
  },
  {
   "cell_type": "code",
   "execution_count": 411,
   "metadata": {},
   "outputs": [
    {
     "data": {
      "image/png": "[encoded data removed]"
     },
     "metadata": {
      "image/png": {
       "height": 587,
       "width": 741
      }
     },
     "output_type": "display_data"
    }
   ],
   "source": [
    "fom_mean = np.mean(foms[:,1])\n",
    "fom_std = np.std(foms[:,1])\n",
    "\n",
    "plt.figure(figsize=(4,3))\n",
    "plt.title(f\"Runtime= {script_params['runtime_per_epoch']/60} min\")\n",
    "plt.plot(foms[:,0]-foms[0,0], foms[:,1])\n",
    "plt.axhspan(fom_mean-fom_std, fom_mean+fom_std, alpha=0.1, color='blue', label=f'std= {fom_std:.4f}')\n",
    "plt.axhline(fom_mean, alpha=0.5, color='blue', label=f'mean= {fom_mean:.4f}')\n",
    "\n",
    "\n",
    "plt.ylabel(\"FOM\")\n",
    "plt.xlabel(\"time (s)\")\n",
    "plt.legend()\n",
    "plt.show()\n"
   ]
  },
  {
   "cell_type": "code",
   "execution_count": 1453,
   "metadata": {},
   "outputs": [
    {
     "data": {
      "text/plain": [
       "time.struct_time(tm_year=2022, tm_mon=8, tm_mday=23, tm_hour=16, tm_min=55, tm_sec=15, tm_wday=1, tm_yday=235, tm_isdst=1)"
      ]
     },
     "execution_count": 1453,
     "metadata": {},
     "output_type": "execute_result"
    }
   ],
   "source": [
    "time.localtime(ts[0])"
   ]
  },
  {
   "cell_type": "code",
   "execution_count": 211,
   "metadata": {},
   "outputs": [],
   "source": [
    "np.mean(foms), np.std(np.asarray(foms))"
   ]
  },
  {
   "cell_type": "code",
   "execution_count": 1573,
   "metadata": {},
   "outputs": [],
   "source": [
    "fom_all = np.column_stack((ts, foms))\n",
    "#fom_all"
   ]
  },
  {
   "cell_type": "code",
   "execution_count": 1553,
   "metadata": {},
   "outputs": [],
   "source": [
    "foms_yest.extend(ts)\n",
    "ts_yest.extend(ts)"
   ]
  },
  {
   "cell_type": "code",
   "execution_count": 1703,
   "metadata": {},
   "outputs": [
    {
     "data": {
      "text/plain": [
       "0.027175321001150343"
      ]
     },
     "execution_count": 1703,
     "metadata": {},
     "output_type": "execute_result"
    }
   ],
   "source": [
    "np.std(np.asarray(foms_yest[100:]))"
   ]
  },
  {
   "cell_type": "code",
   "execution_count": 1503,
   "metadata": {},
   "outputs": [],
   "source": [
    "plt.plot(ts, foms)\n",
    "plt.show()"
   ]
  },
  {
   "cell_type": "markdown",
   "metadata": {},
   "source": [
    "## Save the results"
   ]
  },
  {
   "cell_type": "code",
   "execution_count": 1172,
   "metadata": {},
   "outputs": [],
   "source": [
    "# todo: for simulated pulses, wrong t_rabi / calibration saved\n",
    "try:\n",
    "    save_optimization_result(folder_path)\n",
    "except:\n",
    "    logger.exception(\"\")"
   ]
  },
  {
   "cell_type": "code",
   "execution_count": 47,
   "metadata": {},
   "outputs": [],
   "source": [
    "try:\n",
    "    optimizer_obj = optimizationlogic.optimization_obj\n",
    "    optimizer_obj.get_optimization_algorithm()\n",
    "except:\n",
    "    logger.exception(\"\")"
   ]
  },
  {
   "cell_type": "code",
   "execution_count": 107,
   "metadata": {},
   "outputs": [
    {
     "data": {
      "text/plain": [
       "{'interface_job_name': 'test_dCRAB_Noisy_2_control_fields', 'communication_obj': <quocslib.communication.AllInOneCommunication.AllInOneCommunication object at 0x0000003F9490BB70>, 'results_path': 'C:\\\\Users\\\\Setup3-PC\\\\Desktop\\\\qudi\\\\QuOCS_Results\\\\20220920_222303_test_dCRAB_Noisy_2_control_fields', 'optimizer_attribute': <class 'quocslib.optimizationalgorithms.dCRABAlgorithm.dCRABAlgorithm'>}"
      ]
     },
     "execution_count": 107,
     "metadata": {},
     "output_type": "execute_result"
    }
   ],
   "source": [
    "optimizer_obj.__dict__"
   ]
  },
  {
   "cell_type": "markdown",
   "metadata": {},
   "source": [
    "Stop manually if \"optimizer_obj.opt_alg_obj.get_best_controls()\" is not available."
   ]
  },
  {
   "cell_type": "code",
   "execution_count": 102,
   "metadata": {},
   "outputs": [],
   "source": [
    "uglobals.abort.set()\n",
    "optimizationlogic.handle_exit_obj.is_user_running = False\n",
    "fomlogic.update_fom(10**10, status_code=-1)"
   ]
  },
  {
   "cell_type": "code",
   "execution_count": 142,
   "metadata": {},
   "outputs": [],
   "source": [
    "pulses_list, time_grids_list, parameters_list = optimizer_obj.opt_alg_obj.get_best_controls()\n",
    "\n",
    "t_amplitude = time_grids_list[0]\n",
    "amplitude = pulses_list[0]\n",
    "t_phase = time_grids_list[1]\n",
    "phase = pulses_list[1]\n",
    "\n",
    "amplitude"
   ]
  },
  {
   "cell_type": "code",
   "execution_count": 71,
   "metadata": {},
   "outputs": [],
   "source": [
    "best_dict = optimizer_obj.opt_alg_obj.get_best_controls()\n",
    "\n",
    "pulses_list = best_dict['pulses']\n",
    "time_grids_list = best_dict['timegrids']\n",
    "parameters_list = best_dict['parameters']\n",
    "\n",
    "pulses_list"
   ]
  },
  {
   "cell_type": "code",
   "execution_count": 561,
   "metadata": {},
   "outputs": [
    {
     "data": {
      "text/plain": [
       "dict_keys(['pulses', 'parameters', 'timegrids'])"
      ]
     },
     "execution_count": 561,
     "metadata": {},
     "output_type": "execute_result"
    }
   ],
   "source": [
    "optimizer_obj.opt_alg_obj.get_best_controls().keys()"
   ]
  },
  {
   "cell_type": "markdown",
   "metadata": {},
   "source": [
    "### manually extract best pulse from result log"
   ]
  },
  {
   "cell_type": "code",
   "execution_count": 38,
   "metadata": {},
   "outputs": [
    {
     "data": {
      "text/plain": [
       "{'timegrid_ampl': array([0.00e+00, 1.00e-10, 2.00e-10, ..., 9.98e-08, 9.99e-08, 1.00e-07]), 'data_ampl': array([0.25      , 0.25      , 0.25      , ..., 0.15350565, 0.15412781,\n",
       "       0.15446573]), 'timegrid_phase': array([0.00e+00, 1.00e-10, 2.00e-10, ..., 9.98e-08, 9.99e-08, 1.00e-07]), 'data_phase': array([0.14782959, 0.15159753, 0.15526419, ..., 0.09661208, 0.09996444,\n",
       "       0.10314861])}"
      ]
     },
     "execution_count": 38,
     "metadata": {},
     "output_type": "execute_result"
    }
   ],
   "source": [
    "path = r\"C:\\Software\\qudi_data\\optimal_control_assets\\20220724_1\\20220723_202625_test_dCRAB_Noisy_2_control_fields\"\n",
    "file = r\"20220723_202625_best_controls\"\n",
    "pulse = TimeDependentSimulation.load_pulse(path, file, extension='npz')\n",
    "\n",
    "#path = r\"C:\\Software\\qudi_data\\optimal_control_assets\\20220724_1\"\n",
    "#file = r\"on_nv=2_\"\n",
    "#pulse = load_pulse(path, file, extension='txt')\n",
    "\n",
    "pulse"
   ]
  },
  {
   "cell_type": "code",
   "execution_count": 58,
   "metadata": {},
   "outputs": [],
   "source": [
    "import matplotlib.pyplot as plt\n",
    "    \n",
    "t_amplitude = pulse['timegrid_ampl']\n",
    "amplitude = pulse['data_ampl']\n",
    "t_phase = pulse['timegrid_phase']\n",
    "phase = pulse['data_phase']\n",
    "\n",
    "try:\n",
    "    plt.plot(t_amplitude*1e9, amplitude, label=\"Ampl (I)\")\n",
    "    plt.plot(t_phase*1e9, phase, label=\"Phase (Q)\")\n",
    "    plt.xlabel(\"time (ns)\")\n",
    "    plt.legend()\n",
    "    plt.show()\n",
    "except:\n",
    "    logger.exception(\"\")"
   ]
  },
  {
   "cell_type": "code",
   "execution_count": 116,
   "metadata": {},
   "outputs": [],
   "source": [
    "path = folder_path\n",
    "name = \"opt_pulse_\"\n",
    "\n",
    "data_ampl = np.column_stack((t_amplitude, amplitude))\n",
    "data_phase = np.column_stack((t_phase, phase))\n",
    "\n",
    "save_pulse(path, data_ampl, data_phase, name=name)"
   ]
  },
  {
   "cell_type": "markdown",
   "metadata": {},
   "source": [
    "## Simulation only"
   ]
  },
  {
   "cell_type": "markdown",
   "metadata": {},
   "source": [
    "Setup a fom that simulates and quantifies pulse reponse. Currently,\n",
    "1. Simulate pi pulse/ 1 qubit, sigma_z\n",
    "2. Simualte pi pulse/ 1 qubit, process tomo\n",
    "3. (BUGGY) Simulate sequence of pi pulses / 1 qubit\n",
    "4. Simulate crosstalk / add penalty\n",
    "5. Simulate wolfram gate perforamnce\n",
    "\n",
    "Then use \"run simulation\" below to start optimization via qudi/quocs"
   ]
  },
  {
   "cell_type": "code",
   "execution_count": 833,
   "metadata": {},
   "outputs": [
    {
     "data": {
      "text/plain": [
       "(0, 2825300000.0, 2729300000.0, [2921300000.0, 2935600000.0])"
      ]
     },
     "execution_count": 833,
     "metadata": {},
     "output_type": "execute_result"
    }
   ],
   "source": [
    "script_params['readout_noise'] = 0#0.01*np.sqrt(2)\n",
    "\n",
    "script_params['fom_func_volt_2_rabi'] = lambda y: y/ampl_rect*(1e-6/t_rabi_rect)\n",
    "\n",
    "# sigma z\n",
    "fom_func = setup_fom_simulation_sigz(f_res)\n",
    "# process tomography\n",
    "fom_func = setup_fom_simulation_proctomo(f_res, delta_hfs=2.1e6)\n",
    "\n",
    "#fom_func = add_penalty_freq_bandstop(fom_func, f_res, f_block, fac_penalty=100, n_f_sim=75, \n",
    "#                                     symm_block=True, first_fom_req_pulse=True)\n",
    "\n",
    "fom_func = add_penalty_tomo_freq_bandstop(fom_func, f_res, f_block, fac_penalty=100, n_f_sim=25, \n",
    "                                     symm_block=True, first_fom_req_pulse=True, df=5e6) # True\n",
    "\n",
    "\n",
    "script_params['readout_noise'], f_res1, f_res2, f_block"
   ]
  },
  {
   "cell_type": "code",
   "execution_count": null,
   "metadata": {},
   "outputs": [],
   "source": [
    "# Mathematica sim\n",
    "# ATTENTION: file names must be correct. Loaded not from pulse object, but disk!\n",
    "f_res1 = f_res\n",
    "f_res2 = f_res - 96e6\n",
    "fom_func = setup_fom_simulation_mathematica(f_res1, f_res2, g_dip=70e3, deltas=[0],#, 2.1e6, -2.1e6],\n",
    "                                            dd_type=DDMethods.XY8, dd_order=2, omega_rabi_rect=16e6)\n",
    "\n",
    "\n",
    "\n",
    "script_params['fom_function'] = fom_func\n",
    "\n",
    "\n",
    "script_params['readout_noise'], f_res1, f_res2, f_block"
   ]
  },
  {
   "cell_type": "code",
   "execution_count": 337,
   "metadata": {},
   "outputs": [
    {
     "name": "stderr",
     "output_type": "stream",
     "text": [
      "Traceback (most recent call last):\n",
      "  File \"C:\\Users\\Setup3-PC\\Desktop\\qudi\\logic\\jupyterkernel\\qzmqkernel.py\", line 679, in run_code\n",
      "    exec(code_obj, self.user_global_ns, self.user_ns)\n",
      "  File \"<ipython-input-337-349c7ff61388>\", line 1, in <module>\n",
      "    sequence\n",
      "NameError: name 'sequence' is not defined\n"
     ]
    }
   ],
   "source": [
    "sequence"
   ]
  },
  {
   "cell_type": "markdown",
   "metadata": {},
   "source": [
    "### (Optional) Simulate whole sequence instead of pulse "
   ]
  },
  {
   "cell_type": "code",
   "execution_count": 67,
   "metadata": {},
   "outputs": [
    {
     "data": {
      "text/plain": [
       "<user_scripts.Timo.own.optimalcontrol.oc_simlib.ArbPulse object at 0x000000A15F04CB38>"
      ]
     },
     "execution_count": 67,
     "metadata": {},
     "output_type": "execute_result"
    }
   ],
   "source": [
    "sequence = -1\n",
    "sequence = _debug_pulse_2_seq(pulse, func_pulse_2_seq=exp_oc_nrep_from_pulse,\n",
    "                              t_gap=500e-9, n_rep=8, pi_x_initread=0.5, dd_type=DDMethods.XY8,\n",
    "                              #t_gap=1/2.1e6, n_rep=8, pi_x_initread=0.5, dd_type=DDMethods.XY8,\n",
    "                              symmetrize=True)\n",
    "sequence"
   ]
  },
  {
   "cell_type": "code",
   "execution_count": 398,
   "metadata": {},
   "outputs": [
    {
     "data": {
      "text/plain": [
       "array([ 0., 90.,  0., 90., 90.,  0., 90.,  0.])"
      ]
     },
     "execution_count": 398,
     "metadata": {},
     "output_type": "execute_result"
    }
   ],
   "source": [
    "DDMethods.XY8.phases"
   ]
  },
  {
   "cell_type": "code",
   "execution_count": 676,
   "metadata": {},
   "outputs": [
    {
     "data": {
      "image/png": "[encoded data removed]"
     },
     "metadata": {
      "image/png": {
       "height": 375,
       "width": 627
      }
     },
     "output_type": "display_data"
    }
   ],
   "source": [
    "# ATTENTION: the plot is only correct, if params for 'sequence' == params of 'fom_func'\n",
    "\n",
    "try:\n",
    "    sequence = exp_oc_nrep_from_pulse(pulse, t_gap=500e-9, n_rep=1*8, pi_x_initread=0.5,\n",
    "                                      #pulse, t_gap=1/2.1e6, n_rep=1*8, pi_x_initread=0.5,\n",
    "                                      symmetrize=True, dd_type=DDMethods.XY8)\n",
    "\n",
    "    t_amplitude = sequence.get_timegrid(unit='us')\n",
    "    amplitude = sequence.get_data_ampl(unit='V')\n",
    "    t_phase = sequence.get_timegrid(unit='us')\n",
    "    phase = sequence.get_data_phase(unit='V')\n",
    "\n",
    "\n",
    "    plt.figure(figsize=(10,6))\n",
    "    plt.plot(t_amplitude, amplitude, label=\"Ampl (I)\")\n",
    "    plt.plot(t_phase, phase, label=\"Phase (Q)\")\n",
    "   # plt.plot(t_phase, phase+amplitude, label=\"I+Q\")\n",
    "    plt.ylabel(\"Rabi freq (V)\")\n",
    "    plt.xlabel(\"time (us)\")\n",
    "    plt.legend(loc='best', prop={'size': 20})\n",
    "    plt.show()\n",
    "except:\n",
    "    logger.exception(\"\")\n",
    "    \n",
    "    \n",
    "fom_func = setup_fom_simulation_sigz(f_res, func_pulse_2_seq=exp_oc_nrep_from_pulse, \n",
    "                                     #scan_kwarg_key='n_rep', scan_list=[1,2,3,4], scan_fom_target=[1,1,0,0],\n",
    "                                      scan_kwarg_key='n_rep', scan_list=[1,2,3,4,5,6,7,8],\n",
    "                                     scan_fom_target=[1,1,0,0,0,1,1,0],\n",
    "                                     t_gap=1/2.1e6, n_rep=2, pi_x_initread=0.5, \n",
    "                                     symmetrize=True, dd_type=DDMethods.XY8)\n",
    "#fom_func = setup_fom_simulation_sigz(f_res, func_pulse_2_seq=exp_oc_nrep_from_pulse,\n",
    "#                                     t_gap=1/2.1e6, n_rep=8, pi_x_initread=0.5, dd_type=DDMethods.XY8,\n",
    "#                                     symmetrize=True)\n",
    "\n",
    "fom_func = add_penalty_freq_bandstop(fom_func, f_res, f_block, fac_penalty=10, n_f_sim=25, \n",
    "                                     symm_block=True, first_fom_req_pulse=True)\n",
    "\n",
    "script_params['fom_function'] = fom_func\n"
   ]
  },
  {
   "cell_type": "code",
   "execution_count": 494,
   "metadata": {},
   "outputs": [
    {
     "data": {
      "text/plain": [
       "(709044, 1.01e-07)"
      ]
     },
     "execution_count": 494,
     "metadata": {},
     "output_type": "execute_result"
    }
   ],
   "source": [
    "len(t_amplitude), t_oc_pulse"
   ]
  },
  {
   "cell_type": "code",
   "execution_count": 131,
   "metadata": {},
   "outputs": [
    {
     "data": {
      "text/plain": [
       "(52.015604681404426, 52.015604681404426)"
      ]
     },
     "execution_count": 131,
     "metadata": {},
     "output_type": "execute_result"
    }
   ],
   "source": [
    "script_params['fom_func_volt_2_rabi'](1), pulse._func_ampl_v_2_omega_mhz(1)\n",
    "\n"
   ]
  },
  {
   "cell_type": "code",
   "execution_count": 143,
   "metadata": {},
   "outputs": [],
   "source": [
    "#fom_func(get_pulse_from_logic(get_best=False), func_volt_2_rabi=script_params['fom_func_volt_2_rabi'])\n",
    "fom_func(pulse, func_volt_2_rabi=script_params['fom_func_volt_2_rabi'])"
   ]
  },
  {
   "cell_type": "markdown",
   "metadata": {},
   "source": [
    "### Simulate first guess"
   ]
  },
  {
   "cell_type": "code",
   "execution_count": 178,
   "metadata": {},
   "outputs": [
    {
     "data": {
      "text/plain": [
       "<function <lambda> at 0x0000004C0E0CAD08>"
      ]
     },
     "execution_count": 178,
     "metadata": {},
     "output_type": "execute_result"
    }
   ],
   "source": [
    "script_params['fom_func_volt_2_rabi']"
   ]
  },
  {
   "cell_type": "code",
   "execution_count": 244,
   "metadata": {},
   "outputs": [
    {
     "data": {
      "text/plain": [
       "(0.04729710950028043, <function setup_fom_simulation_mathematica.<locals>.fom_func at 0x0000004C07D67048>)"
      ]
     },
     "execution_count": 244,
     "metadata": {},
     "output_type": "execute_result"
    }
   ],
   "source": [
    "fom_func = script_params['fom_function']\n",
    "\n",
    "fom = -1\n",
    "if script_params['fom_func_volt_2_rabi'] is None:\n",
    "    fom = fom_func()\n",
    "else:\n",
    "    #pulse = ArbPulse.load_pulse(folder_path, filename, unit_t='s', unit_data='V')\n",
    "    fom = fom_func(pulse, func_volt_2_rabi=script_params['fom_func_volt_2_rabi'])\n",
    "\n",
    "fom,  fom_func"
   ]
  },
  {
   "cell_type": "code",
   "execution_count": 254,
   "metadata": {},
   "outputs": [
    {
     "data": {
      "text/plain": [
       "{'sim_backend': 'CNOTTwoQubitsV6', 'shift_ratio': None, 'pi_pulse_params': ('optimal', 'optimal'), 'rho_init': array([[0, 0, 0, 0],\n",
       "       [0, 1, 0, 0],\n",
       "       [0, 0, 0, 0],\n",
       "       [0, 0, 0, 0]]), 'params_input': {'gRun': 0.439822971502571, 'crossTalkRun': 1, 'δ1Run': 0.0, 'δ2Run': 0.0, 'Ω1max': 100.53096491487338, 'Ω2max': 100.53096491487338, 'ω1Run': 17751.883448374487, 'ω2Run': 17148.697658885245}, 'exp_params': {'init_state': <TomoInit.ux180_on_2: 8>, 'rotation': <TomoRotations.c2not1: 6>}, 'wolfram_sim_params': {'g': 0.439822971502571, 'Subscript[ω, 1]': 17751.883448374487, 'Subscript[ω, 2]': 17148.697658885245, 'Δ': Times[-182, Pi], 'Subscript[δ, 1]': 0.0, 'Subscript[δ, 2]': 0.0, 'crossTalk': 1, 'pulseParamsP1': {'type': 'optimal', 'func_ampl_v_2_rabi_2piMHz': 502.6548245743669, 'fileAmpl': 'C:\\\\Software\\\\qudi_data\\\\optimal_control_assets\\\\on_nv=2_amplitude.txt', 'filePhase': 'C:\\\\Software\\\\qudi_data\\\\optimal_control_assets\\\\on_nv=2_phase.txt', 'fileTimestamp': '2022/09/26-08:35:03'}, 'pulseParamsP2': {'type': 'optimal', 'func_ampl_v_2_rabi_2piMHz': 502.6548245743669, 'fileAmpl': 'C:\\\\Software\\\\qudi_data\\\\optimal_control_assets\\\\on_nv=2_amplitude.txt', 'filePhase': 'C:\\\\Software\\\\qudi_data\\\\optimal_control_assets\\\\on_nv=2_phase.txt', 'fileTimestamp': '2022/09/26-08:35:03'}, 'havePi2P1': 1, 'havePi2P2': 0, 'τscanP1': 0.2857142857142857, 'τscanP2': 0.2857142857142857, 'τfreeP1': 0.1847142857142857, 'τfreeP2': 0.1847142857142857, 'TpiP1Run': 0.03125, 'TpiP2Run': 0.03125, 'τShiftRatioRunP1': 0, 'τShiftRatioRunP2': 0.109375, 'keepLastPiP1Fixed': 0, 'keepLastPiP2Fixed': 0, 'tXCnot': 1, 'crosstalk': 1}, 'dd_params': 'XY8-2'}"
      ]
     },
     "execution_count": 254,
     "metadata": {},
     "output_type": "execute_result"
    }
   ],
   "source": [
    "def print_pretty_qsim(qsim):\n",
    "    excl_keys = ['dd_params', '\\u03a91[t]','\\u03a91conj[t]', '\\u03a92[t]', '\\u03a92conj[t]',\n",
    "                'sim_finished', 'result']\n",
    "    new_dict = delete_keys_from_dict(qsim, excl_keys)\n",
    "    \n",
    "    new_dict['dd_params'] =  dd_2_str(qsim['dd_params'])\n",
    "    return new_dict\n",
    "\n",
    "print_pretty_qsim(script_params['wolf_sim_params_last'])"
   ]
  },
  {
   "cell_type": "code",
   "execution_count": 243,
   "metadata": {},
   "outputs": [
    {
     "data": {
      "text/plain": [
       "(\"script_params['fom_func_volt_2_rabi'] = lambda y: y/ampl_rect*(1e-6/t_rabi_rect)\\n\", <user_scripts.Timo.own.optimalcontrol.oc_simlib.ArbPulse object at 0x000000B7E92E1C88>)"
      ]
     },
     "execution_count": 243,
     "metadata": {},
     "output_type": "execute_result"
    }
   ],
   "source": [
    "\n",
    "lambda_2_str(script_params['fom_func_volt_2_rabi']), pulse\n"
   ]
  },
  {
   "cell_type": "markdown",
   "metadata": {},
   "source": [
    "### Mathematica sim"
   ]
  },
  {
   "cell_type": "code",
   "execution_count": 441,
   "metadata": {},
   "outputs": [
    {
     "data": {
      "text/plain": [
       "{'sim_backend': 'CNOTTwoQubitsV6', 'sim_finished': False, 'shift_ratio': None, 'dd_params': ((Times[Rational[1, 2], Pi], Times[Rational[1, 2], Pi]), 2, 0, Times[Rational[1, 2], Pi], 'CPMG', 1), 'pi_pulse_params': ('optimal', 'optimal'), 'rho_init': array([[0, 0, 0, 0],\n",
       "       [0, 0, 0, 0],\n",
       "       [0, 0, 1, 0],\n",
       "       [0, 0, 0, 0]]), 'params_input': {'gRun': 0.09424777960769379, 'δ1Run': 0, 'δ2Run': 0, 'crossTalkRun': 1, 'Ω1max': 125.66370614359172, 'Ω2max': 125.66370614359172, 'ω1Run': 17592.91886010284, 'ω2Run': 16964.600329384884}, 'exp_params': {'init_state': <TomoInit.ux180_on_1: 7>, 'rotation': <TomoRotations.c2not1: 6>}}"
      ]
     },
     "execution_count": 441,
     "metadata": {},
     "output_type": "execute_result"
    }
   ],
   "source": [
    "\n",
    "dd_order = 1\n",
    "dd_params = wolf.evaluate(wsim.loadSequenceCPMG(dd_order))\n",
    "#dd_params = wolf.evaluate(wsim.loadSequenceXY8(dd_order))\n",
    "pulse_params = setup_pi_pulse_params('optimal_both')\n",
    "#pulse_params = setup_pi_pulse_params()\n",
    "\n",
    "delta_f = 0#2*np.pi*0.2  # MHz rad\n",
    "omega_rabi = 2*np.pi*20 # MHz rad\n",
    "f_res1 = 2800 # MHz\n",
    "f_res2 = 2700 # MHz\n",
    "\n",
    "wsim_params = {'gRun':2*np.pi*0.015, '\\u03b41Run':delta_f, '\\u03b42Run':delta_f, 'crossTalkRun':1,\n",
    "              '\\u03a91max':omega_rabi, '\\u03a92max':omega_rabi,#\n",
    "               '\\u03c91Run':2*np.pi*f_res1, '\\u03c92Run':2*np.pi*f_res2,\n",
    "              }\n",
    "\n",
    "qsim = setup_sim_params(dd_params, pi_pulse_params=pulse_params,\n",
    "                        init=TomoInit.ux180_on_1, sim_params=wsim_params)\n",
    "\n",
    "qsim\n"
   ]
  },
  {
   "cell_type": "code",
   "execution_count": 214,
   "metadata": {},
   "outputs": [],
   "source": [
    "#rho = run_wsim(qsim)\n",
    "qsim"
   ]
  },
  {
   "cell_type": "code",
   "execution_count": 193,
   "metadata": {},
   "outputs": [
    {
     "data": {
      "text/plain": [
       "0.5883122995069907"
      ]
     },
     "execution_count": 193,
     "metadata": {},
     "output_type": "execute_result"
    }
   ],
   "source": [
    "\n",
    "rho_opt = get_opt_rho(qsim, True)\n",
    "fidelity, sph_err = state_fidelity(rho, rho_opt), calc_sph_error(rho, qsim)\n",
    "fidelity "
   ]
  },
  {
   "cell_type": "code",
   "execution_count": 297,
   "metadata": {},
   "outputs": [
    {
     "data": {
      "text/plain": [
       "True"
      ]
     },
     "execution_count": 297,
     "metadata": {},
     "output_type": "execute_result"
    }
   ],
   "source": [
    "func_ampl_v_2_2pimhz = qsim['wolfram_sim_params']['pulseParamsP1']['func_ampl_v_2_rabi_2piMHz']\n",
    "script_params['fom_func_volt_2_rabi'](1)*2*np.pi == func_ampl_v_2_2pimhz\n"
   ]
  },
  {
   "cell_type": "markdown",
   "metadata": {},
   "source": [
    "### Run Sim Optimization"
   ]
  },
  {
   "cell_type": "code",
   "execution_count": 201,
   "metadata": {},
   "outputs": [],
   "source": [
    "#f_res = script_params['pulsed_generation_params']['microwave_frequency']\n",
    "try:\n",
    "    script_params['fom_func_volt_2_rabi'] = lambda y: y/ampl_rect*(1e-6/t_rabi_rect)\n",
    "\n",
    "\n",
    "\n",
    "    ######################################################################################################\n",
    "    # Parameters and Settings\n",
    "    ######################################################################################################\n",
    "\n",
    "    # runtime of each experiment\n",
    "    runtime = script_params['runtime_per_epoch']\n",
    "    length_oc = script_params['length_oc'] \n",
    "\n",
    "    # parameter to stop the experiment if its set to False in the console\n",
    "    pulsedmasterlogic.globalrun = True\n",
    "    uglobals.abort.clear()\n",
    "    logger.info(\"Starting new closed-loop quocs optimization\")\n",
    "\n",
    "\n",
    "    # array to save the fom evolution\n",
    "    fom_all = []\n",
    "\n",
    "    # This section is devoted to the initialization in the pulsed logic and optimization logic of the main\n",
    "    # settings and parameters to be usde in the creation ofthe pulse sequence and the optimization\n",
    "    # Iteration, controls and figure of merit to compare with QuOCS\n",
    "    # Just an example for debug\n",
    "    args_dict = {\"is_noisy\": script_params['is_noisy']}\n",
    "    qubit = OneQubit2Fields(args_dict)\n",
    "\n",
    "    ######################################################################################################\n",
    "    # Measurement\n",
    "    ######################################################################################################\n",
    "    optimalcontrol.start_optimization()\n",
    "\n",
    "    # crucial, maybe it can be much shorter\n",
    "    time.sleep(1)\n",
    "\n",
    "    # Just a time to check for latent time\n",
    "    last_time_fom = time.time()\n",
    "    # repeat the whole process until its manually stopped or QuOCS finsihed the optimization\n",
    "    # Wait few seconds before starting to get and return data\n",
    "    while not optimizationlogic.handle_exit_obj.is_user_running:\n",
    "        time.sleep(0.1)\n",
    "        if (time.time() - last_time_fom) > 30 or uglobals.abort.is_set():\n",
    "            logger.warning(\"Timeout or abort while initializing quocs.\")\n",
    "            uglobals.abort.set()\n",
    "            break\n",
    "\n",
    "    # iteration number\n",
    "    it_val = 0\n",
    "\n",
    "    # when did the optimization start?\n",
    "    opt_start_time = time.time()\n",
    "    try:\n",
    "        # print(\"Check before the loop starts: {0}\".format(optimizationlogic.handle_exit_obj.is_user_running))\n",
    "        while optimizationlogic.handle_exit_obj.is_user_running == True and not uglobals.abort.is_set():\n",
    "            time_stamp=time.time()\n",
    "            # wait until QuOCS optimizes the controls\n",
    "            # print(\"Wait until the controls logic gives the controls\")\n",
    "            while not controlslogic.are_pulses_calculated:\n",
    "                qWait(100)\n",
    "                # If the waiting time exceed 10 seconds left stop the optimization\n",
    "                if time.time() - last_time_fom > 20:\n",
    "                    logger.error(\"Too much time... Exit!\")\n",
    "                    optimizationlogic.handle_exit_obj.is_user_running = False\n",
    "                    break\n",
    "\n",
    "\n",
    "            #######################################################################################################\n",
    "            # Get the Controls\n",
    "            #######################################################################################################\n",
    "            # Change the status of control calculations to avoid to evaluate the fom twice with the same controls\n",
    "            controlslogic.are_pulses_calculated = False\n",
    "            # Get the controls from the controls logic\n",
    "            pulse = get_pulse_from_logic(get_best=False)\n",
    "            t_amplitude = pulse.get_timegrid(unit='s')\n",
    "            t_phase = pulse.get_timegrid(unit='s')\n",
    "            amplitude = pulse.get_data_ampl(unit='V')\n",
    "            phase = pulse.get_data_phase(unit='V')\n",
    "            #######################################################################################################\n",
    "            # Perform the measurement\n",
    "            #######################################################################################################\n",
    "\n",
    "            # save the pulses as .txt files (predefined methods doesn't allow us to upload a numpy array as \n",
    "            # parameter)\n",
    "            data_ampl = np.column_stack((t_amplitude, amplitude))\n",
    "            data_phase = np.column_stack((t_phase, phase))\n",
    "            save_pulse(folder_path, data_ampl, data_phase, name=filename)\n",
    "            save_pulse(folder_path + '/tmp_pulses', data_ampl, data_phase, name=filename + f\"idx={it_val}_\")\n",
    "\n",
    "            qWait(1500)\n",
    "\n",
    "\n",
    "            measurement_start_time = time.time()\n",
    "\n",
    "            # option to stop the measurement\n",
    "            if pulsedmasterlogic.globalrun == False or uglobals.abort.is_set():\n",
    "                print('Stopping the measurement!')\n",
    "                break\n",
    "\n",
    "\n",
    "            #######################################################################################################\n",
    "            # Analysis\n",
    "            ######################################################################################################\n",
    "\n",
    "            fom_func = script_params['fom_function']\n",
    "            if script_params['fom_func_volt_2_rabi'] is None:\n",
    "                fom = fom_func()\n",
    "            else:\n",
    "                pulse = ArbPulse.load_pulse(folder_path, filename, unit_t='s', unit_data='V')\n",
    "                fom = fom_func(pulse, func_volt_2_rabi=script_params['fom_func_volt_2_rabi'])\n",
    "\n",
    "            fom += np.random.normal(0, script_params['readout_noise'])\n",
    "            fom = abs(fom)\n",
    "\n",
    "            fom_all.append(fom)\n",
    "\n",
    "            # Update the figure of merit and the standard deviation to the fom logic\n",
    "            fomlogic.update_fom(fom, script_params['readout_noise'], status_code=0)   # todo: define above\n",
    "            #fomlogic.update_fom(fom, std, status_code=0)\n",
    "\n",
    "            # update the last time the fom is calculated\n",
    "            last_time_fom = time.time()\n",
    "            \n",
    "            # for safety: continously safe best result\n",
    "            try:\n",
    "                save_optimization_result(folder_path)\n",
    "            except:\n",
    "                logger.exception(\"\")\n",
    "\n",
    "            qWait(200)\n",
    "\n",
    "        # when did the optimization stop?\n",
    "        opt_end_time = time.time()\n",
    "\n",
    "        print('It took QuOCS ' + str(opt_end_time-opt_start_time) + ' s to optimize the pulse!')\n",
    "    except:\n",
    "        logger.exception(\"\")\n",
    "    finally:\n",
    "        # give a very high fom to the optimization algorithm\n",
    "        # and status code -1, to interrupt the optimization smoothly\n",
    "        uglobals.abort.set()\n",
    "        optimizationlogic.handle_exit_obj.is_user_running = False\n",
    "        logger.info('Stopping the optimization!')\n",
    "        fomlogic.update_fom(10**10, status_code=-1)\n",
    "\n",
    "    print(\"Optimization finished\")\n",
    "except:\n",
    "    logger.exception(\"\")"
   ]
  },
  {
   "cell_type": "code",
   "execution_count": 3,
   "metadata": {},
   "outputs": [
    {
     "data": {
      "text/plain": [
       "0"
      ]
     },
     "execution_count": 3,
     "metadata": {},
     "output_type": "execute_result"
    }
   ],
   "source": [
    "0"
   ]
  },
  {
   "cell_type": "markdown",
   "metadata": {},
   "source": [
    "# Simulate pulse response"
   ]
  },
  {
   "cell_type": "markdown",
   "metadata": {},
   "source": [
    "Shaddowed from oc_pulse_analysis"
   ]
  },
  {
   "cell_type": "code",
   "execution_count": 106,
   "metadata": {},
   "outputs": [],
   "source": [
    "import qutip\n",
    "def get_f_limits(f_res, f_centers_block, df=10e6, symm_block=False):\n",
    "    f_centers_block_mhz = 1e-6 * np.asarray(f_centers_block).flatten()\n",
    "    f_res_mhz = f_res*1e-6\n",
    "    df_mhz = df*1e-6\n",
    "    freqs = []\n",
    "    if symm_block:\n",
    "        deltas = []\n",
    "        for f_mhz in f_centers_block_mhz:\n",
    "            deltas.append(abs(f_mhz - f_res_mhz))\n",
    "        \n",
    "        f_centers = []\n",
    "        for d_mhz in deltas:\n",
    "            f_center_2_mhz_min = f_res_mhz - d_mhz\n",
    "            f_center_2_mhz_plus = f_res_mhz + d_mhz\n",
    "            f_centers.append(f_center_2_mhz_min)\n",
    "            f_centers.append(f_center_2_mhz_plus)\n",
    "    else:\n",
    "        f_centers = f_centers_block_mhz\n",
    "\n",
    "    for f in f_centers:\n",
    "        freqs.append([1e6*(f-df_mhz), 1e6*(f+df_mhz)])\n",
    "    return freqs\n",
    "\n",
    "    \n",
    "def calc_crosstalk_penalty(freqs, spin_pop, f_res, f_center_block, df, symm_block=False, fac_penalty=1):\n",
    "\n",
    "    \n",
    "    idxs = np.empty((0), dtype=int)\n",
    "    for (f_min, f_max) in get_f_limits(f_res, f_center_block, df, symm_block=symm_block):      \n",
    "        idxs = np.append(idxs, np.where(np.logical_and(freqs >= f_min, freqs <= f_max)))\n",
    "    \n",
    "    #return idxs\n",
    "    spin_pop = np.mean(spin_pop[idxs])\n",
    "    \n",
    "    # as in optimalcontrol_quocs.ipynb\n",
    "    fom_sim = (1 + fac_penalty*(abs(1-spin_pop)))\n",
    "    \n",
    "    return fom_sim\n",
    "\n",
    "def run_sim(self, pulse, B_gauss, sim_params, delta_f=0e6, nv_init_ux=None, nv_read_ux=None,\n",
    "                  n_timebins=None, t_idle_extension=-1e-9):\n",
    "\n",
    "    # for compability reason, accept pulse as dict or ArbPulse object\n",
    "    # if supplying a dict, you are responsible for correct units!\n",
    "    if type(pulse) == ArbPulse:\n",
    "        pulse.set_unit_time('us')\n",
    "        pulse.set_unit_data('MHz')\n",
    "        pulse = pulse.as_dict()\n",
    "    \n",
    "    if n_timebins is None:\n",
    "        n_timebins = len(pulse['timegrid_ampl'])\n",
    "    \n",
    "    B = B_gauss\n",
    "    simp = sim_params\n",
    "    oc_length = pulse['timegrid_ampl'][-1] + t_idle_extension*1e6\n",
    "    delta_f_mhz = delta_f*1e-6\n",
    "    \n",
    "    t = np.linspace(0, oc_length, n_timebins)\n",
    "     \n",
    "    #logger.info(f\"solver steps: {int(1e8*oc_length/0.1)}\")\n",
    "        \n",
    "    options=qutip.Options(atol=1e-15, rtol=1e-15, nsteps=int(1e8), store_final_state=True)\n",
    "\n",
    "    init_state = simp.rho_ms0\n",
    "    if nv_init_ux is not None:\n",
    "        u = np.asarray(nv_init_ux)\n",
    "        init_state = np.matmul(np.matmul(u,init_state),u.conj().T)\n",
    "        init_state = qutip.Qobj(init_state, dims=sim_params.dims)\n",
    "    \n",
    "    freq = simp.D - simp.gamma_nv * B \n",
    "    \n",
    "    # perform the measurement\n",
    "    oc_el = TimeDependentSimulation.oc_element(t, pulse['timegrid_ampl'], pulse['data_ampl'], pulse['data_phase'],\n",
    "                                               freq+delta_f_mhz, B, 1, simp)\n",
    "    results_measurement = qutip.mesolve(oc_el, init_state, t, [], [simp.P_nv],\n",
    "                                            options=options, progress_bar=None)\n",
    "    \n",
    "    rho_final = results_measurement.final_state\n",
    "    if nv_read_ux is not None:\n",
    "        u = np.asarray(nv_read_ux)\n",
    "        rho_final = np.matmul(np.matmul(u,rho_final),u.conj().T)\n",
    "        rho_final = qutip.Qobj(rho_final, dims=sim_params.dims)\n",
    "    \n",
    "    return rho_final\n",
    "\n",
    "\n",
    "def sim_process_tomo(pulse, B, delta_f=0e6):\n",
    "    \n",
    "    rhos = []\n",
    "    # convention in calc_chi: [1, pix, pi2x, pi2y]\n",
    "    us_init = [None, 2*simp.S_x, scipy.linalg.sqrtm(2*simp.S_x) , scipy.linalg.sqrtm(2*simp.S_y)]\n",
    "\n",
    "    for u_x in us_init:\n",
    "        rho = run_sim(None, pulse, B, simp, delta_f=delta_f, nv_init_ux=u_x, nv_read_ux=None)\n",
    "        rho_nv = partial_trace(rho, sub=0, dims=simp.dims)\n",
    "        rho_nv = swap_basis_def(rho_nv)  # basis definition in Philip V. code is different\n",
    "\n",
    "        rhos.append(rho_nv)\n",
    "\n",
    "    chi_tomo = calc_chi(rhos[0], rhos[1], rhos[2], rhos[3])\n",
    "    chi_tomo = swap_basis_def(chi_tomo)\n",
    "    \n",
    "    return chi_tomo\n",
    "\n",
    "def sim_process_tomo_avg_hfs(pulse, B, delta_hfs=2.1e6):\n",
    "    res_chi = []\n",
    "    for delta in [0,-delta_hfs,+delta_hfs]:\n",
    "        res_chi.append(sim_process_tomo(pulse, B, delta_f=delta))\n",
    "    \n",
    "    return sum(res_chi)/3\n",
    "\n",
    "def sim_process_tomo_avg(pulse, B, deltas=[0e6]):\n",
    "    res_chi = []\n",
    "    for delta in deltas:\n",
    "        res_chi.append(sim_process_tomo(pulse, B, delta_f=delta))\n",
    "    \n",
    "    return sum(res_chi)/len(res_chi)\n",
    "\n",
    "def partial_trace(rho, sub=0, dims=None):\n",
    "    if dims is None:\n",
    "        dims = [[2,2],[2,2]]\n",
    "    return np.asarray(qutip.Qobj(rho, dims=dims).ptrace(sub))    \n",
    "\n",
    "def swap_basis_def(rho):\n",
    "    # Genkos state definition is different!\n",
    "    return np.rot90(rho,2).T\n",
    "    \n",
    "\n",
    "B = 100"
   ]
  },
  {
   "cell_type": "markdown",
   "metadata": {},
   "source": [
    "## Density matrix evolution"
   ]
  },
  {
   "cell_type": "code",
   "execution_count": 683,
   "metadata": {},
   "outputs": [],
   "source": [
    "# take a sequence made from a pulse to calculate the spectrum+\n",
    "tmp_pulse = pulse\n",
    "pulse = sequence\n"
   ]
  },
  {
   "cell_type": "code",
   "execution_count": 132,
   "metadata": {},
   "outputs": [],
   "source": [
    "try:\n",
    "    rho = -1\n",
    "    rho = run_sim(None, pulse, B, simp, delta_f=0e6, nv_init_ux=None, nv_read_ux=None)\n",
    "\n",
    "    partial_trace(rho, sub=0, dims=simp.dims)\n",
    "except:\n",
    "    logger.exception(\"\")"
   ]
  },
  {
   "cell_type": "code",
   "execution_count": 134,
   "metadata": {},
   "outputs": [
    {
     "data": {
      "text/plain": [
       "array([[0.00651002+0.j        , 0.05092163-0.04908333j],\n",
       "       [0.05092163+0.04908333j, 0.99348998+0.j        ]])"
      ]
     },
     "execution_count": 134,
     "metadata": {},
     "output_type": "execute_result"
    }
   ],
   "source": [
    "partial_trace(rho, sub=0, dims=simp.dims)"
   ]
  },
  {
   "cell_type": "code",
   "execution_count": 816,
   "metadata": {},
   "outputs": [
    {
     "data": {
      "text/plain": [
       "4826501651"
      ]
     },
     "execution_count": 816,
     "metadata": {},
     "output_type": "execute_result"
    }
   ],
   "source": [
    "int(1e8*(pulse.get_timegrid(unit='s')[-1]*1e6/0.1))"
   ]
  },
  {
   "cell_type": "markdown",
   "metadata": {},
   "source": [
    "## Process tomo"
   ]
  },
  {
   "cell_type": "code",
   "execution_count": 92,
   "metadata": {},
   "outputs": [],
   "source": [
    "func_volt_2_rabi=script_params['fom_func_volt_2_rabi']\n",
    "# sim units are MHz!\n",
    "B_gauss = (simp.D - f_res*1e-6)/ simp.gamma_nv\n",
    "pulse_sim = copy_pulse(pulse)\n",
    "pulse_sim._func_ampl_v_2_omega_mhz = func_volt_2_rabi\n",
    "\n",
    "try:\n",
    "    chi_avg = sim_process_tomo_avg_hfs(pulse_sim,  B_gauss, delta_hfs=2.1e6)\n",
    "    fom = np.real(1 - fidelity_chi_pi_x(chi_avg))\n",
    "except:\n",
    "    logger.exception(\"\")\n",
    "\n",
    " \n",
    "fom, chi_avg"
   ]
  },
  {
   "cell_type": "code",
   "execution_count": 201,
   "metadata": {},
   "outputs": [
    {
     "data": {
      "text/plain": [
       "2799990000.0"
      ]
     },
     "execution_count": 201,
     "metadata": {},
     "output_type": "execute_result"
    }
   ],
   "source": [
    "f_res-25.31e6"
   ]
  },
  {
   "cell_type": "code",
   "execution_count": 239,
   "metadata": {},
   "outputs": [
    {
     "data": {
      "text/plain": [
       "0.1679425542515418"
      ]
     },
     "execution_count": 239,
     "metadata": {},
     "output_type": "execute_result"
    }
   ],
   "source": [
    "# procTomo at blockband, should be chi=1\n",
    "\n",
    "B_gauss = (simp.D - f_res*1e-6)/ simp.gamma_nv\n",
    "chi = -1\n",
    "try:\n",
    "    chi = sim_process_tomo_avg(pulse,  B_gauss, deltas= [-25300001, -25299999.])\n",
    "except:\n",
    "    logger.exception(\"\")\n",
    "\n",
    "chi\n",
    "np.real(1 - fidelity_chi_pi_x(chi, u_target='1'))#, B_gauss, B_gauss, pulse._func_ampl_v_2_omega_mhz"
   ]
  },
  {
   "cell_type": "markdown",
   "metadata": {},
   "source": [
    "## Spectrum"
   ]
  },
  {
   "cell_type": "code",
   "execution_count": 1034,
   "metadata": {},
   "outputs": [
    {
     "data": {
      "text/plain": [
       "0"
      ]
     },
     "execution_count": 1034,
     "metadata": {},
     "output_type": "execute_result"
    }
   ],
   "source": [
    "import qutip\n",
    "try:\n",
    "    def run_sim_fsweep(freq_array, pulse, B_gauss, sim_params, n_timebins=None, t_idle_extension=-1e-9,\n",
    "                       ampl_err=0):\n",
    "\n",
    "        # for compability reason, accept pulse as dict or ArbPulse object\n",
    "        # if supplying a dict, you are responsible for correct units!\n",
    "        if type(pulse) == ArbPulse:\n",
    "            pulse.set_unit_time('us')\n",
    "            pulse.set_unit_data('MHz')\n",
    "            pulse = pulse.as_dict()\n",
    "\n",
    "        if n_timebins is None:\n",
    "            n_timebins = len(pulse['timegrid_ampl'])\n",
    "\n",
    "        B = B_gauss\n",
    "        simp = sim_params\n",
    "        oc_length = pulse['timegrid_ampl'][-1] + t_idle_extension*1e6\n",
    "\n",
    "        t = np.linspace(0, oc_length, n_timebins)\n",
    "        options=qutip.Options(atol=1e-15, rtol=1e-15, nsteps=1e8, store_final_state=True)\n",
    "\n",
    "        init_state = simp.rho_ms0\n",
    "\n",
    "        # perform the measurement\n",
    "        data_freq_detuning = np.zeros(len(freq_array))\n",
    "        for idx,freq in enumerate(freq_array):\n",
    "            oc_el = TimeDependentSimulation.oc_element(t, pulse['timegrid_ampl'], pulse['data_ampl'], pulse['data_phase'],\n",
    "                                                       freq, B, 1+ampl_err, simp)\n",
    "            results_measurement = qutip.mesolve(oc_el, init_state, t, [], [simp.P_nv],\n",
    "                                                options=options, progress_bar=None)\n",
    "            data_freq_detuning[idx] = results_measurement.expect[0][-1]\n",
    "\n",
    "        return data_freq_detuning\n",
    "except:\n",
    "    logger.exception(\"\")\n",
    "0"
   ]
  },
  {
   "cell_type": "code",
   "execution_count": 945,
   "metadata": {},
   "outputs": [
    {
     "data": {
      "text/plain": [
       "(2825300000.0, [2921300000.0, 2935600000.0])"
      ]
     },
     "execution_count": 945,
     "metadata": {},
     "output_type": "execute_result"
    }
   ],
   "source": [
    "f_res, f_block"
   ]
  },
  {
   "cell_type": "code",
   "execution_count": 354,
   "metadata": {},
   "outputs": [
    {
     "data": {
      "text/plain": [
       "'20220729_1_guessFromReisserMsc_penalty_fac=100/opt_res_'"
      ]
     },
     "execution_count": 354,
     "metadata": {},
     "output_type": "execute_result"
    }
   ],
   "source": [
    "tmp_pulse.name"
   ]
  },
  {
   "cell_type": "code",
   "execution_count": 543,
   "metadata": {},
   "outputs": [],
   "source": [
    "# take a sequence made from a pulse to calculate the spectrum+\n",
    "tmp_pulse = pulse\n",
    "pulse = sequence\n"
   ]
  },
  {
   "cell_type": "code",
   "execution_count": 1055,
   "metadata": {},
   "outputs": [],
   "source": [
    "\n",
    "B = abs(f_res*1e-6-simp.D)/simp.gamma_nv\n",
    "df = 50 #120#120 # MHz\n",
    "\n",
    "f_block_sim = np.asarray(f_block) *1e-6 # MHz\n",
    "df_block = 10\n",
    "symm_block = True\n",
    "fac_penalty = 100\n",
    "f_mw = simp.D - simp.gamma_nv * B\n",
    "\n",
    "\n",
    "n_f = np.min([int(df/0.25), 500])\n",
    "n_f= 50\n",
    "\n",
    "\n",
    "\n",
    "sim = TimeDependentSimulation()\n",
    "\n",
    "freq_array = np.linspace(simp.D - simp.gamma_nv * B - df, simp.D - simp.gamma_nv * B + df, n_f)\n",
    "#freq_array = np.linspace(3000, 3200, n_f)\n",
    "#freq_array = np.linspace(2000, 3200, n_f)\n",
    "\n",
    "\n",
    "# ATTENTION: limits sampling rate to 1 GSa/s\n",
    "n_tbins = int(pulse.get_timegrid(unit='s')[-1]/1e-9)\n",
    "#data_freq_detuning = sim.run_sim_fsweep(freq_array, pulse, B, simp, n_timebins=n_tbins)\n",
    "data_freq_detuning = run_sim_fsweep(freq_array, pulse, B, simp)\n",
    "#data_freq_detuning = run_sim_fsweep(None, freq_array, pulse, B, simp)\n",
    "penalty = calc_crosstalk_penalty(1e6*freq_array, data_freq_detuning, 1e6*f_mw, 1e6*f_block_sim, 1e6*df_block,\n",
    "                                 symm_block=symm_block, fac_penalty=fac_penalty)\n"
   ]
  },
  {
   "cell_type": "code",
   "execution_count": 550,
   "metadata": {},
   "outputs": [
    {
     "data": {
      "text/plain": [
       "4826"
      ]
     },
     "execution_count": 550,
     "metadata": {},
     "output_type": "execute_result"
    }
   ],
   "source": [
    "int(pulse.get_timegrid(unit='s')[-1]/1e-9)"
   ]
  },
  {
   "cell_type": "code",
   "execution_count": 452,
   "metadata": {},
   "outputs": [
    {
     "data": {
      "text/plain": [
       "(2712223, '20220729_1_guessFromReisserMsc_penalty_fac=100/opt_res_')"
      ]
     },
     "execution_count": 452,
     "metadata": {},
     "output_type": "execute_result"
    }
   ],
   "source": [
    "len(pulse.timegrid), tmp_pulse.name"
   ]
  },
  {
   "cell_type": "code",
   "execution_count": 585,
   "metadata": {},
   "outputs": [],
   "source": [
    "pulse = tmp_pulse"
   ]
  },
  {
   "cell_type": "code",
   "execution_count": 1069,
   "metadata": {},
   "outputs": [
    {
     "data": {
      "text/plain": [
       "0"
      ]
     },
     "execution_count": 1069,
     "metadata": {},
     "output_type": "execute_result"
    },
    {
     "data": {
      "image/png": "[encoded data removed]"
     },
     "metadata": {
      "image/png": {
       "height": 604,
       "width": 1176
      }
     },
     "output_type": "display_data"
    }
   ],
   "source": [
    "try:\n",
    "    delta_hfs = 2.1 # MHz\n",
    "    f_mw = simp.D - simp.gamma_nv * B\n",
    "\n",
    "    # value at the HFS values\n",
    "    vals = []\n",
    "    deltas = [0, -delta_hfs, delta_hfs]\n",
    "    for delta in deltas:\n",
    "        idx = np.argmin(abs(freq_array-(f_mw+delta)))\n",
    "        vals.append(data_freq_detuning[idx])\n",
    "\n",
    "\n",
    "    title_str = \"\"\n",
    "\n",
    "    # visualize the results\n",
    "    fig1, ax = plt.subplots(figsize=(20,10))\n",
    "    ax.plot(freq_array, data_freq_detuning, lw=4, label=r'NV${}^{-}~|m_s=0\\rangle$')\n",
    "    #ax.plot(freq_array+2*(B-B_nv2)/2*simp.gamma_nv, data_freq_detuning, lw=4, label=r'NV${}^{-}~|m_s=0\\rangle$')\n",
    "    #ax.plot(f_exp_mhz, y_exp, label=\"exp\")\n",
    "    #ax.plot(f_exp_mhz_mirr, y_exp, label=\"mirrored(exp)\")\n",
    "    #ax.set_xlim([2603,2653])\n",
    "\n",
    "    # vertical dots at values of HFS transitions\n",
    "    ax.scatter(f_mw+deltas[0], vals[0], color='black', label=f\"s_0= {vals[0]:.2e}\")\n",
    "    ax.scatter(f_mw+deltas[1], vals[1], color='grey', label=f\"s_-1= {vals[1]:.2e}\", alpha=0.8)\n",
    "    ax.scatter(f_mw+deltas[2], vals[2], color='blue', label=f\"s_+1= {vals[2]:.2e}\", alpha=0.5)\n",
    "\n",
    "    ax.axvline(f_mw, label=f\"transition= {f_mw:.1f} MHz\")\n",
    "    ax.axvspan(f_mw-2.1, f_mw+2.1, alpha=0.1, color='blue', label='15-N HFS')\n",
    "\n",
    "\n",
    "    # blockbands\n",
    "    f_lims = get_f_limits(1e6*f_mw, 1e6*f_block_sim, 1e6*df_block, symm_block=symm_block)\n",
    "    for f_min, f_max in f_lims:\n",
    "        f_center = (f_max + f_min) / 2\n",
    "        if 1e-6*f_center > freq_array[0] and 1e-6*f_center < freq_array[-1]: \n",
    "            ax.axvline(1e-6*f_center, label=f\"NV1 blockband ({1e-6*f_center:.1f} +- {df_block} MHz)\", color='red')\n",
    "            ax.axvspan(1e-6*f_min, 1e-6*f_max, alpha=0.1, color='red')\n",
    "\n",
    "    title_str += f\"penalty(fac={fac_penalty})= {penalty:.3f}, delta= {abs(f_mw-f_block_sim)} MHz\"\n",
    "\n",
    "    # grid\n",
    "    ax.axhline(0, color='black')\n",
    "    #ax.axhline(1, color='black')\n",
    "    plt.grid(axis='x', color='0.5')\n",
    "    plt.grid(axis='y', color='0.5')\n",
    "\n",
    "\n",
    "\n",
    "\n",
    "    ax.set_xlabel(r'Frequency (MHz)')\n",
    "    ax.set_ylabel(r'Spin state ()')\n",
    "    plt.title(title_str)\n",
    "    ax.legend(loc='best', prop={'size': 20})\n",
    "    plt.show(fig1)\n",
    "\n",
    "except:\n",
    "    logger.exception(\"\")\n",
    "0"
   ]
  },
  {
   "cell_type": "code",
   "execution_count": 203,
   "metadata": {},
   "outputs": [
    {
     "data": {
      "text/plain": [
       "[2921300000.0, 2935600000.0]"
      ]
     },
     "execution_count": 203,
     "metadata": {},
     "output_type": "execute_result"
    }
   ],
   "source": [
    "f_block"
   ]
  },
  {
   "cell_type": "code",
   "execution_count": null,
   "metadata": {},
   "outputs": [],
   "source": []
  }
 ],
 "metadata": {
  "kernelspec": {
   "display_name": "Qudi",
   "language": "python",
   "name": "qudi"
  },
  "language_info": {
   "codemirror_mode": {
    "name": "ipython",
    "version": "3.6.5"
   },
   "file_extension": ".py",
   "mimetype": "text/x-python",
   "name": "python",
   "nbconvert_exporter": "python",
   "pygments_lexer": "ipython3",
   "version": "3.6.5"
  },
  "toc": {
   "base_numbering": 1,
   "nav_menu": {},
   "number_sections": true,
   "sideBar": true,
   "skip_h1_title": false,
   "title_cell": "Table of Contents",
   "title_sidebar": "Contents",
   "toc_cell": false,
   "toc_position": {
    "height": "calc(100% - 180px)",
    "left": "10px",
    "top": "150px",
    "width": "230px"
   },
   "toc_section_display": true,
   "toc_window_display": true
  },
  "varInspector": {
   "cols": {
    "lenName": 16,
    "lenType": 16,
    "lenVar": 40
   },
   "kernels_config": {
    "python": {
     "delete_cmd_postfix": "",
     "delete_cmd_prefix": "del ",
     "library": "var_list.py",
     "varRefreshCmd": "print(var_dic_list())"
    },
    "r": {
     "delete_cmd_postfix": ") ",
     "delete_cmd_prefix": "rm(",
     "library": "var_list.r",
     "varRefreshCmd": "cat(var_dic_list()) "
    }
   },
   "position": {
    "height": "751px",
    "left": "1539px",
    "right": "20px",
    "top": "120px",
    "width": "325px"
   },
   "types_to_exclude": [
    "module",
    "function",
    "builtin_function_or_method",
    "instance",
    "_Feature"
   ],
   "window_display": true
  }
 },
 "nbformat": 4,
 "nbformat_minor": 2
}
