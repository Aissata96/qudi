{
 "cells": [
  {
   "cell_type": "code",
   "execution_count": 1,
   "metadata": {
    "pycharm": {
     "name": "#%%\n"
    }
   },
   "outputs": [],
   "source": [
    "# Version: 0.0.1\n",
    "# Date:    2022-07-22\n",
    "# Author:  P. J. Vetter, Timo Joas\n",
    "# Email=  philipp.vetter@uni-ulm.de;"
   ]
  },
  {
   "cell_type": "code",
   "execution_count": 1,
   "metadata": {
    "pycharm": {
     "name": "#%%\n"
    }
   },
   "outputs": [],
   "source": [
    "# Simulation to investigate the robustness of the optimal control pulse. \n",
    "# Pulse units are abstracted away by imported ArbPulse class\n",
    "\n",
    "# The oc_element function reads in the pulse files and creates the corresponding pulse\n",
    "\n",
    "# all possible initial states are defined in the 'Initial State' section\n",
    "# density matrix of the m_s = 0 state: rho_ms0 \n",
    "# density matrix of the m_s = -1 state: rho_msm1\n",
    "# density matrix of the x state: rho_x\n",
    "# density matrix of the y state: rho_y\n",
    "\n",
    "# (The first run might take a bit longer due to the plot generation)"
   ]
  },
  {
   "cell_type": "markdown",
   "metadata": {
    "pycharm": {
     "name": "#%% md\n"
    }
   },
   "source": [
    "# Packages"
   ]
  },
  {
   "cell_type": "code",
   "execution_count": 1,
   "metadata": {
    "pycharm": {
     "name": "#%%\n"
    }
   },
   "outputs": [
    {
     "data": {
      "text/plain": [
       "'C:\\\\Software\\\\qudi\\\\user_scripts\\\\Timo\\\\own\\\\optimalcontrol'"
      ]
     },
     "execution_count": 1,
     "metadata": {},
     "output_type": "execute_result"
    }
   ],
   "source": [
    "import os\n",
    "os.getcwd()"
   ]
  },
  {
   "cell_type": "code",
   "execution_count": 2,
   "metadata": {
    "pycharm": {
     "name": "#%%\n"
    }
   },
   "outputs": [],
   "source": [
    "#%matplotlib notebook\n",
    "#%matplotlib notebook\n",
    "\n",
    "import qutip\n",
    "import numpy as np\n",
    "import matplotlib.pyplot as plt\n",
    "from scipy.optimize import curve_fit\n",
    "import os\n",
    "from scipy import interpolate\n",
    "import matplotlib as mpl\n",
    "\n",
    "from oc_simlib import TimeDependentSimulation, SimParameters, ArbPulse, PredefinedArbPulses\n",
    "\n",
    "plt.rcParams.update({'font.size': 30})  "
   ]
  },
  {
   "cell_type": "markdown",
   "metadata": {
    "pycharm": {
     "name": "#%% md\n"
    }
   },
   "source": [
    "# Library"
   ]
  },
  {
   "cell_type": "code",
   "execution_count": 3,
   "metadata": {
    "pycharm": {
     "name": "#%%\n"
    }
   },
   "outputs": [],
   "source": [
    "def get_f_limits(f_res, f_center_block, df, symm_block=False):\n",
    "    f_center_block_mhz = f_center_block*1e-6\n",
    "    f_res_mhz = f_res*1e-6\n",
    "    df_mhz = df*1e-6\n",
    "    freqs = []\n",
    "    if symm_block:\n",
    "        delta_block = f_center_block_mhz - f_res_mhz\n",
    "        f_center_2_mhz = f_res_mhz - delta_block\n",
    "        f_centers = [f_center_block_mhz, f_center_2_mhz]\n",
    "    else:\n",
    "        f_centers = [f_center_block_mhz]\n",
    "    for f in f_centers:\n",
    "        freqs.append([1e6*(f-df_mhz), 1e6*(f+df_mhz)])\n",
    "    return freqs\n",
    "    \n",
    "def calc_crosstalk_penalty(freqs, spin_pop, f_res, f_center_block, df, symm_block=False, fac_penalty=1):\n",
    "\n",
    "    \n",
    "    idxs = np.empty((0), dtype=int)\n",
    "    for (f_min, f_max) in get_f_limits(f_res, f_center_block, df, symm_block=symm_block):      \n",
    "        idxs = np.append(idxs, np.where(np.logical_and(freqs >= f_min, freqs <= f_max)))\n",
    "    \n",
    "    #return idxs\n",
    "    spin_pop = np.mean(spin_pop[idxs])\n",
    "    \n",
    "    # as in optimalcontrol_quocs.ipynb\n",
    "    fom_sim = (1 + fac_penalty*(abs(1-spin_pop)))\n",
    "    \n",
    "    return fom_sim"
   ]
  },
  {
   "cell_type": "markdown",
   "metadata": {
    "pycharm": {
     "name": "#%% md\n"
    }
   },
   "source": [
    "# Variables"
   ]
  },
  {
   "cell_type": "code",
   "execution_count": 4,
   "metadata": {
    "pycharm": {
     "name": "#%%\n"
    }
   },
   "outputs": [],
   "source": [
    "# magnetic field [G]\n",
    "B = 90"
   ]
  },
  {
   "cell_type": "markdown",
   "metadata": {
    "pycharm": {
     "name": "#%% md\n"
    }
   },
   "source": [
    "## Load pulses"
   ]
  },
  {
   "cell_type": "code",
   "execution_count": null,
   "outputs": [],
   "source": [
    "\n",
    "\n",
    "\n",
    "folder = r\"input_pulses\\rect\"\n",
    "name = \"rec_amp_20MHz_0.025mus_\"\n",
    "#pulse = ArbPulse.load_pulse(folder, name, unit_t='µs', unit_data='MHz')\n",
    "\n",
    "#folder = r\"input_pulses\"\n",
    "#name = \"on_nv=2_\"\n",
    "\n",
    "folder = r\"C:\\Software\\qudi_data\\optimal_control_assets\\20220727_1_guessFromReisserMsc\"\n",
    "name = \"opt_res_\"\n",
    "pulse = ArbPulse.load_pulse(folder, name, unit_t='s', unit_data='V',\n",
    "                            func_ampl_v_2_omega_mhz=lambda x: x/0.25*20,\n",
    "                            func_omega_mhz_2_ampl_v=lambda x: 1/(x/0.25*20))\n",
    "\n",
    "folder = r\"C:\\Software\\qudi_data\\optimal_control_assets\\20220817_1_guessFromReisserMsc_penalty_fac=100\"\n",
    "name = \"opt_res_\"\n",
    "name = \"opt_res_\"\n",
    "pulse = ArbPulse.load_pulse(folder, name, unit_t='s', unit_data='V',\n",
    "                            func_ampl_v_2_omega_mhz=lambda x: x/0.25*20,\n",
    "                            func_omega_mhz_2_ampl_v=lambda x: 1/(x/0.25*20))\n",
    "\n",
    "#folder = r\"C:\\Software\\qudi_data\\optimal_control_assets\\Reisser_MSc_pulse_1\"\n",
    "#name = \"Opt_Pulse_01_\"\n",
    "#pulse = ArbPulse.load_pulse(folder, name, unit_t='ns', unit_data='MHz')\n",
    "\n",
    "\n",
    "# loading experimental pulse\n",
    "# 0.25 = 20 MHz\n",
    "#pulse = ArbPulse.load_pulse(folder, name, unit_t='s',  func_ampl_v_2_omega_mhz=lambda x: x/0.25*20)\n",
    "\n",
    "\n",
    "#pulse = TimeDependentSimulation.load_pulse(folder, name, func_t_2_us=lambda t: t*1e6)\n",
    "#\n",
    "pulse.as_dict()\n",
    "\n",
    "\n"
   ],
   "metadata": {
    "collapsed": false,
    "pycharm": {
     "name": "#%%\n"
    }
   }
  },
  {
   "cell_type": "code",
   "execution_count": null,
   "outputs": [],
   "source": [
    "pulse.as_dict()"
   ],
   "metadata": {
    "collapsed": false,
    "pycharm": {
     "name": "#%%\n"
    }
   }
  },
  {
   "cell_type": "code",
   "execution_count": null,
   "outputs": [],
   "source": [
    "len(pulse.as_dict()['timegrid_ampl'])"
   ],
   "metadata": {
    "collapsed": false,
    "pycharm": {
     "name": "#%%\n"
    }
   }
  },
  {
   "cell_type": "markdown",
   "source": [
    "## Generate pulses"
   ],
   "metadata": {
    "collapsed": false,
    "pycharm": {
     "name": "#%% md\n"
    }
   }
  },
  {
   "cell_type": "code",
   "execution_count": null,
   "outputs": [],
   "source": [
    "\n",
    "pulse = PredefinedArbPulses.generate_levitt(20e6, phase=0)\n",
    "#pulse = PredefinedArbPulses.generate_rect_pi(20e6, phase=0)\n",
    "\n",
    "#pulse['data_phase']\n",
    "#val_i, val_q = np.asarray([1,0])*1\n",
    "#np.asarray([np.pi/2, 0, np.pi/2]) + 0\n",
    "\n",
    "#data_ampl = np.asarray([0,0,0])\n",
    "#data_ampl[0:3] = 1\n",
    "#data_ampl"
   ],
   "metadata": {
    "collapsed": false,
    "pycharm": {
     "name": "#%%\n"
    }
   }
  },
  {
   "cell_type": "markdown",
   "source": [
    "## Plot pulses"
   ],
   "metadata": {
    "collapsed": false,
    "pycharm": {
     "name": "#%% md\n"
    }
   }
  },
  {
   "cell_type": "code",
   "execution_count": null,
   "outputs": [],
   "source": [
    "import matplotlib.pyplot as plt\n",
    "    \n",
    "t_amplitude = pulse.get_timegrid(unit='µs')\n",
    "amplitude = pulse.get_data_ampl(unit='MHz')\n",
    "t_phase = pulse.get_timegrid(unit='µs')\n",
    "phase = pulse.get_data_phase(unit='MHz')\n",
    "\n",
    "try:\n",
    "    plt.figure(figsize=(10,6))\n",
    "    plt.plot(t_amplitude, amplitude, label=\"Ampl (I)\")\n",
    "    plt.plot(t_phase, phase, label=\"Phase (Q)\")\n",
    "   # plt.plot(t_phase, phase+amplitude, label=\"I+Q\")\n",
    "    plt.ylabel(\"Rabi freq (MHz)\")\n",
    "    plt.xlabel(\"time (us)\")\n",
    "    plt.legend(loc='best', prop={'size': 20})\n",
    "    plt.show()\n",
    "except:\n",
    "    logger.exception(\"\")"
   ],
   "metadata": {
    "collapsed": false,
    "pycharm": {
     "name": "#%%\n"
    }
   }
  },
  {
   "cell_type": "markdown",
   "source": [
    "# Parameters, Operators"
   ],
   "metadata": {
    "collapsed": false,
    "pycharm": {
     "name": "#%% md\n"
    }
   }
  },
  {
   "cell_type": "code",
   "execution_count": null,
   "outputs": [],
   "source": [
    "\n",
    "simp = SimParameters()\n",
    "simp.gamma_nv"
   ],
   "metadata": {
    "collapsed": false,
    "pycharm": {
     "name": "#%%\n"
    }
   }
  },
  {
   "cell_type": "markdown",
   "source": [
    "# Measurements"
   ],
   "metadata": {
    "collapsed": false,
    "pycharm": {
     "name": "#%% md\n"
    }
   }
  },
  {
   "cell_type": "code",
   "execution_count": null,
   "outputs": [],
   "source": [
    "f_exp_mhz = 1e-6*exp_data[0,:] - (2710-2628)\n",
    "f_exp_mhz_mirr = 1e-6*exp_data[0,:][::-1] - (2710-2628)\n",
    "y_exp = (exp_data[1,:]*3.6)-2.55"
   ],
   "metadata": {
    "collapsed": false,
    "pycharm": {
     "name": "#%%\n"
    }
   }
  },
  {
   "cell_type": "code",
   "execution_count": null,
   "outputs": [],
   "source": [
    "\n",
    "\n",
    "#get_f_limits(1e6*f_mw, 1e6*f_block, 1e6*df_block, symm_block=True)\n",
    "#np.where(np.logical_and(freq_array >= 2700, freq_array <= 2720))"
   ],
   "metadata": {
    "collapsed": false,
    "pycharm": {
     "name": "#%%\n"
    }
   }
  },
  {
   "cell_type": "markdown",
   "source": [
    "## Frequency Detuning"
   ],
   "metadata": {
    "collapsed": false,
    "pycharm": {
     "name": "#%% md\n"
    }
   }
  },
  {
   "cell_type": "code",
   "execution_count": null,
   "outputs": [],
   "source": [
    "\n",
    "B = 86.07\n",
    "df = 25#120#120 # MHz\n",
    "\n",
    "f_block = 2710 # MHz\n",
    "df_block = 10\n",
    "symm_block = True\n",
    "fac_penalty = 100\n",
    "f_mw = simp.gamma_nv * B\n",
    "B_nv2 = (2870-f_block)/simp.gamma_nv\n",
    "\n",
    "n_f = np.min([int(df/0.25), 500])\n",
    "n_f= 20\n",
    "\n",
    "\n",
    "\n",
    "sim = TimeDependentSimulation()\n",
    "\n",
    "freq_array = np.linspace(simp.D - simp.gamma_nv * B - df, simp.D - simp.gamma_nv * B + df, n_f)\n",
    "#freq_array = np.linspace(3000, 3200, n_f)\n",
    "#freq_array = np.linspace(2000, 3200, n_f)\n",
    "\n",
    "#freq_array = np.linspace(2710-10, 2710+10, 50)\n",
    "data_freq_detuning = sim.run_sim_fsweep(freq_array, pulse, B, simp)\n",
    "penalty = calc_crosstalk_penalty(1e6*freq_array, data_freq_detuning, 1e6*f_mw, 1e6*f_block, 1e6*df_block,\n",
    "                                 symm_block=symm_block, fac_penalty=fac_penalty)\n"
   ],
   "metadata": {
    "collapsed": false,
    "pycharm": {
     "name": "#%%\n"
    }
   }
  },
  {
   "cell_type": "code",
   "execution_count": null,
   "outputs": [],
   "source": [
    "1e-6*f_center, freq_array[0]"
   ],
   "metadata": {
    "collapsed": false,
    "pycharm": {
     "name": "#%%\n"
    }
   }
  },
  {
   "cell_type": "code",
   "execution_count": null,
   "outputs": [],
   "source": [
    "f_res = 2628.56e6\n",
    "func_volt_2_rabi = lambda x: x/0.25*20\n",
    "\n",
    "simp = SimParameters()\n",
    "\n",
    "B_gauss = (simp.D - f_res*1e-6)/ simp.gamma_nv\n",
    "\n",
    "# reloading pulse to make sure units are correct\n",
    "pulse = ArbPulse.load_pulse(pulse._folder, pulse.name, extension='txt',\n",
    "                             unit_t='s', unit_data='V', \n",
    "                              func_ampl_v_2_omega_mhz=func_volt_2_rabi\n",
    "                              )\n",
    "\n",
    "\n",
    "sim = TimeDependentSimulation()\n",
    "\n",
    "freq_array = [f_res]\n",
    "data_freq_detuning = sim.run_sim_fsweep(freq_array, pulse, B_gauss, simp)\n",
    "#spin_pop = np.mean(data_freq_detuning)\n",
    "#spin_pop\n",
    "\n",
    "pulse"
   ],
   "metadata": {
    "collapsed": false,
    "pycharm": {
     "name": "#%%\n"
    }
   }
  },
  {
   "cell_type": "code",
   "execution_count": null,
   "metadata": {
    "pycharm": {
     "name": "#%%\n"
    }
   },
   "outputs": [],
   "source": [
    "f_mw = simp.D - simp.gamma_nv * B\n",
    "\n",
    "title_str = \"\"\n",
    "\n",
    "# visualize the results\n",
    "fig1, ax = plt.subplots(figsize=(20,10))\n",
    "ax.plot(freq_array, data_freq_detuning, lw=4, label=r'NV${}^{-}~|m_s=0\\rangle$')\n",
    "#ax.plot(freq_array+2*(B-B_nv2)/2*simp.gamma_nv, data_freq_detuning, lw=4, label=r'NV${}^{-}~|m_s=0\\rangle$')\n",
    "#ax.plot(f_exp_mhz, y_exp, label=\"exp\")\n",
    "#ax.plot(f_exp_mhz_mirr, y_exp, label=\"mirrored(exp)\")\n",
    "#ax.set_xlim([2603,2653])\n",
    "\n",
    "ax.axvline(f_mw, label=f\"transition= {f_mw:.1f} MHz\")\n",
    "ax.axvspan(f_mw-2.1, f_mw+2.1, alpha=0.1, color='blue', label='15-N HFS')\n",
    "\n",
    "\n",
    "# blockbands\n",
    "f_lims = get_f_limits(1e6*f_mw, 1e6*f_block, 1e6*df_block, symm_block=symm_block)\n",
    "for f_min, f_max in f_lims:\n",
    "    f_center = (f_max + f_min) / 2\n",
    "    if 1e-6*f_center > freq_array[0] and 1e-6*f_center < freq_array[-1]: \n",
    "        ax.axvline(1e-6*f_center, label=f\"NV1 blockband ({1e-6*f_center:.1f} +- {df_block} MHz)\", color='red')\n",
    "        ax.axvspan(1e-6*f_min, 1e-6*f_max, alpha=0.1, color='red')\n",
    "\n",
    "title_str += f\"penalty(fac={fac_penalty})= {penalty:.3f}\"\n",
    "        \n",
    "# grid\n",
    "ax.axhline(0, color='black')\n",
    "#ax.axhline(1, color='black')\n",
    "plt.grid(axis='x', color='0.5')\n",
    "plt.grid(axis='y', color='0.5')\n",
    "\n",
    "\n",
    "\n",
    "\n",
    "ax.set_xlabel(r'Frequency (MHz)')\n",
    "ax.set_ylabel(r'Spin state ()')\n",
    "plt.title(title_str)\n",
    "ax.legend(loc='best', prop={'size': 20})\n",
    "plt.show(fig1)"
   ]
  },
  {
   "cell_type": "markdown",
   "metadata": {
    "pycharm": {
     "name": "#%% md\n"
    }
   },
   "source": [
    "## Amplitude Error"
   ]
  },
  {
   "cell_type": "code",
   "execution_count": 10,
   "metadata": {
    "pycharm": {
     "name": "#%%\n"
    }
   },
   "outputs": [
    {
     "data": {
      "image/png": "[encoded data removed]",
      "text/plain": [
       "<Figure size 1440x720 with 1 Axes>"
      ]
     },
     "metadata": {
      "needs_background": "light"
     },
     "output_type": "display_data"
    }
   ],
   "source": [
    "B= 90 #gauss\n",
    "\n",
    "sim = TimeDependentSimulation()\n",
    "\n",
    "# scanned amplitude steps\n",
    "amp_array = np.linspace(-1, 1, 100)\n",
    "data_amp_detuning = sim.run_sim_ampsweep(amp_array, pulse, B, simp)\n",
    "\n",
    "# visualize the results\n",
    "fig2, ax = plt.subplots(figsize=(20,10))\n",
    "ax.plot(amp_array*100, data_amp_detuning, lw=4, label=r'NV${}^{-}~|m_s=0\\rangle$')\n",
    "ax.set_xlabel(r'Amplitude Error (\\%)')\n",
    "ax.set_ylabel(r'Spin state ()')\n",
    "ax.legend(loc='best')\n",
    "plt.show(fig2) "
   ]
  },
  {
   "cell_type": "code",
   "execution_count": null,
   "metadata": {
    "pycharm": {
     "name": "#%%\n"
    }
   },
   "outputs": [],
   "source": []
  }
 ],
 "metadata": {
  "kernelspec": {
   "display_name": "Python 3",
   "language": "python",
   "name": "python3"
  },
  "language_info": {
   "codemirror_mode": {
    "name": "ipython",
    "version": 3
   },
   "file_extension": ".py",
   "mimetype": "text/x-python",
   "name": "python",
   "nbconvert_exporter": "python",
   "pygments_lexer": "ipython3",
   "version": "3.6.5"
  },
  "toc": {
   "base_numbering": 1,
   "nav_menu": {},
   "number_sections": true,
   "sideBar": true,
   "skip_h1_title": false,
   "title_cell": "Table of Contents",
   "title_sidebar": "Contents",
   "toc_cell": false,
   "toc_position": {
    "height": "calc(100% - 180px)",
    "left": "10px",
    "top": "150px",
    "width": "384px"
   },
   "toc_section_display": true,
   "toc_window_display": true
  },
  "varInspector": {
   "cols": {
    "lenName": 16,
    "lenType": 16,
    "lenVar": 40
   },
   "kernels_config": {
    "python": {
     "delete_cmd_postfix": "",
     "delete_cmd_prefix": "del ",
     "library": "var_list.py",
     "varRefreshCmd": "print(var_dic_list())"
    },
    "r": {
     "delete_cmd_postfix": ") ",
     "delete_cmd_prefix": "rm(",
     "library": "var_list.r",
     "varRefreshCmd": "cat(var_dic_list()) "
    }
   },
   "types_to_exclude": [
    "module",
    "function",
    "builtin_function_or_method",
    "instance",
    "_Feature"
   ],
   "window_display": true
  }
 },
 "nbformat": 4,
 "nbformat_minor": 5
}