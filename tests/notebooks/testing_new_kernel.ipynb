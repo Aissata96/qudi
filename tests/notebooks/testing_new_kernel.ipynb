{
 "cells": [
  {
   "cell_type": "code",
   "execution_count": 1,
   "id": "special-compound",
   "metadata": {},
   "outputs": [],
   "source": [
    "testhardware.global_var = 13"
   ]
  },
  {
   "cell_type": "code",
   "execution_count": 2,
   "id": "fresh-repair",
   "metadata": {},
   "outputs": [],
   "source": [
    "testhardware.new_stuff = 11"
   ]
  },
  {
   "cell_type": "code",
   "execution_count": 3,
   "id": "arbitrary-gnome",
   "metadata": {},
   "outputs": [
    {
     "data": {
      "text/plain": [
       "11"
      ]
     },
     "execution_count": 3,
     "metadata": {},
     "output_type": "execute_result"
    }
   ],
   "source": [
    "testhardware.new_stuff"
   ]
  },
  {
   "cell_type": "code",
   "execution_count": null,
   "id": "intermediate-greensboro",
   "metadata": {},
   "outputs": [],
   "source": [
    "import matplotlib.pyplot as plt\n",
    "import numpy as np"
   ]
  },
  {
   "cell_type": "code",
   "execution_count": null,
   "id": "dressed-architecture",
   "metadata": {},
   "outputs": [],
   "source": [
    "%matplotlib notebook"
   ]
  },
  {
   "cell_type": "code",
   "execution_count": null,
   "id": "aquatic-share",
   "metadata": {},
   "outputs": [],
   "source": [
    "x=np.arange(100)/3.0\n",
    "y=np.sin(x)\n",
    "plt.plot(x,y)"
   ]
  },
  {
   "cell_type": "code",
   "execution_count": null,
   "id": "friendly-stanley",
   "metadata": {},
   "outputs": [],
   "source": [
    "print('test')"
   ]
  },
  {
   "cell_type": "code",
   "execution_count": null,
   "id": "eligible-african",
   "metadata": {},
   "outputs": [],
   "source": [
    "testhardware._my_status_variable"
   ]
  },
  {
   "cell_type": "code",
   "execution_count": null,
   "id": "grave-nursing",
   "metadata": {},
   "outputs": [],
   "source": [
    "import sys\n",
    "import threading\n",
    "import time"
   ]
  },
  {
   "cell_type": "code",
   "execution_count": null,
   "id": "legitimate-assurance",
   "metadata": {
    "scrolled": true
   },
   "outputs": [],
   "source": [
    "for i in range(10000):\n",
    "    print(i)\n",
    "    if i % 100 == 0:\n",
    "        print('-----', file=sys.stderr)\n",
    "        print('-----', file=sys.stdout)"
   ]
  },
  {
   "cell_type": "code",
   "execution_count": null,
   "id": "handled-anxiety",
   "metadata": {},
   "outputs": [],
   "source": [
    "stop_request = False\n",
    "def _loop():\n",
    "    threading.current_thread().name = 'Test loop'\n",
    "    global stop_request\n",
    "    while not stop_request:        \n",
    "        print(stop_request, time.time())\n",
    "        print(threading.current_thread().name, file=sys.stderr)\n",
    "        time.sleep(1)\n",
    "    print('thread done:', threading.current_thread().ident, threading.current_thread().name)"
   ]
  },
  {
   "cell_type": "code",
   "execution_count": null,
   "id": "geological-defense",
   "metadata": {},
   "outputs": [],
   "source": [
    "thread = threading.Thread(target=_loop)\n",
    "thread.start()"
   ]
  },
  {
   "cell_type": "code",
   "execution_count": null,
   "id": "handed-catch",
   "metadata": {},
   "outputs": [],
   "source": [
    "print('Kay')"
   ]
  },
  {
   "cell_type": "code",
   "execution_count": null,
   "id": "noble-operation",
   "metadata": {},
   "outputs": [],
   "source": [
    "stop_request = True"
   ]
  },
  {
   "cell_type": "code",
   "execution_count": null,
   "id": "protecting-gravity",
   "metadata": {},
   "outputs": [],
   "source": [
    "from PySide2 import QtCore"
   ]
  },
  {
   "cell_type": "code",
   "execution_count": null,
   "id": "handmade-identifier",
   "metadata": {},
   "outputs": [],
   "source": [
    "# one can connect and disconnect to signals, \n",
    "# but connecting to the same signal twice will crash qudi with a windows access violation.\n",
    "# Also the singals do not transfer through to the remote instance!\n",
    "# Therefore !!!!!!!!! DON'T USE SIGNALS IN NOTEBOOKS !!!!!!!!!!!!\n",
    "\n",
    "@QtCore.Slot()\n",
    "def my_slot():\n",
    "    print(\"I'm evil!\")\n",
    "    testgui.log.info('More evil stuff')\n",
    "    raise RuntimeError('I distroy everything!')"
   ]
  },
  {
   "cell_type": "code",
   "execution_count": null,
   "id": "sapphire-generator",
   "metadata": {},
   "outputs": [],
   "source": [
    "testlogic.sigDict.connect(my_slot)"
   ]
  },
  {
   "cell_type": "code",
   "execution_count": null,
   "id": "subtle-labor",
   "metadata": {},
   "outputs": [],
   "source": []
  }
 ],
 "metadata": {
  "kernelspec": {
   "display_name": "Qudi",
   "language": "python",
   "name": "qudi"
  },
  "language_info": {
   "codemirror_mode": {
    "name": "ipython",
    "version": 3
   },
   "file_extension": ".py",
   "mimetype": "text/x-python",
   "name": "python",
   "nbconvert_exporter": "python",
   "pygments_lexer": "ipython3",
   "version": "3.7.10"
  }
 },
 "nbformat": 4,
 "nbformat_minor": 5
}
