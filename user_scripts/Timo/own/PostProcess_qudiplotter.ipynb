{
 "cells": [
  {
   "cell_type": "code",
   "execution_count": 2,
   "metadata": {
    "scrolled": true
   },
   "outputs": [
    {
     "data": {
      "text/plain": [
       "0"
      ]
     },
     "execution_count": 2,
     "metadata": {},
     "output_type": "execute_result"
    }
   ],
   "source": [
    "import pandas as pd\n",
    "import os.path\n",
    "from core.util.math import compute_ft\n",
    "import matplotlib.pyplot as plt\n",
    "import datetime\n",
    "from enum import Enum\n",
    "\n",
    "from user_scripts.Timo.own.console_toolkit import Tk_file, Tk_string\n",
    "\n",
    "from logic.pulsed.predefined_generate_methods.multi_nv_methods import DQTAltModes, TomoRotations, TomoInit\n",
    "\n",
    "import logging\n",
    "logging.basicConfig(filename='logfile.log', filemode='w', level=logging.DEBUG)\n",
    "logger = logging.getLogger(__name__)\n",
    "\n",
    "0"
   ]
  },
  {
   "cell_type": "markdown",
   "metadata": {},
   "source": [
    "# Library"
   ]
  },
  {
   "cell_type": "code",
   "execution_count": 3,
   "metadata": {
    "scrolled": true
   },
   "outputs": [
    {
     "data": {
      "text/plain": [
       "0"
      ]
     },
     "execution_count": 3,
     "metadata": {},
     "output_type": "execute_result"
    }
   ],
   "source": [
    "def setup_clear_plots(n_plots):\n",
    "    n_cur = qdplotlogic.number_of_plots\n",
    "    for i in range(n_cur):\n",
    "        n_cur_i = qdplotlogic.number_of_plots\n",
    "        if n_cur_i >= 1:\n",
    "            # removing without arguments seems buggy\n",
    "            qdplotlogic.remove_plot(n_cur_i-1)\n",
    "    \n",
    "    for i in range(n_plots):\n",
    "        qdplotlogic.add_plot()\n",
    "def extract_num_from_path(file):\n",
    "    fname = os.path.basename(file)\n",
    "    res = Tk_string.find_num_in_str(fname)\n",
    "    \n",
    "    return res\n",
    "\n",
    "\"\"\"\n",
    "# delete if Tk_file import works\n",
    "def load_pulsed_result(fname):\n",
    "\n",
    "    data = pd.read_csv(fname, sep=\"\\t\", comment='#', names=[\"tau\", \"z1\", \"z2\", \"std1\", \"std2\"])\n",
    "    if pd.isnull(data.iloc[0, -1]):\n",
    "        data = pd.read_csv(fname, sep=\"\\t\", comment='#', names=[\"tau\", \"z1\", \"std1\"])\n",
    "    meta = Tk_file.load_pulsed_metadata(fname)\n",
    "\n",
    "    mes = {'data': data,\n",
    "           'file': fname}\n",
    "    mes = {**mes, **meta}\n",
    "\n",
    "    return mes\n",
    "\"\"\"\n",
    "def do_fit(p_mes, fit_y='delta', fit_method='sine_exp', edit_params=None):\n",
    "    fitter = pulsedmeasurementlogic.fc   \n",
    "    \n",
    "    if edit_params:\n",
    "        for ov_param in edit_params:\n",
    "            \n",
    "            if ov_param.name in fitter.fit_list[fit_method]['parameters'].keys():\n",
    "                fitter.fit_list[fit_method]['use_settings'][ov_param.name] = True\n",
    "                fitter.fit_list[fit_method]['parameters'][ov_param.name] = ov_param\n",
    "                \n",
    "                #logger.debug(f\"Overwriting fit param {ov_param.name}: {ov_param}\")\n",
    "\n",
    "    fitter.clear_result()\n",
    "    fitter.set_current_fit(fit_method)\n",
    "    \"\"\"\n",
    "    x_fit, y_fit, result = fitter.do_fit(data[0], data[1])\n",
    "    result = result.result_str_dict\n",
    "\n",
    "    result['Position']['value']\n",
    "    result['FWHM']['value']\n",
    "    result['Contrast']['value']\n",
    "    \"\"\"\n",
    "\n",
    "    if fit_y == 'delta':\n",
    "        data = np.asarray(p_mes['data']['tau']), np.asarray(delta_or_z1(p_mes))\n",
    "    elif fit_y == 'z1':\n",
    "        data = np.asarray(p_mes['data']['tau']), np.asarray(p_mes['data']['z1'])\n",
    "    else:\n",
    "        raise ValueError\n",
    "    \n",
    " \n",
    "    \n",
    "    x_fit, y_fit, result = fitter.do_fit(data[0], data[1])\n",
    "    # params [lmfit::Parameters] and derived params [dict]\n",
    "    # considered in _get_fit()\n",
    "    \n",
    "    # get values of fitted model\n",
    "    model = fitter.fit_list[fit_method]['make_model']()[0]\n",
    "    x_domain = np.asarray(p_mes['data']['tau'])\n",
    "    y = model.eval(x=x_domain, params=result.params)\n",
    "    fit_vals = {'x': x_domain, \n",
    "                'y': y}\n",
    "    \n",
    "    full_result = {**result.params, **result.result_str_dict}\n",
    "    p_mes['fit_res'] = full_result\n",
    "    p_mes['fit_values'] = fit_vals\n",
    "\n",
    "def get_z(p_mes, mode='z1'):\n",
    "    # mode: z1, z2, delta, (+_norm)\n",
    "    try:\n",
    "        has_z2 = True\n",
    "        try:\n",
    "            p_mes['data']['z2']\n",
    "        except KeyError:\n",
    "            has_z2 = False\n",
    "            \n",
    "        tau = p_mes['data']['tau']\n",
    "        z1 = p_mes['data']['z1']\n",
    "        z1_norm = z1/np.average(z1)\n",
    "        \n",
    "        if mode == 'z1':\n",
    "            return z1\n",
    "        elif mode == 'z1_norm':\n",
    "            return z1_norm\n",
    "        elif mode == 'z2' or mode == 'z2_norm' or mode=='delta' or mode=='delta_norm':\n",
    "            if has_z2:\n",
    "                z2 = p_mes['data']['z2']\n",
    "                delta = (z1-z2)\n",
    "                delta_norm = delta/np.average(z1)\n",
    "            else:\n",
    "                raise KeyError\n",
    "                \n",
    "            if mode == 'z2':\n",
    "                return z2\n",
    "            if mode == 'z2_norm':\n",
    "                return z2/np.average(z2)\n",
    "            if mode == 'delta':\n",
    "                return delta\n",
    "            if mode == 'delta_norm':\n",
    "                return delta_norm\n",
    "        else:\n",
    "            raise ValueError(f\"Unknown mode: {mode}\")  \n",
    "\n",
    "    except:\n",
    "        logger.exception(f\"Loading of {mode} from file {p_mes['file']} failed\")\n",
    "        raise  \n",
    "\n",
    "def delta_or_z1(p_mes, norm=False):\n",
    "    try:\n",
    "        has_z2 = True\n",
    "        try:\n",
    "            p_mes['data']['z2']\n",
    "        except KeyError:\n",
    "            has_z2 = False\n",
    "\n",
    "        tau = p_mes['data']['tau']\n",
    "        z1 = p_mes['data']['z1']\n",
    "        z1_norm = z1/np.average(z1)\n",
    "\n",
    "        if has_z2:\n",
    "            z2 = p_mes['data']['z2']\n",
    "            delta = (z1-z2)\n",
    "            delta_norm = delta/np.average(z1)\n",
    "\n",
    "            if norm:\n",
    "                return delta_norm\n",
    "            else:\n",
    "                return delta\n",
    "\n",
    "        if norm:\n",
    "            return z1_norm\n",
    "        return z1\n",
    "    except:\n",
    "        logger.exception(f\"Loading of file {p_mes['file']} failed\")\n",
    "        raise\n",
    "        \n",
    "\n",
    "\n",
    "def pulsed_series_2_array(pulsed_series, idx_var_y=None, ordered_y=True):\n",
    "    y2d = []\n",
    "    z1s, z2s = [], []\n",
    "    x2d = []\n",
    "\n",
    "    for p in p_raw:\n",
    "        try:\n",
    "            z1 = p['data']['z1']\n",
    "            try:\n",
    "                z2 = p['data']['z2']\n",
    "            except:\n",
    "                z2 = np.nan\n",
    "            # set x axis of 2d plot\n",
    "            tau = p['data']['tau']\n",
    "            # set y axis of 2d plot\n",
    "            idx_file = extract_num_from_path(p['file'])[-2]\n",
    "            if idx_var_y != None:\n",
    "                var_file = float(extract_num_from_path(p['file'])[idx_var_y])\n",
    "            # set y axis as time of mes\n",
    "            if idx_var_y == None:\n",
    "                var_file = p['date'].timestamp() - p_raw[0]['date'].timestamp()\n",
    "            #logger.info(f\"1st: tau {tau}, x2d {x2d}\")\n",
    "            if len(x2d) > 0:\n",
    "                err = f\"Data in file {p['file']} doesn't share tau axis\"\n",
    "                try:\n",
    "                    if not np.all(x2d == tau):\n",
    "                        raise ValueError(err)\n",
    "                except:\n",
    "                    logger.exception(err)\n",
    "                    raise\n",
    "\n",
    "\n",
    "            x2d = tau\n",
    "            #logger.info(f\"tau {tau}, x2d {x2d}\")\n",
    "            y2d.append(var_file)\n",
    "            z1s.append(z1)\n",
    "            z2s.append(z2)\n",
    "\n",
    "        except:\n",
    "            logger.exception(f\"Loading of file {p['file']} failed\")\n",
    "            raise\n",
    "\n",
    "\n",
    "\n",
    "    z1s = np.asarray(z1s)\n",
    "    z2s = np.asarray(z2s)\n",
    "\n",
    "    x2d = np.asarray(x2d)\n",
    "    y2d = np.asarray(y2d)\n",
    "    \n",
    "    if ordered_y:\n",
    "        y2d,  z1s, z2s = np.sort(y2d), z1s[y2d.argsort()], z2s[y2d.argsort()]\n",
    "    \n",
    "    return x2d, y2d, z1s, z2s\n",
    "\n",
    "\n",
    "def pulsed_series_2_1d_fit_array(pulsed_series, fit_meth, fit_on, fit_vals,\n",
    "                                 idx_var_x=None, ordered_x=True):\n",
    "    \n",
    "    x,y, y2, y3 = [], [], [], []\n",
    "    dy = []\n",
    "    \n",
    "    for p in pulsed_series:\n",
    "        try:\n",
    "            # set x axis of 1d plot\n",
    "            # idx_file = extract_num_from_path(p['file'])[-2]\n",
    "            if idx_var_x:\n",
    "                var_file = float(extract_num_from_path(p['file'])[idx_var_x])\n",
    "            # set y axis as time of mes\n",
    "            else:\n",
    "                var_file = p['date'].timestamp() - pulsed_series[0]['date'].timestamp()\n",
    "            x.append(var_file)\n",
    "            \n",
    "            # looks for fit params to overwirte\n",
    "            edit_params = None\n",
    "            if 'fit_edit_params' in p.keys():\n",
    "                edit_params = p['fit_edit_params']\n",
    "            \n",
    "            # fit result on y axis\n",
    "            do_fit(p, fit_y=fit_on, fit_method=fit_meth, edit_params=edit_params)\n",
    "\n",
    "            y.append(_get_fit(p, 0, error=False, cust_vals=fit_vals))\n",
    "            dy.append(_get_fit(p, 0, error=True, cust_vals=fit_vals))\n",
    "            y2.append(_get_fit(p, 1, error=False, cust_vals=fit_vals))\n",
    "            y3.append(_get_fit(p, 2, error=False, cust_vals=fit_vals))\n",
    "\n",
    "\n",
    "        except:\n",
    "            logger.exception(f\"Loading of file {p['file']} failed\")\n",
    "            raise\n",
    "\n",
    "    x, y, y2, y3, dy = np.asarray(x), np.asarray(y), np.asarray(y2),  np.asarray(y3), np.asarray(dy)\n",
    "    if ordered_x:\n",
    "        x, y, y2, y3, dy = np.sort(x), y[x.argsort()], y2[x.argsort()], y3[x.argsort()], dy[x.argsort()]\n",
    "    \n",
    "    return x, y, y2, y3, dy\n",
    "\n",
    "def _get_fit(p, y_idx=0, error=False, cust_vals=None):\n",
    "    import lmfit\n",
    "    fit_vals = ['Lifetime', 'Contrast', 'Frequency']\n",
    "    if cust_vals:\n",
    "        fit_vals = cust_vals\n",
    "    try:\n",
    "        param = p['fit_res'][fit_vals[y_idx]]\n",
    "        if isinstance(param, lmfit.parameter.Parameter):\n",
    "            fit_quant = 'stderr' if error else 'value'\n",
    "            return getattr(param, fit_quant)\n",
    "        elif isinstance(param, dict):\n",
    "            fit_quant = 'error' if error else 'value'\n",
    "            return param[fit_quant]\n",
    "        else:\n",
    "            raise ValueError(f\"Didn't understand fit param type: {type(params)}\")\n",
    "    except:\n",
    "        return -1\n",
    "0"
   ]
  },
  {
   "cell_type": "code",
   "execution_count": null,
   "metadata": {},
   "outputs": [],
   "source": [
    "# auto nv char"
   ]
  },
  {
   "cell_type": "code",
   "execution_count": 4,
   "metadata": {},
   "outputs": [
    {
     "data": {
      "text/plain": [
       "0"
      ]
     },
     "execution_count": 4,
     "metadata": {},
     "output_type": "execute_result"
    }
   ],
   "source": [
    "import pandas as pd\n",
    "import difflib\n",
    "\n",
    "\n",
    "def overwrite_poi_from_foldername(p_mes):\n",
    "    # needed, if \"Active POI:\" property in .dat file is buggy\n",
    "    path = os.path.normpath(p_mes['file'])\n",
    "    poi = path.split(os.sep)[-2][:]\n",
    "    try:\n",
    "        poi = 'nv_' + poi.rsplit('nv_',1)[1]\n",
    "    except IndexError:\n",
    "        return\n",
    "    #return poi\n",
    "    #poi.rsplit(poi, '')\n",
    "    \n",
    "    if 'Pulsed' in poi:\n",
    "        return\n",
    "    else:\n",
    "        p_mes['poi'] = poi\n",
    "        return poi\n",
    "\n",
    "def find_param_file(p_mes):\n",
    "    return Tk_file.find_param_file(p_mes)\n",
    "\n",
    "def extract_params_from_file(header_lines):\n",
    "\n",
    "    header_flat = ' '.join([line for line in header_lines])\n",
    "    text = header_flat\n",
    "\n",
    "    # time of experiment\n",
    "    m = re.search('on(.+?)\\n', text)\n",
    "    if m:\n",
    "        found = m.group(1)\n",
    "    date = pd.to_datetime(found, dayfirst=True)\n",
    "\n",
    "    # poi\n",
    "    m = re.search('POI:(.+?)\\n', text)\n",
    "    if m:\n",
    "        found = m.group(1)\n",
    "    poi = found.lstrip()\n",
    "\n",
    "    meta = {'date': date,\n",
    "            'poi': poi}\n",
    "    return meta\n",
    "\n",
    "    \n",
    "def load_param_file(fname):\n",
    "        \n",
    "    return Tk_file.load_param_file(fname)\n",
    "\n",
    "def load_pulsed_params(p_mes):\n",
    "    fname = find_param_file(p_mes)\n",
    "    return load_param_file(fname)\n",
    "    \n",
    "def decay_fit(p_in, name_timeconst='T2_he', fit_meth='exp_decay'):\n",
    "    y_val_idx = None\n",
    "    fit_on = 'delta'\n",
    "    fit_vals = ['Lifetime', 'None', 'None']\n",
    "    \n",
    "    x, y, y2, y3, dy = pulsed_series_2_1d_fit_array(p_in, \n",
    "                                                fit_meth=fit_meth, fit_on=fit_on, fit_vals=fit_vals,\n",
    "                                                idx_var_x=y_val_idx, ordered_x=True)\n",
    "    for p in p_in:\n",
    "        p[f\"fit_res_{name_timeconst}\"] = p['fit_res']\n",
    "\n",
    "def nv_class_for_exp(p_in, f_res_classes=[2.907e9, 2.963e9, 3.029e9, 3.087e9]):\n",
    "    for p in p_in:\n",
    "        try:\n",
    "            f_mw = load_pulsed_params(p)['microwave_frequency']\n",
    "            p['exp_on_fres'] = NVClass(find_closest(f_mw, f_res_classes=f_res_classes))\n",
    "        except KeyError:\n",
    "            pass\n",
    "            \n",
    "\n",
    "def find_best_lor_fit(p_in, fit_meths=['lor_dip', 'lor_dip_2x']):\n",
    "    \n",
    "    for i, fmeth in enumerate(fit_meths):\n",
    "        y_val_idx = None\n",
    "        fit_on = 'z1'\n",
    "        fit_meth = fmeth\n",
    "        fit_vals = ['Position 0', 'Position 1', 'Position 2']    \n",
    "        if i == 0:\n",
    "            fit_vals[0] = 'Position'\n",
    "        \n",
    "        x, y, y2, y3, dy = pulsed_series_2_1d_fit_array(p_in, \n",
    "                                                        fit_meth=fit_meth, fit_on=fit_on, fit_vals=fit_vals,\n",
    "                                                        idx_var_x=y_val_idx, ordered_x=True)\n",
    "        for p in p_in:\n",
    "            p[f\"fit_res_{fmeth}\"] = p['fit_res']\n",
    "\n",
    "        \"\"\"\n",
    "        # fit_res is updated after\n",
    "\n",
    "        y_val_idx = None\n",
    "        fit_on = 'z1'\n",
    "        fit_meth = fit_meths[1]\n",
    "        fit_vals = ['Position 0', 'Position 1', 'None']    \n",
    "\n",
    "        x, y, y2, y3, dy = pulsed_series_2_1d_fit_array(p_in, \n",
    "                                                    fit_meth=fit_meth, fit_on=fit_on, fit_vals=fit_vals,\n",
    "                                                    idx_var_x=y_val_idx, ordered_x=True)\n",
    "        for p in p_in:\n",
    "            p[f\"fit_res_{fit_meths[1]}\"] = p['fit_res']\n",
    "        \"\"\"\n",
    "\n",
    "from enum import IntEnum        \n",
    "class NVClass(IntEnum):\n",
    "    NOT_CLASSIFIED = -1\n",
    "    NO_ODMR = -2\n",
    "    A = 0\n",
    "    B = 1\n",
    "    C = 2\n",
    "    D = 3\n",
    "\n",
    "    \n",
    "def classify_nv_orientation(p_mes, fit_meths=['lor_dip', 'lor_dip_2x'],\n",
    "                            f_res_classes=[2.907e9, 2.963e9, 3.029e9, 3.087e9], snr_thresh=10):\n",
    "    \"\"\"\n",
    "    fit meths should be ordered in the number of nvs they correscpond.\n",
    "    -> lor_dip, lor_dip_2x => n=[1,2]\n",
    "    \"\"\"\n",
    "    p = p_mes\n",
    "    nv_class = None\n",
    "    \n",
    "    chis = []\n",
    "    for fit in fit_meths:\n",
    "        if f\"fit_res_{fit}\" in p.keys():\n",
    "            chis.append(p[f\"fit_res_{fit}\"]['chi_sqr']['value'])\n",
    "    \n",
    "    i_chi = np.argmin(np.asarray(chis)) \n",
    "    n_nv = i_chi + 1\n",
    "    nv_classes = []\n",
    "    \n",
    "    for i_line in range(0, n_nv):\n",
    "        if n_nv <= 1:\n",
    "            f_res_i = p[f\"fit_res_{fit_meths[0]}\"]['Position']['value']\n",
    "        else:    \n",
    "            f_res_i = p[f\"fit_res_{fit_meths[i_chi]}\"][f'Position {i_line}']['value']\n",
    "\n",
    "        nv_class_i = find_closest(f_res_i, f_res_classes=f_res_classes)\n",
    "        nv_classes.append(NVClass(nv_class_i))\n",
    "    \n",
    "    for i_line in range(0, n_nv):\n",
    "        if not classify_has_odmr(p, nv_classes, fit_meths=fit_meths, snr_thresh=snr_thresh)[i_line]:\n",
    "            nv_classes[i_line] = NVClass.NO_ODMR\n",
    "\n",
    "    \"\"\"\n",
    "    # smaller chisqr: better fit\n",
    "    if chisqr_0 < chisqr_1:\n",
    "        f_res = p[f\"fit_res_{fit_meths[0]}\"]['Position']['value']\n",
    "        nv_class = [NVClass(find_closest(f_res, f_res_classes=f_res_classes))]\n",
    "        if not classify_has_odmr(p, nv_class, fit_meths=fit_meths, snr_thresh=snr_thresh)[0]:\n",
    "            nv_class = [NVClass.NO_ODMR]\n",
    "\n",
    "    else:\n",
    "        f_res_0 = p[f\"fit_res_{fit_meths[1]}\"]['Position 0']['value']\n",
    "        f_res_1 = p[f\"fit_res_{fit_meths[1]}\"]['Position 1']['value']\n",
    "        nv_class_0 = find_closest(f_res_0, f_res_classes=f_res_classes)\n",
    "        nv_class_1 = find_closest(f_res_1, f_res_classes=f_res_classes)\n",
    "\n",
    "        nv_class = [NVClass(nv_class_0), NVClass(nv_class_1)]\n",
    "\n",
    "        if not classify_has_odmr(p, nv_class, fit_meths=fit_meths, snr_thresh=snr_thresh)[0]:\n",
    "            nv_class[0] = NVClass.NO_ODMR\n",
    "        if not classify_has_odmr(p, nv_class, fit_meths=fit_meths, snr_thresh=snr_thresh)[1]:\n",
    "            nv_class[1] = NVClass.NO_ODMR\n",
    "    \"\"\"\n",
    "    return nv_classes\n",
    "        \n",
    "def classify_nv_orientation_all(p_in, fit_meths=['lor_dip', 'lor_dip_2x'],\n",
    "                            f_res_classes=[2.907e9, 2.963e9, 3.029e9, 3.087e9], snr_thresh=10):  \n",
    "    for p in p_in:\n",
    "        try:\n",
    "            nv_class = classify_nv_orientation(p, fit_meths=fit_meths, f_res_classes=f_res_classes, snr_thresh=snr_thresh)\n",
    "            p['nv_class'] = nv_class\n",
    "        except:\n",
    "            raise ValueError(f\"Failed classifiying file: {p_in['fname']}\")\n",
    "\n",
    "def calc_odmr_snr_areal(p_mes, nv_class, fit_meths=['lor_dip', 'lor_dip_2x'], linewidth_expect=[3e6, 50e6]):\n",
    "    \n",
    "    def punish_wrong_linewidth(fwhm, linewidth_limit=[0,np.inf]):\n",
    "        if fwhm < linewidth_limit[0] or fwhm > linewidth_limit[1]:\n",
    "            return fwhm * 0.05\n",
    "        \n",
    "        return fwhm\n",
    "        \n",
    "    p = p_mes\n",
    "    n_fres = len(([int(c) for c in nv_class]))\n",
    "  \n",
    "    if f\"fit_res_{fit_meths[0]}\" in p.keys() and f\"fit_res_{fit_meths[1]}\" in p.keys():\n",
    "        contr_single = p[f\"fit_res_{fit_meths[0]}\"]['Contrast']['value']\n",
    "        contr0 = p[f\"fit_res_{fit_meths[1]}\"]['Contrast 0']['value']\n",
    "        contr1 = p[f\"fit_res_{fit_meths[1]}\"]['Contrast 1']['value']\n",
    "        fwhm_single = p[f\"fit_res_{fit_meths[0]}\"]['FWHM']['value']\n",
    "        fwhm_0 = p[f\"fit_res_{fit_meths[1]}\"]['FWHM 0']['value']\n",
    "        fwhm_1 = p[f\"fit_res_{fit_meths[1]}\"]['FWHM 1']['value']\n",
    "        y = p['data']['z1']\n",
    "        \n",
    "        # todo: ugly hard coded punishment\n",
    "        fwhm_single = punish_wrong_linewidth(fwhm_single, linewidth_limit=linewidth_expect)\n",
    "        fwhm_0 = punish_wrong_linewidth(fwhm_0, linewidth_limit=linewidth_expect)\n",
    "        fwhm_1 = punish_wrong_linewidth(fwhm_1, linewidth_limit=linewidth_expect)\n",
    "        \n",
    "        \n",
    "        signal_single = contr_single * fwhm_single\n",
    "        signal0 = contr0 * fwhm_0\n",
    "        signal1 = contr1 * fwhm_1\n",
    "        \n",
    "        f_sampling = p['data']['tau'][1] - p['data']['tau'][0]\n",
    "        # noise in units of contrast\n",
    "        \n",
    "        noise_c = 1*np.std(y)/np.mean(y)*100\n",
    "        noise_area = noise_c * f_sampling\n",
    "        \n",
    "        #logger.debug(f\"noise: {noise_c}/{noise_area}, signal area: {signal_single}/ {signal0} / {signal1}\")\n",
    "        #logger.debug(f\"noise: {noise_c}/{noise_area/1e6}, fwhm: {fwhm_single/1e6}/ {fwhm_0/1e6} / {fwhm_1/1e6}, \\\n",
    "        #             contr {contr_single}, {contr0}, {contr1}\")\n",
    "        \n",
    "        \n",
    "        if n_fres <= 1:\n",
    "            return [signal_single/noise_area] \n",
    "        elif n_fres == 2:\n",
    "            signal = [None, None]\n",
    "            signal[0] = signal0/noise_area\n",
    "            signal[1] = signal1/noise_area\n",
    "            \n",
    "            return signal\n",
    "        else:\n",
    "            raise NotImplemented(\"Only can handle up to two resonance lines right now\")\n",
    "        \n",
    "        \n",
    "def classify_has_odmr(p_mes, nv_class, fit_meths=['lor_dip', 'lor_dip_2x'], snr_thresh=10):\n",
    "    \"\"\"\n",
    "    Compares the fit area against the one from the noise signal\n",
    "    \"\"\"\n",
    "    p = p_mes\n",
    "    found_odmr = None\n",
    " \n",
    "    n_fres = len(([int(c) for c in nv_class]))\n",
    "    #logger.debug(f\"Got nv class {nv_class} of len {n_fres}\")\n",
    "    \n",
    "    \n",
    "    if f\"fit_res_{fit_meths[0]}\" in p.keys() and f\"fit_res_{fit_meths[1]}\" in p.keys():\n",
    "\n",
    "        \n",
    "        if n_fres <= 1:\n",
    "            signal_single = calc_odmr_snr_areal(p, nv_class, fit_meths)[0]\n",
    "            found_odmr = [True] if signal_single > snr_thresh else [False]\n",
    "        elif n_fres == 2:\n",
    "            signal0, signal1 = calc_odmr_snr_areal(p, nv_class, fit_meths)\n",
    "            \n",
    "            found_odmr = [False, False]\n",
    "            if signal0 > snr_thresh:\n",
    "                found_odmr[0] = True\n",
    "            if signal1 > snr_thresh:\n",
    "                found_odmr[1] = True\n",
    "        else:\n",
    "            raise NotImplemented(\"Only can handle up to two resonance lines right now\")\n",
    "        \n",
    "        \n",
    "    return found_odmr  \n",
    "        \n",
    "\n",
    "def get_chisqr(p_mes, fit_meths=['lor_dip', 'lor_dip_2x']):\n",
    "    p = p_mes\n",
    "    if f\"fit_res_{fit_meths[0]}\" in p.keys() and f\"fit_res_{fit_meths[1]}\" in p.keys():\n",
    "        chisqr_0 = p[f\"fit_res_{fit_meths[0]}\"]['chi_sqr']['value']\n",
    "        chisqr_1 = p[f\"fit_res_{fit_meths[1]}\"]['chi_sqr']['value']\n",
    "            \n",
    "        idx_best_fit = np.argmin([chisqr_0, chisqr_1])\n",
    "        return np.min([chisqr_0, chisqr_1]), idx_best_fit\n",
    "    \n",
    "def find_closest(f_res, f_res_classes=[2.907e9, 2.963e9, 3.029e9, 3.087e9]):\n",
    "    return np.argmin(np.abs(f_res - np.asarray(f_res_classes)))\n",
    "        \n",
    "def get_n_odmr_lines(p_mes):   \n",
    "    \n",
    "    p = p_mes\n",
    "    nv_class = p['nv_class']\n",
    "    nv_class_unique = set(nv_class)\n",
    "    n_odmr_lines = len([c for c in nv_class_unique if int(c) >= 0])\n",
    "    \n",
    "    return n_odmr_lines\n",
    "\n",
    "def get_mes_for_nv(poi, all_mes, exp_name=None, nv_class=None):\n",
    "    \n",
    "    def by_name(p_mes):\n",
    "        found = False\n",
    "        \n",
    "        if exp_name == None and nv_class == None:\n",
    "            if p_mes['poi'] == poi:\n",
    "                found = True\n",
    "        elif exp_name == None and nv_class != None:\n",
    "            try:\n",
    "                if p_mes['poi'] == poi and p_mes['exp_on_fres'] == nv_class:\n",
    "                    found = True\n",
    "            except KeyError:\n",
    "                if nv_class == NVClass.NOT_CLASSIFIED:\n",
    "                    found = True\n",
    "        elif exp_name != None and nv_class != None:\n",
    "            try:\n",
    "                if p_mes['poi'] == poi and p_mes['exp_on_fres'] == nv_class and p_mes['experiment_name'] == exp_name:\n",
    "                    found = True\n",
    "            except KeyError:\n",
    "                if nv_class == NVClass.NOT_CLASSIFIED:\n",
    "                    found = True\n",
    "        else:\n",
    "            found = True if p_mes['poi'] == poi and p_mes['experiment_name'] == exp_name else False\n",
    "        \n",
    "        return found\n",
    "    \n",
    "    #if nv_class != None:\n",
    "    #    logger.debug(f\"Called exp_name: {exp_name} nv_class {nv_class}\")\n",
    "            \n",
    "    return list(filter(by_name, all_mes))\n",
    "\n",
    "def create_table(p_in_odmr, p_in_dd=[], name_tc_dd=['T2_he', 'T2_xy8'], name_exp_dd=['hahn_echo', 'xy8_n']):\n",
    "    \"\"\"\n",
    "    From lists of basis 'measurement per row' compile an output table with 'nv characteristics' per row\n",
    "    \"\"\"\n",
    "    table = []\n",
    "    \n",
    "    p_in_dd_flat = []\n",
    "    [p_in_dd_flat.extend(p_list) for p_list in p_in_dd] \n",
    "    p_in_dd = p_in_dd_flat\n",
    "        \n",
    "    for i, p in enumerate(p_in_odmr):\n",
    "        \n",
    "        # ODMR\n",
    "        nv_class = p['nv_class']\n",
    "        nv_class_unique = set(nv_class) \n",
    "        \n",
    "        # for pretty print, don't repeat non-classified results in output string\n",
    "        nv_class_str = [c.name for c in nv_class_unique]\n",
    "        if len(nv_class_str) > 1:\n",
    "            nv_class_str = [c.name for c in nv_class_unique if int(c) >= 0]\n",
    "        nv_class_str = str(nv_class_str)\n",
    "        \n",
    "        n_odmr_lines = get_n_odmr_lines(p)\n",
    "        \n",
    "        fit_chisqr, _ = get_chisqr(p)\n",
    "        fit_snr_list = calc_odmr_snr_areal(p, nv_class)\n",
    "        fit_snr_0 = None\n",
    "        fit_snr_1 = None\n",
    "        if len(fit_snr_list) == 1:\n",
    "            fit_snr_0 = fit_snr_list[0]\n",
    "        elif len(fit_snr_list) == 2:\n",
    "            fit_snr_0 = fit_snr_list[0]\n",
    "            fit_snr_1 = fit_snr_list[1]\n",
    "            \n",
    "        \n",
    "        row = {'idx': i,\n",
    "               'poi': p['poi'], \n",
    "               'nv_class': nv_class_str, \n",
    "               'nv_class_raw': nv_class, \n",
    "               'n_odmr': n_odmr_lines,\n",
    "               'odmr_chi_sqr': fit_chisqr,\n",
    "               'date_odmr': p['date']}\n",
    "        #\"\"\"\n",
    "        if fit_snr_0:\n",
    "            row['snr_0'] = fit_snr_0\n",
    "        if fit_snr_1:\n",
    "            row['snr_1'] = fit_snr_1\n",
    "        #\"\"\" \n",
    "        \n",
    "        # HAHN ECHO\n",
    "        #for i, exp_list in enumerate(p_in_dd):\n",
    "        for i, exp_name in enumerate(name_exp_dd):\n",
    "            try:\n",
    "                classes = [val for val in NVClass]\n",
    "                for nv_c in classes:\n",
    "                    p_dd = get_mes_for_nv(p['poi'], p_in_dd, exp_name, nv_c)\n",
    "                    val_class = nv_c #if (nv_c != NVClass.) else None \n",
    "                    if len(p_dd) == 1:\n",
    "                        nv_class = p_dd[0]['exp_on_fres'].name\n",
    "                        label = f'{name_tc_dd[i]} (us)'\n",
    "                        val = [(1e6*p_dd[0][f\"fit_res_{name_tc_dd[i]}\"]['Lifetime']['value'], val_class)]\n",
    "                        if label not in row.keys():\n",
    "                            row[label] = val                                \n",
    "                        else:\n",
    "                            row[label] = row[label] + val\n",
    "                        #row[f'{name_tc_dd[i]}_nv_class'] = nv_class\n",
    "                    elif len(p_dd) == 0:\n",
    "                        pass\n",
    "                    else:\n",
    "                        logger.warning(f\"Found and ignored > 1 he files for poi {p['poi']}. Filter while loading data!\")\n",
    "            except:\n",
    "                logger.exception(f\"Error on poi {p['poi']}, exp: {exp_name}: \")\n",
    "                \n",
    "        table.append(row)\n",
    "    \n",
    "    df = pd.DataFrame(table)\n",
    "      \n",
    "    return df\n",
    "\n",
    "def handle_duplicate_all_mes(all_p_mes, mode='newer'):\n",
    "    new_all = copy.deepcopy(all_p_mes)\n",
    "    for p in all_p_mes:\n",
    "        len_old = len(new_all)\n",
    "        new_all = handle_duplicate_mes(p, new_all, mode=mode)\n",
    "        #logger.debug(f\"for {p['poi']}, {p['date']}, {p['experiment_name']}. len: {len_old} => {len(new_all)}\")\n",
    "    return new_all\n",
    "\n",
    "\n",
    "def handle_duplicate_mes(p_mes, all_p_mes, mode='newer'):\n",
    "    # delte duplicates and add to 'all mes' list \n",
    "    \n",
    "    pois = [p['poi'] for p in all_p_mes]\n",
    "    # for performance, skip if no decision can be made\n",
    "    if p_mes['poi'] not in pois:\n",
    "        return all_p_mes\n",
    "    if p_mes['experiment_name'] == None:\n",
    "        return all_p_mes\n",
    "    \n",
    "    def newer(ex_mes):\n",
    "        \"\"\"\n",
    "        Sort out (return False) elements with same poi && experiment name, but older date\n",
    "        \"\"\"\n",
    "        if ex_mes['poi'] == p_mes['poi'] and ex_mes['experiment_name'] == p_mes['experiment_name']:\n",
    "            # break if on different nv class\n",
    "            #\"\"\"\n",
    "            if 'exp_on_fres' in ex_mes.keys() and 'exp_on_fres' in p_mes.keys():\n",
    "                if ex_mes['exp_on_fres'] != p_mes['exp_on_fres']:\n",
    "                    return True\n",
    "            #\"\"\" \n",
    "            if ex_mes['date'] > p_mes['date']:\n",
    "                return True\n",
    "            return False\n",
    "        else:\n",
    "            return True\n",
    "    \n",
    "    def is_dupl(ex_mes):\n",
    "        if ex_mes['poi'] == p_mes['poi'] and ex_mes['experiment_name'] == p_mes['experiment_name']:\n",
    "            if 'exp_on_fres' in ex_mes.keys() and 'exp_on_fres' in p_mes.keys():\n",
    "                if ex_mes['exp_on_fres'] != p_mes['exp_on_fres']:\n",
    "                    return False\n",
    "            if ex_mes['date'] > p_mes['date']:\n",
    "                return False\n",
    "            return True\n",
    "            \n",
    "        return False\n",
    "        \n",
    "    \n",
    "    if mode == 'newer':\n",
    "        # delete older mes with same poi && name && orientation (if available)\n",
    "        all_p_mes = list(filter(newer, all_p_mes))\n",
    "    elif mode == 'all':\n",
    "        pass\n",
    "    else:\n",
    "        raise ValueError(f\"Unknown mode: {mode}\")\n",
    "    \n",
    "    if mode == 'newer' or mode == 'all':\n",
    "        if not any(map(is_dupl, all_p_mes)):\n",
    "            all_p_mes.append(p_mes)    \n",
    "    \n",
    "    return all_p_mes\n",
    "\n",
    "def create_header_comment(settings_dict):\n",
    "    out_str = f\"\"\n",
    "    date = datetime.datetime.now().strftime(\"%Y/%m/%d, %H:%M:%S \\n\")\n",
    "    out_str = f\"# analysis on: {date}\"\n",
    "    for key, val in settings_dict.items():\n",
    "        out_str += f\"# {key}: {val}\"\n",
    "        out_str += \"\\n\"\n",
    "    \n",
    "    return out_str\n",
    "\n",
    "from collections import Iterable\n",
    "def float2string(input):\n",
    "    \"\"\"convert float to string for printing\n",
    "    \"\"\"\n",
    "    if isinstance(input, Iterable):\n",
    "        return list(map(float2string, input))\n",
    "    else:\n",
    "        if input is None:\n",
    "            return None\n",
    "        else:\n",
    "            if isinstance(input, NVClass):\n",
    "                return f\"{input.name}\"\n",
    "            elif float(input).is_integer():\n",
    "                return \"{}\".format(input)\n",
    "            else:\n",
    "                return \"{:.2f}\".format(input)\n",
    "\n",
    "def mean_of_list(cell):\n",
    "    if isinstance(cell, Iterable):\n",
    "        #logger.debug(f\"Iterable: {cell}\")\n",
    "        return np.nanmean(list(map(mean_of_list, cell)))\n",
    "    else:\n",
    "        if cell is None:\n",
    "            return 0\n",
    "        else:\n",
    "            if isinstance(cell, NVClass):\n",
    "                return np.nan\n",
    "            else:\n",
    "                return float(cell)\n",
    "\n",
    "def flatten_floats_only(cell):\n",
    "    def _flatten(cell):\n",
    "        if isinstance(cell, Iterable):\n",
    "            #logger.debug(f\"Iterable: {cell}\")\n",
    "            a = list(map(_flatten, cell))\n",
    "\n",
    "            #a = [item for sublist in a for item in sublist]\n",
    "            return a\n",
    "        else:\n",
    "            if cell is None:\n",
    "                return None\n",
    "            else:\n",
    "                if isinstance(cell, NVClass):\n",
    "                    return None\n",
    "                else:\n",
    "                    return float(cell)\n",
    "    \n",
    "    a = _flatten(cell)\n",
    "    a = [item for sublist in a for item in sublist]\n",
    "    a = [item for sublist in a for item in sublist]\n",
    "    a = [item for item in a if item != None]\n",
    "    return a\n",
    "            \n",
    "def mean_of_list_2(cell):\n",
    "    # non recursive, slightly less powerfull\n",
    "    if isinstance(cell, Iterable):\n",
    "        #logger.debug(f\"Iterable: {cell}\")\n",
    "        new_cell = []\n",
    "        for el in cell:\n",
    "            if isinstance(el, NVClass):\n",
    "                el = np.nan\n",
    "            else:\n",
    "                el = el\n",
    "            new_cell.append(el)\n",
    "                    \n",
    "        return np.average(np.nanmean(new_cell).flatten())\n",
    "    else:\n",
    "        return float(cell)\n",
    "    \n",
    "def sort_by_key(df, column, key, ascending=False, drop_nan=False):\n",
    "    # no idea why not working\n",
    "    #return df.loc[(df[column].map(key)).argsort()]\n",
    "    \n",
    "    df[f'{str(column)}_temp'] = df[column].map(key)\n",
    "    df = df.sort_values(by=f\"{str(column)}_temp\")\n",
    "    if drop_nan:\n",
    "        df = df.dropna(subset=[column])\n",
    "    df.drop(f\"{str(column)}_temp\", axis=1)\n",
    "    \n",
    "    if ascending:\n",
    "        return df[::-1]\n",
    "    return df\n",
    "\n",
    "\n",
    "def plot_odmr(p_mes, f_res_classes=[2.907e9, 2.963e9, 3.029e9, 3.087e9],\n",
    "              fit_meths=['lor_dip', 'lor_dip_2x'], y_offset=0,\n",
    "              fig=None, no_nvclass_legend=False, no_poi_legend=False):\n",
    "    \n",
    "    if fig == None:\n",
    "        plt.figure()\n",
    "    \n",
    "    poi = p_mes['poi']\n",
    "    fit_chisqr = p_mes[f\"fit_res_{fit_meths[0]}\"]['chi_sqr']['value']\n",
    "    nv_class = p_mes['nv_class']\n",
    "    odmr_snr = calc_odmr_snr_areal(p_mes, nv_class)\n",
    "\n",
    "    x = np.asarray(p_mes['data']['tau'])\n",
    "    y = p_mes['data']['z1'] + y_offset\n",
    "    #poi_id = mes['file'].split('nv_')[2].split(\"\\\\\")[0]\n",
    "        \n",
    "    label = f\"{poi}\" if not no_poi_legend else None\n",
    "    snr_str = f\"{odmr_snr[0]:.1f}/ {odmr_snr[1]:.1f}\" if len(odmr_snr) == 2 else f\"{odmr_snr}\"\n",
    "    title = fr\"class= {[c.name for c in nv_class]}, snr= {snr_str}, $\\chi^2$= {fit_chisqr:.3f}\"\n",
    "    \n",
    "    plt.autoscale(True)\n",
    "    plt.plot(x/1e6,y, label=label, marker=\"\")\n",
    "    plt.title(title)\n",
    "    \n",
    "    # lines for NV orientation classes\n",
    "    for i, f in enumerate(f_res_classes):\n",
    "        if not no_nvclass_legend:\n",
    "            plt.axvline(f/1e6, label=f\"{NVClass(i).name}\", alpha=0.4+i*0.1, color='grey')\n",
    "        else:\n",
    "            plt.axvline(f/1e6, alpha=0.5, color='grey')\n",
    "    # plot estimated noise level used for \"no odmr\" classification\n",
    "    noise = 1*np.std(y)\n",
    "    mean = np.median(y)\n",
    "    y0,y1 = mean - noise/2, mean + noise/2\n",
    "    plt.fill_between(x/1e6, y0, y1, alpha=0.2, color='orange')\n",
    "\n",
    "    # plot fit\n",
    "    x = p_mes['fit_values']['x']\n",
    "    y = p_mes['fit_values']['y']\n",
    "    plt.autoscale(False)\n",
    "    plt.plot(x/1e6, y + y_offset, marker=\"\", color='orange', alpha=0.8)    #plt.autoscale(True)\n",
    "    plt.xlabel(r\"f (MHz)\")\n",
    "    \n",
    "def plot_decay(p_mes, exp_name=\"T2_he\",\n",
    "              fit_meth='decay_exp', y_offset=0,\n",
    "              fig=None):\n",
    "    \n",
    "    if fig == None:\n",
    "        plt.figure()\n",
    "    \n",
    "    poi = p_mes['poi']\n",
    "\n",
    "    x = p_mes['data']['tau']\n",
    "    delta = p_mes['data']['z1'] - p_mes['data']['z2']\n",
    "    y = delta + y_offset\n",
    "    #poi_id = mes['file'].split('nv_')[2].split(\"\\\\\")[0]\n",
    "    \n",
    "    t2 = p_mes[f'fit_res_{exp_name}']['Lifetime']['value']\n",
    "    fit_offset = p_mes[f'fit_res_{exp_name}']['offset'].value\n",
    "    fit_ampl =  p_mes[f'fit_res_{exp_name}']['amplitude'].value\n",
    "    label = f\"{p_mes['exp_on_fres'].name}: {exp_name}= {1e6*t2:.2f} us, ampl= {fit_ampl:.3f}\"\n",
    "    if fit_offset != 0.:\n",
    "        label += f\"offset= {fit_offset:.3f}\"\n",
    "    \n",
    "    \n",
    "    title = f\"{poi}\"\n",
    "    plt.plot(1e6*x,y, label=label, marker=\"\")\n",
    "    plt.title(title)\n",
    "    plt.xlabel(r\"t ($\\mu s$)\")\n",
    "    \n",
    "    # plot fit\n",
    "    x = p_mes['fit_values']['x']\n",
    "    y = p_mes['fit_values']['y']\n",
    "    plt.plot(1e6*x, y + y_offset, marker=\"\", color='orange', alpha=0.8)\n",
    "\n",
    "\n",
    "0"
   ]
  },
  {
   "cell_type": "markdown",
   "metadata": {},
   "source": [
    "# Load qudi pulsed data"
   ]
  },
  {
   "cell_type": "code",
   "execution_count": null,
   "metadata": {
    "scrolled": true
   },
   "outputs": [],
   "source": [
    "fname = r\"E:\\Data\\2022\\03\\20220310\\PulsedMeasurement\\nv_nv_20220221_80\\shaped_exps\\CNOT_by_DEER\" + \"\\\\\" \\\n",
    "        + \"20220310-1433-27_deer_dd_tau_pulsed_measurement.dat\"\n",
    "\n",
    "#fname = r\"E:\\Data\\2022\\01\\20220104\\PulsedMeasurement\\t2_he_all_roi\\roi_south_of_wire\\nv_nv_mayd_20211223_47_triple\\\\20220108-0530-36_podmr_coarse_nv_nv_mayd_20211223_47_pulsed_measurement.dat\"\n",
    "\n",
    "fname = os.path.normpath(fname)\n",
    "p_data = Tk_file.load_pulsed_result(fname)\n",
    "fname"
   ]
  },
  {
   "cell_type": "code",
   "execution_count": null,
   "metadata": {
    "scrolled": true
   },
   "outputs": [],
   "source": [
    "# helps sometimes to get output from print - nevertheless need the cell run 5-10 times!\n",
    "old_stdout = sys.stdout\n",
    "old_stdout"
   ]
  },
  {
   "cell_type": "markdown",
   "metadata": {},
   "source": [
    "# Plot in qudi plot"
   ]
  },
  {
   "cell_type": "markdown",
   "metadata": {},
   "source": [
    "Need to activate qdplotgui first!"
   ]
  },
  {
   "cell_type": "markdown",
   "metadata": {},
   "source": [
    "## Only z1"
   ]
  },
  {
   "cell_type": "code",
   "execution_count": null,
   "metadata": {
    "scrolled": true
   },
   "outputs": [],
   "source": [
    "x = np.asarray(p_data['data']['tau'])\n",
    "z1 =  np.asarray(p_data['data']['z1'])\n",
    "z2 = None\n",
    "fft_x, fft_delta = compute_ft(x_val=x,\n",
    "                          y_val=z1)\n",
    "\n",
    "qdplotlogic.set_data(x, z1)\n",
    "qdplotlogic.set_data(fft_x, fft_delta, plot_index=1)\n"
   ]
  },
  {
   "cell_type": "code",
   "execution_count": null,
   "metadata": {
    "scrolled": true
   },
   "outputs": [],
   "source": [
    "p_data['data']"
   ]
  },
  {
   "cell_type": "markdown",
   "metadata": {},
   "source": [
    "## Alternating: z1,z2; Delta (z1-z2); FFT(Delta) trace"
   ]
  },
  {
   "cell_type": "code",
   "execution_count": null,
   "metadata": {
    "scrolled": true
   },
   "outputs": [],
   "source": [
    "x = np.asarray(p_data['data']['tau'])\n",
    "z1 =  np.asarray(p_data['data']['z1'])\n",
    "z2 = np.asarray(p_data['data']['z2'])\n",
    "fft_x, fft_delta = compute_ft(x_val=x,\n",
    "                          y_val=z1-z2)\n",
    "\n",
    "qdplotlogic.set_data(x, z1)\n",
    "qdplotlogic.set_data(x, z2, clear_old=False)\n",
    "\n",
    "qdplotlogic.set_data(x, z1-z2, plot_index=1)\n",
    "\n",
    "qdplotlogic.set_data(fft_x, fft_delta, plot_index=2)\n"
   ]
  },
  {
   "cell_type": "markdown",
   "metadata": {},
   "source": [
    "## Double alternating"
   ]
  },
  {
   "cell_type": "markdown",
   "metadata": {},
   "source": [
    "Four z per tau [(tau_i, tau_i, tau_i, tau_i), (tau_i+1, tau_i+1, ...), ..]:\n",
    "\n",
    "\n",
    "    tau_i_1: normal        | -> z1  \n",
    "    tau_i_2: normal 3pi2   |\n",
    "    tau_i_3: no DEER pi    | -> z2\n",
    "    tau_i_4: no DEER 3pi2  |\n",
    "\n",
    "\n"
   ]
  },
  {
   "cell_type": "code",
   "execution_count": null,
   "metadata": {
    "scrolled": true
   },
   "outputs": [],
   "source": [
    "x = np.asarray(p_data['tau'])[::2]\n",
    "z_raw_1 =  np.asarray(p_data['z1'])   # tau_i_1, tau_i_3\n",
    "z_raw_2 = np.asarray(p_data['z2'])    # tau_i_2, tau_i_4\n",
    "delta_raw = z_raw_1-z_raw_2\n",
    "z1 = delta_raw[::2]  # deer\n",
    "z2 = delta_raw[1::2] # no deer\n",
    "delta = z1-z2\n",
    "\n",
    "fft_x, fft_z1 = compute_ft(x_val=x,\n",
    "                          y_val=z1)\n",
    "fft_x, fft_z2 = compute_ft(x_val=x,\n",
    "                          y_val=z2)\n",
    "\n",
    "setup_clear_plots(3)\n",
    "\n",
    "#qdplotlogic.set_data(x, z1)\n",
    "#qdplotlogic.set_data(x, z2, clear_old=False)\n",
    "#qdplotlogic.set_title(\"Z1: DEER, Z2: no DEER\")\n",
    "\n",
    "qdplotlogic.set_data(x, z2)\n",
    "qdplotlogic.set_data(x, z1, clear_old=False)\n",
    "qdplotlogic.set_title(\"Z1: no DEER, Z2: DEER\")\n",
    "\n",
    "qdplotlogic.set_data(fft_x, fft_z1, plot_index=1)\n",
    "qdplotlogic.set_title(\"FFT(DEER)\", plot_index=1)\n",
    "qdplotlogic.set_data(fft_x, fft_z2, plot_index=2)\n",
    "qdplotlogic.set_title(\"FFT(no DEER)\", plot_index=2)\n",
    "0"
   ]
  },
  {
   "cell_type": "markdown",
   "metadata": {},
   "source": [
    "### Single z1, z2 for deer, no deer"
   ]
  },
  {
   "cell_type": "code",
   "execution_count": null,
   "metadata": {
    "scrolled": true
   },
   "outputs": [],
   "source": [
    "detail_nodeer_plot = False\n",
    "detail_deer_plot = not detail_nodeer_plot\n",
    "\n",
    "# plot pi2, 3pi2: DEER\n",
    "z_deer = z_raw_1[::2]\n",
    "z_deer_3pi2 = z_raw_2[::2]\n",
    "\n",
    "#  plot pi2, 3pi2: no DEER\n",
    "z_nodeer = z_raw_1[1::2]\n",
    "z_nodeer_3pi2 = z_raw_2[1::2]\n",
    "\n",
    "if detail_deer_plot:\n",
    "    z1 = z_deer\n",
    "    z2 = z_deer_3pi2\n",
    "if detail_nodeer_plot:\n",
    "    z1 = z_nodeer\n",
    "    z2 = z_nodeer_3pi2\n",
    "\n",
    "setup_clear_plots(5)\n",
    "    \n",
    "qdplotlogic.set_data(x, z1)\n",
    "qdplotlogic.set_data(x, z2, clear_old=False)\n",
    "qdplotlogic.set_title(\"Z1: pi2 read, Z2: 3pi2 read\")\n",
    "qdplotlogic.set_data(x, z1-z2, plot_index=1)\n",
    "qdplotlogic.set_title(\"Delta: Z1-Z2\", plot_index=1)\n",
    "\n",
    "fft_x, fft_z1 = compute_ft(x_val=x,\n",
    "                          y_val=z1)\n",
    "fft_x, fft_z2 = compute_ft(x_val=x,\n",
    "                          y_val=z2)\n",
    "fft_x, fft_delta = compute_ft(x_val=x,\n",
    "                          y_val=z1-z2)\n",
    "\n",
    "qdplotlogic.set_data(fft_x, fft_z1, plot_index=2)\n",
    "qdplotlogic.set_title(\"FFT(Z1)\", plot_index=2)\n",
    "qdplotlogic.set_data(fft_x, fft_z2, plot_index=3)\n",
    "qdplotlogic.set_title(\"FFT(Z2)\", plot_index=3)\n",
    "qdplotlogic.set_data(fft_x, fft_delta, plot_index=4)\n",
    "qdplotlogic.set_title(\"FFT(Z1-Z2)\", plot_index=4)"
   ]
  },
  {
   "cell_type": "markdown",
   "metadata": {},
   "source": [
    "# Qudi data series"
   ]
  },
  {
   "cell_type": "markdown",
   "metadata": {},
   "source": [
    "## Load multiple 1d"
   ]
  },
  {
   "cell_type": "code",
   "execution_count": null,
   "metadata": {
    "scrolled": true
   },
   "outputs": [],
   "source": [
    "p_raw, x, y, fnames = [], [], [], []\n",
    "\n",
    "inpath = r\"E:\\Data\\2022\\03\\20220310\\PulsedMeasurement\\nv_nv_20220221_80\\shaped_exps\\CNOT_by_DEER\\duplicated_for_plot\"\n",
    "#inpath = r\"E:\\Data\\2021\\10\\20211026\\PulsedMeasurement\\rnovel_vs_p_1\"\n",
    "\n",
    "filter_strs = ['pulsed_measurement', '.dat']\n",
    "#filter_strs += ['podmr_fine']\n",
    "\n",
    "fnames = Tk_file.list_mult_pulsed_mes(inpath, filter_strs=filter_strs, incl_subdir=True)\n",
    "\n",
    "\n",
    "for f in fnames:\n",
    "    #p_i = Tk_file.load_pulsed_metadata(f)\n",
    "    #p_i = {**p_i, **{'file': f, 'data':Tk_file.load_pulsed_result(f)['data']}}\n",
    "    #p_i = Tk_file.load_pulsed_result(f)\n",
    "    p_i = Tk_file.load_pulsed_result(f)\n",
    "    p_raw.append(p_i)\n",
    "\n",
    "data = load_pulsed_result(p_raw[1]['file'])\n"
   ]
  },
  {
   "cell_type": "code",
   "execution_count": null,
   "metadata": {
    "scrolled": true
   },
   "outputs": [],
   "source": [
    "inpath"
   ]
  },
  {
   "cell_type": "code",
   "execution_count": null,
   "metadata": {
    "scrolled": true
   },
   "outputs": [],
   "source": [
    "p_raw[-1]['date'], len(fnames)"
   ]
  },
  {
   "cell_type": "code",
   "execution_count": null,
   "metadata": {
    "scrolled": true
   },
   "outputs": [],
   "source": [
    "p_raw[3]['file']"
   ]
  },
  {
   "cell_type": "markdown",
   "metadata": {},
   "source": [
    "## Load 2d data series"
   ]
  },
  {
   "cell_type": "markdown",
   "metadata": {},
   "source": [
    "that can be placed in a 2d array, because they share x axis"
   ]
  },
  {
   "cell_type": "code",
   "execution_count": null,
   "metadata": {
    "scrolled": true
   },
   "outputs": [],
   "source": [
    "p_raw, x, y, fnames = [], [], [], []\n",
    "\n",
    "inpath = r\"E:\\Data\\2022\\03\\20220314\\PulsedMeasurement\\dqt_6x_hfs_alternating_vs_p_2\"\n",
    "\n",
    "fnames = Tk_file.list_mult_pulsed_mes(inpath, incl_subdir=True)\n",
    "\n",
    "for f in fnames:\n",
    "    #p_i = Tk_file.load_pulsed_metadata(f)\n",
    "    #p_i = {**p_i, **{'file': f, 'data':Tk_file.load_pulsed_result(f)['data']}}\n",
    "    #p_i = Tk_file.load_pulsed_result(f)\n",
    "    p_i = Tk_file.load_pulsed_result(f)\n",
    "    p_raw.append(p_i)\n",
    "\n",
    "data = Tk_file.load_pulsed_result(p_raw[0]['file'])\n",
    "#Put onto 2d grid: Every row a single pulsed result\n",
    "x, y, z1s, z2s = pulsed_series_2_array(p_raw, idx_var_y=-1, ordered_y=True)\n",
    "p_raw[-1]['file']"
   ]
  },
  {
   "cell_type": "code",
   "execution_count": null,
   "metadata": {
    "scrolled": true
   },
   "outputs": [],
   "source": [
    "p_raw[-1]['date'], p_raw[0]['date'], y"
   ]
  },
  {
   "cell_type": "code",
   "execution_count": null,
   "metadata": {
    "scrolled": true
   },
   "outputs": [],
   "source": [
    "z2s"
   ]
  },
  {
   "cell_type": "markdown",
   "metadata": {},
   "source": [
    "## Plot multiple 1d"
   ]
  },
  {
   "cell_type": "code",
   "execution_count": null,
   "metadata": {
    "scrolled": true
   },
   "outputs": [],
   "source": [
    "#get_z(p_raw[0], mode='delta')"
   ]
  },
  {
   "cell_type": "code",
   "execution_count": null,
   "metadata": {
    "scrolled": true
   },
   "outputs": [],
   "source": [
    "plot_mode = \"z1\"\n",
    "offset = 0\n",
    "\"\"\"\n",
    "\"21_1\",  \"20_7\", \"20_2\", \"20_4\"\n",
    "for i, mes in enumerate(p_raw):\n",
    "#    if \"20_7, 20_11\" in mes['file']:\n",
    "        x_i = mes['data']['tau']\n",
    "        y_i = offset*i + get_z(mes, mode=plot_mode)\n",
    "        poi_id = mes['file'].split('nv_')[2].split(\"\\\\\")[0]\n",
    "        plt.plot(x_i, y_i, label=f\"{poi_id}\")\n",
    "plt.legend()\n",
    "\"\"\"\n",
    "#\"\"\"\n",
    "plt.figure(figsize=(6,4))\n",
    "for i, mes in enumerate(p_raw):\n",
    "    #if \"20_4\" in mes['file'] or \"20_7\" in mes['file']  or \"20_2\" in mes['file']  or \"21_1\" in mes['file'] :\n",
    "    x_i = mes['data']['tau']*1e6*15*8 +2\n",
    "    y_i = offset*i + get_z(mes, mode=plot_mode)\n",
    "    #poi_id = mes['file'].split('nv_')[2].split(\"\\\\\")[0]\n",
    "    poi_id = int(not(i))\n",
    "    color=None\n",
    "    if i==0:\n",
    "        color = '#a51cb3ff'\n",
    "    elif i==1:\n",
    "        color = \"#b35a1df7\"\n",
    "    \n",
    "    plt.scatter(x_i, y_i, label=f\"control= |{poi_id}>\", alpha=0.8, color=color)\n",
    "    plt.plot(x_i, y_i, label='_nolegend_', color=color, marker=\"\", alpha= 0.4)\n",
    "#\"\"\"\n",
    "\n",
    "#plt.plot(x_i, np)\n",
    "plt.xlabel(\"t_evol (us)\")\n",
    "plt.ylabel(\"signal\")\n",
    "plt.legend()\n",
    "plt.show()\n",
    "0"
   ]
  },
  {
   "cell_type": "code",
   "execution_count": null,
   "metadata": {
    "scrolled": true
   },
   "outputs": [],
   "source": [
    "plt.scatter(1,1)\n",
    "plt.show()"
   ]
  },
  {
   "cell_type": "markdown",
   "metadata": {},
   "source": [
    "## Plot 2d color map"
   ]
  },
  {
   "cell_type": "code",
   "execution_count": null,
   "metadata": {
    "scrolled": true
   },
   "outputs": [],
   "source": [
    "z2s[0]"
   ]
  },
  {
   "cell_type": "code",
   "execution_count": null,
   "metadata": {
    "scrolled": true
   },
   "outputs": [],
   "source": [
    "scale_fac = [1e6, 1]\n",
    "#scale_fac = [1, 1]\n",
    "#scale_fac = [1e-6, 1]\n",
    "extent = [x[0]*scale_fac[0], x[-1]*scale_fac[0], y[0]*scale_fac[1], y[-1]*scale_fac[1]]\n",
    "#plot_labels = [\"t (us)\", \"ise ampl (mV)\"]\n",
    "#plot_labels = [\"f (MHz)\", \"time (s)\"]\n",
    "plot_labels = [\"t (us)\", \"ampl (mV)\"]\n",
    "#plot_labels = [\"depol steps ( )\", \"df (MHz)\"]\n",
    "#plot_labels = [\"depol steps ( )\", \"sweep speed (MHz/us)\"]\n",
    "#plot_labels = [\"depol steps ( )\", \"dd order (mV)\"]\n",
    "\n",
    "\n",
    "idx_cut_y = 12\n",
    "idx_cut_x = 1\n",
    "cut_mode = \"delta_norm\"\n",
    "cut_mode = \"z1\"\n",
    "\n",
    "try:\n",
    "    try:\n",
    "        x[idx_cut_x]\n",
    "    except IndexError:\n",
    "        idx_cut_x = 0\n",
    "    try:\n",
    "        y[idx_cut_y]\n",
    "    except IndexError:\n",
    "        idx_cut_y = 0\n",
    "\n",
    "\n",
    "    if not np.any(np.isnan(z2s[0])):\n",
    "        delta_norm = (z1s-z2s)/np.average(z1s, axis=1)[:,None]\n",
    "        z1_norm = (z1s)/np.average(z1s, axis=1)[:,None]\n",
    "        z2_norm = (z2s)/np.average(z2s, axis=1)[:,None]\n",
    "        plot_mode = \"delta_norm\"\n",
    "    else:\n",
    "        z1_norm = (z1s)/np.average(z1s, axis=1)[:,None]\n",
    "        delta_norm = z1_norm\n",
    "        plot_mode = \"z1_norm\"\n",
    "\n",
    "    #plt.figure(figsize=(5,3.5))\n",
    "\n",
    "    plt.figure(figsize=(9,4))\n",
    "    plt.subplot(121)\n",
    "    plt.title(f\"{plot_mode}\")\n",
    "    plt.imshow(delta_norm, \n",
    "               extent=extent, aspect='auto', origin='lower', cmap=\"plasma\"\n",
    "              #,vmin=0.14\n",
    "              #,vmax=0.2\n",
    "              )\n",
    "\n",
    "    if cut_mode == \"delta_norm\":\n",
    "        plt.axvline(x[idx_cut_x]*scale_fac[0])\n",
    "        plt.axhline(y[idx_cut_y]*scale_fac[1], color='red')\n",
    "    plt.xlabel(plot_labels[0])\n",
    "    plt.ylabel(plot_labels[1])\n",
    "    plt.colorbar()\n",
    "\n",
    "\n",
    "    #plt.ylim(6.6,10)\n",
    "\n",
    "    plt.subplot(122)\n",
    "    plt.title(\"z1\")\n",
    "    plt.imshow(z1s, \n",
    "               extent=extent, aspect='auto', origin='lower', cmap=\"plasma\"\n",
    "              #,vmin=0.85\n",
    "              )\n",
    "\n",
    "    if cut_mode == \"z1\":\n",
    "        plt.axvline(x[idx_cut_x]*scale_fac[0])\n",
    "        plt.axhline(y[idx_cut_y]*scale_fac[1], color='red')\n",
    "    plt.xlabel(plot_labels[0])\n",
    "    plt.ylabel(plot_labels[1])\n",
    "    plt.colorbar()\n",
    "\n",
    "\n",
    "    plt.tight_layout()\n",
    "    plt.show()\n",
    "\n",
    "    # plot cuts\n",
    "    if cut_mode == \"delta_norm\":\n",
    "        zcut = delta_norm\n",
    "    else:\n",
    "        zcut = z1s\n",
    "\n",
    "    plt.figure(figsize=(9,3))\n",
    "    plt.subplot(121)\n",
    "    plt.plot(x*scale_fac[0], zcut[idx_cut_y,:], label=f\"y={y[idx_cut_y]*scale_fac[1]:.2f}\", color='red')\n",
    "    plt.xlabel(plot_labels[0])\n",
    "    plt.legend()\n",
    "\n",
    "    plt.subplot(122)\n",
    "    plt.plot(y*scale_fac[1], zcut[:,idx_cut_x], label=f\"x={x[idx_cut_x]*scale_fac[0]:.2f}\")\n",
    "    plt.xlabel(plot_labels[1])\n",
    "    plt.legend()\n",
    "\n",
    "\n",
    "\n",
    "    plt.tight_layout()\n",
    "    plt.show()\n",
    "except:\n",
    "    logger.exception(\"\")"
   ]
  },
  {
   "cell_type": "markdown",
   "metadata": {},
   "source": [
    "### FFT analysis"
   ]
  },
  {
   "cell_type": "code",
   "execution_count": null,
   "metadata": {
    "scrolled": true
   },
   "outputs": [],
   "source": [
    "plt.figure(figsize=(12,4))\n",
    "plt.subplot(121)\n",
    "# 2d fft\n",
    "ftimage = np.fft.fft2(z1s)\n",
    "ftimage = np.fft.fftshift(ftimage)\n",
    "plt.title(\"2D FFT\")\n",
    "plt.imshow(np.abs(ftimage), vmax=20, aspect='auto')\n",
    "plt.colorbar()\n",
    "\n",
    "# fft per line\n",
    "fft_rows = []\n",
    "fft_x = None\n",
    "\n",
    "if cut_mode == \"delta_norm\":\n",
    "    zs = delta_norm\n",
    "elif cut_mode == 'z1':\n",
    "    zs = z1s\n",
    "for idx_row, row in enumerate(zs):\n",
    "    fft_x, fft_delta = compute_ft(x_val=x, y_val=row)\n",
    "    fft_rows.append(fft_delta)\n",
    "\n",
    "plt.subplot(122)\n",
    "plt.title(f\"FFT per {cut_mode} row\")\n",
    "extent = [fft_x[0]/scale_fac[0], fft_x[-1]/scale_fac[0], y[0]*scale_fac[1], y[-1]*scale_fac[1]]\n",
    "plt.imshow(fft_rows, origin='lower', extent=extent, aspect='auto'\n",
    "          #,vmax=0.05\n",
    "          #,vmin=0.01\n",
    "          )\n",
    "plt.xlim([0,30])\n",
    "plt.ylabel(plot_labels[1])\n",
    "plt.xlabel(f\"1/({plot_labels[0]})\")\n",
    "plt.colorbar()\n",
    "plt.show()"
   ]
  },
  {
   "cell_type": "code",
   "execution_count": null,
   "metadata": {
    "scrolled": true
   },
   "outputs": [],
   "source": [
    "len(row)"
   ]
  },
  {
   "cell_type": "markdown",
   "metadata": {},
   "source": [
    "## Fit on series"
   ]
  },
  {
   "cell_type": "code",
   "execution_count": null,
   "metadata": {
    "scrolled": true
   },
   "outputs": [],
   "source": [
    "\n",
    "\"\"\"\n",
    "y_val_idx = -1\n",
    "x_val = \"ampl\"\n",
    "x_unit = \"mV\"\n",
    "scale_fac_x = [1]\n",
    "scale_fac_y = [1e6, 1e-6, 1e-6]\n",
    "fit_on = 'delta'\n",
    "fit_meth = 'sine_2x'\n",
    "fit_vals = ['Lifetime', 'Frequency 1', 'Frequency 2']\n",
    "fit_units = ['us','MHz', 'MHz']\n",
    "calc_dxdy_fromto = [(0,-1), (1,-1), False]\n",
    "\"\"\"\n",
    "\"\"\"\n",
    "y_val_idx = None\n",
    "x_val = \"Time\"\n",
    "x_unit = \"h\"\n",
    "scale_fac_x = [1/3600.]\n",
    "scale_fac_y = [1e-6, 1, 1]\n",
    "fit_on = 'z1'\n",
    "fit_meth = 'lor_dip'\n",
    "fit_vals = ['Position', 'Contrast', 'offset']\n",
    "fit_units = ['MHz','%', 'a.u.']\n",
    "calc_dxdy_fromto = [False, (0,30), (0,30)]\n",
    "\"\"\"\n",
    "\"\"\"\n",
    "y_val_idx = -1\n",
    "x_val = \"ampl\"\n",
    "x_unit = \"mV\"\n",
    "scale_fac_x = [1]\n",
    "scale_fac_y = [1e6, 1e-3, 1e-6]\n",
    "fit_on = 'delta'\n",
    "fit_meth = 'sine'\n",
    "fit_vals = ['Lifetime', 'Frequency', 'Frequency 2']\n",
    "fit_units = ['us','kHz', 'MHz']\n",
    "calc_dxdy_fromto = [False, (1,-1), False]\n",
    "\"\"\"\n",
    "\"\"\"\n",
    "y_val_idx = -1\n",
    "x_val = \"ampl\"\n",
    "x_unit = \"mV\"\n",
    "x_val = \"sweep speed\"\n",
    "x_unit = \"MHz/us\"\n",
    "scale_fac_x = [1]\n",
    "scale_fac_y = [1, 1, 1e-6]\n",
    "fit_on = 'delta'\n",
    "fit_meth = 'decay_exp'\n",
    "fit_vals = ['Amplitude', 'Lifetime', 'Frequency 2']\n",
    "fit_units = ['','steps', 'MHz']\n",
    "calc_dxdy_fromto = [(0,-1), False, False]\n",
    "\"\"\"\n",
    "\n",
    "#scale_fac_x = [1e-3]\n",
    "#scale_fac_y = [1e6, 1e-6, 1e-6]\n",
    "#x_val = \"df\"\n",
    "#x_unit = \"kHz\"\n",
    "#\"\"\"\n",
    "y_val_idx = None\n",
    "x_val = \"Time\"\n",
    "x_unit = \"s\"\n",
    "scale_fac_x = [1]\n",
    "scale_fac_y = [1e-6, 1e-6, 1e-6]\n",
    "fit_on = 'delta'\n",
    "fit_meth = 'lor_dip_2x'\n",
    "fit_vals = ['Position 0', 'Position 1', 'None']\n",
    "fit_units = ['MHz','MHz', 'MHz']\n",
    "calc_dxdy_fromto = [False, False, False]\n",
    "#\"\"\"\n",
    "\"\"\"\n",
    "y_val_idx = 3\n",
    "x_val = \"idx\"\n",
    "x_unit = \"\"\n",
    "scale_fac_x = [1]\n",
    "scale_fac_y = [1e9, 1e-6, 1e-6]\n",
    "fit_on = 'delta'\n",
    "fit_meth = 'decay_exp'\n",
    "fit_vals = ['Lifetime', 'Position 1', 'None']\n",
    "fit_units = ['ns','MHz', 'MHz']\n",
    "\"\"\"\n"
   ]
  },
  {
   "cell_type": "code",
   "execution_count": null,
   "metadata": {
    "scrolled": true
   },
   "outputs": [],
   "source": [
    "fit_vals, scale_fac_y"
   ]
  },
  {
   "cell_type": "code",
   "execution_count": null,
   "metadata": {
    "scrolled": true
   },
   "outputs": [],
   "source": [
    "p_raw[-1]['date']- p_raw[0]['date'], p_raw[-1]['date'], p_raw[0]['date']"
   ]
  },
  {
   "cell_type": "code",
   "execution_count": null,
   "metadata": {
    "scrolled": true
   },
   "outputs": [],
   "source": [
    "x, y, y2, y3, dy = pulsed_series_2_1d_fit_array(p_raw, \n",
    "                                                fit_meth=fit_meth, fit_on=fit_on, fit_vals=fit_vals,\n",
    "                                                idx_var_x=y_val_idx, ordered_x=True)"
   ]
  },
  {
   "cell_type": "code",
   "execution_count": null,
   "metadata": {
    "scrolled": true
   },
   "outputs": [],
   "source": [
    "x"
   ]
  },
  {
   "cell_type": "code",
   "execution_count": null,
   "metadata": {
    "scrolled": false
   },
   "outputs": [],
   "source": [
    "plt.figure(figsize=(16,4))\n",
    "\n",
    "\n",
    "plt.subplot(131)\n",
    "\n",
    "#plt.scatter(x,1e6*y)\n",
    "try:\n",
    "    raise  # don't plot errorbar\n",
    "    plt.errorbar(scale_fac_x[0]*x,scale_fac_y[0]*y, \n",
    "                yerr=scale_fac_y[0]*dy,\n",
    "                 ecolor='orange', capsize=5, fmt='o', elinewidth=1, capthick=1)\n",
    "    y_min = np.min(scale_fac_y[0]*y)\n",
    "    y_max = np.max(scale_fac_y[0]*y)\n",
    "    #plt.ylim([y_min-abs(0.1*y_min), y_max+abs(0.1*y_max)])\n",
    "    \n",
    "except:\n",
    "    plt.scatter(scale_fac_x[0]*x,scale_fac_y[0]*y)\n",
    "plt.plot(scale_fac_x[0]*x,scale_fac_y[0]*y)\n",
    "\n",
    "\n",
    "plt.title(f\"Fit {fit_meth} on: {fit_on}\")\n",
    "plt.xlabel(f\"{x_val} ({x_unit})\")\n",
    "plt.ylabel(f\"{fit_vals[0]} ({fit_units[0]})\")\n",
    "#plt.xlabel(\"Time (s)\")\n",
    "#plt.ylabel(\"Frequency (MHz)\")\n",
    "\n",
    "#plt.xlim(0.5,2)\n",
    "\n",
    "plt.subplot(132)\n",
    "plt.scatter(scale_fac_x[0]*x,y2*scale_fac_y[1])\n",
    "plt.plot(scale_fac_x[0]*x,y2*scale_fac_y[1])\n",
    "plt.xlabel(f\"{x_val} ({x_unit})\")\n",
    "plt.ylabel(f\"{fit_vals[1]} ({fit_units[1]})\")\n",
    "\n",
    "if calc_dxdy_fromto[1]:\n",
    "    idx_slope_from = calc_dxdy_fromto[1][0]\n",
    "    idx_slope_up_to = calc_dxdy_fromto[1][1]\n",
    "    dfdx = np.diff(y2)/np.diff(x*scale_fac_x[0])\n",
    "    avg_dfdx = np.average(dfdx[idx_slope_from:idx_slope_up_to])\n",
    "    y0 = scale_fac_y[1]* (y2[idx_slope_from]-(x[idx_slope_from]-0)*avg_dfdx)\n",
    "    \n",
    "    plt.plot([scale_fac_x[0]*x[idx_slope_from], scale_fac_x[0]*x[idx_slope_up_to]],\n",
    "             [y2[idx_slope_from]*scale_fac_y[1],\n",
    "             (scale_fac_y[1]*(y2[idx_slope_from]+((x[idx_slope_up_to]-x[idx_slope_from]))*avg_dfdx*scale_fac_x[0]))],\n",
    "             label=f\"y= {avg_dfdx*scale_fac_y[1]:.4f}x + {y0*scale_fac_y[1]:.4f}\", marker=\"\")\n",
    "    plt.legend()\n",
    "\n",
    "#plt.ylim(0,10)\n",
    "\n",
    "plt.subplot(133)\n",
    "plt.scatter(scale_fac_x[0]*x,y3*scale_fac_y[2])\n",
    "plt.plot(scale_fac_x[0]*x,y3*scale_fac_y[2])\n",
    "\n",
    "if calc_dxdy_fromto[2]:\n",
    "    idx_slope_from = calc_dxdy_fromto[2][0]\n",
    "    idx_slope_up_to = calc_dxdy_fromto[2][1]\n",
    "\n",
    "    dfdx = np.diff(y3*scale_fac_y[2])/np.diff(x*scale_fac_x[0])\n",
    "    avg_dfdx = np.average(dfdx[idx_slope_from:idx_slope_up_to])\n",
    "    y0 = scale_fac_y[2]* (y3[idx_slope_from]-(x[idx_slope_from]-0)*avg_dfdx)\n",
    "    \n",
    "    plt.plot([scale_fac_x[0]*x[idx_slope_from], scale_fac_x[0]*x[idx_slope_up_to]],\n",
    "             [y3[idx_slope_from]*scale_fac_y[2],\n",
    "             (y3[idx_slope_from]+((x[idx_slope_up_to]-x[idx_slope_from]))*avg_dfdx*scale_fac_x[0])],\n",
    "             label=f\"y= {avg_dfdx*scale_fac_y[2]/scale_fac_x[0]:.4f}x + {y0*scale_fac_y[2]:.4f}\", marker=\"\")\n",
    "    plt.legend()\n",
    "    \n",
    "plt.xlabel(f\"{x_val} ({x_unit})\")\n",
    "plt.ylabel(f\"{fit_vals[2]} ({fit_units[2]})\")\n",
    "#plt.ylim(0, 1)\n",
    "\n",
    "plt.tight_layout()\n",
    "plt.show()\n",
    "0"
   ]
  },
  {
   "cell_type": "code",
   "execution_count": null,
   "metadata": {
    "scrolled": true
   },
   "outputs": [],
   "source": [
    "avg_dfdx"
   ]
  },
  {
   "cell_type": "markdown",
   "metadata": {},
   "source": [
    "### area of exp decay fit"
   ]
  },
  {
   "cell_type": "code",
   "execution_count": null,
   "metadata": {
    "scrolled": true
   },
   "outputs": [],
   "source": [
    "ampl = scale_fac_y[0]*y\n",
    "lifetime = scale_fac_y[1]*y2\n",
    "beta = 1\n",
    "t_integrate_to = 100\n",
    "\n",
    "# todo: double check\n",
    "area = abs(ampl*(lifetime - lifetime/beta*(np.exp(-t_integrate_to/lifetime))**beta))\n",
    "\n",
    "plt.figure(figsize=(5,3.5))\n",
    "plt.scatter(x,area)\n",
    "plt.plot(x,area)\n",
    "try:\n",
    "    qdplotlogic.set_data(x, area, clear_old=True)\n",
    "except: pass\n",
    "    \n",
    "plt.ylabel(\"Area\")\n",
    "plt.xlabel(f\"{x_val} ({x_unit})\")\n",
    "plt.show()"
   ]
  },
  {
   "cell_type": "code",
   "execution_count": null,
   "metadata": {
    "scrolled": true
   },
   "outputs": [],
   "source": [
    "plt.hist(scale_fac_y[0]*y)\n",
    "plt.show()"
   ]
  },
  {
   "cell_type": "markdown",
   "metadata": {},
   "source": [
    "## A y cut to qudipolotter"
   ]
  },
  {
   "cell_type": "code",
   "execution_count": null,
   "metadata": {
    "scrolled": true
   },
   "outputs": [],
   "source": [
    "idx_y_cut = -1\n",
    "\n",
    "x = np.asarray(p_raw[idx_y_cut]['data']['tau'])\n",
    "z1 =  np.asarray(p_raw[idx_y_cut]['data']['z1'])\n",
    "try:\n",
    "    z2 = np.asarray(p_raw[idx_y_cut]['data']['z2'])\n",
    "except:\n",
    "    z2 = np.zeros(p_raw[idx_y_cut]['data']['z1'].shape)\n",
    "    \n",
    "fft_x, fft_delta = compute_ft(x_val=x,\n",
    "                          y_val=z1-z2)\n",
    "\n",
    "qdplotlogic.set_data(x, z1)\n",
    "qdplotlogic.set_data(x, z2, clear_old=False)\n",
    "\n",
    "qdplotlogic.set_data(x, z1-z2, plot_index=1)\n",
    "\n",
    "qdplotlogic.set_data(fft_x, fft_delta, plot_index=2)\n"
   ]
  },
  {
   "cell_type": "code",
   "execution_count": null,
   "metadata": {
    "scrolled": true
   },
   "outputs": [],
   "source": [
    "z1"
   ]
  },
  {
   "cell_type": "markdown",
   "metadata": {},
   "source": []
  },
  {
   "cell_type": "code",
   "execution_count": null,
   "metadata": {
    "scrolled": true
   },
   "outputs": [],
   "source": []
  },
  {
   "cell_type": "code",
   "execution_count": null,
   "metadata": {
    "scrolled": true
   },
   "outputs": [],
   "source": [
    "fnames[0:4]"
   ]
  },
  {
   "cell_type": "markdown",
   "metadata": {},
   "source": [
    "# Auto NV characterization"
   ]
  },
  {
   "cell_type": "markdown",
   "metadata": {},
   "source": [
    "Load data from experimental run with pODMR_coarse, hahn_echo+xy8"
   ]
  },
  {
   "cell_type": "code",
   "execution_count": null,
   "metadata": {
    "scrolled": true
   },
   "outputs": [],
   "source": [
    "\n",
    "p_raw, x, y, fnames = [], [], [], []\n",
    "\n",
    "\"\"\"\n",
    "experiments from different folders\n",
    "inpath = [{'path': r\"E:\\Data\\2022\\01\\20220104\\PulsedMeasurement\\t2_he_all_roi\",\n",
    "               'exp': ['all']},\n",
    "          {'path': r\"E:\\Data\\2022\\01\\20220109\\PulsedMeasurement\\t2_xy8_he_all_roi\",\n",
    "               'exp': [\"xy8_n\",\"xy8_nsweep\", \"hahn_echo\", \"hahnecho\"]},\n",
    "          {'path': r\"E:\\Data\\2022\\01\\20220127\\PulsedMeasurement\",\n",
    "               'exp': [\"xy8_n\",\"xy8_nsweep\", \"hahn_echo\", \"hahnecho\"]}]\n",
    "\"\"\"\n",
    "inpath = [{'path': r\"E:\\Data\\2022\\04\\20220425\\PulsedMeasurement\\nv_nv_20220221_80\",\n",
    "             'exp': ['all']}]\n",
    "\n",
    "try:\n",
    "    for in_dict in inpath:\n",
    "        files = Tk_file.list_mult_pulsed_mes(in_dict['path'], incl_subdir=True)\n",
    "        for f in files:\n",
    "            fnames.append({'file': f,\n",
    "                           'exp': in_dict['exp']})\n",
    "\n",
    "    for f_dict in fnames:\n",
    "        \n",
    "        f = f_dict['file'] \n",
    "        exp_name = f_dict['exp']\n",
    "\n",
    "        p_i = Tk_file.load_pulsed_result(f)\n",
    "        # extra steps in loading\n",
    "        try:\n",
    "            overwrite_poi_from_foldername(p_i)\n",
    "            p_i['experiment_name'] = load_pulsed_params(p_i)['name']\n",
    "        except:\n",
    "            p_i['experiment_name'] = None\n",
    "            # don't include if experiment_name coulnd't be loaded\n",
    "            continue\n",
    "        \n",
    "        # stream line similar names\n",
    "        if 'hahn' in p_i['experiment_name']:\n",
    "            p_i['experiment_name'] = 'hahn_echo'\n",
    "        if 'xy8_n' in p_i['experiment_name']:\n",
    "            p_i['experiment_name'] = 'xy8_n'\n",
    "\n",
    "        if p_i['experiment_name'] in exp_name or 'all' in exp_name:\n",
    "            p_raw.append(p_i)\n",
    "\n",
    "except:\n",
    "    logger.exception(\"\")\n",
    "\n",
    "len(p_raw)"
   ]
  },
  {
   "cell_type": "code",
   "execution_count": null,
   "metadata": {
    "scrolled": true
   },
   "outputs": [],
   "source": [
    "p_raw[-3]['date']"
   ]
  },
  {
   "cell_type": "markdown",
   "metadata": {},
   "source": [
    "DEPRECATED: Add XY8 + HE data from seperate path / measurement"
   ]
  },
  {
   "cell_type": "code",
   "execution_count": null,
   "metadata": {
    "scrolled": true
   },
   "outputs": [],
   "source": [
    "inpath = [r\"E:\\Data\\2022\\01\\20220109\\PulsedMeasurement\\t2_xy8_he_all_roi\",\n",
    "          r\"E:\\Data\\2022\\01\\20220127\\PulsedMeasurement\"]\n",
    "exp_name = [r\"xy8_n\",\"xy8_nsweep\", \"hahn_echo\"]\n",
    "\n",
    "p_in_xy, x, y, fnames = [], [], [], []\n",
    "\n",
    "try:\n",
    "    for path in inpath:\n",
    "        fnames.extend(Tk_file.list_mult_pulsed_mes(path, incl_subdir=True))\n",
    "\n",
    "    for f in fnames:\n",
    "        p_i = Tk_file.load_pulsed_result(f)\n",
    "        # extra steps in loading\n",
    "        overwrite_poi_from_foldername(p_i)\n",
    "        try:\n",
    "            p_i['experiment_name'] = load_pulsed_params(p_i)['name']\n",
    "        except:\n",
    "            p_i['experiment_name'] = None\n",
    "        \n",
    "        if p_i['experiment_name'] in exp_name:\n",
    "            p_i['experiment_name'] = exp_name[0]  # make exp names identical\n",
    "        \n",
    "        #p_in_xy = handle_duplicate_mes(p_i, p_in_xy, 'newer')\n",
    "        #p_raw = handle_duplicate_mes(p_i, p_raw, 'all')\n",
    "        if p_i['experiment_name'] in exp_name:\n",
    "            p_in_xy.append(p_i)\n",
    "\n",
    "except:\n",
    "    logger.exception(\"\")\n",
    "0"
   ]
  },
  {
   "cell_type": "code",
   "execution_count": null,
   "metadata": {
    "scrolled": true
   },
   "outputs": [],
   "source": [
    "idx = -1\n",
    "p_in_xy[idx]['poi'], p_in_xy[idx]['file'], p_in_xy[idx]['experiment_name']"
   ]
  },
  {
   "cell_type": "code",
   "execution_count": null,
   "metadata": {
    "scrolled": true
   },
   "outputs": [],
   "source": [
    "p_raw[10].keys()\n"
   ]
  },
  {
   "cell_type": "markdown",
   "metadata": {},
   "source": [
    "## T2 times"
   ]
  },
  {
   "cell_type": "markdown",
   "metadata": {},
   "source": [
    "Automatically fit all hahn echo data. ATTENTION: You probably want to un-fix some parameters of the decay_exp fit in qudi afterwards."
   ]
  },
  {
   "cell_type": "code",
   "execution_count": null,
   "metadata": {
    "scrolled": true
   },
   "outputs": [],
   "source": [
    "import lmfit\n",
    "\n",
    "name_t_dd = 'T2_xy8'\n",
    "f_nv_classes = [2.907e9, 2.963e9, 3.029e9, 3.087e9]\n",
    "f_nv_classes = [2838.1e6, 2800e6, 2772e6, 2733e6]\n",
    "f_nv_classes = [2829e6, 2805e6, 2771e6, 2731e6]\n",
    "\n",
    "p_in_he = [p for p in p_raw if 'hahn'  in p['experiment_name']]\n",
    "p_in_dd = [p for p in p_raw if 'xy8_n' in p['experiment_name']]\n",
    "\n",
    "nv_class_for_exp(p_in_he, f_res_classes=f_nv_classes)\n",
    "nv_class_for_exp(p_in_dd, f_res_classes=f_nv_classes)\n",
    "\n",
    "p_in_dd = handle_duplicate_all_mes(p_in_dd, 'newer')\n",
    "p_in_he = handle_duplicate_all_mes(p_in_he, 'newer')\n",
    "\n",
    "#\"\"\"\n",
    "try:\n",
    "    # set fit parameters\n",
    "    for i, p in enumerate(p_in_he):\n",
    "        # decay_exp fit\n",
    "         p['fit_edit_params'] = [lmfit.Parameter('offset', value=0, vary=False),\n",
    "                                lmfit.Parameter('amplitude', value=0.1, min=0, max=1, vary=True),\n",
    "                                lmfit.Parameter('beta', value=1, vary=False),\n",
    "                                lmfit.Parameter('lifetime', value=1e-6, min=10e-9, max=1e-3, vary=True)]\n",
    "    for i, p in enumerate(p_in_dd):\n",
    "        # decay_exp fit\n",
    "         p['fit_edit_params'] = [lmfit.Parameter('offset', value=0, vary=False),\n",
    "                                lmfit.Parameter('amplitude', value=-0.1, min=-1, max=0, vary=True),\n",
    "                                lmfit.Parameter('beta', value=1, vary=False),\n",
    "                                lmfit.Parameter('lifetime', value=1e-6, min=10e-9, max=1e-3, vary=True)]\n",
    "        \n",
    "   \n",
    "    \n",
    "    decay_fit(p_in_he, name_timeconst='T2_he', fit_meth='decay_exp')\n",
    "    decay_fit(p_in_dd, name_timeconst=name_t_dd, fit_meth='decay_exp')\n",
    "    \n",
    "except:\n",
    "    logger.exception(\"\")\n",
    "    \n",
    "#handle_duplicate_all_mes\"\"\"    \n",
    "\n",
    "len(p_in_he), len(p_in_dd)"
   ]
  },
  {
   "cell_type": "code",
   "execution_count": null,
   "metadata": {},
   "outputs": [],
   "source": [
    "[(p['experiment_name'] for p in p_raw if 'hahn' in p['experiment_name']]"
   ]
  },
  {
   "cell_type": "code",
   "execution_count": null,
   "metadata": {
    "scrolled": true
   },
   "outputs": [],
   "source": [
    "idx = 1\n",
    "p_in_dd[idx]['poi'], p_in_dd[idx]['exp_on_fres'], p_in_dd[idx].keys()"
   ]
  },
  {
   "cell_type": "code",
   "execution_count": null,
   "metadata": {
    "scrolled": true
   },
   "outputs": [],
   "source": [
    "idx = 0\n",
    "p_in_he[idx]['poi'], p_in_he[idx]['exp_on_fres'], p_in_he[idx].keys()"
   ]
  },
  {
   "cell_type": "code",
   "execution_count": null,
   "metadata": {
    "scrolled": true
   },
   "outputs": [],
   "source": [
    "p_in_he[idx]['fit_res']"
   ]
  },
  {
   "cell_type": "code",
   "execution_count": null,
   "metadata": {
    "scrolled": true
   },
   "outputs": [],
   "source": [
    "pd.DataFrame([(p['poi'], p['date'], p['experiment_name']) for i,p in enumerate(p_raw)]).iloc[0:10]"
   ]
  },
  {
   "cell_type": "code",
   "execution_count": null,
   "metadata": {
    "scrolled": true
   },
   "outputs": [],
   "source": [
    "pd.DataFrame([(p['poi'], p['date'], p['experiment_name']) for i,p in enumerate(p_in_dd + p_in_he)]).iloc[-5:]\n",
    "[(p['file']) for i,p in enumerate(p_in_dd + p_in_he)]"
   ]
  },
  {
   "cell_type": "markdown",
   "metadata": {},
   "source": [
    "## Classify NV orientation"
   ]
  },
  {
   "cell_type": "markdown",
   "metadata": {},
   "source": [
    "Attention: double check that idx for manual assigment are correct (as in comment)!"
   ]
  },
  {
   "cell_type": "code",
   "execution_count": null,
   "metadata": {
    "scrolled": true
   },
   "outputs": [],
   "source": [
    "comment = \"\"\n",
    "\"\"\"\n",
    "    \"manual assignment: \\\n",
    "    double:  \\\n",
    "    20211223: _18, _21, _29, _30, _36, _37, _38, _41, _47  \\\n",
    "    idx: [109,  112, 120, 121, 127, 128, 129, 133, 139] \\\n",
    "    20220103/04: _9, _39, _67, _72, _84, _101, _104 \\\n",
    "    idx: [15, 39, 67, 72, 84, 17, 20] \\\n",
    "    triple: 23_47,  23_40 \\\n",
    "    idx: [139, 132]\"\n",
    "# not implemented yet\n",
    "# manual_classes = {0: [NVClass.D, NVClass.C]}\n",
    "\"\"\"\n",
    "p_in = [p for p in p_raw if p['experiment_name'] == 'podmr_coarse']\n",
    "p_in = handle_duplicate_all_mes(p_in, 'newer')\n",
    "\n",
    "manual_at_least_double = []#[109,  112, 120, 121, 127, 128, 129, 132, 133, 139] + [15, 39, 67, 72, 84, 17, 20] +  [132, 139]\n",
    "#manual_at_least_double = [(i, p_in[i]['poi']) for i in manual_at_least_double]\n",
    "\n",
    "classify_settings = {'snr_thresh': 3,\n",
    "                     'f_classes': f_nv_classes,\n",
    "                    # ['lor_dip', 'lor_dip_2x', 'lor_dip_3x'],\n",
    "                     'fit_meths': ['lor_dip', 'lor_dip_2x'],\n",
    "                     'comment': comment,\n",
    "                     'nv_>2x_manual': manual_at_least_double}\n",
    "\n"
   ]
  },
  {
   "cell_type": "code",
   "execution_count": null,
   "metadata": {
    "scrolled": true
   },
   "outputs": [],
   "source": [
    "manual_at_least_double"
   ]
  },
  {
   "cell_type": "code",
   "execution_count": null,
   "metadata": {
    "scrolled": true
   },
   "outputs": [],
   "source": [
    "pd.DataFrame([(p['poi'], p['file']) for i,p in enumerate(p_in)]).iloc[:5]"
   ]
  },
  {
   "cell_type": "code",
   "execution_count": null,
   "metadata": {
    "scrolled": true
   },
   "outputs": [],
   "source": [
    "try:\n",
    "    find_best_lor_fit(p_in, fit_meths=classify_settings['fit_meths'])\n",
    "    classify_nv_orientation_all(p_in, \n",
    "                                f_res_classes=classify_settings['f_classes'],\n",
    "                                fit_meths=classify_settings['fit_meths'],\n",
    "                                snr_thresh=classify_settings['snr_thresh'])\n",
    "except:\n",
    "    logger.exception(\"\")\n",
    "\n"
   ]
  },
  {
   "cell_type": "code",
   "execution_count": null,
   "metadata": {
    "scrolled": true
   },
   "outputs": [],
   "source": [
    "idx = 0\n",
    "classify_has_odmr(p_in[idx], p_in[idx]['nv_class']), \\\n",
    "calc_odmr_snr_areal(p_in[idx], p_in[idx]['nv_class']), \\\n",
    "classify_nv_orientation(p_in[idx], snr_thresh=3)\n"
   ]
  },
  {
   "cell_type": "code",
   "execution_count": null,
   "metadata": {
    "scrolled": true
   },
   "outputs": [],
   "source": [
    "p_in[0]['nv_class']"
   ]
  },
  {
   "cell_type": "markdown",
   "metadata": {},
   "source": [
    "### Result table"
   ]
  },
  {
   "cell_type": "markdown",
   "metadata": {},
   "source": [
    "Presents the full table of potential double NVs. These can be 1. automatically detected, 2. manually assigned. We keep two different list df_double and df_double_incl_manual."
   ]
  },
  {
   "cell_type": "code",
   "execution_count": null,
   "metadata": {
    "scrolled": true
   },
   "outputs": [],
   "source": [
    "df[df['n_odmr'] > 2]"
   ]
  },
  {
   "cell_type": "code",
   "execution_count": null,
   "metadata": {
    "scrolled": true
   },
   "outputs": [],
   "source": [
    "\n",
    "pd.set_option(\"display.precision\", 2)\n",
    "list_formatters = {'T2_xy8 (us)':float2string, 'T2_he (us)':float2string}\n",
    "\n",
    "\n",
    "try:\n",
    "     \n",
    "    df = create_table(p_in, p_in_dd=[p_in_he, p_in_dd], \n",
    "                                     name_tc_dd=['T2_he', 'T2_xy8'],\n",
    "                                     name_exp_dd=['hahn_echo', 'xy8_n'])\n",
    "    df_double = df[df['n_odmr'] > 1]\n",
    "    manual_not_found = set([tup[1] for tup in manual_at_least_double]) - set(df_double['poi'].tolist()) \n",
    "    df_double_incl_manual = df[df['poi'].isin(manual_not_found)].append(df_double) \n",
    "except:\n",
    "    logger.exception(\"\")\n",
    "    #\n",
    "    # df[df['poi'].isin(manual_not_found)][['nv_class','poi', 'T2_he (us)', 'T2_xy8 (us)']]\n",
    "\n",
    "  \n",
    "\n",
    "# need to execute a few times for print to show up\n",
    "try:\n",
    "    print(sort_by_key(df_double_incl_manual, 'T2_xy8 (us)', mean_of_list).to_string(\n",
    "        columns=['nv_class','poi', 'T2_he (us)', 'T2_xy8 (us)'],\n",
    "        formatters=list_formatters,\n",
    "        float_format=float2string))\n",
    "except:\n",
    "    logger.exception(\"\")"
   ]
  },
  {
   "cell_type": "code",
   "execution_count": null,
   "metadata": {
    "scrolled": true
   },
   "outputs": [],
   "source": [
    "poi = \"nv_20220221_80\"\n",
    "get_mes_for_nv(poi, p_in_dd, exp_name='xy8_n')[0].keys()#[0]['fit_res']"
   ]
  },
  {
   "cell_type": "code",
   "execution_count": null,
   "metadata": {
    "scrolled": true
   },
   "outputs": [],
   "source": [
    "poi = 'nv_mayd_20220104_68'\n",
    "pd.DataFrame([(p['experiment_name'], p['exp_on_fres'], p['date']) for p in get_mes_for_nv(poi, p_in_dd + p_in_he)])"
   ]
  },
  {
   "cell_type": "markdown",
   "metadata": {},
   "source": [
    "Pretty print via matplotlib"
   ]
  },
  {
   "cell_type": "code",
   "execution_count": null,
   "metadata": {
    "scrolled": true
   },
   "outputs": [],
   "source": [
    "df_pretty = copy.deepcopy(df).sort_values(by=['poi'])\n",
    "# filter out columns\n",
    "df_pretty = df_pretty.loc[:, df_pretty.columns!='nv_class_raw']\n",
    "#df.reindex(columns=['poi', 'date', 'n_odmr', 'nv_class', 'snr_0', 'snr_1'])\n",
    "#df_pretty.update(df_pretty[['snr_0', 'snr_1', 'odmr_chi_sqr', 'T2_he (us)',  'T2_xy8 (us)']].applymap('{:,.2f}'.format))\n",
    "\n",
    "plt.figure(figsize=(23,5))\n",
    "table = plt.table(cellText=df_pretty.values, colLabels=df_pretty.columns, loc=\"center\")\n",
    "table.auto_set_column_width(col=list(range(len(df_pretty)))) # Provide integer list of columns to adjust\n",
    "\n",
    "plt.axis('off')\n",
    "plt.show()\n"
   ]
  },
  {
   "cell_type": "code",
   "execution_count": null,
   "metadata": {
    "scrolled": true
   },
   "outputs": [],
   "source": [
    "len(df[df['T2_he (us)'] > 5])"
   ]
  },
  {
   "cell_type": "markdown",
   "metadata": {},
   "source": [
    "#### Export to common base dir"
   ]
  },
  {
   "cell_type": "code",
   "execution_count": null,
   "metadata": {
    "scrolled": true
   },
   "outputs": [],
   "source": [
    "path_list = [p['file'] for p in p_in]\n",
    "fname_export = os.path.commonpath(path_list) + \"\\\\\" + \"auto_char.csv\"\n",
    "\n",
    "with open(fname_export, 'w') as f:\n",
    "    f.write(f\"{create_header_comment(classify_settings)} \\n\")\n",
    "    df.to_csv(f, sep=\";\", decimal=\",\")\n",
    "fname_export\n",
    "\n",
    "#create_header_comment(classify_settings)"
   ]
  },
  {
   "cell_type": "markdown",
   "metadata": {},
   "source": [
    "### T2 histogram"
   ]
  },
  {
   "cell_type": "code",
   "execution_count": null,
   "metadata": {
    "scrolled": true
   },
   "outputs": [],
   "source": [
    "t2_names = ['T2_he (us)', 'T2_xy8 (us)']\n",
    "x_in_log = False\n",
    "t2_clip_us = [-np.inf, 900]\n",
    "\n",
    "try:\n",
    "    for t2 in t2_names:\n",
    "        all_poi_he = (df[['poi']].stack().values) # stack to remove nan\n",
    "        single_t2_he = np.asarray(flatten_floats_only(df[df['n_odmr'] == 1][[t2]].stack().values))\n",
    "        single_a_t2_he = flatten_floats_only(df[df['n_odmr'] == 1 &(NVClass.A in df['nv_class_raw'])][[t2]].stack().values)\n",
    "        single_b_t2_he = flatten_floats_only(df[df['n_odmr'] == 1 & (NVClass.B in df['nv_class_raw'])][[t2]].stack().values)\n",
    "        single_c_t2_he = flatten_floats_only(df[df['n_odmr'] == 1 & (NVClass.C in df['nv_class_raw'])][[t2]].stack().values)\n",
    "        single_d_t2_he = flatten_floats_only(df[df['n_odmr'] == 1 & (NVClass.D in df['nv_class_raw'])][[t2]].stack().values)\n",
    "        double_t2_he = np.asarray(flatten_floats_only(df[df['n_odmr'] > 1][[t2]].stack().values))\n",
    "        double_poi_he = df[df['n_odmr'] > 1][['poi']].stack().values\n",
    "        \n",
    "        t2_classes = [single_a_t2_he, single_b_t2_he, single_c_t2_he, single_d_t2_he, double_t2_he]\n",
    "        \n",
    "        # for mean calculation, clip away outliers manually\n",
    "        double_t2_he_clip = double_t2_he[double_t2_he > t2_clip_us[0]]\n",
    "        double_t2_he_clip = double_t2_he[double_t2_he < t2_clip_us[1]]\n",
    "        single_t2_he_clip = single_t2_he[single_t2_he > t2_clip_us[0]]\n",
    "        single_t2_he_clip = single_t2_he[single_t2_he < t2_clip_us[1]]\n",
    "        \n",
    "        label = ['A', 'B', 'C', 'D', 'double']\n",
    "        title = f\"double fraction= {len(double_poi_he)/len(all_poi_he)*100:.1f} % (from {len(all_poi_he)})\"\n",
    "        color = ['skyblue', 'dodgerblue', 'navy', 'blue', 'orange']\n",
    "\n",
    "        #plt.figure(figsize=(6,4.5))\n",
    "        if x_in_log:\n",
    "            bins=np.logspace(np.log10(1),np.log10(1000), 70)\n",
    "        else:\n",
    "            bins = 70\n",
    "        plt.hist(t2_classes, bins=bins, label=label, stacked=True, color=color)\n",
    "        if x_in_log:\n",
    "            plt.xscale('log')\n",
    "        #plt.xlim(bins[0]/2, bins[1])\n",
    "        \n",
    "        plt.axvline(np.mean(double_t2_he_clip), label=f\"mean double= {np.mean(double_t2_he_clip):.1f} us\", color='orange')\n",
    "        plt.axvline(np.mean(single_t2_he_clip), label=f\"mean single= {np.mean(single_t2_he_clip):.1f} us\", color='navy')\n",
    "        plt.axvline(t2_clip_us[0], label=f\"clip mean= {t2_clip_us[0]} us\", color='red', alpha=0.5,\n",
    "                    linestyle='dashed')\n",
    "        plt.axvline(t2_clip_us[1], label=f\"clip mean= {t2_clip_us[1]} us\", color='red', alpha=0.5,\n",
    "                    linestyle='dashed')\n",
    "        \n",
    "        \n",
    "        plt.title(title)\n",
    "        plt.xlabel(rf\"{t2} ($\\mu s$)\")\n",
    "        plt.legend()\n",
    "        plt.show()\n",
    "except:\n",
    "    logger.exception(\"\")"
   ]
  },
  {
   "cell_type": "code",
   "execution_count": null,
   "metadata": {
    "scrolled": true
   },
   "outputs": [],
   "source": [
    "len(df[t2])"
   ]
  },
  {
   "cell_type": "code",
   "execution_count": null,
   "metadata": {
    "scrolled": true
   },
   "outputs": [],
   "source": [
    "\n",
    "\n",
    "for t2 in t2_names:\n",
    "    double_t2 = df[df['n_odmr'] > 1][[t2]].stack().values\n",
    "    double_t2\n",
    "    double_t2_with_val = []\n",
    "    for t2_l in double_t2:\n",
    "        if len(t2_l) == 2:\n",
    "            double_t2_with_val.append(t2_l)\n",
    "    t2_nv_a = pd.DataFrame(double_t2_with_val)[[0]]\n",
    "    t2_nv_b = pd.DataFrame(double_t2_with_val)[[1]]\n",
    "\n",
    "    t2_nv_a = flatten_floats_only(t2_nv_a.values)\n",
    "    t2_nv_b = flatten_floats_only(t2_nv_b.values)\n",
    "    \n",
    "    t2_max = np.max(np.concatenate([t2_nv_a, t2_nv_b]))\n",
    "    \n",
    "    plt.figure(figsize=(4,3))\n",
    "    plt.scatter(t2_nv_a, t2_nv_b)\n",
    "    plt.xlabel(rf\"{t2}_A ($\\mu s$)\")\n",
    "    plt.ylabel(rf\"{t2}_B ($\\mu s$)\")\n",
    "    #plt.xscale('log')\n",
    "    #plt.yscale('log')\n",
    "    plt.xlim([0,1.1*t2_max])\n",
    "    plt.ylim([0,1.1*t2_max])\n",
    "    plt.show()\n",
    "    "
   ]
  },
  {
   "cell_type": "markdown",
   "metadata": {},
   "source": [
    "### Plot potential doubles"
   ]
  },
  {
   "cell_type": "code",
   "execution_count": null,
   "metadata": {
    "scrolled": true
   },
   "outputs": [],
   "source": [
    "# double ('all'): 35, 43, 51, 52, 53\n",
    "\n",
    "offset = 0.15\n",
    "idx_plotted = 0\n",
    "fig = plt.figure()\n",
    "\n",
    "try:\n",
    "    nv_doubles = df_double_incl_manual['poi'].tolist()\n",
    "    for i, p in enumerate(p_in):\n",
    "        if p['poi'] in nv_doubles \\\n",
    "            and get_n_odmr_lines(p) > 1:\n",
    "\n",
    "            plot_odmr(p, fig=fig, y_offset = offset*idx_plotted, no_nvclass_legend=True)\n",
    "            idx_plotted += 1\n",
    "\n",
    "    plt.legend(loc='center left', bbox_to_anchor=(1, 0.5))\n",
    "    plt.show()\n",
    "except:\n",
    "    logger.exception(\"\")"
   ]
  },
  {
   "cell_type": "markdown",
   "metadata": {},
   "source": [
    "### Plot odmr and T2 fits"
   ]
  },
  {
   "cell_type": "code",
   "execution_count": null,
   "metadata": {
    "scrolled": false
   },
   "outputs": [],
   "source": [
    "\n",
    "\n",
    "# INTERESTING NV ON BUGGY 20211224 DATA\n",
    "# 'all'\n",
    "# orientations: 6, 55, 10, 16\n",
    "# noise: 18, 19\n",
    "# double: 35, 43, 51, 52, 53\n",
    "\n",
    "# handle duplicate 'newer'\n",
    "# orientations: 4, 42, 7, 8\n",
    "# doubles: 31, 39, 40, 43, 49\n",
    "\n",
    "# ON 20220104 DATA\n",
    "# doubles: 15, 26\n",
    "try:\n",
    "    idx_list = [109]\n",
    "    nv_doubles = sort_by_key(df_double_incl_manual, 'T2_xy8 (us)', mean_of_list, \n",
    "                         ascending=True, drop_nan=True)\n",
    "    idx_list = nv_doubles['idx'].tolist()\n",
    "    for idx in idx_list[:]:\n",
    "        #idx = 109# 128\n",
    "        f_res_classes=f_nv_classes\n",
    "\n",
    "        fig = plt.figure(figsize=(16,4))\n",
    "        fig.suptitle(f\"idx= {idx}, {p_in[idx]['poi']}\", fontsize=16, y=1.02)\n",
    "\n",
    "        plt.subplot(131)\n",
    "        plot_odmr(p_in[idx], f_res_classes=f_res_classes, fig=fig, no_poi_legend=True)\n",
    "        plt.legend()\n",
    "        #plt.show()\n",
    "        \n",
    "        plt.subplot(132)\n",
    "        for p_he in get_mes_for_nv(p_in[idx]['poi'], p_in_he, 'hahn_echo'):\n",
    "            plot_decay(p_he, exp_name='T2_he', fig=fig)\n",
    "        plt.legend()\n",
    "        #plt.show()\n",
    "        \n",
    "        p_dds = get_mes_for_nv(p_in[idx]['poi'], p_in_dd, 'xy8_n')\n",
    "        if p_dds:\n",
    "            plt.subplot(133) \n",
    "        for p_dd in p_dds:\n",
    "            plot_decay(p_dd, exp_name='T2_xy8', fig=fig)\n",
    "        if p_dds:\n",
    "            plt.legend()\n",
    "\n",
    "        #plt.tight_layout()\n",
    "        plt.show()\n",
    "except:\n",
    "    logger.exception(\"\")\n",
    "0"
   ]
  },
  {
   "cell_type": "code",
   "execution_count": null,
   "metadata": {
    "scrolled": true
   },
   "outputs": [],
   "source": [
    "idx= 109\n",
    "p1 = get_mes_for_nv(p_in[idx]['poi'], p_in_he, 'hahn_echo')[0]\n",
    "p2 = get_mes_for_nv(p_in[idx]['poi'], p_in_he, 'hahn_echo')[1]"
   ]
  },
  {
   "cell_type": "code",
   "execution_count": null,
   "metadata": {
    "scrolled": true
   },
   "outputs": [],
   "source": []
  },
  {
   "cell_type": "code",
   "execution_count": null,
   "metadata": {
    "scrolled": true
   },
   "outputs": [],
   "source": [
    "pd.DataFrame([(p['poi'], p['nv_class']) for i,p in enumerate(p_in)]).iloc[:-20]"
   ]
  },
  {
   "cell_type": "code",
   "execution_count": null,
   "metadata": {
    "scrolled": true
   },
   "outputs": [],
   "source": [
    "plot_decay(p_dd)"
   ]
  },
  {
   "cell_type": "code",
   "execution_count": null,
   "metadata": {
    "scrolled": true
   },
   "outputs": [],
   "source": [
    "len(idx_list)"
   ]
  },
  {
   "cell_type": "markdown",
   "metadata": {},
   "source": [
    "# Tomography"
   ]
  },
  {
   "cell_type": "code",
   "execution_count": 5,
   "metadata": {
    "scrolled": true
   },
   "outputs": [
    {
     "data": {
      "text/plain": [
       "0"
      ]
     },
     "execution_count": 5,
     "metadata": {},
     "output_type": "execute_result"
    }
   ],
   "source": [
    "import lmfit\n",
    "\n",
    "def tomography_1q_from_2rabi(fit_dict, pmes_rabi_ref):\n",
    "    if len(fit_dict) != 2:\n",
    "        raise ValueError\n",
    "    \n",
    "  \n",
    "    fit_x = [val['fit_res'] for (key, val) in fit_dict.items() if val['exp_params']['rabi_phase_deg'] == 0][0]\n",
    "    fit_y = [val['fit_res'] for (key, val) in fit_dict.items() if val['exp_params']['rabi_phase_deg'] == 90][0]\n",
    "    ampl0, ampl1, y0s =  fits_2_tomo_params(fit_x, fit_y, pmes_rabi_ref)\n",
    "    #return (ampl0, ampl1, y0s)\n",
    "    return _tomo_1q_rabi(ampl0, ampl1, y0s)\n",
    "\n",
    "    \n",
    "    \n",
    "def tomography_2q_from_2rabi(fit_dict, pmes_rabi_ref_0, pmes_rabi_ref_1):\n",
    "    pass\n",
    "\n",
    "\n",
    "def _tomo_1q_rabi(ampls_0=[0, 0], ampls_1=[0, 0], y0=[0,0]):\n",
    "    # input the fit results to Rabi oscillations driven around the X and Y axis\n",
    "    # result is a density matrix reconstructed from a linear square solution to\n",
    "    # the overdetermined system given by Neumann PhD (3.24)\n",
    "    # a*x=b where x=[a,b,c,d] with variable names like in (3.21)\n",
    "    \n",
    "    y0x = y0[0]\n",
    "    y0y = y0[1]\n",
    "    A0x = ampls_0[0]\n",
    "    A0y = ampls_0[1]\n",
    "    A1x = ampls_1[0]\n",
    "    A1y = ampls_1[1]\n",
    "    \n",
    "    a = np.zeros((6, 4))\n",
    "    a[0,0] = 1/2\n",
    "    a[0,3] = 1/2\n",
    "    a[1,0] = 1/2\n",
    "    a[1,3] = 1/2\n",
    "    a[2,0] = -1/2\n",
    "    a[2,3] = 1/2\n",
    "    a[3,0] = -1/2\n",
    "    a[3,3] = 1/2\n",
    "    a[4,2] = -1\n",
    "    a[5,1] = 1\n",
    "    \n",
    "    b = [y0x, y0y, A0x, A0y, A1x, A1y]\n",
    "    \n",
    "    x, _, _, _= np.linalg.lstsq(a, b)\n",
    "    \n",
    "    rho = np.zeros((2,2), dtype=complex)\n",
    "    a,b,c,d = x[0], x[1], x[2], x[3]\n",
    "    rho[0,0] = a\n",
    "    rho[0,1] = complex(b, c)\n",
    "    rho[1,0] = complex(b, -c)\n",
    "    rho[1,1] = d\n",
    "    \n",
    "    return rho\n",
    "   \n",
    "\n",
    "def norm_cts_2_pop(i_cts, cts_max=1, cts_min=0.7, is_ampl=False):\n",
    "    from scipy.interpolate import interp1d\n",
    "    \n",
    "    if is_ampl:\n",
    "        mapper = interp1d([cts_max-cts_min,0],[1,0], fill_value='extrapolate')\n",
    "    else:\n",
    "        mapper = interp1d([cts_max,cts_min],[1,0], fill_value='extrapolate')\n",
    "    return mapper(i_cts)\n",
    "\n",
    "def fits_2_tomo_params(fit_rabi_x, fit_rabi_y, pmes_rabi_ref):\n",
    "    \n",
    "    f_x = fit_rabi_x\n",
    "    f_y = fit_rabi_y\n",
    "    \n",
    "    cts_max = np.max(pmes_rabi_ref['fit_values']['y'])\n",
    "    cts_min = np.min(pmes_rabi_ref['fit_values']['y'])\n",
    "\n",
    "    ampls_0 = norm_cts_2_pop([f_x[0], f_y[0]], cts_min=cts_min, cts_max=cts_max, is_ampl=True)\n",
    "    ampls_1 = norm_cts_2_pop([f_x[1], f_y[1]], cts_min=cts_min, cts_max=cts_max, is_ampl=True)\n",
    "    y0s = norm_cts_2_pop([f_x[2], f_y[2]], cts_min=cts_min, cts_max=cts_max)\n",
    "    \n",
    "    #if ampls_0 < 0 or ampls_1 > 1 or ampls_1 < 0 or ampls_1 > 1:\n",
    "    #    logger.warning(\"Found unreasonable Rabi amplitudes. Norm error?\")\n",
    "    \n",
    "    return ampls_0, ampls_1, y0s\n",
    "\n",
    "\n",
    "def fit_rabis(pmes_list, zdata='delta'):\n",
    "    \n",
    "    p_raw = pmes_list\n",
    "    \n",
    "    \"\"\"\n",
    "    Using a fit 'expression' to fix the frequencies of the two sines seem broken.\n",
    "    So instead: 1. find the frequency in a 'sine' fit and 2. fix this in a 'sine_2x' fit\n",
    "    \"\"\"\n",
    "\n",
    "    y_val_idx = None\n",
    "    fit_on = zdata #'delta'\n",
    "    fit_meth = 'sine'\n",
    "    fit_vals = ['frequency', 'None', 'None']\n",
    "\n",
    "    for i, p in enumerate(p_raw):\n",
    "        z_i = get_z(p, mode=zdata)\n",
    "        ampl_guess = (np.max(z_i) - np.min(z_i))/2\n",
    "        offset_guess = np.mean(z_i)\n",
    "        p_raw[i]['fit_edit_params'] = [#lmfit.Parameter('frequency', value=10e6, vary=True, min=0),\n",
    "                                    #lmfit.Parameter('phase', value=0, vary=True, min=-np.pi, max=np.pi),\n",
    "                                    lmfit.Parameter('beta', value=1, vary=False),\n",
    "                                    #lmfit.Parameter('lifetime', value=np.inf, vary=False)\n",
    "                                    #lmfit.Parameter('lifetime', value=10e-6, vary=True, min=10e-9),\n",
    "                                    #lmfit.Parameter('amplitude', value=ampl_guess, vary=True, min=0),\n",
    "                                    #lmfit.Parameter('offset', value=offset_guess, vary=True)\n",
    "                                   ]\n",
    "\n",
    "    _, f, _, _, _ = pulsed_series_2_1d_fit_array(p_raw, fit_meth=fit_meth, fit_on=fit_on, fit_vals=fit_vals,\n",
    "                                                    idx_var_x=y_val_idx, ordered_x=False)\n",
    "   \n",
    "    for i, fres in enumerate(f):\n",
    "        # Debug\n",
    "        #x = np.asarray(p_raw[i]['data']['tau'])\n",
    "        #y = np.asarray(get_z(p_raw[i], mode=zdata))\n",
    "        #logger.debug(f\"X: {x}, Y: {y}\")\n",
    "        \n",
    "        #qdplotlogic.set_data(x, y, plot_index=i%3)\n",
    "        #logger.debug(f\"[{i}]: Fitted f= {fres}, sine_1x init: {p_raw[i]['fit_edit_params']}, full: {p_raw[i]['fit_res']}\")\n",
    "        \n",
    "        #\"\"\"\n",
    "        p_raw[i]['fit_edit_params'] = [lmfit.Parameter('s1_frequency', value=fres, vary=False),\n",
    "                                       lmfit.Parameter('s2_frequency', value=fres, vary=False),\n",
    "                                       lmfit.Parameter('s1_phase', value=-np.pi/2, vary=False),\n",
    "                                       lmfit.Parameter('s2_phase', value=0, vary=False),\n",
    "                                       lmfit.Parameter('lifetime', value=np.inf, vary=False)]\n",
    "\n",
    "    \n",
    "    y_val_idx = None\n",
    "\n",
    "    fit_on = zdata #'delta'\n",
    "    fit_meth = 'sine_2x'\n",
    "    fit_vals = ['Amplitude 1', 'Amplitude 2', 'Offset']\n",
    "    #\"\"\"\n",
    "\n",
    "    _, a1s, a2s, y0s, _ = pulsed_series_2_1d_fit_array(p_raw, fit_meth=fit_meth, fit_on=fit_on, fit_vals=fit_vals,\n",
    "                                                    idx_var_x=y_val_idx, ordered_x=False)\n",
    "    \n",
    "\n",
    "    fit_rabi = {}\n",
    "    rabi_ref = {}\n",
    "\n",
    "    logger.debug(f\"Fit rabi on {len(a1s)} loaded tomographic rabis.\")\n",
    "    \n",
    "    # find whether all mes are a tomography of |00>\n",
    "    is_tomo_00 = False\n",
    "    inits = []\n",
    "    for idx, a1 in enumerate(a1s):\n",
    "        try:\n",
    "            params = p_raw[idx]['exp_params']\n",
    "            inits.append(params['init_state'])\n",
    "        except:\n",
    "            logger.exception(f\"Error while loading mes params from file: {p_raw[idx]['file']}\")\n",
    "    is_tomo_00 =  all([i==TomoInit.none for i in inits])\n",
    "    \n",
    "    # sort reference (init=0, rot=0) and tomographic measurements\n",
    "    for idx, a1 in enumerate(a1s):\n",
    "        try:\n",
    "            params = p_raw[idx]['exp_params']\n",
    "        \n",
    "            on_nv = params['rabi_on_nv']\n",
    "            init = params['init_state']\n",
    "            rotation = params['rotation']\n",
    "            phase = params['rabi_phase_deg']\n",
    "        \n",
    "        except:\n",
    "            logger.exception(f\"Error while loading mes params from file: {p_raw[idx]['file']}\")\n",
    "        fit_res = [a1, a2s[idx], y0s[idx]]\n",
    "        \n",
    "        mes_key = '/fail'\n",
    "        \n",
    "        if not isinstance(rotation, Enum) or not isinstance(init, Enum):\n",
    "            logger.warning(f\"Found non enum type init_state/rotation in file, did parsing fail? {p_raw[idx]['file']}\")\n",
    "        \n",
    "        if is_tomo_00:\n",
    "            is_tomo_mes = True\n",
    "        else:\n",
    "            is_tomo_mes = (init != TomoInit.none)\n",
    "        \n",
    "        if is_tomo_mes:\n",
    "            if  params['rabi_phase_deg'] == 0:\n",
    "                mes_key = f'rabi{on_nv}_{init.name}_{rotation.name}_x'\n",
    "                fit_rabi[mes_key] = {'fit_res': fit_res, 'exp_params': params}\n",
    "            elif params['rabi_phase_deg'] == 90:\n",
    "                mes_key = f'rabi{on_nv}_{init.name}_{rotation.name}_y'\n",
    "                fit_rabi[mes_key] = {'fit_res': fit_res, 'exp_params': params}\n",
    "        \n",
    "        if init == TomoInit.none and rotation == TomoRotations.none and phase == 0:\n",
    "            mes_key = f\"rabi_ref_on_{on_nv}\"\n",
    "            rabi_ref[mes_key] = p_raw[idx]\n",
    "\n",
    "        \n",
    "        logger.debug(f\"Sorted= {mes_key!='/fail'} for params init={init}, rot={rotation}, on_nv={on_nv} => {mes_key} on file: {p_raw[idx]['file']}\")\n",
    "            \n",
    "    return fit_rabi, rabi_ref\n",
    "\n",
    "\n",
    "def plot_rabis_for_tomo(pmes_list, ref_rabis, idx_plot=0, zdata='delta'):\n",
    "    \n",
    "    \n",
    "    pmes = pmes_list[idx_plot]\n",
    "    try:\n",
    "        on_nv = pmes['exp_params']['rabi_on_nv']\n",
    "        for pmes_rabi_ref in ref_rabis:\n",
    "            if pmes_rabi_ref['exp_params']['rabi_on_nv'] == on_nv:\n",
    "                break\n",
    "        logger.debug(f\"For mes from {pmes['file']} on nv {on_nv} take ref rabi: {pmes_rabi_ref['file']}\")\n",
    "    except Exception as e:\n",
    "        logger.warning(f\"Couldn't auto find ref rabi: {str(e)}\")\n",
    "        pmes_rabi_ref = ref_rabis[0]\n",
    "        on_nv = '/na'\n",
    "    \n",
    "    p_tau = pmes['data']['tau']\n",
    "    p_y = get_z(pmes, mode=zdata)\n",
    "    p_y_fit = pmes['fit_values']['y']\n",
    "    p_tau_full_osci =  pmes_rabi_ref['data']['tau']\n",
    "    p_y_full_osci = get_z(pmes_rabi_ref, mode=zdata)\n",
    "\n",
    "    # for a perfect pi2 init, (cts_max-cts_min)/2 = ampls_1[0 or 1] and ampls_0(0 and 1) == 0\n",
    "    cts_max = np.max(pmes_rabi_ref['fit_values']['y'])\n",
    "    cts_min = np.min(pmes_rabi_ref['fit_values']['y'])\n",
    "    \n",
    "    logger.debug(f\"Fit on ref rabi, min/max= {cts_min}/{cts_max}. Data min/max= {np.min(p_y_full_osci)}/{np.max(p_y_full_osci)}\")\n",
    "    \n",
    "    plt.figure(figsize=(12,4))\n",
    "    plt.subplot(121)\n",
    "    \n",
    "    plt.title(\"Normed\")\n",
    "    plt.plot(p_tau, norm_cts_2_pop(pmes['fit_values']['y'], cts_min=cts_min, cts_max=cts_max),\n",
    "             color='blue', marker='', label=f\"fit idx={idx_plot} Rabi\")\n",
    "    plt.plot(p_tau_full_osci, norm_cts_2_pop(pmes_rabi_ref['fit_values']['y'], cts_min=cts_min, cts_max=cts_max),\n",
    "             color='orange', marker='', label=f\"fit ref Rabi {on_nv}\")\n",
    "    plt.plot(p_tau, norm_cts_2_pop(p_y, cts_min=cts_min, cts_max=cts_max),\n",
    "             color='blue', marker='o', linestyle='None', label=f\"data idx={idx_plot}\")\n",
    "    plt.plot(p_tau_full_osci, norm_cts_2_pop(p_y_full_osci, cts_min=cts_min, cts_max=cts_max),\n",
    "             color='orange', marker='o', linestyle='None', label=\"data ref Rabi\")\n",
    "\n",
    "    plt.legend()\n",
    "    plt.subplot(122)\n",
    "    plt.title(\"Raw data\")\n",
    "    plt.plot(p_tau, p_y,  color='blue',label=f\"idx={idx_plot} Rabi, raw\")\n",
    "    plt.plot(p_tau,  p_y_fit, color='blue', label=f\"fit idx={idx_plot} Rabi, raw\", marker='')\n",
    "    plt.plot(p_tau_full_osci, p_y_full_osci, color='orange', label=\"ref Rabi, raw\", alpha=0.5)\n",
    "    plt.legend()\n",
    "\n",
    "    plt.show()\n",
    "\n",
    "0"
   ]
  },
  {
   "cell_type": "markdown",
   "metadata": {},
   "source": [
    "## Load Rabi data with different rotations"
   ]
  },
  {
   "cell_type": "markdown",
   "metadata": {},
   "source": [
    "We need data that contains a Rabi rotation around X and Y after the initialized state plus a tomographic rotation gate.\n",
    "As contrast reference, there should also be a data file without rotation and Rabi along X."
   ]
  },
  {
   "cell_type": "code",
   "execution_count": 40,
   "metadata": {},
   "outputs": [
    {
     "data": {
      "text/plain": [
       "18"
      ]
     },
     "execution_count": 40,
     "metadata": {},
     "output_type": "execute_result"
    }
   ],
   "source": [
    "\"\"\"\n",
    "#fname = r\"E:\\Data\\2022\\02\\20220222\\PulsedMeasurement\\char_roi_north\\nv_nv_20220221_80\" + \"\\\\\" \\\n",
    "      #  + \"20220224-0638-04_rabi_fine_nv_nv_20220221_80_pulsed_measurement.dat\"\n",
    "\"\"\"\n",
    "p_raw, x, y, fnames = [], [], [], []\n",
    "\n",
    "#inpath = r\"E:\\Data\\2022\\02\\20220224\\PulsedMeasurement\\nv_20220221_2_1q_tomography_test\"\n",
    "#inpath = r\"E:\\Data\\2021\\10\\20211026\\PulsedMeasurement\\rnovel_vs_p_1\"\n",
    "#inpath = r\"E:\\Data\\2022\\04\\20220414\\PulsedMeasurement\\dummy_tomography_tests\\single_qubit\"\n",
    "inpath = r\"D:\\Data\\2022\\04\\20220429\\PulsedMeasurement\\init_0+1,0+1\"\n",
    "\n",
    "filter_strs = ['pulsed_measurement', '.dat']\n",
    "#filter_strs += ['rabi']\n",
    "\n",
    "try:\n",
    "    fnames = Tk_file.list_mult_pulsed_mes(inpath, filter_strs=filter_strs, incl_subdir=False)\n",
    "\n",
    "\n",
    "    for f in fnames:\n",
    "        #p_i = Tk_file.load_pulsed_metadata(f)\n",
    "        #p_i = {**p_i, **{'file': f, 'data':Tk_file.load_pulsed_result(f)['data']}}\n",
    "        #p_i = Tk_file.load_pulsed_result(f)\n",
    "        p_i = Tk_file.load_pulsed_result(f)\n",
    "        p_raw.append(p_i)\n",
    "except:\n",
    "    logger.exception(\"\")\n",
    "        \n",
    "len(p_raw)"
   ]
  },
  {
   "cell_type": "code",
   "execution_count": null,
   "metadata": {},
   "outputs": [],
   "source": [
    "type(p_raw)"
   ]
  },
  {
   "cell_type": "code",
   "execution_count": null,
   "metadata": {
    "scrolled": true
   },
   "outputs": [],
   "source": [
    "Tk_file.load_pulsed_result(f)"
   ]
  },
  {
   "cell_type": "code",
   "execution_count": null,
   "metadata": {
    "scrolled": false
   },
   "outputs": [],
   "source": [
    "y_val_idx = None\n",
    "fit_on = 'z1' #'delta'\n",
    "fit_meth = 'sine'\n",
    "fit_vals = ['frequency', 'None', 'None']\n",
    "\n",
    "_, f, _, _, _ = pulsed_series_2_1d_fit_array(p_raw, fit_meth=fit_meth, fit_on=fit_on, fit_vals=fit_vals,\n",
    "                                                idx_var_x=y_val_idx, ordered_x=True)\n",
    "\n",
    "f"
   ]
  },
  {
   "cell_type": "markdown",
   "metadata": {},
   "source": [
    "### Fake data"
   ]
  },
  {
   "cell_type": "code",
   "execution_count": null,
   "metadata": {
    "scrolled": true
   },
   "outputs": [],
   "source": [
    "# FAKE params for 1 qubit tomo \n",
    "import copy as cp\n",
    "p_raw.append(cp.deepcopy(p_raw[1]))\n",
    "\n",
    "# reference rabi: phase doesn't matter, but init=0\n",
    "p_raw[1]['exp_params'] = {'name': 'tomography', 'experiment': 'tomography', 'rabi_on_nv': 1, 'rabi_phase_deg': 0, 'rotation': TomoRotations.none, 'init_state': TomoInit.none, 'tau_cnot': 1e-07, 'dd_type_cnot': '<DDMethods.SE: 0.0>'}\n",
    "\n",
    "p_raw[0]['exp_params'] = {'name': 'tomography', 'experiment': 'tomography', 'rabi_on_nv': 1, 'rabi_phase_deg': 0, 'rotation': TomoRotations.none, 'init_state': TomoInit.ux90_on_1, 'tau_cnot': 1e-07, 'dd_type_cnot': '<DDMethods.SE: 0.0>'}\n",
    "p_raw[2]['exp_params'] = {'name': 'tomography', 'experiment': 'tomography', 'rabi_on_nv': 1, 'rabi_phase_deg': 90, 'rotation': TomoRotations.none, 'init_state': TomoInit.ux90_on_1, 'tau_cnot': 1e-07, 'dd_type_cnot': '<DDMethods.SE: 0.0>'}\n",
    "\n",
    "len(p_raw)"
   ]
  },
  {
   "cell_type": "code",
   "execution_count": null,
   "metadata": {
    "scrolled": true
   },
   "outputs": [],
   "source": [
    "# FAKE params for 2 qubit tomo\n",
    "p_raw.append(cp.deepcopy(p_raw[1]))\n",
    "p_raw.append(cp.deepcopy(p_raw[1]))\n",
    "p_raw.append(cp.deepcopy(p_raw[1]))\n",
    "p_raw.append(cp.deepcopy(p_raw[1]))\n",
    "\n",
    "\n",
    "# reference rabis: phase doesn't matter, but init=0\n",
    "p_raw[1]['exp_params'] = {'name': 'tomography', 'experiment': 'tomography', 'rabi_on_nv': 1, 'rabi_phase_deg': 0, 'rotation': TomoRotations.none, 'init_state': TomoInit.none, 'tau_cnot': 1e-07, 'dd_type_cnot': '<DDMethods.SE: 0.0>'}\n",
    "p_raw[5]['exp_params'] = {'name': 'tomography', 'experiment': 'tomography', 'rabi_on_nv': 2, 'rabi_phase_deg': 0, 'rotation': TomoRotations.none, 'init_state': TomoInit.none, 'tau_cnot': 1e-07, 'dd_type_cnot': '<DDMethods.SE: 0.0>'}\n",
    "\n",
    "\n",
    "p_raw[0]['exp_params'] = {'name': 'tomography', 'experiment': 'tomography', 'rabi_on_nv': 1, 'rabi_phase_deg': 0, 'rotation': TomoRotations.none, 'init_state': TomoInit.ux90_on_1, 'tau_cnot': 1e-07, 'dd_type_cnot': '<DDMethods.SE: 0.0>'}\n",
    "p_raw[2]['exp_params'] = {'name': 'tomography', 'experiment': 'tomography', 'rabi_on_nv': 1, 'rabi_phase_deg': 90, 'rotation': TomoRotations.none, 'init_state': TomoInit.ux90_on_1, 'tau_cnot': 1e-07, 'dd_type_cnot': '<DDMethods.SE: 0.0>'}\n",
    "p_raw[3]['exp_params'] = {'name': 'tomography', 'experiment': 'tomography', 'rabi_on_nv': 2, 'rabi_phase_deg': 0, 'rotation': TomoRotations.none, 'init_state': TomoInit.ux90_on_1, 'tau_cnot': 1e-07, 'dd_type_cnot': '<DDMethods.SE: 0.0>'}\n",
    "p_raw[4]['exp_params'] = {'name': 'tomography', 'experiment': 'tomography', 'rabi_on_nv': 2, 'rabi_phase_deg': 90, 'rotation': TomoRotations.none, 'init_state': TomoInit.ux90_on_1, 'tau_cnot': 1e-07, 'dd_type_cnot': '<DDMethods.SE: 0.0>'}\n",
    "\n",
    "len(p_raw)"
   ]
  },
  {
   "cell_type": "code",
   "execution_count": null,
   "metadata": {
    "scrolled": true
   },
   "outputs": [],
   "source": [
    "p_raw[0]['exp_params']['rotation'] == TomoRotations.none, p_raw[0]['exp_params']['init_state'] == TomoInit.none "
   ]
  },
  {
   "cell_type": "code",
   "execution_count": null,
   "metadata": {
    "scrolled": true
   },
   "outputs": [],
   "source": [
    "isinstance(p_raw[0]['exp_params']['rotation'], Enum)"
   ]
  },
  {
   "cell_type": "code",
   "execution_count": null,
   "metadata": {
    "scrolled": true
   },
   "outputs": [],
   "source": []
  },
  {
   "cell_type": "markdown",
   "metadata": {},
   "source": [
    "## 1 qubit tomography"
   ]
  },
  {
   "cell_type": "markdown",
   "metadata": {},
   "source": [
    "For an arbitrary init state, record a Rabi driven around X, Y there after. Fit those measurements and reconstruct density matrix.\n",
    "ATTENTION: Erases all 'edits' from pulsed fit settings for 'sine' and 'sine_2x'"
   ]
  },
  {
   "cell_type": "code",
   "execution_count": null,
   "metadata": {
    "scrolled": true
   },
   "outputs": [],
   "source": [
    "\n",
    "\n",
    "try:\n",
    "    tomo_rabis, ref_rabis = fit_rabis(p_raw, zdata='z1')\n",
    "    rho = tomography_1q_from_2rabi(tomo_rabis, list(ref_rabis.values())[0])\n",
    "except:\n",
    "    logger.exception(\"\")\n",
    "\n",
    "len(tomo_rabis)\n",
    "#tomo_rabis\n",
    "#list(ref_rabis.values())[0]\n",
    "#rho\n",
    "#fits_2_tomo_params\n",
    "#tomography_1d_from_rabi(ampls_0, ampls_1, y0s)"
   ]
  },
  {
   "cell_type": "markdown",
   "metadata": {},
   "source": [
    "## 2 qubit tomography"
   ]
  },
  {
   "cell_type": "code",
   "execution_count": 41,
   "metadata": {
    "scrolled": true
   },
   "outputs": [
    {
     "data": {
      "text/plain": [
       "0"
      ]
     },
     "execution_count": 41,
     "metadata": {},
     "output_type": "execute_result"
    }
   ],
   "source": [
    "\n",
    "def _get_fit_rabi_pairs(rabi_entry, fit_dict):\n",
    "    search_params = rabi_entry['exp_params']\n",
    "    \n",
    "    found = {}\n",
    "    for (key, val) in fit_dict.items():\n",
    "        i_params = val['exp_params']\n",
    "        if i_params['rotation'] == search_params['rotation'] \\\n",
    "            and i_params['init_state'] == search_params['init_state'] \\\n",
    "            and i_params['rabi_on_nv'] == search_params['rabi_on_nv']:\n",
    "            found[key] = val\n",
    "    \n",
    "    if len(found) != 2:\n",
    "        raise ValueError(f\"Couldn't find x,y rabi. So far: {found.keys()}\")\n",
    "    \n",
    "    return found\n",
    "0\n",
    "#len(_get_fit_rabi_pairs(tomo_rabis['rabi1_none_ux180_on_1_x'], tomo_rabis).keys())"
   ]
  },
  {
   "cell_type": "markdown",
   "metadata": {},
   "source": [
    "ATTENTION: Need to unfix all params in pulsed gui fit settings before running!"
   ]
  },
  {
   "cell_type": "code",
   "execution_count": 45,
   "metadata": {},
   "outputs": [
    {
     "data": {
      "text/plain": [
       "array([[ 0.    ,  0.2032,  0.2308, -0.7822],\n",
       "       [-0.2032,  0.    , -0.368 ,  0.1199],\n",
       "       [-0.2308,  0.368 ,  0.    ,  0.0781],\n",
       "       [ 0.7822, -0.1199, -0.0781,  0.    ]])"
      ]
     },
     "execution_count": 45,
     "metadata": {},
     "output_type": "execute_result"
    }
   ],
   "source": [
    "import copy as cp\n",
    "def tomography_2q_from_2rabi(fit_dict, pmes_rabi_ref_1, pmes_rabi_ref_2):\n",
    "    \n",
    "    def multiply(new_val, rho_el):\n",
    "        ret_val = None\n",
    "        flag_done = False   # for every rho element, need (rabi_x, rabi_y) mes on nv_1 and nv_2!\n",
    "                \n",
    "        if np.isnan(rho_el):\n",
    "            ret_val = new_val\n",
    "        else:\n",
    "            ret_val = rho_el*new_val\n",
    "            flag_done = True \n",
    "        \n",
    "        logger.debug(f\"Got new_val {new_val} for rho {rho_el} => {ret_val}\")\n",
    "        \n",
    "        return ret_val, flag_done\n",
    "    \n",
    "    rho = np.ones((4,4), dtype=complex) * np.nan\n",
    "    done = np.ones((4,4), dtype=bool) * False\n",
    "    done_rots = []\n",
    "    \n",
    "    for  (key, val) in fit_dict.items():\n",
    "        rabi_pair = _get_fit_rabi_pairs(val, fit_dict)\n",
    "        \n",
    "        on_nv = val['exp_params']['rabi_on_nv']\n",
    "        rotation = val['exp_params']['rotation']\n",
    "        #logger.info(f\"At item {key} with rot {rotation} and on {on_nv}\")\n",
    "        if on_nv == 1:\n",
    "            tomo_1q = tomography_1q_from_2rabi(rabi_pair, pmes_rabi_ref_1)\n",
    "        elif on_nv == 2:\n",
    "            tomo_1q = tomography_1q_from_2rabi(rabi_pair, pmes_rabi_ref_2)\n",
    "    \n",
    "        if (rotation, on_nv) in done_rots:\n",
    "            # rabi_pair already handled, note that 2 (_x, _y) elements in fit_dict will lead to same pair\n",
    "            continue\n",
    "        \n",
    "        rho_saved = cp.copy(rho)\n",
    "        \n",
    "        # target matrix rho_arb = [(a, e, f, g), (b, h, i), ...]\n",
    "        # from source sub matrices of single systems [(a1, c1),(conj(c1), b1)], [(a2, c2), (...)] \n",
    "        # for summed readout, every entry of target rho_arbi is a multiplication of sub matrix elements\n",
    "        # different to the original Neumann method -> see lab notes\n",
    "        \n",
    "        if rotation == TomoRotations.none:\n",
    "            if on_nv == 1:\n",
    "                \n",
    "                # population\n",
    "                # a, b, c, d\n",
    "                rho[0,0], done[0,0] = multiply(tomo_1q[0,0], rho[0,0])   # a1*a2\n",
    "                rho[1,1], done[1,1] = multiply(tomo_1q[0,0], rho[1,1])   # a1*b2\n",
    "                rho[2,2], done[2,2] = multiply(tomo_1q[1,1], rho[2,2])   # b1*a2\n",
    "                rho[3,3], done[3,3] = multiply(tomo_1q[1,1], rho[3,3])   # b1*b2\n",
    "\n",
    "                # coherences\n",
    "                # f\n",
    "                rho[0,2], done[0,2] = multiply(tomo_1q[0,1], rho[0,2])   # c1*a2\n",
    "                # e\n",
    "                rho[0,1], done[0,1] = multiply(tomo_1q[0,0], rho[0,1])   # a1*c2\n",
    "                rho[2,0], done[2,0] = np.conj(rho[0,2]), done[0,2]    # c1*a2\n",
    "                rho[1,0], done[1,0] = np.conj(rho[0,1]), done[0,1]   # a1*c2\n",
    "                \n",
    "                # OLD Neumann: get a, c, f \n",
    "                #rho[1,1] = tomo_1q[0,0]\n",
    "                #rho[0,2] = tomo_1q[0,1]   # REALL\n",
    "                #rho[2,0] = tomo_1q[1,0]   # REALLY\n",
    "                #rho[2,2] = tomo_1q[1,1]\n",
    "            elif on_nv == 2:\n",
    "                \n",
    "                # population\n",
    "                # a, b, c, d\n",
    "                rho[0,0], done[0,0] = multiply(tomo_1q[0,0], rho[0,0])   # a1*a2\n",
    "                rho[1,1], done[1,1] = multiply(tomo_1q[1,1], rho[1,1])   # a1*b2\n",
    "                rho[2,2], done[2,2] = multiply(tomo_1q[0,0], rho[2,2])   # b1*a2\n",
    "                rho[3,3], done[3,3] = multiply(tomo_1q[1,1], rho[3,3])   # b1*b2  \n",
    "                \n",
    "                # coherences\n",
    "                # f\n",
    "                rho[0,2], done[0,2] = multiply(tomo_1q[0,0], rho[0,2])   # c1*a2\n",
    "                # e \n",
    "                rho[0,1], done[0,1] = multiply(tomo_1q[0,1], rho[0,1])   # a1*c2\n",
    "                rho[2,0], done[2,0] = np.conj(rho[0,2]), done[0,2]   # c1*a2\n",
    "                rho[1,0], done[1,0] = np.conj(rho[0,1]), done[0,1]   # a1*c2\n",
    "                \n",
    "                \n",
    "                # OLD Neumann: get (a), b, e\n",
    "                #rho[0,0] = tomo_1q[0,0] # value doubled\n",
    "                #rho[0,1] = tomo_1q[0,1]  # REALLY?\n",
    "                #rho[1,0] = tomo_1q[1,0] # REALLY?\n",
    "                #rho[1,1] = tomo_1q[1,1]\n",
    "                \n",
    "            logger.info(f\"At item {key} with rot {rotation} and on {on_nv} re(rho)= {np.real(tomo_1q)}\")\n",
    "            \n",
    "        elif rotation == TomoRotations.c1not2:\n",
    "            if on_nv == 1:\n",
    "                rho[0,3], done[0,3] = multiply(tomo_1q[0,1], 1) #c1*c2 Roberto\n",
    "                rho[3,0], done[3,0] = np.conj(rho[0,3]),done[0,3]\n",
    "                #continue\n",
    "            else:\n",
    "                continue\n",
    "                # OLD Neumann: get (a), (d), g\n",
    "                #rho[0,3] = tomo_1q[0,1] # REALLY?\n",
    "                #rho[3,0] = tomo_1q[1,0] # REALLY?\n",
    "                #rho[3,3] = tomo_1q[1,1]\n",
    "        \n",
    "        elif rotation == TomoRotations.ux180_on_2:\n",
    "            #todo: still not correct\n",
    "            #\"\"\"\n",
    "            if on_nv == 1:\n",
    "                # coherences\n",
    "                # i\n",
    "                rho[1,3], done[1,3] = multiply(tomo_1q[0,1], rho[1,3])   # c1*a2\n",
    "                rho[3,1], done[3,1] = np.conj(rho[1,3]), done[1,3]       # c1*a2\n",
    "                \n",
    "            elif on_nv == 2:\n",
    "                rho[1,3], done[1,3] = multiply(tomo_1q[0,0], rho[1,3])   # c1*a2\n",
    "                rho[3,1], done[3,1] = np.conj(rho[1,3]), done[1,3]       # c1*a2\n",
    "                # OLD Neumann: get (b), d, i\n",
    "                #rho[1,3] = tomo_1q[0,1] # REALLY?\n",
    "                #rho[3,1] = tomo_1q[1,0] # REALLY?\n",
    "                #rho[3,3] = tomo_1q[1,1]\n",
    "            #\"\"\"\n",
    "        elif rotation == TomoRotations.ux180_on_1:\n",
    "            # todo: still not correct\n",
    "            #\"\"\"\n",
    "            if on_nv == 1:\n",
    "                # coherences\n",
    "                # i\n",
    "                rho[2,3], done[2,3] = multiply(tomo_1q[0,0], rho[2,3])   # a1*c2\n",
    "                rho[3,2], done[3,2] = np.conj(rho[2,3]), done[2,3]       # \n",
    "                \n",
    "            elif on_nv == 2:\n",
    "                rho[2,3], done[2,3] = multiply(tomo_1q[0,1], rho[2,3])   # \n",
    "                rho[3,2], done[3,2] = np.conj(rho[2,3]), done[2,3]       # \n",
    "                \n",
    "                # OLD Neumann: get (c), (d), j\n",
    "                #rho[2,3] = tomo_1q[0,1] # REALLY?\n",
    "                #rho[3,2] = tomo_1q[1,0] # REALLY?\n",
    "            #\"\"\"\n",
    "        elif rotation == TomoRotations.c2not1_ux180_on_1:\n",
    "            if on_nv == 2:\n",
    "                #continue\n",
    "                 rho[1,2], done[1,2] = multiply(tomo_1q[0,1],1) # c1*c2 Roberto\n",
    "                 rho[2,1], done[2,1] =  np.conj(rho[1,2]), done[1,2] \n",
    "            else:\n",
    "                continue\n",
    "                # OLD Neumann: get (b),(c), conj(h)\n",
    "                #rho[2,3] = np.conj(tomo_1q[0,1]) # REALLY?\n",
    "                #rho[3,2] = np.cong(tomo_1q[1,0]) # REALLY? \n",
    "        else:\n",
    "            continue\n",
    "        \n",
    "        done_rots.append((rotation, on_nv)) \n",
    "        logger.debug(f\"Sorting rho_{on_nv}=\\n{tomo_1q} into rho: rot= {rotation},\\\n",
    "                     re(rho)=\\n{np.real(rho)}, re(rho_before)=\\n{np.real(rho_saved)} key= {key}\")\n",
    "    \n",
    "    success = done[~np.isnan(rho)].all()\n",
    "    logger.debug(f\"done: {done}\")\n",
    "    if not success:\n",
    "        raise ValueError(f\"Not enough data to reconstruct. done array: {done}\")\n",
    "    \n",
    "    return rho\n",
    "\n",
    "rho = -1\n",
    "try:\n",
    "    tomo_rabis, ref_rabis = fit_rabis(p_raw, zdata='delta')  # 'z1'\n",
    "\n",
    "    #if len(list(ref_rabis.values())) != 2:\n",
    "     #   raise ValueError(\"Expected 2 rabi reference measurements, 1 on each NV\")\n",
    "        \n",
    "    rho = tomography_2q_from_2rabi(tomo_rabis, list(ref_rabis.values())[0], list(ref_rabis.values())[1])\n",
    "except:\n",
    "    logger.exception(\"\")\n",
    "\n",
    "np.set_printoptions(precision=4)\n",
    "np.set_printoptions(suppress=True)\n",
    "\n",
    "\n",
    "rhoReal = np.real(rho)\n",
    "rhoImag = np.imag(rho)\n",
    "\n",
    "#rhoReal\n",
    "rhoImag\n",
    "#np.savetxt(inpath + \"\\TestMatrixRealPart.txt\",rhoReal)\n",
    "#np.savetxt(inpath + \"\\TestMatrixImagPart.txt\",rhoImag)"
   ]
  },
  {
   "cell_type": "code",
   "execution_count": 34,
   "metadata": {
    "scrolled": true
   },
   "outputs": [
    {
     "name": "stderr",
     "output_type": "stream",
     "text": [
      "Traceback (most recent call last):\n",
      "  File \"C:\\Software\\qudi\\logic\\jupyterkernel\\qzmqkernel.py\", line 679, in run_code\n",
      "    exec(code_obj, self.user_global_ns, self.user_ns)\n",
      "  File \"<ipython-input-34-1db82aa7b1d2>\", line 1, in <module>\n",
      "    print(fit_dict.items())\n",
      "NameError: name 'fit_dict' is not defined\n"
     ]
    }
   ],
   "source": [
    "print(fit_dict.items())"
   ]
  },
  {
   "cell_type": "code",
   "execution_count": null,
   "metadata": {
    "scrolled": true
   },
   "outputs": [],
   "source": [
    "ref_rabis.keys(), tomo_rabis.keys()"
   ]
  },
  {
   "cell_type": "markdown",
   "metadata": {},
   "source": [
    "## Plot Rabis"
   ]
  },
  {
   "cell_type": "markdown",
   "metadata": {},
   "source": [
    "Attention: an offset between the reference Rabi and a certain measurement is relevant, even for correct amplitudes! \n",
    "    Both are used for the tomography, so we can't just omit any offset."
   ]
  },
  {
   "cell_type": "code",
   "execution_count": 43,
   "metadata": {
    "scrolled": false
   },
   "outputs": [
    {
     "data": {
      "text/plain": [
       "'D:\\\\Data\\\\2022\\\\04\\\\20220429\\\\PulsedMeasurement\\\\init_0+1,0+1/20220429-1724-51_tomography_on1_rot=none_phi=0_init_ux90_on_both_pulsed_measurement.dat'"
      ]
     },
     "execution_count": 43,
     "metadata": {},
     "output_type": "execute_result"
    },
    {
     "data": {
      "image/png": "[encoded data removed]"
     },
     "metadata": {
      "image/png": {
       "height": 277,
       "width": 700
      }
     },
     "output_type": "display_data"
    }
   ],
   "source": [
    "idx = 2\n",
    "try:\n",
    "    plot_rabis_for_tomo(p_raw, list(ref_rabis.values()), idx, zdata='z1')\n",
    "except:\n",
    "    logger.exception(\"\")\n",
    "\n",
    "p_raw[idx]['file']"
   ]
  },
  {
   "cell_type": "code",
   "execution_count": null,
   "metadata": {
    "scrolled": true
   },
   "outputs": [],
   "source": [
    "p_raw[1]['fit_res']"
   ]
  },
  {
   "cell_type": "code",
   "execution_count": null,
   "metadata": {
    "scrolled": true
   },
   "outputs": [],
   "source": [
    "fitter = pulsedmeasurementlogic.fc\n",
    "fitter.set_current_fit(fit_meth)\n",
    "\n",
    "fitter.fit_list[fit_meth]['parameters']['s2_amplitude']"
   ]
  },
  {
   "cell_type": "code",
   "execution_count": 20,
   "metadata": {
    "scrolled": true
   },
   "outputs": [
    {
     "name": "stderr",
     "output_type": "stream",
     "text": [
      "Traceback (most recent call last):\n",
      "  File \"C:\\Software\\qudi\\logic\\jupyterkernel\\qzmqkernel.py\", line 679, in run_code\n",
      "    exec(code_obj, self.user_global_ns, self.user_ns)\n",
      "  File \"<ipython-input-20-cdd5555ffee3>\", line 1, in <module>\n",
      "    print(rho[0,3])\n",
      "TypeError: 'int' object is not subscriptable\n"
     ]
    }
   ],
   "source": [
    "print(rho[0,3])"
   ]
  },
  {
   "cell_type": "code",
   "execution_count": null,
   "metadata": {},
   "outputs": [],
   "source": []
  }
 ],
 "metadata": {
  "kernelspec": {
   "display_name": "Qudi",
   "language": "python",
   "name": "qudi"
  },
  "language_info": {
   "codemirror_mode": {
    "name": "ipython",
    "version": "3.6.5"
   },
   "file_extension": ".py",
   "mimetype": "text/x-python",
   "name": "python",
   "nbconvert_exporter": "python",
   "pygments_lexer": "ipython3",
   "version": "3.6.5"
  },
  "toc": {
   "base_numbering": 1,
   "nav_menu": {},
   "number_sections": true,
   "sideBar": true,
   "skip_h1_title": false,
   "title_cell": "Table of Contents",
   "title_sidebar": "Contents",
   "toc_cell": false,
   "toc_position": {
    "height": "1013px",
    "left": "76px",
    "top": "111.125px",
    "width": "245px"
   },
   "toc_section_display": true,
   "toc_window_display": true
  },
  "varInspector": {
   "cols": {
    "lenName": 16,
    "lenType": 16,
    "lenVar": 40
   },
   "kernels_config": {
    "python": {
     "delete_cmd_postfix": "",
     "delete_cmd_prefix": "del ",
     "library": "var_list.py",
     "varRefreshCmd": "print(var_dic_list())"
    },
    "r": {
     "delete_cmd_postfix": ") ",
     "delete_cmd_prefix": "rm(",
     "library": "var_list.r",
     "varRefreshCmd": "cat(var_dic_list()) "
    }
   },
   "position": {
    "height": "792px",
    "left": "1844px",
    "right": "20px",
    "top": "124px",
    "width": "350px"
   },
   "types_to_exclude": [
    "module",
    "function",
    "builtin_function_or_method",
    "instance",
    "_Feature"
   ],
   "window_display": true
  }
 },
 "nbformat": 4,
 "nbformat_minor": 2
}
