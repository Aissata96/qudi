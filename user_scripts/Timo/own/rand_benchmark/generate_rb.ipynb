{
 "cells": [
  {
   "cell_type": "code",
   "execution_count": 1,
   "id": "c1abd86d",
   "metadata": {},
   "outputs": [
    {
     "name": "stderr",
     "output_type": "stream",
     "text": [
      "C:\\Users\\Timo\\AppData\\Local\\Temp\\ipykernel_42808\\213096259.py:15: DeprecationWarning: The qiskit.ignis package is deprecated and has been supersceded by the qiskit-experiments project. Refer to the migration guide: https://github.com/Qiskit/qiskit-ignis#migration-guide on how to migrate to the new project.\n",
      "  import qiskit.ignis.verification.randomized_benchmarking as rb\n"
     ]
    },
    {
     "data": {
      "text/plain": [
       "('0.23.0',\n",
       " '3.8.16 (default, Jan 17 2023, 22:25:28) [MSC v.1916 64 bit (AMD64)]')"
      ]
     },
     "execution_count": 1,
     "metadata": {},
     "output_type": "execute_result"
    }
   ],
   "source": [
    "from math import gcd \n",
    "import math\n",
    "import numpy as np\n",
    "import matplotlib.pyplot as plt\n",
    "import os\n",
    "import sys\n",
    "import random\n",
    "from datetime import datetime\n",
    "import copy as cp\n",
    "\n",
    "import qiskit\n",
    "from qiskit import assemble, transpile\n",
    "from qiskit.providers.aer.noise import NoiseModel\n",
    "from qiskit.providers.aer.noise.errors.standard_errors import depolarizing_error, thermal_relaxation_error\n",
    "import qiskit.ignis.verification.randomized_benchmarking as rb\n",
    "\n",
    "qiskit.__version__, sys.version"
   ]
  },
  {
   "cell_type": "markdown",
   "id": "31a439d4",
   "metadata": {},
   "source": [
    "# Library"
   ]
  },
  {
   "cell_type": "code",
   "execution_count": 295,
   "id": "361cd0c3",
   "metadata": {},
   "outputs": [
    {
     "data": {
      "text/plain": [
       "0"
      ]
     },
     "execution_count": 295,
     "metadata": {},
     "output_type": "execute_result"
    }
   ],
   "source": [
    "def filter_same_n_cnot(rb_circs):\n",
    "    rb_circs_filtered = []\n",
    "    n_clif_vec = len(rb_circs)\n",
    "    for i in range(0, n_clif_vec):\n",
    "        circs_i = []\n",
    "\n",
    "        n_cnots = [get_n_cx(c) for c in rb_circs[i]]\n",
    "        most_common = max(set(n_cnots), key = n_cnots.count)\n",
    "        n_cnots_target = most_common\n",
    "                \n",
    "        filtered = filter(lambda c: get_n_cx(c) == n_cnots_target, rb_circs[i])\n",
    "        rb_circs_filtered.append(list(filtered))\n",
    "    return rb_circs_filtered\n",
    "\n",
    "def clip_same_n_rand(rb_circs):\n",
    "    n_rand = [len(circs) for circs in rb_circs]\n",
    "    min_n = np.min(n_rand)\n",
    "    \n",
    "    rb_circs_out = []\n",
    "    \n",
    "    for i in range(0, len(rb_circs)):\n",
    "        rb_circs_rand = []\n",
    "        for j in range(0, min_n):\n",
    "            rb_circs_rand.append(rb_circs[i][j])\n",
    "        rb_circs_out.append(rb_circs_rand)\n",
    "\n",
    "    return rb_circs_out\n",
    "\n",
    "def calc_cx(rb_circs):\n",
    "    # calculate number of cnots per xdata step\n",
    "    arr = np.zeros((len(rb_circs),len(rb_circs[0])))\n",
    "    for i in range(0, len(rb_circs)):\n",
    "        for j in range(0, len(rb_circs[0])):\n",
    "            arr[i,j] = get_n_cx(rb_circs[i][j])\n",
    "    return arr\n",
    "\n",
    "def calc_1q(rb_circs):\n",
    "    # calculate number of cnots per xdata step\n",
    "    arr = np.zeros((len(rb_circs),len(rb_circs[0])))\n",
    "    for i in range(0, len(rb_circs)):\n",
    "        for j in range(0, len(rb_circs[0])):\n",
    "            arr[i,j] = get_n_1q_rot(rb_circs[i][j])\n",
    "    return arr\n",
    "\n",
    "def get_n_cx(circ):\n",
    "    if type(circ) == list:\n",
    "        # after conversion to qudi format\n",
    "        return np.sum([el[0][0]=='cx' for el in circ[1]])\n",
    "    \n",
    "    return np.sum([el[0].name=='cx' for el in circ.data])\n",
    "\n",
    "def get_n_1q_rot(circ, basis_gates=['ry', 'rx']):\n",
    "    if type(circ) == list:\n",
    "        # after conversion to qudi format\n",
    "        return np.sum([el[0][0] in basis_gates for el in circ[1]])\n",
    "    \n",
    "    return np.sum([el[0].name in basis_gates for el in circ.data])\n",
    "\n",
    "\n",
    "def is_interleaved(rb_opts):\n",
    "    if 'interleaved_gates' not in rb_opts:\n",
    "        return False\n",
    "    return rb_opts['interleaved_gates'] != []\n",
    "\n",
    "def circuit_step_2_qubit_idx(cstep, swap_qubits=False):\n",
    "    qregister = cstep[1]\n",
    "    if len(qregister) == 2:\n",
    "        return [0,1]\n",
    "    elif len(qregister) == 1:\n",
    "        reg_str = str(qregister[0])\n",
    "        if \", 1\" in reg_str:\n",
    "            return [1] if not swap_qubits else [0]\n",
    "        elif \", 0\" in reg_str:\n",
    "            return [0] if not swap_qubits else [1]\n",
    "    elif len(qregister) > 2:\n",
    "        raise NotImplementedError\n",
    "\n",
    "def circuit_step_2_gatestr(cstep):\n",
    "    return cstep[0].name, [float(p) for p in cstep[0].params]\n",
    "\n",
    "def circuit_2_step_list(circ, qubit_idx=0, swap_qubits=False):\n",
    "    gate_strs, on_nv = [],[]\n",
    "    for step in circ.data:\n",
    "         gate_strs.append(circuit_step_2_gatestr(step))\n",
    "         on_nv.append(circuit_step_2_qubit_idx(step, swap_qubits=swap_qubits))\n",
    "    \n",
    "    step_list = list(zip(gate_strs, on_nv))\n",
    "    #return step_list\n",
    "    return [step for step in step_list if qubit_idx in step[1]]\n",
    "\n",
    "def serialize_step_list(steps_q0, steps_q1):\n",
    "    # todo: seems over-complicated, but works\n",
    "    ser_list = []\n",
    "    \n",
    "    idx_0, idx_1 = 0, 0\n",
    "    while not (idx_0==len(steps_q0) and idx_1==len(steps_q1)):   \n",
    "        is_end_0, is_end_1 = False, False\n",
    "        is_2q_0, is_2q_1 = False, False\n",
    "        try:\n",
    "            is_2q_0 = len(steps_q0[idx_0][1]) == 2\n",
    "        except IndexError:\n",
    "            is_end_0 = True\n",
    "        try:\n",
    "            is_2q_1 = len(steps_q1[idx_1][1]) == 2\n",
    "        except IndexError:\n",
    "            is_end_1 = True\n",
    "        \n",
    "        #print(f\"Now list: {ser_list}. \\nEnd: {is_end_0}, {is_end_1}, 2q: {is_2q_0}, {is_2q_1}\")\n",
    "        try:\n",
    "            if (not is_2q_0) and (not is_2q_1) and (not is_end_0) and (not is_end_1):\n",
    "                ser_list.append(steps_q0[idx_0])\n",
    "                ser_list.append(steps_q1[idx_1])\n",
    "                idx_0 += 1\n",
    "                idx_1 += 1\n",
    "\n",
    "            elif (is_2q_0) and (not is_2q_1) and (not is_end_1):\n",
    "                ser_list.append(steps_q1[idx_1])\n",
    "                idx_1 += 1\n",
    "\n",
    "            elif (not is_2q_0) and (is_2q_1) and (not is_end_0):\n",
    "                ser_list.append(steps_q0[idx_0])\n",
    "                idx_0 += 1\n",
    "\n",
    "            elif (is_2q_0) and (is_2q_1):\n",
    "                ser_list.append(steps_q0[idx_0])\n",
    "                idx_0 += 1\n",
    "                idx_1 += 1\n",
    "            elif is_end_0:\n",
    "                ser_list.append(steps_q1[idx_1])\n",
    "                idx_1 += 1\n",
    "            elif is_end_1:\n",
    "                ser_list.append(steps_q0[idx_0])\n",
    "                idx_0 += 1\n",
    "            else:\n",
    "                raise RuntimeError(f\"Failed at idxs {idx_0}, {idx_1}\")\n",
    "                \n",
    "        except IndexError:\n",
    "            raise IndexError(f\"Failed at idxs {idx_0}, {idx_1}\")\n",
    "        \n",
    "            \n",
    "    return ser_list\n",
    "\n",
    "\n",
    "\n",
    "0"
   ]
  },
  {
   "cell_type": "markdown",
   "id": "a38458ae",
   "metadata": {},
   "source": [
    "# Create random benchmarking list\n"
   ]
  },
  {
   "cell_type": "code",
   "execution_count": 280,
   "id": "094be8fe",
   "metadata": {},
   "outputs": [
    {
     "data": {
      "text/plain": [
       "{'n_qubits': 2,\n",
       " 'force_n_cx_const': True,\n",
       " 'timestamp': '20230202-1815-55',\n",
       " 'qiskit_version': '0.23.0',\n",
       " 'rb_options': {'length_vector': [1, 2, 3, 4, 5, 6, 7, 8, 9],\n",
       "  'nseeds': 50,\n",
       "  'rb_pattern': [[0, 1]]}}"
      ]
     },
     "execution_count": 280,
     "metadata": {},
     "output_type": "execute_result"
    }
   ],
   "source": [
    "params = {}\n",
    "\n",
    "# number of qubits\n",
    "params['n_qubits'] = 2\n",
    "params['force_n_cx_const'] = True\n",
    "\n",
    "rb_opts = {}\n",
    "#Number of Cliffords in the sequence\n",
    "rb_opts['length_vector'] = [i for i in range(1,10)]\n",
    "#rb_opts['length_vector'] = [2,4,8,16,32,48,64,96,128,144]\n",
    "# Number of seeds (random sequences)\n",
    "rb_opts['nseeds'] = 50\n",
    "# Default pattern\n",
    "rb_opts['rb_pattern'] = [[0,1]] if params['n_qubits']==2 else [[0]]\n",
    "# benchmark a specific gate\n",
    "#rb_opts['interleaved_gates'] = [[['x']]]#[['cx 0 1']]\n",
    "\n",
    "rb_circs, xdata = rb.randomized_benchmarking_seq(**rb_opts)\n",
    "\n",
    "# transpose rb_circ st 2nd index is random index\n",
    "rb_circs = list(map(list, zip(*rb_circs)))\n",
    "\n",
    "if params['force_n_cx_const']:\n",
    "    rb_circs = filter_same_n_cnot(rb_circs) \n",
    "    rb_circs = clip_same_n_rand(rb_circs)\n",
    "\n",
    "rb_circs_orig = cp.deepcopy(rb_circs)\n",
    "\n",
    "# keep copy with original list order for simulation \n",
    "rb_circs_orig = list(map(list, zip(*rb_circs_orig)))\n",
    "rb_circs_native = []\n",
    "\n",
    "now = datetime.now() # current date and time\n",
    "params['timestamp'] = now.strftime(\"%Y%m%d-%H%M-%S\")\n",
    "params['qiskit_version'] = qiskit.__version__\n",
    "params['rb_options'] = rb_opts\n",
    "\n",
    "params"
   ]
  },
  {
   "cell_type": "code",
   "execution_count": 252,
   "id": "30210de1",
   "metadata": {},
   "outputs": [
    {
     "data": {
      "text/plain": [
       "(<qiskit.circuit.quantumcircuit.QuantumCircuit at 0x1f12a0885e0>, 4)"
      ]
     },
     "execution_count": 252,
     "metadata": {},
     "output_type": "execute_result"
    }
   ],
   "source": [
    "circ = rb_circs[0][1]\n",
    "circ, get_n_cx(circ)"
   ]
  },
  {
   "cell_type": "code",
   "execution_count": 281,
   "id": "740266ec",
   "metadata": {},
   "outputs": [
    {
     "data": {
      "text/plain": [
       "[9, 9, 9, 9, 9, 9, 9, 9, 9]"
      ]
     },
     "execution_count": 281,
     "metadata": {},
     "output_type": "execute_result"
    }
   ],
   "source": [
    "n_rand = [len(circs) for circs in rb_circs]\n",
    "n_rand\n",
    "#clip_same_n_rand(rb_circs_f)"
   ]
  },
  {
   "cell_type": "code",
   "execution_count": 282,
   "id": "78b566d4",
   "metadata": {},
   "outputs": [
    {
     "data": {
      "text/plain": [
       "0"
      ]
     },
     "execution_count": 282,
     "metadata": {},
     "output_type": "execute_result"
    }
   ],
   "source": [
    "get_n_1q_rot(rb_circs[0][0])"
   ]
  },
  {
   "cell_type": "code",
   "execution_count": 283,
   "id": "9875e025",
   "metadata": {},
   "outputs": [
    {
     "data": {
      "text/plain": [
       "(array([[ 2.,  2.,  2.,  2.,  2.,  2.,  2.,  2.,  2.],\n",
       "        [ 4.,  4.,  4.,  4.,  4.,  4.,  4.,  4.,  4.],\n",
       "        [ 7.,  7.,  7.,  7.,  7.,  7.,  7.,  7.,  7.],\n",
       "        [ 8.,  8.,  8.,  8.,  8.,  8.,  8.,  8.,  8.],\n",
       "        [ 9.,  9.,  9.,  9.,  9.,  9.,  9.,  9.,  9.],\n",
       "        [10., 10., 10., 10., 10., 10., 10., 10., 10.],\n",
       "        [12., 12., 12., 12., 12., 12., 12., 12., 12.],\n",
       "        [13., 13., 13., 13., 13., 13., 13., 13., 13.],\n",
       "        [14., 14., 14., 14., 14., 14., 14., 14., 14.]]),\n",
       " array([[0., 0., 0., 0., 0., 0., 0., 0., 0.],\n",
       "        [0., 0., 0., 0., 0., 0., 0., 0., 0.],\n",
       "        [0., 0., 0., 0., 0., 0., 0., 0., 0.],\n",
       "        [0., 0., 0., 0., 0., 0., 0., 0., 0.],\n",
       "        [0., 0., 0., 0., 0., 0., 0., 0., 0.],\n",
       "        [0., 0., 0., 0., 0., 0., 0., 0., 0.],\n",
       "        [0., 0., 0., 0., 0., 0., 0., 0., 0.],\n",
       "        [0., 0., 0., 0., 0., 0., 0., 0., 0.],\n",
       "        [0., 0., 0., 0., 0., 0., 0., 0., 0.]]))"
      ]
     },
     "execution_count": 283,
     "metadata": {},
     "output_type": "execute_result"
    }
   ],
   "source": [
    "calc_cx(rb_circs), calc_1q(rb_circs)  # doto, calc_1q is broken"
   ]
  },
  {
   "cell_type": "code",
   "execution_count": 284,
   "id": "a1eab070",
   "metadata": {},
   "outputs": [
    {
     "data": {
      "text/plain": [
       "(array([ 2.,  4.,  7.,  8.,  9., 10., 12., 13., 14.]),\n",
       " array([ 2.,  4.,  7.,  8.,  9., 10., 12., 13., 14.]))"
      ]
     },
     "execution_count": 284,
     "metadata": {},
     "output_type": "execute_result"
    }
   ],
   "source": [
    "# count mean, median Cnots per idx_cliff\n",
    "np.mean(calc_cx(rb_circs), axis=1), np.median(calc_cx(rb_circs), axis=1)"
   ]
  },
  {
   "cell_type": "code",
   "execution_count": 285,
   "id": "ac2b7d26",
   "metadata": {},
   "outputs": [
    {
     "data": {
      "text/plain": [
       "(array([0., 0., 0., 0., 0., 0., 0., 0., 0.]),\n",
       " array([0., 0., 0., 0., 0., 0., 0., 0., 0.]))"
      ]
     },
     "execution_count": 285,
     "metadata": {},
     "output_type": "execute_result"
    }
   ],
   "source": [
    "# count mean, median 1qs per idx_cliff\n",
    "np.mean(calc_1q(rb_circs), axis=1), np.median(calc_1q(rb_circs), axis=1)"
   ]
  },
  {
   "cell_type": "code",
   "execution_count": 288,
   "id": "ab3aac41",
   "metadata": {},
   "outputs": [
    {
     "data": {
      "text/html": [
       "<pre style=\"word-wrap: normal;white-space: pre;background: #fff0;line-height: 1.1;font-family: &quot;Courier New&quot;,Courier,monospace\">      ┌─────┐┌───┐     ┌───┐┌───┐ ░ ┌─────┐┌───┐     ┌───┐┌───┐┌─┐   \n",
       "qr_0: ┤ Sdg ├┤ H ├──■──┤ H ├┤ S ├─░─┤ Sdg ├┤ H ├──■──┤ H ├┤ S ├┤M├───\n",
       "      ├─────┤├───┤┌─┴─┐└───┘└───┘ ░ └─────┘└───┘┌─┴─┐├───┤├───┤└╥┘┌─┐\n",
       "qr_1: ┤ Sdg ├┤ H ├┤ X ├───────────░─────────────┤ X ├┤ H ├┤ S ├─╫─┤M├\n",
       "      └─────┘└───┘└───┘           ░             └───┘└───┘└───┘ ║ └╥┘\n",
       "cr: 2/══════════════════════════════════════════════════════════╩══╩═\n",
       "                                                                0  1 </pre>"
      ],
      "text/plain": [
       "      ┌─────┐┌───┐     ┌───┐┌───┐ ░ ┌─────┐┌───┐     ┌───┐┌───┐┌─┐   \n",
       "qr_0: ┤ Sdg ├┤ H ├──■──┤ H ├┤ S ├─░─┤ Sdg ├┤ H ├──■──┤ H ├┤ S ├┤M├───\n",
       "      ├─────┤├───┤┌─┴─┐└───┘└───┘ ░ └─────┘└───┘┌─┴─┐├───┤├───┤└╥┘┌─┐\n",
       "qr_1: ┤ Sdg ├┤ H ├┤ X ├───────────░─────────────┤ X ├┤ H ├┤ S ├─╫─┤M├\n",
       "      └─────┘└───┘└───┘           ░             └───┘└───┘└───┘ ║ └╥┘\n",
       "cr: 2/══════════════════════════════════════════════════════════╩══╩═\n",
       "                                                                0  1 "
      ]
     },
     "execution_count": 288,
     "metadata": {},
     "output_type": "execute_result"
    }
   ],
   "source": [
    "circ = rb_circs[0][-1]  # indices: n_order, m_random\n",
    "circ.draw()\n"
   ]
  },
  {
   "cell_type": "markdown",
   "id": "fd8e646a",
   "metadata": {},
   "source": [
    "The defualt gate set used is by qiskit convention (X,Y,Sdg,H,CX). We transpile to a somewhat more useful gate set for NV experiment (1, pi2_x, pi2_y, CNOT)."
   ]
  },
  {
   "cell_type": "code",
   "execution_count": 289,
   "id": "38277b99",
   "metadata": {},
   "outputs": [],
   "source": [
    "\n",
    "for circ_list in rb_circs:\n",
    "    rb_i = []\n",
    "    for circ_in in circ_list:\n",
    "        rb_i.append(transpile(circ_in, basis_gates=['id', 'ry', 'rx', 'cx']) )\n",
    "    rb_circs_native.append(cp.deepcopy(rb_i))"
   ]
  },
  {
   "cell_type": "code",
   "execution_count": 290,
   "id": "f5aa19a9",
   "metadata": {},
   "outputs": [
    {
     "data": {
      "text/html": [
       "<pre style=\"word-wrap: normal;white-space: pre;background: #fff0;line-height: 1.1;font-family: &quot;Courier New&quot;,Courier,monospace\">global phase: π\n",
       "      ┌─────────┐┌─────────┐ ┌─────────┐       ░      ┌─────────┐┌─────────┐»\n",
       "qr_0: ┤ Rx(π/2) ├┤ Ry(π/2) ├─┤ Rx(π/2) ├───■───░───■──┤ Rx(π/2) ├┤ Ry(π/2) ├»\n",
       "      ├─────────┤├─────────┴┐├─────────┴┐┌─┴─┐ ░ ┌─┴─┐├─────────┤├─────────┤»\n",
       "qr_1: ┤ Rx(π/2) ├┤ Ry(-π/2) ├┤ Rx(-π/2) ├┤ X ├─░─┤ X ├┤ Rx(π/2) ├┤ Ry(π/2) ├»\n",
       "      └─────────┘└──────────┘└──────────┘└───┘ ░ └───┘└─────────┘└─────────┘»\n",
       "cr: 2/══════════════════════════════════════════════════════════════════════»\n",
       "                                                                            »\n",
       "«      ┌─────────┐ ┌─┐   \n",
       "«qr_0: ┤ Rx(π/2) ├─┤M├───\n",
       "«      ├─────────┴┐└╥┘┌─┐\n",
       "«qr_1: ┤ Rx(-π/2) ├─╫─┤M├\n",
       "«      └──────────┘ ║ └╥┘\n",
       "«cr: 2/═════════════╩══╩═\n",
       "«                   0  1 </pre>"
      ],
      "text/plain": [
       "global phase: π\n",
       "      ┌─────────┐┌─────────┐ ┌─────────┐       ░      ┌─────────┐┌─────────┐»\n",
       "qr_0: ┤ Rx(π/2) ├┤ Ry(π/2) ├─┤ Rx(π/2) ├───■───░───■──┤ Rx(π/2) ├┤ Ry(π/2) ├»\n",
       "      ├─────────┤├─────────┴┐├─────────┴┐┌─┴─┐ ░ ┌─┴─┐├─────────┤├─────────┤»\n",
       "qr_1: ┤ Rx(π/2) ├┤ Ry(-π/2) ├┤ Rx(-π/2) ├┤ X ├─░─┤ X ├┤ Rx(π/2) ├┤ Ry(π/2) ├»\n",
       "      └─────────┘└──────────┘└──────────┘└───┘ ░ └───┘└─────────┘└─────────┘»\n",
       "cr: 2/══════════════════════════════════════════════════════════════════════»\n",
       "                                                                            »\n",
       "«      ┌─────────┐ ┌─┐   \n",
       "«qr_0: ┤ Rx(π/2) ├─┤M├───\n",
       "«      ├─────────┴┐└╥┘┌─┐\n",
       "«qr_1: ┤ Rx(-π/2) ├─╫─┤M├\n",
       "«      └──────────┘ ║ └╥┘\n",
       "«cr: 2/═════════════╩══╩═\n",
       "«                   0  1 "
      ]
     },
     "execution_count": 290,
     "metadata": {},
     "output_type": "execute_result"
    }
   ],
   "source": [
    "\n",
    "circ = rb_circs_native[0][3]\n",
    "circ.draw()\n"
   ]
  },
  {
   "cell_type": "code",
   "execution_count": 232,
   "id": "9521f7ab",
   "metadata": {},
   "outputs": [
    {
     "data": {
      "text/plain": [
       "[-1.5707963267948966]"
      ]
     },
     "execution_count": 232,
     "metadata": {},
     "output_type": "execute_result"
    }
   ],
   "source": [
    "circ.data[0][0].params"
   ]
  },
  {
   "cell_type": "markdown",
   "id": "12d70bad",
   "metadata": {},
   "source": [
    "## Simulate"
   ]
  },
  {
   "cell_type": "code",
   "execution_count": 270,
   "id": "f0312b72",
   "metadata": {},
   "outputs": [
    {
     "data": {
      "text/latex": [
       "$$\n",
       "\\text{Unitary} = \n",
       "\\begin{bmatrix}\n",
       "\\frac{\\sqrt{2}}{2} + \\frac{\\sqrt{2} i}{2} & 0 & 0 & 0  \\\\\n",
       " 0 & \\frac{\\sqrt{2}}{2} + \\frac{\\sqrt{2} i}{2} & 0 & 0  \\\\\n",
       " 0 & 0 & \\frac{\\sqrt{2}}{2} + \\frac{\\sqrt{2} i}{2} & 0  \\\\\n",
       " 0 & 0 & 0 & \\frac{\\sqrt{2}}{2} + \\frac{\\sqrt{2} i}{2}  \\\\\n",
       " \\end{bmatrix}\n",
       "$$"
      ],
      "text/plain": [
       "<IPython.core.display.Latex object>"
      ]
     },
     "execution_count": 270,
     "metadata": {},
     "output_type": "execute_result"
    }
   ],
   "source": [
    "# Create a new circuit without the measurement\n",
    "qregs = rb_circs_orig[0][1].qregs\n",
    "cregs = rb_circs_orig[0][1].cregs\n",
    "qc = qiskit.QuantumCircuit(*qregs, *cregs)\n",
    "for i in rb_circs_orig[0][-1][0:-params['n_qubits']]:\n",
    "    qc.data.append(i)\n",
    "    \n",
    "qc\n",
    "\n",
    "sim = qiskit.Aer.get_backend('aer_simulator')\n",
    "basis_gates = ['u1','u2','u3','cx'] # use U,CX for now\n",
    "qc.save_unitary()\n",
    "unitary = sim.run(qc).result().get_unitary()\n",
    "from qiskit.visualization import array_to_latex\n",
    "array_to_latex(unitary, prefix=\"\\\\text{Unitary} = \")"
   ]
  },
  {
   "cell_type": "code",
   "execution_count": 271,
   "id": "234bb764",
   "metadata": {},
   "outputs": [
    {
     "ename": "StopIteration",
     "evalue": "",
     "output_type": "error",
     "traceback": [
      "\u001b[1;31m---------------------------------------------------------------------------\u001b[0m",
      "\u001b[1;31mStopIteration\u001b[0m                             Traceback (most recent call last)",
      "Cell \u001b[1;32mIn[271], line 30\u001b[0m\n\u001b[0;32m     26\u001b[0m     job \u001b[38;5;241m=\u001b[39m backend\u001b[38;5;241m.\u001b[39mrun(qobj,\n\u001b[0;32m     27\u001b[0m                       noise_model\u001b[38;5;241m=\u001b[39mnoise_model,\n\u001b[0;32m     28\u001b[0m                       max_parallel_experiments\u001b[38;5;241m=\u001b[39m\u001b[38;5;241m0\u001b[39m)\n\u001b[0;32m     29\u001b[0m     \u001b[38;5;66;03m# Add data to the fitter\u001b[39;00m\n\u001b[1;32m---> 30\u001b[0m     \u001b[43mrb_fit\u001b[49m\u001b[38;5;241;43m.\u001b[39;49m\u001b[43madd_data\u001b[49m\u001b[43m(\u001b[49m\u001b[43mjob\u001b[49m\u001b[38;5;241;43m.\u001b[39;49m\u001b[43mresult\u001b[49m\u001b[43m(\u001b[49m\u001b[43m)\u001b[49m\u001b[43m)\u001b[49m\n\u001b[0;32m     31\u001b[0m     \u001b[38;5;66;03m#print('After seed %d, alpha: %f, EPC: %f'%(rb_seed,rb_fit.fit[0]['params'][1], rb_fit.fit[0]['epc']))\u001b[39;00m\n\u001b[0;32m     33\u001b[0m plt\u001b[38;5;241m.\u001b[39mfigure(figsize\u001b[38;5;241m=\u001b[39m(\u001b[38;5;241m8\u001b[39m, \u001b[38;5;241m6\u001b[39m))\n",
      "File \u001b[1;32mC:\\ProgramData\\Anaconda3\\envs\\qiskit_upd\\lib\\site-packages\\qiskit\\ignis\\verification\\randomized_benchmarking\\fitters.py:252\u001b[0m, in \u001b[0;36mRBFitter.add_data\u001b[1;34m(self, new_backend_result, rerun_fit)\u001b[0m\n\u001b[0;32m    249\u001b[0m             \u001b[38;5;28mself\u001b[39m\u001b[38;5;241m.\u001b[39m_nseeds\u001b[38;5;241m.\u001b[39mappend(nseeds_circ)\n\u001b[0;32m    251\u001b[0m \u001b[38;5;28;01mif\u001b[39;00m rerun_fit:\n\u001b[1;32m--> 252\u001b[0m     \u001b[38;5;28;43mself\u001b[39;49m\u001b[38;5;241;43m.\u001b[39;49m\u001b[43mcalc_data\u001b[49m\u001b[43m(\u001b[49m\u001b[43m)\u001b[49m\n\u001b[0;32m    253\u001b[0m     \u001b[38;5;28mself\u001b[39m\u001b[38;5;241m.\u001b[39mcalc_statistics()\n\u001b[0;32m    254\u001b[0m     \u001b[38;5;28mself\u001b[39m\u001b[38;5;241m.\u001b[39mfit_data()\n",
      "File \u001b[1;32mC:\\ProgramData\\Anaconda3\\envs\\qiskit_upd\\lib\\site-packages\\qiskit\\ignis\\verification\\randomized_benchmarking\\fitters.py:315\u001b[0m, in \u001b[0;36mRBFitter.calc_data\u001b[1;34m(self)\u001b[0m\n\u001b[0;32m    312\u001b[0m     \u001b[38;5;28;01mfor\u001b[39;00m k, _ \u001b[38;5;129;01min\u001b[39;00m \u001b[38;5;28menumerate\u001b[39m(\u001b[38;5;28mself\u001b[39m\u001b[38;5;241m.\u001b[39m_cliff_lengths[patt_ind]):\n\u001b[0;32m    313\u001b[0m         circ_name \u001b[38;5;241m=\u001b[39m \u001b[38;5;28mself\u001b[39m\u001b[38;5;241m.\u001b[39m_circ_name_type \u001b[38;5;241m+\u001b[39m \u001b[38;5;124m'\u001b[39m\u001b[38;5;124m_length_\u001b[39m\u001b[38;5;132;01m%d\u001b[39;00m\u001b[38;5;124m_seed_\u001b[39m\u001b[38;5;132;01m%d\u001b[39;00m\u001b[38;5;124m'\u001b[39m \\\n\u001b[0;32m    314\u001b[0m                     \u001b[38;5;241m%\u001b[39m (k, seed)\n\u001b[1;32m--> 315\u001b[0m         counts_subspace \u001b[38;5;241m=\u001b[39m \u001b[43mmarginal_counts\u001b[49m\u001b[43m(\u001b[49m\n\u001b[0;32m    316\u001b[0m \u001b[43m            \u001b[49m\u001b[43mcirc_counts\u001b[49m\u001b[43m[\u001b[49m\u001b[43mcirc_name\u001b[49m\u001b[43m]\u001b[49m\u001b[43m,\u001b[49m\n\u001b[0;32m    317\u001b[0m \u001b[43m            \u001b[49m\u001b[43mnp\u001b[49m\u001b[38;5;241;43m.\u001b[39;49m\u001b[43marange\u001b[49m\u001b[43m(\u001b[49m\u001b[43mstartind\u001b[49m\u001b[43m,\u001b[49m\u001b[43m \u001b[49m\u001b[43mendind\u001b[49m\u001b[43m)\u001b[49m\u001b[43m)\u001b[49m\n\u001b[0;32m    318\u001b[0m         \u001b[38;5;28mself\u001b[39m\u001b[38;5;241m.\u001b[39m_raw_data[\u001b[38;5;241m-\u001b[39m\u001b[38;5;241m1\u001b[39m][seedidx]\u001b[38;5;241m.\u001b[39mappend(\n\u001b[0;32m    319\u001b[0m             counts_subspace\u001b[38;5;241m.\u001b[39mget(string_of_0s, \u001b[38;5;241m0\u001b[39m)\n\u001b[0;32m    320\u001b[0m             \u001b[38;5;241m/\u001b[39m circ_shots[circ_name])\n\u001b[0;32m    321\u001b[0m startind \u001b[38;5;241m=\u001b[39m endind\n",
      "File \u001b[1;32mC:\\ProgramData\\Anaconda3\\envs\\qiskit_upd\\lib\\site-packages\\qiskit\\ignis\\verification\\tomography\\data.py:56\u001b[0m, in \u001b[0;36mmarginal_counts\u001b[1;34m(counts, meas_qubits, pad_zeros)\u001b[0m\n\u001b[0;32m     37\u001b[0m \u001b[38;5;124;03m\"\"\"\u001b[39;00m\n\u001b[0;32m     38\u001b[0m \u001b[38;5;124;03mCompute marginal counts from a counts dictionary.\u001b[39;00m\n\u001b[0;32m     39\u001b[0m \n\u001b[1;32m   (...)\u001b[0m\n\u001b[0;32m     50\u001b[0m \u001b[38;5;124;03m    the input dictionary, but with whitespace trimmed from the keys.\u001b[39;00m\n\u001b[0;32m     51\u001b[0m \u001b[38;5;124;03m\"\"\"\u001b[39;00m\n\u001b[0;32m     53\u001b[0m \u001b[38;5;66;03m# Extract total number of qubits from first count key\u001b[39;00m\n\u001b[0;32m     54\u001b[0m \u001b[38;5;66;03m# We trim the whitespace seperating classical registers\u001b[39;00m\n\u001b[0;32m     55\u001b[0m \u001b[38;5;66;03m# and count the number of digits\u001b[39;00m\n\u001b[1;32m---> 56\u001b[0m num_qubits \u001b[38;5;241m=\u001b[39m \u001b[38;5;28mlen\u001b[39m(\u001b[38;5;28;43mnext\u001b[39;49m\u001b[43m(\u001b[49m\u001b[38;5;28;43miter\u001b[39;49m\u001b[43m(\u001b[49m\u001b[43mcounts\u001b[49m\u001b[43m)\u001b[49m\u001b[43m)\u001b[49m\u001b[38;5;241m.\u001b[39mreplace(\u001b[38;5;124m'\u001b[39m\u001b[38;5;124m \u001b[39m\u001b[38;5;124m'\u001b[39m, \u001b[38;5;124m'\u001b[39m\u001b[38;5;124m'\u001b[39m))\n\u001b[0;32m     58\u001b[0m \u001b[38;5;66;03m# Check if we do not need to marginalize. In this case we just trim\u001b[39;00m\n\u001b[0;32m     59\u001b[0m \u001b[38;5;66;03m# whitespace from count keys\u001b[39;00m\n\u001b[0;32m     60\u001b[0m \u001b[38;5;28;01mif\u001b[39;00m (meas_qubits \u001b[38;5;129;01mis\u001b[39;00m \u001b[38;5;28;01mTrue\u001b[39;00m) \u001b[38;5;129;01mor\u001b[39;00m (num_qubits \u001b[38;5;241m==\u001b[39m \u001b[38;5;28mlen\u001b[39m(meas_qubits)):\n",
      "\u001b[1;31mStopIteration\u001b[0m: "
     ]
    }
   ],
   "source": [
    "# Run on a noisy simulator\n",
    "noise_model = NoiseModel()\n",
    "\n",
    "# Depolarizing error on the gates u2, u3 and cx (assuming the u1 is virtual-Z gate and no error)\n",
    "p1Q = 0.002\n",
    "p2Q = 0.03\n",
    "\n",
    "noise_model.add_all_qubit_quantum_error(depolarizing_error(p1Q, 1), 'u2')\n",
    "noise_model.add_all_qubit_quantum_error(depolarizing_error(2 * p1Q, 1), 'u3')\n",
    "noise_model.add_all_qubit_quantum_error(depolarizing_error(p2Q, 2), 'cx')\n",
    "\n",
    "backend = qiskit.Aer.get_backend('aer_simulator')\n",
    "\n",
    "# Create the RB fitter\n",
    "backend = qiskit.Aer.get_backend('aer_simulator')\n",
    "basis_gates = ['u1','u2','u3','cx'] \n",
    "shots = 200\n",
    "transpiled_circs_list = []\n",
    "rb_fit = rb.RBFitter(None, xdata, rb_opts['rb_pattern'])\n",
    "for rb_seed, rb_circ_seed in enumerate(rb_circs_orig):\n",
    "    #print(f'Compiling seed {rb_seed}')\n",
    "    new_rb_circ_seed = qiskit.compiler.transpile(rb_circ_seed, basis_gates=basis_gates)\n",
    "    transpiled_circs_list.append(new_rb_circ_seed)\n",
    "    #print(f'Simulating seed {rb_seed}')\n",
    "    qobj = assemble(new_rb_circ_seed, shots=shots)\n",
    "    job = backend.run(qobj,\n",
    "                      noise_model=noise_model,\n",
    "                      max_parallel_experiments=0)\n",
    "    # Add data to the fitter\n",
    "    rb_fit.add_data(job.result())\n",
    "    #print('After seed %d, alpha: %f, EPC: %f'%(rb_seed,rb_fit.fit[0]['params'][1], rb_fit.fit[0]['epc']))\n",
    "    \n",
    "plt.figure(figsize=(8, 6))\n",
    "ax = plt.subplot(1, 1, 1)\n",
    "\n",
    "# Plot the essence by calling plot_rb_data\n",
    "rb_fit.plot_rb_data(0, ax=ax, add_label=True, show_plt=False)\n",
    "    \n",
    "# Add title and label\n",
    "ax.set_title(f\"{params['n_qubits']}Q RB, interleaved: {rb_opts['interleaved_gates']}\", fontsize=18)\n",
    "\n",
    "plt.show()"
   ]
  },
  {
   "cell_type": "markdown",
   "id": "c8b34c53",
   "metadata": {},
   "source": [
    "## Serialize to non-parallel qubit operations"
   ]
  },
  {
   "cell_type": "markdown",
   "id": "fea13ca3",
   "metadata": {},
   "source": [
    "Don't do 1q operations in parallel, but step by step."
   ]
  },
  {
   "cell_type": "code",
   "execution_count": 291,
   "id": "7417d740",
   "metadata": {},
   "outputs": [
    {
     "data": {
      "text/plain": [
       "[(('rx', [-1.5707963267948983]), [0]),\n",
       " (('rx', [-1.5707963267948983]), [1]),\n",
       " (('cx', []), [0, 1]),\n",
       " (('ry', [1.5707963267948966]), [0]),\n",
       " (('ry', [1.5707963267948966]), [1]),\n",
       " (('rx', [1.5707963267948966]), [0]),\n",
       " (('rx', [1.5707963267948966]), [1]),\n",
       " (('cx', []), [0, 1]),\n",
       " (('rx', [-1.5707963267948966]), [1]),\n",
       " (('ry', [-1.5707963267948966]), [1]),\n",
       " (('barrier', []), [0, 1]),\n",
       " (('ry', [-1.5707963267948968]), [0]),\n",
       " (('rx', [-1.5707963267948966]), [1]),\n",
       " (('ry', [3.141592653589793]), [1]),\n",
       " (('cx', []), [0, 1]),\n",
       " (('rx', [-1.5707963267948966]), [0]),\n",
       " (('rx', [-1.5707963267948966]), [1]),\n",
       " (('ry', [-1.5707963267948966]), [0]),\n",
       " (('ry', [-1.5707963267948966]), [1]),\n",
       " (('barrier', []), [0, 1]),\n",
       " (('rx', [-1.5707963267948966]), [1]),\n",
       " (('ry', [-1.5707963267948966]), [1]),\n",
       " (('cx', []), [0, 1]),\n",
       " (('rx', [1.5707963267948966]), [0]),\n",
       " (('ry', [1.5707963267948966]), [1]),\n",
       " (('measure', []), [0]),\n",
       " (('rx', [3.141592653589793]), [1]),\n",
       " (('measure', []), [1])]"
      ]
     },
     "execution_count": 291,
     "metadata": {},
     "output_type": "execute_result"
    }
   ],
   "source": [
    "# chose a circ\n",
    "idx_order, idx_circ = 1, 1\n",
    "circ = rb_circs_native[idx_order][idx_circ]\n",
    "\n",
    "# swap qubit, as qiskit traspiles to c1not2. We want c2not1.\n",
    "steps_q0, steps_q1 = circuit_2_step_list(circ, qubit_idx=0, swap_qubits=True), circuit_2_step_list(circ, qubit_idx=1, swap_qubits=True)\n",
    "serialize_step_list(steps_q0, steps_q1)"
   ]
  },
  {
   "cell_type": "markdown",
   "id": "c9e4c7fb",
   "metadata": {},
   "source": [
    "## Save to file"
   ]
  },
  {
   "cell_type": "markdown",
   "id": "ff6b3a8f",
   "metadata": {},
   "source": [
    "Iterate over (converted to native gates) gate sequence and create a qudi compatible sequence as a json file."
   ]
  },
  {
   "cell_type": "code",
   "execution_count": 292,
   "id": "eb85b845",
   "metadata": {},
   "outputs": [],
   "source": [
    "qudi_gates = []\n",
    "idx = 0\n",
    "\n",
    "\n",
    "n_seqs = len(rb_circs_native[0])*len(rb_circs_native)\n",
    "for idx_cl, circ_list in enumerate(rb_circs_native):\n",
    "    circs_i = []\n",
    "    for idx_r, circ in enumerate(circ_list):\n",
    "        #circs_i.append()\n",
    "        # swap qubit, as qiskit traspiles to c1not2. We want c2not1.\n",
    "        steps_q0 = circuit_2_step_list(circ, qubit_idx=0, swap_qubits=True)\n",
    "        steps_q1 = circuit_2_step_list(circ, qubit_idx=1, swap_qubits=True)\n",
    "        \n",
    "        idx_dict = {\"idx_info\":{\"n_cliff\": rb_opts['length_vector'][idx_cl],\n",
    "                    \"idx_cliff\": idx_cl,\n",
    "                    \"idx_random\": idx_r}}\n",
    "        params_dict = {\"script params\": params}\n",
    "        \n",
    "        header = f\"### Benchmark Sequence {idx+1}/{n_seqs} ###\\n\"\n",
    "        header += f\"# {json.dumps(idx_dict)}\"\n",
    "        header += f\"# {json.dumps(params)}\"\n",
    "        header += f\"# Columns: operation | params | idx_qubit\\n\"\n",
    "\n",
    "        \n",
    "        \n",
    "        steps = [header]\n",
    "        steps.append(serialize_step_list(steps_q0, steps_q1))\n",
    "        \n",
    "        circs_i.append(steps)\n",
    "        idx += 1\n",
    "        \n",
    "    qudi_gates.append(circs_i)\n",
    "    "
   ]
  },
  {
   "cell_type": "code",
   "execution_count": 293,
   "id": "a2388d3a",
   "metadata": {},
   "outputs": [
    {
     "data": {
      "text/plain": [
       "<qiskit.circuit.quantumcircuit.QuantumCircuit at 0x1f12c4aae20>"
      ]
     },
     "execution_count": 293,
     "metadata": {},
     "output_type": "execute_result"
    }
   ],
   "source": [
    "rb_circs_native[5][6]"
   ]
  },
  {
   "cell_type": "markdown",
   "id": "e07b9678",
   "metadata": {},
   "source": [
    "Perform the saving"
   ]
  },
  {
   "cell_type": "code",
   "execution_count": 296,
   "id": "5c2ba986",
   "metadata": {},
   "outputs": [
    {
     "data": {
      "text/plain": [
       "'20230202-1815-55_rb_seq_2q_ncxfix.json'"
      ]
     },
     "execution_count": 296,
     "metadata": {},
     "output_type": "execute_result"
    }
   ],
   "source": [
    "import json\n",
    "\n",
    "fname = f\"{params['timestamp']}_rb_seq_{params['n_qubits']}q\"\n",
    "if is_interleaved(rb_opts):\n",
    "    fname += \"_int\"\n",
    "if params['force_n_cx_const']:\n",
    "    fname += \"_ncxfix\"\n",
    "    \n",
    "fname += \".json\"\n",
    "    \n",
    "with open(fname, 'w') as f:\n",
    "    json.dump(qudi_gates, f, indent=None)\n",
    "fname"
   ]
  },
  {
   "cell_type": "markdown",
   "id": "122d8ce4",
   "metadata": {},
   "source": [
    "Load saved file to check."
   ]
  },
  {
   "cell_type": "code",
   "execution_count": 297,
   "id": "e1e3db4b",
   "metadata": {
    "scrolled": true
   },
   "outputs": [
    {
     "data": {
      "text/plain": [
       "['### Benchmark Sequence 1/81 ###\\n# {\"idx_info\": {\"n_cliff\": 1, \"idx_cliff\": 0, \"idx_random\": 0}}# {\"n_qubits\": 2, \"force_n_cx_const\": true, \"timestamp\": \"20230202-1815-55\", \"qiskit_version\": \"0.23.0\", \"rb_options\": {\"length_vector\": [1, 2, 3, 4, 5, 6, 7, 8, 9], \"nseeds\": 50, \"rb_pattern\": [[0, 1]]}}# Columns: operation | params | idx_qubit\\n',\n",
       " [[['rx', [1.5707963267948966]], [0]],\n",
       "  [['rx', [3.141592653589793]], [1]],\n",
       "  [['ry', [1.5707963267948966]], [0]],\n",
       "  [['cx', []], [0, 1]],\n",
       "  [['rx', [-1.5707963267948966]], [0]],\n",
       "  [['rx', [-1.5707963267948966]], [1]],\n",
       "  [['ry', [-1.5707963267948966]], [0]],\n",
       "  [['ry', [-1.5707963267948966]], [1]],\n",
       "  [['barrier', []], [0, 1]],\n",
       "  [['ry', [1.5707963267948966]], [0]],\n",
       "  [['ry', [1.5707963267948966]], [1]],\n",
       "  [['rx', [1.5707963267948966]], [0]],\n",
       "  [['rx', [1.5707963267948966]], [1]],\n",
       "  [['cx', []], [0, 1]],\n",
       "  [['ry', [-1.5707963267948966]], [0]],\n",
       "  [['rx', [3.141592653589793]], [1]],\n",
       "  [['rx', [-1.5707963267948966]], [0]],\n",
       "  [['measure', []], [1]],\n",
       "  [['measure', []], [0]]]]"
      ]
     },
     "execution_count": 297,
     "metadata": {},
     "output_type": "execute_result"
    }
   ],
   "source": [
    "#fname = '20230127-1553-55_rb_seq_2q.json'\n",
    "with open(fname) as f:\n",
    "    qudi_gates = json.load(f)\n",
    "    \n",
    "qudi_gates[0][0]"
   ]
  },
  {
   "cell_type": "code",
   "execution_count": 298,
   "id": "ca3f32d7",
   "metadata": {},
   "outputs": [
    {
     "data": {
      "image/png": "[encoded data removed]",
      "text/plain": [
       "<Figure size 800x300 with 2 Axes>"
      ]
     },
     "metadata": {},
     "output_type": "display_data"
    },
    {
     "data": {
      "text/plain": [
       "array([14, 14, 16, 12, 12, 18,  8, 12, 12])"
      ]
     },
     "execution_count": 298,
     "metadata": {},
     "output_type": "execute_result"
    }
   ],
   "source": [
    "err_rate_1q = 0.99\n",
    "err_rate_2q = 0.8\n",
    "\n",
    "idx_cliff = 0\n",
    "ys_cx, ys_1q = [], []\n",
    "for idx_rand, circ in enumerate(qudi_gates[idx_cliff]):\n",
    "    y_cx, y_1q = get_n_cx(circ), get_n_1q_rot(circ)\n",
    "    ys_cx.append(y_cx)\n",
    "    ys_1q.append(y_1q)\n",
    "    \n",
    "ys_cx, ys_1q = np.asarray(ys_cx), np.asarray(ys_1q)\n",
    "\n",
    "plt.figure(figsize=(8,3))\n",
    "plt.subplot(121)\n",
    "\n",
    "plt.plot(ys_cx, label='n_cnot')\n",
    "plt.plot(ys_1q, label='1q')\n",
    "plt.plot(np.asarray(ys_1q)+np.asarray(ys_cx), label='tot')\n",
    "plt.title(\"N gates\")\n",
    "plt.legend()\n",
    "\n",
    "plt.subplot(122)\n",
    "plt.plot(err_rate_2q**ys_cx, label='n_cnot')\n",
    "plt.plot(err_rate_1q**ys_1q, label='1q')\n",
    "plt.plot((err_rate_1q**ys_1q * err_rate_2q**ys_cx)/1, label='tot')\n",
    "plt.title(\"Fidelity\")\n",
    "plt.legend()\n",
    "\n",
    "plt.xlabel(\"idx_rand\")\n",
    "plt.show()\n",
    "\n",
    "ys_1q"
   ]
  },
  {
   "cell_type": "code",
   "execution_count": 322,
   "id": "e887480b",
   "metadata": {},
   "outputs": [
    {
     "data": {
      "text/plain": [
       "(array([0.96059601, 0.96059601, 0.96059601, 0.9801    , 0.96059601,\n",
       "        0.96059601, 0.96059601, 0.9801    , 0.9801    , 1.        ]),\n",
       " array([0.4096, 0.4096, 0.4096, 0.64  , 0.4096, 0.4096, 0.4096, 0.64  ,\n",
       "        0.64  , 1.    ]))"
      ]
     },
     "execution_count": 322,
     "metadata": {},
     "output_type": "execute_result"
    }
   ],
   "source": [
    "err_rate_1q**ys_cx, err_rate_2q**ys_cx"
   ]
  },
  {
   "cell_type": "code",
   "execution_count": 303,
   "id": "07695662",
   "metadata": {},
   "outputs": [
    {
     "data": {
      "text/plain": [
       "[[['rx', [1.5707963267948966]], [0]],\n",
       " [['rx', [3.141592653589793]], [1]],\n",
       " [['ry', [1.5707963267948966]], [0]],\n",
       " [['cx', []], [0, 1]],\n",
       " [['rx', [-1.5707963267948966]], [0]],\n",
       " [['rx', [-1.5707963267948966]], [1]],\n",
       " [['ry', [-1.5707963267948966]], [0]],\n",
       " [['ry', [-1.5707963267948966]], [1]],\n",
       " [['barrier', []], [0, 1]],\n",
       " [['ry', [1.5707963267948966]], [0]],\n",
       " [['ry', [1.5707963267948966]], [1]],\n",
       " [['rx', [1.5707963267948966]], [0]],\n",
       " [['rx', [1.5707963267948966]], [1]],\n",
       " [['cx', []], [0, 1]],\n",
       " [['ry', [-1.5707963267948966]], [0]],\n",
       " [['rx', [3.141592653589793]], [1]],\n",
       " [['rx', [-1.5707963267948966]], [0]],\n",
       " [['measure', []], [1]],\n",
       " [['measure', []], [0]]]"
      ]
     },
     "execution_count": 303,
     "metadata": {},
     "output_type": "execute_result"
    }
   ],
   "source": [
    "qudi_gates[idx_cliff][0][1]"
   ]
  },
  {
   "cell_type": "code",
   "execution_count": 304,
   "id": "50c4fb4e",
   "metadata": {},
   "outputs": [
    {
     "data": {
      "text/plain": [
       "[[['rx', [3.141592653589793]], [0]],\n",
       " [['rx', [-1.5707963267948966]], [1]],\n",
       " [['ry', [1.5707963267948961]], [1]],\n",
       " [['cx', []], [0, 1]],\n",
       " [['rx', [-1.5707963267948966]], [0]],\n",
       " [['ry', [1.5707963267948966]], [1]],\n",
       " [['ry', [-1.5707963267948966]], [0]],\n",
       " [['rx', [1.5707963267948966]], [1]],\n",
       " [['barrier', []], [0, 1]],\n",
       " [['ry', [1.5707963267948966]], [0]],\n",
       " [['rx', [-1.5707963267948966]], [1]],\n",
       " [['rx', [1.5707963267948966]], [0]],\n",
       " [['ry', [-1.5707963267948966]], [1]],\n",
       " [['cx', []], [0, 1]],\n",
       " [['rx', [3.141592653589793]], [0]],\n",
       " [['ry', [-1.5707963267948966]], [1]],\n",
       " [['measure', []], [0]],\n",
       " [['rx', [1.5707963267948966]], [1]],\n",
       " [['measure', []], [1]]]"
      ]
     },
     "execution_count": 304,
     "metadata": {},
     "output_type": "execute_result"
    }
   ],
   "source": [
    "qudi_gates[idx_cliff][1][1]"
   ]
  },
  {
   "cell_type": "code",
   "execution_count": null,
   "id": "0f351fb7",
   "metadata": {},
   "outputs": [],
   "source": []
  }
 ],
 "metadata": {
  "kernelspec": {
   "display_name": "Python 3 (ipykernel)",
   "language": "python",
   "name": "python3"
  },
  "language_info": {
   "codemirror_mode": {
    "name": "ipython",
    "version": 3
   },
   "file_extension": ".py",
   "mimetype": "text/x-python",
   "name": "python",
   "nbconvert_exporter": "python",
   "pygments_lexer": "ipython3",
   "version": "3.8.16"
  },
  "toc": {
   "base_numbering": 1,
   "nav_menu": {},
   "number_sections": true,
   "sideBar": true,
   "skip_h1_title": false,
   "title_cell": "Table of Contents",
   "title_sidebar": "Contents",
   "toc_cell": false,
   "toc_position": {},
   "toc_section_display": true,
   "toc_window_display": true
  },
  "varInspector": {
   "cols": {
    "lenName": 16,
    "lenType": 16,
    "lenVar": 40
   },
   "kernels_config": {
    "python": {
     "delete_cmd_postfix": "",
     "delete_cmd_prefix": "del ",
     "library": "var_list.py",
     "varRefreshCmd": "print(var_dic_list())"
    },
    "r": {
     "delete_cmd_postfix": ") ",
     "delete_cmd_prefix": "rm(",
     "library": "var_list.r",
     "varRefreshCmd": "cat(var_dic_list()) "
    }
   },
   "types_to_exclude": [
    "module",
    "function",
    "builtin_function_or_method",
    "instance",
    "_Feature"
   ],
   "window_display": false
  }
 },
 "nbformat": 4,
 "nbformat_minor": 5
}
