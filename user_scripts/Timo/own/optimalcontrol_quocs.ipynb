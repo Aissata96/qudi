{
 "cells": [
  {
   "cell_type": "markdown",
   "metadata": {},
   "source": [
    "# Packages"
   ]
  },
  {
   "cell_type": "code",
   "execution_count": 1,
   "metadata": {},
   "outputs": [],
   "source": [
    "from quocslib.optimalcontrolproblems.OneQubitProblem_2fields import OneQubit2Fields\n",
    "import time\n",
    "\n",
    "import scipy\n",
    "import numpy as np\n",
    "from scipy import linalg\n",
    "import os\n",
    "import sys\n",
    "import matplotlib.pyplot as plt\n",
    "from scipy.optimize import curve_fit\n",
    "from scipy.optimize import minimize\n",
    "import time\n",
    "import copy\n",
    "from scipy import signal\n",
    "# import necessary stuff from quidi\n",
    "from logic.pulsed.pulse_objects import PulseBlock, PulseBlockEnsemble, PulseSequence"
   ]
  },
  {
   "cell_type": "markdown",
   "metadata": {},
   "source": [
    "# QuOCS and Qudi with Noise"
   ]
  },
  {
   "cell_type": "markdown",
   "metadata": {},
   "source": [
    "## Creation of the optimization dictionary"
   ]
  },
  {
   "cell_type": "markdown",
   "metadata": {},
   "source": [
    "The optimization dictionary contains all the settings compulsory for the optimization algorithm in order to run a proper optimization."
   ]
  },
  {
   "cell_type": "code",
   "execution_count": 2,
   "metadata": {},
   "outputs": [],
   "source": [
    "optimization_client_name = \"test_dCRAB_Noisy_2_control_fields\"\n",
    "\n",
    "optimization_dictionary = {\"optimization_client_name\": optimization_client_name,\n",
    "                           'opti_algorithm_module': 'quocslib.optimalalgorithms.dCRABNoisyAlgorithm', \n",
    "                           'opti_algorithm_class': 'DCrabNoisyAlgorithm', \n",
    "                          }"
   ]
  },
  {
   "cell_type": "markdown",
   "metadata": {},
   "source": [
    "Number of iteration and super-iterations"
   ]
  },
  {
   "cell_type": "code",
   "execution_count": 3,
   "metadata": {},
   "outputs": [],
   "source": [
    "# Total number of dCRAB superiteration\n",
    "super_iteration_number = 10000000\n",
    "# Maximum number of iteration per super-iteration (in max_eval_total: maximale anzahl von evaluation steps gesamt)\n",
    "maximum_function_evaluations_number = 500"
   ]
  },
  {
   "cell_type": "markdown",
   "metadata": {},
   "source": [
    "To activate the drift compensation and the re-evaluation steps add"
   ]
  },
  {
   "cell_type": "code",
   "execution_count": 4,
   "metadata": {},
   "outputs": [],
   "source": [
    "optimization_dictionary['algorithm_settings'] = {\"algorithm_name\": \"dCRAB\",\n",
    "                                                 \"super_iteration_number\": super_iteration_number,\n",
    "                                                 #\"max_eval_total\": super_iteration_number * maximum_function_evaluations_number,\n",
    "                                                 \"FoM_goal\": 0.00001,\n",
    "                                                 \"total_time_lim\": 3*60,\n",
    "                                                 \"compensate_drift\": {\n",
    "                                                     \"compensate_after_SI\": True,\n",
    "                                                     \"compensate_after_minutes\": 15\n",
    "                                                 },\n",
    "                                                 \"random_number_generator\":{\n",
    "                                                     \"seed_number\":420\n",
    "                                                 },\n",
    "                                                 #\"re_evaluation\": {\n",
    "                                                     #\"re_evaluation_steps\": [0.3, 0.5, 0.51]\n",
    "                                                 #}\n",
    "}"
   ]
  },
  {
   "cell_type": "markdown",
   "metadata": {},
   "source": [
    "Settings for the inner algorithm used by dCRAB"
   ]
  },
  {
   "cell_type": "code",
   "execution_count": 5,
   "metadata": {},
   "outputs": [],
   "source": [
    "optimization_dictionary['algorithm_settings'][\"dsm_settings\"] = {'general_settings': {\n",
    "                                                \"dsm_algorithm_name\": \"NelderMead\", \n",
    "                                                'is_adaptive': False\n",
    "                                            }, \n",
    "                                            'stopping_criteria': {\n",
    "                                                #\"max_eval\": 100,\n",
    "                                                #\"time_lim\": 45,\n",
    "                                                #\"xatol\": 1e-10, \n",
    "                                                #\"frtol\": 1e-10,\n",
    "                                                \"change_based_stop\": {\n",
    "                                                    \"cbs_funct_evals\": 100,\n",
    "                                                    \"cbs_change\": 0.001\n",
    "                                                }\n",
    "                                            }\n",
    "}"
   ]
  },
  {
   "cell_type": "markdown",
   "metadata": {},
   "source": [
    "### Times"
   ]
  },
  {
   "cell_type": "code",
   "execution_count": 6,
   "metadata": {},
   "outputs": [],
   "source": [
    "time_p = {'time_name': 'time_p', 'initial_value': 201e-9} # pulse length\n",
    "optimization_dictionary[\"times\"] = [time_p]"
   ]
  },
  {
   "cell_type": "markdown",
   "metadata": {},
   "source": [
    "### Parameters"
   ]
  },
  {
   "cell_type": "code",
   "execution_count": 7,
   "metadata": {},
   "outputs": [],
   "source": [
    "optimization_dictionary['parameters'] = []"
   ]
  },
  {
   "cell_type": "markdown",
   "metadata": {},
   "source": [
    "### Pulses"
   ]
  },
  {
   "cell_type": "code",
   "execution_count": 8,
   "metadata": {},
   "outputs": [],
   "source": [
    "vec_number = 2\n",
    "upper_freq_lim = 8\n",
    "\n",
    "pulse_amplitude = {'pulse_name': 'Amplitude', \n",
    "                           'upper_limit': 0.5, \n",
    "                           'lower_limit': -0.5, \n",
    "                           'bins_number': 1001, \n",
    "                           'time_name': 'time_p', \n",
    "                           'amplitude_variation': 0.1, # added to guess amp, to create 3 points for start simplex\n",
    "                           'basis': {'basis_name': 'Fourier', \n",
    "                                     'basis_class': 'Fourier', \n",
    "                                     'basis_module': 'quocslib.pulses.basis.Fourier', \n",
    "                                     'basis_vector_number': vec_number, # number of frequencies within the below defined range\n",
    "                                     'random_super_parameter_distribution': \n",
    "                                     {'distribution_name': 'Uniform', 'distribution_class': 'Uniform', \n",
    "                                           'distribution_module': 'quocslib.pulses.superparameter.Uniform', \n",
    "                                           'lower_limit': 0.0, 'upper_limit': upper_freq_lim} # number of oscillations within pulse\n",
    "                                    }, \n",
    "                           'scaling_function': {'function_type': 'lambda_function', 'lambda_function': 'lambda t: 1.0 + 0.0*t'}, \n",
    "                           'initial_guess': {'function_type': 'lambda_function', 'lambda_function': 'lambda t: 0.03245 + 0.0*t'}\n",
    "                          }\n",
    "\n",
    "pulse_phase = {'pulse_name': 'Phase', \n",
    "               'upper_limit': 0.5, \n",
    "               'lower_limit': -0.5, \n",
    "               'bins_number': 1001, \n",
    "               'time_name': 'time_p', \n",
    "               'amplitude_variation': 0.1, # added to guess amp, to create 3 points for start simplex\n",
    "               'basis': {'basis_name': 'Fourier', \n",
    "                         'basis_class': 'Fourier', \n",
    "                         'basis_module': 'quocslib.pulses.basis.Fourier', \n",
    "                         'basis_vector_number': vec_number, # number of frequencies within the below defined range\n",
    "                         'random_super_parameter_distribution': \n",
    "                         {'distribution_name': 'Uniform', 'distribution_class': 'Uniform', \n",
    "                               'distribution_module': 'quocslib.pulses.superparameter.Uniform', \n",
    "                               'lower_limit': 0.0, 'upper_limit': upper_freq_lim} # number of oscillations within pulse\n",
    "                        }, \n",
    "               'scaling_function': {'function_type': 'lambda_function', 'lambda_function': 'lambda t: 1.0 + 0.0*t'}, \n",
    "               'initial_guess': {'function_type': 'lambda_function', 'lambda_function': 'lambda t: 0.0*t'}\n",
    "              }\n",
    "\n",
    "optimization_dictionary['pulses'] = [pulse_amplitude, pulse_phase]"
   ]
  },
  {
   "cell_type": "markdown",
   "metadata": {},
   "source": [
    "### Put all together and get ready to start the optimization with Qudi-QuOCS"
   ]
  },
  {
   "cell_type": "code",
   "execution_count": 11,
   "metadata": {},
   "outputs": [],
   "source": [
    "opti_comm_dict = {\"optimization_dictionary\": optimization_dictionary}\n",
    "optimizationlogic.load_opti_comm_dict(opti_comm_dict)"
   ]
  },
  {
   "cell_type": "markdown",
   "metadata": {},
   "source": [
    "### Important: If the GUI is not showing the optimization dictionary, restart the Kernel"
   ]
  },
  {
   "cell_type": "markdown",
   "metadata": {},
   "source": [
    "Print the optimization dictionary also here"
   ]
  },
  {
   "cell_type": "code",
   "execution_count": 12,
   "metadata": {},
   "outputs": [
    {
     "data": {
      "text/plain": [
       "{'optimization_dictionary': {'optimization_client_name': 'test_dCRAB_Noisy_2_control_fields', 'opti_algorithm_module': 'quocslib.optimalalgorithms.dCRABNoisyAlgorithm', 'opti_algorithm_class': 'DCrabNoisyAlgorithm', 'algorithm_settings': {'algorithm_name': 'dCRAB', 'super_iteration_number': 10000000, 'FoM_goal': 1e-05, 'total_time_lim': 180, 'compensate_drift': {'compensate_after_SI': True, 'compensate_after_minutes': 15}, 'random_number_generator': {'seed_number': 420}, 'dsm_settings': {'general_settings': {'dsm_algorithm_name': 'NelderMead', 'is_adaptive': False}, 'stopping_criteria': {'change_based_stop': {'cbs_funct_evals': 100, 'cbs_change': 0.001}}}}, 'times': [{'time_name': 'time_p', 'initial_value': 2.01e-07}], 'parameters': [], 'pulses': [{'pulse_name': 'Amplitude', 'upper_limit': 0.5, 'lower_limit': -0.5, 'bins_number': 1001, 'time_name': 'time_p', 'amplitude_variation': 0.1, 'basis': {'basis_name': 'Fourier', 'basis_class': 'Fourier', 'basis_module': 'quocslib.pulses.basis.Fourier', 'basis_vector_number': 2, 'random_super_parameter_distribution': {'distribution_name': 'Uniform', 'distribution_class': 'Uniform', 'distribution_module': 'quocslib.pulses.superparameter.Uniform', 'lower_limit': 0.0, 'upper_limit': 8}}, 'scaling_function': {'function_type': 'lambda_function', 'lambda_function': 'lambda t: 1.0 + 0.0*t'}, 'initial_guess': {'function_type': 'lambda_function', 'lambda_function': 'lambda t: 0.03245 + 0.0*t'}}, {'pulse_name': 'Phase', 'upper_limit': 0.5, 'lower_limit': -0.5, 'bins_number': 1001, 'time_name': 'time_p', 'amplitude_variation': 0.1, 'basis': {'basis_name': 'Fourier', 'basis_class': 'Fourier', 'basis_module': 'quocslib.pulses.basis.Fourier', 'basis_vector_number': 2, 'random_super_parameter_distribution': {'distribution_name': 'Uniform', 'distribution_class': 'Uniform', 'distribution_module': 'quocslib.pulses.superparameter.Uniform', 'lower_limit': 0.0, 'upper_limit': 8}}, 'scaling_function': {'function_type': 'lambda_function', 'lambda_function': 'lambda t: 1.0 + 0.0*t'}, 'initial_guess': {'function_type': 'lambda_function', 'lambda_function': 'lambda t: 0.0*t'}}]}}"
      ]
     },
     "execution_count": 12,
     "metadata": {},
     "output_type": "execute_result"
    }
   ],
   "source": [
    "optimalcontrol.opti_comm_dict"
   ]
  },
  {
   "cell_type": "markdown",
   "metadata": {},
   "source": [
    "# Measurement"
   ]
  },
  {
   "cell_type": "code",
   "execution_count": null,
   "metadata": {},
   "outputs": [],
   "source": [
    "######################################################################################################\n",
    "# Parameters and Settings\n",
    "######################################################################################################\n",
    "\n",
    "# file paths \n",
    "folder_path = r'C:\\Users\\Mesoscopic\\Desktop\\quocs_pulses'\n",
    "filename_amplitude=r'amplitude'\n",
    "filename_phase=r'phase'\n",
    "\n",
    "#FoM_path= r'C:\\Users\\Mesoscopic\\Desktop\\Redcrab_data\\FoM'\n",
    "\n",
    "# runtime of the experiment\n",
    "runtime = 5\n",
    "\n",
    "# needs to be smaller than the actual pulse length time_p due to the interpolation\n",
    "length_oc = 200e-9\n",
    "\n",
    "# parameter to stop the experiment if its set to False in the console\n",
    "pulsedmasterlogic.globalrun = True\n",
    "\n",
    "# Dictonary containing the general measurement parameters for the predefined measurements\n",
    "globaldict = pulsedmasterlogic.generation_parameters\n",
    "globaldict[\"laser_channel\"] = \"d_ch1\" \n",
    "globaldict[\"sync_channel\"] = \"d_ch2\" \n",
    "globaldict[\"gate_channel\"] = \"d_ch1\" \n",
    "globaldict[\"microwave_channel\"] = \"a_ch1\"\n",
    "globaldict[\"microwave_amplitude\"] = 0.5\n",
    "globaldict[\"microwave_frequency\"] = 1.281720e9\n",
    "globaldict[\"rabi_period\"] = 56.51e-9\n",
    "globaldict[\"laser_length\"] = 25e-06\n",
    "globaldict[\"laser_delay\"] = 0\n",
    "globaldict[\"wait_time\"] = 2e-06\n",
    "globaldict[\"analog_trigger_voltage\"] = 0.0\n",
    "\n",
    "# load the general measurement parameters for the predefined measurements\n",
    "pulsedmasterlogic.set_generation_parameters(globaldict)\n",
    "\n",
    "# tell the measurement gui how the sequence looks\n",
    "pulsed_settings = dict()\n",
    "pulsed_settings['invoke_settings'] = True\n",
    "pulsedmasterlogic.set_measurement_settings(pulsed_settings)\n",
    "\n",
    "# make sure everything is finished\n",
    "time.sleep(5)\n",
    "\n",
    "# how the laser response is analyzed    \n",
    "pulsedmasterlogic.set_analysis_settings(method = 'mean')\n",
    "pulsedmasterlogic.set_analysis_settings(signal_start = 150e-9)\n",
    "pulsedmasterlogic.set_analysis_settings(signal_end = 1e-6)\n",
    "pulsedmasterlogic.set_extraction_settings(method = 'conv_deriv')\n",
    "\n",
    "# array to save the fom evolution\n",
    "fom_all = []\n",
    "\n",
    "# This section is devoted to the initialization in the pulsed logic and optimization logic of the main\n",
    "# settings and parameters to be usde in the creation ofthe pulse sequence and the optimization\n",
    "# Iteration, controls and figure of merit to compare with QuOCS\n",
    "# Just an example for debug\n",
    "args_dict = {\"is_noisy\": True}\n",
    "qubit = OneQubit2Fields(args_dict)\n",
    "\n",
    "######################################################################################################\n",
    "# Measurement\n",
    "######################################################################################################\n",
    "optimalcontrol.start_optimization()\n",
    "\n",
    "# crucial, maybe it can be much shorter\n",
    "time.sleep(1)\n",
    "\n",
    "# Just a time to check for latent time\n",
    "last_time_fom = time.time()\n",
    "# repeat the whole process until its manually stopped or QuOCS finsihed the optimization\n",
    "# Wait few seconds before starting to get and return data\n",
    "while not optimizationlogic.handle_exit_obj.is_user_running:\n",
    "    time.sleep(0.1)\n",
    "    if (time.time() - last_time_fom) > 30:\n",
    "        print(\"Problem at the beginning! Surpassed the 30 secs\")\n",
    "        break\n",
    "\n",
    "# iteration number\n",
    "it_val = 0\n",
    "\n",
    "# when did the optimization start?\n",
    "opt_start_time = time.time()\n",
    "    \n",
    "# print(\"Check before the loop starts: {0}\".format(optimizationlogic.handle_exit_obj.is_user_running))\n",
    "while  optimizationlogic.handle_exit_obj.is_user_running == True:\n",
    "    time_stamp=time.time()\n",
    "    # wait until QuOCS optimizes the controls\n",
    "    # print(\"Wait until the controls logic gives the controls\")\n",
    "    while not controlslogic.are_pulses_calculated:\n",
    "        time.sleep(0.1)\n",
    "        # If the waiting time exceed 10 seconds left stop the optimization\n",
    "        if time.time() - last_time_fom > 20:\n",
    "            print(\"Too much time... Exit!\")\n",
    "            optimizationlogic.handle_exit_obj.is_user_running = False\n",
    "            break\n",
    "            \n",
    "    # If time exceeded, exit from the while loop and give a very high fom to the optimization algorithm\n",
    "    # and status code -1, to interrupt the optimization smoothly\n",
    "    if optimizationlogic.handle_exit_obj.is_user_running == False:\n",
    "        print('Stopping the measurement!')\n",
    "        # Update the pulse with the maximum number\n",
    "        fomlogic.update_fom(10**10, status_code=-1)\n",
    "        break\n",
    "        \n",
    "    #######################################################################################################\n",
    "    # Get the Controls\n",
    "    #######################################################################################################\n",
    "    # Change the status of control calculations to avoid to evaluate the fom twice with the same controls\n",
    "    controlslogic.are_pulses_calculated = False\n",
    "    # Get the controls from the controls logic\n",
    "    pulses, parameters, timegrids = controlslogic.pulses, controlslogic.parameters, controlslogic.timegrids\n",
    "    #######################################################################################################\n",
    "    # Perform the measurement\n",
    "    #######################################################################################################\n",
    "    \n",
    "    # save the pulses as .txt files (predefined methods doesn't allow us to upload a numpy array as \n",
    "    # parameter)\n",
    "    np.savetxt(r'C:\\Users\\Mesoscopic\\Desktop\\quocs_pulses\\amplitude.txt',np.column_stack((timegrids[0], pulses[0])))\n",
    "    np.savetxt(r'C:\\Users\\Mesoscopic\\Desktop\\quocs_pulses\\phase.txt',np.column_stack((timegrids[0], pulses[1])))\n",
    "    time.sleep(0.2)\n",
    "    \n",
    "    # predefined method\n",
    "    dictparamsall = pulsedmasterlogic.generate_method_params\n",
    "    ############################ Uploading all predefined methods needed ###################################################\n",
    "    # predefined method\n",
    "    dict_qst = dictparamsall[\"sts_oc\"]\n",
    "    dict_qst[\"name\"] = 'stsoc'\n",
    "    dict_qst[\"length\"] = length_oc\n",
    "    dict_qst[\"filename_amplitude\"] = filename_amplitude\n",
    "    dict_qst[\"filename_phase\"] = filename_phase\n",
    "    dict_qst[\"folder_path\"] = folder_path\n",
    "\n",
    "    # generate the sequence\n",
    "    pulsedmasterlogic.generate_predefined_sequence('sts_oc',kwarg_dict = dict_qst)  \n",
    "    \n",
    "    time.sleep(1)\n",
    "    \n",
    "    # upload the sequence\n",
    "    pulsedmasterlogic.sample_ensemble(dict_qst[\"name\"],True)\n",
    "    while pulsedmasterlogic.status_dict['sampload_busy'] or pulsedmasterlogic.status_dict['sampling_ensemble_busy'] or pulsedmasterlogic.status_dict['loading_busy']:     \n",
    "        time.sleep(1)\n",
    "\n",
    "    #print('Finished uploading', dictparams_oc[\"name\"], '!')\n",
    "         \n",
    "    # make sure everything is finished (crucial)\n",
    "    #time.sleep(1)#time.sleep(5)    \n",
    "    \n",
    "     # start the measurement\n",
    "    #print('Starting the measurement!')\n",
    "    pulsedmasterlogic.toggle_pulsed_measurement(True)\n",
    "    time.sleep(1)\n",
    "    \n",
    "    # make sure the measurement started\n",
    "    while not pulsedmasterlogic.status_dict['measurement_running']:\n",
    "        time.sleep(0.1)\n",
    "\n",
    "    measurement_start_time = time.time()\n",
    "    \n",
    "    while time.time() <= measurement_start_time + runtime:\n",
    "        time.sleep(0.2)\n",
    "        \n",
    "        # option to stop the measurement\n",
    "        if pulsedmasterlogic.globalrun == False:\n",
    "            print('Stopping the measurement!')\n",
    "            break\n",
    "\n",
    "    # option to stop the measurement\n",
    "    if pulsedmasterlogic.globalrun == False:\n",
    "        print('Stopping the measurement!')\n",
    "        pulsedmasterlogic.toggle_pulsed_measurement(False)\n",
    "        break\n",
    "        \n",
    "    #time.sleep(1)\n",
    "            \n",
    "    # Stop the measurement\n",
    "    pulsedmasterlogic.toggle_pulsed_measurement(False)\n",
    "    \n",
    "    # Make sure it stopped (Wait until the Picoscope card sends the data)\n",
    "    while pulsedmasterlogic.status_dict['measurement_running']:\n",
    "        time.sleep(0.1)\n",
    "    \n",
    "    #######################################################################################################\n",
    "    # Analysis\n",
    "    ######################################################################################################\n",
    "    signal_data = pulsedmeasurementlogic.signal_data\n",
    "    \n",
    "    # calculate the fom\n",
    "    up_norm = signal_data[1,0] / signal_data[1,0]\n",
    "    down_norm = signal_data[1,1] / signal_data[1,0]\n",
    "    \n",
    "    fom = np.real(1 - (up_norm - down_norm))\n",
    "\n",
    "    # save the fom to plot its evolution later\n",
    "    fom_all.append(fom)\n",
    "    \n",
    "    # Update the figure of merit and the standard deviation to the fom logic\n",
    "    fomlogic.update_fom(fom, 0.001,status_code=0)\n",
    "    #fomlogic.update_fom(fom, std, status_code=0)\n",
    "    \n",
    "    # update the last time the fom is calculated\n",
    "    last_time_fom = time.time()\n",
    "    \n",
    "# when did the optimization stop?\n",
    "opt_end_time = time.time()\n",
    "\n",
    "print('It took QuOCS ' + str(opt_end_time-opt_start_time) + ' s to optimize the pulse!')\n",
    "\n",
    "print(\"Optimization finished\")"
   ]
  },
  {
   "cell_type": "markdown",
   "metadata": {},
   "source": [
    "## Save the results"
   ]
  },
  {
   "cell_type": "code",
   "execution_count": null,
   "metadata": {},
   "outputs": [],
   "source": [
    "# Best controls\n",
    "optimizer_obj = optimizationlogic.optimization_obj\n",
    "pulses_list, time_grids_list, parameters_list = optimizer_obj.opt_alg_obj.get_best_controls()\n",
    "t_amplitude = time_grids_list[0]\n",
    "amplitude = pulses_list[0]\n",
    "t_phase = time_grids_list[1]\n",
    "phase = pulses_list[1]"
   ]
  },
  {
   "cell_type": "code",
   "execution_count": null,
   "metadata": {},
   "outputs": [],
   "source": [
    "#np.savetxt(r'filepath\\amplitude_200ns_12072022.txt',np.column_stack((t_amplitude, amplitude)))\n",
    "#np.savetxt(r'filepath\\phase_200ns_121072022.txt',np.column_stack((t_phase, phase)))\n",
    "#np.savetxt(r'filepath\\fom_all_200ns_12072022.txt',fom_all)"
   ]
  },
  {
   "cell_type": "code",
   "execution_count": null,
   "metadata": {},
   "outputs": [],
   "source": []
  },
  {
   "cell_type": "code",
   "execution_count": null,
   "metadata": {},
   "outputs": [],
   "source": []
  },
  {
   "cell_type": "code",
   "execution_count": null,
   "metadata": {},
   "outputs": [],
   "source": []
  }
 ],
 "metadata": {
  "kernelspec": {
   "display_name": "Qudi",
   "language": "python",
   "name": "qudi"
  },
  "language_info": {
   "codemirror_mode": {
    "name": "ipython",
    "version": "3.6.5"
   },
   "file_extension": ".py",
   "mimetype": "text/x-python",
   "name": "python",
   "nbconvert_exporter": "python",
   "pygments_lexer": "ipython3",
   "version": "3.6.5"
  },
  "toc": {
   "base_numbering": 1,
   "nav_menu": {},
   "number_sections": true,
   "sideBar": true,
   "skip_h1_title": false,
   "title_cell": "Table of Contents",
   "title_sidebar": "Contents",
   "toc_cell": false,
   "toc_position": {},
   "toc_section_display": true,
   "toc_window_display": false
  }
 },
 "nbformat": 4,
 "nbformat_minor": 2
}
