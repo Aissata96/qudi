{
 "cells": [
  {
   "cell_type": "markdown",
   "metadata": {},
   "source": [
    "# Packages"
   ]
  },
  {
   "cell_type": "code",
   "execution_count": 1,
   "metadata": {},
   "outputs": [
    {
     "data": {
      "text/plain": [
       "0"
      ]
     },
     "execution_count": 1,
     "metadata": {},
     "output_type": "execute_result"
    }
   ],
   "source": [
    "from quocslib.optimalcontrolproblems.OneQubitProblem_2fields import OneQubit2Fields\n",
    "import time, datetime\n",
    "\n",
    "import scipy\n",
    "import numpy as np\n",
    "from scipy import linalg\n",
    "import os\n",
    "import sys\n",
    "import matplotlib.pyplot as plt\n",
    "from scipy.optimize import curve_fit\n",
    "from scipy.optimize import minimize\n",
    "import time\n",
    "import copy as cp\n",
    "from scipy import signal\n",
    "# import necessary stuff from quidi\n",
    "from logic.pulsed.pulse_objects import PulseBlock, PulseBlockEnsemble, PulseSequence\n",
    "from user_scripts.Timo.own.optimalcontrol.oc_simlib import TimeDependentSimulation, SimParameters, ArbPulse, PredefinedArbPulses\n",
    "\n",
    "import logging\n",
    "logging.basicConfig(filename='logfile.log', filemode='w', level=logging.DEBUG)\n",
    "logger = logging.getLogger(__name__)\n",
    "\n",
    "0"
   ]
  },
  {
   "cell_type": "markdown",
   "metadata": {},
   "source": [
    "# Library functions"
   ]
  },
  {
   "cell_type": "code",
   "execution_count": 2,
   "metadata": {},
   "outputs": [
    {
     "data": {
      "text/plain": [
       "0"
      ]
     },
     "execution_count": 2,
     "metadata": {},
     "output_type": "execute_result"
    }
   ],
   "source": [
    "\n",
    "def list_2_csv(in_list):\n",
    "    str_list = \"\"\n",
    "    \n",
    "    if type(in_list) != list:\n",
    "        in_list = [in_list]\n",
    "        \n",
    "    for el in in_list:\n",
    "        str_list += f\"{el}, \"\n",
    "    \n",
    "    if len(str_list) > 0:\n",
    "        str_list = str_list[:-2]\n",
    "        \n",
    "    return str_list\n",
    "\n",
    "def dict_2_header_str(in_dict):\n",
    "    out_str = \"\"\n",
    "    for key, val in in_dict.items():\n",
    "        out_str += f\"{key}: {val}\\n\"\n",
    "        \n",
    "    return out_str\n",
    "\n",
    "def get_pulse_filename(path, name=\"\", name_ampl=\"amplitude.txt\", name_phase=\"phase.txt\"):\n",
    "    return os.path.abspath(path + \"/\" + name + name_ampl), os.path.abspath(path + \"/\" + name + name_phase)\n",
    "\n",
    "def save_pulse(path, data_ampl, data_phase, name=\"\", name_ampl=\"amplitude.txt\", name_phase=\"phase.txt\"):\n",
    "    header_dict = {}\n",
    "    try:\n",
    "        now = datetime.datetime.now() # current date and time\n",
    "        header_dict['timestamp'] = now.strftime(\"%Y/%m/%d-%H:%M:%S\")\n",
    "        header_dict['script_parameters'] = script_params\n",
    "        header_dict.update(opti_comm_dict['optimization_dictionary'])\n",
    "        \n",
    "        fname_ampl, fname_phase = get_pulse_filename(path, name=name, name_ampl=name_ampl, name_phase=name_phase)\n",
    "        \n",
    "        if data_ampl is not None:\n",
    "            np.savetxt(fname_ampl,  data_ampl,  header=dict_2_header_str(header_dict))\n",
    "        if data_phase is not None:\n",
    "            np.savetxt(fname_phase, data_phase, header=dict_2_header_str(header_dict))\n",
    "    except:\n",
    "        logger.exception(\"\")\n",
    "\n",
    "        \n",
    "def save_optimization_result(path, name=\"opt_res_\", name_ampl=\"amplitude.txt\", name_phase=\"phase.txt\"):\n",
    "    try:\n",
    "        # save fom by same function as pulse\n",
    "        save_pulse(path, fom_all, None, name=name, name_ampl='fom.txt', name_phase='')\n",
    "        \n",
    "        optimizer_obj = optimizationlogic.optimization_obj\n",
    "        best_dict = optimizer_obj.opt_alg_obj.get_best_controls()\n",
    "        \n",
    "        pulses_list = best_dict['pulses']\n",
    "        time_grids_list = best_dict['timegrids']\n",
    "        parameters_list = best_dict['parameters']\n",
    "        \n",
    "        t_amplitude = time_grids_list[0]\n",
    "        amplitude = pulses_list[0]\n",
    "        t_phase = time_grids_list[1]\n",
    "        phase = pulses_list[1]\n",
    "\n",
    "        data_ampl = np.column_stack((t_amplitude, amplitude))\n",
    "        data_phase = np.column_stack((t_phase, phase))\n",
    "        fom = np.column_stack((range(len(fom_all)), fom_all))\n",
    "\n",
    "        save_pulse(path, data_ampl, data_phase, name=name, name_ampl=name_ampl, name_phase=name_phase)\n",
    "\n",
    "    except:\n",
    "        logger.exception(\"\")\n",
    "        \n",
    "#save_pulse(folder_path, np.asarray([1,2]), np.asarray(1))\n",
    "#get_pulse_filename(folder_path, name=filename)\n",
    "0"
   ]
  },
  {
   "cell_type": "markdown",
   "metadata": {},
   "source": [
    "# QuOCS and Qudi with Noise"
   ]
  },
  {
   "cell_type": "markdown",
   "metadata": {},
   "source": [
    "## Creation of the optimization dictionary"
   ]
  },
  {
   "cell_type": "markdown",
   "metadata": {},
   "source": [
    "The optimization dictionary contains all the settings compulsory for the optimization algorithm in order to run a proper optimization."
   ]
  },
  {
   "cell_type": "code",
   "execution_count": 3,
   "metadata": {},
   "outputs": [],
   "source": [
    "optimization_client_name = \"test_dCRAB_Noisy_2_control_fields\"\n",
    "\n",
    "optimization_dictionary = {\"optimization_client_name\": optimization_client_name,\n",
    "                           'opti_algorithm_module': 'quocslib.optimalalgorithms.dCRABNoisyAlgorithm', \n",
    "                           'opti_algorithm_class': 'DCrabNoisyAlgorithm', \n",
    "                          }"
   ]
  },
  {
   "cell_type": "markdown",
   "metadata": {},
   "source": [
    "Number of iteration and super-iterations"
   ]
  },
  {
   "cell_type": "code",
   "execution_count": 4,
   "metadata": {},
   "outputs": [],
   "source": [
    "# Total number of dCRAB superiteration\n",
    "super_iteration_number = 10000000\n",
    "# Maximum number of iteration per super-iteration (in max_eval_total: maximale anzahl von evaluation steps gesamt)\n",
    "maximum_function_evaluations_number = 500"
   ]
  },
  {
   "cell_type": "markdown",
   "metadata": {},
   "source": [
    "To activate the drift compensation and the re-evaluation steps add"
   ]
  },
  {
   "cell_type": "code",
   "execution_count": 5,
   "metadata": {},
   "outputs": [
    {
     "data": {
      "text/plain": [
       "{'algorithm_name': 'dCRAB', 'super_iteration_number': 10000000, 'FoM_goal': 1e-05, 'total_time_lim': 5760, 'compensate_drift': {'compensate_after_SI': True, 'compensate_after_minutes': 15}, 'random_number_generator': {'seed_number': 420}}"
      ]
     },
     "execution_count": 5,
     "metadata": {},
     "output_type": "execute_result"
    }
   ],
   "source": [
    "optimization_dictionary['algorithm_settings'] = {\"algorithm_name\": \"dCRAB\",\n",
    "                                                 \"super_iteration_number\": super_iteration_number,\n",
    "                                                 #\"max_eval_total\": super_iteration_number * maximum_function_evaluations_number,\n",
    "                                                 \"FoM_goal\": 0.00001,\n",
    "                                                 \"total_time_lim\": 2*48*60,  # minutes\n",
    "                                                 \"compensate_drift\": {\n",
    "                                                     \"compensate_after_SI\": True,\n",
    "                                                     \"compensate_after_minutes\": 15\n",
    "                                                 },\n",
    "                                                 \"random_number_generator\":{\n",
    "                                                     \"seed_number\":420   # todo: really fix a seed here?\n",
    "                                                 },\n",
    "                                                 #\"re_evaluation\": {\n",
    "                                                     #\"re_evaluation_steps\": [0.3, 0.5, 0.51]\n",
    "                                                 #}\n",
    "}\n",
    "optimization_dictionary['algorithm_settings'] "
   ]
  },
  {
   "cell_type": "markdown",
   "metadata": {},
   "source": [
    "Settings for the inner algorithm used by dCRAB"
   ]
  },
  {
   "cell_type": "code",
   "execution_count": 6,
   "metadata": {},
   "outputs": [
    {
     "data": {
      "text/plain": [
       "{'algorithm_name': 'dCRAB', 'super_iteration_number': 10000000, 'FoM_goal': 1e-05, 'total_time_lim': 5760, 'compensate_drift': {'compensate_after_SI': True, 'compensate_after_minutes': 15}, 'random_number_generator': {'seed_number': 420}, 'dsm_settings': {'general_settings': {'dsm_algorithm_name': 'NelderMead', 'is_adaptive': False}, 'stopping_criteria': {'time_lim': 180, 'change_based_stop': {'cbs_funct_evals': 500, 'cbs_change': 0.01}}}}"
      ]
     },
     "execution_count": 6,
     "metadata": {},
     "output_type": "execute_result"
    }
   ],
   "source": [
    "optimization_dictionary['algorithm_settings'][\"dsm_settings\"] = {'general_settings': {\n",
    "                                                \"dsm_algorithm_name\": \"NelderMead\", \n",
    "                                                'is_adaptive': False\n",
    "                                            }, \n",
    "                                            'stopping_criteria': {\n",
    "                                                #\"max_eval\": 100,\n",
    "                                                \"time_lim\": 2*90,  #min\n",
    "                                                #\"xatol\": 1e-10, \n",
    "                                                #\"frtol\": 1e-10,\n",
    "                                                \"change_based_stop\": {\n",
    "                                                    \"cbs_funct_evals\": 500, \n",
    "                                                    \"cbs_change\": 0.01    # stop if slope below\n",
    "                                                }\n",
    "                                            }\n",
    "}\n",
    "optimization_dictionary['algorithm_settings']"
   ]
  },
  {
   "cell_type": "markdown",
   "metadata": {},
   "source": [
    "### Times"
   ]
  },
  {
   "cell_type": "code",
   "execution_count": 7,
   "metadata": {},
   "outputs": [
    {
     "data": {
      "text/plain": [
       "(1e-07, 2000)"
      ]
     },
     "execution_count": 7,
     "metadata": {},
     "output_type": "execute_result"
    }
   ],
   "source": [
    "t_rabi_rect = 76.4e-9  \n",
    "pix_pulse = 1\n",
    "t_oc_pulse = 100e-9 #1.0000000000000001e-07\n",
    "n_timebins = 2000\n",
    "#t_oc_pulse = timegrid_ampl[-1]\n",
    "fac_oc_guess = 1.0 # make initial guess not too good, otherwise hard for optimizer\n",
    "\n",
    "ampl_max = 0.25  # V\n",
    "ampl_rect = 0.25  # V \n",
    "\n",
    "\n",
    "fac_oc_rect = t_oc_pulse/(0.5*t_rabi_rect/pix_pulse)\n",
    "if fac_oc_rect  < 3:\n",
    "    logger.warning(f\"OC pulse should be >3x as long as rect, now: {t_oc_pulse/(0.5*t_rabi_rect/pix_pulse)}\")\n",
    "\n",
    "time_p = {'time_name': 'time_p', 'initial_value': t_oc_pulse} # pulse length\n",
    "optimization_dictionary['times'] = [time_p]\n",
    "ampl_oc_guess = fac_oc_guess*1/fac_oc_rect*ampl_rect\n",
    "\n",
    "ampl_oc_guess, fac_oc_rect\n",
    "t_oc_pulse, n_timebins"
   ]
  },
  {
   "cell_type": "markdown",
   "metadata": {},
   "source": [
    "### Parameters"
   ]
  },
  {
   "cell_type": "code",
   "execution_count": 8,
   "metadata": {},
   "outputs": [],
   "source": [
    "optimization_dictionary['parameters'] = []"
   ]
  },
  {
   "cell_type": "code",
   "execution_count": 9,
   "metadata": {},
   "outputs": [
    {
     "data": {
      "text/plain": [
       "[{'time_name': 'time_p', 'initial_value': 1e-07}]"
      ]
     },
     "execution_count": 9,
     "metadata": {},
     "output_type": "execute_result"
    }
   ],
   "source": [
    "optimization_dictionary['times']"
   ]
  },
  {
   "cell_type": "markdown",
   "metadata": {},
   "source": [
    "### Pulses"
   ]
  },
  {
   "cell_type": "markdown",
   "metadata": {},
   "source": [
    "### Generate from predefined function"
   ]
  },
  {
   "cell_type": "markdown",
   "metadata": {},
   "source": [
    "Levitt composite pulse"
   ]
  },
  {
   "cell_type": "code",
   "execution_count": 100,
   "metadata": {},
   "outputs": [],
   "source": [
    "pulse = PredefinedArbPulses.generate_levitt(20e6, n_t=1000)\n",
    "pulse._func_omega_mhz_2_ampl_v = lambda x: x/20*0.25\n",
    "\n",
    "from scipy.ndimage import gaussian_filter1d\n",
    "pulse._data_ampl = gaussian_filter1d(pulse._data_ampl, 5)\n",
    "pulse._data_phase = gaussian_filter1d(pulse._data_phase, 5)\n",
    "\n",
    "#pulse.as_dict()"
   ]
  },
  {
   "cell_type": "markdown",
   "metadata": {},
   "source": [
    "Rect pulse"
   ]
  },
  {
   "cell_type": "code",
   "execution_count": 164,
   "metadata": {},
   "outputs": [],
   "source": [
    "def generate_rect_pi(omega, phase=0, n_t=1000, t_pulse=None):\n",
    "    \"\"\"\n",
    "    Generate a levitt pulse as a optimal control pulse file.\n",
    "    Assumes that quadratues I*sin(f_mw*t) + Q*cos(f_mw*t) are used in sampling.\n",
    "    @param t_pulse: if None, auto length of pulse. Else zero pad to specified length.\n",
    "    \"\"\"\n",
    "\n",
    "    omega_mhz = omega * 1e-6\n",
    "\n",
    "    get_t_pix = PredefinedArbPulses.get_t_pix\n",
    "    get_iq = PredefinedArbPulses.get_iq\n",
    "\n",
    "    tpi_us = get_t_pix(omega_mhz, pix=1)\n",
    "\n",
    "    if not t_pulse:\n",
    "        t_pulse = tpi_us\n",
    "    else: \n",
    "        t_pulse = 1e6*t_pulse\n",
    "\n",
    "    # rabi in MHz, times in us\n",
    "    timegrid_us = np.linspace(0, t_pulse, n_t)\n",
    "    data_ampl = np.zeros((len(timegrid_us)))  # I quadrature\n",
    "    data_phase = np.zeros((len(timegrid_us)))  # Q\n",
    "\n",
    "    phases = [0 + phase]\n",
    "    tpulse_by_pi = [1]\n",
    "    # pad with zero amplitude/phase\n",
    "    if t_pulse != tpi_us:\n",
    "        phases.append(0)\n",
    "        tpulse_by_pi.append(0)\n",
    "    # phases = [np.pi/2]\n",
    "    # tpulse_by_pi = [0.5]\n",
    "\n",
    "    t_curr_us, t_end_us = 0, 0\n",
    "    for i_comppulse, phi in enumerate(phases):\n",
    "        pix = tpulse_by_pi[i_comppulse]\n",
    "        if pix != 0:\n",
    "            t_end_us = t_curr_us + get_t_pix(omega_mhz, pix=pix)\n",
    "            val_iq = np.asarray(get_iq(phi)) * omega_mhz\n",
    "        else:  # zero pad until end\n",
    "            t_end_us = timegrid_us[-1]\n",
    "            val_iq = np.asarray([0, 0])\n",
    "\n",
    "        idx_start = np.argmin(np.abs(timegrid_us - t_curr_us))\n",
    "        idx_end = np.argmin(np.abs(timegrid_us - t_end_us))\n",
    "\n",
    "\n",
    "        data_ampl[idx_start:idx_end + 1] = val_iq[0]\n",
    "        data_phase[idx_start:idx_end + 1] = val_iq[1]\n",
    "\n",
    "        if t_curr_us == timegrid_us[-1]:\n",
    "            break\n",
    "        t_curr_us = t_end_us\n",
    "\n",
    "    idx_end = np.argmin(np.abs(timegrid_us - t_end_us))\n",
    "\n",
    "    assert idx_end == n_t - 1\n",
    "\n",
    "    pulse = ArbPulse()\n",
    "    pulse.name = 'rect_phi={phase/np.pi:.1f}pi'\n",
    "\n",
    "    pulse.timegrid_unit = 'us'\n",
    "    pulse.data_unit = 'MHz'\n",
    "\n",
    "    pulse._data_ampl = data_ampl\n",
    "    pulse._data_phase = data_phase\n",
    "    pulse._timegrid_ampl = timegrid_us\n",
    "    pulse._timegrid_phase = timegrid_us\n",
    "\n",
    "    return pulse\n",
    "\n",
    "PredefinedArbPulses.generate_rect_pi = generate_rect_pi    "
   ]
  },
  {
   "cell_type": "code",
   "execution_count": 190,
   "metadata": {},
   "outputs": [
    {
     "data": {
      "text/plain": [
       "1e-07"
      ]
     },
     "execution_count": 190,
     "metadata": {},
     "output_type": "execute_result"
    }
   ],
   "source": [
    "t_oc_pulse"
   ]
  },
  {
   "cell_type": "code",
   "execution_count": 188,
   "metadata": {},
   "outputs": [
    {
     "data": {
      "text/plain": [
       "array([0.05555556, 0.06666667, 0.07777778, 0.08888889, 0.1       ])"
      ]
     },
     "execution_count": 188,
     "metadata": {},
     "output_type": "execute_result"
    }
   ],
   "source": [
    "np.linspace(0,t_oc_pulse,10)[-5:]*1e6"
   ]
  },
  {
   "cell_type": "code",
   "execution_count": 172,
   "metadata": {},
   "outputs": [
    {
     "data": {
      "text/plain": [
       "9.999999999999999e-05"
      ]
     },
     "execution_count": 172,
     "metadata": {},
     "output_type": "execute_result"
    }
   ],
   "source": [
    "1e3*np.linspace(0,t_oc_pulse)[-1]"
   ]
  },
  {
   "cell_type": "code",
   "execution_count": 200,
   "metadata": {},
   "outputs": [
    {
     "data": {
      "text/plain": [
       "{'name': 'rect_phi={phase/np.pi:.1f}pi', 'folder': None, 'file': [], 'timegrid_unit': 'us', 'data_unit': 'MHz', 'data_ampl': array([20., 20., 20., ...,  0.,  0.,  0.]), 'data_phase': array([0., 0., 0., ..., 0., 0., 0.]), 'timegrid_ampl': array([0.00000000e+00, 5.00250125e-05, 1.00050025e-04, ...,\n",
       "       9.98999500e-02, 9.99499750e-02, 1.00000000e-01]), 'timegrid_phase': array([0.00000000e+00, 5.00250125e-05, 1.00050025e-04, ...,\n",
       "       9.98999500e-02, 9.99499750e-02, 1.00000000e-01])}"
      ]
     },
     "execution_count": 200,
     "metadata": {},
     "output_type": "execute_result"
    }
   ],
   "source": [
    "# pi pulse with fixed lentgh\n",
    "pulse = PredefinedArbPulses.generate_rect_pi(20e6, n_t=n_timebins, t_pulse=t_oc_pulse)\n",
    "# hard pi pulse with auto lentgh\n",
    "#pulse = PredefinedArbPulses.generate_rect_pi(20e6, n_t=1000)\n",
    "pulse._func_omega_mhz_2_ampl_v = lambda x: x/20*0.25\n",
    "\n",
    "fname = 'dummy' # to make loadable below\n",
    "\n",
    "pulse.as_dict()\n",
    "#pulse._timegrid_phase[-1]\n"
   ]
  },
  {
   "cell_type": "markdown",
   "metadata": {},
   "source": [
    "#### Load initial guess from extern\n",
    "... or with fname=None assume slow rect pulse."
   ]
  },
  {
   "cell_type": "code",
   "execution_count": 12,
   "metadata": {},
   "outputs": [
    {
     "data": {
      "text/plain": [
       "(0.29954136343199284, 0.22210290736814414, {'name': 'opt_res_', 'folder': 'C:\\\\Software\\\\qudi_data\\\\optimal_control_assets\\\\20220817_1_guessFromReisserMsc_penalty_fac=100', 'file': ['C:\\\\Software\\\\qudi_data\\\\optimal_control_assets\\\\20220817_1_guessFromReisserMsc_penalty_fac=100\\\\opt_res_amplitude.txt', 'C:\\\\Software\\\\qudi_data\\\\optimal_control_assets\\\\20220817_1_guessFromReisserMsc_penalty_fac=100\\\\opt_res_phase.txt'], 'timegrid_unit': 's', 'data_unit': 'V', 'data_ampl': array([0.11121797, 0.10998275, 0.10876691, ..., 0.01157454, 0.01086255,\n",
       "       0.01014398]), 'data_phase': array([ 0.01565203,  0.01625656,  0.01685176, ..., -0.00390291,\n",
       "       -0.00451652, -0.00513233]), 'timegrid_ampl': array([0.00000000e+00, 5.00250125e-11, 1.00050025e-10, ...,\n",
       "       9.98999500e-08, 9.99499750e-08, 1.00000000e-07]), 'timegrid_phase': array([0.00000000e+00, 5.00250125e-11, 1.00050025e-10, ...,\n",
       "       9.98999500e-08, 9.99499750e-08, 1.00000000e-07])})"
      ]
     },
     "execution_count": 12,
     "metadata": {},
     "output_type": "execute_result"
    }
   ],
   "source": [
    "#folder = r\"C:\\Software\\qudi_data\\optimal_control_assets\"\n",
    "folder = r\"C:\\Software\\qudi_data\\optimal_control_assets\\20220725_2_lessClipping\"\n",
    "folder = r\"C:\\Software\\qudi_data\\optimal_control_assets\\20220726_1_NV1_penalty_fac=1\"\n",
    "\n",
    "#fname =  r\"on_nv=2_\"\n",
    "fname = r\"opt_res_\"\n",
    "\n",
    "folder = r\"C:\\Software\\qudi_data\\optimal_control_assets\\Reisser_MSc_pulse_1\"\n",
    "fname = r\"Opt_Pulse_01_\"\n",
    "\n",
    "folder = r\"C:\\Software\\qudi_data\\optimal_control_assets\\20220726_1_NV1_penalty_fac=1\"\n",
    "folder = r\"C:\\Software\\qudi_data\\optimal_control_assets\\Reisser_MSc_pulse_1\"\n",
    "folder =  r\"C:\\Software\\qudi_data\\optimal_control_assets\\20220727_1_guessFromReisserMsc\"\n",
    "folder = r\"C:\\Software\\qudi_data\\optimal_control_assets\\20220817_1_guessFromReisserMsc_penalty_fac=100\"\n",
    "#fname =  r\"on_nv=2_\"\n",
    "fname = r\"opt_res_\"\n",
    "#fname = r\"Opt_Pulse_01_\"\n",
    "\n",
    "\n",
    "\n",
    "\n",
    "#pulse = ArbPulse.load_pulse(folder, fname, unit_t='s', unit_data='V')\n",
    "\n",
    "pulse = ArbPulse.load_pulse(folder, fname, unit_t='s', unit_data='V',\n",
    "                            func_ampl_v_2_omega_mhz=lambda x: x/0.25*20,\n",
    "                            func_omega_mhz_2_ampl_v=lambda x: 1/(x/0.25*20))\n",
    "\n",
    "# rescale amplitude if needed\n",
    "# NOW rabi/ BACK rabi\n",
    "pulse._data_ampl  = 76.4/49.3*pulse._data_ampl\n",
    "pulse._data_phase = 76.4/49.3*pulse._data_phase\n",
    "\n",
    "# ONLY for loading Reisser pulse\n",
    "#pulse = ArbPulse.load_pulse(folder, fname, unit_t='ns', unit_data='MHz',\n",
    "#                            func_omega_mhz_2_ampl_v=lambda y: y/13.849* 0.25 * 13.849/20)\n",
    "\n",
    "np.max(pulse._data_ampl), np.max(pulse._data_phase), pulse.as_dict()"
   ]
  },
  {
   "cell_type": "code",
   "execution_count": 11,
   "metadata": {},
   "outputs": [
    {
     "data": {
      "text/plain": [
       "('C:\\\\Software\\\\qudi_data\\\\optimal_control_assets\\\\20220817_1_guessFromReisserMsc_penalty_fac=100', 'opt_res_')"
      ]
     },
     "execution_count": 11,
     "metadata": {},
     "output_type": "execute_result"
    }
   ],
   "source": [
    "pulse.data_ampl\n",
    "folder, fname"
   ]
  },
  {
   "cell_type": "markdown",
   "metadata": {},
   "source": [
    "### Set initial guess"
   ]
  },
  {
   "cell_type": "code",
   "execution_count": 13,
   "metadata": {},
   "outputs": [
    {
     "data": {
      "text/plain": [
       "'list_function'"
      ]
     },
     "execution_count": 13,
     "metadata": {},
     "output_type": "execute_result"
    }
   ],
   "source": [
    "#fname=None\n",
    "\n",
    "if fname:\n",
    "    try:        \n",
    "        pulse = pulse\n",
    "        timegrid_ampl = pulse.get_timegrid(unit='s')\n",
    "        len_oc_pulse = optimization_dictionary['times'][0]['initial_value']\n",
    "        if n_timebins != len(timegrid_ampl) or not np.isclose(len_oc_pulse,timegrid_ampl[-1]):\n",
    "            raise NotImplementedError(f\"Timegrid of loaded init pulse ({timegrid_ampl[-1]}@{len(timegrid_ampl)})\\\n",
    "                                      doesn't match settings ({len_oc_pulse}@{n_timebins}). Consider implementing interpolation!\")\n",
    "    except:\n",
    "        logger.exception(\"\")\n",
    "        fname = None\n",
    "if fname:\n",
    "    try:\n",
    "        initial_guess_ampl = {'function_type': 'list_function', 'list_function': pulse.get_data_ampl(unit='V')}\n",
    "        initial_guess_phase = {'function_type': 'list_function', 'list_function': pulse.get_data_phase(unit='V')}\n",
    "    except:\n",
    "        logger.exception(\"\")\n",
    "    # ATTENTION: ONLY FOR DEBUG\n",
    "    #initial_guess_ampl = {'function_type': 'list_function', 'list_function': 1/1.4*pulse['data_ampl']}\n",
    "    #initial_guess_phase = {'function_type': 'list_function', 'list_function': 1/1.4*pulse['data_phase']}\n",
    "else:\n",
    "    initial_guess_ampl = {'function_type': 'lambda_function', 'lambda_function': f'lambda t: {ampl_oc_guess} + 0.0*t'}\n",
    "    initial_guess_phase = {'function_type': 'lambda_function', 'lambda_function': f'lambda t: {ampl_oc_guess} + 0.0*t'}\n",
    "    \n",
    "initial_guess_ampl['function_type']"
   ]
  },
  {
   "cell_type": "code",
   "execution_count": 14,
   "metadata": {},
   "outputs": [],
   "source": [
    "try:\n",
    "    pulse.get_data_ampl(unit='V')\n",
    "except:\n",
    "    logger.exception(\"\")"
   ]
  },
  {
   "cell_type": "code",
   "execution_count": 15,
   "metadata": {},
   "outputs": [
    {
     "data": {
      "text/plain": [
       "0.29954136343199284"
      ]
     },
     "execution_count": 15,
     "metadata": {},
     "output_type": "execute_result"
    }
   ],
   "source": [
    "np.max(pulse.get_data_ampl(unit='V'))"
   ]
  },
  {
   "cell_type": "code",
   "execution_count": 16,
   "metadata": {},
   "outputs": [
    {
     "data": {
      "text/plain": [
       "0.0955"
      ]
     },
     "execution_count": 16,
     "metadata": {},
     "output_type": "execute_result"
    }
   ],
   "source": [
    "vec_number = 3   #2-3\n",
    "upper_freq_lim = 12  #8-12\n",
    "\n",
    "\n",
    "    \n",
    "pulse_amplitude = {'pulse_name': 'Amplitude', \n",
    "                           'upper_limit':ampl_max, \n",
    "                           'lower_limit': -ampl_max, \n",
    "                           'bins_number': n_timebins, \n",
    "                           'time_name': 'time_p', \n",
    "                           'amplitude_variation': 0.5*ampl_oc_guess, # added to guess amp, to create 3 points for start simplex\n",
    "                           'basis': {'basis_name': 'Fourier', \n",
    "                                     'basis_class': 'Fourier', \n",
    "                                     'basis_module': 'quocslib.pulses.basis.Fourier', \n",
    "                                     'basis_vector_number': vec_number, # number of frequencies within the below defined range\n",
    "                                     'random_super_parameter_distribution': \n",
    "                                     {'distribution_name': 'Uniform', 'distribution_class': 'Uniform', \n",
    "                                           'distribution_module': 'quocslib.pulses.superparameter.Uniform', \n",
    "                                           'lower_limit': 0.0, 'upper_limit': upper_freq_lim} # number of oscillations within pulse\n",
    "                                    }, \n",
    "                           'scaling_function': {'function_type': 'lambda_function', 'lambda_function': 'lambda t: 1.0 + 0.0*t'}, \n",
    "                           'initial_guess': initial_guess_ampl,\n",
    "                           'shrink_ampl_lim': True\n",
    "                          }\n",
    "\n",
    "pulse_phase = {'pulse_name': 'Phase', \n",
    "               'upper_limit': ampl_max, \n",
    "               'lower_limit': -ampl_max, \n",
    "               'bins_number': n_timebins, \n",
    "               'time_name': 'time_p', \n",
    "               'amplitude_variation': 0.5*ampl_oc_guess, # added to guess amp, to create 3 points for start simplex\n",
    "               'basis': {'basis_name': 'Fourier', \n",
    "                         'basis_class': 'Fourier', \n",
    "                         'basis_module': 'quocslib.pulses.basis.Fourier', \n",
    "                         'basis_vector_number': vec_number, # number of frequencies within the below defined range\n",
    "                         'random_super_parameter_distribution': \n",
    "                         {'distribution_name': 'Uniform', 'distribution_class': 'Uniform', \n",
    "                               'distribution_module': 'quocslib.pulses.superparameter.Uniform', \n",
    "                               'lower_limit': 0.0, 'upper_limit': upper_freq_lim} # number of oscillations within pulse\n",
    "                        }, \n",
    "               'scaling_function': {'function_type': 'lambda_function', 'lambda_function': 'lambda t: 1.0 + 0.0*t'}, \n",
    "               'initial_guess': initial_guess_phase,\n",
    "               'shrink_ampl_lim': True\n",
    "              }\n",
    "\n",
    "optimization_dictionary['pulses'] = [pulse_amplitude, pulse_phase]\n",
    "\n",
    "ampl_oc_guess"
   ]
  },
  {
   "cell_type": "code",
   "execution_count": 125,
   "metadata": {},
   "outputs": [
    {
     "data": {
      "text/plain": [
       "{'function_type': 'list_function', 'list_function': array([0.07875513, 0.07788045, 0.0770195 , ..., 0.00819611, 0.00769194,\n",
       "       0.00718311])}"
      ]
     },
     "execution_count": 125,
     "metadata": {},
     "output_type": "execute_result"
    }
   ],
   "source": [
    "\n",
    "optimization_dictionary['pulses'][0]['initial_guess']"
   ]
  },
  {
   "cell_type": "markdown",
   "metadata": {},
   "source": [
    "### Init & Transfer to Qudi-QuOCS"
   ]
  },
  {
   "cell_type": "code",
   "execution_count": 17,
   "metadata": {},
   "outputs": [],
   "source": [
    "opti_comm_dict = {\"optimization_dictionary\": optimization_dictionary}\n",
    "optimizationlogic.load_opti_comm_dict(opti_comm_dict)"
   ]
  },
  {
   "cell_type": "markdown",
   "metadata": {},
   "source": [
    "Press \"Start\" in the gui and see whether errors are logged."
   ]
  },
  {
   "cell_type": "markdown",
   "metadata": {},
   "source": [
    "Print the optimization dictionary also here. If the GUI is not showing the optimization dictionary, restart the Kernel."
   ]
  },
  {
   "cell_type": "code",
   "execution_count": 18,
   "metadata": {},
   "outputs": [
    {
     "data": {
      "text/plain": [
       "{'optimization_dictionary': {'optimization_client_name': 'test_dCRAB_Noisy_2_control_fields', 'opti_algorithm_module': 'quocslib.optimalalgorithms.dCRABNoisyAlgorithm', 'opti_algorithm_class': 'DCrabNoisyAlgorithm', 'algorithm_settings': {'algorithm_name': 'dCRAB', 'super_iteration_number': 10000000, 'FoM_goal': 1e-05, 'total_time_lim': 5760, 'compensate_drift': {'compensate_after_SI': True, 'compensate_after_minutes': 15}, 'random_number_generator': {'seed_number': 420}, 'dsm_settings': {'general_settings': {'dsm_algorithm_name': 'NelderMead', 'is_adaptive': False}, 'stopping_criteria': {'time_lim': 180, 'change_based_stop': {'cbs_funct_evals': 500, 'cbs_change': 0.01}}}}, 'times': [{'time_name': 'time_p', 'initial_value': 1e-07}], 'parameters': [], 'pulses': [{'pulse_name': 'Amplitude', 'upper_limit': 0.25, 'lower_limit': -0.25, 'bins_number': 2000, 'time_name': 'time_p', 'amplitude_variation': 0.04775, 'basis': {'basis_name': 'Fourier', 'basis_class': 'Fourier', 'basis_module': 'quocslib.pulses.basis.Fourier', 'basis_vector_number': 3, 'random_super_parameter_distribution': {'distribution_name': 'Uniform', 'distribution_class': 'Uniform', 'distribution_module': 'quocslib.pulses.superparameter.Uniform', 'lower_limit': 0.0, 'upper_limit': 12}}, 'scaling_function': {'function_type': 'lambda_function', 'lambda_function': 'lambda t: 1.0 + 0.0*t'}, 'initial_guess': {'function_type': 'list_function', 'list_function': array([0.11121797, 0.10998275, 0.10876691, ..., 0.01157454, 0.01086255,\n",
       "       0.01014398])}, 'shrink_ampl_lim': True}, {'pulse_name': 'Phase', 'upper_limit': 0.25, 'lower_limit': -0.25, 'bins_number': 2000, 'time_name': 'time_p', 'amplitude_variation': 0.04775, 'basis': {'basis_name': 'Fourier', 'basis_class': 'Fourier', 'basis_module': 'quocslib.pulses.basis.Fourier', 'basis_vector_number': 3, 'random_super_parameter_distribution': {'distribution_name': 'Uniform', 'distribution_class': 'Uniform', 'distribution_module': 'quocslib.pulses.superparameter.Uniform', 'lower_limit': 0.0, 'upper_limit': 12}}, 'scaling_function': {'function_type': 'lambda_function', 'lambda_function': 'lambda t: 1.0 + 0.0*t'}, 'initial_guess': {'function_type': 'list_function', 'list_function': array([ 0.01565203,  0.01625656,  0.01685176, ..., -0.00390291,\n",
       "       -0.00451652, -0.00513233])}, 'shrink_ampl_lim': True}]}}"
      ]
     },
     "execution_count": 18,
     "metadata": {},
     "output_type": "execute_result"
    }
   ],
   "source": [
    "optimalcontrol.opti_comm_dict"
   ]
  },
  {
   "cell_type": "markdown",
   "metadata": {},
   "source": [
    "# Measurement"
   ]
  },
  {
   "cell_type": "markdown",
   "metadata": {},
   "source": [
    "Run a normal rect Rabi with all analysis and MW generation parameters before. Then run with commented out the dicts below in order to keep all the respective pulsed settings."
   ]
  },
  {
   "cell_type": "code",
   "execution_count": 69,
   "metadata": {},
   "outputs": [
    {
     "data": {
      "text/plain": [
       "0.014142135623730952"
      ]
     },
     "execution_count": 69,
     "metadata": {},
     "output_type": "execute_result"
    }
   ],
   "source": [
    "script_params = {}\n",
    "script_params['runtime_per_epoch'] = 40  # s\n",
    "script_params['readout_noise'] = np.sqrt(2)*0.01  # std_dev of fom, controls convergence in iteration\n",
    "# needs to be smaller than the actual pulse length time_p due to the interpolation\n",
    "script_params['length_oc'] = t_oc_pulse - 1e-9\n",
    "script_params['is_noisy'] = True\n",
    "\n",
    "# file paths \n",
    "folder_path = r'C:\\Software\\qudi_data\\optimal_control_assets'\n",
    "filename= \"on_nv=1_\"\n",
    "\n",
    "script_params['readout_noise']"
   ]
  },
  {
   "cell_type": "markdown",
   "metadata": {},
   "source": [
    "## Set measurement sequence and fom"
   ]
  },
  {
   "cell_type": "code",
   "execution_count": 70,
   "metadata": {
    "scrolled": true
   },
   "outputs": [
    {
     "data": {
      "text/plain": [
       "{'name': 'oc_nrep', 'n_start': 1, 'n_step': 1, 'num_of_points': 4, 'filename_amplitude': 'on_nv=1_amplitude.txt', 'filename_phase': 'on_nv=1_phase.txt', 'folder_path': 'C:\\\\Software\\\\qudi_data\\\\optimal_control_assets', 't_gap': 0, 'phases': '0', 'init_end_pix': 0, 'init_end_phases_deg': '0', 'vs_rect_pulse': False, 'alternating': True, 'experiment': 'oc_nrep'}"
      ]
     },
     "execution_count": 70,
     "metadata": {},
     "output_type": "execute_result"
    }
   ],
   "source": [
    "def setup_sts_oc_pi(folder_path, filename, length_oc):\n",
    "    dictparamsall = pulsedmasterlogic.generate_method_params\n",
    "    \n",
    "    dict_qst = dictparamsall[\"sts_oc\"]\n",
    "    dict_qst[\"experiment\"] = 'sts_oc'\n",
    "    dict_qst[\"name\"] = 'stsoc'\n",
    "    dict_qst[\"length\"] = length_oc\n",
    "    dict_qst[\"filename_amplitude\"] = os.path.basename(get_pulse_filename(folder_path, name=filename)[0])\n",
    "    dict_qst[\"filename_phase\"] = os.path.basename(get_pulse_filename(folder_path, name=filename)[1])\n",
    "    dict_qst[\"folder_path\"] = folder_path\n",
    "    \n",
    "\n",
    "    \n",
    "    return dict_qst\n",
    "\n",
    "def setup_oc_npi(folder_path, filename, length_oc, n_start=1, n_step=1, n_n=4, t_gap=0e-9, phases_oc=[0],\n",
    "                init_end_pix=0, init_end_phases_deg=[0]):\n",
    "    dictparamsall = pulsedmasterlogic.generate_method_params\n",
    "    \n",
    "    dict_qst = dictparamsall[\"oc_nrep\"]\n",
    "    dict_qst[\"experiment\"] = 'oc_nrep'\n",
    "    dict_qst[\"name\"] = 'oc_nrep'\n",
    "    dict_qst[\"filename_amplitude\"] = os.path.basename(get_pulse_filename(folder_path, name=filename)[0])\n",
    "    dict_qst[\"filename_phase\"] = os.path.basename(get_pulse_filename(folder_path, name=filename)[1])\n",
    "    dict_qst[\"folder_path\"] = folder_path\n",
    "    \n",
    "    dict_qst['n_start'] = n_start\n",
    "    dict_qst['n_step'] = n_step\n",
    "    dict_qst['t_gap'] = t_gap\n",
    "    dict_qst['phases'] = list_2_csv(phases_oc)\n",
    "    dict_qst['init_end_pix'] = init_end_pix\n",
    "    dict_qst['init_end_phases_deg'] = list_2_csv(init_end_phases_deg)\n",
    "    dict_qst['num_of_points'] = n_n\n",
    "    \n",
    "    dict_qst[\"alternating\"] = True\n",
    "    dict_qst[\"vs_rect_pulse\"] = False\n",
    "    \n",
    "    \n",
    "    return dict_qst\n",
    "\n",
    "def setup_fom_func_sts_oc_pi():\n",
    "    def calc_fom():\n",
    "        signal_data = pulsedmeasurementlogic.signal_data\n",
    "        up_norm = signal_data[1,0] / signal_data[1,0]\n",
    "        down_norm = signal_data[1,1] / signal_data[1,0]\n",
    "\n",
    "        return np.real(1 - (up_norm - down_norm))\n",
    "    \n",
    "    return calc_fom\n",
    "\n",
    "def setup_fom_func_oc_npi():\n",
    "    def calc_fom():\n",
    "        # signal_data[0,:] = xaxis\n",
    "        # signal_data[1,:] = yaxis (alternating flattened)\n",
    "        try:\n",
    "            signal_data = pulsedmeasurementlogic.signal_data\n",
    "            n_pi = signal_data[0,:]\n",
    "            n_pi_even = np.where(n_pi%2==0)\n",
    "\n",
    "            data_mw = signal_data[1,:]\n",
    "            data_alt = signal_data[2,:]\n",
    "            data_norm = data_mw/data_alt\n",
    "            data_mw_0 = (data_norm)[n_pi%2==0]  # normed in state |0>\n",
    "            data_mw_1 = (data_norm)[n_pi%2==1]  # normed in state |1>\n",
    "\n",
    "            return np.mean(1 - (data_mw_0 - data_mw_1))\n",
    "        except:\n",
    "            return np.nan\n",
    "    \n",
    "    return calc_fom\n",
    "\n",
    "def setup_fom_simulation_sigz(f_res):\n",
    "    \n",
    "    def fom_func(pulse, func_volt_2_rabi=None):\n",
    "        # sim units are MHz!\n",
    "        simp = SimParameters()\n",
    "\n",
    "        B_gauss = (simp.D - f_res*1e-6)/ simp.gamma_nv\n",
    "\n",
    "        # reloading pulse to make sure units are correct\n",
    "        pulse = ArbPulse.load_pulse(pulse._folder, pulse.name, extension='txt',\n",
    "                                     unit_t='s', unit_data='V', \n",
    "                                      func_ampl_v_2_omega_mhz=func_volt_2_rabi\n",
    "                                      )\n",
    "\n",
    "        try:\n",
    "            sim = TimeDependentSimulation()\n",
    "\n",
    "            freq_array = np.asarray([f_res])/1e6  # MHz\n",
    "            logger.debug(f\"{freq_array}\")\n",
    "            data_freq_detuning = sim.run_sim_fsweep(freq_array, pulse, B_gauss, simp)\n",
    "            spin_pop = np.mean(data_freq_detuning)\n",
    "            return spin_pop\n",
    "\n",
    "        except Exception as e:\n",
    "            logger.exception(f\"Couldn't simulate pulse response: \")\n",
    "            return np.nan\n",
    "            \n",
    "        \n",
    "    \n",
    "    return fom_func\n",
    "    \n",
    "    \n",
    "\n",
    "\n",
    "def add_penalty_freq_bandstop(fom_func, f_res, f_center_block, df=10e6, n_f_sim=50, fac_penalty=1, symm_block=True):\n",
    "    def get_f_sim_array(f_res, f_center_block, df, n_f, symm_block=False):\n",
    "        f_center_block_mhz = f_center_block*1e-6\n",
    "        f_res_mhz = f_res*1e-6\n",
    "        df_mhz = df*1e-6\n",
    "        if symm_block:\n",
    "            delta_block = f_center_block_mhz - f_res_mhz\n",
    "            f_center_2_mhz = f_res_mhz - delta_block\n",
    "            f_centers = [f_center_block_mhz, f_center_2_mhz]\n",
    "        else:\n",
    "            f_centers = [f_center_block_mhz]\n",
    "\n",
    "        freqs = []\n",
    "        for f in f_centers:\n",
    "            freqs.extend(list(np.linspace(f-df_mhz, f+df_mhz, int(n_f/len(f_centers)))))\n",
    "        freq_array = np.asarray(freqs)\n",
    "\n",
    "        return freq_array\n",
    "\n",
    "    def extend_fom(pulse, func_volt_2_rabi=None):\n",
    "        exp_fom = fom_func()\n",
    "\n",
    "        # sim units are MHz!\n",
    "        simp = SimParameters()\n",
    "\n",
    "\n",
    "        B_gauss = (simp.D - f_res*1e-6)/ simp.gamma_nv\n",
    "\n",
    "        # reloading pulse to make sure units are correct\n",
    "        pulse = ArbPulse.load_pulse(pulse._folder, pulse.name, extension='txt',\n",
    "                                     unit_t='s', unit_data='V', \n",
    "                                      func_ampl_v_2_omega_mhz=func_volt_2_rabi\n",
    "                                      )\n",
    "\n",
    "        try:\n",
    "            sim = TimeDependentSimulation()\n",
    "            \n",
    "            freq_array = get_f_sim_array(f_res, f_center_block, df, n_f_sim, symm_block=symm_block)\n",
    "            data_freq_detuning = sim.run_sim_fsweep(freq_array, pulse, B_gauss, simp)\n",
    "            spin_pop = np.mean(data_freq_detuning)\n",
    "\n",
    "\n",
    "        except Exception as e:\n",
    "            logger.exception(f\"Couldn't simulate pulse response: \")\n",
    "            return np.nan\n",
    "\n",
    "        # in the blockband, spin_pop should be uneffected (=1)\n",
    "        fom_sim = (1 + fac_penalty*(abs(1-spin_pop)))\n",
    "        fom_hybrid = exp_fom * fom_sim\n",
    "        logger.debug(f\"FOM: {fom_hybrid} <= Exp: {exp_fom}, Sim: {fom_sim},  factor= {fac_penalty}\")\n",
    "        logger.debug(f\"Block bands: {freq_array}, nf= {len(freq_array)}\")\n",
    "        return fom_hybrid\n",
    "\n",
    "\n",
    "    return extend_fom\n",
    "\n",
    "script_params['fom_func_volt_2_rabi'] = None\n",
    "qmeas = setup_sts_oc_pi(folder_path, filename, script_params['length_oc'])\n",
    "qmeas = setup_oc_npi(folder_path, filename, script_params['length_oc'])\n",
    "# for OC pulse on NV2 (control): from states 0, 1\n",
    "qmeas = setup_oc_npi(folder_path, filename, script_params['length_oc'], t_gap=0.25/2.1e6, n_n=4)\n",
    "qmeas = setup_oc_npi(folder_path, filename, script_params['length_oc'], t_gap=1/2.1e6, n_n=8)\n",
    "qmeas = setup_oc_npi(folder_path, filename, script_params['length_oc'], t_gap=0, n_n=4)\n",
    "#qmeas = setup_oc_npi(folder_path, filename, script_params['length_oc'], t_gap=0, n_n=8)\n",
    "\n",
    "# for OC pulse on NV1 (target): from states X,Y\n",
    "# todo: IS IT ENOUGH to do pi2X-MWX-pi2X and pi2Y-MWY-pi2Y or do we need pi2X-MWY-pi2X (spin lock)\n",
    "#qmeas = setup_oc_npi(folder_path, filename, script_params['length_oc'], t_gap=0.25/2.1e6, n_n=4,\n",
    "#                    phases_oc=[0, 90], init_end_pix=0.5, init_end_phases_deg=[0, 90])\n",
    "# From simulated ProcTomo: OC pi from ResserMsc is roughly Y pulse\n",
    "# => need to adapt phases\n",
    "#qmeas = setup_oc_npi(folder_path, filename, script_params['length_oc'], n_n=4, t_gap=2/2*1/2.1e6, \n",
    "#                    #phases_oc=[0,90], init_end_pix=0.5, init_end_phases_deg=[0, 90])\n",
    "#                     phases_oc=[0], init_end_pix=0.5, init_end_phases_deg=[0])\n",
    "\n",
    "\n",
    "\n",
    "\n",
    "f_res = 2609.56e6\n",
    "f_block = 2718e6\n",
    "fom_func = setup_fom_func_oc_npi()\n",
    "\n",
    "\n",
    "script_params['fom_func_volt_2_rabi'] = lambda y: y/ampl_rect*(1e-6/t_rabi_rect)\n",
    "fom_func = add_penalty_freq_bandstop(fom_func, f_res, f_block, fac_penalty=10, symm_block=True)\n",
    "#fom_func = add_penalty_freq_bandstop(fom_func, f_res, f_block, fac_penalty=1, symm_block=True)\n",
    "\n",
    "script_params['generate_parameters'] = qmeas\n",
    "script_params['fom_function'] = fom_func\n",
    "\n",
    "script_params['generate_parameters']\n",
    "\n"
   ]
  },
  {
   "cell_type": "code",
   "execution_count": 23,
   "metadata": {},
   "outputs": [
    {
     "data": {
      "text/plain": [
       "0.23809523809523808"
      ]
     },
     "execution_count": 23,
     "metadata": {},
     "output_type": "execute_result"
    }
   ],
   "source": [
    "1/2*1/2.1e6  *1e6"
   ]
  },
  {
   "cell_type": "code",
   "execution_count": 54,
   "metadata": {},
   "outputs": [
    {
     "data": {
      "text/plain": [
       "0.9137020096219715"
      ]
     },
     "execution_count": 54,
     "metadata": {},
     "output_type": "execute_result"
    }
   ],
   "source": [
    "# debug fom\n",
    "try:\n",
    "    data = script_params['fom_function'](pulse, func_volt_2_rabi=lambda y: y/0.25*20)\n",
    "except:\n",
    "    logger.exception(\"\")\n",
    "    \n",
    "data"
   ]
  },
  {
   "cell_type": "code",
   "execution_count": 243,
   "metadata": {},
   "outputs": [
    {
     "name": "stderr",
     "output_type": "stream",
     "text": [
      "Traceback (most recent call last):\n",
      "  File \"C:\\Software\\qudi\\logic\\jupyterkernel\\qzmqkernel.py\", line 679, in run_code\n",
      "    exec(code_obj, self.user_global_ns, self.user_ns)\n",
      "  File \"<ipython-input-243-fdaf027881ee>\", line 12, in <module>\n",
      "    func_t_2_us=lambda x: x*1e6)\n",
      "TypeError: load_pulse() got an unexpected keyword argument 'func_t_2_us'\n"
     ]
    }
   ],
   "source": [
    "#pulse = #folder = r\"C:\\Software\\qudi_data\\optimal_control_assets\"\n",
    "folder = r\"C:\\Software\\qudi_data\\optimal_control_assets\\20220724_1\"\n",
    "fname = r\"on_nv=1_\"\n",
    "#fname = r\"opt_pulse_\"\n",
    "\n",
    "# Change from TimeDependentsSimulation to ArbPulse\n",
    "#pulse = TimeDependentSimulation.load_pulse(folder, fname, extension='txt',\n",
    "                                           #func_volt_2_rabi=func_volt_2_rabi,\n",
    " #                                          func_t_2_us=lambda x: x*1e6)\n",
    "pulse = ArbPulse.load_pulse(folder, fname, extension='txt',\n",
    "                                           #func_volt_2_rabi=func_volt_2_rabi,\n",
    "                                           func_t_2_us=lambda x: x*1e6)\n",
    "pulse['timegrid_ampl'][-1]"
   ]
  },
  {
   "cell_type": "code",
   "execution_count": null,
   "metadata": {},
   "outputs": [],
   "source": [
    "signal_data = pulsedmeasurementlogic.signal_data\n",
    "n_pi = signal_data[0,:]\n",
    "data_mw = signal_data[1,:]\n",
    "data_alt = signal_data[2,:]\n",
    "data_norm = data_mw/data_alt\n",
    "data_mw_0 = (data_norm)[n_pi%2==0]\n",
    "data_mw_1 = (data_norm)[n_pi%2==1]\n",
    "\n",
    "data_mw_1"
   ]
  },
  {
   "cell_type": "markdown",
   "metadata": {},
   "source": [
    "## Run"
   ]
  },
  {
   "cell_type": "code",
   "execution_count": 68,
   "metadata": {},
   "outputs": [],
   "source": [
    "\n",
    "time.time()\n",
    "def set_optimize_time(qmeas, t_last_opt):\n",
    "    \"\"\"\n",
    "    override the default tracking/optimize behavior:\n",
    "    optimize once at startup of OC optimization step if optimize time is reached\n",
    "    \"\"\"\n",
    "    qmeas = cp.copy(qmeas)\n",
    "    if 'optimize_time' in qmeas.keys():\n",
    "        if time.time() - t_last_opt > qmeas['optimize_time']:\n",
    "            # optimize after mes start\n",
    "            qmeas['optimize_time'] = 1\n",
    "            t_last_opt = time.time()\n",
    "        else:\n",
    "            qmeas.pop('optimize_time')\n",
    "    return qmeas, t_last_opt\n",
    "\n",
    "\n",
    "\n",
    "#set_optimize_time(qmeas, 0)\n",
    "# todo:buggy"
   ]
  },
  {
   "cell_type": "code",
   "execution_count": null,
   "metadata": {},
   "outputs": [],
   "source": [
    "######################################################################################################\n",
    "# Parameters and Settings\n",
    "######################################################################################################\n",
    "\n",
    "# runtime of each experiment\n",
    "runtime = script_params['runtime_per_epoch']\n",
    "length_oc = script_params['length_oc'] \n",
    "\n",
    "# parameter to stop the experiment if its set to False in the console\n",
    "pulsedmasterlogic.globalrun = True\n",
    "uglobals.abort.clear()\n",
    "logger.info(\"Starting new closed-loop quocs optimization\")\n",
    "\n",
    "# Dictonary containing the general measurement parameters for the predefined measurements\n",
    "p_generation_dict = pulsedmasterlogic.generation_parameters\n",
    "#p_generation_dict[\"laser_channel\"] = \"d_ch2\" \n",
    "#p_generation_dict[\"sync_channel\"] = \"d_ch1\" \n",
    "#p_generation_dict[\"gate_channel\"] = None#\"d_ch1\" \n",
    "#p_generation_dict[\"microwave_channel\"] = \"a_ch1\"\n",
    "#p_generation_dict[\"microwave_amplitude\"] = 0.25\n",
    "#p_generation_dict[\"microwave_frequency\"] = 2822.3e6\n",
    "#p_generation_dict[\"rabi_period\"] = 82.7e-9\n",
    "#p_generation_dict[\"laser_length\"] = 3e-06\n",
    "#p_generation_dict[\"laser_delay\"] = 0.2e-6\n",
    "#p_generation_dict[\"wait_time\"] = 1e-06\n",
    "#p_generation_dict[\"analog_trigger_voltage\"] = 0.0\n",
    "\n",
    "# load the general measurement parameters for the predefined measurements\n",
    "pulsedmasterlogic.set_generation_parameters(p_generation_dict)\n",
    "script_params['pulsed_generation_params'] = pulsedmasterlogic.generation_parameters\n",
    "\n",
    "\n",
    "# tell the measurement gui how the sequence looks\n",
    "pulsed_settings = dict()\n",
    "pulsed_settings['invoke_settings'] = True\n",
    "pulsedmasterlogic.set_measurement_settings(pulsed_settings)\n",
    "script_params['pulsed_settings'] = pulsed_settings\n",
    "\n",
    "\n",
    "# make sure everything is finished\n",
    "time.sleep(5)\n",
    "\n",
    "# how the laser response is analyzed    \n",
    "#pulsedmasterlogic.set_analysis_settings(method = 'mean')\n",
    "#pulsedmasterlogic.set_analysis_settings(signal_start = 150e-9)\n",
    "#pulsedmasterlogic.set_analysis_settings(signal_end = 1e-6)\n",
    "#pulsedmasterlogic.set_extraction_settings(method = 'conv_deriv')\n",
    "\n",
    "p_analysis_settings = pulsedmasterlogic.analysis_settings\n",
    "p_extraction_settings = pulsedmasterlogic.extraction_settings\n",
    "script_params['pulsed_analysis_settings'] = p_analysis_settings\n",
    "script_params['pulsed_extraction_settings_settings'] = p_extraction_settings\n",
    "\n",
    "# array to save the fom evolution\n",
    "fom_all = []\n",
    "\n",
    "# This section is devoted to the initialization in the pulsed logic and optimization logic of the main\n",
    "# settings and parameters to be usde in the creation ofthe pulse sequence and the optimization\n",
    "# Iteration, controls and figure of merit to compare with QuOCS\n",
    "# Just an example for debug\n",
    "args_dict = {\"is_noisy\": script_params['is_noisy']}\n",
    "qubit = OneQubit2Fields(args_dict)\n",
    "\n",
    "######################################################################################################\n",
    "# Measurement\n",
    "######################################################################################################\n",
    "optimalcontrol.start_optimization()\n",
    "\n",
    "# crucial, maybe it can be much shorter\n",
    "time.sleep(1)\n",
    "\n",
    "# Just a time to check for latent time\n",
    "last_time_fom = time.time()\n",
    "# repeat the whole process until its manually stopped or QuOCS finsihed the optimization\n",
    "# Wait few seconds before starting to get and return data\n",
    "while not optimizationlogic.handle_exit_obj.is_user_running:\n",
    "    time.sleep(0.1)\n",
    "    if (time.time() - last_time_fom) > 30 or uglobals.abort.is_set():\n",
    "        logger.warning(\"Timeout or abort while initializing quocs.\")\n",
    "        uglobals.abort.set()\n",
    "        break\n",
    "\n",
    "# iteration number\n",
    "it_val = 0\n",
    "\n",
    "# when did the optimization start?\n",
    "opt_start_time = time.time()\n",
    "t_last_optimize = 0\n",
    "try:\n",
    "    # print(\"Check before the loop starts: {0}\".format(optimizationlogic.handle_exit_obj.is_user_running))\n",
    "    while optimizationlogic.handle_exit_obj.is_user_running == True and not uglobals.abort.is_set():\n",
    "        time_stamp=time.time()\n",
    "        # wait until QuOCS optimizes the controls\n",
    "        # print(\"Wait until the controls logic gives the controls\")\n",
    "        while not controlslogic.are_pulses_calculated:\n",
    "            time.sleep(0.1)\n",
    "            # If the waiting time exceed 10 seconds left stop the optimization\n",
    "            if time.time() - last_time_fom > 20:\n",
    "                logger.error(\"Too much time... Exit!\")\n",
    "                optimizationlogic.handle_exit_obj.is_user_running = False\n",
    "                break\n",
    "\n",
    " \n",
    "        #######################################################################################################\n",
    "        # Get the Controls\n",
    "        #######################################################################################################\n",
    "        # Change the status of control calculations to avoid to evaluate the fom twice with the same controls\n",
    "        controlslogic.are_pulses_calculated = False\n",
    "        # Get the controls from the controls logic\n",
    "        pulses, parameters, timegrids = controlslogic.pulses, controlslogic.parameters, controlslogic.timegrids\n",
    "        #######################################################################################################\n",
    "        # Perform the measurement\n",
    "        #######################################################################################################\n",
    "\n",
    "        # save the pulses as .txt files (predefined methods doesn't allow us to upload a numpy array as \n",
    "        # parameter)\n",
    "        data_ampl = np.column_stack((timegrids[0], pulses[0]))\n",
    "        data_phase = np.column_stack((timegrids[0], pulses[1]))\n",
    "        save_pulse(folder_path, data_ampl, data_phase, name=filename)\n",
    "\n",
    "        time.sleep(0.5)\n",
    "        \n",
    "        qmeas = cp.deepcopy(script_params['generate_parameters'])\n",
    "        experiment = qmeas['experiment']\n",
    "        exp_name = qmeas['name']\n",
    "        qmeas.pop('experiment', None)\n",
    "        \n",
    "        #qmeas = set_optimize_time(qmeas, t_last_optimize)\n",
    "        # generate the sequence\n",
    "        pulsedmasterlogic.generate_predefined_sequence(experiment,kwarg_dict=qmeas)  \n",
    "\n",
    "        time.sleep(1)\n",
    "\n",
    "        # upload the sequence\n",
    "        pulsedmasterlogic.sample_ensemble(exp_name,True)\n",
    "        while pulsedmasterlogic.status_dict['sampload_busy'] or pulsedmasterlogic.status_dict['sampling_ensemble_busy'] or pulsedmasterlogic.status_dict['loading_busy']:     \n",
    "            time.sleep(1)\n",
    "\n",
    "        #print('Finished uploading', dictparams_oc[\"name\"], '!')\n",
    "\n",
    "        # make sure everything is finished (crucial)\n",
    "        #time.sleep(1)#time.sleep(5)    \n",
    "\n",
    "         # start the measurement\n",
    "        #print('Starting the measurement!')\n",
    "        pulsedmasterlogic.toggle_pulsed_measurement(True)\n",
    "        time.sleep(1)\n",
    "\n",
    "        # make sure the measurement started\n",
    "        while not pulsedmasterlogic.status_dict['measurement_running']:\n",
    "            time.sleep(0.1)\n",
    "\n",
    "        measurement_start_time = time.time()\n",
    "\n",
    "        while time.time() <= measurement_start_time + runtime:\n",
    "            time.sleep(0.2)\n",
    "\n",
    "            # option to stop the measurement\n",
    "            if pulsedmasterlogic.globalrun == False or uglobals.abort.is_set():\n",
    "                print('Stopping the measurement!')\n",
    "                break\n",
    "\n",
    "        # option to stop the measurement\n",
    "        if pulsedmasterlogic.globalrun == False or uglobals.abort.is_set():\n",
    "            print('Stopping the measurement!')\n",
    "            pulsedmasterlogic.toggle_pulsed_measurement(False)\n",
    "            break\n",
    "\n",
    "        #time.sleep(1)\n",
    "\n",
    "        # Stop the measurement\n",
    "        pulsedmasterlogic.toggle_pulsed_measurement(False)\n",
    "\n",
    "        # Make sure it stopped (Wait until the Picoscope card sends the data)\n",
    "        while pulsedmasterlogic.status_dict['measurement_running']:\n",
    "            time.sleep(0.1)\n",
    "\n",
    "        #######################################################################################################\n",
    "        # Analysis\n",
    "        ######################################################################################################\n",
    "\n",
    "        fom_func = script_params['fom_function']\n",
    "        if script_params['fom_func_volt_2_rabi'] is None:\n",
    "            fom = fom_func()\n",
    "        else:\n",
    "            pulse = ArbPulse.load_pulse(folder_path, filename, unit_t='s', unit_data='V')\n",
    "            fom = fom_func(pulse, func_volt_2_rabi=script_params['fom_func_volt_2_rabi'])\n",
    "        \n",
    "\n",
    "        fom_all.append(fom)\n",
    "\n",
    "        # Update the figure of merit and the standard deviation to the fom logic\n",
    "        fomlogic.update_fom(fom, script_params['readout_noise'], status_code=0)   # todo: define above\n",
    "        #fomlogic.update_fom(fom, std, status_code=0)\n",
    "\n",
    "        # update the last time the fom is calculated\n",
    "        last_time_fom = time.time()\n",
    "\n",
    "    # when did the optimization stop?\n",
    "    opt_end_time = time.time()\n",
    "\n",
    "    print('It took QuOCS ' + str(opt_end_time-opt_start_time) + ' s to optimize the pulse!')\n",
    "except:\n",
    "    logger.exception(\"\")\n",
    "finally:\n",
    "    # give a very high fom to the optimization algorithm\n",
    "    # and status code -1, to interrupt the optimization smoothly\n",
    "    uglobals.abort.set()\n",
    "    optimizationlogic.handle_exit_obj.is_user_running = False\n",
    "    logger.info('Stopping the optimization!')\n",
    "    fomlogic.update_fom(10**10, status_code=-1)\n",
    "\n",
    "print(\"Optimization finished\")"
   ]
  },
  {
   "cell_type": "code",
   "execution_count": null,
   "metadata": {},
   "outputs": [],
   "source": [
    "len(pulse['timegrid_ampl'])"
   ]
  },
  {
   "cell_type": "markdown",
   "metadata": {},
   "source": [
    "## Test FOM noise"
   ]
  },
  {
   "cell_type": "code",
   "execution_count": null,
   "metadata": {},
   "outputs": [],
   "source": [
    "uglobals.abort.clear()\n",
    "\n",
    "pulsed_settings = dict()\n",
    "pulsed_settings['invoke_settings'] = True\n",
    "pulsedmasterlogic.set_measurement_settings(pulsed_settings)\n",
    "script_params['pulsed_settings'] = pulsed_settings\n",
    "\n",
    "\n",
    "foms = []\n",
    "n_mc = 20\n",
    "idx= 0\n",
    "try:\n",
    "    while idx<n_mc and not uglobals.abort.is_set():\n",
    "        time_stamp=time.time()\n",
    "\n",
    "        qmeas = cp.deepcopy(script_params['generate_parameters'])\n",
    "        experiment = qmeas['experiment']\n",
    "        exp_name = qmeas['name']\n",
    "        qmeas.pop('experiment', None)\n",
    "        # generate the sequence\n",
    "        pulsedmasterlogic.generate_predefined_sequence(experiment,kwarg_dict=qmeas)  \n",
    "\n",
    "        time.sleep(1)\n",
    "\n",
    "        # upload the sequence\n",
    "        pulsedmasterlogic.sample_ensemble(exp_name,True)\n",
    "        while pulsedmasterlogic.status_dict['sampload_busy'] or pulsedmasterlogic.status_dict['sampling_ensemble_busy'] or pulsedmasterlogic.status_dict['loading_busy']:     \n",
    "            time.sleep(1)\n",
    "\n",
    "        #print('Finished uploading', dictparams_oc[\"name\"], '!')\n",
    "\n",
    "        # make sure everything is finished (crucial)\n",
    "        #time.sleep(1)#time.sleep(5)    \n",
    "\n",
    "         # start the measurement\n",
    "        #print('Starting the measurement!')\n",
    "        pulsedmasterlogic.toggle_pulsed_measurement(True)\n",
    "        time.sleep(1)\n",
    "\n",
    "        # make sure the measurement started\n",
    "        while not pulsedmasterlogic.status_dict['measurement_running']:\n",
    "            time.sleep(0.1)\n",
    "\n",
    "        measurement_start_time = time.time()\n",
    "\n",
    "        while time.time() <= measurement_start_time + runtime:\n",
    "            time.sleep(0.2)\n",
    "\n",
    "            # option to stop the measurement\n",
    "            if uglobals.abort.is_set():\n",
    "                print('Stopping the measurement!')\n",
    "                break\n",
    "\n",
    "        # option to stop the measurement\n",
    "        if uglobals.abort.is_set():\n",
    "            print('Stopping the measurement!')\n",
    "            pulsedmasterlogic.toggle_pulsed_measurement(False)\n",
    "            break\n",
    "\n",
    "        #time.sleep(1)\n",
    "\n",
    "        # Stop the measurement\n",
    "        pulsedmasterlogic.toggle_pulsed_measurement(False)\n",
    "\n",
    "        # Make sure it stopped (Wait until the Picoscope card sends the data)\n",
    "        while pulsedmasterlogic.status_dict['measurement_running']:\n",
    "            time.sleep(0.1)\n",
    "\n",
    "        #######################################################################################################\n",
    "        # Analysis\n",
    "        ######################################################################################################\n",
    "\n",
    "        fom_func = script_params['fom_function']\n",
    "        foms.append(fom_func())\n",
    "\n",
    "        idx += 1\n",
    "except:\n",
    "    logger.exception(\"\")"
   ]
  },
  {
   "cell_type": "code",
   "execution_count": null,
   "metadata": {},
   "outputs": [],
   "source": [
    "idx\n",
    "foms"
   ]
  },
  {
   "cell_type": "code",
   "execution_count": null,
   "metadata": {},
   "outputs": [],
   "source": [
    "np.mean(foms), np.std(np.asarray(foms))"
   ]
  },
  {
   "cell_type": "markdown",
   "metadata": {},
   "source": [
    "## Save the results"
   ]
  },
  {
   "cell_type": "markdown",
   "metadata": {},
   "source": [
    "Currently need to hiz \"stop\" in optimalcontrol gui manually"
   ]
  },
  {
   "cell_type": "code",
   "execution_count": 133,
   "metadata": {},
   "outputs": [],
   "source": [
    "try:\n",
    "    save_optimization_result(folder_path)\n",
    "except:\n",
    "    logger.exception(\"\")"
   ]
  },
  {
   "cell_type": "code",
   "execution_count": null,
   "metadata": {},
   "outputs": [],
   "source": [
    "try:\n",
    "    optimizer_obj = optimizationlogic.optimization_obj\n",
    "    optimizer_obj.get_optimization_algorithm()\n",
    "except:\n",
    "    logger.exception(\"\")"
   ]
  },
  {
   "cell_type": "code",
   "execution_count": null,
   "metadata": {},
   "outputs": [],
   "source": [
    "optimizer_obj.__dict__"
   ]
  },
  {
   "cell_type": "code",
   "execution_count": null,
   "metadata": {},
   "outputs": [],
   "source": [
    "pulses_list, time_grids_list, parameters_list = optimizer_obj.opt_alg_obj.get_best_controls()\n",
    "\n",
    "t_amplitude = time_grids_list[0]\n",
    "amplitude = pulses_list[0]\n",
    "t_phase = time_grids_list[1]\n",
    "phase = pulses_list[1]"
   ]
  },
  {
   "cell_type": "code",
   "execution_count": null,
   "metadata": {},
   "outputs": [],
   "source": [
    "best_dict = optimizer_obj.opt_alg_obj.get_best_controls()\n",
    "\n",
    "pulses_list = best_dict['pulses']\n",
    "time_grids_list = best_dict['timegrids']\n",
    "parameters_list = best_dict['parameters']\n",
    "\n",
    "pulses_list"
   ]
  },
  {
   "cell_type": "code",
   "execution_count": null,
   "metadata": {},
   "outputs": [],
   "source": [
    "optimizer_obj.opt_alg_obj.get_best_controls().keys()"
   ]
  },
  {
   "cell_type": "markdown",
   "metadata": {},
   "source": [
    "## manually extract best pulse from result log"
   ]
  },
  {
   "cell_type": "code",
   "execution_count": null,
   "metadata": {},
   "outputs": [],
   "source": []
  },
  {
   "cell_type": "code",
   "execution_count": null,
   "metadata": {},
   "outputs": [],
   "source": [
    "path = r\"C:\\Software\\qudi_data\\optimal_control_assets\\20220724_1\\20220723_202625_test_dCRAB_Noisy_2_control_fields\"\n",
    "file = r\"20220723_202625_best_controls\"\n",
    "pulse = TimeDependentSimulation.load_pulse(path, file, extension='npz')\n",
    "\n",
    "#path = r\"C:\\Software\\qudi_data\\optimal_control_assets\\20220724_1\"\n",
    "#file = r\"on_nv=2_\"\n",
    "#pulse = load_pulse(path, file, extension='txt')\n",
    "\n",
    "pulse"
   ]
  },
  {
   "cell_type": "code",
   "execution_count": null,
   "metadata": {},
   "outputs": [],
   "source": [
    "import matplotlib.pyplot as plt\n",
    "    \n",
    "t_amplitude = pulse['timegrid_ampl']\n",
    "amplitude = pulse['data_ampl']\n",
    "t_phase = pulse['timegrid_phase']\n",
    "phase = pulse['data_phase']\n",
    "\n",
    "try:\n",
    "    plt.plot(t_amplitude*1e9, amplitude, label=\"Ampl (I)\")\n",
    "    plt.plot(t_phase*1e9, phase, label=\"Phase (Q)\")\n",
    "    plt.xlabel(\"time (ns)\")\n",
    "    plt.legend()\n",
    "    plt.show()\n",
    "except:\n",
    "    logger.exception(\"\")"
   ]
  },
  {
   "cell_type": "code",
   "execution_count": null,
   "metadata": {},
   "outputs": [],
   "source": [
    "path = folder_path\n",
    "name = \"opt_pulse_\"\n",
    "\n",
    "data_ampl = np.column_stack((t_amplitude, amplitude))\n",
    "data_phase = np.column_stack((t_phase, phase))\n",
    "\n",
    "save_pulse(path, data_ampl, data_phase, name=name)"
   ]
  },
  {
   "cell_type": "markdown",
   "metadata": {},
   "source": [
    "\n",
    "## Simulation only"
   ]
  },
  {
   "cell_type": "code",
   "execution_count": 108,
   "metadata": {},
   "outputs": [
    {
     "data": {
      "text/plain": [
       "0.014142135623730952"
      ]
     },
     "execution_count": 108,
     "metadata": {},
     "output_type": "execute_result"
    }
   ],
   "source": [
    "script_params['readout_noise'] = 0.01*np.sqrt(2)\n",
    "\n",
    "script_params['fom_func_volt_2_rabi'] = lambda y: y/ampl_rect*(1e-6/t_rabi_rect)\n",
    "script_params['fom_function'] = setup_fom_simulation_sigz(f_res)\n",
    "\n",
    "# debug\n",
    "#fom_func = script_params['fom_function']\n",
    "#fom_func(pulse, func_volt_2_rabi=script_params['fom_func_volt_2_rabi'])\n",
    "\n",
    "script_params['readout_noise']"
   ]
  },
  {
   "cell_type": "code",
   "execution_count": 109,
   "metadata": {},
   "outputs": [
    {
     "name": "stdout",
     "output_type": "stream",
     "text": [
      "Stopping the measurement!\n",
      "It took QuOCS 214.37220668792725 s to optimize the pulse!\n",
      "Optimization finished\n"
     ]
    }
   ],
   "source": [
    "f_res = 2628.56e6\n",
    "fom_func = setup_fom_simulation_sigz(f_res)\n",
    "script_params['fom_func_volt_2_rabi'] = lambda y: y/ampl_rect*(1e-6/t_rabi_rect)\n",
    "\n",
    "\n",
    "\n",
    "\n",
    "######################################################################################################\n",
    "# Parameters and Settings\n",
    "######################################################################################################\n",
    "\n",
    "# runtime of each experiment\n",
    "runtime = script_params['runtime_per_epoch']\n",
    "length_oc = script_params['length_oc'] \n",
    "\n",
    "# parameter to stop the experiment if its set to False in the console\n",
    "pulsedmasterlogic.globalrun = True\n",
    "uglobals.abort.clear()\n",
    "logger.info(\"Starting new closed-loop quocs optimization\")\n",
    "\n",
    "\n",
    "# array to save the fom evolution\n",
    "fom_all = []\n",
    "\n",
    "# This section is devoted to the initialization in the pulsed logic and optimization logic of the main\n",
    "# settings and parameters to be usde in the creation ofthe pulse sequence and the optimization\n",
    "# Iteration, controls and figure of merit to compare with QuOCS\n",
    "# Just an example for debug\n",
    "args_dict = {\"is_noisy\": script_params['is_noisy']}\n",
    "qubit = OneQubit2Fields(args_dict)\n",
    "\n",
    "######################################################################################################\n",
    "# Measurement\n",
    "######################################################################################################\n",
    "optimalcontrol.start_optimization()\n",
    "\n",
    "# crucial, maybe it can be much shorter\n",
    "time.sleep(1)\n",
    "\n",
    "# Just a time to check for latent time\n",
    "last_time_fom = time.time()\n",
    "# repeat the whole process until its manually stopped or QuOCS finsihed the optimization\n",
    "# Wait few seconds before starting to get and return data\n",
    "while not optimizationlogic.handle_exit_obj.is_user_running:\n",
    "    time.sleep(0.1)\n",
    "    if (time.time() - last_time_fom) > 30 or uglobals.abort.is_set():\n",
    "        logger.warning(\"Timeout or abort while initializing quocs.\")\n",
    "        uglobals.abort.set()\n",
    "        break\n",
    "\n",
    "# iteration number\n",
    "it_val = 0\n",
    "\n",
    "# when did the optimization start?\n",
    "opt_start_time = time.time()\n",
    "try:\n",
    "    # print(\"Check before the loop starts: {0}\".format(optimizationlogic.handle_exit_obj.is_user_running))\n",
    "    while optimizationlogic.handle_exit_obj.is_user_running == True and not uglobals.abort.is_set():\n",
    "        time_stamp=time.time()\n",
    "        # wait until QuOCS optimizes the controls\n",
    "        # print(\"Wait until the controls logic gives the controls\")\n",
    "        while not controlslogic.are_pulses_calculated:\n",
    "            time.sleep(0.1)\n",
    "            # If the waiting time exceed 10 seconds left stop the optimization\n",
    "            if time.time() - last_time_fom > 20:\n",
    "                logger.error(\"Too much time... Exit!\")\n",
    "                optimizationlogic.handle_exit_obj.is_user_running = False\n",
    "                break\n",
    "\n",
    " \n",
    "        #######################################################################################################\n",
    "        # Get the Controls\n",
    "        #######################################################################################################\n",
    "        # Change the status of control calculations to avoid to evaluate the fom twice with the same controls\n",
    "        controlslogic.are_pulses_calculated = False\n",
    "        # Get the controls from the controls logic\n",
    "        pulses, parameters, timegrids = controlslogic.pulses, controlslogic.parameters, controlslogic.timegrids\n",
    "        #######################################################################################################\n",
    "        # Perform the measurement\n",
    "        #######################################################################################################\n",
    "\n",
    "        # save the pulses as .txt files (predefined methods doesn't allow us to upload a numpy array as \n",
    "        # parameter)\n",
    "        data_ampl = np.column_stack((timegrids[0], pulses[0]))\n",
    "        data_phase = np.column_stack((timegrids[0], pulses[1]))\n",
    "        save_pulse(folder_path, data_ampl, data_phase, name=filename)\n",
    "\n",
    "        time.sleep(0.5)\n",
    "        \n",
    "       \n",
    "        measurement_start_time = time.time()\n",
    "\n",
    "        # option to stop the measurement\n",
    "        if pulsedmasterlogic.globalrun == False or uglobals.abort.is_set():\n",
    "            print('Stopping the measurement!')\n",
    "            break\n",
    "\n",
    "\n",
    "        #######################################################################################################\n",
    "        # Analysis\n",
    "        ######################################################################################################\n",
    "\n",
    "        fom_func = script_params['fom_function']\n",
    "        if script_params['fom_func_volt_2_rabi'] is None:\n",
    "            fom = fom_func()\n",
    "        else:\n",
    "            pulse = ArbPulse.load_pulse(folder_path, filename, unit_t='s', unit_data='V')\n",
    "            fom = fom_func(pulse, func_volt_2_rabi=script_params['fom_func_volt_2_rabi'])\n",
    "        \n",
    "        fom += np.random.normal(0, script_params['readout_noise'])\n",
    "        fom = abs(fom)\n",
    "                                \n",
    "        fom_all.append(fom)\n",
    "\n",
    "        # Update the figure of merit and the standard deviation to the fom logic\n",
    "        fomlogic.update_fom(fom, script_params['readout_noise'], status_code=0)   # todo: define above\n",
    "        #fomlogic.update_fom(fom, std, status_code=0)\n",
    "\n",
    "        # update the last time the fom is calculated\n",
    "        last_time_fom = time.time()\n",
    "\n",
    "    # when did the optimization stop?\n",
    "    opt_end_time = time.time()\n",
    "\n",
    "    print('It took QuOCS ' + str(opt_end_time-opt_start_time) + ' s to optimize the pulse!')\n",
    "except:\n",
    "    logger.exception(\"\")\n",
    "finally:\n",
    "    # give a very high fom to the optimization algorithm\n",
    "    # and status code -1, to interrupt the optimization smoothly\n",
    "    uglobals.abort.set()\n",
    "    optimizationlogic.handle_exit_obj.is_user_running = False\n",
    "    logger.info('Stopping the optimization!')\n",
    "    fomlogic.update_fom(10**10, status_code=-1)\n",
    "\n",
    "print(\"Optimization finished\")"
   ]
  },
  {
   "cell_type": "code",
   "execution_count": null,
   "metadata": {},
   "outputs": [],
   "source": []
  }
 ],
 "metadata": {
  "kernelspec": {
   "display_name": "Qudi",
   "language": "python",
   "name": "qudi"
  },
  "language_info": {
   "codemirror_mode": {
    "name": "ipython",
    "version": "3.6.5"
   },
   "file_extension": ".py",
   "mimetype": "text/x-python",
   "name": "python",
   "nbconvert_exporter": "python",
   "pygments_lexer": "ipython3",
   "version": "3.6.5"
  },
  "toc": {
   "base_numbering": 1,
   "nav_menu": {},
   "number_sections": true,
   "sideBar": true,
   "skip_h1_title": false,
   "title_cell": "Table of Contents",
   "title_sidebar": "Contents",
   "toc_cell": false,
   "toc_position": {
    "height": "calc(100% - 180px)",
    "left": "10px",
    "top": "150px",
    "width": "384px"
   },
   "toc_section_display": true,
   "toc_window_display": true
  },
  "varInspector": {
   "cols": {
    "lenName": 16,
    "lenType": 16,
    "lenVar": 40
   },
   "kernels_config": {
    "python": {
     "delete_cmd_postfix": "",
     "delete_cmd_prefix": "del ",
     "library": "var_list.py",
     "varRefreshCmd": "print(var_dic_list())"
    },
    "r": {
     "delete_cmd_postfix": ") ",
     "delete_cmd_prefix": "rm(",
     "library": "var_list.r",
     "varRefreshCmd": "cat(var_dic_list()) "
    }
   },
   "position": {
    "height": "751px",
    "left": "1538px",
    "right": "20px",
    "top": "120px",
    "width": "325px"
   },
   "types_to_exclude": [
    "module",
    "function",
    "builtin_function_or_method",
    "instance",
    "_Feature"
   ],
   "window_display": true
  }
 },
 "nbformat": 4,
 "nbformat_minor": 2
}
