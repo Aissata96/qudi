{
 "cells": [
  {
   "cell_type": "markdown",
   "metadata": {},
   "source": [
    "# Packages"
   ]
  },
  {
   "cell_type": "code",
   "execution_count": 3,
   "metadata": {},
   "outputs": [
    {
     "data": {
      "text/plain": [
       "0"
      ]
     },
     "execution_count": 3,
     "metadata": {},
     "output_type": "execute_result"
    }
   ],
   "source": [
    "from quocslib.optimalcontrolproblems.OneQubitProblem_2fields import OneQubit2Fields\n",
    "import time, datetime\n",
    "\n",
    "import scipy\n",
    "import numpy as np\n",
    "from scipy import linalg\n",
    "import os\n",
    "import sys\n",
    "import matplotlib.pyplot as plt\n",
    "from scipy.optimize import curve_fit\n",
    "from scipy.optimize import minimize\n",
    "import time\n",
    "import copy as cp\n",
    "from scipy import signal\n",
    "# import necessary stuff from quidi\n",
    "from logic.pulsed.pulse_objects import PulseBlock, PulseBlockEnsemble, PulseSequence\n",
    "from user_scripts.Timo.own.oc_simlib import TimeDependentSimulation, SimParameters\n",
    "\n",
    "import logging\n",
    "logging.basicConfig(filename='logfile.log', filemode='w', level=logging.DEBUG)\n",
    "logger = logging.getLogger(__name__)\n",
    "\n",
    "0"
   ]
  },
  {
   "cell_type": "markdown",
   "metadata": {},
   "source": [
    "# Library functions"
   ]
  },
  {
   "cell_type": "code",
   "execution_count": 10,
   "metadata": {},
   "outputs": [
    {
     "data": {
      "text/plain": [
       "0"
      ]
     },
     "execution_count": 10,
     "metadata": {},
     "output_type": "execute_result"
    }
   ],
   "source": [
    "\n",
    "def dict_2_header_str(in_dict):\n",
    "    out_str = \"\"\n",
    "    for key, val in in_dict.items():\n",
    "        out_str += f\"{key}: {val}\\n\"\n",
    "        \n",
    "    return out_str\n",
    "\n",
    "def get_pulse_filename(path, name=\"\", name_ampl=\"amplitude.txt\", name_phase=\"phase.txt\"):\n",
    "    return os.path.abspath(path + \"/\" + name + name_ampl), os.path.abspath(path + \"/\" + name + name_phase)\n",
    "\n",
    "def save_pulse(path, data_ampl, data_phase, name=\"\", name_ampl=\"amplitude.txt\", name_phase=\"phase.txt\"):\n",
    "    header_dict = {}\n",
    "    try:\n",
    "        now = datetime.datetime.now() # current date and time\n",
    "        header_dict['timestamp'] = now.strftime(\"%Y/%m/%d-%H:%M:%S\")\n",
    "        header_dict['script_parameters'] = script_params\n",
    "        header_dict.update(opti_comm_dict['optimization_dictionary'])\n",
    "        \n",
    "        fname_ampl, fname_phase = get_pulse_filename(path, name=name, name_ampl=name_ampl, name_phase=name_phase)\n",
    "        \n",
    "        if data_ampl is not None:\n",
    "            np.savetxt(fname_ampl,  data_ampl,  header=dict_2_header_str(header_dict))\n",
    "        if data_phase is not None:\n",
    "            np.savetxt(fname_phase, data_phase, header=dict_2_header_str(header_dict))\n",
    "    except:\n",
    "        logger.exception(\"\")\n",
    "\n",
    "        \n",
    "def save_optimization_result(path, name=\"opt_res_\", name_ampl=\"amplitude.txt\", name_phase=\"phase.txt\"):\n",
    "    try:\n",
    "        # save fom by same function as pulse\n",
    "        save_pulse(path, fom_all, None, name=name, name_ampl='fom.txt', name_phase='')\n",
    "        \n",
    "        optimizer_obj = optimizationlogic.optimization_obj\n",
    "        best_dict = optimizer_obj.opt_alg_obj.get_best_controls()\n",
    "        \n",
    "        pulses_list = best_dict['pulses']\n",
    "        time_grids_list = best_dict['timegrids']\n",
    "        parameters_list = best_dict['parameters']\n",
    "        \n",
    "        t_amplitude = time_grids_list[0]\n",
    "        amplitude = pulses_list[0]\n",
    "        t_phase = time_grids_list[1]\n",
    "        phase = pulses_list[1]\n",
    "\n",
    "        data_ampl = np.column_stack((t_amplitude, amplitude))\n",
    "        data_phase = np.column_stack((t_phase, phase))\n",
    "        fom = np.column_stack((range(len(fom_all)), fom_all))\n",
    "\n",
    "        save_pulse(path, data_ampl, data_phase, name=name, name_ampl=name_ampl, name_phase=name_phase)\n",
    "\n",
    "    except:\n",
    "        logger.exception(\"\")\n",
    "        \n",
    "#save_pulse(folder_path, np.asarray([1,2]), np.asarray(1))\n",
    "#get_pulse_filename(folder_path, name=filename)\n",
    "0"
   ]
  },
  {
   "cell_type": "markdown",
   "metadata": {},
   "source": [
    "# QuOCS and Qudi with Noise"
   ]
  },
  {
   "cell_type": "markdown",
   "metadata": {},
   "source": [
    "## Creation of the optimization dictionary"
   ]
  },
  {
   "cell_type": "markdown",
   "metadata": {},
   "source": [
    "The optimization dictionary contains all the settings compulsory for the optimization algorithm in order to run a proper optimization."
   ]
  },
  {
   "cell_type": "code",
   "execution_count": 17,
   "metadata": {},
   "outputs": [],
   "source": [
    "optimization_client_name = \"test_dCRAB_Noisy_2_control_fields\"\n",
    "\n",
    "optimization_dictionary = {\"optimization_client_name\": optimization_client_name,\n",
    "                           'opti_algorithm_module': 'quocslib.optimalalgorithms.dCRABNoisyAlgorithm', \n",
    "                           'opti_algorithm_class': 'DCrabNoisyAlgorithm', \n",
    "                          }"
   ]
  },
  {
   "cell_type": "markdown",
   "metadata": {},
   "source": [
    "Number of iteration and super-iterations"
   ]
  },
  {
   "cell_type": "code",
   "execution_count": 24,
   "metadata": {},
   "outputs": [],
   "source": [
    "# Total number of dCRAB superiteration\n",
    "super_iteration_number = 10000000\n",
    "# Maximum number of iteration per super-iteration (in max_eval_total: maximale anzahl von evaluation steps gesamt)\n",
    "maximum_function_evaluations_number = 500"
   ]
  },
  {
   "cell_type": "markdown",
   "metadata": {},
   "source": [
    "To activate the drift compensation and the re-evaluation steps add"
   ]
  },
  {
   "cell_type": "code",
   "execution_count": 31,
   "metadata": {},
   "outputs": [
    {
     "data": {
      "text/plain": [
       "{'algorithm_name': 'dCRAB', 'super_iteration_number': 10000000, 'FoM_goal': 1e-05, 'total_time_lim': 2880, 'compensate_drift': {'compensate_after_SI': True, 'compensate_after_minutes': 15}, 'random_number_generator': {'seed_number': 420}}"
      ]
     },
     "execution_count": 31,
     "metadata": {},
     "output_type": "execute_result"
    }
   ],
   "source": [
    "optimization_dictionary['algorithm_settings'] = {\"algorithm_name\": \"dCRAB\",\n",
    "                                                 \"super_iteration_number\": super_iteration_number,\n",
    "                                                 #\"max_eval_total\": super_iteration_number * maximum_function_evaluations_number,\n",
    "                                                 \"FoM_goal\": 0.00001,\n",
    "                                                 \"total_time_lim\": 48*60,  # minutes\n",
    "                                                 \"compensate_drift\": {\n",
    "                                                     \"compensate_after_SI\": True,\n",
    "                                                     \"compensate_after_minutes\": 15\n",
    "                                                 },\n",
    "                                                 \"random_number_generator\":{\n",
    "                                                     \"seed_number\":420   # todo: really fix a seed here?\n",
    "                                                 },\n",
    "                                                 #\"re_evaluation\": {\n",
    "                                                     #\"re_evaluation_steps\": [0.3, 0.5, 0.51]\n",
    "                                                 #}\n",
    "}\n",
    "optimization_dictionary['algorithm_settings'] "
   ]
  },
  {
   "cell_type": "markdown",
   "metadata": {},
   "source": [
    "Settings for the inner algorithm used by dCRAB"
   ]
  },
  {
   "cell_type": "code",
   "execution_count": 38,
   "metadata": {},
   "outputs": [
    {
     "data": {
      "text/plain": [
       "{'algorithm_name': 'dCRAB', 'super_iteration_number': 10000000, 'FoM_goal': 1e-05, 'total_time_lim': 2880, 'compensate_drift': {'compensate_after_SI': True, 'compensate_after_minutes': 15}, 'random_number_generator': {'seed_number': 420}, 'dsm_settings': {'general_settings': {'dsm_algorithm_name': 'NelderMead', 'is_adaptive': False}, 'stopping_criteria': {'time_lim': 90, 'change_based_stop': {'cbs_funct_evals': 500, 'cbs_change': 0.01}}}}"
      ]
     },
     "execution_count": 38,
     "metadata": {},
     "output_type": "execute_result"
    }
   ],
   "source": [
    "optimization_dictionary['algorithm_settings'][\"dsm_settings\"] = {'general_settings': {\n",
    "                                                \"dsm_algorithm_name\": \"NelderMead\", \n",
    "                                                'is_adaptive': False\n",
    "                                            }, \n",
    "                                            'stopping_criteria': {\n",
    "                                                #\"max_eval\": 100,\n",
    "                                                \"time_lim\": 90,  #min\n",
    "                                                #\"xatol\": 1e-10, \n",
    "                                                #\"frtol\": 1e-10,\n",
    "                                                \"change_based_stop\": {\n",
    "                                                    \"cbs_funct_evals\": 500, \n",
    "                                                    \"cbs_change\": 0.01    # stop if slope below\n",
    "                                                }\n",
    "                                            }\n",
    "}\n",
    "optimization_dictionary['algorithm_settings']"
   ]
  },
  {
   "cell_type": "markdown",
   "metadata": {},
   "source": [
    "### Times"
   ]
  },
  {
   "cell_type": "code",
   "execution_count": 45,
   "metadata": {},
   "outputs": [
    {
     "data": {
      "text/plain": [
       "(0.06, 4.0)"
      ]
     },
     "execution_count": 45,
     "metadata": {},
     "output_type": "execute_result"
    }
   ],
   "source": [
    "t_rabi_rect = 80e-9  \n",
    "pix_pulse = 1\n",
    "t_oc_pulse = 160e-9 \n",
    "fac_oc_guess = 1.0 # make initial guess not too good, otherwise hard for optimizer\n",
    "\n",
    "ampl_max = 0.25  # V\n",
    "ampl_rect = 0.24  # V # todo: double check that (V) and not normed from 0 to 1\n",
    "\n",
    "\n",
    "fac_oc_rect = t_oc_pulse/(0.5*t_rabi_rect/pix_pulse)\n",
    "if fac_oc_rect  < 3:\n",
    "    logger.warning(f\"OC pulse should be >3x as long as rect, now: {t_oc_pulse/(0.5*t_rabi_rect/pix_pulse)}\")\n",
    "\n",
    "time_p = {'time_name': 'time_p', 'initial_value': t_oc_pulse} # pulse length\n",
    "optimization_dictionary['times'] = [time_p]\n",
    "ampl_oc_guess = fac_oc_guess*1/fac_oc_rect*ampl_rect\n",
    "\n",
    "ampl_oc_guess, fac_oc_rect"
   ]
  },
  {
   "cell_type": "markdown",
   "metadata": {},
   "source": [
    "### Parameters"
   ]
  },
  {
   "cell_type": "code",
   "execution_count": 52,
   "metadata": {},
   "outputs": [],
   "source": [
    "optimization_dictionary['parameters'] = []"
   ]
  },
  {
   "cell_type": "code",
   "execution_count": 59,
   "metadata": {},
   "outputs": [
    {
     "data": {
      "text/plain": [
       "[{'time_name': 'time_p', 'initial_value': 1.6e-07}]"
      ]
     },
     "execution_count": 59,
     "metadata": {},
     "output_type": "execute_result"
    }
   ],
   "source": [
    "optimization_dictionary['times']"
   ]
  },
  {
   "cell_type": "markdown",
   "metadata": {},
   "source": [
    "### Pulses"
   ]
  },
  {
   "cell_type": "code",
   "execution_count": 66,
   "metadata": {},
   "outputs": [
    {
     "data": {
      "text/plain": [
       "{'name': 'opt_pulse_', 'folder': 'C:\\\\Software\\\\qudi_data\\\\optimal_control_assets\\\\20220724_1', 'file_ampl': 'C:\\\\Software\\\\qudi_data\\\\optimal_control_assets\\\\20220724_1\\\\opt_pulse_amplitude.txt', 'file_phase': 'C:\\\\Software\\\\qudi_data\\\\optimal_control_assets\\\\20220724_1\\\\opt_pulse_phase.txt', 'timegrid_ampl': array([0.00e+00, 1.00e-04, 2.00e-04, ..., 9.98e-02, 9.99e-02, 1.00e-01]), 'data_ampl': array([20.        , 20.        , 20.        , ..., 12.28045217,\n",
       "       12.33022517, 12.35725828]), 'timegrid_phase': array([0.00e+00, 1.00e-04, 2.00e-04, ..., 9.98e-02, 9.99e-02, 1.00e-01]), 'data_phase': array([11.82636683, 12.12780232, 12.42113517, ...,  7.72896679,\n",
       "        7.9971553 ,  8.25188904]), 'timegrid_unit': 'us', 'data_unit': 'MHz'}"
      ]
     },
     "execution_count": 66,
     "metadata": {},
     "output_type": "execute_result"
    }
   ],
   "source": [
    "pulse"
   ]
  },
  {
   "cell_type": "markdown",
   "metadata": {},
   "source": [
    "#### Load initial guess from extern\n",
    "... or assume slow rect pulse."
   ]
  },
  {
   "cell_type": "code",
   "execution_count": 87,
   "metadata": {},
   "outputs": [
    {
     "data": {
      "text/plain": [
       "1e-07"
      ]
     },
     "execution_count": 87,
     "metadata": {},
     "output_type": "execute_result"
    }
   ],
   "source": [
    "timegrid_ampl[-1]"
   ]
  },
  {
   "cell_type": "code",
   "execution_count": 94,
   "metadata": {},
   "outputs": [
    {
     "data": {
      "text/plain": [
       "'list_function'"
      ]
     },
     "execution_count": 94,
     "metadata": {},
     "output_type": "execute_result"
    }
   ],
   "source": [
    "#folder = r\"C:\\Software\\qudi_data\\optimal_control_assets\"\n",
    "folder = r\"C:\\Software\\qudi_data\\optimal_control_assets\\20220724_1\"\n",
    "fname = r\"on_nv=2_\"\n",
    "fname = r\"opt_pulse_\"\n",
    "n_bins_init_guess = 1001\n",
    "\n",
    "if fname:\n",
    "    try:\n",
    "        pulse = TimeDependentSimulation.load_pulse(folder, fname)\n",
    "        timegrid_ampl = pulse['timegrid_ampl']\n",
    "        if n_bins_init_guess != len(timegrid_ampl) or optimization_dictionary['times'][0]['initial_value'] != timegrid_ampl[-1]:\n",
    "            raise NotImplemented(\"Timegrid of loaded init pulse doesn't match settings. Consider implementing interpolation!\")\n",
    "    except:\n",
    "        logger.exception(\"\")\n",
    "    initial_guess_ampl = {'function_type': 'list_function', 'list_function': pulse['data_ampl']}\n",
    "    initial_guess_phase = {'function_type': 'list_function', 'list_function': pulse['data_phase']}\n",
    "else:\n",
    "    initial_guess_ampl = {'function_type': 'lambda_function', 'lambda_function': f'lambda t: {ampl_oc_guess} + 0.0*t'}\n",
    "    initial_guess_phase = {'function_type': 'lambda_function', 'lambda_function': f'lambda t: {ampl_oc_guess} + 0.0*t'}\n",
    "    \n",
    "initial_guess_ampl['function_type']"
   ]
  },
  {
   "cell_type": "code",
   "execution_count": 101,
   "metadata": {},
   "outputs": [
    {
     "data": {
      "text/plain": [
       "0.06"
      ]
     },
     "execution_count": 101,
     "metadata": {},
     "output_type": "execute_result"
    }
   ],
   "source": [
    "vec_number = 2   #2-3\n",
    "upper_freq_lim = 10  #8\n",
    "\n",
    "\n",
    "    \n",
    "pulse_amplitude = {'pulse_name': 'Amplitude', \n",
    "                           'upper_limit':ampl_max, \n",
    "                           'lower_limit': -ampl_max, \n",
    "                           'bins_number': n_bins_init_guess, \n",
    "                           'time_name': 'time_p', \n",
    "                           'amplitude_variation': 0.5*ampl_oc_guess, # added to guess amp, to create 3 points for start simplex\n",
    "                           'basis': {'basis_name': 'Fourier', \n",
    "                                     'basis_class': 'Fourier', \n",
    "                                     'basis_module': 'quocslib.pulses.basis.Fourier', \n",
    "                                     'basis_vector_number': vec_number, # number of frequencies within the below defined range\n",
    "                                     'random_super_parameter_distribution': \n",
    "                                     {'distribution_name': 'Uniform', 'distribution_class': 'Uniform', \n",
    "                                           'distribution_module': 'quocslib.pulses.superparameter.Uniform', \n",
    "                                           'lower_limit': 0.0, 'upper_limit': upper_freq_lim} # number of oscillations within pulse\n",
    "                                    }, \n",
    "                           'scaling_function': {'function_type': 'lambda_function', 'lambda_function': 'lambda t: 1.0 + 0.0*t'}, \n",
    "                           'initial_guess': initial_guess_ampl,\n",
    "                           'shrink_ampl_lim': True\n",
    "                          }\n",
    "\n",
    "pulse_phase = {'pulse_name': 'Phase', \n",
    "               'upper_limit': ampl_max, \n",
    "               'lower_limit': -ampl_max, \n",
    "               'bins_number': n_bins_init_guess, \n",
    "               'time_name': 'time_p', \n",
    "               'amplitude_variation': 0.5*ampl_oc_guess, # added to guess amp, to create 3 points for start simplex\n",
    "               'basis': {'basis_name': 'Fourier', \n",
    "                         'basis_class': 'Fourier', \n",
    "                         'basis_module': 'quocslib.pulses.basis.Fourier', \n",
    "                         'basis_vector_number': vec_number, # number of frequencies within the below defined range\n",
    "                         'random_super_parameter_distribution': \n",
    "                         {'distribution_name': 'Uniform', 'distribution_class': 'Uniform', \n",
    "                               'distribution_module': 'quocslib.pulses.superparameter.Uniform', \n",
    "                               'lower_limit': 0.0, 'upper_limit': upper_freq_lim} # number of oscillations within pulse\n",
    "                        }, \n",
    "               'scaling_function': {'function_type': 'lambda_function', 'lambda_function': 'lambda t: 1.0 + 0.0*t'}, \n",
    "               'initial_guess': initial_guess_phase,\n",
    "               'shrink_ampl_lim': True\n",
    "              }\n",
    "\n",
    "optimization_dictionary['pulses'] = [pulse_amplitude, pulse_phase]\n",
    "\n",
    "ampl_oc_guess"
   ]
  },
  {
   "cell_type": "code",
   "execution_count": 108,
   "metadata": {},
   "outputs": [
    {
     "data": {
      "text/plain": [
       "[{'pulse_name': 'Amplitude', 'upper_limit': 0.25, 'lower_limit': -0.25, 'bins_number': 1001, 'time_name': 'time_p', 'amplitude_variation': 0.03, 'basis': {'basis_name': 'Fourier', 'basis_class': 'Fourier', 'basis_module': 'quocslib.pulses.basis.Fourier', 'basis_vector_number': 2, 'random_super_parameter_distribution': {'distribution_name': 'Uniform', 'distribution_class': 'Uniform', 'distribution_module': 'quocslib.pulses.superparameter.Uniform', 'lower_limit': 0.0, 'upper_limit': 10}}, 'scaling_function': {'function_type': 'lambda_function', 'lambda_function': 'lambda t: 1.0 + 0.0*t'}, 'initial_guess': {'function_type': 'list_function', 'list_function': array([0.25      , 0.25      , 0.25      , ..., 0.15350565, 0.15412781,\n",
       "       0.15446573])}, 'shrink_ampl_lim': True}, {'pulse_name': 'Phase', 'upper_limit': 0.25, 'lower_limit': -0.25, 'bins_number': 1001, 'time_name': 'time_p', 'amplitude_variation': 0.03, 'basis': {'basis_name': 'Fourier', 'basis_class': 'Fourier', 'basis_module': 'quocslib.pulses.basis.Fourier', 'basis_vector_number': 2, 'random_super_parameter_distribution': {'distribution_name': 'Uniform', 'distribution_class': 'Uniform', 'distribution_module': 'quocslib.pulses.superparameter.Uniform', 'lower_limit': 0.0, 'upper_limit': 10}}, 'scaling_function': {'function_type': 'lambda_function', 'lambda_function': 'lambda t: 1.0 + 0.0*t'}, 'initial_guess': {'function_type': 'list_function', 'list_function': array([0.14782959, 0.15159753, 0.15526419, ..., 0.09661208, 0.09996444,\n",
       "       0.10314861])}, 'shrink_ampl_lim': True}]"
      ]
     },
     "execution_count": 108,
     "metadata": {},
     "output_type": "execute_result"
    }
   ],
   "source": [
    "\n",
    "optimization_dictionary['pulses'] "
   ]
  },
  {
   "cell_type": "markdown",
   "metadata": {},
   "source": [
    "### Init & Transfer to Qudi-QuOCS"
   ]
  },
  {
   "cell_type": "code",
   "execution_count": 115,
   "metadata": {},
   "outputs": [],
   "source": [
    "opti_comm_dict = {\"optimization_dictionary\": optimization_dictionary}\n",
    "optimizationlogic.load_opti_comm_dict(opti_comm_dict)"
   ]
  },
  {
   "cell_type": "markdown",
   "metadata": {},
   "source": [
    "Press \"Start\" in the gui and see whether errors are logged."
   ]
  },
  {
   "cell_type": "markdown",
   "metadata": {},
   "source": [
    "Print the optimization dictionary also here. If the GUI is not showing the optimization dictionary, restart the Kernel."
   ]
  },
  {
   "cell_type": "code",
   "execution_count": 122,
   "metadata": {},
   "outputs": [
    {
     "data": {
      "text/plain": [
       "{'optimization_dictionary': {'optimization_client_name': 'test_dCRAB_Noisy_2_control_fields', 'opti_algorithm_module': 'quocslib.optimalalgorithms.dCRABNoisyAlgorithm', 'opti_algorithm_class': 'DCrabNoisyAlgorithm', 'algorithm_settings': {'algorithm_name': 'dCRAB', 'super_iteration_number': 10000000, 'FoM_goal': 1e-05, 'total_time_lim': 2880, 'compensate_drift': {'compensate_after_SI': True, 'compensate_after_minutes': 15}, 'random_number_generator': {'seed_number': 420}, 'dsm_settings': {'general_settings': {'dsm_algorithm_name': 'NelderMead', 'is_adaptive': False}, 'stopping_criteria': {'time_lim': 90, 'change_based_stop': {'cbs_funct_evals': 500, 'cbs_change': 0.01}}}}, 'times': [{'time_name': 'time_p', 'initial_value': 1.6e-07}], 'parameters': [], 'pulses': [{'pulse_name': 'Amplitude', 'upper_limit': 0.25, 'lower_limit': -0.25, 'bins_number': 1001, 'time_name': 'time_p', 'amplitude_variation': 0.03, 'basis': {'basis_name': 'Fourier', 'basis_class': 'Fourier', 'basis_module': 'quocslib.pulses.basis.Fourier', 'basis_vector_number': 2, 'random_super_parameter_distribution': {'distribution_name': 'Uniform', 'distribution_class': 'Uniform', 'distribution_module': 'quocslib.pulses.superparameter.Uniform', 'lower_limit': 0.0, 'upper_limit': 10}}, 'scaling_function': {'function_type': 'lambda_function', 'lambda_function': 'lambda t: 1.0 + 0.0*t'}, 'initial_guess': {'function_type': 'list_function', 'list_function': array([0.25      , 0.25      , 0.25      , ..., 0.15350565, 0.15412781,\n",
       "       0.15446573])}, 'shrink_ampl_lim': True}, {'pulse_name': 'Phase', 'upper_limit': 0.25, 'lower_limit': -0.25, 'bins_number': 1001, 'time_name': 'time_p', 'amplitude_variation': 0.03, 'basis': {'basis_name': 'Fourier', 'basis_class': 'Fourier', 'basis_module': 'quocslib.pulses.basis.Fourier', 'basis_vector_number': 2, 'random_super_parameter_distribution': {'distribution_name': 'Uniform', 'distribution_class': 'Uniform', 'distribution_module': 'quocslib.pulses.superparameter.Uniform', 'lower_limit': 0.0, 'upper_limit': 10}}, 'scaling_function': {'function_type': 'lambda_function', 'lambda_function': 'lambda t: 1.0 + 0.0*t'}, 'initial_guess': {'function_type': 'list_function', 'list_function': array([0.14782959, 0.15159753, 0.15526419, ..., 0.09661208, 0.09996444,\n",
       "       0.10314861])}, 'shrink_ampl_lim': True}]}}"
      ]
     },
     "execution_count": 122,
     "metadata": {},
     "output_type": "execute_result"
    }
   ],
   "source": [
    "optimalcontrol.opti_comm_dict"
   ]
  },
  {
   "cell_type": "markdown",
   "metadata": {},
   "source": [
    "# Measurement"
   ]
  },
  {
   "cell_type": "markdown",
   "metadata": {},
   "source": [
    "Run a normal rect Rabi with all analysis and MW generation parameters before. Then run with commented out the dicts below in order to keep all the respective pulsed settings."
   ]
  },
  {
   "cell_type": "code",
   "execution_count": 129,
   "metadata": {},
   "outputs": [],
   "source": [
    "script_params = {}\n",
    "script_params['runtime_per_epoch'] = 40  # s\n",
    "script_params['readout_noise'] = np.sqrt(2)*0.01  # std_dev of fom, controls convergence in iteration\n",
    "# needs to be smaller than the actual pulse length time_p due to the interpolation\n",
    "script_params['length_oc'] = t_oc_pulse - 1e-9\n",
    "script_params['is_noisy'] = True\n",
    "\n",
    "# file paths \n",
    "folder_path = r'C:\\Software\\qudi_data\\optimal_control_assets'\n",
    "filename= \"on_nv=2_\""
   ]
  },
  {
   "cell_type": "markdown",
   "metadata": {},
   "source": [
    "## Set measurement sequence and fom"
   ]
  },
  {
   "cell_type": "code",
   "execution_count": 206,
   "metadata": {
    "scrolled": true
   },
   "outputs": [
    {
     "name": "stdout",
     "output_type": "stream",
     "text": [
      "[{\"varName\": \"awg8190\", \"varType\": \"AWGM8190A\", \"varSize\": \"144\", \"varShape\": \"\", \"varContent\": \"<hardware.awg.keysight_m819x.AWGM8190A object at 0x000000ABD8C25828>\"}, {\"varName\": \"config\", \"varType\": \"OrderedDict\", \"varSize\": \"464\", \"varShape\": \"\", \"varContent\": \"OrderedDict([('hardware', OrderedDict([('dummysmiq', OrderedDict([('module.Class', 'microwave.mw_source_dummy.MicrowaveDummy'), ('gpib_address', 'dummy'), ('gpib_timeout', 20), ('mock', True)])), ('sm\"}, {\"varName\": \"confocalgui\", \"varType\": \"ConfocalGui\", \"varSize\": \"144\", \"varShape\": \"\", \"varContent\": \"<gui.confocal.confocalgui.ConfocalGui object at 0x000000ABE22BF8B8>\"}, {\"varName\": \"controlslogic\", \"varType\": \"WorkerControls\", \"varSize\": \"144\", \"varShape\": \"\", \"varContent\": \"<logic.optimalcontrol.worker_controls.WorkerControls object at 0x000000ABFC26A9D8>\"}, {\"varName\": \"countergui\", \"varType\": \"CounterGui\", \"varSize\": \"144\", \"varShape\": \"\", \"varContent\": \"<gui.counter.countergui.CounterGui object at 0x000000ABDCBFD5E8>\"}, {\"varName\": \"counterlogic\", \"varType\": \"CounterLogic\", \"varSize\": \"144\", \"varShape\": \"\", \"varContent\": \"<logic.counter_logic.CounterLogic object at 0x000000ABDCBEC5E8>\"}, {\"varName\": \"dummysmiq\", \"varType\": \"MicrowaveDummy\", \"varSize\": \"144\", \"varShape\": \"\", \"varContent\": \"<hardware.microwave.mw_source_dummy.MicrowaveDummy object at 0x000000ABE3E99048>\"}, {\"varName\": \"fitlogic\", \"varType\": \"FitLogic\", \"varSize\": \"144\", \"varShape\": \"\", \"varContent\": \"<logic.fit_logic.FitLogic object at 0x000000ABE1EE75E8>\"}, {\"varName\": \"fomlogic\", \"varType\": \"WorkerFom\", \"varSize\": \"144\", \"varShape\": \"\", \"varContent\": \"<logic.optimalcontrol.worker_fom.WorkerFom object at 0x000000ABF01F63A8>\"}, {\"varName\": \"kernellogic\", \"varType\": \"QudiKernelLogic\", \"varSize\": \"144\", \"varShape\": \"\", \"varContent\": \"<logic.jupyterkernel.kernellogic.QudiKernelLogic object at 0x000000ABD1D1D288>\"}, {\"varName\": \"manager\", \"varType\": \"Manager\", \"varSize\": \"144\", \"varShape\": \"\", \"varContent\": \"<core.manager.Manager object at 0x000000ABD25AA708>\"}, {\"varName\": \"mangui\", \"varType\": \"ManagerGui\", \"varSize\": \"144\", \"varShape\": \"\", \"varContent\": \"<gui.manager.managergui.ManagerGui object at 0x000000ABD43D5B88>\"}, {\"varName\": \"myfastcounter\", \"varType\": \"FastComtec\", \"varSize\": \"144\", \"varShape\": \"\", \"varContent\": \"<hardware.fastcomtec.fastcomtecmcs6.FastComtec object at 0x000000ABD46545E8>\"}, {\"varName\": \"nicard\", \"varType\": \"NationalInstrumentsXSeries\", \"varSize\": \"144\", \"varShape\": \"\", \"varContent\": \"<hardware.national_instruments_x_series.NationalInstrumentsXSeries object at 0x000000ABD580DAF8>\"}, {\"varName\": \"optimalcontrol\", \"varType\": \"OptimizationGUI\", \"varSize\": \"144\", \"varShape\": \"\", \"varContent\": \"<gui.optimalcontrol.OptimizationGUI.OptimizationGUI object at 0x000000ABFFA5C798>\"}, {\"varName\": \"optimizationlogic\", \"varType\": \"OptimizationLogic\", \"varSize\": \"144\", \"varShape\": \"\", \"varContent\": \"<logic.optimalcontrol.OptimizationLogic.OptimizationLogic object at 0x000000ABFFA5C318>\"}, {\"varName\": \"optimizerlogic\", \"varType\": \"OptimizerLogic\", \"varSize\": \"144\", \"varShape\": \"\", \"varContent\": \"<logic.optimizer_logic.OptimizerLogic object at 0x000000ABE2289798>\"}, {\"varName\": \"pulsedmasterlogic\", \"varType\": \"PulsedMasterLogic\", \"varSize\": \"144\", \"varShape\": \"\", \"varContent\": \"<logic.pulsed.pulsed_master_logic.PulsedMasterLogic object at 0x000000ABFC6E6318>\"}, {\"varName\": \"pulsedmeasurementgui\", \"varType\": \"PulsedMeasurementGui\", \"varSize\": \"144\", \"varShape\": \"\", \"varContent\": \"<gui.pulsed.pulsed_maingui.PulsedMeasurementGui object at 0x000000ABFC5494C8>\"}, {\"varName\": \"pulsedmeasurementlogic\", \"varType\": \"PulsedMeasurementLogic\", \"varSize\": \"144\", \"varShape\": \"\", \"varContent\": \"<logic.pulsed.pulsed_measurement_logic.PulsedMeasurementLogic object at 0x000000ABE2A6C948>\"}, {\"varName\": \"savelogic\", \"varType\": \"SaveLogic\", \"varSize\": \"144\", \"varShape\": \"\", \"varContent\": \"<logic.save_logic.SaveLogic object at 0x000000ABDCBA0708>\"}, {\"varName\": \"scanner_tilt_interfuse\", \"varType\": \"ScannerTiltInterfuse\", \"varSize\": \"144\", \"varShape\": \"\", \"varContent\": \"<logic.interfuse.scanner_tilt_interfuse.ScannerTiltInterfuse object at 0x000000ABDAFFB798>\"}, {\"varName\": \"scannerlogic\", \"varType\": \"ConfocalLogic\", \"varSize\": \"144\", \"varShape\": \"\", \"varContent\": \"<logic.confocal_logic.ConfocalLogic object at 0x000000ABD1D18E58>\"}, {\"varName\": \"sequencegeneratorlogic\", \"varType\": \"SequenceGeneratorLogic\", \"varSize\": \"144\", \"varShape\": \"\", \"varContent\": \"<logic.pulsed.sequence_generator_logic.SequenceGeneratorLogic object at 0x000000ABE3E6B4C8>\"}, {\"varName\": \"tasklogic\", \"varType\": \"TaskRunner\", \"varSize\": \"144\", \"varShape\": \"\", \"varContent\": \"<logic.taskrunner.TaskRunner object at 0x000000ABDB011C18>\"}, {\"varName\": \"traygui\", \"varType\": \"TrayIcon\", \"varSize\": \"144\", \"varShape\": \"\", \"varContent\": \"<gui.trayicon.TrayIcon object at 0x000000ABDB018F78>\"}]\n",
      "[{\"varName\": \"awg8190\", \"varType\": \"AWGM8190A\", \"varSize\": \"144\", \"varShape\": \"\", \"varContent\": \"<hardware.awg.keysight_m819x.AWGM8190A object at 0x000000ABD8C25828>\"}, {\"varName\": \"config\", \"varType\": \"OrderedDict\", \"varSize\": \"464\", \"varShape\": \"\", \"varContent\": \"OrderedDict([('hardware', OrderedDict([('dummysmiq', OrderedDict([('module.Class', 'microwave.mw_source_dummy.MicrowaveDummy'), ('gpib_address', 'dummy'), ('gpib_timeout', 20), ('mock', True)])), ('sm\"}, {\"varName\": \"confocalgui\", \"varType\": \"ConfocalGui\", \"varSize\": \"144\", \"varShape\": \"\", \"varContent\": \"<gui.confocal.confocalgui.ConfocalGui object at 0x000000ABE22BF8B8>\"}, {\"varName\": \"controlslogic\", \"varType\": \"WorkerControls\", \"varSize\": \"144\", \"varShape\": \"\", \"varContent\": \"<logic.optimalcontrol.worker_controls.WorkerControls object at 0x000000ABFC26A9D8>\"}, {\"varName\": \"countergui\", \"varType\": \"CounterGui\", \"varSize\": \"144\", \"varShape\": \"\", \"varContent\": \"<gui.counter.countergui.CounterGui object at 0x000000ABDCBFD5E8>\"}, {\"varName\": \"counterlogic\", \"varType\": \"CounterLogic\", \"varSize\": \"144\", \"varShape\": \"\", \"varContent\": \"<logic.counter_logic.CounterLogic object at 0x000000ABDCBEC5E8>\"}, {\"varName\": \"dummysmiq\", \"varType\": \"MicrowaveDummy\", \"varSize\": \"144\", \"varShape\": \"\", \"varContent\": \"<hardware.microwave.mw_source_dummy.MicrowaveDummy object at 0x000000ABE3E99048>\"}, {\"varName\": \"fitlogic\", \"varType\": \"FitLogic\", \"varSize\": \"144\", \"varShape\": \"\", \"varContent\": \"<logic.fit_logic.FitLogic object at 0x000000ABE1EE75E8>\"}, {\"varName\": \"fomlogic\", \"varType\": \"WorkerFom\", \"varSize\": \"144\", \"varShape\": \"\", \"varContent\": \"<logic.optimalcontrol.worker_fom.WorkerFom object at 0x000000ABF01F63A8>\"}, {\"varName\": \"kernellogic\", \"varType\": \"QudiKernelLogic\", \"varSize\": \"144\", \"varShape\": \"\", \"varContent\": \"<logic.jupyterkernel.kernellogic.QudiKernelLogic object at 0x000000ABD1D1D288>\"}, {\"varName\": \"manager\", \"varType\": \"Manager\", \"varSize\": \"144\", \"varShape\": \"\", \"varContent\": \"<core.manager.Manager object at 0x000000ABD25AA708>\"}, {\"varName\": \"mangui\", \"varType\": \"ManagerGui\", \"varSize\": \"144\", \"varShape\": \"\", \"varContent\": \"<gui.manager.managergui.ManagerGui object at 0x000000ABD43D5B88>\"}, {\"varName\": \"myfastcounter\", \"varType\": \"FastComtec\", \"varSize\": \"144\", \"varShape\": \"\", \"varContent\": \"<hardware.fastcomtec.fastcomtecmcs6.FastComtec object at 0x000000ABD46545E8>\"}, {\"varName\": \"nicard\", \"varType\": \"NationalInstrumentsXSeries\", \"varSize\": \"144\", \"varShape\": \"\", \"varContent\": \"<hardware.national_instruments_x_series.NationalInstrumentsXSeries object at 0x000000ABD580DAF8>\"}, {\"varName\": \"optimalcontrol\", \"varType\": \"OptimizationGUI\", \"varSize\": \"144\", \"varShape\": \"\", \"varContent\": \"<gui.optimalcontrol.OptimizationGUI.OptimizationGUI object at 0x000000ABFFA5C798>\"}, {\"varName\": \"optimizationlogic\", \"varType\": \"OptimizationLogic\", \"varSize\": \"144\", \"varShape\": \"\", \"varContent\": \"<logic.optimalcontrol.OptimizationLogic.OptimizationLogic object at 0x000000ABFFA5C318>\"}, {\"varName\": \"optimizerlogic\", \"varType\": \"OptimizerLogic\", \"varSize\": \"144\", \"varShape\": \"\", \"varContent\": \"<logic.optimizer_logic.OptimizerLogic object at 0x000000ABE2289798>\"}, {\"varName\": \"pulsedmasterlogic\", \"varType\": \"PulsedMasterLogic\", \"varSize\": \"144\", \"varShape\": \"\", \"varContent\": \"<logic.pulsed.pulsed_master_logic.PulsedMasterLogic object at 0x000000ABFC6E6318>\"}, {\"varName\": \"pulsedmeasurementgui\", \"varType\": \"PulsedMeasurementGui\", \"varSize\": \"144\", \"varShape\": \"\", \"varContent\": \"<gui.pulsed.pulsed_maingui.PulsedMeasurementGui object at 0x000000ABFC5494C8>\"}, {\"varName\": \"pulsedmeasurementlogic\", \"varType\": \"PulsedMeasurementLogic\", \"varSize\": \"144\", \"varShape\": \"\", \"varContent\": \"<logic.pulsed.pulsed_measurement_logic.PulsedMeasurementLogic object at 0x000000ABE2A6C948>\"}, {\"varName\": \"savelogic\", \"varType\": \"SaveLogic\", \"varSize\": \"144\", \"varShape\": \"\", \"varContent\": \"<logic.save_logic.SaveLogic object at 0x000000ABDCBA0708>\"}, {\"varName\": \"scanner_tilt_interfuse\", \"varType\": \"ScannerTiltInterfuse\", \"varSize\": \"144\", \"varShape\": \"\", \"varContent\": \"<logic.interfuse.scanner_tilt_interfuse.ScannerTiltInterfuse object at 0x000000ABDAFFB798>\"}, {\"varName\": \"scannerlogic\", \"varType\": \"ConfocalLogic\", \"varSize\": \"144\", \"varShape\": \"\", \"varContent\": \"<logic.confocal_logic.ConfocalLogic object at 0x000000ABD1D18E58>\"}, {\"varName\": \"sequencegeneratorlogic\", \"varType\": \"SequenceGeneratorLogic\", \"varSize\": \"144\", \"varShape\": \"\", \"varContent\": \"<logic.pulsed.sequence_generator_logic.SequenceGeneratorLogic object at 0x000000ABE3E6B4C8>\"}, {\"varName\": \"tasklogic\", \"varType\": \"TaskRunner\", \"varSize\": \"144\", \"varShape\": \"\", \"varContent\": \"<logic.taskrunner.TaskRunner object at 0x000000ABDB011C18>\"}, {\"varName\": \"traygui\", \"varType\": \"TrayIcon\", \"varSize\": \"144\", \"varShape\": \"\", \"varContent\": \"<gui.trayicon.TrayIcon object at 0x000000ABDB018F78>\"}]\n",
      "[{\"varName\": \"awg8190\", \"varType\": \"AWGM8190A\", \"varSize\": \"144\", \"varShape\": \"\", \"varContent\": \"<hardware.awg.keysight_m819x.AWGM8190A object at 0x000000ABD8C25828>\"}, {\"varName\": \"config\", \"varType\": \"OrderedDict\", \"varSize\": \"464\", \"varShape\": \"\", \"varContent\": \"OrderedDict([('hardware', OrderedDict([('dummysmiq', OrderedDict([('module.Class', 'microwave.mw_source_dummy.MicrowaveDummy'), ('gpib_address', 'dummy'), ('gpib_timeout', 20), ('mock', True)])), ('sm\"}, {\"varName\": \"confocalgui\", \"varType\": \"ConfocalGui\", \"varSize\": \"144\", \"varShape\": \"\", \"varContent\": \"<gui.confocal.confocalgui.ConfocalGui object at 0x000000ABE22BF8B8>\"}, {\"varName\": \"controlslogic\", \"varType\": \"WorkerControls\", \"varSize\": \"144\", \"varShape\": \"\", \"varContent\": \"<logic.optimalcontrol.worker_controls.WorkerControls object at 0x000000ABFC26A9D8>\"}, {\"varName\": \"countergui\", \"varType\": \"CounterGui\", \"varSize\": \"144\", \"varShape\": \"\", \"varContent\": \"<gui.counter.countergui.CounterGui object at 0x000000ABDCBFD5E8>\"}, {\"varName\": \"counterlogic\", \"varType\": \"CounterLogic\", \"varSize\": \"144\", \"varShape\": \"\", \"varContent\": \"<logic.counter_logic.CounterLogic object at 0x000000ABDCBEC5E8>\"}, {\"varName\": \"dummysmiq\", \"varType\": \"MicrowaveDummy\", \"varSize\": \"144\", \"varShape\": \"\", \"varContent\": \"<hardware.microwave.mw_source_dummy.MicrowaveDummy object at 0x000000ABE3E99048>\"}, {\"varName\": \"fitlogic\", \"varType\": \"FitLogic\", \"varSize\": \"144\", \"varShape\": \"\", \"varContent\": \"<logic.fit_logic.FitLogic object at 0x000000ABE1EE75E8>\"}, {\"varName\": \"fomlogic\", \"varType\": \"WorkerFom\", \"varSize\": \"144\", \"varShape\": \"\", \"varContent\": \"<logic.optimalcontrol.worker_fom.WorkerFom object at 0x000000ABF01F63A8>\"}, {\"varName\": \"kernellogic\", \"varType\": \"QudiKernelLogic\", \"varSize\": \"144\", \"varShape\": \"\", \"varContent\": \"<logic.jupyterkernel.kernellogic.QudiKernelLogic object at 0x000000ABD1D1D288>\"}, {\"varName\": \"manager\", \"varType\": \"Manager\", \"varSize\": \"144\", \"varShape\": \"\", \"varContent\": \"<core.manager.Manager object at 0x000000ABD25AA708>\"}, {\"varName\": \"mangui\", \"varType\": \"ManagerGui\", \"varSize\": \"144\", \"varShape\": \"\", \"varContent\": \"<gui.manager.managergui.ManagerGui object at 0x000000ABD43D5B88>\"}, {\"varName\": \"myfastcounter\", \"varType\": \"FastComtec\", \"varSize\": \"144\", \"varShape\": \"\", \"varContent\": \"<hardware.fastcomtec.fastcomtecmcs6.FastComtec object at 0x000000ABD46545E8>\"}, {\"varName\": \"nicard\", \"varType\": \"NationalInstrumentsXSeries\", \"varSize\": \"144\", \"varShape\": \"\", \"varContent\": \"<hardware.national_instruments_x_series.NationalInstrumentsXSeries object at 0x000000ABD580DAF8>\"}, {\"varName\": \"optimalcontrol\", \"varType\": \"OptimizationGUI\", \"varSize\": \"144\", \"varShape\": \"\", \"varContent\": \"<gui.optimalcontrol.OptimizationGUI.OptimizationGUI object at 0x000000ABFFA5C798>\"}, {\"varName\": \"optimizationlogic\", \"varType\": \"OptimizationLogic\", \"varSize\": \"144\", \"varShape\": \"\", \"varContent\": \"<logic.optimalcontrol.OptimizationLogic.OptimizationLogic object at 0x000000ABFFA5C318>\"}, {\"varName\": \"optimizerlogic\", \"varType\": \"OptimizerLogic\", \"varSize\": \"144\", \"varShape\": \"\", \"varContent\": \"<logic.optimizer_logic.OptimizerLogic object at 0x000000ABE2289798>\"}, {\"varName\": \"pulsedmasterlogic\", \"varType\": \"PulsedMasterLogic\", \"varSize\": \"144\", \"varShape\": \"\", \"varContent\": \"<logic.pulsed.pulsed_master_logic.PulsedMasterLogic object at 0x000000ABFC6E6318>\"}, {\"varName\": \"pulsedmeasurementgui\", \"varType\": \"PulsedMeasurementGui\", \"varSize\": \"144\", \"varShape\": \"\", \"varContent\": \"<gui.pulsed.pulsed_maingui.PulsedMeasurementGui object at 0x000000ABFC5494C8>\"}, {\"varName\": \"pulsedmeasurementlogic\", \"varType\": \"PulsedMeasurementLogic\", \"varSize\": \"144\", \"varShape\": \"\", \"varContent\": \"<logic.pulsed.pulsed_measurement_logic.PulsedMeasurementLogic object at 0x000000ABE2A6C948>\"}, {\"varName\": \"savelogic\", \"varType\": \"SaveLogic\", \"varSize\": \"144\", \"varShape\": \"\", \"varContent\": \"<logic.save_logic.SaveLogic object at 0x000000ABDCBA0708>\"}, {\"varName\": \"scanner_tilt_interfuse\", \"varType\": \"ScannerTiltInterfuse\", \"varSize\": \"144\", \"varShape\": \"\", \"varContent\": \"<logic.interfuse.scanner_tilt_interfuse.ScannerTiltInterfuse object at 0x000000ABDAFFB798>\"}, {\"varName\": \"scannerlogic\", \"varType\": \"ConfocalLogic\", \"varSize\": \"144\", \"varShape\": \"\", \"varContent\": \"<logic.confocal_logic.ConfocalLogic object at 0x000000ABD1D18E58>\"}, {\"varName\": \"sequencegeneratorlogic\", \"varType\": \"SequenceGeneratorLogic\", \"varSize\": \"144\", \"varShape\": \"\", \"varContent\": \"<logic.pulsed.sequence_generator_logic.SequenceGeneratorLogic object at 0x000000ABE3E6B4C8>\"}, {\"varName\": \"tasklogic\", \"varType\": \"TaskRunner\", \"varSize\": \"144\", \"varShape\": \"\", \"varContent\": \"<logic.taskrunner.TaskRunner object at 0x000000ABDB011C18>\"}, {\"varName\": \"traygui\", \"varType\": \"TrayIcon\", \"varSize\": \"144\", \"varShape\": \"\", \"varContent\": \"<gui.trayicon.TrayIcon object at 0x000000ABDB018F78>\"}]\n",
      "[{\"varName\": \"awg8190\", \"varType\": \"AWGM8190A\", \"varSize\": \"144\", \"varShape\": \"\", \"varContent\": \"<hardware.awg.keysight_m819x.AWGM8190A object at 0x000000ABD8C25828>\"}, {\"varName\": \"config\", \"varType\": \"OrderedDict\", \"varSize\": \"464\", \"varShape\": \"\", \"varContent\": \"OrderedDict([('hardware', OrderedDict([('dummysmiq', OrderedDict([('module.Class', 'microwave.mw_source_dummy.MicrowaveDummy'), ('gpib_address', 'dummy'), ('gpib_timeout', 20), ('mock', True)])), ('sm\"}, {\"varName\": \"confocalgui\", \"varType\": \"ConfocalGui\", \"varSize\": \"144\", \"varShape\": \"\", \"varContent\": \"<gui.confocal.confocalgui.ConfocalGui object at 0x000000ABE22BF8B8>\"}, {\"varName\": \"controlslogic\", \"varType\": \"WorkerControls\", \"varSize\": \"144\", \"varShape\": \"\", \"varContent\": \"<logic.optimalcontrol.worker_controls.WorkerControls object at 0x000000ABFC26A9D8>\"}, {\"varName\": \"countergui\", \"varType\": \"CounterGui\", \"varSize\": \"144\", \"varShape\": \"\", \"varContent\": \"<gui.counter.countergui.CounterGui object at 0x000000ABDCBFD5E8>\"}, {\"varName\": \"counterlogic\", \"varType\": \"CounterLogic\", \"varSize\": \"144\", \"varShape\": \"\", \"varContent\": \"<logic.counter_logic.CounterLogic object at 0x000000ABDCBEC5E8>\"}, {\"varName\": \"dummysmiq\", \"varType\": \"MicrowaveDummy\", \"varSize\": \"144\", \"varShape\": \"\", \"varContent\": \"<hardware.microwave.mw_source_dummy.MicrowaveDummy object at 0x000000ABE3E99048>\"}, {\"varName\": \"fitlogic\", \"varType\": \"FitLogic\", \"varSize\": \"144\", \"varShape\": \"\", \"varContent\": \"<logic.fit_logic.FitLogic object at 0x000000ABE1EE75E8>\"}, {\"varName\": \"fomlogic\", \"varType\": \"WorkerFom\", \"varSize\": \"144\", \"varShape\": \"\", \"varContent\": \"<logic.optimalcontrol.worker_fom.WorkerFom object at 0x000000ABF01F63A8>\"}, {\"varName\": \"kernellogic\", \"varType\": \"QudiKernelLogic\", \"varSize\": \"144\", \"varShape\": \"\", \"varContent\": \"<logic.jupyterkernel.kernellogic.QudiKernelLogic object at 0x000000ABD1D1D288>\"}, {\"varName\": \"manager\", \"varType\": \"Manager\", \"varSize\": \"144\", \"varShape\": \"\", \"varContent\": \"<core.manager.Manager object at 0x000000ABD25AA708>\"}, {\"varName\": \"mangui\", \"varType\": \"ManagerGui\", \"varSize\": \"144\", \"varShape\": \"\", \"varContent\": \"<gui.manager.managergui.ManagerGui object at 0x000000ABD43D5B88>\"}, {\"varName\": \"myfastcounter\", \"varType\": \"FastComtec\", \"varSize\": \"144\", \"varShape\": \"\", \"varContent\": \"<hardware.fastcomtec.fastcomtecmcs6.FastComtec object at 0x000000ABD46545E8>\"}, {\"varName\": \"nicard\", \"varType\": \"NationalInstrumentsXSeries\", \"varSize\": \"144\", \"varShape\": \"\", \"varContent\": \"<hardware.national_instruments_x_series.NationalInstrumentsXSeries object at 0x000000ABD580DAF8>\"}, {\"varName\": \"optimalcontrol\", \"varType\": \"OptimizationGUI\", \"varSize\": \"144\", \"varShape\": \"\", \"varContent\": \"<gui.optimalcontrol.OptimizationGUI.OptimizationGUI object at 0x000000ABFFA5C798>\"}, {\"varName\": \"optimizationlogic\", \"varType\": \"OptimizationLogic\", \"varSize\": \"144\", \"varShape\": \"\", \"varContent\": \"<logic.optimalcontrol.OptimizationLogic.OptimizationLogic object at 0x000000ABFFA5C318>\"}, {\"varName\": \"optimizerlogic\", \"varType\": \"OptimizerLogic\", \"varSize\": \"144\", \"varShape\": \"\", \"varContent\": \"<logic.optimizer_logic.OptimizerLogic object at 0x000000ABE2289798>\"}, {\"varName\": \"pulsedmasterlogic\", \"varType\": \"PulsedMasterLogic\", \"varSize\": \"144\", \"varShape\": \"\", \"varContent\": \"<logic.pulsed.pulsed_master_logic.PulsedMasterLogic object at 0x000000ABFC6E6318>\"}, {\"varName\": \"pulsedmeasurementgui\", \"varType\": \"PulsedMeasurementGui\", \"varSize\": \"144\", \"varShape\": \"\", \"varContent\": \"<gui.pulsed.pulsed_maingui.PulsedMeasurementGui object at 0x000000ABFC5494C8>\"}, {\"varName\": \"pulsedmeasurementlogic\", \"varType\": \"PulsedMeasurementLogic\", \"varSize\": \"144\", \"varShape\": \"\", \"varContent\": \"<logic.pulsed.pulsed_measurement_logic.PulsedMeasurementLogic object at 0x000000ABE2A6C948>\"}, {\"varName\": \"savelogic\", \"varType\": \"SaveLogic\", \"varSize\": \"144\", \"varShape\": \"\", \"varContent\": \"<logic.save_logic.SaveLogic object at 0x000000ABDCBA0708>\"}, {\"varName\": \"scanner_tilt_interfuse\", \"varType\": \"ScannerTiltInterfuse\", \"varSize\": \"144\", \"varShape\": \"\", \"varContent\": \"<logic.interfuse.scanner_tilt_interfuse.ScannerTiltInterfuse object at 0x000000ABDAFFB798>\"}, {\"varName\": \"scannerlogic\", \"varType\": \"ConfocalLogic\", \"varSize\": \"144\", \"varShape\": \"\", \"varContent\": \"<logic.confocal_logic.ConfocalLogic object at 0x000000ABD1D18E58>\"}, {\"varName\": \"sequencegeneratorlogic\", \"varType\": \"SequenceGeneratorLogic\", \"varSize\": \"144\", \"varShape\": \"\", \"varContent\": \"<logic.pulsed.sequence_generator_logic.SequenceGeneratorLogic object at 0x000000ABE3E6B4C8>\"}, {\"varName\": \"tasklogic\", \"varType\": \"TaskRunner\", \"varSize\": \"144\", \"varShape\": \"\", \"varContent\": \"<logic.taskrunner.TaskRunner object at 0x000000ABDB011C18>\"}, {\"varName\": \"traygui\", \"varType\": \"TrayIcon\", \"varSize\": \"144\", \"varShape\": \"\", \"varContent\": \"<gui.trayicon.TrayIcon object at 0x000000ABDB018F78>\"}]\n",
      "[{\"varName\": \"awg8190\", \"varType\": \"AWGM8190A\", \"varSize\": \"144\", \"varShape\": \"\", \"varContent\": \"<hardware.awg.keysight_m819x.AWGM8190A object at 0x000000ABD8C25828>\"}, {\"varName\": \"config\", \"varType\": \"OrderedDict\", \"varSize\": \"464\", \"varShape\": \"\", \"varContent\": \"OrderedDict([('hardware', OrderedDict([('dummysmiq', OrderedDict([('module.Class', 'microwave.mw_source_dummy.MicrowaveDummy'), ('gpib_address', 'dummy'), ('gpib_timeout', 20), ('mock', True)])), ('sm\"}, {\"varName\": \"confocalgui\", \"varType\": \"ConfocalGui\", \"varSize\": \"144\", \"varShape\": \"\", \"varContent\": \"<gui.confocal.confocalgui.ConfocalGui object at 0x000000ABE22BF8B8>\"}, {\"varName\": \"controlslogic\", \"varType\": \"WorkerControls\", \"varSize\": \"144\", \"varShape\": \"\", \"varContent\": \"<logic.optimalcontrol.worker_controls.WorkerControls object at 0x000000ABFC26A9D8>\"}, {\"varName\": \"countergui\", \"varType\": \"CounterGui\", \"varSize\": \"144\", \"varShape\": \"\", \"varContent\": \"<gui.counter.countergui.CounterGui object at 0x000000ABDCBFD5E8>\"}, {\"varName\": \"counterlogic\", \"varType\": \"CounterLogic\", \"varSize\": \"144\", \"varShape\": \"\", \"varContent\": \"<logic.counter_logic.CounterLogic object at 0x000000ABDCBEC5E8>\"}, {\"varName\": \"dummysmiq\", \"varType\": \"MicrowaveDummy\", \"varSize\": \"144\", \"varShape\": \"\", \"varContent\": \"<hardware.microwave.mw_source_dummy.MicrowaveDummy object at 0x000000ABE3E99048>\"}, {\"varName\": \"fitlogic\", \"varType\": \"FitLogic\", \"varSize\": \"144\", \"varShape\": \"\", \"varContent\": \"<logic.fit_logic.FitLogic object at 0x000000ABE1EE75E8>\"}, {\"varName\": \"fomlogic\", \"varType\": \"WorkerFom\", \"varSize\": \"144\", \"varShape\": \"\", \"varContent\": \"<logic.optimalcontrol.worker_fom.WorkerFom object at 0x000000ABF01F63A8>\"}, {\"varName\": \"kernellogic\", \"varType\": \"QudiKernelLogic\", \"varSize\": \"144\", \"varShape\": \"\", \"varContent\": \"<logic.jupyterkernel.kernellogic.QudiKernelLogic object at 0x000000ABD1D1D288>\"}, {\"varName\": \"manager\", \"varType\": \"Manager\", \"varSize\": \"144\", \"varShape\": \"\", \"varContent\": \"<core.manager.Manager object at 0x000000ABD25AA708>\"}, {\"varName\": \"mangui\", \"varType\": \"ManagerGui\", \"varSize\": \"144\", \"varShape\": \"\", \"varContent\": \"<gui.manager.managergui.ManagerGui object at 0x000000ABD43D5B88>\"}, {\"varName\": \"myfastcounter\", \"varType\": \"FastComtec\", \"varSize\": \"144\", \"varShape\": \"\", \"varContent\": \"<hardware.fastcomtec.fastcomtecmcs6.FastComtec object at 0x000000ABD46545E8>\"}, {\"varName\": \"nicard\", \"varType\": \"NationalInstrumentsXSeries\", \"varSize\": \"144\", \"varShape\": \"\", \"varContent\": \"<hardware.national_instruments_x_series.NationalInstrumentsXSeries object at 0x000000ABD580DAF8>\"}, {\"varName\": \"optimalcontrol\", \"varType\": \"OptimizationGUI\", \"varSize\": \"144\", \"varShape\": \"\", \"varContent\": \"<gui.optimalcontrol.OptimizationGUI.OptimizationGUI object at 0x000000ABFFA5C798>\"}, {\"varName\": \"optimizationlogic\", \"varType\": \"OptimizationLogic\", \"varSize\": \"144\", \"varShape\": \"\", \"varContent\": \"<logic.optimalcontrol.OptimizationLogic.OptimizationLogic object at 0x000000ABFFA5C318>\"}, {\"varName\": \"optimizerlogic\", \"varType\": \"OptimizerLogic\", \"varSize\": \"144\", \"varShape\": \"\", \"varContent\": \"<logic.optimizer_logic.OptimizerLogic object at 0x000000ABE2289798>\"}, {\"varName\": \"pulsedmasterlogic\", \"varType\": \"PulsedMasterLogic\", \"varSize\": \"144\", \"varShape\": \"\", \"varContent\": \"<logic.pulsed.pulsed_master_logic.PulsedMasterLogic object at 0x000000ABFC6E6318>\"}, {\"varName\": \"pulsedmeasurementgui\", \"varType\": \"PulsedMeasurementGui\", \"varSize\": \"144\", \"varShape\": \"\", \"varContent\": \"<gui.pulsed.pulsed_maingui.PulsedMeasurementGui object at 0x000000ABFC5494C8>\"}, {\"varName\": \"pulsedmeasurementlogic\", \"varType\": \"PulsedMeasurementLogic\", \"varSize\": \"144\", \"varShape\": \"\", \"varContent\": \"<logic.pulsed.pulsed_measurement_logic.PulsedMeasurementLogic object at 0x000000ABE2A6C948>\"}, {\"varName\": \"savelogic\", \"varType\": \"SaveLogic\", \"varSize\": \"144\", \"varShape\": \"\", \"varContent\": \"<logic.save_logic.SaveLogic object at 0x000000ABDCBA0708>\"}, {\"varName\": \"scanner_tilt_interfuse\", \"varType\": \"ScannerTiltInterfuse\", \"varSize\": \"144\", \"varShape\": \"\", \"varContent\": \"<logic.interfuse.scanner_tilt_interfuse.ScannerTiltInterfuse object at 0x000000ABDAFFB798>\"}, {\"varName\": \"scannerlogic\", \"varType\": \"ConfocalLogic\", \"varSize\": \"144\", \"varShape\": \"\", \"varContent\": \"<logic.confocal_logic.ConfocalLogic object at 0x000000ABD1D18E58>\"}, {\"varName\": \"sequencegeneratorlogic\", \"varType\": \"SequenceGeneratorLogic\", \"varSize\": \"144\", \"varShape\": \"\", \"varContent\": \"<logic.pulsed.sequence_generator_logic.SequenceGeneratorLogic object at 0x000000ABE3E6B4C8>\"}, {\"varName\": \"tasklogic\", \"varType\": \"TaskRunner\", \"varSize\": \"144\", \"varShape\": \"\", \"varContent\": \"<logic.taskrunner.TaskRunner object at 0x000000ABDB011C18>\"}, {\"varName\": \"traygui\", \"varType\": \"TrayIcon\", \"varSize\": \"144\", \"varShape\": \"\", \"varContent\": \"<gui.trayicon.TrayIcon object at 0x000000ABDB018F78>\"}]\n",
      "[{\"varName\": \"awg8190\", \"varType\": \"AWGM8190A\", \"varSize\": \"144\", \"varShape\": \"\", \"varContent\": \"<hardware.awg.keysight_m819x.AWGM8190A object at 0x000000ABD8C25828>\"}, {\"varName\": \"config\", \"varType\": \"OrderedDict\", \"varSize\": \"464\", \"varShape\": \"\", \"varContent\": \"OrderedDict([('hardware', OrderedDict([('dummysmiq', OrderedDict([('module.Class', 'microwave.mw_source_dummy.MicrowaveDummy'), ('gpib_address', 'dummy'), ('gpib_timeout', 20), ('mock', True)])), ('sm\"}, {\"varName\": \"confocalgui\", \"varType\": \"ConfocalGui\", \"varSize\": \"144\", \"varShape\": \"\", \"varContent\": \"<gui.confocal.confocalgui.ConfocalGui object at 0x000000ABE22BF8B8>\"}, {\"varName\": \"controlslogic\", \"varType\": \"WorkerControls\", \"varSize\": \"144\", \"varShape\": \"\", \"varContent\": \"<logic.optimalcontrol.worker_controls.WorkerControls object at 0x000000ABFC26A9D8>\"}, {\"varName\": \"countergui\", \"varType\": \"CounterGui\", \"varSize\": \"144\", \"varShape\": \"\", \"varContent\": \"<gui.counter.countergui.CounterGui object at 0x000000ABDCBFD5E8>\"}, {\"varName\": \"counterlogic\", \"varType\": \"CounterLogic\", \"varSize\": \"144\", \"varShape\": \"\", \"varContent\": \"<logic.counter_logic.CounterLogic object at 0x000000ABDCBEC5E8>\"}, {\"varName\": \"dummysmiq\", \"varType\": \"MicrowaveDummy\", \"varSize\": \"144\", \"varShape\": \"\", \"varContent\": \"<hardware.microwave.mw_source_dummy.MicrowaveDummy object at 0x000000ABE3E99048>\"}, {\"varName\": \"fitlogic\", \"varType\": \"FitLogic\", \"varSize\": \"144\", \"varShape\": \"\", \"varContent\": \"<logic.fit_logic.FitLogic object at 0x000000ABE1EE75E8>\"}, {\"varName\": \"fomlogic\", \"varType\": \"WorkerFom\", \"varSize\": \"144\", \"varShape\": \"\", \"varContent\": \"<logic.optimalcontrol.worker_fom.WorkerFom object at 0x000000ABF01F63A8>\"}, {\"varName\": \"kernellogic\", \"varType\": \"QudiKernelLogic\", \"varSize\": \"144\", \"varShape\": \"\", \"varContent\": \"<logic.jupyterkernel.kernellogic.QudiKernelLogic object at 0x000000ABD1D1D288>\"}, {\"varName\": \"manager\", \"varType\": \"Manager\", \"varSize\": \"144\", \"varShape\": \"\", \"varContent\": \"<core.manager.Manager object at 0x000000ABD25AA708>\"}, {\"varName\": \"mangui\", \"varType\": \"ManagerGui\", \"varSize\": \"144\", \"varShape\": \"\", \"varContent\": \"<gui.manager.managergui.ManagerGui object at 0x000000ABD43D5B88>\"}, {\"varName\": \"myfastcounter\", \"varType\": \"FastComtec\", \"varSize\": \"144\", \"varShape\": \"\", \"varContent\": \"<hardware.fastcomtec.fastcomtecmcs6.FastComtec object at 0x000000ABD46545E8>\"}, {\"varName\": \"nicard\", \"varType\": \"NationalInstrumentsXSeries\", \"varSize\": \"144\", \"varShape\": \"\", \"varContent\": \"<hardware.national_instruments_x_series.NationalInstrumentsXSeries object at 0x000000ABD580DAF8>\"}, {\"varName\": \"optimalcontrol\", \"varType\": \"OptimizationGUI\", \"varSize\": \"144\", \"varShape\": \"\", \"varContent\": \"<gui.optimalcontrol.OptimizationGUI.OptimizationGUI object at 0x000000ABFFA5C798>\"}, {\"varName\": \"optimizationlogic\", \"varType\": \"OptimizationLogic\", \"varSize\": \"144\", \"varShape\": \"\", \"varContent\": \"<logic.optimalcontrol.OptimizationLogic.OptimizationLogic object at 0x000000ABFFA5C318>\"}, {\"varName\": \"optimizerlogic\", \"varType\": \"OptimizerLogic\", \"varSize\": \"144\", \"varShape\": \"\", \"varContent\": \"<logic.optimizer_logic.OptimizerLogic object at 0x000000ABE2289798>\"}, {\"varName\": \"pulsedmasterlogic\", \"varType\": \"PulsedMasterLogic\", \"varSize\": \"144\", \"varShape\": \"\", \"varContent\": \"<logic.pulsed.pulsed_master_logic.PulsedMasterLogic object at 0x000000ABFC6E6318>\"}, {\"varName\": \"pulsedmeasurementgui\", \"varType\": \"PulsedMeasurementGui\", \"varSize\": \"144\", \"varShape\": \"\", \"varContent\": \"<gui.pulsed.pulsed_maingui.PulsedMeasurementGui object at 0x000000ABFC5494C8>\"}, {\"varName\": \"pulsedmeasurementlogic\", \"varType\": \"PulsedMeasurementLogic\", \"varSize\": \"144\", \"varShape\": \"\", \"varContent\": \"<logic.pulsed.pulsed_measurement_logic.PulsedMeasurementLogic object at 0x000000ABE2A6C948>\"}, {\"varName\": \"savelogic\", \"varType\": \"SaveLogic\", \"varSize\": \"144\", \"varShape\": \"\", \"varContent\": \"<logic.save_logic.SaveLogic object at 0x000000ABDCBA0708>\"}, {\"varName\": \"scanner_tilt_interfuse\", \"varType\": \"ScannerTiltInterfuse\", \"varSize\": \"144\", \"varShape\": \"\", \"varContent\": \"<logic.interfuse.scanner_tilt_interfuse.ScannerTiltInterfuse object at 0x000000ABDAFFB798>\"}, {\"varName\": \"scannerlogic\", \"varType\": \"ConfocalLogic\", \"varSize\": \"144\", \"varShape\": \"\", \"varContent\": \"<logic.confocal_logic.ConfocalLogic object at 0x000000ABD1D18E58>\"}, {\"varName\": \"sequencegeneratorlogic\", \"varType\": \"SequenceGeneratorLogic\", \"varSize\": \"144\", \"varShape\": \"\", \"varContent\": \"<logic.pulsed.sequence_generator_logic.SequenceGeneratorLogic object at 0x000000ABE3E6B4C8>\"}, {\"varName\": \"tasklogic\", \"varType\": \"TaskRunner\", \"varSize\": \"144\", \"varShape\": \"\", \"varContent\": \"<logic.taskrunner.TaskRunner object at 0x000000ABDB011C18>\"}, {\"varName\": \"traygui\", \"varType\": \"TrayIcon\", \"varSize\": \"144\", \"varShape\": \"\", \"varContent\": \"<gui.trayicon.TrayIcon object at 0x000000ABDB018F78>\"}]\n"
     ]
    },
    {
     "data": {
      "text/plain": [
       "{'name': 'oc_nrep', 'n_start': 1, 'n_step': 1, 'num_of_points': 8, 'filename_amplitude': 'on_nv=2_amplitude.txt', 'filename_phase': 'on_nv=2_phase.txt', 'folder_path': 'C:\\\\Software\\\\qudi_data\\\\optimal_control_assets', 't_gap': 1.1904761904761904e-07, 'vs_rect_pulse': False, 'alternating': True, 'experiment': 'oc_nrep'}"
      ]
     },
     "execution_count": 206,
     "metadata": {},
     "output_type": "execute_result"
    }
   ],
   "source": [
    "def setup_sts_oc_pi(folder_path, filename, length_oc):\n",
    "    dictparamsall = pulsedmasterlogic.generate_method_params\n",
    "    \n",
    "    dict_qst = dictparamsall[\"sts_oc\"]\n",
    "    dict_qst[\"experiment\"] = 'sts_oc'\n",
    "    dict_qst[\"name\"] = 'stsoc'\n",
    "    dict_qst[\"length\"] = length_oc\n",
    "    dict_qst[\"filename_amplitude\"] = os.path.basename(get_pulse_filename(folder_path, name=filename)[0])\n",
    "    dict_qst[\"filename_phase\"] = os.path.basename(get_pulse_filename(folder_path, name=filename)[1])\n",
    "    dict_qst[\"folder_path\"] = folder_path\n",
    "    \n",
    "\n",
    "    \n",
    "    return dict_qst\n",
    "\n",
    "def setup_oc_npi(folder_path, filename, length_oc, n_start=1, n_step=1, n_n=4, t_gap=0e-9):\n",
    "    dictparamsall = pulsedmasterlogic.generate_method_params\n",
    "    \n",
    "    dict_qst = dictparamsall[\"oc_nrep\"]\n",
    "    dict_qst[\"experiment\"] = 'oc_nrep'\n",
    "    dict_qst[\"name\"] = 'oc_nrep'\n",
    "    dict_qst[\"filename_amplitude\"] = os.path.basename(get_pulse_filename(folder_path, name=filename)[0])\n",
    "    dict_qst[\"filename_phase\"] = os.path.basename(get_pulse_filename(folder_path, name=filename)[1])\n",
    "    dict_qst[\"folder_path\"] = folder_path\n",
    "    \n",
    "    dict_qst['n_start'] = n_start\n",
    "    dict_qst['n_step'] = n_step\n",
    "    dict_qst['t_gap'] = t_gap\n",
    "    dict_qst['num_of_points'] = n_n\n",
    "    \n",
    "    dict_qst[\"alternating\"] = True\n",
    "    dict_qst[\"vs_rect_pulse\"] = False\n",
    "    \n",
    "    \n",
    "    return dict_qst\n",
    "\n",
    "def setup_fom_func_sts_oc_pi():\n",
    "    def calc_fom():\n",
    "        signal_data = pulsedmeasurementlogic.signal_data\n",
    "        up_norm = signal_data[1,0] / signal_data[1,0]\n",
    "        down_norm = signal_data[1,1] / signal_data[1,0]\n",
    "\n",
    "        return np.real(1 - (up_norm - down_norm))\n",
    "    \n",
    "    return calc_fom\n",
    "\n",
    "def setup_fom_func_oc_npi():\n",
    "    def calc_fom():\n",
    "        # signal_data[0,:] = xaxis\n",
    "        # signal_data[1,:] = yaxis (alternating flattened)\n",
    "        try:\n",
    "            signal_data = pulsedmeasurementlogic.signal_data\n",
    "            n_pi = signal_data[0,:]\n",
    "            n_pi_even = np.where(n_pi%2==0)\n",
    "\n",
    "            data_mw = signal_data[1,:]\n",
    "            data_alt = signal_data[2,:]\n",
    "            data_norm = data_mw/data_alt\n",
    "            data_mw_0 = (data_norm)[n_pi%2==0]  # normed in state |0>\n",
    "            data_mw_1 = (data_norm)[n_pi%2==1]  # normed in state |1>\n",
    "\n",
    "            return np.mean(1 - (data_mw_0 - data_mw_1))\n",
    "        except:\n",
    "            return np.nan\n",
    "    \n",
    "    return calc_fom\n",
    "\n",
    "def add_penalty_freq_bandstop(fom_func, f_res, f_center_block, df=10e6, n_f_sim=50, fac_penalty=1):\n",
    "    def extend_fom(pulse, func_volt_2_rabi=None):\n",
    "        exp_fom = fom_func()\n",
    "\n",
    "        # sim units are MHz!\n",
    "        simp = SimParameters()\n",
    "        f_res_mhz = f_res*1e-6\n",
    "        f_center_block_mhz = f_center_block*1e-6\n",
    "        df_mhz = df*1e-6\n",
    "        B_gauss = (simp.D - f_res_mhz)/ simp.gamma_nv\n",
    "\n",
    "        # reloading pulse to make sure units are correct\n",
    "        pulse = TimeDependentSimulation.load_pulse(pulse['folder'], pulse['name'], extension='txt',\n",
    "                                                   func_volt_2_rabi=func_volt_2_rabi,\n",
    "                                                   func_t_2_us=lambda x: x*1e6)\n",
    "\n",
    "        try:\n",
    "            sim = TimeDependentSimulation()\n",
    "            freq_array = np.linspace(f_center_block_mhz-df_mhz, f_center_block_mhz+df_mhz, n_f_sim)\n",
    "            data_freq_detuning = sim.run_sim_fsweep(freq_array, pulse, B_gauss, simp)\n",
    "            spin_pop = np.mean(data_freq_detuning)\n",
    "\n",
    "        except Exception as e:\n",
    "            logger.exception(f\"Couldn't simulate pulse response: \")\n",
    "            return np.nan\n",
    "\n",
    "        # in the blockband, spin_pop should be uneffected (=1)\n",
    "        fom_sim = (1 + fac_penalty*(abs(1-spin_pop)))\n",
    "        fom_hybrid = exp_fom * fom_sim\n",
    "        return fom_hybrid\n",
    "\n",
    "\n",
    "    return extend_fom\n",
    "\n",
    "\n",
    "qmeas = setup_sts_oc_pi(folder_path, filename, script_params['length_oc'])\n",
    "qmeas = setup_oc_npi(folder_path, filename, script_params['length_oc'])\n",
    "qmeas = setup_oc_npi(folder_path, filename, script_params['length_oc'], t_gap=0.25/2.1e6, n_n=8)\n",
    "\n",
    "f_res = 2615e6\n",
    "f_block = 2710e6\n",
    "fom_func = setup_fom_func_oc_npi()\n",
    "fom_func = add_penalty_freq_bandstop(fom_func, f_res, f_block)(pulse, func_volt_2_rabi=lambda y: y/0.25*20)\n",
    "\n",
    "\n",
    "script_params['generate_parameters'] = qmeas\n",
    "script_params['fom_function'] = fom_func\n",
    "\n",
    "qmeas\n",
    "\n"
   ]
  },
  {
   "cell_type": "code",
   "execution_count": 178,
   "metadata": {},
   "outputs": [
    {
     "data": {
      "text/plain": [
       "1.487503014450314"
      ]
     },
     "execution_count": 178,
     "metadata": {},
     "output_type": "execute_result"
    }
   ],
   "source": [
    "# debug fom\n",
    "try:\n",
    "    data = add_penalty_freq_bandstop(fom_func, 2615e6, 2710e6)(pulse, func_volt_2_rabi=lambda y: y/0.25*20)\n",
    "except:\n",
    "    logger.exception(\"\")\n",
    "    \n",
    "data"
   ]
  },
  {
   "cell_type": "code",
   "execution_count": 143,
   "metadata": {},
   "outputs": [
    {
     "data": {
      "text/plain": [
       "0.09999999999999999"
      ]
     },
     "execution_count": 143,
     "metadata": {},
     "output_type": "execute_result"
    }
   ],
   "source": [
    "#pulse = #folder = r\"C:\\Software\\qudi_data\\optimal_control_assets\"\n",
    "folder = r\"C:\\Software\\qudi_data\\optimal_control_assets\\20220724_1\"\n",
    "fname = r\"on_nv=2_\"\n",
    "fname = r\"opt_pulse_\"\n",
    "n_bins_init_guess = 1001\n",
    "\n",
    "pulse = TimeDependentSimulation.load_pulse(folder, fname, extension='txt',\n",
    "                                           #func_volt_2_rabi=func_volt_2_rabi,\n",
    "                                           func_t_2_us=lambda x: x*1e6)\n",
    "pulse['timegrid_ampl'][-1]"
   ]
  },
  {
   "cell_type": "code",
   "execution_count": 160,
   "metadata": {},
   "outputs": [
    {
     "data": {
      "text/plain": [
       "array([0.843, 0.882, 0.896, 0.799])"
      ]
     },
     "execution_count": 160,
     "metadata": {},
     "output_type": "execute_result"
    }
   ],
   "source": [
    "signal_data = pulsedmeasurementlogic.signal_data\n",
    "n_pi = signal_data[0,:]\n",
    "data_mw = signal_data[1,:]\n",
    "data_alt = signal_data[2,:]\n",
    "data_norm = data_mw/data_alt\n",
    "data_mw_0 = (data_norm)[n_pi%2==0]\n",
    "data_mw_1 = (data_norm)[n_pi%2==1]\n",
    "\n",
    "data_mw_1"
   ]
  },
  {
   "cell_type": "markdown",
   "metadata": {},
   "source": [
    "## Run"
   ]
  },
  {
   "cell_type": "code",
   "execution_count": 66,
   "metadata": {},
   "outputs": [],
   "source": [
    "######################################################################################################\n",
    "# Parameters and Settings\n",
    "######################################################################################################\n",
    "\n",
    "# runtime of each experiment\n",
    "runtime = script_params['runtime_per_epoch']\n",
    "length_oc = script_params['length_oc'] \n",
    "\n",
    "# parameter to stop the experiment if its set to False in the console\n",
    "pulsedmasterlogic.globalrun = True\n",
    "uglobals.abort.clear()\n",
    "logger.info(\"Starting new closed-loop quocs optimization\")\n",
    "\n",
    "# Dictonary containing the general measurement parameters for the predefined measurements\n",
    "p_generation_dict = pulsedmasterlogic.generation_parameters\n",
    "#p_generation_dict[\"laser_channel\"] = \"d_ch2\" \n",
    "#p_generation_dict[\"sync_channel\"] = \"d_ch1\" \n",
    "#p_generation_dict[\"gate_channel\"] = None#\"d_ch1\" \n",
    "#p_generation_dict[\"microwave_channel\"] = \"a_ch1\"\n",
    "#p_generation_dict[\"microwave_amplitude\"] = 0.25\n",
    "#p_generation_dict[\"microwave_frequency\"] = 2822.3e6\n",
    "#p_generation_dict[\"rabi_period\"] = 82.7e-9\n",
    "#p_generation_dict[\"laser_length\"] = 3e-06\n",
    "#p_generation_dict[\"laser_delay\"] = 0.2e-6\n",
    "#p_generation_dict[\"wait_time\"] = 1e-06\n",
    "#p_generation_dict[\"analog_trigger_voltage\"] = 0.0\n",
    "# load the general measurement parameters for the predefined measurements\n",
    "pulsedmasterlogic.set_generation_parameters(p_generation_dict)\n",
    "script_params['pulsed_generation_params'] = pulsedmasterlogic.generation_parameters\n",
    "\n",
    "\n",
    "# tell the measurement gui how the sequence looks\n",
    "pulsed_settings = dict()\n",
    "pulsed_settings['invoke_settings'] = True\n",
    "pulsedmasterlogic.set_measurement_settings(pulsed_settings)\n",
    "script_params['pulsed_settings'] = pulsed_settings\n",
    "\n",
    "\n",
    "# make sure everything is finished\n",
    "time.sleep(5)\n",
    "\n",
    "# how the laser response is analyzed    \n",
    "#pulsedmasterlogic.set_analysis_settings(method = 'mean')\n",
    "#pulsedmasterlogic.set_analysis_settings(signal_start = 150e-9)\n",
    "#pulsedmasterlogic.set_analysis_settings(signal_end = 1e-6)\n",
    "#pulsedmasterlogic.set_extraction_settings(method = 'conv_deriv')\n",
    "\n",
    "p_analysis_settings = pulsedmasterlogic.analysis_settings\n",
    "p_extraction_settings = pulsedmasterlogic.extraction_settings\n",
    "script_params['pulsed_analysis_settings'] = p_analysis_settings\n",
    "script_params['pulsed_extraction_settings_settings'] = p_extraction_settings\n",
    "\n",
    "# array to save the fom evolution\n",
    "fom_all = []\n",
    "\n",
    "# This section is devoted to the initialization in the pulsed logic and optimization logic of the main\n",
    "# settings and parameters to be usde in the creation ofthe pulse sequence and the optimization\n",
    "# Iteration, controls and figure of merit to compare with QuOCS\n",
    "# Just an example for debug\n",
    "args_dict = {\"is_noisy\": script_params['is_noisy']}\n",
    "qubit = OneQubit2Fields(args_dict)\n",
    "\n",
    "######################################################################################################\n",
    "# Measurement\n",
    "######################################################################################################\n",
    "optimalcontrol.start_optimization()\n",
    "\n",
    "# crucial, maybe it can be much shorter\n",
    "time.sleep(1)\n",
    "\n",
    "# Just a time to check for latent time\n",
    "last_time_fom = time.time()\n",
    "# repeat the whole process until its manually stopped or QuOCS finsihed the optimization\n",
    "# Wait few seconds before starting to get and return data\n",
    "while not optimizationlogic.handle_exit_obj.is_user_running:\n",
    "    time.sleep(0.1)\n",
    "    if (time.time() - last_time_fom) > 30 or uglobals.abort.is_set():\n",
    "        logger.warning(\"Timeout or abort while initializing quocs.\")\n",
    "        uglobals.abort.set()\n",
    "        break\n",
    "\n",
    "# iteration number\n",
    "it_val = 0\n",
    "\n",
    "# when did the optimization start?\n",
    "opt_start_time = time.time()\n",
    "try:\n",
    "    # print(\"Check before the loop starts: {0}\".format(optimizationlogic.handle_exit_obj.is_user_running))\n",
    "    while  optimizationlogic.handle_exit_obj.is_user_running == True and not uglobals.abort.is_set():\n",
    "        time_stamp=time.time()\n",
    "        # wait until QuOCS optimizes the controls\n",
    "        # print(\"Wait until the controls logic gives the controls\")\n",
    "        while not controlslogic.are_pulses_calculated:\n",
    "            time.sleep(0.1)\n",
    "            # If the waiting time exceed 10 seconds left stop the optimization\n",
    "            if time.time() - last_time_fom > 20:\n",
    "                logger.error(\"Too much time... Exit!\")\n",
    "                optimizationlogic.handle_exit_obj.is_user_running = False\n",
    "                break\n",
    "\n",
    " \n",
    "        #######################################################################################################\n",
    "        # Get the Controls\n",
    "        #######################################################################################################\n",
    "        # Change the status of control calculations to avoid to evaluate the fom twice with the same controls\n",
    "        controlslogic.are_pulses_calculated = False\n",
    "        # Get the controls from the controls logic\n",
    "        pulses, parameters, timegrids = controlslogic.pulses, controlslogic.parameters, controlslogic.timegrids\n",
    "        #######################################################################################################\n",
    "        # Perform the measurement\n",
    "        #######################################################################################################\n",
    "\n",
    "        # save the pulses as .txt files (predefined methods doesn't allow us to upload a numpy array as \n",
    "        # parameter)\n",
    "        data_ampl = np.column_stack((timegrids[0], pulses[0]))\n",
    "        data_phase = np.column_stack((timegrids[0], pulses[1]))\n",
    "        save_pulse(folder_path, data_ampl, data_phase, name=filename)\n",
    "\n",
    "        time.sleep(0.2)\n",
    "        \n",
    "        qmeas = cp.deepcopy(script_params['generate_parameters'])\n",
    "        experiment = qmeas['experiment']\n",
    "        exp_name = qmeas['name']\n",
    "        qmeas.pop('experiment', None)\n",
    "        # generate the sequence\n",
    "        pulsedmasterlogic.generate_predefined_sequence(experiment,kwarg_dict=qmeas)  \n",
    "\n",
    "        time.sleep(1)\n",
    "\n",
    "        # upload the sequence\n",
    "        pulsedmasterlogic.sample_ensemble(exp_name,True)\n",
    "        while pulsedmasterlogic.status_dict['sampload_busy'] or pulsedmasterlogic.status_dict['sampling_ensemble_busy'] or pulsedmasterlogic.status_dict['loading_busy']:     \n",
    "            time.sleep(1)\n",
    "\n",
    "        #print('Finished uploading', dictparams_oc[\"name\"], '!')\n",
    "\n",
    "        # make sure everything is finished (crucial)\n",
    "        #time.sleep(1)#time.sleep(5)    \n",
    "\n",
    "         # start the measurement\n",
    "        #print('Starting the measurement!')\n",
    "        pulsedmasterlogic.toggle_pulsed_measurement(True)\n",
    "        time.sleep(1)\n",
    "\n",
    "        # make sure the measurement started\n",
    "        while not pulsedmasterlogic.status_dict['measurement_running']:\n",
    "            time.sleep(0.1)\n",
    "\n",
    "        measurement_start_time = time.time()\n",
    "\n",
    "        while time.time() <= measurement_start_time + runtime:\n",
    "            time.sleep(0.2)\n",
    "\n",
    "            # option to stop the measurement\n",
    "            if pulsedmasterlogic.globalrun == False or uglobals.abort.is_set():\n",
    "                print('Stopping the measurement!')\n",
    "                break\n",
    "\n",
    "        # option to stop the measurement\n",
    "        if pulsedmasterlogic.globalrun == False or uglobals.abort.is_set():\n",
    "            print('Stopping the measurement!')\n",
    "            pulsedmasterlogic.toggle_pulsed_measurement(False)\n",
    "            break\n",
    "\n",
    "        #time.sleep(1)\n",
    "\n",
    "        # Stop the measurement\n",
    "        pulsedmasterlogic.toggle_pulsed_measurement(False)\n",
    "\n",
    "        # Make sure it stopped (Wait until the Picoscope card sends the data)\n",
    "        while pulsedmasterlogic.status_dict['measurement_running']:\n",
    "            time.sleep(0.1)\n",
    "\n",
    "        #######################################################################################################\n",
    "        # Analysis\n",
    "        ######################################################################################################\n",
    "\n",
    "        fom_func = script_params['fom_function']\n",
    "        fom = fom_func()\n",
    "        # save the fom to plot its evolution later\n",
    "        fom_all.append(fom)\n",
    "\n",
    "        # Update the figure of merit and the standard deviation to the fom logic\n",
    "        fomlogic.update_fom(fom, script_params['readout_noise'], status_code=0)   # todo: define above\n",
    "        #fomlogic.update_fom(fom, std, status_code=0)\n",
    "\n",
    "        # update the last time the fom is calculated\n",
    "        last_time_fom = time.time()\n",
    "\n",
    "    # when did the optimization stop?\n",
    "    opt_end_time = time.time()\n",
    "\n",
    "    print('It took QuOCS ' + str(opt_end_time-opt_start_time) + ' s to optimize the pulse!')\n",
    "except:\n",
    "    logger.exception(\"\")\n",
    "finally:\n",
    "    # give a very high fom to the optimization algorithm\n",
    "    # and status code -1, to interrupt the optimization smoothly\n",
    "    uglobals.abort.set()\n",
    "    optimizationlogic.handle_exit_obj.is_user_running = False\n",
    "    logger.info('Stopping the optimization!')\n",
    "    fomlogic.update_fom(10**10, status_code=-1)\n",
    "\n",
    "print(\"Optimization finished\")"
   ]
  },
  {
   "cell_type": "code",
   "execution_count": 65,
   "metadata": {},
   "outputs": [
    {
     "data": {
      "text/plain": [
       "array([[0.   , 0.25 ],\n",
       "       [0.   , 0.25 ],\n",
       "       [0.   , 0.25 ],\n",
       "       ...,\n",
       "       [0.   , 0.141],\n",
       "       [0.   , 0.141],\n",
       "       [0.   , 0.141]])"
      ]
     },
     "execution_count": 65,
     "metadata": {},
     "output_type": "execute_result"
    }
   ],
   "source": [
    "data_ampl"
   ]
  },
  {
   "cell_type": "markdown",
   "metadata": {},
   "source": [
    "## Test FOM noise"
   ]
  },
  {
   "cell_type": "code",
   "execution_count": 22,
   "metadata": {},
   "outputs": [],
   "source": [
    "uglobals.abort.clear()\n",
    "\n",
    "pulsed_settings = dict()\n",
    "pulsed_settings['invoke_settings'] = True\n",
    "pulsedmasterlogic.set_measurement_settings(pulsed_settings)\n",
    "script_params['pulsed_settings'] = pulsed_settings\n",
    "\n",
    "\n",
    "foms = []\n",
    "n_mc = 20\n",
    "idx= 0\n",
    "try:\n",
    "    while idx<n_mc and not uglobals.abort.is_set():\n",
    "        time_stamp=time.time()\n",
    "\n",
    "        qmeas = cp.deepcopy(script_params['generate_parameters'])\n",
    "        experiment = qmeas['experiment']\n",
    "        exp_name = qmeas['name']\n",
    "        qmeas.pop('experiment', None)\n",
    "        # generate the sequence\n",
    "        pulsedmasterlogic.generate_predefined_sequence(experiment,kwarg_dict=qmeas)  \n",
    "\n",
    "        time.sleep(1)\n",
    "\n",
    "        # upload the sequence\n",
    "        pulsedmasterlogic.sample_ensemble(exp_name,True)\n",
    "        while pulsedmasterlogic.status_dict['sampload_busy'] or pulsedmasterlogic.status_dict['sampling_ensemble_busy'] or pulsedmasterlogic.status_dict['loading_busy']:     \n",
    "            time.sleep(1)\n",
    "\n",
    "        #print('Finished uploading', dictparams_oc[\"name\"], '!')\n",
    "\n",
    "        # make sure everything is finished (crucial)\n",
    "        #time.sleep(1)#time.sleep(5)    \n",
    "\n",
    "         # start the measurement\n",
    "        #print('Starting the measurement!')\n",
    "        pulsedmasterlogic.toggle_pulsed_measurement(True)\n",
    "        time.sleep(1)\n",
    "\n",
    "        # make sure the measurement started\n",
    "        while not pulsedmasterlogic.status_dict['measurement_running']:\n",
    "            time.sleep(0.1)\n",
    "\n",
    "        measurement_start_time = time.time()\n",
    "\n",
    "        while time.time() <= measurement_start_time + runtime:\n",
    "            time.sleep(0.2)\n",
    "\n",
    "            # option to stop the measurement\n",
    "            if uglobals.abort.is_set():\n",
    "                print('Stopping the measurement!')\n",
    "                break\n",
    "\n",
    "        # option to stop the measurement\n",
    "        if uglobals.abort.is_set():\n",
    "            print('Stopping the measurement!')\n",
    "            pulsedmasterlogic.toggle_pulsed_measurement(False)\n",
    "            break\n",
    "\n",
    "        #time.sleep(1)\n",
    "\n",
    "        # Stop the measurement\n",
    "        pulsedmasterlogic.toggle_pulsed_measurement(False)\n",
    "\n",
    "        # Make sure it stopped (Wait until the Picoscope card sends the data)\n",
    "        while pulsedmasterlogic.status_dict['measurement_running']:\n",
    "            time.sleep(0.1)\n",
    "\n",
    "        #######################################################################################################\n",
    "        # Analysis\n",
    "        ######################################################################################################\n",
    "\n",
    "        fom_func = script_params['fom_function']\n",
    "        foms.append(fom_func())\n",
    "\n",
    "        idx += 1\n",
    "except:\n",
    "    logger.exception(\"\")"
   ]
  },
  {
   "cell_type": "code",
   "execution_count": 23,
   "metadata": {},
   "outputs": [
    {
     "data": {
      "text/plain": [
       "[0.9589866177042012, 0.9314062553314246, 0.9204528018277183, 0.9468571344512365, 0.939687336713447, 0.9309202765705349, 0.9345537287951344, 0.9508076454743132, 0.9479999788248301, 0.9325825199182931, 0.9406413078716659, 0.9521128178033342, 0.956781739141074, 0.9615869024125816, 0.9378610967992411, 0.9496335812693217, 0.9308360845997998, 0.935143199092061, 0.9478787018078025, 0.9364903690946673]"
      ]
     },
     "execution_count": 23,
     "metadata": {},
     "output_type": "execute_result"
    }
   ],
   "source": [
    "idx\n",
    "foms"
   ]
  },
  {
   "cell_type": "code",
   "execution_count": 24,
   "metadata": {},
   "outputs": [
    {
     "data": {
      "text/plain": [
       "(0.942161004775134, 0.010705545890841906)"
      ]
     },
     "execution_count": 24,
     "metadata": {},
     "output_type": "execute_result"
    }
   ],
   "source": [
    "np.mean(foms), np.std(np.asarray(foms))"
   ]
  },
  {
   "cell_type": "markdown",
   "metadata": {},
   "source": [
    "## Save the results"
   ]
  },
  {
   "cell_type": "code",
   "execution_count": 67,
   "metadata": {},
   "outputs": [],
   "source": [
    "try:\n",
    "    save_optimization_result(folder_path)\n",
    "except:\n",
    "    logger.exception(\"\")"
   ]
  },
  {
   "cell_type": "code",
   "execution_count": 86,
   "metadata": {},
   "outputs": [],
   "source": [
    "try:\n",
    "    optimizer_obj = optimizationlogic.optimization_obj\n",
    "    optimizer_obj.get_optimization_algorithm()\n",
    "except:\n",
    "    logger.exception(\"\")"
   ]
  },
  {
   "cell_type": "code",
   "execution_count": 77,
   "metadata": {},
   "outputs": [
    {
     "data": {
      "text/plain": [
       "{'interface_job_name': 'test_dCRAB_Noisy_2_control_fields', 'communication_obj': <quocslib.communication.AllInOneCommunication.AllInOneCommunication object at 0x000000AB15F83A20>, 'results_path': 'C:\\\\Software\\\\qudi\\\\QuOCS_Results\\\\20220723_202530_test_dCRAB_Noisy_2_control_fields', 'optimizer_attribute': <class 'quocslib.optimizationalgorithms.dCRABAlgorithm.dCRABAlgorithm'>}"
      ]
     },
     "execution_count": 77,
     "metadata": {},
     "output_type": "execute_result"
    }
   ],
   "source": [
    "optimizer_obj.__dict__"
   ]
  },
  {
   "cell_type": "code",
   "execution_count": 70,
   "metadata": {},
   "outputs": [],
   "source": [
    "pulses_list, time_grids_list, parameters_list = optimizer_obj.opt_alg_obj.get_best_controls()\n",
    "\n",
    "t_amplitude = time_grids_list[0]\n",
    "amplitude = pulses_list[0]\n",
    "t_phase = time_grids_list[1]\n",
    "phase = pulses_list[1]"
   ]
  },
  {
   "cell_type": "code",
   "execution_count": 71,
   "metadata": {},
   "outputs": [],
   "source": [
    "best_dict = optimizer_obj.opt_alg_obj.get_best_controls()\n",
    "\n",
    "pulses_list = best_dict['pulses']\n",
    "time_grids_list = best_dict['timegrids']\n",
    "parameters_list = best_dict['parameters']\n",
    "\n",
    "pulses_list"
   ]
  },
  {
   "cell_type": "code",
   "execution_count": 561,
   "metadata": {},
   "outputs": [
    {
     "data": {
      "text/plain": [
       "dict_keys(['pulses', 'parameters', 'timegrids'])"
      ]
     },
     "execution_count": 561,
     "metadata": {},
     "output_type": "execute_result"
    }
   ],
   "source": [
    "optimizer_obj.opt_alg_obj.get_best_controls().keys()"
   ]
  },
  {
   "cell_type": "markdown",
   "metadata": {},
   "source": [
    "## manually extract best pulse from result log"
   ]
  },
  {
   "cell_type": "code",
   "execution_count": 38,
   "metadata": {},
   "outputs": [
    {
     "data": {
      "text/plain": [
       "{'timegrid_ampl': array([0.00e+00, 1.00e-10, 2.00e-10, ..., 9.98e-08, 9.99e-08, 1.00e-07]), 'data_ampl': array([0.25      , 0.25      , 0.25      , ..., 0.15350565, 0.15412781,\n",
       "       0.15446573]), 'timegrid_phase': array([0.00e+00, 1.00e-10, 2.00e-10, ..., 9.98e-08, 9.99e-08, 1.00e-07]), 'data_phase': array([0.14782959, 0.15159753, 0.15526419, ..., 0.09661208, 0.09996444,\n",
       "       0.10314861])}"
      ]
     },
     "execution_count": 38,
     "metadata": {},
     "output_type": "execute_result"
    }
   ],
   "source": [
    "path = r\"C:\\Software\\qudi_data\\optimal_control_assets\\20220724_1\\20220723_202625_test_dCRAB_Noisy_2_control_fields\"\n",
    "file = r\"20220723_202625_best_controls\"\n",
    "pulse = TimeDependentSimulation.load_pulse(path, file, extension='npz')\n",
    "\n",
    "#path = r\"C:\\Software\\qudi_data\\optimal_control_assets\\20220724_1\"\n",
    "#file = r\"on_nv=2_\"\n",
    "#pulse = load_pulse(path, file, extension='txt')\n",
    "\n",
    "pulse"
   ]
  },
  {
   "cell_type": "code",
   "execution_count": 58,
   "metadata": {},
   "outputs": [],
   "source": [
    "import matplotlib.pyplot as plt\n",
    "    \n",
    "t_amplitude = pulse['timegrid_ampl']\n",
    "amplitude = pulse['data_ampl']\n",
    "t_phase = pulse['timegrid_phase']\n",
    "phase = pulse['data_phase']\n",
    "\n",
    "try:\n",
    "    plt.plot(t_amplitude*1e9, amplitude, label=\"Ampl (I)\")\n",
    "    plt.plot(t_phase*1e9, phase, label=\"Phase (Q)\")\n",
    "    plt.xlabel(\"time (ns)\")\n",
    "    plt.legend()\n",
    "    plt.show()\n",
    "except:\n",
    "    logger.exception(\"\")"
   ]
  },
  {
   "cell_type": "code",
   "execution_count": 116,
   "metadata": {},
   "outputs": [],
   "source": [
    "path = folder_path\n",
    "name = \"opt_pulse_\"\n",
    "\n",
    "data_ampl = np.column_stack((t_amplitude, amplitude))\n",
    "data_phase = np.column_stack((t_phase, phase))\n",
    "\n",
    "save_pulse(path, data_ampl, data_phase, name=name)"
   ]
  },
  {
   "cell_type": "code",
   "execution_count": null,
   "metadata": {},
   "outputs": [],
   "source": []
  }
 ],
 "metadata": {
  "kernelspec": {
   "display_name": "Qudi",
   "language": "python",
   "name": "qudi"
  },
  "language_info": {
   "codemirror_mode": {
    "name": "ipython",
    "version": "3.6.5"
   },
   "file_extension": ".py",
   "mimetype": "text/x-python",
   "name": "python",
   "nbconvert_exporter": "python",
   "pygments_lexer": "ipython3",
   "version": "3.6.5"
  },
  "toc": {
   "base_numbering": 1,
   "nav_menu": {},
   "number_sections": true,
   "sideBar": true,
   "skip_h1_title": false,
   "title_cell": "Table of Contents",
   "title_sidebar": "Contents",
   "toc_cell": false,
   "toc_position": {
    "height": "calc(100% - 180px)",
    "left": "10px",
    "top": "150px",
    "width": "384px"
   },
   "toc_section_display": true,
   "toc_window_display": true
  },
  "varInspector": {
   "cols": {
    "lenName": 16,
    "lenType": 16,
    "lenVar": 40
   },
   "kernels_config": {
    "python": {
     "delete_cmd_postfix": "",
     "delete_cmd_prefix": "del ",
     "library": "var_list.py",
     "varRefreshCmd": "print(var_dic_list())"
    },
    "r": {
     "delete_cmd_postfix": ") ",
     "delete_cmd_prefix": "rm(",
     "library": "var_list.r",
     "varRefreshCmd": "cat(var_dic_list()) "
    }
   },
   "position": {
    "height": "751px",
    "left": "1538px",
    "right": "20px",
    "top": "120px",
    "width": "325px"
   },
   "types_to_exclude": [
    "module",
    "function",
    "builtin_function_or_method",
    "instance",
    "_Feature"
   ],
   "window_display": true
  }
 },
 "nbformat": 4,
 "nbformat_minor": 2
}
