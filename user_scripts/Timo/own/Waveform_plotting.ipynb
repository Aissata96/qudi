{
 "cells": [
  {
   "cell_type": "code",
   "execution_count": 7,
   "metadata": {},
   "outputs": [],
   "source": [
    "import os\n",
    "import matplotlib.pyplot as plt\n",
    "\n",
    "from user_scripts.Timo.own.keysight_plot_waves import KeysightPlotter\n",
    "\n",
    "samplerate = awg8190.get_sample_rate()\n",
    "dac_res = awg8190._dac_resolution\n",
    "plotter = KeysightPlotter(dac_res, samplerate)"
   ]
  },
  {
   "cell_type": "markdown",
   "metadata": {},
   "source": [
    "# Lib"
   ]
  },
  {
   "cell_type": "code",
   "execution_count": 10,
   "metadata": {},
   "outputs": [],
   "source": [
    "def plot_waveform(wave_dict):\n",
    "    \n",
    "    t = wave_dict['t'] * 1e6\n",
    "    \n",
    "    plt.plot(t, wave_dict['a_ch1'], label=\"a_ch1\", color=\"blue\")\n",
    "    plt.plot(t, wave_dict['d_ch1'] - 2, label=\"d_ch1\", color=\"orange\")\n",
    "    plt.plot(t, wave_dict['d_ch2'] - 3, label=\"d_ch2\", color=\"green\")\n",
    "\n",
    "    try:\n",
    "        plt.plot(t, wave_dict['a_ch2'] - 4, label=\"a_ch2\", color=\"blue\")\n",
    "        plt.plot(t, wave_dict['d_ch3'] - 5, label=\"d_ch3\", color=\"orange\")\n",
    "        plt.plot(t, wave_dict['d_ch4'] - 6, label=\"d_ch4\", color=\"green\")\n",
    "    except:\n",
    "        pass    # no a_ch2 for bin8\n",
    "\n",
    "    plt.xlabel(\"t (us)\")\n",
    "    plt.legend()\n",
    "    plt.show()"
   ]
  },
  {
   "cell_type": "markdown",
   "metadata": {},
   "source": [
    "# Load wave file"
   ]
  },
  {
   "cell_type": "code",
   "execution_count": 7,
   "metadata": {},
   "outputs": [
    {
     "name": "stdout",
     "output_type": "stream",
     "text": [
      "Loading waveforms file1: C:\\qudi\\pulsed_files\\ise+ramsey_pen_ch1.bin, file2: C:\\qudi\\pulsed_files\\ise+ramsey_pen_ch2.bin. Mode: bin\n",
      "Debug: Starting decoding 244656 int16 values.\n",
      "Debug: Decode done.\n",
      "Debug: Starting decoding 244656 int16 values.\n"
     ]
    },
    {
     "data": {
      "text/plain": [
       "0"
      ]
     },
     "execution_count": 7,
     "metadata": {},
     "output_type": "execute_result"
    }
   ],
   "source": [
    "fname = r\"C:\\qudi\\pulsed_files\" + \"\\\\\" \\\n",
    "        + \"ise+ramsey_pen_ch1.bin\"\n",
    "\n",
    "fname = os.path.normpath(fname)\n",
    "wave = plotter.load_data(fname)\n",
    "0"
   ]
  },
  {
   "cell_type": "code",
   "execution_count": 11,
   "metadata": {},
   "outputs": [
    {
     "data": {
      "image/png": "[encoded data removed]"
     },
     "metadata": {
      "image/png": {
       "height": 375,
       "width": 541
      }
     },
     "output_type": "display_data"
    }
   ],
   "source": [
    "plot_waveform(wave)"
   ]
  },
  {
   "cell_type": "code",
   "execution_count": null,
   "metadata": {},
   "outputs": [],
   "source": []
  }
 ],
 "metadata": {
  "kernelspec": {
   "display_name": "Qudi",
   "language": "python",
   "name": "qudi"
  },
  "language_info": {
   "codemirror_mode": {
    "name": "ipython",
    "version": "3.6.5"
   },
   "file_extension": ".py",
   "mimetype": "text/x-python",
   "name": "python",
   "nbconvert_exporter": "python",
   "pygments_lexer": "ipython3",
   "version": "3.6.5"
  },
  "toc": {
   "base_numbering": 1,
   "nav_menu": {},
   "number_sections": true,
   "sideBar": true,
   "skip_h1_title": false,
   "title_cell": "Table of Contents",
   "title_sidebar": "Contents",
   "toc_cell": false,
   "toc_position": {},
   "toc_section_display": true,
   "toc_window_display": false
  },
  "varInspector": {
   "cols": {
    "lenName": 16,
    "lenType": 16,
    "lenVar": 40
   },
   "kernels_config": {
    "python": {
     "delete_cmd_postfix": "",
     "delete_cmd_prefix": "del ",
     "library": "var_list.py",
     "varRefreshCmd": "print(var_dic_list())"
    },
    "r": {
     "delete_cmd_postfix": ") ",
     "delete_cmd_prefix": "rm(",
     "library": "var_list.r",
     "varRefreshCmd": "cat(var_dic_list()) "
    }
   },
   "types_to_exclude": [
    "module",
    "function",
    "builtin_function_or_method",
    "instance",
    "_Feature"
   ],
   "window_display": true
  }
 },
 "nbformat": 4,
 "nbformat_minor": 2
}
