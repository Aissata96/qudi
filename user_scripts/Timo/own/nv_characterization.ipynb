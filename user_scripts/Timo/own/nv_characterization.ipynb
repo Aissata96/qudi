{
 "cells": [
  {
   "cell_type": "markdown",
   "metadata": {},
   "source": [
    "# Import"
   ]
  },
  {
   "cell_type": "code",
   "execution_count": 7,
   "metadata": {
    "pycharm": {
     "is_executing": false,
     "name": "#%%\n"
    }
   },
   "outputs": [],
   "source": [
    "#path_essentials = '/Users/Setup3-PC/Desktop/qudi/logic/setup3_logic/script_logic_essentials.py'\n",
    "path_essentials = 'user_scripts/Timo/from_Simon/script_logic_essentials.py'\n",
    "path_toolkit = 'user_scripts/Timo/own/logic_toolkit.py'\n",
    "path_curdir = 'user_scripts/Timo/own/'\n",
    "import os, time, sys\n",
    "import numpy as np\n",
    "import copy\n",
    "\n",
    "from logic.pulsed.predefined_generate_methods.pentacene_methods import DeerAltModes\n",
    "from logic.pulsed.sampling_functions import DDMethods\n",
    "from logic.pulsed.sampling_function_defs.sampling_functions_nvision import EnvelopeMethods as Evm\n",
    "from user_scripts.Timo.own.console_toolkit import Tk_file, Tk_string\n",
    "\n",
    "# import essentials via run\n",
    "exec(open(path_essentials).read())\n",
    "exec(open(path_toolkit).read())\n",
    "# usual module imports\n",
    "sys.path.append(path_curdir)\n",
    "\n",
    "\n",
    "import logging\n",
    "logging.basicConfig(filename='logfile.log', filemode='w', level=logging.DEBUG)\n",
    "logger = logging.getLogger(__name__)\n",
    "\n",
    "# configure this notebook\n",
    "config_matplotlib_jupyter()\n",
    "\n",
    "memory_dict=OrderedDict()\n",
    "print_welcome_msg()\n",
    "0"
   ]
  },
  {
   "cell_type": "markdown",
   "metadata": {},
   "source": [
    "# Common parameters"
   ]
  },
  {
   "cell_type": "code",
   "execution_count": 8,
   "metadata": {
    "pycharm": {
     "is_executing": false,
     "name": "#%%\n"
    }
   },
   "outputs": [
    {
     "data": {
      "text/plain": [
       "(True, 18.299999999999997)"
      ]
     },
     "execution_count": 8,
     "metadata": {},
     "output_type": "execute_result"
    }
   ],
   "source": [
    "class Common(object):\n",
    "    def __init__(self):\n",
    "        # MW parameters\n",
    "        self.rabi_period_rect = 50.3e-9 #34.3e-9 #12.75e-9#57.2e-9#94.5e-9 # 87.0e-9 #118.1e-9 #M2 149.1e-9#760e-9#245.5e-9 #159.5e-9\n",
    "        self.rabi_shaped = {'shaped_on':True, 'period': 18.30e-9, 'env_type': Evm.parabola, 'order_P':1}\n",
    "        self.mw_freq =   2312.74e6#2784.1e6 #2732.0e6 # 2774.0e6# 2786.2e6 #2775.0e6#827.64e6 #M2 1503.592e6 #M15, 1507.455e6  #1507.747#7e6  #1503.336e6  #2656.5e6#NV M3 1.497129e9 #NV M2 1.503316e9 \n",
    "        #self.mw_freq = 2313.90e6 # only right HFS line\n",
    "        self.mw_amp = 0.25\n",
    "\n",
    "        # Readout\n",
    "        # RELOAD logic_essentials and upload new seq when changing!\n",
    "        self.t_laser_pulsed = 3e-6   # for pulsed mes (non NI acq)\n",
    "        self.t_wait_pulsed = 1e-6\n",
    "        self.t_laser = None\n",
    "        self.t_laser_green_init = 3e-6\n",
    "        self.t_laser_red_read = 1000e-9\n",
    "\n",
    "        # Ramsey\n",
    "        self.mw_ramsey_offset = 1000e3   # Hz, detuning, \n",
    "        self.mw_ramsey_off_from_calib = 0e3 #0.1e6 #[0.66e6, 0.72e6]   # Hz, detuning,taken for checking valid\n",
    "\n",
    "        # MFL XY8\n",
    "        self.gamma_n_c13 = 1.0705e3 * 2*np.pi # 13-C\n",
    "    \n",
    "    @property\n",
    "    def rabi_period(self):\n",
    "        \n",
    "        if self.rabi_shaped['shaped_on']:\n",
    "            return self.rabi_shaped['period']\n",
    "        return self.rabi_period_rect\n",
    "    \n",
    "    @staticmethod\n",
    "    def f_res_2_B_gauss(f_res):\n",
    "        # only true if B well aligned\n",
    "        return abs(f_res-2.87e9)/2.8e6\n",
    "    \n",
    "\n",
    "    \n",
    "common = Common()\n",
    "b_str = f\"B= {Common.f_res_2_B_gauss(common.mw_freq):.2f} G from common.mw_freq\"\n",
    "b_str\n",
    "logger.info(b_str)\n",
    "\n",
    "\"\"\"\n",
    "# MW parameters\n",
    "common.rabi_period_rect = 12.83e-9#57.2e-9#94.5e-9 # 87.0e-9 #118.1e-9 #M2 149.1e-9#760e-9#245.5e-9 #159.5e-9\n",
    "common.rabi_shaped = {'shaped_on':False, 'period': 18.55-9, 'env_type': Evm.parabola, 'order_P':1}\n",
    "common.mw_freq =  1507.23e6#2784.1e6 #2732.0e6 # 2774.0e6# 2786.2e6 #2775.0e6#827.64e6 #M2 1503.592e6 #M15, 1507.455e6  #1507.747#7e6  #1503.336e6  #2656.5e6#NV M3 1.497129e9 #NV M2 1.503316e9 \n",
    "#common.mw_freq = 2811.9e6 # only left HFS line\n",
    "common.mw_amp = 0.25\n",
    "\n",
    "# Readout\n",
    "# RELOAD logic_essentials and upload new seq when changing!\n",
    "common.t_laser_pulsed = 3e-6   # for pulsed mes (non NI acq)\n",
    "common.t_wait_pulsed = 1e-6\n",
    "common.t_laser = None\n",
    "common.t_laser_green_init = 3e-6\n",
    "common.t_laser_red_read = 1000e-9\n",
    "\n",
    "# Ramsey\n",
    "common.mw_ramsey_offset = 1000e3   # Hz, detuning, \n",
    "common.mw_ramsey_off_from_calib = 0e3 #0.1e6 #[0.66e6, 0.72e6]   # Hz, detuning,taken for checking valid\n",
    "\n",
    "\n",
    "# MFL XY8\n",
    "gamma_n_c13 = 1.0705e3 * 2*np.pi # 13-C\n",
    "\"\"\"\n",
    "\n",
    "common.rabi_shaped['shaped_on'], 1e9*common.rabi_period"
   ]
  },
  {
   "cell_type": "code",
   "execution_count": null,
   "metadata": {},
   "outputs": [],
   "source": []
  },
  {
   "cell_type": "markdown",
   "metadata": {},
   "source": [
    "# Library"
   ]
  },
  {
   "cell_type": "markdown",
   "metadata": {},
   "source": [
    "## nb specific"
   ]
  },
  {
   "cell_type": "code",
   "execution_count": 11,
   "metadata": {},
   "outputs": [],
   "source": [
    "\n",
    "def add_shaped(qmeas):\n",
    "    if common.rabi_shaped['shaped_on']:\n",
    "        qmeas['env_type'] = common.rabi_shaped['env_type']\n",
    "        qmeas['order_P'] = common.rabi_shaped['order_P']\n",
    "    else:\n",
    "        # to make sure that default of generate method is overwritten\n",
    "        qmeas['env_type'] = Evm.rectangle\n",
    "        \n",
    "    return qmeas\n",
    "    \n",
    "\n",
    "def calc_nuclear_rabi_hfs_boost(B_gauss, ms=-1, n_nuc=15):\n",
    "    # Chen (2015)\n",
    "    # Sangtawesin (2016)\n",
    "    \n",
    "    if n_nuc == 14:\n",
    "        q_quadro = -4.945e6\n",
    "        a_par = -2.162e6 # 14-n\n",
    "        a_perp = 2.62e6\n",
    "        gamma_n = -0.308e3  \n",
    "    elif n_nuc == 15:\n",
    "        q_quadro = 0  # spin=1/2 has no quadropolar moment\n",
    "        a_par = 3.03e6\n",
    "        a_perp = 3.65e6\n",
    "        gamma_n = 0.432e3\n",
    "        \n",
    "    else:\n",
    "        raise ValueError(\"Can only be 14-N or 15-N\")\n",
    "        \n",
    "    gamma_e = 2.8e6\n",
    "    delta = 2.87e9\n",
    "    \n",
    "    if ms == -1:\n",
    "        alpha = 1 + gamma_e/gamma_n* a_perp / (delta-gamma_e*B_gauss-a_par+gamma_n*B_gauss+q_quadro)\n",
    "    else:\n",
    "        raise ValueError(\"m_s can only be 0/1/-1\")\n",
    "    \n",
    "    return abs(alpha)\n",
    "\n",
    "def setup_ise_ramsey_dd_params(tau, n_tau, n_order_dd, f_rf, t_pi_rf, amp_rf=0.25, rf_ch='a_ch2', dd_type=DDMethods.SE,\n",
    "                               t_laser=1e-6, mw_sweep_speed=3e12, f_ise_res=1e9, df_mw_sweep=30e6, amp_mw_sweep=0.25,\n",
    "                               alternating=True, autosave=-1, red_readout=False):\n",
    "    qmeas=OrderedDict()\n",
    "    qmeas['name'] = 'ise+ramsey+rf_dd'\n",
    "    qmeas['experiment'] = 'pol_ramsey_rf_dd'\n",
    "    \n",
    "    if not red_readout:\n",
    "        setup['laser_length'] = common.t_laser_pulsed\n",
    "    else:\n",
    "        qmeas['t_laser_init'] = common.t_laser_green_init\n",
    "        qmeas['laser_read_ch'] = 'd_ch3'\n",
    "        setup['laser_length'] = common.t_laser_red_read\n",
    "    \n",
    "    setup['wait_time'] = common.t_wait_pulsed\n",
    "    \n",
    "    qmeas['microwave_frequency'] = common.mw_freq \n",
    "    qmeas['microwave_amplitude'] = common.mw_amp\n",
    "    \n",
    "    qmeas['tau'] = tau\n",
    "    qmeas['n_tau'] = n_tau\n",
    "    qmeas['n_order_pi_rf'] = n_order_dd\n",
    "    qmeas['dd_type'] = dd_type\n",
    "    qmeas['f_rf'] = f_rf\n",
    "    qmeas['t_pi_rf'] = t_pi_rf\n",
    "    qmeas['amp_rf'] = amp_rf\n",
    "    qmeas['rf_channel'] = rf_ch\n",
    "    qmeas['t_laser'] = t_laser\n",
    "    qmeas['mw_sweep_speed'] = mw_sweep_speed\n",
    "    qmeas['amp_mw_sweep'] = amp_mw_sweep\n",
    "    qmeas['f_ise_res'] = f_ise_res\n",
    "    qmeas['df_mw_sweep'] = df_mw_sweep\n",
    "    \n",
    "    qmeas['measurement_time'] = 99999 \n",
    "    qmeas['optimize_time'] = None\n",
    "    qmeas['autosave_s'] = autosave\n",
    "    \n",
    "    qmeas['alternating'] = alternating\n",
    "    \n",
    "    return qmeas\n",
    "\n",
    "def setup_deer_f_params(f_res, he_tau=200e-9, f_step=2e6, n_f=50, two_deer_pi=True, pi_len=None, read_phases='0, 180',\n",
    "                       deer_ampl=None):\n",
    "    qmeas=OrderedDict()\n",
    "    qmeas['name'] = 'deer_spectrum'\n",
    "    setup['laser_length'] = common.t_laser_pulsed\n",
    "    setup['wait_time'] = common.t_wait_pulsed\n",
    "\n",
    "    qmeas['freq_step'] = f_step\n",
    "    qmeas['num_of_points'] = n_f\n",
    "    qmeas['freq_start'] = f_res - (qmeas['freq_step'] * qmeas['num_of_points'])/2.\n",
    "\n",
    "    qmeas['measurement_time'] = 150000 \n",
    "    qmeas['optimize_time'] = None\n",
    "    \n",
    "    qmeas['alternating'] = True\n",
    "    qmeas['two_deer_pi'] = two_deer_pi\n",
    "    qmeas['he_tau'] = he_tau\n",
    "    if not deer_ampl:\n",
    "        qmeas['deer_amp'] = common.mw_amp\n",
    "    else:\n",
    "        qmeas['deer_amp'] = deer_ampl\n",
    "    if not pi_len:\n",
    "        qmeas['pi_len'] = common.rabi_period/2\n",
    "    else:\n",
    "        qmeas['pi_len'] = pi_len\n",
    "    \n",
    "    qmeas['read_phase_degree'] = read_phases\n",
    "    \n",
    "    return qmeas\n",
    "\n",
    "def setup_deer_rabi_params(deer_freq, tau_start=10e-9, tau_step=1e-6, n_tau=50, \n",
    "                      he_tau=300e-9, read_phases='0, 180', deer_ampl=None,\n",
    "                      two_deer_pi=True):\n",
    "    qmeas=OrderedDict()\n",
    "    qmeas['name'] = 'deer_rabi'\n",
    "    setup['laser_length'] = common.t_laser_pulsed\n",
    "    setup['wait_time'] = common.t_wait_pulsed\n",
    "\n",
    "    qmeas['tau_start'] = tau_start\n",
    "    qmeas['num_of_taus'] = n_tau\n",
    "    qmeas['tau_step'] = tau_step\n",
    "\n",
    "    qmeas['measurement_time'] = 99999 \n",
    "    qmeas['optimize_time'] = None\n",
    "    \n",
    "\n",
    "    qmeas['he_tau'] = he_tau\n",
    "    qmeas['two_deer_pi'] = two_deer_pi\n",
    "    if not deer_ampl:\n",
    "        qmeas['deer_amp'] = common.mw_amp\n",
    "    else:\n",
    "        qmeas['deer_amp'] = deer_ampl\n",
    "    qmeas['deer_freq'] = deer_freq\n",
    "\n",
    "    \n",
    "    qmeas['alternating'] = True\n",
    "    qmeas['read_phase_degree'] = read_phases\n",
    "    \n",
    "    return qmeas\n",
    "\n",
    "\n",
    "def setup_deer_params(deer_freq, tau_start=10e-9, tau_step=1e-6, n_tau=50, \n",
    "                      he_tau=300e-9, second_rabi_period=None,\n",
    "                      two_deer_pi=True):\n",
    "    qmeas=OrderedDict()\n",
    "    qmeas['name'] = 'DEER'\n",
    "    setup['laser_length'] = common.t_laser_pulsed\n",
    "    setup['wait_time'] = common.t_wait_pulsed\n",
    "\n",
    "    qmeas['tau_start'] = tau_start\n",
    "    qmeas['num_of_points'] = n_tau\n",
    "    qmeas['tau_step'] = tau_step\n",
    "\n",
    "    qmeas['measurement_time'] = 99999 \n",
    "    qmeas['optimize_time'] = None\n",
    "    \n",
    "\n",
    "    qmeas['he_tau'] = he_tau\n",
    "    qmeas['two_deer_pi'] = two_deer_pi\n",
    "\n",
    "    qmeas['deer_amp'] = common.mw_amp\n",
    "    qmeas['deer_freq'] = deer_freq\n",
    "    if not second_rabi_period:\n",
    "        qmeas['second_rabi_period'] = common.rabi_period\n",
    "    else:\n",
    "        qmeas['second_rabi_period'] = second_rabi_period\n",
    "   \n",
    "    qmeas['alternating'] = True\n",
    "    \n",
    "    return qmeas\n",
    "\n",
    "\n",
    "def setup_ramsey_deer_pi_params(f_deer, t_pi_deer, \n",
    "                                tau_start=100e-9, n_tau=1, tau_step=None,\n",
    "                                alternating_mode=DeerAltModes.NVPi3Half,\n",
    "                                two_deer_pi=False):\n",
    "    qmeas=OrderedDict()\n",
    "    qmeas['name'] = 'Ramsey_deer_pi'\n",
    "    qmeas['experiment'] = 'ramsey_deer_pi'\n",
    "    setup['laser_length'] = common.t_laser_pulsed\n",
    "    \n",
    "    qmeas['rabi_period'] = common.rabi_period\n",
    "    qmeas['microwave_frequency'] = common.mw_freq \n",
    "    qmeas['microwave_amplitude'] = common.mw_amp\n",
    "    qmeas['tau_start'] = tau_start\n",
    "    if tau_step is None:\n",
    "        qmeas['tau_step'] = 50e-9\n",
    "    else:\n",
    "        qmeas['tau_step'] = tau_step\n",
    "    qmeas['num_of_points'] = n_tau\n",
    "    qmeas['alternating_mode'] = alternating_mode\n",
    "    \n",
    "    qmeas['from_list'] = False\n",
    "    \n",
    "    qmeas['optimize_time'] = None\n",
    "    #qmeas['freq_optimization_time'] = None\n",
    "    #qmeas['analysis_interval'] = 3\n",
    "    if n_tau > 1:\n",
    "        qmeas['fit_experiment'] = 'sine'\n",
    "     \n",
    "    qmeas['f_mw_deer'] = f_deer\n",
    "    qmeas['t_pi_deer'] = t_pi_deer\n",
    "    qmeas['two_deer_pi'] = two_deer_pi\n",
    "    \n",
    "    return qmeas\n",
    "\n",
    "def setup_podmr_deer_pi_params(f_res, f_deer, t_pi_deer, \n",
    "                               p_scale=10, p_scale_onlyperiod=1, f_step=0.1e6, n_f=50, t_pi_manual=None):\n",
    "    # @param p_scale_onlyperiod: scales rabi period according to given power factor.\n",
    "    #                            useful, if externally controlling poewr\n",
    "    qmeas=OrderedDict()\n",
    "    qmeas['name'] = 'pulsedodmr_deer_pi'\n",
    "    qmeas['experiment'] = 'pulsedodmr_deer_pi'\n",
    "    setup['laser_length'] = common.t_laser_pulsed\n",
    "    setup['wait_time'] = common.t_wait_pulsed\n",
    "    if t_pi_manual:\n",
    "        qmeas['rabi_period'] = 2*t_pi_manual\n",
    "    else:\n",
    "        qmeas['rabi_period'] = common.rabi_period*p_scale*p_scale_onlyperiod\n",
    "    qmeas['freq_step'] = f_step\n",
    "    qmeas['num_of_points'] = n_f\n",
    "    qmeas['freq_start'] = f_res - (qmeas['freq_step'] * qmeas['num_of_points'])/2.\n",
    "    if p_scale != 1:\n",
    "        qmeas['microwave_amplitude'] = common.mw_amp/(p_scale)\n",
    "        qmeas['deer_amplitude'] = common.mw_amp\n",
    "    else:\n",
    "        qmeas['microwave_amplitude'] = common.mw_amp\n",
    "        qmeas['deer_amplitude'] = common.mw_amp\n",
    "    qmeas['measurement_time'] = 1500 \n",
    "    qmeas['optimize_time'] = None\n",
    "    qmeas['fit_experiment'] = 'lor_dip'\n",
    "    \n",
    "    qmeas['f_mw_deer'] = f_deer\n",
    "    qmeas['t_pi_deer'] = t_pi_deer\n",
    "    \n",
    "    return qmeas\n",
    "\n",
    "\n",
    "\n",
    "def run_deer_f(mes_params, save_tag=None, generate_new=True):\n",
    "    laser_off()\n",
    "    if save_tag is None:\n",
    "        save_tag='deer_f'\n",
    "    do_experiment(experiment='deer_spectrum', qm_dict=mes_params, meas_type=conventional_measurement, meas_info=add_conventional_information, \n",
    "                  generate_new=generate_new, save_tag=save_tag, load_tag='')\n",
    "\n",
    "def run_deer(mes_params, save_tag=None, generate_new=True):\n",
    "    laser_off()\n",
    "    if save_tag is None:\n",
    "        save_tag='deer'\n",
    "    do_experiment(experiment='DEER', qm_dict=mes_params, meas_type=conventional_measurement, meas_info=add_conventional_information, \n",
    "                  generate_new=generate_new, save_tag=save_tag, load_tag='')\n",
    "\n",
    "\n",
    "def run_deer_rabi(mes_params, save_tag=None, generate_new=True):\n",
    "    laser_off()\n",
    "    if save_tag is None:\n",
    "        save_tag='deer_rabi'\n",
    "    do_experiment(experiment='deer_rabi', qm_dict=mes_params, meas_type=conventional_measurement, meas_info=add_conventional_information, \n",
    "                  generate_new=generate_new, save_tag=save_tag, load_tag='')\n",
    "\n",
    "\n",
    "    \n",
    "def run_deer_pi_start(mes_params, save_tag=None, generate_new=True):\n",
    "    laser_off()\n",
    "    if save_tag is None:\n",
    "        save_tag='deer_pi_start'\n",
    "    do_experiment(experiment='DEER_pi_start', qm_dict=mes_params, meas_type=conventional_measurement, meas_info=add_conventional_information, \n",
    "                  generate_new=generate_new, save_tag=save_tag, load_tag='')\n",
    "    \n",
    "def setup_double_hh_f_params(f_start=0e6, n_f=50, f_step=1e6, spinlock_length=100e-9,\n",
    "                             ampl_spinlock=0.25, ampl_dress2=0.25):\n",
    "    qmeas=OrderedDict()\n",
    "    qmeas['name'] = 'HH_double_f'\n",
    "    qmeas['experiment'] = 'HH_double_fsweep'\n",
    "    setup['laser_length'] = common.t_laser_pulsed\n",
    "    \n",
    "    qmeas['rabi_period'] = common.rabi_period\n",
    "    qmeas['microwave_frequency'] = common.mw_freq \n",
    "    qmeas['microwave_amplitude'] = common.mw_amp\n",
    "    qmeas['f_start'] = f_start\n",
    "    if f_step is None:\n",
    "        qmeas['f_step'] = 1e6\n",
    "    else:\n",
    "        qmeas['f_step'] = f_step\n",
    "    qmeas['num_of_points'] = n_f\n",
    "    \n",
    "    qmeas['spinlock_length'] = spinlock_length\n",
    "    qmeas['ampl_spinlock'] = ampl_spinlock\n",
    "    qmeas['ampl_dress2'] = ampl_dress2\n",
    "    qmeas['phase_dress2'] = 90\n",
    "    \n",
    "    qmeas['wait_time'] = common.t_wait_pulsed\n",
    "    \n",
    "    qmeas['optimize_time'] = None\n",
    "    #qmeas['freq_optimization_time'] = None\n",
    "    #qmeas['analysis_interval'] = 3\n",
    " \n",
    "    #qmeas = setup_penta_laser_analysis(qmeas)\n",
    "    #qmeas = setup_penta_fastcounter_settings(qmeas)\n",
    "    \n",
    "    return qmeas\n",
    "\n",
    "def setup_double_hh_tau_params(f_dress2=10e6, n_tau=50, tau_start=10e-9, tau_step=100e-9,\n",
    "                             ampl_spinlock=0.25, ampl_dress2=0.25):\n",
    "    qmeas=OrderedDict()\n",
    "    qmeas['name'] = 'HH_double_tau'\n",
    "    qmeas['experiment'] = 'HH_double_tau'\n",
    "    setup['laser_length'] = common.t_laser_pulsed\n",
    "    \n",
    "    qmeas['rabi_period'] = common.rabi_period\n",
    "    qmeas['microwave_frequency'] = common.mw_freq \n",
    "    qmeas['microwave_amplitude'] = common.mw_amp\n",
    "    qmeas['tau_start'] = tau_start\n",
    "    qmeas['tau_step'] = tau_step\n",
    "    qmeas['num_of_points'] = n_tau\n",
    "    \n",
    "    qmeas['dress2_f'] = f_dress2\n",
    "    qmeas['ampl_spinlock'] = ampl_spinlock\n",
    "    qmeas['ampl_dress2'] = ampl_dress2\n",
    "    qmeas['phase_dress2'] = 90\n",
    "    \n",
    "    qmeas['wait_time'] = common.t_wait_pulsed\n",
    "    \n",
    "    qmeas['optimize_time'] = None\n",
    "    #qmeas['freq_optimization_time'] = None\n",
    "    #qmeas['analysis_interval'] = 3\n",
    " \n",
    "    #qmeas = setup_penta_laser_analysis(qmeas)\n",
    "    #qmeas = setup_penta_fastcounter_settings(qmeas)\n",
    "    \n",
    "    return qmeas\n",
    "\n",
    "def setup_double_hh_dsl_tau_params(f_dress2=10e6, n_tau=50, tau_start=10e-9, tau_step=100e-9,\n",
    "                             ampl_spinlock=0.25, ampl_pi2_dress2=0.1, ampl_dress2=0.25, t_rabi_dress2=100e-9,\n",
    "                                  alternating_dress2_init=False):\n",
    "    qmeas=OrderedDict()\n",
    "    qmeas['name'] = 'HH_double_dsl_tau'\n",
    "    qmeas['experiment'] = 'HH_double_dsl_tau'\n",
    "    setup['laser_length'] = common.t_laser_pulsed\n",
    "    \n",
    "    qmeas['rabi_period'] = common.rabi_period\n",
    "    qmeas['microwave_frequency'] = common.mw_freq \n",
    "    qmeas['microwave_amplitude'] = common.mw_amp\n",
    "    qmeas['tau_start'] = tau_start\n",
    "    qmeas['tau_step'] = tau_step\n",
    "    qmeas['num_of_points'] = n_tau\n",
    "    \n",
    "    qmeas['dress2_f'] = f_dress2\n",
    "    qmeas['ampl_spinlock'] = ampl_spinlock\n",
    "    qmeas['ampl_dress2'] = ampl_dress2\n",
    "    qmeas['ampl_pi2_dress2'] = ampl_pi2_dress2\n",
    "    qmeas['t_rabi_dress2'] = t_rabi_dress2\n",
    "    qmeas['phase_dress2'] = 90\n",
    "    qmeas['alternating_pi2_dress2'] = alternating_dress2_init\n",
    "    \n",
    "    qmeas['wait_time'] = common.t_wait_pulsed\n",
    "    \n",
    "    qmeas['optimize_time'] = None\n",
    "    #qmeas['freq_optimization_time'] = None\n",
    "    #qmeas['analysis_interval'] = 3\n",
    " \n",
    "    #qmeas = setup_penta_laser_analysis(qmeas)\n",
    "    #qmeas = setup_penta_fastcounter_settings(qmeas)\n",
    "    \n",
    "    return qmeas\n",
    "\n",
    "\n",
    "def setup_double_hh_ise_tau_params(f_dress2=10e6, n_tau=50, tau_start=10e-9, tau_step=100e-9,\n",
    "                             ampl_spinlock=0.25, df_ise=300e3, ampl_ise=0.1, sweep_speed_ise=0.1e12,\n",
    "                                  alternating_depol=False):\n",
    "    qmeas=OrderedDict()\n",
    "    qmeas['name'] = 'HH_double_ise_tau'\n",
    "    qmeas['experiment'] = 'HH_double_ise_tau'\n",
    "    setup['laser_length'] = common.t_laser_pulsed\n",
    "    \n",
    "    qmeas['rabi_period'] = common.rabi_period\n",
    "    qmeas['microwave_frequency'] = common.mw_freq \n",
    "    qmeas['microwave_amplitude'] = common.mw_amp\n",
    "    qmeas['tau_start'] = tau_start\n",
    "    qmeas['tau_step'] = tau_step\n",
    "    qmeas['num_of_points'] = n_tau\n",
    "    \n",
    "    qmeas['dress2_f'] = f_dress2\n",
    "    qmeas['ampl_spinlock'] = ampl_spinlock\n",
    "    qmeas['ampl_ise'] = ampl_ise\n",
    "    qmeas['sweep_speed_ise'] = sweep_speed_ise\n",
    "    qmeas['df_ise'] = df_ise\n",
    "    qmeas['alternating_pol'] = alternating_depol\n",
    "    \n",
    "    qmeas['wait_time'] = common.t_wait_pulsed\n",
    "    \n",
    "    qmeas['optimize_time'] = None\n",
    "    #qmeas['freq_optimization_time'] = None\n",
    "    #qmeas['analysis_interval'] = 3\n",
    " \n",
    "    #qmeas = setup_penta_laser_analysis(qmeas)\n",
    "    #qmeas = setup_penta_fastcounter_settings(qmeas)\n",
    "    \n",
    "    return qmeas\n",
    "\n",
    "def setup_double_hh_ise_ramsey_params(f_dress2=10e6, n_tau=50, tau_start=10e-9, tau_step=100e-9, tau_ise=10e-6,\n",
    "                             ampl_spinlock=0.25, df_ise=300e3, ampl_ise=0.1, sweep_speed_ise=0.1e12,\n",
    "                                  alternating_depol=False):\n",
    "    qmeas=OrderedDict()\n",
    "    qmeas['name'] = 'HH_double_ise_ramsey'\n",
    "    qmeas['experiment'] = 'HH_double_ise_ramsey'\n",
    "    setup['laser_length'] = common.t_laser_pulsed\n",
    "    \n",
    "    qmeas['rabi_period'] = common.rabi_period\n",
    "    qmeas['microwave_frequency'] = common.mw_freq \n",
    "    qmeas['microwave_amplitude'] = common.mw_amp\n",
    "    qmeas['tau_ram_start'] = tau_start\n",
    "    qmeas['tau_ram_step'] = tau_step\n",
    "    qmeas['num_of_points'] = n_tau\n",
    "    \n",
    "    qmeas['tau_ise'] = tau_ise\n",
    "    qmeas['dress2_f'] = f_dress2\n",
    "    qmeas['ampl_spinlock'] = ampl_spinlock\n",
    "    qmeas['ampl_ise'] = ampl_ise\n",
    "    qmeas['sweep_speed_ise'] = sweep_speed_ise\n",
    "    qmeas['df_ise'] = df_ise\n",
    "    qmeas['alternating_pol'] = alternating_depol\n",
    "    \n",
    "    qmeas['wait_time'] = common.t_wait_pulsed\n",
    "    \n",
    "    qmeas['optimize_time'] = None\n",
    "    #qmeas['freq_optimization_time'] = None\n",
    "    #qmeas['analysis_interval'] = 3\n",
    " \n",
    "    #qmeas = setup_penta_laser_analysis(qmeas)\n",
    "    #qmeas = setup_penta_fastcounter_settings(qmeas)\n",
    "    \n",
    "    return qmeas\n",
    "\n",
    "def setup_double_hh_ise_dhh_f_params(f_dress2=10e6, n_tau=50, f_start=10e-9, f_step=100e-9, tau_ise=10e-6,\n",
    "                             ampl_spinlock=0.25, df_ise=300e3, ampl_ise=0.1, sweep_speed_ise=0.1e12,\n",
    "                             ampl_dhh_dress2=0.1, t_dhh_lock=10e-6,\n",
    "                             alternating_depol=False):\n",
    "    qmeas=OrderedDict()\n",
    "    qmeas['name'] = 'HH_double_ise_dhh_f'\n",
    "    qmeas['experiment'] = 'HH_double_ise_dhh_f'\n",
    "    setup['laser_length'] = common.t_laser_pulsed\n",
    "    \n",
    "    qmeas['rabi_period'] = common.rabi_period\n",
    "    qmeas['microwave_frequency'] = common.mw_freq \n",
    "    qmeas['microwave_amplitude'] = common.mw_amp\n",
    "    qmeas['f_dhh_start'] = f_start\n",
    "    qmeas['f_dhh_step'] = f_step\n",
    "    qmeas['num_of_points'] = n_tau\n",
    "    \n",
    "    qmeas['tau_ise'] = tau_ise\n",
    "    qmeas['dress2_f'] = f_dress2\n",
    "    qmeas['ampl_spinlock'] = ampl_spinlock\n",
    "    qmeas['ampl_ise'] = ampl_ise\n",
    "    qmeas['sweep_speed_ise'] = sweep_speed_ise\n",
    "    qmeas['df_ise'] = df_ise\n",
    "    qmeas['alternating_pol'] = alternating_depol\n",
    "    qmeas['ampl_dhh_dress2'] = ampl_dhh_dress2\n",
    "    qmeas['t_dhh_lock'] = t_dhh_lock\n",
    "    \n",
    "    qmeas['wait_time'] = common.t_wait_pulsed\n",
    "    \n",
    "    \n",
    "    qmeas['optimize_time'] = None\n",
    "    #qmeas['freq_optimization_time'] = None\n",
    "    #qmeas['analysis_interval'] = 3\n",
    " \n",
    "    #qmeas = setup_penta_laser_analysis(qmeas)\n",
    "    #qmeas = setup_penta_fastcounter_settings(qmeas)\n",
    "    \n",
    "    return qmeas\n",
    "\n",
    "def setup_hh_tau_params(tau_start=0e-6, tau_step=1e-6, n_tau=50, amp_sl=1e-3):\n",
    "    qmeas=OrderedDict()\n",
    "    qmeas['name'] = 'hh_tau'\n",
    "    qmeas['experiment'] = 'HHtau'\n",
    "    setup['laser_length'] = common.t_laser_pulsed\n",
    "    \n",
    "    qmeas['rabi_period'] = common.rabi_period\n",
    "    qmeas['microwave_frequency'] = common.mw_freq \n",
    "    qmeas['microwave_amplitude'] = common.mw_amp\n",
    "    qmeas['tau_start'] = tau_start\n",
    "    qmeas['tau_step'] = tau_step\n",
    "    qmeas['num_of_points'] = n_tau\n",
    "    \n",
    "    qmeas['spinlock_amp'] = amp_sl\n",
    "    \n",
    "    qmeas['wait_time'] = common.t_wait_pulsed\n",
    "    \n",
    "    qmeas['optimize_time'] = None\n",
    "    #qmeas['freq_optimization_time'] = None\n",
    "    #qmeas['analysis_interval'] = 3\n",
    " \n",
    "    #qmeas = setup_penta_laser_analysis(qmeas)\n",
    "    #qmeas = setup_penta_fastcounter_settings(qmeas)\n",
    "    \n",
    "    return qmeas\n",
    "\n",
    "def setup_dd_mollow_n_params(tau=500e-9, dd_start=1, dd_step=1, n_dd=20, dd_type=DDMethods.SE, \n",
    "                             ampl_mol=1.5e-3, f_mol=0e6, phase_mod='0',\n",
    "                             alternating=True):\n",
    "\n",
    "    qmeas=OrderedDict()\n",
    "    qmeas['experiment'] = 'dd_mollow_n'\n",
    "    qmeas['name'] = f\"dd_mollow_{str(dd_type).replace('DDMethods.','')}_n\"\n",
    "    setup['laser_length'] = common.t_laser_pulsed\n",
    "    \n",
    "    qmeas['rabi_period'] = common.rabi_period\n",
    "    qmeas['microwave_frequency'] = common.mw_freq \n",
    "    qmeas['microwave_amplitude'] = common.mw_amp\n",
    "    \n",
    "    qmeas['tau'] = tau\n",
    "    qmeas['dd_order_start'] = dd_start\n",
    "    qmeas['dd_step'] = dd_step\n",
    "    qmeas['dd_type'] = dd_type\n",
    "    qmeas['ampl_mol'] = ampl_mol\n",
    "    qmeas['f_mol'] = f_mol\n",
    "    qmeas['phase_mod'] = phase_mod\n",
    "        \n",
    "    \n",
    "    qmeas['num_of_points'] = n_dd\n",
    "    qmeas['alternating'] = alternating\n",
    "        \n",
    "    qmeas['optimize_time'] = None\n",
    "    #qmeas['freq_optimization_time'] = None\n",
    "    #qmeas['analysis_interval'] = 3\n",
    "    if n_dd > 1:\n",
    "        qmeas['fit_experiment'] = 'sine_decay'\n",
    "     \n",
    "    qmeas = add_shaped(qmeas)\n",
    "    \n",
    "    return qmeas\n",
    "\n",
    "def setup_rnovel_ppol_propi_params(dd_tau=500e-9, dd_order=1, dd_type=DDMethods.CPMG, \n",
    "                             ampl_mol=1.5e-3, n_pol=100, tau_ppol=0.5e-6, order_ppol=10, m_read_step=30,\n",
    "                             alternating=True, shape_only_ppol=False):\n",
    "\n",
    "    qmeas=OrderedDict()\n",
    "    qmeas['experiment'] = 'rnovel_ppol_propi'\n",
    "\n",
    "    qmeas['name'] = f\"rnovel_ppol_propi\"\n",
    "    qmeas['sequence_mode'] = True\n",
    "    setup['laser_length'] = common.t_laser_pulsed\n",
    "    \n",
    "    qmeas['rabi_period'] = common.rabi_period\n",
    "    if shape_only_ppol:\n",
    "        qmeas['dd_t_rabi_rect'] = common.rabi_period_rect\n",
    "    qmeas['microwave_frequency'] = common.mw_freq \n",
    "    qmeas['microwave_amplitude'] = common.mw_amp\n",
    "    \n",
    "    # rnovel params\n",
    "    qmeas['dd_mol_tau'] = tau\n",
    "    qmeas['dd_mol_order'] = dd_order\n",
    "    qmeas['dd_mol_ampl'] = ampl_mol\n",
    "    qmeas['dd_mol_type'] = dd_type\n",
    "    qmeas['n_pol'] = n_pol\n",
    "    # propi params\n",
    "    qmeas['m_read_step'] = m_read_step\n",
    "    qmeas['tau_ppol'] = tau_ppol\n",
    "    qmeas['order_ppol'] = order_ppol\n",
    "        \n",
    "\n",
    "    qmeas['alternating'] = alternating\n",
    "        \n",
    "    qmeas['optimize_time'] = None\n",
    "    #qmeas['freq_optimization_time'] = None\n",
    "    #qmeas['analysis_interval'] = 3\n",
    "    \n",
    "    qmeas = add_shaped(qmeas)\n",
    "        \n",
    "    if m_read_step > 1:\n",
    "        qmeas['fit_experiment'] = 'decay_exp'\n",
    " \n",
    "    return qmeas\n",
    "\n",
    "def setup_ppol_tau_params(tau_start=0.5e-6, tau_step=20e-9,\n",
    "                         num_of_points=50, order=8,\n",
    "                             alternating=True):\n",
    "\n",
    "    qmeas=OrderedDict()\n",
    "    qmeas['experiment'] = 'Poltau'\n",
    "\n",
    "    qmeas['name'] = f\"ppol_tau\"\n",
    "    setup['laser_length'] = common.t_laser_pulsed\n",
    "    \n",
    "    qmeas['rabi_period'] = common.rabi_period\n",
    "    qmeas['microwave_frequency'] = common.mw_freq \n",
    "    qmeas['microwave_amplitude'] = common.mw_amp\n",
    "    \n",
    "    qmeas['tau_start'] = tau_start\n",
    "    qmeas['tau_step'] = tau_step\n",
    "    qmeas['order'] = order\n",
    "    \n",
    "    qmeas['num_of_points'] = num_of_points\n",
    "    qmeas['alternating'] = alternating\n",
    "        \n",
    "    qmeas['optimize_time'] = None\n",
    "    #qmeas['freq_optimization_time'] = None\n",
    "    #qmeas['analysis_interval'] = 3\n",
    "    if num_of_points > 1:\n",
    "        qmeas['fit_experiment'] = 'lor_dip'\n",
    "     \n",
    "    \n",
    "    qmeas = add_shaped(qmeas)\n",
    "        \n",
    "    return qmeas\n",
    "\n",
    "def setup_ppol_n_params(tau=500e-9, n_start=1, n_step=1,\n",
    "                         num_of_points=50, alternating=True):\n",
    "\n",
    "    qmeas=OrderedDict()\n",
    "    qmeas['experiment'] = 'Pol20_order'\n",
    "    \n",
    "    qmeas['name'] = f\"ppol_n\"\n",
    "    setup['laser_length'] = common.t_laser_pulsed\n",
    "    \n",
    "    qmeas['rabi_period'] = common.rabi_period\n",
    "    qmeas['microwave_frequency'] = common.mw_freq \n",
    "    qmeas['microwave_amplitude'] = common.mw_amp\n",
    "    \n",
    "    qmeas['n_start'] = n_start\n",
    "    qmeas['n_step'] = n_start\n",
    "    qmeas['tau'] = tau\n",
    "    \n",
    "    qmeas['num_of_points'] = num_of_points\n",
    "    qmeas['alternating'] = alternating\n",
    "        \n",
    "    qmeas['optimize_time'] = None\n",
    "    #qmeas['freq_optimization_time'] = None\n",
    "    #qmeas['analysis_interval'] = 3\n",
    "    if num_of_points > 1:\n",
    "        qmeas['fit_experiment'] = 'sine'\n",
    "    \n",
    "    qmeas = add_shaped(qmeas)\n",
    " \n",
    "    return qmeas\n",
    "\n",
    "def setup_ppol_propi_params(tau=500e-9, n_start=1, n_step=1,\n",
    "                         num_of_points=50, alternating=True):\n",
    "\n",
    "    qmeas=OrderedDict()\n",
    "    qmeas['experiment'] = 'Pol20_order'\n",
    "    qmeas['name'] = f\"ppol_n\"\n",
    "    setup['laser_length'] = common.t_laser_pulsed\n",
    "    \n",
    "    qmeas['rabi_period'] = common.rabi_period\n",
    "    qmeas['microwave_frequency'] = common.mw_freq \n",
    "    qmeas['microwave_amplitude'] = common.mw_amp\n",
    "    \n",
    "    qmeas['n_start'] = n_start\n",
    "    qmeas['n_step'] = n_start\n",
    "    qmeas['tau'] = tau\n",
    "    \n",
    "    qmeas['num_of_points'] = num_of_points\n",
    "    qmeas['alternating'] = alternating\n",
    "        \n",
    "    qmeas['optimize_time'] = None\n",
    "    #qmeas['freq_optimization_time'] = None\n",
    "    #qmeas['analysis_interval'] = 3\n",
    "    if num_of_points > 1:\n",
    "        qmeas['fit_experiment'] = 'sine'\n",
    "     \n",
    "    qmeas = add_shaped(qmeas)\n",
    "        \n",
    "    return qmeas\n",
    "\n",
    "\n",
    "def setup_ppol_2x_propi_params(tau=500e-9, n_pol=100, m_read=20, order_ppol=8,\n",
    "                         alternating=True):\n",
    "\n",
    "    qmeas=OrderedDict()\n",
    "    qmeas['experiment'] = 'ppol_2x_propi'\n",
    "    qmeas['name'] = f\"ppol_2x_propi\"\n",
    "    qmeas['sequence_mode'] = True\n",
    "    setup['laser_length'] = common.t_laser_pulsed\n",
    "    \n",
    "    qmeas['rabi_period'] = common.rabi_period\n",
    "    qmeas['microwave_frequency'] = common.mw_freq \n",
    "    qmeas['microwave_amplitude'] = common.mw_amp\n",
    "    \n",
    "    qmeas['n_pol'] = n_pol\n",
    "    qmeas['m_read_step'] = m_read\n",
    "    qmeas['tau_ppol'] = tau\n",
    "    qmeas['order_ppol'] = order_ppol\n",
    "    \n",
    "    #qmeas['num_of_points'] = num_of_points\n",
    "    qmeas['alternating'] = alternating\n",
    "        \n",
    "    qmeas['optimize_time'] = None\n",
    "    #qmeas['freq_optimization_time'] = None\n",
    "    #qmeas['analysis_interval'] = 3\n",
    "    if m_read > 1:\n",
    "        qmeas['fit_experiment'] = 'decay_exp'\n",
    "     \n",
    "    qmeas = add_shaped(qmeas)\n",
    "        \n",
    "    return qmeas\n",
    "\n",
    "def setup_ise_propi_params(tau_ppol=500e-9, n_pol=100, m_read=20, order_ppol=8,\n",
    "                           df_mw_sweep=3e6, t_ise=1e-6, mw_sweep_speed=1e12, amp_mw_sweep=0.1,\n",
    "                           ppol_read_dir='down',\n",
    "                           alternating=True):\n",
    "\n",
    "    qmeas=OrderedDict()\n",
    "    qmeas['experiment'] = 'ise_ppol_propi'\n",
    "    qmeas['name'] = f\"ise_ppol_propi\"\n",
    "    qmeas['sequence_mode'] = True\n",
    "    setup['laser_length'] = common.t_laser_pulsed\n",
    "    \n",
    "    qmeas['rabi_period'] = common.rabi_period\n",
    "    qmeas['microwave_frequency'] = common.mw_freq \n",
    "    qmeas['microwave_amplitude'] = common.mw_amp\n",
    "    \n",
    "    qmeas['n_pol'] = n_pol\n",
    "    qmeas['m_read_step'] = m_read\n",
    "    qmeas['tau_ppol'] = tau_ppol\n",
    "    qmeas['order_ppol'] = order_ppol\n",
    "    qmeas['ppol_read_dir'] = ppol_read_dir\n",
    "    \n",
    "    qmeas['t_ise'] = t_ise\n",
    "    qmeas['df_mw_sweep'] = df_mw_sweep\n",
    "    qmeas['mw_sweep_speed'] = mw_sweep_speed\n",
    "    qmeas['amp_mw_sweep'] = amp_mw_sweep\n",
    "    \n",
    "    \n",
    "    #qmeas['num_of_points'] = num_of_points\n",
    "    qmeas['alternating'] = alternating\n",
    "        \n",
    "    qmeas['optimize_time'] = None\n",
    "    #qmeas['freq_optimization_time'] = None\n",
    "    #qmeas['analysis_interval'] = 3\n",
    "    if m_read > 1:\n",
    "        qmeas['fit_experiment'] = 'decay_exp'\n",
    "     \n",
    "    qmeas = add_shaped(qmeas)\n",
    "        \n",
    "    return qmeas"
   ]
  },
  {
   "cell_type": "code",
   "execution_count": 14,
   "metadata": {},
   "outputs": [
    {
     "data": {
      "text/plain": [
       "OrderedDict([('experiment', 'ise_ppol_propi'), ('name', 'ise_ppol_propi'), ('sequence_mode', True), ('rabi_period', 1.83e-08), ('microwave_frequency', 2312740000.0), ('microwave_amplitude', 0.25), ('n_pol', 100), ('m_read_step', 20), ('tau_ppol', 5e-07), ('order_ppol', 8), ('ppol_read_dir', 'down'), ('t_ise', 1e-06), ('df_mw_sweep', 3000000.0), ('mw_sweep_speed', 1000000000000.0), ('amp_mw_sweep', 0.1), ('alternating', True), ('optimize_time', None), ('fit_experiment', 'decay_exp'), ('env_type', <EnvelopeMethods.parabola: 'SinEnvelopeParabolaN'>), ('order_P', 1)])"
      ]
     },
     "execution_count": 14,
     "metadata": {},
     "output_type": "execute_result"
    }
   ],
   "source": [
    "setup_ise_propi_params()"
   ]
  },
  {
   "cell_type": "markdown",
   "metadata": {},
   "source": [
    "## Basics"
   ]
  },
  {
   "cell_type": "code",
   "execution_count": 17,
   "metadata": {},
   "outputs": [],
   "source": [
    "\n",
    "import pickle\n",
    "from scipy.optimize import curve_fit\n",
    "from scipy.stats import poisson\n",
    "\n",
    "\n",
    "def setup_podmr_params(f_res, p_scale=10, p_scale_onlyperiod=1, f_step=0.1e6, n_f=50, t_pi_manual=None):\n",
    "    # @param p_scale_onlyperiod: scales rabi period according to given power factor.\n",
    "    #                            useful, if externally controlling poewr\n",
    "    qmeas=OrderedDict()\n",
    "\n",
    "    if common.rabi_shaped['shaped_on']:\n",
    "        qmeas['name'] = 'pulsedodmr_shaped'\n",
    "        qmeas['experiment'] = 'pulsedodmr_shaped'\n",
    "        # empirically, don't know where the scaling difference comes from\n",
    "        p_scale_onlyperiod *= 0.5\n",
    "    else:\n",
    "        qmeas['name'] = 'pulsedodmr'\n",
    "        qmeas['experiment'] = 'pulsedodmr'\n",
    "\n",
    "    setup['laser_length'] = common.t_laser_pulsed\n",
    "    setup['wait_time'] = common.t_wait_pulsed\n",
    "\n",
    "    if t_pi_manual:\n",
    "        qmeas['rabi_period'] = 2*t_pi_manual\n",
    "    else:\n",
    "        qmeas['rabi_period'] = common.rabi_period*p_scale*p_scale_onlyperiod\n",
    "    qmeas['freq_step'] = f_step\n",
    "    qmeas['num_of_points'] = n_f\n",
    "    qmeas['freq_start'] = f_res - (qmeas['freq_step'] * qmeas['num_of_points'])/2.\n",
    "    if p_scale != 1:\n",
    "        qmeas['microwave_amplitude'] = common.mw_amp/(p_scale)\n",
    "    else:\n",
    "        qmeas['microwave_amplitude'] = common.mw_amp\n",
    "    qmeas['measurement_time'] = 1500 \n",
    "    qmeas['optimize_time'] = None\n",
    "    qmeas['fit_experiment'] = 'lor_dip'\n",
    "\n",
    "    qmeas = add_shaped(qmeas)\n",
    "\n",
    "    return qmeas\n",
    "\n",
    "\n",
    "def setup_rabi_params(tau_step=None, p_scale=1, n_tau=50, leave_out_tau_idx='', \n",
    "                      alternating=True):\n",
    "\n",
    "    qmeas=OrderedDict()\n",
    "\n",
    "    if common.rabi_shaped['shaped_on']:\n",
    "        qmeas['name'] = 'rabi_shaped'\n",
    "        qmeas['experiment'] = 'rabi_shaped'\n",
    "    else:\n",
    "        qmeas['name'] = 'rabi'\n",
    "        qmeas['experiment'] = 'rabi'\n",
    "\n",
    "    setup['laser_length'] = common.t_laser_pulsed\n",
    "    qmeas['rabi_period'] = common.rabi_period\n",
    "\n",
    "    if tau_step is None:   \n",
    "        tau_step = 5e-9\n",
    "    qmeas['tau_step'] = tau_step\n",
    "    qmeas['tau_start'] = 0e-9\n",
    "    qmeas['alterating'] = alternating\n",
    "    qmeas['leave_out_tau_idx'] = leave_out_tau_idx\n",
    "\n",
    "    qmeas['num_of_points'] = n_tau\n",
    "    qmeas['microwave_frequency'] = common.mw_freq #+ 0.5*3.03e6\n",
    "    if p_scale != 1:\n",
    "        qmeas['microwave_amplitude'] = common.mw_amp/(p_scale)\n",
    "    else:\n",
    "        qmeas['microwave_amplitude'] = common.mw_amp\n",
    "    qmeas['measurement_time'] = None\n",
    "    qmeas['optimize_time'] = None\n",
    "    qmeas['freq_optimize_time'] = None\n",
    "\n",
    "\n",
    "    qmeas['fit_experiment'] = 'sine'\n",
    "    #qmeas['analysis_interval'] = 3\n",
    "    #qmeas['n_sweeps'] = 5\n",
    "\n",
    "    qmeas = add_shaped(qmeas)\n",
    "\n",
    "    return qmeas\n",
    "\n",
    "def setup_ramsey_params(tau_start=100e-9, n_tau=1, tau_step=None, alternating=False, read_phases='0, 180',\n",
    "                       red_readout=False):\n",
    "    qmeas=OrderedDict()\n",
    "    qmeas['name'] = 'Ramsey'\n",
    "    qmeas['experiment'] = 'ramsey_s3p'\n",
    "    if not red_readout:\n",
    "        setup['laser_length'] = common.t_laser_pulsed\n",
    "    else:\n",
    "        qmeas['t_laser_init'] = common.t_laser_green_init\n",
    "        qmeas['laser_read_ch'] = 'd_ch3'\n",
    "        setup['laser_length'] = common.t_laser_red_read\n",
    "\n",
    "    qmeas['rabi_period'] = common.rabi_period\n",
    "    qmeas['microwave_frequency'] = common.mw_freq + common.mw_ramsey_offset\n",
    "    qmeas['microwave_amplitude'] = common.mw_amp\n",
    "    qmeas['tau_start'] = tau_start\n",
    "    if tau_step is None:\n",
    "        qmeas['tau_step'] = 50e-9\n",
    "    else:\n",
    "        qmeas['tau_step'] = tau_step\n",
    "    qmeas['num_of_points'] = n_tau\n",
    "    qmeas['alternating'] = alternating\n",
    "\n",
    "    qmeas['from_list'] = False\n",
    "\n",
    "    qmeas['optimize_time'] = None\n",
    "    #qmeas['freq_optimization_time'] = None\n",
    "    #qmeas['analysis_interval'] = 3\n",
    "    if n_tau > 1:\n",
    "        qmeas['fit_experiment'] = 'sine_decay'\n",
    "\n",
    "    qmeas['read_phases_degree'] = read_phases\n",
    "\n",
    "    return qmeas\n",
    "\n",
    "def setup_hahn_params(tau_start=50e-9, n_tau=50, tau_step=0.5e-6, alternating=False):\n",
    "    qmeas=OrderedDict()\n",
    "    qmeas['name'] = 'hahnecho'\n",
    "    qmeas['experiment'] = 'hahnecho'\n",
    "    setup['laser_length'] = common.t_laser_pulsed\n",
    "\n",
    "    qmeas['rabi_period'] = common.rabi_period\n",
    "    qmeas['microwave_frequency'] = common.mw_freq\n",
    "    qmeas['microwave_amplitude'] = common.mw_amp\n",
    "    qmeas['tau_start'] = tau_start\n",
    "    if tau_step is None:\n",
    "        qmeas['tau_step'] = 50e-9\n",
    "    else:\n",
    "        qmeas['tau_step'] = tau_step\n",
    "    qmeas['num_of_points'] = n_tau\n",
    "    qmeas['alternating'] = alternating\n",
    "\n",
    "    qmeas['optimize_time'] = None\n",
    "    #qmeas['freq_optimization_time'] = None\n",
    "    #qmeas['analysis_interval'] = 3\n",
    "    if n_tau > 1:\n",
    "        qmeas['fit_experiment'] = 'exp'\n",
    "\n",
    "    return qmeas\n",
    "\n",
    "\n",
    "def setup_xy8_tausweep_params(tau_start=100e-9, n_tau=20, tau_step=None, xy8_order=1, alternating=False):\n",
    "    qmeas=OrderedDict()\n",
    "    qmeas['experiment'] = 'xy8_tau'\n",
    "    qmeas['name'] = 'xy8_tau'\n",
    "    setup['laser_length'] = common.t_laser_pulsed\n",
    "\n",
    "    qmeas['rabi_period'] = common.rabi_period\n",
    "    qmeas['microwave_frequency'] = common.mw_freq \n",
    "    qmeas['microwave_amplitude'] = common.mw_amp\n",
    "\n",
    "    qmeas['xy8_order'] = xy8_order\n",
    "    qmeas['tau_start'] = tau_start\n",
    "    if tau_step is None:\n",
    "        qmeas['tau_step'] = 100e-9\n",
    "    else:\n",
    "        qmeas['tau_step'] = tau_step\n",
    "\n",
    "\n",
    "    qmeas['num_of_points'] = n_tau\n",
    "    qmeas['alternating'] = alternating\n",
    "\n",
    "    qmeas['from_list'] = False\n",
    "\n",
    "    qmeas['optimize_time'] = None\n",
    "    #qmeas['freq_optimization_time'] = None\n",
    "    #qmeas['analysis_interval'] = 3\n",
    "    if n_tau > 1:\n",
    "        qmeas['fit_experiment'] = 'Lorentz dip'\n",
    "\n",
    "    return qmeas\n",
    "\n",
    "def setup_xy8_nsweep_params(tau=500e-9, n_n=20, xy8_start=1, xy8_step=1, alternating=False):\n",
    "    qmeas=OrderedDict()\n",
    "    qmeas['experiment'] = 'xy8_nsweep'\n",
    "    qmeas['name'] = 'xy8_nsweep'\n",
    "    setup['laser_length'] = common.t_laser_pulsed\n",
    "\n",
    "    qmeas['rabi_period'] = common.rabi_period\n",
    "    qmeas['microwave_frequency'] = common.mw_freq \n",
    "    qmeas['microwave_amplitude'] = common.mw_amp\n",
    "\n",
    "    qmeas['tau'] = tau\n",
    "    qmeas['xy8_start'] = xy8_start\n",
    "    qmeas['xy8_step'] = xy8_step\n",
    "\n",
    "\n",
    "\n",
    "    qmeas['num_of_points'] = n_n\n",
    "    qmeas['alternating'] = alternating\n",
    "\n",
    "    qmeas['from_list'] = False\n",
    "\n",
    "    qmeas['optimize_time'] = None\n",
    "    #qmeas['freq_optimization_time'] = None\n",
    "    #qmeas['analysis_interval'] = 3\n",
    "    if n_n > 1:\n",
    "        qmeas['fit_experiment'] = 'sine_decay'\n",
    "\n",
    "    return qmeas\n",
    "\n",
    "def run_generic(mes_params, save_tag=None, generate_new=True):\n",
    "    laser_off()\n",
    "    if save_tag is None:\n",
    "        save_tag=f\"{mes_params['name']}\"\n",
    "    mes_params['savetag'] = save_tag\n",
    "    do_experiment(experiment=mes_params['experiment'], qm_dict=mes_params, meas_type=conventional_measurement, meas_info=add_conventional_information,\n",
    "                  generate_new=generate_new, save_tag=save_tag, load_tag='')\n",
    "\n",
    "def run_generic_autoexp(qmeas_list, generate_new=False, optimize_between_exps=False, poi_list=None):\n",
    "        \n",
    "    autoexp = OrderedDict()\n",
    "    automeas = OrderedDict()\n",
    "\n",
    "    automeas['list_pois'] = poi_list if poi_list else [\"\"]\n",
    "    automeas['generate_new'] = generate_new\n",
    "    automeas['optimize_between_experiments'] = optimize_between_exps\n",
    "\n",
    "    for qmeas in qmeas_list:\n",
    "        exp_name = qmeas['name']\n",
    "        qmeas['type'] = qmeas['experiment']\n",
    "        qmeas['meas_type'] = conventional_measurement\n",
    "        qmeas['meas_info'] = add_conventional_information\n",
    "\n",
    "        autoexp[exp_name] = copy.deepcopy(qmeas)\n",
    "    \n",
    "    do_automized_measurements(qm_dict=automeas, autoexp=autoexp)\n",
    "    \n",
    "\n",
    "def run_pdomr(mes_params, save_tag=None, generate_new=True):\n",
    "\n",
    "    up_to = (mes_params['freq_start'] + mes_params['freq_step'] * mes_params['num_of_points'])\n",
    "    laser_off()\n",
    "    if save_tag is None:\n",
    "        save_tag='pOdmr_{:.2f}_{:.2f}MHz'.format(mes_params['freq_start']/1e6, up_to/1e6)\n",
    "    do_experiment(experiment=mes_params['experiment'], qm_dict=mes_params, meas_type=conventional_measurement, meas_info=add_conventional_information, \n",
    "                  generate_new=generate_new, save_tag=save_tag, load_tag='')\n",
    "\n",
    "def run_rabi(mes_params):\n",
    "    laser_off()\n",
    "    do_experiment(experiment=mes_params['experiment'], qm_dict=mes_params, meas_type=conventional_measurement, meas_info=add_conventional_information,\n",
    "                  generate_new=True, save_tag='Rabi_'+str(round(mes_params['microwave_amplitude']*1000))+'mV',load_tag='')\n",
    "\n",
    "def run_xy8_tausweep(mes_params):\n",
    "    laser_off()\n",
    "    do_experiment(experiment='xy8_tau', qm_dict=mes_params, meas_type=conventional_measurement, meas_info=add_conventional_information,\n",
    "                  generate_new=True, save_tag='xy8-o={}_tau_'.format(mes_params['xy8_order']),load_tag='')\n",
    "\n",
    "def run_xy8_nsweep(mes_params):\n",
    "    laser_off()\n",
    "    do_experiment(experiment='xy8_nsweep', qm_dict=mes_params, meas_type=conventional_measurement, meas_info=add_conventional_information,\n",
    "                  generate_new=True, save_tag='xy8_tau={}_nsweep'.format(mes_params['tau']),load_tag='')\n",
    "\n",
    "\n",
    "\n",
    "def run_ramsey(mes_params, n_sweeps_stop=0):\n",
    "\n",
    "    if n_sweeps_stop > 0:\n",
    "        # else don't stop by sweeps\n",
    "        run_ramsey_pj_params['n_sweeps'] = n_sweeps_stop\n",
    "\n",
    "    laser_off()\n",
    "    do_experiment(experiment=mes_params['experiment'], qm_dict=mes_params, meas_type=conventional_measurement, \n",
    "        meas_info=add_conventional_information, generate_new=True, save_tag='Ramsey',load_tag='')   \n",
    "\n",
    "    if get_current_pulsed_mes_running():\n",
    "        logger.warning(\"Mes still running after do_experiment().\")\n",
    "        return (None, None)\n",
    "\n",
    "    else:\n",
    "        mes = get_current_pulsed_mes()\n",
    "        x = mes.signal_data[0]\n",
    "        y = mes.signal_data[1]\n",
    "\n",
    "    return (x,y)  \n",
    "\n",
    "\n",
    "def create_temp_dir():\n",
    "    #qudi_dir = os.getcwd()\n",
    "\n",
    "    folder_dir = 'temp'\n",
    "    try:\n",
    "        os.mkdir(folder_dir)\n",
    "    except FileExistsError as e:\n",
    "        pass   # already exists\n",
    "\n",
    "    return folder_dir \n",
    "\n",
    "def get_counts(t_avg_s=0.1):\n",
    "\n",
    "    # stop refocusing for getting counts\n",
    "    refocus_running = True\n",
    "    try:\n",
    "        if poimanagerlogic.time_until_refocus == -1:\n",
    "            refocus_running = False\n",
    "        else:\n",
    "            poimanagerlogic.toggle_periodic_refocus(False)\n",
    "    except NameError:\n",
    "        refocus_running = False\n",
    "\n",
    "\n",
    "    f_count = counterlogic.get_count_frequency()\n",
    "    n_samples = int(t_avg_s * f_count)\n",
    "    n_samples_max = counterlogic.get_count_length()\n",
    "    if n_samples > n_samples_max:\n",
    "        n_samples = n_samples_max\n",
    "\n",
    "    # wait until refocus done for sure\n",
    "    if refocus_running:\n",
    "        timeout = False\n",
    "        timeout_t_s = 5\n",
    "        t_start = time.time()\n",
    "\n",
    "        while(time.time() - poimanagerlogic._last_refocus < t_avg_s and not timeout):\n",
    "            time.sleep(0.1)\n",
    "            if time.time() - t_start > timeout_t_s:\n",
    "                timeout = True\n",
    "\n",
    "    cts = np.median(counterlogic.countdata[0][-n_samples:])    # counts per s\n",
    "\n",
    "    if refocus_running:\n",
    "        poimanagerlogic.toggle_periodic_refocus(True)\n",
    "\n",
    "    return cts\n"
   ]
  },
  {
   "cell_type": "markdown",
   "metadata": {},
   "source": [
    "# Laser options"
   ]
  },
  {
   "cell_type": "markdown",
   "metadata": {
    "pycharm": {
     "name": "#%% md\n"
    }
   },
   "source": [
    "## Optimize position"
   ]
  },
  {
   "cell_type": "code",
   "execution_count": 17,
   "metadata": {
    "pycharm": {
     "name": "#%%\n"
    },
    "scrolled": true
   },
   "outputs": [
    {
     "data": {
      "text/plain": [
       "5.467545509338379"
      ]
     },
     "execution_count": 17,
     "metadata": {},
     "output_type": "execute_result"
    }
   ],
   "source": [
    "#laser_on()\n",
    "optimize_position()"
   ]
  },
  {
   "cell_type": "markdown",
   "metadata": {},
   "source": [
    "## Laser On"
   ]
  },
  {
   "cell_type": "code",
   "execution_count": 257,
   "metadata": {
    "pycharm": {
     "name": "#%%\n"
    },
    "scrolled": true
   },
   "outputs": [
    {
     "data": {
      "text/plain": [
       "0"
      ]
     },
     "execution_count": 257,
     "metadata": {},
     "output_type": "execute_result"
    }
   ],
   "source": [
    "#laser_on(pulser_on = False)\n",
    "laser_on()\n",
    "counterlogic.startCount()"
   ]
  },
  {
   "cell_type": "markdown",
   "metadata": {},
   "source": [
    "## Laser Off"
   ]
  },
  {
   "cell_type": "code",
   "execution_count": 254,
   "metadata": {
    "pycharm": {
     "name": "#%%\n"
    }
   },
   "outputs": [],
   "source": [
    "laser_off(pulser_on=False)\n",
    "#counterl'ogic.stopCount()\n"
   ]
  },
  {
   "cell_type": "markdown",
   "metadata": {},
   "source": [
    "# Frequency Optimization parameters"
   ]
  },
  {
   "cell_type": "code",
   "execution_count": null,
   "metadata": {
    "pycharm": {
     "name": "#%%\n"
    }
   },
   "outputs": [],
   "source": [
    "optimize_freq_dict=OrderedDict()\n",
    "optimize_freq_dict['mw_optimization_method'] = 'pulsedodmr'\n",
    "optimize_freq_dict['optimize_generate_new'] = False\n",
    "optimize_freq_dict['save_tag'] = 'optimize_frequency'\n",
    "optimize_freq_dict['optimize_fit_method'] = 'N15'\n",
    "optimize_freq_dict['parameters2update'] = {'center': 'microwave_frequency'}\n",
    "\n",
    "optimize_freq_dict['name'] = 'Pulsed_ODMR'\n",
    "optimize_freq_dict['rabi_period'] = 1800e-9\n",
    "optimize_freq_dict['freq_start'] = 4.127e9\n",
    "optimize_freq_dict['freq_step'] = 0.2e6\n",
    "optimize_freq_dict['num_of_points'] = 50\n",
    "optimize_freq_dict['microwave_amplitude'] = common.mw_amp/15\n",
    "optimize_freq_dict['meas_type'] = conventional_measurement\n",
    "optimize_freq_dict['meas_info'] = add_conventional_information\n",
    "\n",
    "optimize_freq_dict['measurement_time'] = 30\n",
    "optimize_freq_dict['optimize_time'] = None\n",
    "optimize_freq_dict['optimize_generate_new'] = True"
   ]
  },
  {
   "cell_type": "markdown",
   "metadata": {},
   "source": [
    "# Calculations "
   ]
  },
  {
   "cell_type": "markdown",
   "metadata": {},
   "source": [
    "## Nuclear HFS Rabi boost"
   ]
  },
  {
   "cell_type": "code",
   "execution_count": 32,
   "metadata": {},
   "outputs": [
    {
     "name": "stdout",
     "output_type": "stream",
     "text": [
      "Nuclear Rabi boost/ 1-H/15-N ratio at common_mw_freq= 2813.70 MHz: 9.417 / 1.047\n"
     ]
    },
    {
     "data": {
      "image/png": "[encoded data removed]"
     },
     "metadata": {
      "image/png": {
       "height": 553,
       "width": 720
      }
     },
     "output_type": "display_data"
    }
   ],
   "source": [
    "alpha_boost = calc_nuclear_rabi_hfs_boost(f_res_2_B_gauss(common.mw_freq), n_nuc=15)\n",
    "kappa_omega_1h_15n = 1/alpha_boost * 267.522208/27.126\n",
    "\n",
    "print(f\"Nuclear Rabi boost/ 1-H/15-N ratio at common.mw_freq= {common.mw_freq/1e6:.2f} MHz: {alpha_boost:.3f} / {kappa_omega_1h_15n:.3f}\")\n",
    "\n",
    "x = np.linspace(480,1150,200)\n",
    "plt.figure(figsize=(4,3))\n",
    "plt.plot(x,abs(calc_nuclear_rabi_hfs_boost(x) ))\n",
    "plt.yscale('log')\n",
    "plt.ylim(10, 10e3)\n",
    "\n",
    "plt.xlabel(\"B (Gauss)\")\n",
    "plt.ylabel(\"Rabi boost\")\n",
    "plt.show()"
   ]
  },
  {
   "cell_type": "markdown",
   "metadata": {},
   "source": [
    "## Fit params from magnet scan: odmr"
   ]
  },
  {
   "cell_type": "code",
   "execution_count": null,
   "metadata": {},
   "outputs": [],
   "source": [
    "### Load all odmr data from folder"
   ]
  },
  {
   "cell_type": "code",
   "execution_count": 35,
   "metadata": {},
   "outputs": [],
   "source": [
    "import os.path\n",
    "\n",
    "def get_odmr_idx(fname):\n",
    "    if 'trans_index' in fname:\n",
    "        fname = fname.split(\"trans_index\")[1]\n",
    "        return [int(s) for s in fname.split(\"_\") if s.isdigit()]\n",
    "    else:\n",
    "        return None\n",
    "\n",
    "def load_magnet_backmap(fname):\n",
    "    with open(fname) as f:\n",
    "        lines = f.readlines()\n",
    "    \n",
    "    backmap = []\n",
    "    for l in lines:\n",
    "        if \"#related_intex\" in l:\n",
    "            data = (l.strip().split('{'))[1].split(\":\")\n",
    "            try:\n",
    "                flat_idx = int(l.strip().split('{')[0].split(\"_\")[2].strip().strip(\":\"))\n",
    "                #logger.debug(f\"{l} -> {flat_idx}\")\n",
    "            except:\n",
    "                raise ValueError(f\"Can't parse {l}\")\n",
    "            x = float(data[1].split(',')[0])\n",
    "            y = float(data[2].split(',')[0])\n",
    "            z = data[3].split('}')[0].strip().strip(\"(,)\")\n",
    "            z = np.fromstring(z, dtype=int, sep=\",\")\n",
    "            \n",
    "            data_dict = {'x':x, 'y': y, 'flat_idx': flat_idx, 'trans_idx': z}\n",
    "            backmap.append(data_dict)\n",
    "    \n",
    "    return backmap\n",
    "\n",
    "\n",
    "def add_backmap_to_odmr(odmrs, backmap):\n",
    "    for odmr in odmrs:\n",
    "        for bm in backmap:\n",
    "            if all(odmr['trans_idx'] == bm['trans_idx']):\n",
    "                odmr['x'] = bm['x']\n",
    "                odmr['y'] = bm['y']\n",
    "                odmr['flat_idx'] = bm['flat_idx']\n",
    "                \n",
    "def do_arr_fit(odmrs, fit_method='lor_dip'):\n",
    "    \n",
    "     #fitter = fitlogic.make_fit_container('nb', '1d')\n",
    "    fitter = pulsedmeasurementlogic.fc\n",
    "    fitter.set_current_fit(fit_method)\n",
    "    \"\"\"\n",
    "    x_fit, y_fit, result = fitter.do_fit(data[0], data[1])\n",
    "    result = result.result_str_dict\n",
    "\n",
    "    result['Position']['value']\n",
    "    result['FWHM']['value']\n",
    "    result['Contrast']['value']\n",
    "    \"\"\"\n",
    "    flat_idx_max = 0\n",
    "    flat_idx_min = np.inf\n",
    "    xy_max = [-np.inf,-np.inf]\n",
    "    xy_min = [np.inf,np.inf]\n",
    "    arr_size = [0,0]\n",
    "\n",
    "    for o in odmrs:\n",
    "        try:\n",
    "            data = o['data'][:,0], o['data'][:,1]\n",
    "\n",
    "            x_fit, y_fit, result = fitter.do_fit(data[0], data[1])\n",
    "            result = result.result_str_dict\n",
    "            o['fit_res'] = result\n",
    "\n",
    "            if o['flat_idx'] > flat_idx_max:\n",
    "                flat_idx_max = o['flat_idx']\n",
    "\n",
    "            if o['x'] >= xy_max[0]:\n",
    "                xy_max[0] = o['x']\n",
    "                arr_size[0] = np.asarray(o['trans_idx'][0]) + 1\n",
    "                #logger.info(f\"New x max: [{xy_min[0]}-{xy_max[0]}, {xy_min[1]}-{xy_max[1]}]\")\n",
    "            if o['y'] >= xy_max[1]:\n",
    "                xy_max[1] = o['y']\n",
    "                arr_size[1] = np.asarray(o['trans_idx'][1]) + 1\n",
    "                #logger.info(f\"New y max: [{xy_min[0]}-{xy_max[0]}, {xy_min[1]}-{xy_max[1]}]\")\n",
    "            if o['x'] <= xy_min[0]:\n",
    "                xy_min[0] = o['x']\n",
    "                #logger.info(f\"New x min: [{xy_min[0]}-{xy_max[0]}, {xy_min[1]}-{xy_max[1]}]\")\n",
    "            if o['y'] <= xy_min[1]:\n",
    "                xy_min[1] = o['y']\n",
    "                #logger.info(f\"New y min: [{xy_min[0]}-{xy_max[0]}, {xy_min[1]}-{xy_max[1]}]\")\n",
    "\n",
    "            if o['flat_idx'] < flat_idx_max:\n",
    "                flat_idx_min = o['flat_idx']\n",
    "                xy_min = [o['x'], o['y']]\n",
    "        except:\n",
    "            raise ValueError(f\"Error in {o}\")\n",
    "            \n",
    "    return odmrs, {'arr_size': arr_size, 'xy_min': xy_min, 'xy_max': xy_max}\n",
    "\n",
    "def create_2d(odmrs, arr_size, fit_val=\"Position\"):\n",
    "    z = np.zeros(arr_size)\n",
    "    for o in odmrs:\n",
    "        ix, iy = o['trans_idx'][0], o['trans_idx'][1]\n",
    "        val  = o['fit_res'][fit_val]['value']\n",
    "        z[ix, iy] = val\n",
    "        \n",
    "    z = z.transpose()\n",
    "    return z\n",
    "\n",
    "def create_cts_vs_t(odmrs):\n",
    "    t, cts = [], []\n",
    "    for idx, o in enumerate(odmrs):\n",
    "        timestamp = (Tk_file.load_pulsed_metadata(o['file'])['date'])\n",
    "        if idx == 0:\n",
    "            t_0 = timestamp\n",
    "        t_s =  (timestamp-t_0).total_seconds()\n",
    "        t.append(t_s)\n",
    "        \n",
    "        cts.append(np.average(o['data'][:,1]))\n",
    "        \n",
    "    return np.asarray(t), np.asarray(cts)"
   ]
  },
  {
   "cell_type": "markdown",
   "metadata": {},
   "source": [
    "Load odmrs from magnet alignment"
   ]
  },
  {
   "cell_type": "code",
   "execution_count": 278,
   "metadata": {},
   "outputs": [],
   "source": [
    "#magnet_file = r\"E:\\Data\\2021\\07\\20210726\\Magnet\\20210727-0907-57_f-f_0_magnet_alignment_data.dat\"\n",
    "#inpath = r\"E:\\Data\\2021\\07\\20210726\\ODMR\\longODMRAlign_brightPenta_20210726.1_Bz=72.1mm\"\n",
    "magnet_file = r\"E:\\Data\\2021\\09\\20210920\\Magnet\\20210920-1218-54_Bz=-31mm_prelim_magnet_alignment_data.dat\"\n",
    "magnet_file = r\"E:\\Data\\2021\\09\\20210920\\Magnet\\20210920-1448-07_Bz=-31mm_2_prelim_magnet_alignment_data.dat\"\n",
    "magnet_file = r\"E:\\Data\\2021\\11\\20211105\\Magnet\\20211105-1547-15_Bz=-2.4mm_3_magnet_alignment_data.dat\"\n",
    "inpath = r\"E:\\Data\\2021\\09\\20210920\\ODMR\\Bz=-31mm\"\n",
    "inpath = r\"E:\\Data\\2021\\09\\20210920\\ODMR\\Bz=-31mm_2\"\n",
    "inpath = r\"E:\\Data\\2021\\11\\20211105\\ODMR\\Bz=-2.4mm_3\"\n",
    "inpath = os.path.abspath(inpath)\n",
    "magnet_file = os.path.abspath(magnet_file)\n",
    "\n",
    "fnames = []\n",
    "odmr_raw = []\n",
    "fnames = [inpath + \"\\\\\" + f for f in os.listdir(inpath) if os.path.isfile(os.path.join(inpath, f)) and'range' in f and '.dat' in f]\n",
    "magnet_backmap = None\n",
    "magnet_backmap = load_magnet_backmap(magnet_file)\n",
    "\n",
    "\n",
    "for f in fnames:\n",
    "    odmr_raw.append({'file': f, 'trans_idx': get_odmr_idx(f), 'data':np.loadtxt(f)})\n",
    "\n",
    "add_backmap_to_odmr(odmr_raw, magnet_backmap)"
   ]
  },
  {
   "cell_type": "code",
   "execution_count": 281,
   "metadata": {},
   "outputs": [
    {
     "data": {
      "text/plain": [
       "{'x': 0.0004004, 'y': 0.0067998, 'flat_idx': 80, 'trans_idx': array([8, 8])}"
      ]
     },
     "execution_count": 281,
     "metadata": {},
     "output_type": "execute_result"
    }
   ],
   "source": [
    "magnet_backmap[-1]"
   ]
  },
  {
   "cell_type": "code",
   "execution_count": 284,
   "metadata": {},
   "outputs": [
    {
     "data": {
      "text/plain": [
       "([8, 8], 'E:\\\\Data\\\\2021\\\\11\\\\20211105\\\\ODMR\\\\Bz=-2.4mm_3\\\\20211105-1544-29_trans_index_8_8_ODMR_data_ch0_range0.dat', 0.0004004, 0.0067998, False)"
      ]
     },
     "execution_count": 284,
     "metadata": {},
     "output_type": "execute_result"
    }
   ],
   "source": [
    "odmr_raw[-1]['trans_idx'], odmr_raw[-1]['file'], odmr_raw[-1]['x'], odmr_raw[-1]['y'], magnet_backmap is None"
   ]
  },
  {
   "cell_type": "markdown",
   "metadata": {},
   "source": [
    "### odmr overwiew, counts over time"
   ]
  },
  {
   "cell_type": "code",
   "execution_count": 290,
   "metadata": {},
   "outputs": [
    {
     "data": {
      "image/png": "[encoded data removed]"
     },
     "metadata": {
      "image/png": {
       "height": 680,
       "width": 1757
      }
     },
     "output_type": "display_data"
    }
   ],
   "source": [
    "\n",
    "y_offset = 0.001\n",
    "\n",
    "plt.figure(figsize=(10,4))\n",
    "plt.subplot(121)\n",
    "\n",
    "for i in np.arange(0,len(odmr_raw),4):\n",
    "    f = odmr_raw[i]['data'][:,0]\n",
    "    y = odmr_raw[i]['data'][:,1]\n",
    "    y_norm = y / np.max(y)\n",
    "    \n",
    "    y_final = i*y_offset + y_norm\n",
    "    plt.plot(f/1e9, y_final)\n",
    "\n",
    "    \n",
    "plt.title(\"Raw odmrs\")\n",
    "plt.xlabel(\"f (GHz)\")\n",
    "#plt.xlim([1.3e9, 1.55e9])\n",
    "\n",
    "\n",
    "plt.subplot(122)\n",
    "t, cts = create_cts_vs_t(odmr_raw)\n",
    "dfdt = np.diff(cts)/np.diff(t)\n",
    "\n",
    "idx_slope_up_to = -1\n",
    "avg_dfdt = np.average(dfdt[:idx_slope_up_to])\n",
    "\n",
    "plt.plot(t/60, cts/1e6)\n",
    "\n",
    "plt.plot([t[0]/60, t[idx_slope_up_to]/60], [cts[0]/1e6,(cts[0]+t[idx_slope_up_to]*avg_dfdt)/1e6],\n",
    "         label=f\" {avg_dfdt/1e3*60*60:.1f} kcts/h / {100*avg_dfdt/cts[0]*3600:.1f} %/h\", marker=\"\")\n",
    "\n",
    "plt.title(\"Avg. fluorescence\")\n",
    "plt.ylabel(\"Mcts\")\n",
    "plt.xlabel(\"t (min)\")\n",
    "plt.legend()\n",
    "#cts\n",
    "plt.tight_layout()\n",
    "plt.show()"
   ]
  },
  {
   "cell_type": "markdown",
   "metadata": {},
   "source": [
    "### Plot full odmr along one axis as 2d"
   ]
  },
  {
   "cell_type": "code",
   "execution_count": 713,
   "metadata": {},
   "outputs": [
    {
     "data": {
      "text/plain": [
       "[0, 0]"
      ]
     },
     "execution_count": 713,
     "metadata": {},
     "output_type": "execute_result"
    }
   ],
   "source": [
    "odmr_raw[0]['trans_idx']"
   ]
  },
  {
   "cell_type": "code",
   "execution_count": 39,
   "metadata": {},
   "outputs": [
    {
     "data": {
      "image/png": "[encoded data removed]"
     },
     "metadata": {
      "image/png": {
       "height": 688,
       "width": 998
      }
     },
     "output_type": "display_data"
    }
   ],
   "source": [
    "idx_col = 0\n",
    "axis = 0\n",
    "\n",
    "#odmrs[2]['trans_idx']\n",
    "cts_rel = np.asarray([o['data'][:,1]/np.max(o['data'][:,1]) for o in odmr_raw if o['trans_idx'][axis] == idx_col])\n",
    "extent = [odmr_raw[0]['data'][0,0]/1e9, odmr_raw[0]['data'][-1,0]/1e9, 0, len(cts)]\n",
    "\n",
    "plt.figure(figsize=(6,4))\n",
    "plt.imshow(cts_rel, extent=extent, aspect='auto', origin='lower')\n",
    "plt.xlabel(\"Freq (GHz)\")\n",
    "plt.ylabel(\"B axis idx\")\n",
    "\n",
    "plt.colorbar()\n",
    "plt.show()\n"
   ]
  },
  {
   "cell_type": "markdown",
   "metadata": {},
   "source": [
    "### Fit 1x Lorentz for whole series"
   ]
  },
  {
   "cell_type": "code",
   "execution_count": 293,
   "metadata": {},
   "outputs": [
    {
     "data": {
      "text/plain": [
       "{'arr_size': [9, 9], 'xy_min': [-0.0035996, 0.0027998], 'xy_max': [0.0004004, 0.0067998]}"
      ]
     },
     "execution_count": 293,
     "metadata": {},
     "output_type": "execute_result"
    }
   ],
   "source": [
    "try:\n",
    "    odmrs, arr_dict = do_arr_fit(odmr_raw, fit_method=\"lor_dip\")\n",
    "except:\n",
    "    logger.exception(\"Fit failed: \")\n",
    "    \n",
    "z_fres = create_2d(odmrs, arr_dict['arr_size'], fit_val=\"Position\")\n",
    "z_fwhm = create_2d(odmrs, arr_dict['arr_size'], fit_val=\"FWHM\")\n",
    "z_contr = create_2d(odmrs, arr_dict['arr_size'], fit_val=\"Contrast\")\n",
    "\n",
    "arr_dict"
   ]
  },
  {
   "cell_type": "code",
   "execution_count": 296,
   "metadata": {},
   "outputs": [
    {
     "data": {
      "text/plain": [
       "[3, 0]"
      ]
     },
     "execution_count": 296,
     "metadata": {},
     "output_type": "execute_result"
    }
   ],
   "source": [
    "odmr_raw[3]['trans_idx']"
   ]
  },
  {
   "cell_type": "code",
   "execution_count": 314,
   "metadata": {},
   "outputs": [
    {
     "data": {
      "image/png": "[encoded data removed]"
     },
     "metadata": {
      "image/png": {
       "height": 662,
       "width": 2117
      }
     },
     "output_type": "display_data"
    }
   ],
   "source": [
    "plt.figure(figsize=(12,4))\n",
    "plt.subplot(131)\n",
    "\n",
    "plt.imshow(z_fres/1e9, origin='lower',\n",
    "           extent=(arr_dict['xy_min'][0]*1e3, arr_dict['xy_max'][0]*1e3, arr_dict['xy_min'][1]*1e3, arr_dict['xy_max'][1]*1e3),  # checked to match magnet gui\n",
    "           #vmin=1.44,\n",
    "           vmax=1.5,\n",
    "           cmap='plasma')\n",
    "plt.title(\"Res frequency\")\n",
    "plt.xlabel(\"x (mm)\")\n",
    "plt.ylabel(\"y (mm)\")\n",
    "plt.colorbar()\n",
    "\n",
    "plt.subplot(132)\n",
    "\n",
    "plt.imshow(z_fwhm/1e6, origin='lower',\n",
    "           extent=(arr_dict['xy_min'][0]*1e3, arr_dict['xy_max'][0]*1e3, arr_dict['xy_min'][1]*1e3, arr_dict['xy_max'][1]*1e3),  # checked to match magnet gui\n",
    "           vmax=20e6/1e6,\n",
    "           #vmin=1e6/1e6,\n",
    "           cmap='plasma')\n",
    "plt.title(\"Res FWHM\")\n",
    "plt.xlabel(\"x (mm)\")\n",
    "plt.ylabel(\"y (mm)\")\n",
    "plt.colorbar()\n",
    "\n",
    "plt.subplot(133)\n",
    "\n",
    "plt.imshow(z_contr, origin='lower',\n",
    "           extent=(arr_dict['xy_min'][0]*1e3, arr_dict['xy_max'][0]*1e3, arr_dict['xy_min'][1]*1e3, arr_dict['xy_max'][1]*1e3),  # checked to match magnet gui\n",
    "           #vmax=1.0,\n",
    "           #vmin=0.2,\n",
    "           cmap='plasma')\n",
    "plt.title(\"Contrast\")\n",
    "plt.xlabel(\"x (mm)\")\n",
    "plt.ylabel(\"y (mm)\")\n",
    "plt.colorbar()\n",
    "\n",
    "plt.tight_layout()\n",
    "plt.show()"
   ]
  },
  {
   "cell_type": "code",
   "execution_count": 246,
   "metadata": {},
   "outputs": [
    {
     "data": {
      "text/plain": [
       "['([0, 0],(-6.1,0.3 mm) => contr=1.080, fwhm=7', '([1, 0],(-5.4,0.3 mm) => contr=1.187, fwhm=6', '([2, 0],(-4.7,0.3 mm) => contr=1.352, fwhm=6', '([3, 0],(-4.0,0.3 mm) => contr=0.855, fwhm=292', '([4, 0],(-3.3,0.3 mm) => contr=1.209, fwhm=6', '([5, 0],(-2.6,0.3 mm) => contr=1.139, fwhm=8', '([6, 0],(-1.9,0.3 mm) => contr=1.192, fwhm=8', '([7, 0],(-1.2,0.3 mm) => contr=1.066, fwhm=6', '([7, 1],(-1.2,1.0 mm) => contr=1.232, fwhm=5', '([6, 1],(-1.9,1.0 mm) => contr=1.116, fwhm=6', '([5, 1],(-2.6,1.0 mm) => contr=1.217, fwhm=7', '([4, 1],(-3.3,1.0 mm) => contr=1.208, fwhm=6', '([3, 1],(-4.0,1.0 mm) => contr=1.224, fwhm=6', '([2, 1],(-4.7,1.0 mm) => contr=1.238, fwhm=6', '([1, 1],(-5.4,1.0 mm) => contr=1.104, fwhm=6', '([0, 1],(-6.1,1.0 mm) => contr=1.234, fwhm=7', '([0, 2],(-6.1,1.7 mm) => contr=1.038, fwhm=5', '([1, 2],(-5.4,1.7 mm) => contr=1.233, fwhm=5', '([2, 2],(-4.7,1.7 mm) => contr=1.324, fwhm=7', '([3, 2],(-4.0,1.7 mm) => contr=1.238, fwhm=6', '([4, 2],(-3.3,1.7 mm) => contr=1.303, fwhm=7', '([5, 2],(-2.6,1.7 mm) => contr=1.405, fwhm=7', '([6, 2],(-1.9,1.7 mm) => contr=1.316, fwhm=7', '([7, 2],(-1.2,1.7 mm) => contr=1.038, fwhm=5', '([7, 3],(-1.2,2.4 mm) => contr=1.320, fwhm=5', '([6, 3],(-1.9,2.4 mm) => contr=1.256, fwhm=6', '([5, 3],(-2.6,2.4 mm) => contr=1.322, fwhm=6', '([4, 3],(-3.3,2.4 mm) => contr=1.202, fwhm=8', '([3, 3],(-4.0,2.4 mm) => contr=1.343, fwhm=6', '([2, 3],(-4.7,2.4 mm) => contr=1.231, fwhm=5', '([1, 3],(-5.4,2.4 mm) => contr=1.133, fwhm=6', '([0, 3],(-6.1,2.4 mm) => contr=1.066, fwhm=4', '([0, 4],(-6.1,3.1 mm) => contr=1.287, fwhm=4', '([1, 4],(-5.4,3.1 mm) => contr=1.246, fwhm=7', '([2, 4],(-4.7,3.1 mm) => contr=1.311, fwhm=6', '([3, 4],(-4.0,3.1 mm) => contr=1.335, fwhm=6', '([4, 4],(-3.3,3.1 mm) => contr=1.261, fwhm=6', '([5, 4],(-2.6,3.1 mm) => contr=1.436, fwhm=6', '([6, 4],(-1.9,3.1 mm) => contr=1.364, fwhm=7', '([7, 4],(-1.2,3.1 mm) => contr=1.349, fwhm=6', '([7, 5],(-1.2,3.8 mm) => contr=1.429, fwhm=5', '([6, 5],(-1.9,3.8 mm) => contr=1.394, fwhm=7', '([5, 5],(-2.6,3.8 mm) => contr=1.332, fwhm=6', '([4, 5],(-3.3,3.8 mm) => contr=1.357, fwhm=5', '([3, 5],(-4.0,3.8 mm) => contr=1.100, fwhm=6', '([2, 5],(-4.7,3.8 mm) => contr=1.339, fwhm=5', '([1, 5],(-5.4,3.8 mm) => contr=1.450, fwhm=6', '([0, 5],(-6.1,3.8 mm) => contr=1.208, fwhm=5', '([0, 6],(-6.1,4.5 mm) => contr=1.350, fwhm=6', '([1, 6],(-5.4,4.5 mm) => contr=1.415, fwhm=5', '([2, 6],(-4.7,4.5 mm) => contr=1.207, fwhm=6', '([3, 6],(-4.0,4.5 mm) => contr=1.440, fwhm=4', '([4, 6],(-3.3,4.5 mm) => contr=1.408, fwhm=6', '([5, 6],(-2.6,4.5 mm) => contr=1.294, fwhm=4', '([6, 6],(-1.9,4.5 mm) => contr=1.432, fwhm=6', '([7, 6],(-1.2,4.5 mm) => contr=1.528, fwhm=6', '([7, 7],(-1.2,5.2 mm) => contr=1.242, fwhm=5', '([6, 7],(-1.9,5.2 mm) => contr=1.354, fwhm=6', '([5, 7],(-2.6,5.2 mm) => contr=1.387, fwhm=5', '([4, 7],(-3.3,5.2 mm) => contr=1.303, fwhm=5', '([3, 7],(-4.0,5.2 mm) => contr=1.341, fwhm=7', '([2, 7],(-4.7,5.2 mm) => contr=1.337, fwhm=6', '([1, 7],(-5.4,5.2 mm) => contr=1.276, fwhm=5', '([0, 7],(-6.1,5.2 mm) => contr=1.394, fwhm=5']"
      ]
     },
     "execution_count": 246,
     "metadata": {},
     "output_type": "execute_result"
    }
   ],
   "source": [
    "[(f\"({o['trans_idx']},({1e3*o['x']:.1f},{1e3*o['y']:.1f} mm) \\\n",
    "=> contr={o['fit_res']['Contrast']['value']:.3f}, fwhm={o['fit_res']['FWHM']['value']/1e6:.0f}\") for o in odmrs]"
   ]
  },
  {
   "cell_type": "markdown",
   "metadata": {},
   "source": [
    "### Fit 2x Lorentz for whole series"
   ]
  },
  {
   "cell_type": "markdown",
   "metadata": {},
   "source": [
    "Note: Since the pusledmeasurement fit container is used, you can use the pulsed gui to set boundaries for the fit!"
   ]
  },
  {
   "cell_type": "code",
   "execution_count": 1609,
   "metadata": {},
   "outputs": [],
   "source": [
    "odmrs, arr_dict = do_arr_fit(odmr_raw, fit_method=\"lor_dip_2x\")\n",
    "\n",
    "z_fres0 = create_2d(odmrs, arr_dict['arr_size'], fit_val=\"Position 0\")\n",
    "z_fres1 = create_2d(odmrs, arr_dict['arr_size'], fit_val=\"Position 1\")\n",
    "z_fwhm0 = create_2d(odmrs, arr_dict['arr_size'], fit_val=\"FWHM 0\")\n",
    "z_fwhm1 = create_2d(odmrs, arr_dict['arr_size'], fit_val=\"FWHM 1\")\n",
    "z_contr0 = create_2d(odmrs, arr_dict['arr_size'], fit_val=\"Contrast 0\")\n",
    "z_contr1 = create_2d(odmrs, arr_dict['arr_size'], fit_val=\"Contrast 1\")\n",
    "\n",
    "z_fres = abs(z_fres0-z_fres1)\n",
    "z_fwhm = abs(z_fwhm0-z_fwhm1)/2\n",
    "z_contr = z_contr0/z_contr1"
   ]
  },
  {
   "cell_type": "code",
   "execution_count": 1623,
   "metadata": {
    "scrolled": true
   },
   "outputs": [
    {
     "data": {
      "image/png": "[encoded data removed]"
     },
     "metadata": {
      "image/png": {
       "height": 680,
       "width": 2120
      }
     },
     "output_type": "display_data"
    },
    {
     "data": {
      "image/png": "[encoded data removed]"
     },
     "metadata": {
      "image/png": {
       "height": 680,
       "width": 2132
      }
     },
     "output_type": "display_data"
    }
   ],
   "source": [
    "plt.figure(figsize=(12,4))\n",
    "plt.subplot(131)\n",
    "\n",
    "plt.imshow(z_fres/1e9, origin='lower',\n",
    "           extent=(arr_dict['xy_min'][0]*1e3, arr_dict['xy_max'][0]*1e3, arr_dict['xy_min'][1]*1e3, arr_dict['xy_max'][1]*1e3),  # checked to match magnet gui\n",
    "           vmin=0.05,\n",
    "           vmax=0.1,\n",
    "           cmap='plasma')\n",
    "plt.title(\"Res frequency\")\n",
    "plt.xlabel(\"x (mm)\")\n",
    "plt.ylabel(\"y (mm)\")\n",
    "plt.colorbar()\n",
    "\n",
    "plt.subplot(132)\n",
    "\n",
    "plt.imshow(z_fwhm/1e6, origin='lower',\n",
    "           extent=(arr_dict['xy_min'][0]*1e3, arr_dict['xy_max'][0]*1e3, arr_dict['xy_min'][1]*1e3, arr_dict['xy_max'][1]*1e3),  # checked to match magnet gui\n",
    "           vmax=50e6/1e6, vmin=0,\n",
    "           cmap='plasma')\n",
    "plt.title(\"Res FWHM\")\n",
    "plt.xlabel(\"x (mm)\")\n",
    "plt.ylabel(\"y (mm)\")\n",
    "plt.colorbar()\n",
    "\n",
    "plt.subplot(133)\n",
    "\n",
    "plt.imshow(z_contr, origin='lower',\n",
    "           extent=(arr_dict['xy_min'][0]*1e3, arr_dict['xy_max'][0]*1e3, arr_dict['xy_min'][1]*1e3, arr_dict['xy_max'][1]*1e3),  # checked to match magnet gui\n",
    "           vmax=2,\n",
    "           cmap='plasma')\n",
    "plt.title(\"Contrast\")\n",
    "plt.xlabel(\"x (mm)\")\n",
    "plt.ylabel(\"y (mm)\")\n",
    "plt.colorbar()\n",
    "\n",
    "plt.tight_layout()\n",
    "plt.show()\n",
    "\n",
    "### Detailed plot\n",
    "\n",
    "plt.figure(figsize=(12,4))\n",
    "plt.subplot(141)\n",
    "\n",
    "plt.imshow(z_fres0/1e9, origin='lower',\n",
    "           extent=(arr_dict['xy_min'][0]*1e3, arr_dict['xy_max'][0]*1e3, arr_dict['xy_min'][1]*1e3, arr_dict['xy_max'][1]*1e3),  # checked to match magnet gui\n",
    "           vmin=1.45,\n",
    "           vmax=1.58,\n",
    "           cmap='plasma')\n",
    "plt.title(\"Res 0 frequency\")\n",
    "plt.xlabel(\"x (mm)\")\n",
    "plt.ylabel(\"y (mm)\")\n",
    "plt.colorbar()\n",
    "\n",
    "plt.subplot(142)\n",
    "\n",
    "plt.imshow(z_fres1/1e9, origin='lower',\n",
    "           extent=(arr_dict['xy_min'][0]*1e3, arr_dict['xy_max'][0]*1e3, arr_dict['xy_min'][1]*1e3, arr_dict['xy_max'][1]*1e3),  # checked to match magnet gui\n",
    "           vmax=1.65,\n",
    "           vmin=1.45,\n",
    "           cmap='plasma')\n",
    "plt.title(\"Res 1 frequency\")\n",
    "plt.xlabel(\"x (mm)\")\n",
    "plt.ylabel(\"y (mm)\")\n",
    "plt.colorbar()\n",
    "\n",
    "plt.subplot(143)\n",
    "\n",
    "plt.imshow(z_contr0, origin='lower',\n",
    "           extent=(arr_dict['xy_min'][0]*1e3, arr_dict['xy_max'][0]*1e3, arr_dict['xy_min'][1]*1e3, arr_dict['xy_max'][1]*1e3),  # checked to match magnet gui\n",
    "           vmax=1,\n",
    "           cmap='plasma')\n",
    "plt.title(\"Contrast\")\n",
    "plt.xlabel(\"x (mm)\")\n",
    "plt.ylabel(\"y (mm)\")\n",
    "plt.colorbar()\n",
    "\n",
    "\n",
    "plt.subplot(144)\n",
    "\n",
    "plt.imshow(z_contr1, origin='lower',\n",
    "           extent=(arr_dict['xy_min'][0]*1e3, arr_dict['xy_max'][0]*1e3, arr_dict['xy_min'][1]*1e3, arr_dict['xy_max'][1]*1e3),  # checked to match magnet gui\n",
    "           vmax=1,\n",
    "           cmap='plasma')\n",
    "plt.title(\"Contrast\")\n",
    "plt.xlabel(\"x (mm)\")\n",
    "plt.ylabel(\"y (mm)\")\n",
    "plt.colorbar()\n",
    "plt.tight_layout()\n",
    "plt.show()\n",
    "\n"
   ]
  },
  {
   "cell_type": "markdown",
   "metadata": {},
   "source": [
    "### Extract fit data from running magnet logic"
   ]
  },
  {
   "cell_type": "code",
   "execution_count": null,
   "metadata": {},
   "outputs": [],
   "source": [
    "ml = magnet_logic\n",
    "mgui = magnetgui\n",
    "\n",
    "width = np.zeros(ml._2D_data_matrix.shape)\n",
    "contr = np.zeros(width.shape)\n",
    "for ix,iy in np.ndindex(ml._2D_add_data_matrix.shape):\n",
    "    width[ix, iy] = ml._2D_add_data_matrix[ix,iy]['Fit result']['fwhm'].value\n",
    "    contr[ix, iy] = ml._2D_add_data_matrix[ix,iy]['Fit result']['Contrast'].value\n",
    "#ml._2D_data_matrix = width\n",
    "#mgui._update_2d_graph_data()"
   ]
  },
  {
   "cell_type": "code",
   "execution_count": 19,
   "metadata": {},
   "outputs": [
    {
     "data": {
      "image/png": "[encoded data removed]"
     },
     "metadata": {
      "image/png": {
       "height": 306,
       "width": 478
      }
     },
     "output_type": "display_data"
    }
   ],
   "source": [
    "plt.plot(pulsedmeasurementlogic.signal_data[1])\n",
    "plt.show()"
   ]
  },
  {
   "cell_type": "markdown",
   "metadata": {},
   "source": [
    "#  Preperation mes"
   ]
  },
  {
   "cell_type": "markdown",
   "metadata": {},
   "source": [
    "## Pulsed ODMR"
   ]
  },
  {
   "cell_type": "code",
   "execution_count": 793,
   "metadata": {},
   "outputs": [],
   "source": [
    "p_scale_manual = 1\n",
    "\n",
    "\"\"\"\n",
    "common.rabi_shaped['shaped_on'] = False\n",
    "if common.rabi_shaped['shaped_on']:\n",
    "    logger.warning(\"pODMR does not support shaped pulses yet. Using potentially wrong calibrated pi pulse.\")\n",
    "\"\"\"\n",
    "\n",
    "if p_scale_manual != 1:\n",
    "    logger.warning(\"Manually reduce AWG ampl / AMP gain by a factor of {} / {}!\".format(2*p_scale_manual, np.sqrt(2*p_scale_manual)))\n",
    "    #qmeas = setup_podmr_params(f_res=common.mw_freq, p_scale=50, p_scale_onlyperiod=p_scale_manual, f_step=20e3) # range ~ 1 MHz\n",
    "#qmeas = setup_podmr_params(f_res=800e6, p_scale=1, f_step=4e6, n_f=100)\n",
    "\n",
    "#qmeas = setup_podmr_params(f_res=2.87e9, p_scale=1, f_step=3e6, n_f=75)     # wide band, ~ 150 MHz\n",
    "#qmeas = setup_podmr_params(f_res=common.mw_freq, p_scale=1, f_step=3e6, n_f=75)\n",
    "#qmeas = setup_podmr_params(f_res=common.mw_freq, p_scale=1, f_step=2000e3, n_f=200)     # wide band\n",
    "#qmeas = setup_podmr_params(f_res=2.88e9, p_scale=1, f_step=2000e3, n_f=200)\n",
    "#qmeas = setup_podmr_params(f_res=common.mw_freq, p_scale=1, f_step=50e3, n_f=75)     \n",
    "\n",
    "#qmeas = setup_podmr_params(f_res=common.mw_freq, p_scale=5, f_step=1000e3, n_f=150)     # wide band, ~ 150 MHz\n",
    "#qmeas = setup_podmr_params(f_res=common.mw_freq, p_scale=5, f_step=500e3, n_f=75)\n",
    "\n",
    "#qmeas = setup_podmr_params(f_res=common.mw_freq, p_scale=10, f_step=500e3, n_f=75) # range ~ 5 MHz\n",
    "#qmeas = setup_podmr_params(f_res=common.mw_freq, p_scale=10, f_step=50e3, n_f=75) # range ~ 5 MHz\n",
    "#qmeas = setup_podmr_params(f_res=common.mw_freq, p_scale=20, f_step=1000e3, n_f=100)#, t_pi_manual=8e-6)\n",
    "#qmeas = setup_podmr_params(f_res=common.mw_freq, p_scale=30, f_step=500e3, n_f=75)\n",
    "#qmeas = setup_podmr_params(f_res=common.mw_freq, p_scale=40, f_step=50e3, n_f=75) # range ~ 3*6 MHz\n",
    "#qmeas = setup_podmr_params(f_res=common.mw_freq, p_scale=60, f_step=50e3, n_f=100) # range ~ 1 MHz, \n",
    "qmeas = setup_podmr_params(f_res=common.mw_freq, p_scale=60, f_step=100e3, n_f=150) # range ~ 1 MHz, \n",
    "\n",
    "# for extremely good T2* / Rabi drive efficiency\n",
    "#qmeas = setup_podmr_params(f_res=common.mw_freq, p_scale=500, f_step=20e3, n_f=150) # range ~ 1 MHz, \n",
    "#qmeas = setup_podmr_params(f_res=common.mw_freq, p_scale=250, f_step=20e3, n_f=150) # range ~ 1 MHz, \n",
    "\n",
    "#qmeas = setup_podmr_params(f_res=common.mw_freq, p_scale=1500, f_step=20e3, n_f=250)\n",
    "\n",
    "uglobals.abort.clear()\n",
    "run_pdomr(qmeas)\n",
    "\n"
   ]
  },
  {
   "cell_type": "code",
   "execution_count": 108,
   "metadata": {},
   "outputs": [
    {
     "data": {
      "text/plain": [
       "OrderedDict([('name', 'pulsedodmr_shaped'), ('experiment', 'pulsedodmr'), ('rabi_period', 1.098e-06), ('freq_step', 100000.0), ('num_of_points', 75), ('freq_start', 1503460000.0), ('microwave_amplitude', 0.004166666666666667), ('measurement_time', 1500), ('optimize_time', None), ('fit_experiment', 'lor_dip'), ('env_type', <EnvelopeMethods.parabola: 'SinEnvelopeParabolaN'>), ('order_P', 1), ('gated', False), ('sequence_mode', False), ('ctr_single_sweeps', False), ('ctr_n_sweeps', 0), ('ctr_n_cycles', 0), ('freq_optimize_time', None), ('analysis_interval', None), ('sampling_freq', 8000000000.0), ('bin_width', 4e-09), ('wait_time', 1e-06), ('laser_delay', 2e-07), ('laser_safety', 2e-07), ('sync_channel', 'd_ch1'), ('gate_channel', ''), ('laser_channel', 'd_ch2'), ('laser_length', 3e-06), ('wait_length', 1e-06), ('trigger_length', 2e-08), ('delay_length', 1.7e-07), ('channel_amp', 1.0), ('microwave_channel', 'a_ch1'), ('optimize_channel', '/Dev1/PFI0'), ('readout_end', 3e-07), ('max_tau', 0.001), ('max_tau_start', 0.001), ('max_rabi_period', 0.001), ('min_microwave_frequency', 1), ('max_microwave_amplitude', 0.25), ('params', {'alternating': False, 'laser_ignore_list': [], 'controlled_variable': array([1.50346e+09, 1.50356e+09, 1.50366e+09, 1.50376e+09, 1.50386e+09,\n",
       "       1.50396e+09, 1.50406e+09, 1.50416e+09, 1.50426e+09, 1.50436e+09,\n",
       "       1.50446e+09, 1.50456e+09, 1.50466e+09, 1.50476e+09, 1.50486e+09,\n",
       "       1.50496e+09, 1.50506e+09, 1.50516e+09, 1.50526e+09, 1.50536e+09,\n",
       "       1.50546e+09, 1.50556e+09, 1.50566e+09, 1.50576e+09, 1.50586e+09,\n",
       "       1.50596e+09, 1.50606e+09, 1.50616e+09, 1.50626e+09, 1.50636e+09,\n",
       "       1.50646e+09, 1.50656e+09, 1.50666e+09, 1.50676e+09, 1.50686e+09,\n",
       "       1.50696e+09, 1.50706e+09, 1.50716e+09, 1.50726e+09, 1.50736e+09,\n",
       "       1.50746e+09, 1.50756e+09, 1.50766e+09, 1.50776e+09, 1.50786e+09,\n",
       "       1.50796e+09, 1.50806e+09, 1.50816e+09, 1.50826e+09, 1.50836e+09,\n",
       "       1.50846e+09, 1.50856e+09, 1.50866e+09, 1.50876e+09, 1.50886e+09,\n",
       "       1.50896e+09, 1.50906e+09, 1.50916e+09, 1.50926e+09, 1.50936e+09,\n",
       "       1.50946e+09, 1.50956e+09, 1.50966e+09, 1.50976e+09, 1.50986e+09,\n",
       "       1.50996e+09, 1.51006e+09, 1.51016e+09, 1.51026e+09, 1.51036e+09,\n",
       "       1.51046e+09, 1.51056e+09, 1.51066e+09, 1.51076e+09, 1.51086e+09]), 'units': ('Hz', ''), 'labels': ('Frequency', 'Signal'), 'number_of_lasers': 75, 'counting_length': 0.00035622500000000146})])"
      ]
     },
     "execution_count": 108,
     "metadata": {},
     "output_type": "execute_result"
    }
   ],
   "source": [
    "qmeas"
   ]
  },
  {
   "cell_type": "markdown",
   "metadata": {},
   "source": [
    "## Rabi"
   ]
  },
  {
   "cell_type": "code",
   "execution_count": 799,
   "metadata": {},
   "outputs": [],
   "source": [
    "uglobals.abort.clear()\n",
    "#uglobals.abort.set()\n",
    "\n",
    "qmeas = setup_rabi_params(tau_step=500*1e-9, p_scale=250, alternating=False, n_tau=200)   # 10e-9\n",
    "#qmeas = setup_rabi_params(tau_step=25*1e-9, p_scale=25, alternating=False)   # 10e-9\n",
    "qmeas = setup_rabi_params(tau_step=1e-9, p_scale=1, alternating=False)   # 10e-9\n",
    "\n",
    "qmeas = setup_rabi_params(tau_step=2*common.rabi_period/20, n_tau=75) \n",
    "\n",
    "\"\"\"\n",
    "leave_out_idx = np.asarray([np.arange(20,100), np.arange(120,200), np.arange(220,300)]).flatten() \n",
    "qmeas = setup_rabi_params(tau_step=2.5e-9*2, n_tau=320, p_scale=2, leave_out_tau_idx=np.array2string(leave_out_idx,\n",
    "                                                                                                      separator=',',\n",
    "                                                                                                      max_line_width=9999))   # 10e-9\n",
    "\"\"\"\n",
    "\n",
    "run_rabi(qmeas)\n"
   ]
  },
  {
   "cell_type": "code",
   "execution_count": 58,
   "metadata": {},
   "outputs": [
    {
     "data": {
      "text/plain": [
       "OrderedDict([('env_type', <EnvelopeMethods.parabola: 'SinEnvelopeParabolaN'>), ('order_P', 1), ('name', 'rabi_shaped'), ('experiment', 'rabi_shaped'), ('rabi_period', 1.83e-08), ('tau_step', 1e-09), ('tau_start', 0.0), ('alterating', False), ('leave_out_tau_idx', ''), ('num_of_points', 50), ('microwave_frequency', 1507210000.0), ('microwave_amplitude', 0.25), ('measurement_time', None), ('optimize_time', None), ('freq_optimize_time', None), ('fit_experiment', 'sine')])"
      ]
     },
     "execution_count": 58,
     "metadata": {},
     "output_type": "execute_result"
    }
   ],
   "source": [
    "qmeas"
   ]
  },
  {
   "cell_type": "markdown",
   "metadata": {
    "scrolled": false
   },
   "source": [
    "### power series"
   ]
  },
  {
   "cell_type": "code",
   "execution_count": 781,
   "metadata": {},
   "outputs": [],
   "source": [
    "uglobals.abort.clear()\n",
    "pscales = np.linspace(1, 0.01, 10)[::-1]\n",
    "p_start = 30e-3 #common.mw_amp\n",
    "\n",
    "for i, p in enumerate(pscales):\n",
    "    if uglobals.abort.is_set():\n",
    "        break\n",
    "    try:\n",
    "        p_phys = p_start*p\n",
    "        qmeas = setup_rabi_params(tau_step=common.rabi_period/20*common.mw_amp/p_phys,\n",
    "                                  n_tau=75, p_scale=common.mw_amp/p_phys)   # 10e-9\n",
    "        #qmeas = setup_rabi_params(tau_step=250e-9, p_scale=10)\n",
    "        qmeas['measurement_time'] = 15\n",
    "        savetag = f\"rabi_idx={i}_ampl={1e3*p_phys:.2f}mV\"\n",
    "        run_generic(qmeas, save_tag=savetag)\n",
    "    except Exception as e:\n",
    "        stack_trace = traceback.format_exc()\n",
    "        logger.warning(\"auto run {} failed: {}.\\n{}\".format(i, str(e), stack_trace))\n",
    "\n",
    "logger.info(\"Autopilot has landed.\")\n",
    "            "
   ]
  },
  {
   "cell_type": "code",
   "execution_count": 565,
   "metadata": {},
   "outputs": [
    {
     "data": {
      "text/plain": [
       "1.275e-08"
      ]
     },
     "execution_count": 565,
     "metadata": {},
     "output_type": "execute_result"
    }
   ],
   "source": [
    "common.rabi_period"
   ]
  },
  {
   "cell_type": "markdown",
   "metadata": {},
   "source": [
    "## Ramsey\n"
   ]
  },
  {
   "cell_type": "code",
   "execution_count": 92,
   "metadata": {},
   "outputs": [],
   "source": [
    "tau_start = 0.05e-6\n",
    "n_sweeps = 0#1e3\n",
    "\n",
    "uglobals.abort.clear()\n",
    "qmeas = setup_ramsey_params(tau_start, n_tau=50, tau_step=100e-9, alternating=True)\n",
    "#qmeas = setup_ramsey_params(tau_start, n_tau=100, tau_step=7.5e-9, alternating=True, read_phases='-90, +90', red_readout=False)\n",
    "#qmeas = setup_ramsey_params(tau_start, n_tau=100, tau_step=100e-9)     \n",
    "#qmeas = setup_ramsey_params(tau_start, n_tau=120, tau_step=20e-9, alternating=True)\n",
    "#qmeas = setup_ramsey_params(tau_start, n_tau=200, tau_step=250e-9)      # 75ns: res like mfl\n",
    "#qmeas = setup_ramsey_params(tau_start, n_tau=400, tau_step=50e-9)     # high res    \n",
    "#qmeas = setup_ramsey_params(tau_start, n_tau=400, tau_step=100e-9)     # high res  \n",
    "x, z = run_ramsey(qmeas, n_sweeps_stop=n_sweeps)\n",
    "z_binary = 0 #majority_vote(z[0], z_thres=common.mfl_z_thres)\n",
    "\n",
    "logger.info(\"Ramsey with offset {} MHz, {} sweeps: {} -> {}\".format(common.mw_ramsey_offset/1e6, n_sweeps, z, z_binary))\n"
   ]
  },
  {
   "cell_type": "code",
   "execution_count": 479,
   "metadata": {},
   "outputs": [
    {
     "data": {
      "text/plain": [
       "OrderedDict([('name', 'Ramsey'), ('experiment', 'ramsey_s3p'), ('t_laser_init', 3e-06), ('laser_read_ch', 'd_ch3'), ('rabi_period', 1.164e-07), ('microwave_frequency', 2817800000.0), ('microwave_amplitude', 0.25), ('tau_start', 5e-08), ('tau_step', 2.5e-08), ('num_of_points', 30), ('alternating', True), ('from_list', False), ('optimize_time', None), ('fit_experiment', 'sine_decay'), ('read_phases_degree', '-90, +90'), ('gated', False), ('sequence_mode', False), ('ctr_single_sweeps', False), ('ctr_n_sweeps', 0), ('ctr_n_cycles', 0), ('measurement_time', None), ('freq_optimize_time', None), ('analysis_interval', None), ('sampling_freq', 8000000000.0), ('bin_width', 4e-09), ('wait_time', 1e-06), ('laser_delay', 9e-07), ('laser_safety', 2e-07), ('sync_channel', 'd_ch1'), ('gate_channel', ''), ('laser_channel', 'd_ch2'), ('laser_length', 5e-07), ('wait_length', 1e-06), ('trigger_length', 2e-08), ('delay_length', 8.699999999999999e-07), ('channel_amp', 1.0), ('microwave_channel', 'a_ch1'), ('optimize_channel', '/Dev1/PFI0'), ('readout_end', 3e-07), ('max_tau', 0.001), ('max_tau_start', 0.001), ('max_rabi_period', 0.001), ('min_microwave_frequency', 1), ('max_microwave_amplitude', 0.25), ('params', {'alternating': True, 'laser_ignore_list': [], 'controlled_variable': array([5.00e-08, 7.50e-08, 1.00e-07, 1.25e-07, 1.50e-07, 1.75e-07,\n",
       "       2.00e-07, 2.25e-07, 2.50e-07, 2.75e-07, 3.00e-07, 3.25e-07,\n",
       "       3.50e-07, 3.75e-07, 4.00e-07, 4.25e-07, 4.50e-07, 4.75e-07,\n",
       "       5.00e-07, 5.25e-07, 5.50e-07, 5.75e-07, 6.00e-07, 6.25e-07,\n",
       "       6.50e-07, 6.75e-07, 7.00e-07, 7.25e-07, 7.50e-07, 7.75e-07]), 'units': ('s', ''), 'labels': ('Tau', 'Signal'), 'number_of_lasers': 60, 'counting_length': 0.00035229200000000003})])"
      ]
     },
     "execution_count": 479,
     "metadata": {},
     "output_type": "execute_result"
    }
   ],
   "source": [
    "qmeas"
   ]
  },
  {
   "cell_type": "markdown",
   "metadata": {},
   "source": [
    "## Hahn\n"
   ]
  },
  {
   "cell_type": "code",
   "execution_count": 302,
   "metadata": {},
   "outputs": [],
   "source": [
    "he_tau_step = 125e-9\n",
    "he_n_tau = 50\n",
    "#he_n_tau = 50\n",
    "\n",
    "logger.info(f\"Tau max= {he_tau_step*he_n_tau}\")"
   ]
  },
  {
   "cell_type": "code",
   "execution_count": 254,
   "metadata": {},
   "outputs": [],
   "source": [
    "uglobals.abort.clear()\n",
    "\n",
    "qmeas = setup_hahn_params(tau_start=10e-9, n_tau=he_n_tau, tau_step=he_tau_step, alternating=True)\n",
    "#qmeas = setup_hahn_params(tau_start=14e-6, n_tau=he_n_tau, tau_step=he_tau_step, alternating=True)\n",
    "run_generic(qmeas)"
   ]
  },
  {
   "cell_type": "markdown",
   "metadata": {},
   "source": [
    "## XY 8 "
   ]
  },
  {
   "cell_type": "code",
   "execution_count": null,
   "metadata": {},
   "outputs": [],
   "source": []
  },
  {
   "cell_type": "markdown",
   "metadata": {},
   "source": []
  },
  {
   "cell_type": "markdown",
   "metadata": {},
   "source": [
    "tau sweep"
   ]
  },
  {
   "cell_type": "code",
   "execution_count": 143,
   "metadata": {},
   "outputs": [],
   "source": [
    "#tau_start = 0.2e-6\n",
    "tau_start = 800e-9\n",
    "\n",
    "uglobals.abort.clear()\n",
    "# narrow resonance NV M17\n",
    "qmeas = setup_xy8_tausweep_params(tau_start, n_tau=120, tau_step=10e-9, xy8_order=8, alternating=True)\n",
    "\n",
    "#qmeas = setup_xy8_tausweep_params(tau_start, n_tau=10, tau_step=25e-9, xy8_order=800, alternating=True)\n",
    "\n",
    "\n",
    "# larger sweeps\n",
    "#qmeas = setup_xy8_tausweep_params(tau_start, n_tau=75, tau_step=10e-9, xy8_order=4, alternating=True) \n",
    "#qmeas = setup_xy8_tausweep_params(tau_start, n_tau=75, tau_step=3e-9, xy8_order=4, alternating=True) \n",
    "#qmeas = setup_xy8_tausweep_params(tau_start, n_tau=250, tau_step=20e-9, xy8_order=4, alternating=True)\n",
    "#qmeas = setup_xy8_tausweep_params(tau_start, n_tau=75, tau_step=5e-9, xy8_order=8, alternating=True) \n",
    "\n",
    "run_xy8_tausweep(qmeas)"
   ]
  },
  {
   "cell_type": "markdown",
   "metadata": {},
   "source": [
    "n sweep"
   ]
  },
  {
   "cell_type": "code",
   "execution_count": 21,
   "metadata": {},
   "outputs": [],
   "source": [
    "tau = 800e-9#440.0e-9\n",
    "tau = 441.6e-9\n",
    "\n",
    "uglobals.abort.clear()\n",
    "#qmeas = setup_xy8_nsweep_params(tau, n_n=25, xy8_start=4, xy8_step=1, alternating=True)\n",
    "qmeas = setup_xy8_nsweep_params(tau, n_n=15, xy8_start=4, xy8_step=100, alternating=True)  # long t_evol, mem limit\n",
    "#qmeas = setup_xy8_nsweep_params(tau, n_n=25, xy8_start=1, xy8_step=1, alternating=True)  \n",
    "\n",
    "run_xy8_nsweep(qmeas)"
   ]
  },
  {
   "cell_type": "code",
   "execution_count": null,
   "metadata": {},
   "outputs": [],
   "source": [
    "a few xy8 tau sweeps"
   ]
  },
  {
   "cell_type": "code",
   "execution_count": 54,
   "metadata": {},
   "outputs": [],
   "source": [
    "uglobals.abort.clear()\n",
    "\n",
    "tau_start = 0.5e-6\n",
    "xy_orders = np.arange(5, 16, 1)\n",
    "\n",
    "for i, o in enumerate(xy_orders):\n",
    "    if uglobals.abort.is_set():\n",
    "        break\n",
    "    try:\n",
    "        #pass\n",
    "        #\"\"\"\n",
    "        laser_on()\n",
    "        time.sleep(1)\n",
    "        optimize_position()\n",
    "        optimize_position()\n",
    "        laser_off()\n",
    "        #\"\"\"\n",
    "    except Exception as e:\n",
    "        logger.warning(\"auto XY8 run {}, skipping failed tracking: {}\".format(i, str(e)))\n",
    "    if uglobals.abort.is_set():\n",
    "        break\n",
    "        \n",
    "    qmeas = setup_xy8_tausweep_params(tau_start, n_tau=50, tau_step=20e-9, xy8_order=o, alternating=True)     \n",
    "    qmeas['measurement_time'] = 180\n",
    "    run_xy8_tausweep(qmeas)"
   ]
  },
  {
   "cell_type": "markdown",
   "metadata": {},
   "source": [
    "## Hartmann Hahn"
   ]
  },
  {
   "cell_type": "code",
   "execution_count": 509,
   "metadata": {},
   "outputs": [],
   "source": [
    "uglobals.abort.clear()\n",
    "\n",
    "qmeas = setup_hh_tau_params(tau_start=0e-6, tau_step=0.6e-6, n_tau=50, amp_sl=1.35e-3)\n",
    "\n",
    "\n",
    "run_generic(qmeas)"
   ]
  },
  {
   "cell_type": "markdown",
   "metadata": {},
   "source": [
    "### power series"
   ]
  },
  {
   "cell_type": "code",
   "execution_count": 512,
   "metadata": {},
   "outputs": [],
   "source": [
    "uglobals.abort.clear()\n",
    "pscales = np.linspace(1, 0.68, 20)\n",
    "p_start_sl = 1.6e-3  # 1.65 ~ 523 kHz = Lamor\n",
    "\n",
    "for i, p in enumerate(pscales):\n",
    "    if uglobals.abort.is_set():\n",
    "        break\n",
    "    try:\n",
    "\n",
    "        qmeas = setup_hh_tau_params(tau_start=0e-6, tau_step=0.65e-6, n_tau=50, amp_sl=p_start_sl*p)\n",
    "        #qmeas = setup_rabi_params(tau_step=250e-9, p_scale=10)\n",
    "        qmeas['measurement_time'] = 2*60\n",
    "        savetag = f\"hh_tau_idx={i}_ampl_lock={1e3*p_start_sl*p:.2f}mV\"\n",
    "        run_generic(qmeas, save_tag=savetag)\n",
    "    except Exception as e:\n",
    "        stack_trace = traceback.format_exc()\n",
    "        logger.warning(\"auto run {} failed: {}.\\n{}\".format(i, str(e), stack_trace))\n",
    "\n",
    "logger.info(\"Autopilot has landed.\")"
   ]
  },
  {
   "cell_type": "markdown",
   "metadata": {},
   "source": [
    "# Double Hartmann-Hahn"
   ]
  },
  {
   "cell_type": "code",
   "execution_count": null,
   "metadata": {},
   "outputs": [],
   "source": []
  },
  {
   "cell_type": "code",
   "execution_count": null,
   "metadata": {},
   "outputs": [],
   "source": []
  },
  {
   "cell_type": "markdown",
   "metadata": {},
   "source": [
    "## freq scan"
   ]
  },
  {
   "cell_type": "code",
   "execution_count": 428,
   "metadata": {},
   "outputs": [],
   "source": [
    "\n",
    "\n",
    "qmeas = setup_double_hh_f_params(f_start=2e6, n_f=25, f_step=0.5e6, spinlock_length=4*45e-9, \n",
    "                                 ampl_spinlock=0.25/10., ampl_dress2=25e-3/4)\n",
    "qmeas = setup_double_hh_f_params(f_start=39e6, n_f=50, f_step=0.1e6, spinlock_length=200e-9, \n",
    "                                 ampl_spinlock=0.25/10., ampl_dress2=0.125/20)\n",
    "## 8.620 MHz\n",
    "qmeas = setup_double_hh_f_params(f_start=6.5e6, n_f=50, f_step=0.1e6, spinlock_length=300e-9, \n",
    "                                 ampl_spinlock=0.25/10, ampl_dress2=0.025/5)\n",
    "## 8.713 MHz\n",
    "qmeas = setup_double_hh_f_params(f_start=8e6, n_f=50, f_step=0.05e6, spinlock_length=1.8e-6, \n",
    "                                  ampl_spinlock=0.025, ampl_dress2=0.025/30)\n",
    "## 8.710 MHz / FWHM: 88 kHz\n",
    "qmeas = setup_double_hh_f_params(f_start=8.55e6, n_f=30, f_step=0.01e6, spinlock_length=9.0e-6, \n",
    "                                ampl_spinlock=0.025, ampl_dress2=0.833e-3/5)\n",
    "#qmeas = setup_double_hh_f_params(f_start=8.2e6, n_f=40, f_step=0.025e6, spinlock_length=7.0e-6, \n",
    "#                                ampl_spinlock=0.18, ampl_dress2=2.5e-3/2)\n",
    "#qmeas = setup_double_hh_f_params(f_start=8e6, n_f=25, f_step=0.1e6, spinlock_length=1.7*3e-6, \n",
    "#                                ampl_spinlock=0.18, ampl_dress2=5e-3/3)\n",
    "#qmeas = setup_double_hh_f_params(f_start=9.4e6, n_f=25, f_step=0.03e6, spinlock_length=10e-6, \n",
    "#                                 ampl_spinlock=0.18, ampl_dress2=1e-3)\n",
    "#qmeas = setup_double_hh_f_params(f_start=5e6, n_f=30, f_step=0.05e6, spinlock_length=5500e-9/2, \n",
    "#                                ampl_spinlock=0.18, ampl_dress2=1.55e-3)\n",
    "#qmeas = setup_double_hh_f_params(f_start=13.0e6, n_f=30, f_step=0.025e6, spinlock_length=14.9e-6/2, \n",
    "#                                 ampl_spinlock=0.18, ampl_dress2=1.55e-3/2)\n",
    "#qmeas = setup_hahn_params(tau_start=14e-6, n_tau=he_n_tau, tau_step=he_tau_step, alternating=True)\n",
    "uglobals.abort.clear()\n",
    "run_generic(qmeas)"
   ]
  },
  {
   "cell_type": "markdown",
   "metadata": {},
   "source": [
    "## long term drift mes"
   ]
  },
  {
   "cell_type": "code",
   "execution_count": 638,
   "metadata": {},
   "outputs": [],
   "source": [
    "t_run = 300*60\n",
    "import time\n",
    "t_start = time.time()\n",
    "\n",
    "uglobals.abort.clear()\n",
    "\n",
    "idx = 0\n",
    "while time.time() - t_start < t_run:\n",
    "    if uglobals.abort.is_set():\n",
    "        break\n",
    "    try:\n",
    "        ampl_dress2 = 1.55e-3/2\n",
    "        qmeas = setup_double_hh_f_params(f_start=13.0e6, n_f=30, f_step=0.025e6, spinlock_length=14.9e-6/2, \n",
    "                                     ampl_spinlock=0.18, ampl_dress2=ampl_dress2)\n",
    "        ampl_dress2 = 0.833e-3/5\n",
    "        qmeas = setup_double_hh_f_params(f_start=8.55e6, n_f=30, f_step=0.01e6, spinlock_length=9.0e-6, \n",
    "                                    ampl_spinlock=0.025, ampl_dress2=ampl_dress2)\n",
    "        #qmeas = setup_rabi_params(tau_step=250e-9, p_scale=10)\n",
    "        qmeas['measurement_time'] = 1*60\n",
    "        savetag = f\"double_hh_f_idx={idx}_ampl_dress2={1e3*ampl_dress2:.2f}mV\"\n",
    "        run_generic(qmeas, save_tag=savetag)\n",
    "        idx += 1\n",
    "    except Exception as e:\n",
    "        stack_trace = traceback.format_exc()\n",
    "        logger.warning(\"auto run {} failed: {}.\\n{}\".format(i, str(e), stack_trace))\n",
    "\n",
    "logger.info(\"Autopilot has landed.\")\n",
    "laser_on()"
   ]
  },
  {
   "cell_type": "markdown",
   "metadata": {},
   "source": [
    "## tau scan"
   ]
  },
  {
   "cell_type": "code",
   "execution_count": 527,
   "metadata": {},
   "outputs": [],
   "source": [
    "# t_rabi= 604 ns\n",
    "qmeas = setup_double_hh_tau_params(f_dress2=8.92e6, n_tau=30, tau_start=10e-9, tau_step=40e-9,\n",
    "                                   ampl_spinlock=0.025, ampl_dress2=0.025/5)\n",
    "# t_rabi= 3.3 us\n",
    "qmeas = setup_double_hh_tau_params(f_dress2=8.620e6, n_tau=50, tau_start=10e-9, tau_step=6*40e-9,\n",
    "                                   ampl_spinlock=0.025, ampl_dress2=0.025/30)\n",
    "# t_rabi = 17.9 us\n",
    "qmeas = setup_double_hh_tau_params(f_dress2=8.7053e6, n_tau=50, tau_start=10e-9, tau_step=5*240e-9,\n",
    "                                    ampl_spinlock=0.025, ampl_dress2=0.833e-3/5)\n",
    "\n",
    "\n",
    "qmeas = setup_double_hh_tau_params(f_dress2=8.725e6, n_tau=50, tau_start=10e-9, tau_step=2e-6,\n",
    "                                    ampl_spinlock=0.025, ampl_dress2=0.833e-3/5)\n",
    "\n",
    "#qmeas = setup_double_hh_tau_params(f_dress2=8.681e6, n_tau=30, tau_start=10e-9, tau_step=3*150e-9,\n",
    "#                                   ampl_spinlock=0.18, ampl_dress2=5e-3/2)\n",
    "#qmeas = setup_double_hh_tau_params(f_dress2=8.55577e6, n_tau=40, tau_start=10e-9, tau_step=2000e-9,\n",
    "#                                   ampl_spinlock=0.18, ampl_dress2=2.5e-3/2)\n",
    "#qmeas = setup_double_hh_tau_params(f_dress2=9.806e6, n_tau=30, tau_start=10e-9, tau_step=1000e-9,\n",
    "#                                   ampl_spinlock=0.18, ampl_dress2=1e-3)\n",
    "#qmeas = setup_double_hh_tau_params(f_dress2=8.42e6, n_tau=30, tau_start=10e-9, tau_step=1000e-9,\n",
    "#                                   ampl_spinlock=0.18, ampl_dress2=1.55e-3/2)\n",
    "\n",
    "uglobals.abort.clear()\n",
    "run_generic(qmeas)"
   ]
  },
  {
   "cell_type": "markdown",
   "metadata": {},
   "source": [
    "### power series"
   ]
  },
  {
   "cell_type": "code",
   "execution_count": 449,
   "metadata": {},
   "outputs": [],
   "source": [
    "uglobals.abort.clear()\n",
    "pscales = np.linspace(1, 1./10., 10)\n",
    "p_start_dress2 =  3e-3\n",
    "\n",
    "for i, p in enumerate(pscales):\n",
    "    if uglobals.abort.is_set():\n",
    "        break\n",
    "    try:\n",
    "        \n",
    "        #setup_double_hh_tau_params(f_dress2=8.713e6, n_tau=50, tau_start=10e-9, tau_step=5*240e-9,\n",
    "        #                            ampl_spinlock=0.025, ampl_dress2=)\n",
    "        qmeas = setup_double_hh_tau_params(f_dress2=8.7053e6, n_tau=60, tau_start=50e-9, tau_step=100e-9,\n",
    "                                   ampl_spinlock=0.025, ampl_dress2=p_start_dress2*p)\n",
    "        #qmeas = setup_rabi_params(tau_step=250e-9, p_scale=10)\n",
    "        qmeas['measurement_time'] = 0.5*60\n",
    "        savetag = f\"double_hh_tau_idx={i}_ampl_dress2={1e3*p_start_dress2*p:.2f}mV\"\n",
    "        run_generic(qmeas, save_tag=savetag)\n",
    "    except Exception as e:\n",
    "        stack_trace = traceback.format_exc()\n",
    "        logger.warning(\"auto run {} failed: {}.\\n{}\".format(i, str(e), stack_trace))\n",
    "\n",
    "logger.info(\"Autopilot has landed.\")\n",
    "            "
   ]
  },
  {
   "cell_type": "markdown",
   "metadata": {},
   "source": [
    "## double spin lock (dsl) tau"
   ]
  },
  {
   "cell_type": "code",
   "execution_count": 426,
   "metadata": {},
   "outputs": [],
   "source": [
    "qmeas = setup_double_hh_dsl_tau_params(f_dress2=8.92e6, n_tau=30, tau_start=10e-9, tau_step=0.05e-6,\n",
    "                                   ampl_spinlock=0.025, ampl_dress2= 0.025/5.,  \n",
    "                                   ampl_pi2_dress2=0.1, t_rabi_dress2=140e-9,\n",
    "                                    alternating_dress2_init=False)\n",
    "#qmeas = setup_hahn_params(tau_start=14e-6, n_tau=he_n_tau, tau_step=he_tau_step, alternating=True)\n",
    "uglobals.abort.clear()\n",
    "run_generic(qmeas)"
   ]
  },
  {
   "cell_type": "markdown",
   "metadata": {},
   "source": [
    "### power series"
   ]
  },
  {
   "cell_type": "code",
   "execution_count": 473,
   "metadata": {},
   "outputs": [],
   "source": [
    "uglobals.abort.clear()\n",
    "#pscales = np.sort(np.append(np.linspace(1, 0.8., 40), [0]))\n",
    "pscales = np.linspace(1, 0.8, 40)\n",
    "p_start_dress2 = 1.7e-3\n",
    "\n",
    "#t_rabi_dressed = 535e-9\n",
    "#t_sample = t_rabi_dressed\n",
    "\n",
    "for i, p in enumerate(pscales):\n",
    "    if uglobals.abort.is_set():\n",
    "        break\n",
    "    try:\n",
    "\n",
    "        qmeas = setup_double_hh_dsl_tau_params(f_dress2=8.7053e6, n_tau=75, tau_start=50e-9, tau_step=0.25e-6,\n",
    "                                   ampl_spinlock=0.025, ampl_dress2=p_start_dress2*p,  \n",
    "                                   ampl_pi2_dress2=0.1, t_rabi_dress2=140e-9,\n",
    "                                   alternating_dress2_init=True)\n",
    "        qmeas = setup_double_hh_dsl_tau_params(f_dress2=8.7053e6, n_tau=50, tau_start=50e-9, tau_step=0.8e-6,\n",
    "                                   ampl_spinlock=0.025, ampl_dress2=p_start_dress2*p,  \n",
    "                                   ampl_pi2_dress2=0.0e-3, t_rabi_dress2=1e-9,\n",
    "                                   alternating_dress2_init=False)\n",
    "        #qmeas = setup_rabi_params(tau_step=250e-9, p_scale=10)\n",
    "        qmeas['measurement_time'] = 1*60\n",
    "        savetag = f\"double_hh_dsl_tau_idx={i}_ampl_dress2={1e3*p_start_dress2*p:.3f}mV\"\n",
    "        run_generic(qmeas, save_tag=savetag)\n",
    "    except Exception as e:\n",
    "        stack_trace = traceback.format_exc()\n",
    "        logger.warning(\"auto run {} failed: {}.\\n{}\".format(i, str(e), stack_trace))\n",
    "\n",
    "laser_on()\n",
    "logger.info(\"Autopilot has landed.\")\n",
    "            "
   ]
  },
  {
   "cell_type": "markdown",
   "metadata": {},
   "source": [
    "## ISE tau"
   ]
  },
  {
   "cell_type": "code",
   "execution_count": 533,
   "metadata": {},
   "outputs": [],
   "source": [
    "qmeas =  setup_double_hh_ise_tau_params(f_dress2=8.725e6, n_tau=100, tau_start=0.1e-6, tau_step=0.1e-6,\n",
    "                             ampl_spinlock=0.025, df_ise=300e3, ampl_ise=1.4e-3, sweep_speed_ise=0.015524e12,\n",
    "                             alternating_depol=True)\n",
    "\n",
    "#qmeas = setup_hahn_params(tau_start=14e-6, n_tau=he_n_tau, tau_step=he_tau_step, alternating=True)\n",
    "uglobals.abort.clear()\n",
    "#run_generic(qmeas)\n",
    "\n",
    "\"\"\"\n",
    "qmeas =  setup_double_hh_ise_dhh_f_params(f_dress2=8.5657e6, n_tau=50, f_start=8.2e6, f_step=0.025e6,\n",
    "                                           ampl_dhh_dress2=2.5e-3/2, t_dhh_lock=7.0e-6,\n",
    "                                           tau_ise=60e-6, ampl_spinlock=0.18, df_ise=300e3, ampl_ise=p*p_start_ise,\n",
    "                                           sweep_speed_ise=0.007113e12, alternating_depol=False)\n",
    "qmeas['measurement_time'] = 2*60\n",
    "\"\"\"\n",
    "#savetag = f\"double_hh_ise_dhh_f_idx={i}_ampl_ise={1e3*p_start_ise*p:.3f}mV\"\n",
    "run_generic(qmeas, save_tag=savetag)\n",
    "      "
   ]
  },
  {
   "cell_type": "markdown",
   "metadata": {},
   "source": [
    "### power series"
   ]
  },
  {
   "cell_type": "code",
   "execution_count": 647,
   "metadata": {},
   "outputs": [],
   "source": [
    "uglobals.abort.clear()\n",
    "pscales = np.linspace(1, 0.05, 400)\n",
    "np.random.shuffle(pscales)                      \n",
    "p_start_ise = 10e-3\n",
    "\n",
    "for i, p in enumerate(pscales):\n",
    "    if uglobals.abort.is_set():\n",
    "        break\n",
    "    try:\n",
    "        \n",
    "\n",
    "        #qmeas =  setup_double_hh_ise_tau_params(f_dress2=8.725e6, n_tau=100, tau_start=0.1e-6, tau_step=0.5e-6,\n",
    "        #                     ampl_spinlock=0.025, df_ise=300e3, ampl_ise=p*p_start_ise, sweep_speed_ise=0.015524e12,\n",
    "        #                     alternating_depol=True)\n",
    "        #qmeas = setup_rabi_params(tau_step=250e-9, p_scale=10)\n",
    "        #qmeas['measurement_time'] = 20*60\n",
    "        #savetag = f\"double_hh_ise_tau_idx={i}_ampl_ise={1e3*p_start_ise*p:.3f}mV\"\n",
    "        #run_generic(qmeas, save_tag=savetag)\n",
    "        \n",
    "        # fixed tau_ise, but measure T2* via Ramsey for each power\n",
    "        qmeas = setup_double_hh_ise_ramsey_params(f_dress2=8.72514e6, n_tau=35, tau_start=10e-9, tau_step=0.3e-6,\n",
    "                                                   tau_ise=60e-6, ampl_spinlock=0.025, df_ise=300e3, ampl_ise=p*p_start_ise,\n",
    "                                                   sweep_speed_ise=0.015524e12, alternating_depol=False)\n",
    "        #qmeas = setup_rabi_params(tau_step=250e-9, p_scale=10)\n",
    "        qmeas['measurement_time'] = 1.7*60\n",
    "        savetag = f\"double_hh_ise_ramsey_idx={i}_ampl_ise={1e3*p_start_ise*p:.3f}mV\"\n",
    "        run_generic(qmeas, save_tag=savetag)\n",
    "        \n",
    "        # simple hh, no ise. measure T2* via Ramsey for each power\n",
    "        \"\"\"\n",
    "        qmeas =  setup_double_hh_ise_ramsey_params(f_dress2=8.5657e6, n_tau=75, tau_start=10e-9, tau_step=300e-9,\n",
    "                                                   tau_ise=15e-6, ampl_spinlock=p_start_ise*p, df_ise=300e3, ampl_ise=0e-4,\n",
    "                                                   sweep_speed_ise=1e12, alternating_depol=False)\n",
    "        #qmeas = setup_rabi_params(tau_step=250e-9, p_scale=10)\n",
    "        qmeas['measurement_time'] = 20*60\n",
    "        savetag = f\"hh_ramsey_idx={i}_ampl_sl={1e3*p_start_ise*p:.3f}mV\"\n",
    "        run_generic(qmeas, save_tag=savetag)\n",
    "        \"\"\"\n",
    "        \n",
    "        # fixed tau_ise, but measure dress2 spectrum for each power\n",
    "        #qmeas =  setup_double_hh_ise_dhh_f_params(f_dress2=8.5657e6, n_tau=50, f_start=8.2e6, f_step=0.025e6,\n",
    "        #                                           ampl_dhh_dress2=2.5e-3/2, t_dhh_lock=7.0e-6,\n",
    "        #                                           tau_ise=60e-6, ampl_spinlock=0.18, df_ise=300e3, ampl_ise=p*p_start_ise,\n",
    "        #                                           sweep_speed_ise=0.007113e12, alternating_depol=False)\n",
    "        #qmeas['measurement_time'] = 2*60\n",
    "        #savetag = f\"double_hh_ise_dhh_f_idx={i}_ampl_ise={1e3*p_start_ise*p:.3f}mV\"\n",
    "        #run_generic(qmeas, save_tag=savetag)\n",
    "      \n",
    "        \n",
    "    except Exception as e:\n",
    "        stack_trace = traceback.format_exc()\n",
    "        logger.warning(\"auto run {} failed: {}.\\n{}\".format(i, str(e), stack_trace))\n",
    "\n",
    "laser_on()\n",
    "logger.info(\"Autopilot has landed.\")\n",
    "            "
   ]
  },
  {
   "cell_type": "markdown",
   "metadata": {},
   "source": [
    "### df scan"
   ]
  },
  {
   "cell_type": "code",
   "execution_count": 635,
   "metadata": {},
   "outputs": [],
   "source": [
    "p_ise = 1.2e-3\n",
    "\n",
    "uglobals.abort.clear()\n",
    "fscales = np.linspace(0.01, 2, 20)\n",
    "np.random.shuffle(fscales)\n",
    "df_start_ise = 300e3\n",
    "\n",
    "for i, f in enumerate(fscales):\n",
    "    if uglobals.abort.is_set():\n",
    "        break\n",
    "    try:\n",
    "        \n",
    "\n",
    "        # fixed tau_ise, but measure T2* via Ramsey for each power\n",
    "        qmeas = setup_double_hh_ise_ramsey_params(f_dress2=8.725e6, n_tau=50, tau_start=10e-9, tau_step=0.3e-6,\n",
    "                                                   tau_ise=60e-6, ampl_spinlock=0.025, df_ise=f*df_start_ise, ampl_ise=p_ise,\n",
    "                                                   sweep_speed_ise=0.015524e12, alternating_depol=False)\n",
    "        #qmeas = setup_rabi_params(tau_step=250e-9, p_scale=10)\n",
    "        qmeas['measurement_time'] = 4*60\n",
    "        savetag = f\"double_hh_ise_ramsey_idx={i}_df_ise={1e-3*f*df_start_ise:.1f}kHz\"\n",
    "        run_generic(qmeas, save_tag=savetag)\n",
    "        \n",
    "\n",
    "        \n",
    "    except Exception as e:\n",
    "        stack_trace = traceback.format_exc()\n",
    "        logger.warning(\"auto run {} failed: {}.\\n{}\".format(i, str(e), stack_trace))\n",
    "\n",
    "laser_on()\n",
    "logger.info(\"Autopilot has landed.\")\n",
    "            "
   ]
  },
  {
   "cell_type": "code",
   "execution_count": 629,
   "metadata": {},
   "outputs": [],
   "source": [
    "np.random.shuffle(np.linspace(0.05, 2, 20))"
   ]
  },
  {
   "cell_type": "code",
   "execution_count": 107,
   "metadata": {},
   "outputs": [
    {
     "data": {
      "text/plain": [
       "0.6066428571428573"
      ]
     },
     "execution_count": 107,
     "metadata": {},
     "output_type": "execute_result"
    }
   ],
   "source": [
    "abs((pscales[-1]*p_start_ise)-(pscales[-2]*p_start_ise*1e3))"
   ]
  },
  {
   "cell_type": "markdown",
   "metadata": {},
   "source": [
    "## pMollow"
   ]
  },
  {
   "cell_type": "markdown",
   "metadata": {},
   "source": [
    "slow Rabi oscillatoins on the Delta=0 resonance created by phase modulated drive"
   ]
  },
  {
   "cell_type": "code",
   "execution_count": 122,
   "metadata": {},
   "outputs": [],
   "source": [
    "qmeas = setup_dd_mollow_n_params(tau=50e-9, dd_start=1, dd_step=4, n_dd=30, dd_type=DDMethods.CPMG,\n",
    "                                ampl_mol=1.5e-3, phase_mod='0, 180')\n",
    "\n",
    "uglobals.abort.clear()\n",
    "run_generic(qmeas)"
   ]
  },
  {
   "cell_type": "code",
   "execution_count": 77,
   "metadata": {},
   "outputs": [
    {
     "data": {
      "text/plain": [
       "OrderedDict([('experiment', 'dd_mollow_n'), ('name', 'dd_mollow_CPMG_n'), ('rabi_period', 1.84e-08), ('microwave_frequency', 1507230000.0), ('microwave_amplitude', 0.25), ('tau', 5e-08), ('dd_order_start', 1), ('dd_step', 4), ('dd_type', <DDMethods.CPMG: [90.0, 90.0]>), ('ampl_mol', 0.0015), ('f_mol', 0.0), ('phase_mod', '0, 180'), ('num_of_points', 30), ('alternating', True), ('optimize_time', None), ('fit_experiment', 'sine_decay'), ('env_type', <EnvelopeMethods.parabola: 'SinEnvelopeParabolaN'>), ('order_P', 1)])"
      ]
     },
     "execution_count": 77,
     "metadata": {},
     "output_type": "execute_result"
    }
   ],
   "source": [
    "qmeas"
   ]
  },
  {
   "cell_type": "markdown",
   "metadata": {},
   "source": [
    "### power series"
   ]
  },
  {
   "cell_type": "code",
   "execution_count": 860,
   "metadata": {},
   "outputs": [],
   "source": [
    "uglobals.abort.clear()\n",
    "#pscales = np.sort(np.append(np.linspace(1, 0.8., 40), [0]))\n",
    "pscales = np.linspace(1, 0.1, 20)[::-1]\n",
    "p_start_dress2 = 1e-3\n",
    "dd_type = DDMethods.CPMG\n",
    "#t_rabi_dressed = 535e-9\n",
    "#t_sample = t_rabi_dressed\n",
    "\n",
    "for i, p in enumerate(pscales):\n",
    "    if uglobals.abort.is_set():\n",
    "        break\n",
    "    try:\n",
    "\n",
    "        qmeas = setup_dd_mollow_n_params(tau=50e-9, dd_start=1, dd_step=1, n_dd=100, dd_type=dd_type,\n",
    "                                        ampl_mol=p_start_dress2*p, phase_mod='0, 180')\n",
    "\n",
    "        #qmeas = setup_rabi_params(tau_step=250e-9, p_scale=10)\n",
    "        qmeas['measurement_time'] = 3*60\n",
    "        savetag = f\"dd_mollow_{str(dd_type).replace('DDMethods.','')}_n\"\n",
    "        savetag += f\"_idx={i}_ampl_dress2={1e3*p_start_dress2*p:.3f}mV\"\n",
    "        run_generic(qmeas, save_tag=savetag)\n",
    "    except Exception as e:\n",
    "        stack_trace = traceback.format_exc()\n",
    "        logger.warning(\"auto run {} failed: {}.\\n{}\".format(i, str(e), stack_trace))\n",
    "\n",
    "laser_on()\n",
    "logger.info(\"Autopilot has landed.\")\n",
    "            "
   ]
  },
  {
   "cell_type": "code",
   "execution_count": 845,
   "metadata": {},
   "outputs": [
    {
     "data": {
      "text/plain": [
       "array([0.1       , 0.18181818, 0.26363636, 0.34545455, 0.42727273,\n",
       "       0.50909091, 0.59090909, 0.67272727, 0.75454545, 0.83636364,\n",
       "       0.91818182, 1.        ])"
      ]
     },
     "execution_count": 845,
     "metadata": {},
     "output_type": "execute_result"
    }
   ],
   "source": [
    "pscales"
   ]
  },
  {
   "cell_type": "markdown",
   "metadata": {},
   "source": [
    "### RNOVEL, power series"
   ]
  },
  {
   "cell_type": "code",
   "execution_count": 439,
   "metadata": {},
   "outputs": [],
   "source": [
    "uglobals.abort.clear()\n",
    "#pscales = np.sort(np.append(np.linspace(1, 0.8., 40), [0]))\n",
    "pscales = np.linspace(1, 5.4/5.8, 10)\n",
    "p_start_dress2 = 5.8e-3\n",
    "dd_type = DDMethods.CPMG\n",
    "tau = 200e-9 #400e-9, n_dd=50 -> 7.5 mV\n",
    "df_dress2 = 0e3#100e3  # not for RNOVEL-PROPI\n",
    "\n",
    "w_n = 500e3 # lamor of 13-C\n",
    "\n",
    "logger.info(f\"Expect resonance at Omega_dress2= {1e-6*calc_pmollow_res(tau)} +- {1e-6*w_n} MHz.\")\n",
    "\n",
    "#uglobals.abort.set()\n",
    "for i, p in enumerate(pscales):\n",
    "    if uglobals.abort.is_set():\n",
    "        break\n",
    "    try:\n",
    "        rnovel_name = 'rnovel_propi'\n",
    "        qmeas_list = []\n",
    "        \n",
    "        # refocus odmr\n",
    "        qmeas =  setup_podmr_params(f_res=common.mw_freq, p_scale=500, f_step=20e3, n_f=75)\n",
    "        qmeas['measurement_time'] = 20\n",
    "        qmeas['fit_experiment'] = 'lor_dip'\n",
    "        qmeas['fit_parameter'] = 'Position'\n",
    "        qmeas['update_parameters'] = {rnovel_name: 'microwave_frequency'}\n",
    "        \n",
    "        qmeas_list.append(qmeas)\n",
    "        \n",
    "        \n",
    "        # phase mod must have same phase as CPMG\n",
    "        \"\"\"\n",
    "        qmeas = setup_dd_mollow_n_params(tau=tau, dd_start=1, dd_step=2, n_dd=50, dd_type=dd_type,\n",
    "                                        ampl_mol=p_start_dress2*p, phase_mod='90, 90',\n",
    "                                        f_mol=df_dress2)\n",
    "        savetag = f\"dd_mollow_hov_{str(dd_type).replace('DDMethods.','')}_n\"\n",
    "        savetag += f\"_idx={i}_ampl_dress2={1e3*p_start_dress2*p:.3f}mV\"\n",
    "\n",
    "        qmeas['measurement_time'] = 4*60\n",
    "        \"\"\"\n",
    "        # Rnovel + PROPI readout\n",
    "        # Note: here with df_dress2 = 0 kHz\n",
    "        \n",
    "        qmeas = setup_rnovel_ppol_propi_params(dd_tau=tau, dd_order=100, dd_type=DDMethods.CPMG, \n",
    "                             ampl_mol=p_start_dress2*p, n_pol=100, tau_ppol=909e-9,\n",
    "                             order_ppol=20, m_read_step=30,\n",
    "                             shape_only_ppol=True,\n",
    "                             alternating=True)\n",
    "        qmeas['name'] = rnovel_name  # for updating mw_freq from podmr\n",
    "        qmeas['measurement_time'] = 3*60\n",
    "        savetag = f\"rnovel_propi\"\n",
    "        savetag += f\"_idx={i}_ampl_dress2={1e3*p_start_dress2*p:.3f}mV\"\n",
    "        qmeas['savetag'] = savetag\n",
    "        \n",
    "        qmeas_list.append(qmeas)\n",
    "        #savetag += '_polread=up'\n",
    "        #run_generic(qmeas, save_tag=savetag)\n",
    "                \n",
    "        run_generic_autoexp(qmeas_list)\n",
    "  \n",
    "    except Exception as e:\n",
    "        stack_trace = traceback.format_exc()\n",
    "        logger.warning(\"auto run {} failed: {}.\\n{}\".format(i, str(e), stack_trace))\n",
    "\n",
    "laser_on()\n",
    "logger.info(\"Autopilot has landed.\")\n",
    "            "
   ]
  },
  {
   "cell_type": "code",
   "execution_count": 433,
   "metadata": {},
   "outputs": [
    {
     "data": {
      "text/plain": [
       "0.0065"
      ]
     },
     "execution_count": 433,
     "metadata": {},
     "output_type": "execute_result"
    }
   ],
   "source": [
    "p_start_dress2"
   ]
  },
  {
   "cell_type": "markdown",
   "metadata": {},
   "source": [
    "### RNOVEL power series for differnt tau"
   ]
  },
  {
   "cell_type": "code",
   "execution_count": 418,
   "metadata": {},
   "outputs": [],
   "source": [
    "uglobals.abort.clear()\n",
    "#pscales = np.sort(np.append(np.linspace(1, 0.8., 40), [0]))\n",
    "pscales = np.linspace(1, 5./6.5, 10)\n",
    "p_start_dress2 = 6.5e-3\n",
    "dd_type = DDMethods.CPMG\n",
    "taus = np.linspace(300e-9, 200e-9, 4)[::-1] #400e-9, n_dd=50 -> 7.5 mV\n",
    "df_dress2 = 0e3#100e3  # not for RNOVEL-PROPI\n",
    "\n",
    "w_n = 500e3 # lamor of 13-C\n",
    "\n",
    "logger.info(f\"Expect resonance at Omega_dress2= {1e-6*calc_pmollow_res(tau)} +- {1e-6*w_n} MHz.\")\n",
    "\n",
    "#uglobals.abort.set()\n",
    "i = 0\n",
    "for tau in taus:\n",
    "    for p in pscales:\n",
    "        if uglobals.abort.is_set():\n",
    "            break\n",
    "        try:\n",
    "            rnovel_name = 'rnovel_propi'\n",
    "            qmeas_list = []\n",
    "\n",
    "            # refocus odmr\n",
    "            qmeas =  setup_podmr_params(f_res=common.mw_freq, p_scale=500, f_step=20e3, n_f=75)\n",
    "            qmeas['measurement_time'] = 20\n",
    "            qmeas['fit_experiment'] = 'lor_dip'\n",
    "            qmeas['fit_parameter'] = 'Position'\n",
    "            qmeas['update_parameters'] = {rnovel_name: 'microwave_frequency'}\n",
    "\n",
    "            qmeas_list.append(qmeas)\n",
    "\n",
    "\n",
    "            # phase mod must have same phase as CPMG\n",
    "            \"\"\"\n",
    "            qmeas = setup_dd_mollow_n_params(tau=tau, dd_start=1, dd_step=2, n_dd=50, dd_type=dd_type,\n",
    "                                            ampl_mol=p_start_dress2*p, phase_mod='90, 90',\n",
    "                                            f_mol=df_dress2)\n",
    "            savetag = f\"dd_mollow_hov_{str(dd_type).replace('DDMethods.','')}_n\"\n",
    "            savetag += f\"_idx={i}_ampl_dress2={1e3*p_start_dress2*p:.3f}mV\"\n",
    "\n",
    "            qmeas['measurement_time'] = 4*60\n",
    "            \"\"\"\n",
    "            # Rnovel + PROPI readout\n",
    "            # Note: here with df_dress2 = 0 kHz\n",
    "\n",
    "            qmeas = setup_rnovel_ppol_propi_params(dd_tau=tau, dd_order=50, dd_type=DDMethods.CPMG, \n",
    "                                 ampl_mol=p_start_dress2*p, n_pol=100, tau_ppol=909e-9,\n",
    "                                 order_ppol=20, m_read_step=30,\n",
    "                                 alternating=True,\n",
    "                                 shape_only_ppol=True)\n",
    "            qmeas['name'] = rnovel_name  # for updating mw_freq from podmr\n",
    "            qmeas['measurement_time'] = 1*60\n",
    "            savetag = f\"rnovel_propi\"\n",
    "            savetag += f\"_idx={i}\"\n",
    "            savetag += f\"_tau={1e9*tau:.0f}ns\"\n",
    "            savetag += f\"_ampl_dress2={1e3*p_start_dress2*p:.3f}mV\"\n",
    "            qmeas['savetag'] = savetag\n",
    "\n",
    "            qmeas_list.append(qmeas)\n",
    "            #savetag += '_polread=up'\n",
    "            #run_generic(qmeas, save_tag=savetag)\n",
    "            \n",
    "            i += 1\n",
    "            run_generic_autoexp(qmeas_list)\n",
    "\n",
    "        except Exception as e:\n",
    "            stack_trace = traceback.format_exc()\n",
    "            logger.warning(\"auto run {} failed: {}.\\n{}\".format(i, str(e), stack_trace))\n",
    "\n",
    "laser_on()\n",
    "logger.info(\"Autopilot has landed.\")\n",
    "            "
   ]
  },
  {
   "cell_type": "code",
   "execution_count": 340,
   "metadata": {},
   "outputs": [
    {
     "data": {
      "text/plain": [
       "array([4.00000000e-07, 3.66666667e-07, 3.33333333e-07, 3.00000000e-07])"
      ]
     },
     "execution_count": 340,
     "metadata": {},
     "output_type": "execute_result"
    }
   ],
   "source": [
    "np.linspace(400e-9, 300e-9, 4) "
   ]
  },
  {
   "cell_type": "code",
   "execution_count": 248,
   "metadata": {},
   "outputs": [],
   "source": [
    "def calc_pmollow_res(tau_spacing):\n",
    "    tau = (tau_spacing + common.rabi_period/2)\n",
    "    w_f = np.array([1,3,5])*(np.pi/tau)/(2*np.pi)\n",
    "    return w_f\n",
    "\n",
    "def calc_frabi_2_ampl(frabi, kappa_mhz_per_mv):\n",
    "    return frabi/kappa_mhz_per_mv*1e3\n",
    "\n",
    "kappa_rabi_ampl = 0.7*0.33\n",
    "\n",
    "    \n",
    "w_n = 500e3 # lamor of 13-C\n",
    "\n",
    "logger.info(f\"Expect resonance at Omega_dress2= {1e-6*calc_pmollow_res(tau)} +- {1e-6*w_n} MHz.\")"
   ]
  },
  {
   "cell_type": "code",
   "execution_count": 176,
   "metadata": {},
   "outputs": [
    {
     "data": {
      "text/plain": [
       "-0.09595959595959602"
      ]
     },
     "execution_count": 176,
     "metadata": {},
     "output_type": "execute_result"
    }
   ],
   "source": [
    "pscales = np.linspace(1, 0.05, 100)\n",
    "p_start_dress2 = 10e-3\n",
    "p_start_dress2*np.diff(pscales)[0]*1e3"
   ]
  },
  {
   "cell_type": "code",
   "execution_count": 188,
   "metadata": {},
   "outputs": [
    {
     "data": {
      "text/plain": [
       "OrderedDict([('experiment', 'rnovel_ppol_propi'), ('name', 'rnovel_ppol_propi'), ('sequence_mode', True), ('rabi_period', 1.84e-08), ('microwave_frequency', 1507230000.0), ('microwave_amplitude', 0.25), ('dd_mol_tau', 4e-07), ('dd_mol_order', 50), ('dd_mol_ampl', 0.0008500000000000001), ('dd_mol_type', <DDMethods.CPMG: [90.0, 90.0]>), ('n_pol', 100), ('m_read_step', 30), ('tau_ppol', 9.09e-07), ('order_ppol', 20), ('alternating', True), ('optimize_time', None), ('env_type', <EnvelopeMethods.parabola: 'SinEnvelopeParabolaN'>), ('order_P', 1), ('fit_experiment', 'decay_exp')])"
      ]
     },
     "execution_count": 188,
     "metadata": {},
     "output_type": "execute_result"
    }
   ],
   "source": [
    "qmeas = setup_rnovel_ppol_propi_params(dd_tau=tau, dd_order=100, dd_type=DDMethods.CPMG, \n",
    "                             ampl_mol=p_start_dress2*p, n_pol=100, tau_ppol=909e-9,\n",
    "                                               order_ppol=20, m_read_step=30,\n",
    "                             alternating=True)\n",
    "qmeas"
   ]
  },
  {
   "cell_type": "markdown",
   "metadata": {},
   "source": [
    "### RNOVEL n_pol / n_dd series"
   ]
  },
  {
   "cell_type": "code",
   "execution_count": 185,
   "metadata": {},
   "outputs": [],
   "source": [
    "uglobals.abort.clear()\n",
    "#pscales = np.sort(np.append(np.linspace(1, 0.8., 40), [0]))\n",
    "npols = np.arange(2,  96, 8)[::-1]\n",
    "p_start_dress2 = 8.5e-3\n",
    "dd_type = DDMethods.CPMG\n",
    "tau = 400e-9\n",
    "\n",
    "\n",
    "w_f = ((np.pi/tau)/(2*np.pi))\n",
    "w_n = 500e3 # lamor of 13-C\n",
    "\n",
    "logger.info(f\"Expect resonance at Omega_dress2= {1e-6*w_f} +- {1e-6*w_n} MHz.\")\n",
    "\n",
    "#uglobals.abort.set()\n",
    "for i, n in enumerate(npols):\n",
    "    if uglobals.abort.is_set():\n",
    "        break\n",
    "    try:\n",
    "        # Rnovel + PROPI readout\n",
    "        # Note: here with df_dress2 = 0 kHz\n",
    "        qmeas = setup_rnovel_ppol_propi_params(dd_tau=tau, dd_order=50, dd_type=DDMethods.CPMG, \n",
    "                             ampl_mol=7.33e-3, n_pol=n, tau_ppol=909e-9, order_ppol=20, m_read_step=35,\n",
    "                             alternating=True)\n",
    "        savetag = f\"rnovel_propi\"\n",
    "        \n",
    "        qmeas['measurement_time'] = 2*60\n",
    "        savetag += f\"_idx={i}_n_pol={n}\"\n",
    "        #savetag += '_polread=up'\n",
    "        \n",
    "        qmeas = setup_rnovel_ppol_propi_params(dd_tau=tau, dd_order=n, dd_type=DDMethods.CPMG, \n",
    "                             ampl_mol=7.7e-3, n_pol=75, tau_ppol=909e-9, order_ppol=20, m_read_step=35,\n",
    "                             alternating=True)\n",
    "        savetag = f\"rnovel_propi\"\n",
    "        \n",
    "        qmeas['measurement_time'] = 4*60\n",
    "        savetag += f\"_idx={i}_n_dd={n}\"\n",
    "        #savetag += '_polread=up'\n",
    "        \n",
    "        run_generic(qmeas, save_tag=savetag)\n",
    "    except Exception as e:\n",
    "        stack_trace = traceback.format_exc()\n",
    "        logger.warning(\"auto run {} failed: {}.\\n{}\".format(i, str(e), stack_trace))\n",
    "\n",
    "laser_on()\n",
    "logger.info(\"Autopilot has landed.\")\n",
    "            "
   ]
  },
  {
   "cell_type": "code",
   "execution_count": 170,
   "metadata": {},
   "outputs": [
    {
     "data": {
      "text/plain": [
       "array([  2,  14,  26,  38,  50,  62,  74,  86,  98, 110, 122, 134, 146])"
      ]
     },
     "execution_count": 170,
     "metadata": {},
     "output_type": "execute_result"
    }
   ],
   "source": [
    "np.arange(2, 150, 12)"
   ]
  },
  {
   "cell_type": "markdown",
   "metadata": {},
   "source": [
    "### Rnovel + PulsePol Propi"
   ]
  },
  {
   "cell_type": "code",
   "execution_count": 445,
   "metadata": {},
   "outputs": [],
   "source": [
    "#qmeas = setup_rnovel_ppol_propi_params(dd_tau=400e-9, dd_order=50, dd_type=DDMethods.CPMG, \n",
    "#                     ampl_mol=7.2e-3, n_pol=150, tau_ppol=940e-9, order_ppol=12, m_read_step=20,\n",
    "#                     alternating=True)\n",
    "qmeas = setup_rnovel_ppol_propi_params(dd_tau=tau, dd_order=50, dd_type=DDMethods.CPMG, \n",
    "                     ampl_mol=7.33e-3, n_pol=150, tau_ppol=909e-9, order_ppol=12, m_read_step=20,\n",
    "                     alternating=True)\n",
    "qmeas = setup_rnovel_ppol_propi_params(dd_tau=400e-9, dd_order=50, dd_type=DDMethods.CPMG, \n",
    "                     ampl_mol=7.55e-3, n_pol=75, tau_ppol=909e-9, order_ppol=20, m_read_step=30,\n",
    "                     alternating=True)\n",
    "\n",
    "qmeas = setup_rnovel_ppol_propi_params(dd_tau=400e-9, dd_order=50, dd_type=DDMethods.CPMG, \n",
    "                     ampl_mol=2.87e-3, n_pol=75, tau_ppol=909e-9, order_ppol=20, m_read_step=30,\n",
    "                     alternating=True,\n",
    "                    shape_only_ppol=True)\n",
    "\"\"\"\n",
    "qmeas = setup_rnovel_ppol_propi_params(dd_tau=200e-9, dd_order=100, dd_type=DDMethods.CPMG, \n",
    "                     ampl_mol=5.62e-3, n_pol=75, tau_ppol=909e-9, order_ppol=20, m_read_step=30,\n",
    "                     alternating=True,\n",
    "                    shape_only_ppol=True)\n",
    "\"\"\"\n",
    "savetag = f\"rnovel_propi\"\n",
    "\n",
    "qmeas['measurement_time'] = 20*60\n",
    "\n",
    "uglobals.abort.clear()\n",
    "run_generic(qmeas, save_tag=savetag)"
   ]
  },
  {
   "cell_type": "markdown",
   "metadata": {},
   "source": [
    "### rnovel different dd"
   ]
  },
  {
   "cell_type": "code",
   "execution_count": 457,
   "metadata": {},
   "outputs": [],
   "source": [
    "uglobals.abort.clear()\n",
    "p = 2.87e-3\n",
    "dd_types = [DDMethods.CPMG, DDMethods.XY8]\n",
    "dd_o = [100, 12]\n",
    "tau = 400e-9 #400e-9, n_dd=50 -> 7.5 mV\n",
    "df_dress2 = 0e3#100e3  # not for RNOVEL-PROPI\n",
    "\n",
    "w_n = 500e3 # lamor of 13-C\n",
    "\n",
    "logger.info(f\"Expect resonance at Omega_dress2= {1e-6*calc_pmollow_res(tau)} +- {1e-6*w_n} MHz.\")\n",
    "\n",
    "#uglobals.abort.set()\n",
    "for i, dd_t in enumerate(dd_types):\n",
    "    if uglobals.abort.is_set():\n",
    "        break\n",
    "    try:\n",
    "        rnovel_name = 'rnovel_propi'\n",
    "        qmeas_list = []\n",
    "        \n",
    "        # refocus odmr\n",
    "        qmeas =  setup_podmr_params(f_res=common.mw_freq, p_scale=500, f_step=20e3, n_f=75)\n",
    "        qmeas['measurement_time'] = 20\n",
    "        qmeas['fit_experiment'] = 'lor_dip'\n",
    "        qmeas['fit_parameter'] = 'Position'\n",
    "        qmeas['update_parameters'] = {rnovel_name: 'microwave_frequency'}\n",
    "        \n",
    "        qmeas_list.append(qmeas)\n",
    "        \n",
    "        \n",
    "        # phase mod must have same phase as CPMG\n",
    "        \"\"\"\n",
    "        qmeas = setup_dd_mollow_n_params(tau=tau, dd_start=1, dd_step=2, n_dd=50, dd_type=dd_type,\n",
    "                                        ampl_mol=p_start_dress2*p, phase_mod='90, 90',\n",
    "                                        f_mol=df_dress2)\n",
    "        savetag = f\"dd_mollow_hov_{str(dd_type).replace('DDMethods.','')}_n\"\n",
    "        savetag += f\"_idx={i}_ampl_dress2={1e3*p_start_dress2*p:.3f}mV\"\n",
    "\n",
    "        qmeas['measurement_time'] = 4*60\n",
    "        \"\"\"\n",
    "        # Rnovel + PROPI readout\n",
    "        # Note: here with df_dress2 = 0 kHz\n",
    "        \n",
    "        qmeas = setup_rnovel_ppol_propi_params(dd_tau=tau, dd_order=dd_o[i], dd_type=dd_t, \n",
    "                             ampl_mol=p, n_pol=100, tau_ppol=909e-9,\n",
    "                             order_ppol=20, m_read_step=30,\n",
    "                             shape_only_ppol=True,\n",
    "                             alternating=True)\n",
    "        qmeas['name'] = rnovel_name  # for updating mw_freq from podmr\n",
    "        qmeas['measurement_time'] = 3*60\n",
    "        savetag = f\"rnovel_propi\"\n",
    "        savetag += f\"_idx={i}_ampl_dress2={1e3*p:.3f}mV\"\n",
    "        savetag += f\"_{str(dd_t).replace('DDMethods.','')}\"\n",
    "        qmeas['savetag'] = savetag\n",
    "        \n",
    "        qmeas_list.append(qmeas)\n",
    "        #savetag += '_polread=up'\n",
    "        #run_generic(qmeas, save_tag=savetag)\n",
    "                \n",
    "        run_generic_autoexp(qmeas_list)\n",
    "  \n",
    "    except Exception as e:\n",
    "        stack_trace = traceback.format_exc()\n",
    "        logger.warning(\"auto run {} failed: {}.\\n{}\".format(i, str(e), stack_trace))\n",
    "\n",
    "laser_on()\n",
    "logger.info(\"Autopilot has landed.\")\n",
    "            "
   ]
  },
  {
   "cell_type": "markdown",
   "metadata": {},
   "source": [
    "# PulsePol"
   ]
  },
  {
   "cell_type": "markdown",
   "metadata": {},
   "source": [
    "## tau scan"
   ]
  },
  {
   "cell_type": "code",
   "execution_count": 89,
   "metadata": {},
   "outputs": [
    {
     "data": {
      "text/plain": [
       "OrderedDict([('experiment', 'Poltau'), ('name', 'ppol_tau'), ('rabi_period', 1.283e-08), ('microwave_frequency', 1507230000.0), ('microwave_amplitude', 0.25), ('tau_start', 4e-07), ('tau_step', 1e-08), ('order', 12), ('num_of_points', 75), ('alternating', True), ('optimize_time', None), ('fit_experiment', 'lor_dip')])"
      ]
     },
     "execution_count": 89,
     "metadata": {},
     "output_type": "execute_result"
    }
   ],
   "source": [
    "qmeas"
   ]
  },
  {
   "cell_type": "code",
   "execution_count": 808,
   "metadata": {},
   "outputs": [],
   "source": [
    "qmeas = setup_ppol_tau_params(tau_start=0.8e-6, tau_step=300e-9, num_of_points=50, order=12)\n",
    "qmeas = setup_ppol_tau_params(tau_start=0.8e-6, tau_step=30e-9, num_of_points=75, order=10)\n",
    "\n",
    "uglobals.abort.clear()\n",
    "run_generic(qmeas)"
   ]
  },
  {
   "cell_type": "markdown",
   "metadata": {},
   "source": [
    "## n sweep"
   ]
  },
  {
   "cell_type": "code",
   "execution_count": 134,
   "metadata": {},
   "outputs": [],
   "source": [
    "qmeas = setup_ppol_n_params(tau=958e-9, n_start=1, n_step=1, num_of_points=50)\n",
    "\n",
    "uglobals.abort.clear()\n",
    "run_generic(qmeas)"
   ]
  },
  {
   "cell_type": "markdown",
   "metadata": {},
   "source": [
    "## PulsePol + PPol PROPI"
   ]
  },
  {
   "cell_type": "markdown",
   "metadata": {},
   "source": [
    "Polarize via PulsePol and read via PulsePol re-polarization (PROPI)"
   ]
  },
  {
   "cell_type": "code",
   "execution_count": 703,
   "metadata": {},
   "outputs": [],
   "source": [
    "# should be more m_read than n_pol steps to ensure pol. build up by read!\n",
    "# shaped: 909ns, unshaped 936 ns\n",
    "qmeas = setup_ppol_2x_propi_params(tau=909e-9, n_pol=30, m_read=40, order_ppol=12)\n",
    "qmeas = setup_ppol_2x_propi_params(tau=909e-9, n_pol=30, m_read=40, order_ppol=20)\n",
    "\n",
    "uglobals.abort.clear()\n",
    "run_generic(qmeas)"
   ]
  },
  {
   "cell_type": "code",
   "execution_count": 149,
   "metadata": {},
   "outputs": [
    {
     "data": {
      "text/plain": [
       "OrderedDict([('experiment', 'ppol_2x_propi'), ('name', 'ppol_2x_propi'), ('sequence_mode', True), ('rabi_period', 1.283e-08), ('microwave_frequency', 1507230000.0), ('microwave_amplitude', 0.25), ('n_pol', 30), ('m_read_step', 40), ('tau_ppol', 9.36e-07), ('order_ppol', 20), ('alternating', True), ('optimize_time', None), ('fit_experiment', 'decay_exp')])"
      ]
     },
     "execution_count": 149,
     "metadata": {},
     "output_type": "execute_result"
    }
   ],
   "source": [
    "qmeas"
   ]
  },
  {
   "cell_type": "markdown",
   "metadata": {},
   "source": [
    "## ISE + PPol Propi"
   ]
  },
  {
   "cell_type": "code",
   "execution_count": 712,
   "metadata": {},
   "outputs": [],
   "source": [
    "qmeas = setup_ise_propi_params(tau_ppol=909e-9, n_pol=100, m_read=40, order_ppol=20,\n",
    "                           df_mw_sweep=5e6, t_ise=60e-6, mw_sweep_speed=0.065e12, amp_mw_sweep=1.41e-3,\n",
    "                                 ppol_read_dir='up')\n",
    "\n",
    "\n",
    "uglobals.abort.clear()\n",
    "run_generic(qmeas)"
   ]
  },
  {
   "cell_type": "code",
   "execution_count": 550,
   "metadata": {},
   "outputs": [
    {
     "data": {
      "text/plain": [
       "OrderedDict([('experiment', 'ise_ppol_propi'), ('name', 'ise_ppol_propi'), ('sequence_mode', True), ('rabi_period', 1.83e-08), ('microwave_frequency', 1507195000.0), ('microwave_amplitude', 0.25), ('n_pol', 100), ('m_read_step', 40), ('tau_ppol', 9.09e-07), ('order_ppol', 20), ('t_ise', 8e-05), ('df_mw_sweep', 3000000.0), ('mw_sweep_speed', 15524000000.0), ('amp_mw_sweep', 0.00156), ('alternating', True), ('optimize_time', None), ('fit_experiment', 'decay_exp'), ('env_type', <EnvelopeMethods.parabola: 'SinEnvelopeParabolaN'>), ('order_P', 1)])"
      ]
     },
     "execution_count": 550,
     "metadata": {},
     "output_type": "execute_result"
    }
   ],
   "source": [
    "qmeas"
   ]
  },
  {
   "cell_type": "markdown",
   "metadata": {},
   "source": [
    "### power / sweep speed series"
   ]
  },
  {
   "cell_type": "code",
   "execution_count": 691,
   "metadata": {},
   "outputs": [],
   "source": [
    "uglobals.abort.clear()\n",
    "#pscales = np.sort(np.append(np.linspace(1, 0.8., 40), [0]))\n",
    "pscales = np.linspace(1, 0, 20)\n",
    "p_start_dress2 = 1e-3\n",
    "\n",
    "mw_speed_start = 0.01e12\n",
    "pscales = np.linspace(1, 15, 15)[::-1]\n",
    "\n",
    "#pscales = np.linspace(1, 0.1, 10)\n",
    "#df_start = 10e6\n",
    "\n",
    "\n",
    "#uglobals.abort.set()\n",
    "for i, p in enumerate(pscales):\n",
    "    if uglobals.abort.is_set():\n",
    "        break\n",
    "    try:\n",
    "        ise_name = 'ise_propi'\n",
    "        qmeas_list = []\n",
    "        \n",
    "        # refocus odmr\n",
    "        qmeas =  setup_podmr_params(f_res=common.mw_freq, p_scale=500, f_step=20e3, n_f=75)\n",
    "        qmeas['measurement_time'] = 20\n",
    "        qmeas['fit_experiment'] = 'lor_dip'\n",
    "        qmeas['fit_parameter'] = 'Position'\n",
    "        qmeas['update_parameters'] = {ise_name: 'microwave_frequency'}\n",
    "        \n",
    "        qmeas_list.append(qmeas)\n",
    "        \n",
    "        # sweep range\n",
    "        \"\"\"\n",
    "        qmeas = setup_ise_propi_params(tau_ppol=909e-9, n_pol=100, m_read=40, order_ppol=20,\n",
    "                           df_mw_sweep=p*df_start, t_ise=60e-6, mw_sweep_speed=0.08e12, \n",
    "                            amp_mw_sweep=1.556e-3,\n",
    "                            ppol_read_dir='up')\n",
    "\n",
    "\n",
    "        qmeas['name'] = ise_name  # for updating mw_freq from podmr\n",
    "        qmeas['measurement_time'] = 4*60\n",
    "        savetag = f\"ise_propi\"\n",
    "        savetag += f\"_idx={i}\"\n",
    "        savetag += f\"_df_ise={1e-6*df_start*p:.1f}MHz\"\n",
    "        qmeas['savetag'] = savetag\n",
    "        \"\"\"\n",
    "        \"\"\"\n",
    "        ### ampl\n",
    "        qmeas = setup_ise_propi_params(tau_ppol=909e-9, n_pol=100, m_read=40, order_ppol=20,\n",
    "                           df_mw_sweep=5e6, t_ise=60e-6, mw_sweep_speed=0.08e12, \n",
    "                            amp_mw_sweep=p_start_dress2*p,\n",
    "                                       ppol_read_dir='up')\n",
    "\n",
    "\n",
    "        qmeas['name'] = ise_name  # for updating mw_freq from podmr\n",
    "        qmeas['measurement_time'] = 4*60\n",
    "        savetag = f\"ise_propi\"\n",
    "        savetag += f\"_idx={i}\"\n",
    "        savetag += f\"_ampl_ise={1e3*p_start_dress2*p:.3f}mV\"\n",
    "        qmeas['savetag'] = savetag\n",
    "        \"\"\"\n",
    "        ### sweep speed\n",
    "        #\"\"\"        \n",
    "        qmeas = setup_ise_propi_params(tau_ppol=909e-9, n_pol=100, m_read=40, order_ppol=20,\n",
    "                           df_mw_sweep=5e6, t_ise=60e-6, mw_sweep_speed=mw_speed_start*p, \n",
    "                            amp_mw_sweep=1.4e-3,\n",
    "                                       ppol_read_dir='up')\n",
    "\n",
    "\n",
    "        qmeas['name'] = rnovel_name  # for updating mw_freq from podmr\n",
    "        qmeas['measurement_time'] = 4*60\n",
    "        savetag = f\"ise_propi\"\n",
    "        savetag += f\"_idx={i}\"\n",
    "        savetag += f\"_sweepspeed={1e-12*mw_speed_start*p:.3f}MHz_us\"\n",
    "        qmeas['savetag'] = savetag\n",
    "        #\"\"\"\n",
    "        \n",
    "        qmeas_list.append(qmeas)\n",
    "        \n",
    "        #run_generic(qmeas, save_tag=savetag)        \n",
    "        run_generic_autoexp(qmeas_list)\n",
    "  \n",
    "    except Exception as e:\n",
    "        stack_trace = traceback.format_exc()\n",
    "        logger.warning(\"auto run {} failed: {}.\\n{}\".format(i, str(e), stack_trace))\n",
    "\n",
    "laser_on()\n",
    "logger.info(\"Autopilot has landed.\")\n",
    "            "
   ]
  },
  {
   "cell_type": "markdown",
   "metadata": {},
   "source": [
    "# NV - Pentacene IA"
   ]
  },
  {
   "cell_type": "markdown",
   "metadata": {},
   "source": [
    "## DEER"
   ]
  },
  {
   "cell_type": "code",
   "execution_count": 207,
   "metadata": {},
   "outputs": [],
   "source": [
    "common.he_tau = 1e-6"
   ]
  },
  {
   "cell_type": "markdown",
   "metadata": {},
   "source": [
    "### Spectrum"
   ]
  },
  {
   "cell_type": "code",
   "execution_count": 303,
   "metadata": {},
   "outputs": [],
   "source": [
    "uglobals.abort.clear()\n",
    "\n",
    "f_center = 1.407e9\n",
    "f_center = 1.5e9\n",
    "#f_center = 1.305e9\n",
    "#f_center = 0.735e9\n",
    "#f_center = 0.850e9\n",
    "#t_pi_fix = 6000e-9   # if already calibrated by DEER Rabi\n",
    "t_pi_fix = None    # else\n",
    "\n",
    "# wide band\n",
    "#qmeas = setup_deer_f_params(f_center, f_step=5e6, n_f=100, two_deer_pi=True,\n",
    "#                            pi_len=t_pi_fix)\n",
    "#qmeas = setup_deer_f_params(f_center, f_step=3e6, n_f=150, two_deer_pi=True,\n",
    "#                            he_tau=common.he_tau, pi_len=t_pi_fix, read_phases='-90, 90')\n",
    "qmeas = setup_deer_f_params(f_center, f_step=6e6, n_f=75, two_deer_pi=True,\n",
    "                            he_tau=common.he_tau, pi_len=t_pi_fix, read_phases='0, 180')\n",
    "#qmeas = setup_deer_f_params(f_center, f_step=6e6, n_f=75, two_deer_pi=False,\n",
    "#                            he_tau=common.he_tau, pi_len=t_pi_fix, read_phases='-90, 90', deer_ampl=0.25/5.)\n",
    "#qmeas = setup_deer_f_params(f_center, f_step=1e6, n_f=200, two_deer_pi=False,\n",
    "#                            pi_len=t_pi_fix)\n",
    "# high res\n",
    "#qmeas = setup_deer_f_params(f_center, f_step=500e3, n_f=75, two_deer_pi=True,\n",
    "#                           he_tau=common.he_tau, pi_len=t_pi_fix)\n",
    "# wide band\n",
    "#qmeas = setup_deer_f_params(f_center, f_step=2000e3, n_f=120, two_deer_pi=True,\n",
    "#                           he_tau=300e-9)\n",
    "\n",
    "run_deer_f(qmeas)"
   ]
  },
  {
   "cell_type": "code",
   "execution_count": 89,
   "metadata": {},
   "outputs": [
    {
     "data": {
      "text/plain": [
       "OrderedDict([('name', 'deer_spectrum'), ('freq_step', 2000000.0), ('num_of_points', 250), ('freq_start', 750000000.0), ('measurement_time', 150000), ('optimize_time', None), ('alternating', True), ('two_deer_pi', True), ('he_tau', 3e-07), ('deer_amp', 0.25), ('pi_len', 3.4e-08)])"
      ]
     },
     "execution_count": 89,
     "metadata": {},
     "output_type": "execute_result"
    }
   ],
   "source": [
    "qmeas"
   ]
  },
  {
   "cell_type": "markdown",
   "metadata": {},
   "source": [
    "### DEER Rabi"
   ]
  },
  {
   "cell_type": "code",
   "execution_count": 267,
   "metadata": {},
   "outputs": [],
   "source": [
    "uglobals.abort.clear()\n",
    "\n",
    "f_deer = 1.3989e9\n",
    "f_deer = 1.9e9\n",
    "#f_deer = 0.737e9\n",
    "\n",
    "\n",
    "qmeas = setup_deer_rabi_params(f_deer, tau_start=5e-9, tau_step=25e-9, n_tau=40, he_tau=common.he_tau, \n",
    "                               two_deer_pi=False, read_phases='-90, 90', deer_ampl=0.25)\n",
    "#qmeas = setup_deer_rabi_params(f_deer, tau_start=27.5e-9, tau_step=1e-9, n_tau=1, he_tau=common.he_tau)\n",
    "#qmeas = setup_deer_rabi_params(f_deer, tau_start=5e-9, tau_step=4e-9, n_tau=80, he_tau=300e-9, two_deer_pi=True)\n",
    "\n",
    "#qmeas = setup_deer_rabi_params(f_deer, tau_start=5e-9, tau_step=4e-9, n_tau=80, he_tau=300e-9, two_deer_pi=False)\n",
    "run_deer_rabi(qmeas)\n"
   ]
  },
  {
   "cell_type": "code",
   "execution_count": 197,
   "metadata": {},
   "outputs": [
    {
     "data": {
      "text/plain": [
       "OrderedDict([('name', 'deer_rabi'), ('tau_start', 5e-09), ('num_of_taus', 80), ('tau_step', 4e-09), ('measurement_time', 99999), ('optimize_time', None), ('he_tau', 3e-07), ('two_deer_pi', False), ('deer_amp', 0.25), ('deer_freq', 820000000.0), ('alternating', True), ('experiment', 'deer_rabi'), ('gated', False), ('sequence_mode', False), ('ctr_single_sweeps', False), ('ctr_n_sweeps', 0), ('ctr_n_cycles', 0), ('freq_optimize_time', None), ('analysis_interval', None), ('sampling_freq', 8000000000.0), ('bin_width', 1e-09), ('wait_time', 1e-06), ('laser_delay', 9e-07), ('laser_safety', 2e-07), ('sync_channel', 'd_ch1'), ('gate_channel', ''), ('laser_channel', 'd_ch2'), ('laser_length', 3e-06), ('wait_length', 1e-06), ('trigger_length', 2e-08), ('delay_length', 8.699999999999999e-07), ('channel_amp', 1.0), ('microwave_channel', 'a_ch1'), ('optimize_channel', '/Dev1/PFI0'), ('readout_end', 3e-07), ('max_tau', 0.001), ('max_tau_start', 0.001), ('max_rabi_period', 0.001), ('min_microwave_frequency', 1), ('max_microwave_amplitude', 0.25), ('params', {'alternating': True, 'laser_ignore_list': [], 'controlled_variable': array([5.00e-09, 9.00e-09, 1.30e-08, 1.70e-08, 2.10e-08, 2.50e-08,\n",
       "       2.90e-08, 3.30e-08, 3.70e-08, 4.10e-08, 4.50e-08, 4.90e-08,\n",
       "       5.30e-08, 5.70e-08, 6.10e-08, 6.50e-08, 6.90e-08, 7.30e-08,\n",
       "       7.70e-08, 8.10e-08, 8.50e-08, 8.90e-08, 9.30e-08, 9.70e-08,\n",
       "       1.01e-07, 1.05e-07, 1.09e-07, 1.13e-07, 1.17e-07, 1.21e-07,\n",
       "       1.25e-07, 1.29e-07, 1.33e-07, 1.37e-07, 1.41e-07, 1.45e-07,\n",
       "       1.49e-07, 1.53e-07, 1.57e-07, 1.61e-07, 1.65e-07, 1.69e-07,\n",
       "       1.73e-07, 1.77e-07, 1.81e-07, 1.85e-07, 1.89e-07, 1.93e-07,\n",
       "       1.97e-07, 2.01e-07, 2.05e-07, 2.09e-07, 2.13e-07, 2.17e-07,\n",
       "       2.21e-07, 2.25e-07, 2.29e-07, 2.33e-07, 2.37e-07, 2.41e-07,\n",
       "       2.45e-07, 2.49e-07, 2.53e-07, 2.57e-07, 2.61e-07, 2.65e-07,\n",
       "       2.69e-07, 2.73e-07, 2.77e-07, 2.81e-07, 2.85e-07, 2.89e-07,\n",
       "       2.93e-07, 2.97e-07, 3.01e-07, 3.05e-07, 3.09e-07, 3.13e-07,\n",
       "       3.17e-07, 3.21e-07]), 'units': ('s', ''), 'number_of_lasers': 160, 'counting_length': 0.000881554})])"
      ]
     },
     "execution_count": 197,
     "metadata": {},
     "output_type": "execute_result"
    }
   ],
   "source": [
    "qmeas"
   ]
  },
  {
   "cell_type": "markdown",
   "metadata": {},
   "source": [
    "### time DEER"
   ]
  },
  {
   "cell_type": "code",
   "execution_count": 188,
   "metadata": {},
   "outputs": [],
   "source": [
    "uglobals.abort.clear()\n",
    "\n",
    "f_deer = 1.407e9\n",
    "#f_deer = 1.00e9\n",
    "f_deer = 1.3795e9\n",
    "f_deer = 0.820e9\n",
    "deer_rabi_period = 57e-9\n",
    "\n",
    "# wide band\n",
    "#qmeas = setup_deer_f_params(f_center, f_step=5e6, n_f=50, two_deer_pi=True)\n",
    "# high res\n",
    "\n",
    "qmeas = setup_deer_params(f_deer, tau_start=5e-9, tau_step=6e-9, n_tau=50, \n",
    "                      he_tau=common.he_tau, second_rabi_period=deer_rabi_period,\n",
    "                      two_deer_pi=True)\n",
    "#qmeas = setup_deer_params(f_deer, tau_start=282e-9, tau_step=0e-9, n_tau=1, \n",
    "#                      he_tau=common.he_tau, second_rabi_period=deer_rabi_period,\n",
    "#                      two_deer_pi=True)\n",
    "#qmeas['wait_time'] = 1e-6\n",
    "qmeas['two_deer_pi'] = True\n",
    "\n",
    "run_deer(qmeas)\n",
    "\n",
    "#qmeas['name'] = 'deer_pi_start'\n",
    "#run_deer_pi_start(qmeas)"
   ]
  },
  {
   "cell_type": "code",
   "execution_count": 215,
   "metadata": {},
   "outputs": [
    {
     "data": {
      "text/plain": [
       "OrderedDict([('name', 'DEER'), ('tau_start', 5e-09), ('num_of_points', 40), ('tau_step', 2e-09), ('measurement_time', 99999), ('optimize_time', None), ('he_tau', 3e-07), ('two_deer_pi', True), ('deer_amp', 0.25), ('deer_freq', 1398900000.0), ('second_rabi_period', 2e-07), ('alternating', True), ('wait_time', 1e-06)])"
      ]
     },
     "execution_count": 215,
     "metadata": {},
     "output_type": "execute_result"
    }
   ],
   "source": [
    "qmeas"
   ]
  },
  {
   "cell_type": "markdown",
   "metadata": {},
   "source": [
    "### T1 like DEER"
   ]
  },
  {
   "cell_type": "markdown",
   "metadata": {},
   "source": [
    "If the second electron spin is polarized by the laser pulse and its T1 << T1(NV), we can do the following experiment: increasing the t_wait of the NV initialization won't hurt the NV sensor too much. However, the second electron spin starts to decay right after the laser pulse. If it's an ensemble spin, the lowered polarization due to its T1 decay will lower the effective coupling to the sensor. Thus, the frequency observed in the FFT of deer should lower"
   ]
  },
  {
   "cell_type": "code",
   "execution_count": 38,
   "metadata": {},
   "outputs": [],
   "source": [
    "t_waits = np.linspace(1e-6, 20e-6, 10)[1:]#[::-1]\n",
    "uglobals.abort.clear()\n",
    "\n",
    "for t in t_waits:\n",
    "    qmeas = setup_deer_params(f_deer, tau_start=5e-9, tau_step=2e-9, n_tau=40, \n",
    "                          he_tau=300e-9, second_rabi_period=deer_rabi_period,\n",
    "                          two_deer_pi=True)\n",
    "    qmeas['wait_time'] = t\n",
    "    \n",
    "    qmeas['n_sweeps'] = 1e6\n",
    "    qmeas['name'] = 'deer_pi_start'\n",
    "\n",
    "    qmeas['save_tag'] = f'DEER_pi_start_t_wait={t}'\n",
    "\n",
    "    #run_deer(qmeas, save_tag=qmeas['save_tag'])\n",
    "    qmeas['two_deer_pi'] = False\n",
    "    run_deer_pi_start(qmeas, save_tag=qmeas['save_tag'])"
   ]
  },
  {
   "cell_type": "markdown",
   "metadata": {},
   "source": [
    "### pODMR DEER pi"
   ]
  },
  {
   "cell_type": "code",
   "execution_count": 62,
   "metadata": {},
   "outputs": [
    {
     "data": {
      "text/plain": [
       "OrderedDict([('name', 'pulsedodmr_deer_pi'), ('experiment', 'pulsedodmr_deer_pi'), ('rabi_period', 5.64e-07), ('freq_step', 500000.0), ('num_of_points', 75), ('freq_start', 1431550000.0), ('microwave_amplitude', 0.004166666666666667), ('deer_amplitude', 0.25), ('measurement_time', 1500), ('optimize_time', None), ('fit_experiment', 'lor_dip'), ('f_mw_deer', 737000000.0), ('t_pi_deer', 3.4e-08)])"
      ]
     },
     "execution_count": 62,
     "metadata": {},
     "output_type": "execute_result"
    }
   ],
   "source": [
    "qmeas"
   ]
  },
  {
   "cell_type": "code",
   "execution_count": 71,
   "metadata": {},
   "outputs": [],
   "source": [
    "f_deer = 0.737e9\n",
    "#f_deer = 1.2e9   # off-resonant dummy frequency\n",
    "t_pi_deer = 68e-9 / 2\n",
    "\n",
    "uglobals.abort.clear()\n",
    "\n",
    "qmeas = setup_podmr_deer_pi_params(f_res=common.mw_freq, f_deer=f_deer, t_pi_deer=t_pi_deer,\n",
    "                           p_scale=60, f_step=500e3, n_f=150) # range ~ 1 MHz, lowest AWG power\n",
    "\n",
    "run_generic(qmeas)"
   ]
  },
  {
   "cell_type": "markdown",
   "metadata": {},
   "source": [
    "### Ramsey DEER pi"
   ]
  },
  {
   "cell_type": "markdown",
   "metadata": {},
   "source": [
    "Ramsey with a pi pulse on the 2nd electron spin right after the 1st pi/2 on the NV."
   ]
  },
  {
   "cell_type": "code",
   "execution_count": 71,
   "metadata": {},
   "outputs": [],
   "source": [
    "f_deer = 0.737e9\n",
    "f_deer = 1.2e9   # off-resonant dummy frequency\n",
    "t_pi_deer = 68e-9 / 2\n",
    "\n",
    "\n",
    "uglobals.abort.clear()\n",
    "#qmeas = setup_ramsey_deer_pi_params(f_deer, t_pi_deer, \n",
    "#                                tau_start=50e-9, n_tau=50, tau_step=20e-9,\n",
    "#                                alternating_mode=DeerAltModes.NVPi3Half)\n",
    "qmeas = setup_ramsey_deer_pi_params(f_deer, t_pi_deer, \n",
    "                                tau_start=50e-9, n_tau=160, tau_step=10e-9,\n",
    "                                alternating_mode=DeerAltModes.DeerPiOff_plus_NVPi3Half,\n",
    "                                two_deer_pi=True)\n",
    "\n",
    "\n",
    "run_generic(qmeas)"
   ]
  },
  {
   "cell_type": "code",
   "execution_count": 59,
   "metadata": {},
   "outputs": [
    {
     "data": {
      "text/plain": [
       "1200000000.0"
      ]
     },
     "execution_count": 59,
     "metadata": {},
     "output_type": "execute_result"
    }
   ],
   "source": [
    "f_deer"
   ]
  },
  {
   "cell_type": "markdown",
   "metadata": {},
   "source": [
    "# NV - Nuclear spins IA"
   ]
  },
  {
   "cell_type": "markdown",
   "metadata": {},
   "source": [
    "## Penta ISE + NV Ramsey + RF DD"
   ]
  },
  {
   "cell_type": "code",
   "execution_count": 116,
   "metadata": {},
   "outputs": [
    {
     "data": {
      "text/plain": [
       "OrderedDict([('name', 'ise+ramsey+rf_dd'), ('experiment', 'pol_ramsey_rf_dd'), ('microwave_frequency', 2772260000.0), ('microwave_amplitude', 0.25), ('tau', 3.5e-07), ('n_tau', 15), ('n_order_pi_rf', 2), ('dd_type', <DDMethods.XY4: [0.0, 90.0, 0.0, 90.0]>), ('f_rf', 252499.4), ('t_pi_rf', 3.035e-05), ('amp_rf', 0.125), ('rf_channel', 'a_ch2'), ('t_laser', 1e-06), ('mw_sweep_speed', 849270000000.0), ('amp_mw_sweep', 0.00288), ('f_ise_res', 1074300000.0), ('df_mw_sweep', 25000000.0), ('measurement_time', 99999), ('optimize_time', None), ('autosave_s', 120), ('alternating', True)])"
      ]
     },
     "execution_count": 116,
     "metadata": {},
     "output_type": "execute_result"
    }
   ],
   "source": [
    "uglobals.abort.clear()\n",
    "# test: off resonant\n",
    "qmeas = setup_ise_ramsey_dd_params(tau=350e-9, n_tau=5, n_order_dd=1, f_rf=1e6, t_pi_rf=30.35e-6, amp_rf=0.01, rf_ch='a_ch2',\n",
    "                                   dd_type=DDMethods.XY8, t_laser=1e-6, mw_sweep_speed=0.84927e12, f_ise_res=2e9,\n",
    "                                   df_mw_sweep=25e6, amp_mw_sweep=2.88e-3,\n",
    "                                   alternating=True, autosave=False, red_readout=False)\n",
    "\n",
    "qmeas = setup_ise_ramsey_dd_params(tau=350e-9, n_tau=15, n_order_dd=2, f_rf=252.4994e3, t_pi_rf=30.35e-6, amp_rf=0.125, rf_ch='a_ch2',\n",
    "                                   dd_type=DDMethods.XY4, t_laser=1e-6,\n",
    "                                   mw_sweep_speed=0.84927e12, f_ise_res=1074.3e6, df_mw_sweep=25e6, amp_mw_sweep=2.88e-3,\n",
    "                                   alternating=True, autosave=120, red_readout=False)\n",
    "\n",
    "\"\"\"\n",
    "qmeas = setup_ise_ramsey_dd_params(tau=350e-9, n_tau=15, n_order_dd=2, f_rf=252.4994e3, t_pi_rf=30.35e-6, amp_rf=0.125, rf_ch='a_ch2',\n",
    "                                   dd_type=DDMethods.XY4, t_laser=1e-6,\n",
    "                                   mw_sweep_speed=0.84927e12, f_ise_res=1474.3e6, df_mw_sweep=25e6, amp_mw_sweep=2.88e-3,\n",
    "                                   alternating=True, autosave=120, red_readout=False)\n",
    "\"\"\"\n",
    "qmeas"
   ]
  },
  {
   "cell_type": "code",
   "execution_count": 119,
   "metadata": {},
   "outputs": [],
   "source": [
    "run_generic(qmeas)"
   ]
  },
  {
   "cell_type": "markdown",
   "metadata": {},
   "source": [
    "# Auto pilot multiple NVs"
   ]
  },
  {
   "cell_type": "code",
   "execution_count": 251,
   "metadata": {},
   "outputs": [
    {
     "data": {
      "text/plain": [
       "['poi_20211011113515406515', 'poi_20211011113603991686', 'poi_20211011113645632401', 'poi_20211011113737786086', 'poi_20211011113818114276', 'poi_20211011113858083540', 'poi_20211011113933053513', 'poi_20211011114103143062', 'poi_20211011114152033021', 'poi_20211011114239654625']"
      ]
     },
     "execution_count": 251,
     "metadata": {},
     "output_type": "execute_result"
    }
   ],
   "source": [
    "poimanagerlogic.poi_names[8:]"
   ]
  },
  {
   "cell_type": "code",
   "execution_count": 278,
   "metadata": {},
   "outputs": [],
   "source": [
    "# In order to stop the automized measurement insert pulsedmasterlogic.break_variable = True into manager\n",
    "\n",
    "uglobals.abort.clear()\n",
    "qmeas=OrderedDict()\n",
    "# Either specify a list with points of interest or take all poi from the current ROI (use empty list)\n",
    "#qmeas['list_pois'] = []\n",
    "qmeas['list_pois'] = poimanagerlogic.poi_names[8:]\n",
    "qmeas['generate_new'] = True\n",
    "qmeas['no_optimize'] = True\n",
    "logger.info(\"Autopilot is taking of for pois {}\".format(qmeas['list_pois']))\n",
    "# Create another dictionary for the experiments and parameters\n",
    "autoexp=OrderedDict()\n",
    "# Then specify all necessary experiment and parameters\n",
    "\n",
    "\n",
    "# optional parameters \n",
    "qmeas['optimize_between_experiments'] = False\n",
    "\n",
    "\n",
    "#Experiment1\n",
    "# need to specify for the automatic update\n",
    "f_step_odmr_fine=100e3\n",
    "n_f_odmr_fine=100\n",
    "\n",
    "#\"\"\"\n",
    "experiment1 = 'pODMR'\n",
    "qexp =  setup_podmr_params(f_res=common.mw_freq, p_scale=1, f_step=1500e3, n_f=100)\n",
    "\n",
    "qexp['type'] = 'pulsedodmr'\n",
    "qexp['measurement_time'] = 20\n",
    "qexp['optimize_time'] = None\n",
    "qexp['freq_optimize_time'] = None\n",
    "qexp['generate_new'] = True\n",
    "qexp['meas_type'] = conventional_measurement\n",
    "qexp['meas_info'] = add_conventional_information\n",
    "# if empty  or commented out, no fit is used\n",
    "qexp['fit_experiment'] = 'lor_dip'\n",
    "qexp['fit_parameter'] = 'Position'\n",
    "qexp['update_parameters'] = {'Rabi': 'microwave_frequency',\n",
    "                             'Hahn_Echo': 'microwave_frequency',\n",
    "                             'Ramsey': 'microwave_frequency',\n",
    "                             'pODMR_fine': {'target_name': 'freq_start',\n",
    "                                            'func': f\"_x_ - 0.5*({f_step_odmr_fine}*{n_f_odmr_fine})\"}\n",
    "                            }\n",
    "autoexp[experiment1] = copy.deepcopy(qexp)\n",
    "\n",
    "#\"\"\"\n",
    "#Experiment2\n",
    "#\"\"\"\n",
    "\n",
    "experiment2 = 'Rabi'\n",
    "qexp = setup_rabi_params(tau_step=2.5*common.rabi_period/50)\n",
    "qexp['type'] = 'rabi'\n",
    "qexp['measurement_time'] = 30#2*60\n",
    "qexp['meas_type'] = conventional_measurement\n",
    "qexp['meas_info'] = add_conventional_information\n",
    "\n",
    "qexp['optimize_time'] = None\n",
    "qexp['freq_optimize_time'] = None\n",
    "\n",
    "# if empty  or commented out, no fit is used\n",
    "qexp['fit_experiment'] = 'sine'\n",
    "qexp['fit_parameter'] = 'Period'\n",
    "qexp['update_parameters'] = {'Ramsey': 'rabi_period',\n",
    "                             'Hahn_Echo': 'rabi_period',\n",
    "                             'pODMR_fine': 'rabi_period'}  # feed forware parameters\n",
    "\n",
    "autoexp[experiment2] = copy.deepcopy(qexp)\n",
    "\n",
    "\n",
    "#\"\"\"\n",
    "#Experiment2\n",
    "#\"\"\"\n",
    "\"\"\"\n",
    "experiment3 = 'Hahn_Echo'\n",
    "#qexp = setup_hahn_params(tau_start=10e-9, n_tau=50, tau_step=0.2e-6, alternating=True)\n",
    "#\n",
    "#qexp = setup_hahn_params(tau_start=10e-9, n_tau=150, tau_step=125e-9, alternating=True)\n",
    "qexp = setup_hahn_params(tau_start=10e-9, n_tau=75, tau_step=500e-9, alternating=True)\n",
    "qexp['type'] = 'hahnecho'\n",
    "qexp['measurement_time'] = 10*60\n",
    "qexp['meas_type'] = conventional_measurement\n",
    "qexp['meas_info'] = add_conventional_information\n",
    "\n",
    "qexp['optimize_time'] = None\n",
    "qexp['freq_optimize_time'] = None\n",
    "\n",
    "# if empty  or commented out, no fit is used\n",
    "qexp['fit_experiment'] = 'decay'\n",
    "qexp['fit_parameter'] = 'Lifetime'\n",
    "\n",
    "autoexp[experiment3] = copy.deepcopy(qexp)\n",
    "\"\"\"\n",
    "\n",
    "\n",
    "\n",
    "#Experiment4\n",
    "#\"\"\"\n",
    "experiment4 = 'Ramsey'\n",
    "qexp = setup_ramsey_params(tau_start=50e-9, n_tau=200, tau_step=25e-9)  # res= 50 kHz \n",
    "qexp['type'] = 'ramsey'\n",
    "qexp['measurement_time'] = 240\n",
    "qexp['alternating'] = True\n",
    "qexp['generate_new'] = True\n",
    "qexp['meas_type'] = conventional_measurement\n",
    "qexp['meas_info'] = add_conventional_information\n",
    "qexp['fit_experiment'] = 'sine_2x'\n",
    "autoexp[experiment4] = copy.deepcopy(qexp)\n",
    "\n",
    "#\"\"\"\n",
    "\n",
    "\"\"\"\n",
    "experiment3 = 'pODMR_fine'\n",
    "qexp =  setup_podmr_params(f_res=common.mw_freq, p_scale=15, f_step=100e3, n_f=100)\n",
    "\n",
    "qexp['type'] = 'pulsedodmr'\n",
    "qexp['measurement_time'] = 15\n",
    "qexp['optimize_time'] = None\n",
    "qexp['freq_optimize_time'] = None\n",
    "qexp['generate_new'] = True\n",
    "qexp['meas_type'] = conventional_measurement\n",
    "qexp['meas_info'] = add_conventional_information\n",
    "# if empty  or commented out, no fit is used\n",
    "qexp['fit_experiment'] = 'lor_n15'\n",
    "qexp['fit_parameter'] = 'Position'\n",
    "qexp['update_parameters'] = {'Rabi': 'microwave_frequency',\n",
    "                             'pODMR_fine':'microwave_frequency',\n",
    "                             'xy8': 'microwave_frequency',\n",
    "                             'xy8_2': 'microwave_frequency'}\n",
    "\n",
    "autoexp[experiment3] = copy.deepcopy(qexp)\n",
    "\"\"\"\n",
    "# create another dictionary for the parameters\n",
    "\"\"\"\n",
    "autoexp[experiment1]=OrderedDict()\n",
    "autoexp[experiment1]['type'] = 'pulsed_odmr'\n",
    "autoexp[experiment1]['name'] = experiment1\n",
    "autoexp[experiment1]['rabi_period'] = common.rabi_period\n",
    "autoexp[experiment1]['freq_start'] = common.mw_freq -25e6\n",
    "autoexp[experiment1]['freq_step'] = 1e6\n",
    "autoexp[experiment1]['num_of_points'] = 50\n",
    "autoexp[experiment1]['microwave_amplitude'] = common.mw_amp\n",
    "autoexp[experiment1]['measurement_time'] = 10\n",
    "autoexp[experiment1]['optimize_time'] = None\n",
    "autoexp[experiment1]['freq_optimize_time'] = None\n",
    "autoexp[experiment1]['generate_new'] = False\n",
    "autoexp[experiment1]['meas_type'] = conventional_measurement\n",
    "autoexp[experiment1]['meas_info'] = add_conventional_information\n",
    "# if empty  or commented out, no fit is used\n",
    "autoexp[experiment1]['fit_experiment'] = 'lor_neg'\n",
    "autoexp[experiment1]['fit_parameter'] = 'Position'\n",
    "autoexp[experiment1]['update_parameters'] = {'Rabi': 'microwave_frequency', 'xy8': 'microwave_frequency', 'xy8_2': 'microwave_frequency'}\n",
    "\"\"\"\n",
    "\n",
    "# broken to add experiments in loop\n",
    "#autoexp[experiment1] = copy.deepcopy(qexp)\n",
    "#\"\"\"\n",
    "\n",
    "#Experiment2\n",
    "\"\"\"\n",
    "experiment2 = 'Rabi'\n",
    "qexp = setup_rabi_params(tau_step=10e-9)\n",
    "qexp['type'] = 'rabi'\n",
    "qexp['measurement_time'] = 30\n",
    "qexp['optimize_time'] = None\n",
    "qexp['freq_optimize_time'] = None\n",
    "qexp['generate_new'] = True\n",
    "qexp['meas_type'] = conventional_measurement\n",
    "qexp['meas_info'] = add_conventional_information\n",
    "# if empty  or commented out, no fit is used\n",
    "qexp['fit_experiment'] = 'sine'\n",
    "qexp['fit_parameter'] = 'Period'\n",
    "qexp['update_parameters'] = {'ramsey': 'rabi_period'}  # feed forware parameters\n",
    "autoexp[experiment2] = copy.deepcopy(qexp)\n",
    "\n",
    "#Experiment3\n",
    "experiment3 = 'ramsey'\n",
    "qexp = setup_ramsey_params(tau_start=50e-9, n_tau=400, tau_step=50e-9)  # res= 50 kHz \n",
    "qexp['type'] = 'ramsey'\n",
    "qexp['measurement_time'] = 120\n",
    "qexp['generate_new'] = True\n",
    "qexp['meas_type'] = conventional_measurement\n",
    "qexp['meas_info'] = add_conventional_information\n",
    "qexp['fit_experiment'] = 'double_sine_decay'\n",
    "autoexp[experiment3] = copy.deepcopy(qexp)\n",
    "\n",
    "\n",
    "\"\"\"\n",
    "\n",
    "laser_off()\n",
    "do_automized_measurements(qm_dict=qmeas, autoexp=autoexp)\n",
    "\n",
    "\n"
   ]
  },
  {
   "cell_type": "code",
   "execution_count": 320,
   "metadata": {},
   "outputs": [
    {
     "data": {
      "text/plain": [
       "'poi_20210720135257025577'"
      ]
     },
     "execution_count": 320,
     "metadata": {},
     "output_type": "execute_result"
    }
   ],
   "source": [
    "poimanagerlogic.poi_names[-1]"
   ]
  },
  {
   "cell_type": "code",
   "execution_count": 434,
   "metadata": {},
   "outputs": [
    {
     "data": {
      "text/plain": [
       "OrderedDict([('name', 'hahnecho'), ('rabi_period', 5.35e-08), ('microwave_frequency', 2776000000.0), ('microwave_amplitude', 0.25), ('tau_start', 1e-08), ('tau_step', 2e-07), ('num_of_points', 50), ('alternating', True), ('optimize_time', None), ('fit_experiment', 'exp')])"
      ]
     },
     "execution_count": 434,
     "metadata": {},
     "output_type": "execute_result"
    }
   ],
   "source": [
    "qmeas"
   ]
  },
  {
   "cell_type": "code",
   "execution_count": null,
   "metadata": {},
   "outputs": [],
   "source": []
  }
 ],
 "metadata": {
  "celltoolbar": "Raw Cell Format",
  "kernelspec": {
   "display_name": "Qudi",
   "language": "python",
   "name": "qudi"
  },
  "language_info": {
   "codemirror_mode": {
    "name": "ipython",
    "version": "3.6.5"
   },
   "file_extension": ".py",
   "mimetype": "text/x-python",
   "name": "python",
   "nbconvert_exporter": "python",
   "pygments_lexer": "ipython3",
   "version": "3.6.5"
  },
  "pycharm": {
   "stem_cell": {
    "cell_type": "raw",
    "metadata": {
     "collapsed": false
    },
    "source": []
   }
  },
  "toc": {
   "base_numbering": 1,
   "nav_menu": {},
   "number_sections": true,
   "sideBar": true,
   "skip_h1_title": false,
   "title_cell": "Table of Contents",
   "title_sidebar": "Contents",
   "toc_cell": false,
   "toc_position": {
    "height": "calc(100% - 180px)",
    "left": "10px",
    "top": "150px",
    "width": "341px"
   },
   "toc_section_display": true,
   "toc_window_display": true
  },
  "varInspector": {
   "cols": {
    "lenName": 16,
    "lenType": 16,
    "lenVar": 40
   },
   "kernels_config": {
    "python": {
     "delete_cmd_postfix": "",
     "delete_cmd_prefix": "del ",
     "library": "var_list.py",
     "varRefreshCmd": "print(var_dic_list())"
    },
    "r": {
     "delete_cmd_postfix": ") ",
     "delete_cmd_prefix": "rm(",
     "library": "var_list.r",
     "varRefreshCmd": "cat(var_dic_list()) "
    }
   },
   "position": {
    "height": "807px",
    "left": "1717px",
    "right": "20px",
    "top": "129px",
    "width": "350px"
   },
   "types_to_exclude": [
    "module",
    "function",
    "builtin_function_or_method",
    "instance",
    "_Feature"
   ],
   "window_display": true
  }
 },
 "nbformat": 4,
 "nbformat_minor": 1
}
