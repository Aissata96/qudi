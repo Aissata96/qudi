{
 "cells": [
  {
   "cell_type": "code",
   "execution_count": 5,
   "metadata": {},
   "outputs": [],
   "source": [
    "import pandas as pd\n",
    "import os.path\n",
    "from core.util.math import compute_ft"
   ]
  },
  {
   "cell_type": "code",
   "execution_count": 137,
   "metadata": {},
   "outputs": [],
   "source": [
    "def load_pulsed_result(fname):\n",
    "    \"\"\"\n",
    "    shaddows analysis snippets\n",
    "    \"\"\"\n",
    "\n",
    "    mes = pd.read_csv(fname, sep=\"\\t\", comment='#', names=[\"tau\", \"z1\", \"z2\", \"std1\", \"std2\"])\n",
    "\n",
    "    return mes\n",
    "\n",
    "def setup_clear_plots(n_plots):\n",
    "    n_cur = qdplotlogic.number_of_plots\n",
    "    for i in range(n_cur):\n",
    "        n_cur_i = qdplotlogic.number_of_plots\n",
    "        if n_cur_i >= 1:\n",
    "            # removing without arguments seems buggy\n",
    "            qdplotlogic.remove_plot(n_cur_i-1)\n",
    "    \n",
    "    for i in range(n_plots):\n",
    "        qdplotlogic.add_plot()"
   ]
  },
  {
   "cell_type": "markdown",
   "metadata": {},
   "source": [
    "# Load qudi pulsed data"
   ]
  },
  {
   "cell_type": "code",
   "execution_count": 194,
   "metadata": {},
   "outputs": [
    {
     "data": {
      "text/plain": [
       "0"
      ]
     },
     "execution_count": 194,
     "metadata": {},
     "output_type": "execute_result"
    }
   ],
   "source": [
    "fname = r\"E:\\Data\\2021\\06\\20210622\\PulsedMeasurement\" + \"\\\\\" \\\n",
    "        + \"20210622-1350-12_ramsey_deer_pi_df=3MHz_two_deer_pi_OffRes_pulsed_measurement.dat\"\n",
    "\n",
    "fname = os.path.normpath(fname)\n",
    "p_data = load_pulsed_result(fname)\n",
    "0"
   ]
  },
  {
   "cell_type": "markdown",
   "metadata": {},
   "source": [
    "# Plot in qudi plot"
   ]
  },
  {
   "cell_type": "markdown",
   "metadata": {},
   "source": [
    "Need to activate qdplotgui first!"
   ]
  },
  {
   "cell_type": "markdown",
   "metadata": {},
   "source": [
    "## Alternating: z1,z2; Delta (z1-z2); FFT(Delta) trace"
   ]
  },
  {
   "cell_type": "code",
   "execution_count": 349,
   "metadata": {},
   "outputs": [
    {
     "data": {
      "text/plain": [
       "0"
      ]
     },
     "execution_count": 349,
     "metadata": {},
     "output_type": "execute_result"
    }
   ],
   "source": [
    "x = np.asarray(p_data['tau'])\n",
    "z1 =  np.asarray(p_data['z1'])\n",
    "z2 = np.asarray(p_data['z2'])\n",
    "fft_x, fft_delta = compute_ft(x_val=x,\n",
    "                          y_val=z1-z2)\n",
    "\n",
    "qdplotlogic.set_data(x, z1)\n",
    "qdplotlogic.set_data(x, z2, clear_old=False)\n",
    "\n",
    "qdplotlogic.set_data(x, z1-z2, plot_index=1)\n",
    "\n",
    "qdplotlogic.set_data(fft_x, fft_delta, plot_index=2)\n"
   ]
  },
  {
   "cell_type": "markdown",
   "metadata": {},
   "source": [
    "## Double alternating"
   ]
  },
  {
   "cell_type": "markdown",
   "metadata": {},
   "source": [
    "Four z per tau [(tau_i, tau_i, tau_i, tau_i), (tau_i+1, tau_i+1, ...), ..]:\n",
    "\n",
    "\n",
    "    tau_i_1: normal        | -> z1  \n",
    "    tau_i_2: normal 3pi2   |\n",
    "    tau_i_3: no DEER pi    | -> z2\n",
    "    tau_i_4: no DEER 3pi2  |\n",
    "\n",
    "\n"
   ]
  },
  {
   "cell_type": "code",
   "execution_count": 197,
   "metadata": {},
   "outputs": [
    {
     "data": {
      "text/plain": [
       "0"
      ]
     },
     "execution_count": 197,
     "metadata": {},
     "output_type": "execute_result"
    }
   ],
   "source": [
    "x = np.asarray(p_data['tau'])[::2]\n",
    "z_raw_1 =  np.asarray(p_data['z1'])   # tau_i_1, tau_i_3\n",
    "z_raw_2 = np.asarray(p_data['z2'])    # tau_i_2, tau_i_4\n",
    "delta_raw = z_raw_1-z_raw_2\n",
    "z1 = delta_raw[::2]  # deer\n",
    "z2 = delta_raw[1::2] # no deer\n",
    "delta = z1-z2\n",
    "\n",
    "fft_x, fft_z1 = compute_ft(x_val=x,\n",
    "                          y_val=z1)\n",
    "fft_x, fft_z2 = compute_ft(x_val=x,\n",
    "                          y_val=z2)\n",
    "\n",
    "setup_clear_plots(3)\n",
    "\n",
    "#qdplotlogic.set_data(x, z1)\n",
    "#qdplotlogic.set_data(x, z2, clear_old=False)\n",
    "#qdplotlogic.set_title(\"Z1: DEER, Z2: no DEER\")\n",
    "\n",
    "qdplotlogic.set_data(x, z2)\n",
    "qdplotlogic.set_data(x, z1, clear_old=False)\n",
    "qdplotlogic.set_title(\"Z1: no DEER, Z2: DEER\")\n",
    "\n",
    "qdplotlogic.set_data(fft_x, fft_z1, plot_index=1)\n",
    "qdplotlogic.set_title(\"FFT(DEER)\", plot_index=1)\n",
    "qdplotlogic.set_data(fft_x, fft_z2, plot_index=2)\n",
    "qdplotlogic.set_title(\"FFT(no DEER)\", plot_index=2)\n",
    "0"
   ]
  },
  {
   "cell_type": "markdown",
   "metadata": {},
   "source": [
    "### Single z1, z2 for deer, no deer"
   ]
  },
  {
   "cell_type": "code",
   "execution_count": 185,
   "metadata": {},
   "outputs": [],
   "source": [
    "detail_nodeer_plot = False\n",
    "detail_deer_plot = not detail_nodeer_plot\n",
    "\n",
    "# plot pi2, 3pi2: DEER\n",
    "z_deer = z_raw_1[::2]\n",
    "z_deer_3pi2 = z_raw_2[::2]\n",
    "\n",
    "#  plot pi2, 3pi2: no DEER\n",
    "z_nodeer = z_raw_1[1::2]\n",
    "z_nodeer_3pi2 = z_raw_2[1::2]\n",
    "\n",
    "if detail_deer_plot:\n",
    "    z1 = z_deer\n",
    "    z2 = z_deer_3pi2\n",
    "if detail_nodeer_plot:\n",
    "    z1 = z_nodeer\n",
    "    z2 = z_nodeer_3pi2\n",
    "\n",
    "setup_clear_plots(5)\n",
    "    \n",
    "qdplotlogic.set_data(x, z1)\n",
    "qdplotlogic.set_data(x, z2, clear_old=False)\n",
    "qdplotlogic.set_title(\"Z1: pi2 read, Z2: 3pi2 read\")\n",
    "qdplotlogic.set_data(x, z1-z2, plot_index=1)\n",
    "qdplotlogic.set_title(\"Delta: Z1-Z2\", plot_index=1)\n",
    "\n",
    "fft_x, fft_z1 = compute_ft(x_val=x,\n",
    "                          y_val=z1)\n",
    "fft_x, fft_z2 = compute_ft(x_val=x,\n",
    "                          y_val=z2)\n",
    "fft_x, fft_delta = compute_ft(x_val=x,\n",
    "                          y_val=z1-z2)\n",
    "\n",
    "qdplotlogic.set_data(fft_x, fft_z1, plot_index=2)\n",
    "qdplotlogic.set_title(\"FFT(Z1)\", plot_index=2)\n",
    "qdplotlogic.set_data(fft_x, fft_z2, plot_index=3)\n",
    "qdplotlogic.set_title(\"FFT(Z2)\", plot_index=3)\n",
    "qdplotlogic.set_data(fft_x, fft_delta, plot_index=4)\n",
    "qdplotlogic.set_title(\"FFT(Z1-Z2)\", plot_index=4)"
   ]
  },
  {
   "cell_type": "code",
   "execution_count": 35,
   "metadata": {},
   "outputs": [],
   "source": []
  },
  {
   "cell_type": "code",
   "execution_count": null,
   "metadata": {},
   "outputs": [],
   "source": []
  }
 ],
 "metadata": {
  "kernelspec": {
   "display_name": "Qudi",
   "language": "python",
   "name": "qudi"
  },
  "language_info": {
   "codemirror_mode": {
    "name": "ipython",
    "version": "3.6.5"
   },
   "file_extension": ".py",
   "mimetype": "text/x-python",
   "name": "python",
   "nbconvert_exporter": "python",
   "pygments_lexer": "ipython3",
   "version": "3.6.5"
  },
  "toc": {
   "base_numbering": 1,
   "nav_menu": {},
   "number_sections": true,
   "sideBar": true,
   "skip_h1_title": false,
   "title_cell": "Table of Contents",
   "title_sidebar": "Contents",
   "toc_cell": false,
   "toc_position": {},
   "toc_section_display": true,
   "toc_window_display": false
  },
  "varInspector": {
   "cols": {
    "lenName": 16,
    "lenType": 16,
    "lenVar": 40
   },
   "kernels_config": {
    "python": {
     "delete_cmd_postfix": "",
     "delete_cmd_prefix": "del ",
     "library": "var_list.py",
     "varRefreshCmd": "print(var_dic_list())"
    },
    "r": {
     "delete_cmd_postfix": ") ",
     "delete_cmd_prefix": "rm(",
     "library": "var_list.r",
     "varRefreshCmd": "cat(var_dic_list()) "
    }
   },
   "position": {
    "height": "792px",
    "left": "1550px",
    "right": "20px",
    "top": "120px",
    "width": "350px"
   },
   "types_to_exclude": [
    "module",
    "function",
    "builtin_function_or_method",
    "instance",
    "_Feature"
   ],
   "window_display": true
  }
 },
 "nbformat": 4,
 "nbformat_minor": 2
}
